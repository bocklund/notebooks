{
 "cells": [
  {
   "cell_type": "markdown",
   "metadata": {},
   "source": [
    "Miscibility Gaps\n",
    "=========\n",
    "\n"
   ]
  },
  {
   "cell_type": "code",
   "execution_count": 1,
   "metadata": {},
   "outputs": [
    {
     "data": {
      "text/html": [
       "\n",
       "    <div class=\"bk-root\">\n",
       "        <a href=\"http://bokeh.pydata.org\" target=\"_blank\" class=\"bk-logo bk-logo-small bk-logo-notebook\"></a>\n",
       "        <span id=\"befc028b-9ebe-45b2-8356-84ec0451da36\">Loading BokehJS ...</span>\n",
       "    </div>"
      ]
     },
     "metadata": {},
     "output_type": "display_data"
    },
    {
     "data": {
      "application/javascript": [
       "\n",
       "(function(global) {\n",
       "  function now() {\n",
       "    return new Date();\n",
       "  }\n",
       "\n",
       "  var force = true;\n",
       "\n",
       "  if (typeof (window._bokeh_onload_callbacks) === \"undefined\" || force === true) {\n",
       "    window._bokeh_onload_callbacks = [];\n",
       "    window._bokeh_is_loading = undefined;\n",
       "  }\n",
       "\n",
       "\n",
       "  \n",
       "  if (typeof (window._bokeh_timeout) === \"undefined\" || force === true) {\n",
       "    window._bokeh_timeout = Date.now() + 5000;\n",
       "    window._bokeh_failed_load = false;\n",
       "  }\n",
       "\n",
       "  var NB_LOAD_WARNING = {'data': {'text/html':\n",
       "     \"<div style='background-color: #fdd'>\\n\"+\n",
       "     \"<p>\\n\"+\n",
       "     \"BokehJS does not appear to have successfully loaded. If loading BokehJS from CDN, this \\n\"+\n",
       "     \"may be due to a slow or bad network connection. Possible fixes:\\n\"+\n",
       "     \"</p>\\n\"+\n",
       "     \"<ul>\\n\"+\n",
       "     \"<li>re-rerun `output_notebook()` to attempt to load from CDN again, or</li>\\n\"+\n",
       "     \"<li>use INLINE resources instead, as so:</li>\\n\"+\n",
       "     \"</ul>\\n\"+\n",
       "     \"<code>\\n\"+\n",
       "     \"from bokeh.resources import INLINE\\n\"+\n",
       "     \"output_notebook(resources=INLINE)\\n\"+\n",
       "     \"</code>\\n\"+\n",
       "     \"</div>\"}};\n",
       "\n",
       "  function display_loaded() {\n",
       "    if (window.Bokeh !== undefined) {\n",
       "      var el = document.getElementById(\"befc028b-9ebe-45b2-8356-84ec0451da36\");\n",
       "      el.textContent = \"BokehJS \" + Bokeh.version + \" successfully loaded.\";\n",
       "    } else if (Date.now() < window._bokeh_timeout) {\n",
       "      setTimeout(display_loaded, 100)\n",
       "    }\n",
       "  }\n",
       "\n",
       "  function run_callbacks() {\n",
       "    try {\n",
       "      window._bokeh_onload_callbacks.forEach(function(callback) { callback() });\n",
       "    }\n",
       "    finally {\n",
       "      delete window._bokeh_onload_callbacks\n",
       "    }\n",
       "    console.info(\"Bokeh: all callbacks have finished\");\n",
       "  }\n",
       "\n",
       "  function load_libs(js_urls, callback) {\n",
       "    window._bokeh_onload_callbacks.push(callback);\n",
       "    if (window._bokeh_is_loading > 0) {\n",
       "      console.log(\"Bokeh: BokehJS is being loaded, scheduling callback at\", now());\n",
       "      return null;\n",
       "    }\n",
       "    if (js_urls == null || js_urls.length === 0) {\n",
       "      run_callbacks();\n",
       "      return null;\n",
       "    }\n",
       "    console.log(\"Bokeh: BokehJS not loaded, scheduling load and callback at\", now());\n",
       "    window._bokeh_is_loading = js_urls.length;\n",
       "    for (var i = 0; i < js_urls.length; i++) {\n",
       "      var url = js_urls[i];\n",
       "      var s = document.createElement('script');\n",
       "      s.src = url;\n",
       "      s.async = false;\n",
       "      s.onreadystatechange = s.onload = function() {\n",
       "        window._bokeh_is_loading--;\n",
       "        if (window._bokeh_is_loading === 0) {\n",
       "          console.log(\"Bokeh: all BokehJS libraries loaded\");\n",
       "          run_callbacks()\n",
       "        }\n",
       "      };\n",
       "      s.onerror = function() {\n",
       "        console.warn(\"failed to load library \" + url);\n",
       "      };\n",
       "      console.log(\"Bokeh: injecting script tag for BokehJS library: \", url);\n",
       "      document.getElementsByTagName(\"head\")[0].appendChild(s);\n",
       "    }\n",
       "  };var element = document.getElementById(\"befc028b-9ebe-45b2-8356-84ec0451da36\");\n",
       "  if (element == null) {\n",
       "    console.log(\"Bokeh: ERROR: autoload.js configured with elementid 'befc028b-9ebe-45b2-8356-84ec0451da36' but no matching script tag was found. \")\n",
       "    return false;\n",
       "  }\n",
       "\n",
       "  var js_urls = [\"https://cdn.pydata.org/bokeh/release/bokeh-0.12.6.min.js\", \"https://cdn.pydata.org/bokeh/release/bokeh-widgets-0.12.6.min.js\"];\n",
       "\n",
       "  var inline_js = [\n",
       "    function(Bokeh) {\n",
       "      Bokeh.set_log_level(\"info\");\n",
       "    },\n",
       "    \n",
       "    function(Bokeh) {\n",
       "      \n",
       "    },\n",
       "    \n",
       "    function(Bokeh) {\n",
       "      \n",
       "      document.getElementById(\"befc028b-9ebe-45b2-8356-84ec0451da36\").textContent = \"BokehJS is loading...\";\n",
       "    },\n",
       "    function(Bokeh) {\n",
       "      console.log(\"Bokeh: injecting CSS: https://cdn.pydata.org/bokeh/release/bokeh-0.12.6.min.css\");\n",
       "      Bokeh.embed.inject_css(\"https://cdn.pydata.org/bokeh/release/bokeh-0.12.6.min.css\");\n",
       "      console.log(\"Bokeh: injecting CSS: https://cdn.pydata.org/bokeh/release/bokeh-widgets-0.12.6.min.css\");\n",
       "      Bokeh.embed.inject_css(\"https://cdn.pydata.org/bokeh/release/bokeh-widgets-0.12.6.min.css\");\n",
       "    }\n",
       "  ];\n",
       "\n",
       "  function run_inline_js() {\n",
       "    \n",
       "    if ((window.Bokeh !== undefined) || (force === true)) {\n",
       "      for (var i = 0; i < inline_js.length; i++) {\n",
       "        inline_js[i](window.Bokeh);\n",
       "      }if (force === true) {\n",
       "        display_loaded();\n",
       "      }} else if (Date.now() < window._bokeh_timeout) {\n",
       "      setTimeout(run_inline_js, 100);\n",
       "    } else if (!window._bokeh_failed_load) {\n",
       "      console.log(\"Bokeh: BokehJS failed to load within specified timeout.\");\n",
       "      window._bokeh_failed_load = true;\n",
       "    } else if (force !== true) {\n",
       "      var cell = $(document.getElementById(\"befc028b-9ebe-45b2-8356-84ec0451da36\")).parents('.cell').data().cell;\n",
       "      cell.output_area.append_execute_result(NB_LOAD_WARNING)\n",
       "    }\n",
       "\n",
       "  }\n",
       "\n",
       "  if (window._bokeh_is_loading === 0) {\n",
       "    console.log(\"Bokeh: BokehJS loaded, going straight to plotting\");\n",
       "    run_inline_js();\n",
       "  } else {\n",
       "    load_libs(js_urls, function() {\n",
       "      console.log(\"Bokeh: BokehJS plotting callback run at\", now());\n",
       "      run_inline_js();\n",
       "    });\n",
       "  }\n",
       "}(this));"
      ]
     },
     "metadata": {},
     "output_type": "display_data"
    }
   ],
   "source": [
    "import warnings\n",
    "warnings.simplefilter('ignore')  # ignore warnings for nicer output\n",
    "import numpy as np\n",
    "from sympy import symbols, log, lambdify, solve\n",
    "import scipy.constants \n",
    "from ipywidgets import interact\n",
    "from bokeh.io import push_notebook, show, output_notebook\n",
    "from bokeh.plotting import figure\n",
    "from bokeh.models import Span, layouts\n",
    "output_notebook()"
   ]
  },
  {
   "cell_type": "markdown",
   "metadata": {},
   "source": [
    "We define a function `G` that returns $G$ for a given phase. $G$ is given as a regular solution for a binary A, B system. The mixing enthalpy, $H_\\textrm{mix}$, is a changable paramter (`Hmix`). The entropy, $S$, could concievably be modeled in several ways, but here a simple ideal mixing approximation is substituted."
   ]
  },
  {
   "cell_type": "code",
   "execution_count": 2,
   "metadata": {
    "collapsed": true
   },
   "outputs": [],
   "source": [
    "# define the Gibbs free energy symbolically\n",
    "ua, ub, S, Hmix, T, xb = symbols('ua ub S Hmix T xb')\n",
    "xa = 1 - xb\n",
    "G = ua*xa + ub*xb + Hmix*xa*xb - T*S\n",
    "\n",
    "\n",
    "# define the ideal mixing entropy and substitute that in our Gibbs energy function\n",
    "ideal_mixing_entropy = -scipy.constants.R*(xa*log(xa)+xb*log(xb))\n",
    "G = G.subs(S, ideal_mixing_entropy)"
   ]
  },
  {
   "cell_type": "markdown",
   "metadata": {},
   "source": [
    "Next we will create a plotting domain for $x_\\textrm{B}$ and create a plot with widgets that allow the temperature, mixing enthalpy, and chemical potentials of the pure elements, $\\mu_\\textrm{A}$ and $\\mu_\\textrm{B}$, to be changed.\n",
    "\n",
    "There are two plots below. The first is the free energy curve for the phase that is controlled by the temperature, mixing enthalpy and chemical potential sliders.\n",
    "\n",
    "The bottom plot is the phase diagram for the phase. It plots the miscibility gap, if there is one. If there is no miscibility gap, the plot will be blank. The horizontal line indicates the temperature of the free energy curve.\n",
    "\n",
    "**Note: the root finding is currently broken for negative mixing enthalpies and the phase diagram will plot faulty lines**"
   ]
  },
  {
   "cell_type": "code",
   "execution_count": 3,
   "metadata": {},
   "outputs": [
    {
     "data": {
      "text/html": [
       "\n",
       "\n",
       "    <div class=\"bk-root\">\n",
       "        <div class=\"bk-plotdiv\" id=\"d58abfd6-4325-4134-80d1-fb7586deb937\"></div>\n",
       "    </div>\n",
       "<script type=\"text/javascript\">\n",
       "  \n",
       "  (function(global) {\n",
       "    function now() {\n",
       "      return new Date();\n",
       "    }\n",
       "  \n",
       "    var force = false;\n",
       "  \n",
       "    if (typeof (window._bokeh_onload_callbacks) === \"undefined\" || force === true) {\n",
       "      window._bokeh_onload_callbacks = [];\n",
       "      window._bokeh_is_loading = undefined;\n",
       "    }\n",
       "  \n",
       "  \n",
       "    \n",
       "    if (typeof (window._bokeh_timeout) === \"undefined\" || force === true) {\n",
       "      window._bokeh_timeout = Date.now() + 0;\n",
       "      window._bokeh_failed_load = false;\n",
       "    }\n",
       "  \n",
       "    var NB_LOAD_WARNING = {'data': {'text/html':\n",
       "       \"<div style='background-color: #fdd'>\\n\"+\n",
       "       \"<p>\\n\"+\n",
       "       \"BokehJS does not appear to have successfully loaded. If loading BokehJS from CDN, this \\n\"+\n",
       "       \"may be due to a slow or bad network connection. Possible fixes:\\n\"+\n",
       "       \"</p>\\n\"+\n",
       "       \"<ul>\\n\"+\n",
       "       \"<li>re-rerun `output_notebook()` to attempt to load from CDN again, or</li>\\n\"+\n",
       "       \"<li>use INLINE resources instead, as so:</li>\\n\"+\n",
       "       \"</ul>\\n\"+\n",
       "       \"<code>\\n\"+\n",
       "       \"from bokeh.resources import INLINE\\n\"+\n",
       "       \"output_notebook(resources=INLINE)\\n\"+\n",
       "       \"</code>\\n\"+\n",
       "       \"</div>\"}};\n",
       "  \n",
       "    function display_loaded() {\n",
       "      if (window.Bokeh !== undefined) {\n",
       "        var el = document.getElementById(\"d58abfd6-4325-4134-80d1-fb7586deb937\");\n",
       "        el.textContent = \"BokehJS \" + Bokeh.version + \" successfully loaded.\";\n",
       "      } else if (Date.now() < window._bokeh_timeout) {\n",
       "        setTimeout(display_loaded, 100)\n",
       "      }\n",
       "    }if ((window.Jupyter !== undefined) && Jupyter.notebook.kernel) {\n",
       "      comm_manager = Jupyter.notebook.kernel.comm_manager\n",
       "      comm_manager.register_target(\"9fbb0183-7fa4-4fd1-be1e-1170d160c31b\", function () {});\n",
       "    }\n",
       "  \n",
       "    function run_callbacks() {\n",
       "      try {\n",
       "        window._bokeh_onload_callbacks.forEach(function(callback) { callback() });\n",
       "      }\n",
       "      finally {\n",
       "        delete window._bokeh_onload_callbacks\n",
       "      }\n",
       "      console.info(\"Bokeh: all callbacks have finished\");\n",
       "    }\n",
       "  \n",
       "    function load_libs(js_urls, callback) {\n",
       "      window._bokeh_onload_callbacks.push(callback);\n",
       "      if (window._bokeh_is_loading > 0) {\n",
       "        console.log(\"Bokeh: BokehJS is being loaded, scheduling callback at\", now());\n",
       "        return null;\n",
       "      }\n",
       "      if (js_urls == null || js_urls.length === 0) {\n",
       "        run_callbacks();\n",
       "        return null;\n",
       "      }\n",
       "      console.log(\"Bokeh: BokehJS not loaded, scheduling load and callback at\", now());\n",
       "      window._bokeh_is_loading = js_urls.length;\n",
       "      for (var i = 0; i < js_urls.length; i++) {\n",
       "        var url = js_urls[i];\n",
       "        var s = document.createElement('script');\n",
       "        s.src = url;\n",
       "        s.async = false;\n",
       "        s.onreadystatechange = s.onload = function() {\n",
       "          window._bokeh_is_loading--;\n",
       "          if (window._bokeh_is_loading === 0) {\n",
       "            console.log(\"Bokeh: all BokehJS libraries loaded\");\n",
       "            run_callbacks()\n",
       "          }\n",
       "        };\n",
       "        s.onerror = function() {\n",
       "          console.warn(\"failed to load library \" + url);\n",
       "        };\n",
       "        console.log(\"Bokeh: injecting script tag for BokehJS library: \", url);\n",
       "        document.getElementsByTagName(\"head\")[0].appendChild(s);\n",
       "      }\n",
       "    };var element = document.getElementById(\"d58abfd6-4325-4134-80d1-fb7586deb937\");\n",
       "    if (element == null) {\n",
       "      console.log(\"Bokeh: ERROR: autoload.js configured with elementid 'd58abfd6-4325-4134-80d1-fb7586deb937' but no matching script tag was found. \")\n",
       "      return false;\n",
       "    }\n",
       "  \n",
       "    var js_urls = [];\n",
       "  \n",
       "    var inline_js = [\n",
       "      function(Bokeh) {\n",
       "        (function() {\n",
       "          var fn = function() {\n",
       "            var docs_json = {\"e8403bd8-2d24-4c31-9301-7d1111f57aa3\":{\"roots\":{\"references\":[{\"attributes\":{\"data_source\":{\"id\":\"b8dc0d0e-3fb7-48b5-91ad-4f5886546426\",\"type\":\"ColumnDataSource\"},\"glyph\":{\"id\":\"834e3e0d-49b2-4487-a870-5a8b678dd047\",\"type\":\"Line\"},\"hover_glyph\":null,\"muted_glyph\":null,\"nonselection_glyph\":{\"id\":\"70743f85-4a6a-4b37-9211-8f73ba15cde9\",\"type\":\"Line\"},\"selection_glyph\":null},\"id\":\"dc9750bc-5670-497d-923a-0a2e431654dc\",\"type\":\"GlyphRenderer\"},{\"attributes\":{\"dimension\":\"height\",\"line_color\":{\"value\":\"red\"},\"line_dash\":[6],\"line_width\":{\"value\":3},\"plot\":{\"id\":\"ed95bcbb-a590-4b77-b492-15a47996714a\",\"subtype\":\"Figure\",\"type\":\"Plot\"}},\"id\":\"df0bb003-c086-428f-991f-5f1bbad51b27\",\"type\":\"Span\"},{\"attributes\":{\"dimension\":\"height\",\"line_color\":{\"value\":\"red\"},\"line_dash\":[6],\"line_width\":{\"value\":3},\"plot\":{\"id\":\"fa109a08-58a5-4c79-918c-221bb6b10b63\",\"subtype\":\"Figure\",\"type\":\"Plot\"}},\"id\":\"e96f2600-853c-4c6b-954c-cd5bbc3f1f2b\",\"type\":\"Span\"},{\"attributes\":{\"children\":[{\"id\":\"ed95bcbb-a590-4b77-b492-15a47996714a\",\"subtype\":\"Figure\",\"type\":\"Plot\"},{\"id\":\"fa109a08-58a5-4c79-918c-221bb6b10b63\",\"subtype\":\"Figure\",\"type\":\"Plot\"}]},\"id\":\"f5e4cd00-7a54-4885-bcf5-60d8709bc5d9\",\"type\":\"Column\"},{\"attributes\":{\"dimension\":\"height\",\"line_color\":{\"value\":\"red\"},\"line_dash\":[6],\"line_width\":{\"value\":3},\"plot\":{\"id\":\"fa109a08-58a5-4c79-918c-221bb6b10b63\",\"subtype\":\"Figure\",\"type\":\"Plot\"}},\"id\":\"556ab894-257f-4770-844c-b1ca76e9a477\",\"type\":\"Span\"},{\"attributes\":{},\"id\":\"83eec748-830a-48be-8077-cb83d54ea5f8\",\"type\":\"BasicTickFormatter\"},{\"attributes\":{\"line_color\":{\"value\":\"red\"},\"line_dash\":[6],\"line_width\":{\"value\":3},\"location\":300,\"plot\":{\"id\":\"fa109a08-58a5-4c79-918c-221bb6b10b63\",\"subtype\":\"Figure\",\"type\":\"Plot\"}},\"id\":\"00030e7a-5376-4b8e-bcb2-58b15eb94ecb\",\"type\":\"Span\"},{\"attributes\":{\"below\":[{\"id\":\"1fe105ff-e236-4070-8eb8-05b06583fa53\",\"type\":\"LinearAxis\"}],\"left\":[{\"id\":\"c9241b1a-e8c7-4378-859e-57cea7b41681\",\"type\":\"LinearAxis\"}],\"plot_height\":300,\"renderers\":[{\"id\":\"1fe105ff-e236-4070-8eb8-05b06583fa53\",\"type\":\"LinearAxis\"},{\"id\":\"f3124051-8893-444f-b709-c2ed6c8eb25d\",\"type\":\"Grid\"},{\"id\":\"c9241b1a-e8c7-4378-859e-57cea7b41681\",\"type\":\"LinearAxis\"},{\"id\":\"58652304-b0da-4b08-8d21-9290e528d81c\",\"type\":\"Grid\"},{\"id\":\"14154deb-da4f-4638-8fe6-1c40c9a0a566\",\"type\":\"BoxAnnotation\"},{\"id\":\"eb8be88f-da6d-44b7-bba2-5d8f748d1ecb\",\"type\":\"GlyphRenderer\"},{\"id\":\"e96f2600-853c-4c6b-954c-cd5bbc3f1f2b\",\"type\":\"Span\"},{\"id\":\"556ab894-257f-4770-844c-b1ca76e9a477\",\"type\":\"Span\"},{\"id\":\"00030e7a-5376-4b8e-bcb2-58b15eb94ecb\",\"type\":\"Span\"}],\"title\":{\"id\":\"cb48280d-65b5-4f85-b094-3dae14538adf\",\"type\":\"Title\"},\"tool_events\":{\"id\":\"86d51410-da75-4502-b2d1-f00ee6c88ae0\",\"type\":\"ToolEvents\"},\"toolbar\":{\"id\":\"59b70224-940f-4ceb-982f-16e569fe6ddc\",\"type\":\"Toolbar\"},\"x_range\":{\"id\":\"cacd324a-f8d6-471d-b767-6fbba6b46a27\",\"type\":\"Range1d\"},\"x_scale\":{\"id\":\"b5bfe6fe-4746-4d2d-936a-d48158b1e6f5\",\"type\":\"LinearScale\"},\"y_range\":{\"id\":\"c320a4dd-d7e5-488e-ab08-bd0adc6b0315\",\"type\":\"Range1d\"},\"y_scale\":{\"id\":\"6cce217f-4e30-4ccc-bd74-23d9ba68fb7a\",\"type\":\"LinearScale\"}},\"id\":\"fa109a08-58a5-4c79-918c-221bb6b10b63\",\"subtype\":\"Figure\",\"type\":\"Plot\"},{\"attributes\":{\"data_source\":{\"id\":\"545d5402-f6f9-470a-a750-ee2f31e1985b\",\"type\":\"ColumnDataSource\"},\"glyph\":{\"id\":\"d8d2b7d9-0023-4370-8950-1172b885c0f8\",\"type\":\"Line\"},\"hover_glyph\":null,\"muted_glyph\":null,\"nonselection_glyph\":{\"id\":\"5750ec0e-a6bf-4bbc-9316-0f47fd46e79b\",\"type\":\"Line\"},\"selection_glyph\":null},\"id\":\"eb8be88f-da6d-44b7-bba2-5d8f748d1ecb\",\"type\":\"GlyphRenderer\"},{\"attributes\":{},\"id\":\"cefd5ee9-652a-492f-b8b6-9ef10d919334\",\"type\":\"BasicTickFormatter\"},{\"attributes\":{\"plot\":null,\"text\":\"Phase diagram\"},\"id\":\"cb48280d-65b5-4f85-b094-3dae14538adf\",\"type\":\"Title\"},{\"attributes\":{\"plot\":{\"id\":\"fa109a08-58a5-4c79-918c-221bb6b10b63\",\"subtype\":\"Figure\",\"type\":\"Plot\"}},\"id\":\"64b0e4f6-959a-4e2d-a5e2-6f9e6570e3ee\",\"type\":\"HelpTool\"},{\"attributes\":{\"below\":[{\"id\":\"fea64049-e229-4712-96a8-456fc64ef515\",\"type\":\"LinearAxis\"}],\"left\":[{\"id\":\"e7750263-03b9-447d-9333-f74c13317604\",\"type\":\"LinearAxis\"}],\"plot_height\":300,\"renderers\":[{\"id\":\"fea64049-e229-4712-96a8-456fc64ef515\",\"type\":\"LinearAxis\"},{\"id\":\"b329c573-71a7-412f-a0ca-b9654d771aba\",\"type\":\"Grid\"},{\"id\":\"e7750263-03b9-447d-9333-f74c13317604\",\"type\":\"LinearAxis\"},{\"id\":\"878b360e-cdf9-476a-b7da-552630b7c07d\",\"type\":\"Grid\"},{\"id\":\"75f0f386-32e7-4c68-94e2-6529d62f47e7\",\"type\":\"BoxAnnotation\"},{\"id\":\"dc9750bc-5670-497d-923a-0a2e431654dc\",\"type\":\"GlyphRenderer\"},{\"id\":\"f3da107c-1fe2-45ea-acda-d7323677df26\",\"type\":\"Span\"},{\"id\":\"df0bb003-c086-428f-991f-5f1bbad51b27\",\"type\":\"Span\"}],\"title\":{\"id\":\"8b95c9c7-7ac8-42a6-8f82-e62645dcde30\",\"type\":\"Title\"},\"tool_events\":{\"id\":\"338644aa-6c74-4f29-9ed2-5074b187b89b\",\"type\":\"ToolEvents\"},\"toolbar\":{\"id\":\"93909294-695f-466c-9a6c-6b000847e1b5\",\"type\":\"Toolbar\"},\"x_range\":{\"id\":\"7a18e5d5-cf0b-458d-8e02-25bd74862c31\",\"type\":\"Range1d\"},\"x_scale\":{\"id\":\"0d0bfd05-63e9-4190-ae9f-ecfbfb731296\",\"type\":\"LinearScale\"},\"y_range\":{\"id\":\"b518e668-9a91-4ca0-98c8-32561a2de2ac\",\"type\":\"DataRange1d\"},\"y_scale\":{\"id\":\"aa76820f-89df-4107-82e9-fa00c717d54e\",\"type\":\"LinearScale\"}},\"id\":\"ed95bcbb-a590-4b77-b492-15a47996714a\",\"subtype\":\"Figure\",\"type\":\"Plot\"},{\"attributes\":{\"plot\":null,\"text\":\"Free Energy, $G$\"},\"id\":\"8b95c9c7-7ac8-42a6-8f82-e62645dcde30\",\"type\":\"Title\"},{\"attributes\":{\"callback\":null},\"id\":\"7a18e5d5-cf0b-458d-8e02-25bd74862c31\",\"type\":\"Range1d\"},{\"attributes\":{},\"id\":\"338644aa-6c74-4f29-9ed2-5074b187b89b\",\"type\":\"ToolEvents\"},{\"attributes\":{\"line_color\":{\"value\":\"#1f77b4\"},\"line_width\":{\"value\":3},\"x\":{\"field\":\"x\"},\"y\":{\"field\":\"y\"}},\"id\":\"834e3e0d-49b2-4487-a870-5a8b678dd047\",\"type\":\"Line\"},{\"attributes\":{\"active_drag\":\"auto\",\"active_inspect\":\"auto\",\"active_scroll\":\"auto\",\"active_tap\":\"auto\",\"tools\":[{\"id\":\"8c88b4d3-ffb5-4dbd-8df1-58297ee4a53f\",\"type\":\"PanTool\"},{\"id\":\"26090d13-56b3-4657-97b0-924219e6419b\",\"type\":\"WheelZoomTool\"},{\"id\":\"6e9e286a-bce1-4741-8fcc-58f688922fbd\",\"type\":\"BoxZoomTool\"},{\"id\":\"5530a92c-feb1-4004-b6cd-43c6229df926\",\"type\":\"SaveTool\"},{\"id\":\"0150fb29-884b-407b-99aa-fa0afd5ef255\",\"type\":\"ResetTool\"},{\"id\":\"3ae798cd-9355-4171-93af-6088693adb8d\",\"type\":\"HelpTool\"}]},\"id\":\"93909294-695f-466c-9a6c-6b000847e1b5\",\"type\":\"Toolbar\"},{\"attributes\":{\"dimension\":\"height\",\"line_color\":{\"value\":\"red\"},\"line_dash\":[6],\"line_width\":{\"value\":3},\"plot\":{\"id\":\"ed95bcbb-a590-4b77-b492-15a47996714a\",\"subtype\":\"Figure\",\"type\":\"Plot\"}},\"id\":\"f3da107c-1fe2-45ea-acda-d7323677df26\",\"type\":\"Span\"},{\"attributes\":{},\"id\":\"0d0bfd05-63e9-4190-ae9f-ecfbfb731296\",\"type\":\"LinearScale\"},{\"attributes\":{\"callback\":null},\"id\":\"b518e668-9a91-4ca0-98c8-32561a2de2ac\",\"type\":\"DataRange1d\"},{\"attributes\":{},\"id\":\"aa76820f-89df-4107-82e9-fa00c717d54e\",\"type\":\"LinearScale\"},{\"attributes\":{\"callback\":null,\"column_names\":[\"x\",\"y\"],\"data\":{\"x\":{\"__ndarray__\":\"AAAAAAAAAABoBgGkgGZQP2gGAaSAZmA/nIkB9sCZaD9oBgGkgGZwPwJIAc0ggHQ/nIkB9sCZeD82ywEfYbN8P2gGAaSAZoA/NSeBuFBzgj8CSAHNIICEP89ogeHwjIY/nIkB9sCZiD9pqoEKkaaKPzbLAR9hs4w/A+yBMzHAjj9oBgGkgGaQP84WQa7obJE/NSeBuFBzkj+cN8HCuHmTPwJIAc0ggJQ/aFhB14iGlT/PaIHh8IyWPzZ5wetYk5c/nIkB9sCZmD8CmkEAKaCZP2mqgQqRppo/0LrBFPmsmz82ywEfYbOcP5zbQSnJuZ0/A+yBMzHAnj9q/ME9mcafP2gGAaSAZqA/mw4hqbTpoD/OFkGu6GyhPwIfYbMc8KE/NSeBuFBzoj9oL6G9hPaiP5w3wcK4eaM/zz/hx+z8oz8CSAHNIICkPzVQIdJUA6U/aFhB14iGpT+cYGHcvAmmP89ogeHwjKY/AnGh5iQQpz82ecHrWJOnP2mB4fCMFqg/nIkB9sCZqD/PkSH79BypPwKaQQApoKk/NqJhBV0jqj9pqoEKkaaqP5yyoQ/FKas/0LrBFPmsqz8Dw+EZLTCsPzbLAR9hs6w/adMhJJU2rT+c20EpybmtP9DjYS79PK4/A+yBMzHArj829KE4ZUOvP2r8wT2Zxq8/TgJxoeYksD9oBgGkgGawP4IKkaYaqLA/mw4hqbTpsD+1ErGrTiuxP84WQa7obLE/6BrRsIKusT8CH2GzHPCxPxsj8bW2MbI/NSeBuFBzsj9PKxG76rSyP2gvob2E9rI/gjMxwB44sz+cN8HCuHmzP7U7UcVSu7M/zz/hx+z8sz/oQ3HKhj60PwJIAc0ggLQ/HEyRz7rBtD81UCHSVAO1P09UsdTuRLU/aFhB14iGtT+CXNHZIsi1P5xgYdy8CbY/tWTx3lZLtj/PaIHh8Iy2P+lsEeSKzrY/AnGh5iQQtz8cdTHpvlG3PzZ5wetYk7c/T31R7vLUtz9pgeHwjBa4P4KFcfMmWLg/nIkB9sCZuD+2jZH4Wtu4P8+RIfv0HLk/6ZWx/Y5euT8CmkEAKaC5Pxye0QLD4bk/NqJhBV0juj9PpvEH92S6P2mqgQqRpro/g64RDSvouj+csqEPxSm7P7a2MRJfa7s/0LrBFPmsuz/pvlEXk+67PwPD4RktMLw/HMdxHMdxvD82ywEfYbO8P1DPkSH79Lw/adMhJJU2vT+D17EmL3i9P5zbQSnJub0/tt/RK2P7vT/Q42Eu/Ty+P+nn8TCXfr4/A+yBMzHAvj8d8BE2ywG/Pzb0oThlQ78/UPgxO/+Evz9q/ME9mca/P0IAKaAZBMA/TgJxoeYkwD9bBLmis0XAP2gGAaSAZsA/dQhJpU2HwD+CCpGmGqjAP44M2afnyMA/mw4hqbTpwD+oEGmqgQrBP7USsatOK8E/whT5rBtMwT/OFkGu6GzBP9sYia+1jcE/6BrRsIKuwT/1HBmyT8/BPwIfYbMc8ME/DyGptOkQwj8bI/G1tjHCPyglObeDUsI/NSeBuFBzwj9CKcm5HZTCP08rEbvqtMI/Wy1ZvLfVwj9oL6G9hPbCP3Ux6b5RF8M/gjMxwB44wz+PNXnB61jDP5w3wcK4ecM/qDkJxIWawz+1O1HFUrvDP8I9mcYf3MM/zz/hx+z8wz/cQSnJuR3EP+hDccqGPsQ/9UW5y1NfxD8CSAHNIIDEPw9KSc7toMQ/HEyRz7rBxD8oTtnQh+LEPzVQIdJUA8U/QlJp0yEkxT9PVLHU7kTFP1xW+dW7ZcU/aFhB14iGxT91WonYVafFP4Jc0dkiyMU/j14Z2+/oxT+cYGHcvAnGP6liqd2JKsY/tWTx3lZLxj/CZjngI2zGP89ogeHwjMY/3GrJ4r2txj/pbBHkis7GP/VuWeVX78Y/AnGh5iQQxz8Pc+nn8TDHPxx1Mem+Ucc/KXd56otyxz82ecHrWJPHP0J7Ce0ltMc/T31R7vLUxz9cf5nvv/XHP2mB4fCMFsg/doMp8lk3yD+ChXHzJljIP4+HufTzeMg/nIkB9sCZyD+pi0n3jbrIP7aNkfha28g/wo/Z+Sf8yD/PkSH79BzJP9yTafzBPck/6ZWx/Y5eyT/2l/n+W3/JPwKaQQApoMk/D5yJAfbAyT8cntECw+HJPymgGQSQAso/NqJhBV0jyj9DpKkGKkTKP0+m8Qf3ZMo/XKg5CcSFyj9pqoEKkabKP3asyQtex8o/g64RDSvoyj+PsFkO+AjLP5yyoQ/FKcs/qbTpEJJKyz+2tjESX2vLP8O4eRMsjMs/0LrBFPmsyz/cvAkWxs3LP+m+UReT7ss/9sCZGGAPzD8Dw+EZLTDMPxDFKRv6UMw/HMdxHMdxzD8pybkdlJLMPzbLAR9hs8w/Q81JIC7UzD9Qz5Eh+/TMP1zR2SLIFc0/adMhJJU2zT921WklYlfNP4PXsSYveM0/kNn5J/yYzT+c20EpybnNP6ndiSqW2s0/tt/RK2P7zT/D4RktMBzOP9DjYS79PM4/3eWpL8pdzj/p5/Ewl37OP/bpOTJkn84/A+yBMzHAzj8Q7sk0/uDOPx3wETbLAc8/KfJZN5gizz829KE4ZUPPP0P26TkyZM8/UPgxO/+Ezz9d+nk8zKXPP2r8wT2Zxs8/dv4JP2bnzz9CACmgGQTQP0gBzSCAFNA/TgJxoeYk0D9VAxUiTTXQP1sEuaKzRdA/YgVdIxpW0D9oBgGkgGbQP24HpSTndtA/dQhJpU2H0D97Ce0ltJfQP4IKkaYaqNA/iAs1J4G40D+ODNmn58jQP5UNfShO2dA/mw4hqbTp0D+iD8UpG/rQP6gQaaqBCtE/rhENK+ga0T+1ErGrTivRP7sTVSy1O9E/whT5rBtM0T/IFZ0tglzRP84WQa7obNE/1RflLk990T/bGImvtY3RP+IZLTAcntE/6BrRsIKu0T/vG3Ux6b7RP/UcGbJPz9E/+x29Mrbf0T8CH2GzHPDRPwggBTSDANI/DyGptOkQ0j8VIk01UCHSPxsj8bW2MdI/IiSVNh1C0j8oJTm3g1LSPy8m3TfqYtI/NSeBuFBz0j87KCU5t4PSP0IpybkdlNI/SCptOoSk0j9PKxG76rTSP1UstTtRxdI/Wy1ZvLfV0j9iLv08HubSP2gvob2E9tI/bzBFPusG0z91Mem+URfTP3syjT+4J9M/gjMxwB440z+INNVAhUjTP481ecHrWNM/lTYdQlJp0z+cN8HCuHnTP6I4ZUMfitM/qDkJxIWa0z+vOq1E7KrTP7U7UcVSu9M/vDz1RbnL0z/CPZnGH9zTP8g+PUeG7NM/zz/hx+z80z/VQIVIUw3UP9xBKcm5HdQ/4kLNSSAu1D/oQ3HKhj7UP+9EFUvtTtQ/9UW5y1Nf1D/8Rl1Mum/UPwJIAc0ggNQ/CEmlTYeQ1D8PSknO7aDUPxVL7U5UsdQ/HEyRz7rB1D8iTTVQIdLUPyhO2dCH4tQ/L099Ue7y1D81UCHSVAPVPzxRxVK7E9U/QlJp0yEk1T9IUw1UiDTVP09UsdTuRNU/VVVVVVVV1T9cVvnVu2XVP2JXnVYidtU/aFhB14iG1T9vWeVX75bVP3VaidhVp9U/fFstWby31T+CXNHZIsjVP4lddVqJ2NU/j14Z2+/o1T+VX71bVvnVP5xgYdy8CdY/omEFXSMa1j+pYqndiSrWP69jTV7wOtY/tWTx3lZL1j+8ZZVfvVvWP8JmOeAjbNY/yWfdYIp81j/PaIHh8IzWP9VpJWJXndY/3GrJ4r2t1j/ia21jJL7WP+lsEeSKztY/7221ZPHe1j/1blnlV+/WP/xv/WW+/9Y/AnGh5iQQ1z8JckVniyDXPw9z6efxMNc/FXSNaFhB1z8cdTHpvlHXPyJ21WklYtc/KXd56oty1z8veB1r8oLXPzZ5wetYk9c/PHplbL+j1z9CewntJbTXP0l8rW2MxNc/T31R7vLU1z9WfvVuWeXXP1x/me+/9dc/YoA9cCYG2D9pgeHwjBbYP2+ChXHzJtg/doMp8lk32D98hM1ywEfYP4KFcfMmWNg/iYYVdI1o2D+Ph7n083jYP5aIXXVaidg/nIkB9sCZ2D+iiqV2J6rYP6mLSfeNutg/r4ztd/TK2D+2jZH4WtvYP7yONXnB69g/wo/Z+Sf82D/JkH16jgzZP8+RIfv0HNk/1pLFe1st2T/ck2n8wT3ZP+KUDX0oTtk/6ZWx/Y5e2T/vllV+9W7ZP/aX+f5bf9k//Jidf8KP2T8CmkEAKaDZPwmb5YCPsNk/D5yJAfbA2T8WnS2CXNHZPxye0QLD4dk/I591gyny2T8poBkEkALaPy+hvYT2Eto/NqJhBV0j2j88owWGwzPaP0OkqQYqRNo/SaVNh5BU2j9PpvEH92TaP1anlYhdddo/XKg5CcSF2j9jqd2JKpbaP2mqgQqRpto/b6sli/e22j92rMkLXsfaP3ytbYzE19o/g64RDSvo2j+Jr7WNkfjaP4+wWQ74CNs/lrH9jl4Z2z+csqEPxSnbP6OzRZArOts/qbTpEJJK2z+vtY2R+FrbP7a2MRJfa9s/vLfVksV72z/DuHkTLIzbP8m5HZSSnNs/0LrBFPms2z/Wu2WVX73bP9y8CRbGzds/472tlize2z/pvlEXk+7bP/C/9Zf5/ts/9sCZGGAP3D/8wT2Zxh/cPwPD4RktMNw/CcSFmpNA3D8QxSkb+lDcPxbGzZtgYdw/HMdxHMdx3D8jyBWdLYLcPynJuR2Uktw/MMpdnvqi3D82ywEfYbPcPzzMpZ/Hw9w/Q81JIC7U3D9Jzu2glOTcP1DPkSH79Nw/VtA1omEF3T9c0dkiyBXdP2PSfaMuJt0/adMhJJU23T9w1MWk+0bdP3bVaSViV90/fNYNpshn3T+D17EmL3jdP4nYVaeViN0/kNn5J/yY3T+W2p2oYqndP5zbQSnJud0/o9zlqS/K3T+p3YkqltrdP7DeLav86t0/tt/RK2P73T+94HWsyQveP8PhGS0wHN4/yeK9rZYs3j/Q42Eu/TzeP9bkBa9jTd4/3eWpL8pd3j/j5k2wMG7eP+nn8TCXft4/8OiVsf2O3j/26TkyZJ/eP/3q3bLKr94/A+yBMzHA3j8J7SW0l9DePxDuyTT+4N4/Fu9ttWTx3j8d8BE2ywHfPyPxtbYxEt8/KfJZN5gi3z8w8/23/jLfPzb0oThlQ98/PfVFuctT3z9D9uk5MmTfP0n3jbqYdN8/UPgxO/+E3z9W+dW7ZZXfP136eTzMpd8/Y/sdvTK23z9q/ME9mcbfP3D9Zb7/1t8/dv4JP2bn3z99/62/zPffP0IAKaAZBOA/xQB74EwM4D9IAc0ggBTgP8sBH2GzHOA/TgJxoeYk4D/SAsPhGS3gP1UDFSJNNeA/2ANnYoA94D9bBLmis0XgP94EC+PmTeA/YgVdIxpW4D/lBa9jTV7gP2gGAaSAZuA/6wZT5LNu4D9uB6Uk53bgP/IH92Qaf+A/dQhJpU2H4D/4CJvlgI/gP3sJ7SW0l+A//gk/Zuef4D+CCpGmGqjgPwUL4+ZNsOA/iAs1J4G44D8LDIdntMDgP44M2afnyOA/Eg0r6BrR4D+VDX0oTtngPxgOz2iB4eA/mw4hqbTp4D8eD3Pp5/HgP6IPxSkb+uA/JRAXak4C4T+oEGmqgQrhPysRu+q0EuE/rhENK+ga4T8yEl9rGyPhP7USsatOK+E/OBMD7IEz4T+7E1UstTvhPz4Up2zoQ+E/whT5rBtM4T9FFUvtTlThP8gVnS2CXOE/SxbvbbVk4T/OFkGu6GzhP1IXk+4bdeE/1RflLk994T9YGDdvgoXhP9sYia+1jeE/Xxnb7+iV4T/iGS0wHJ7hP2Uaf3BPpuE/6BrRsIKu4T9rGyPxtbbhP+8bdTHpvuE/chzHcRzH4T/1HBmyT8/hP3gda/KC1+E/+x29Mrbf4T9/Hg9z6efhPwIfYbMc8OE/hR+z80/44T8IIAU0gwDiP4sgV3S2COI/DyGptOkQ4j+SIfv0HBniPxUiTTVQIeI/mCKfdYMp4j8bI/G1tjHiP58jQ/bpOeI/IiSVNh1C4j+lJOd2UEriPyglObeDUuI/qyWL97Za4j8vJt036mLiP7ImL3gda+I/NSeBuFBz4j+4J9P4g3viPzsoJTm3g+I/vyh3eeqL4j9CKcm5HZTiP8UpG/pQnOI/SCptOoSk4j/LKr96t6ziP08rEbvqtOI/0itj+x294j9VLLU7UcXiP9gsB3yEzeI/Wy1ZvLfV4j/fLav86t3iP2Iu/Twe5uI/5S5PfVHu4j9oL6G9hPbiP+sv8/23/uI/bzBFPusG4z/yMJd+Hg/jP3Ux6b5RF+M/+DE7/4Qf4z97Mo0/uCfjP/8y33/rL+M/gjMxwB444z8FNIMAUkDjP4g01UCFSOM/CzUngbhQ4z+PNXnB61jjPxI2ywEfYeM/lTYdQlJp4z8YN2+ChXHjP5w3wcK4eeM/HzgTA+yB4z+iOGVDH4rjPyU5t4NSkuM/qDkJxIWa4z8sOlsEuaLjP686rUTsquM/Mjv/hB+z4z+1O1HFUrvjPzg8owWGw+M/vDz1RbnL4z8/PUeG7NPjP8I9mcYf3OM/RT7rBlPk4z/IPj1HhuzjP0w/j4e59OM/zz/hx+z84z9SQDMIIAXkP9VAhUhTDeQ/WEHXiIYV5D/cQSnJuR3kP19CewntJeQ/4kLNSSAu5D9lQx+KUzbkP+hDccqGPuQ/bETDCrpG5D/vRBVL7U7kP3JFZ4sgV+Q/9UW5y1Nf5D94RgsMh2fkP/xGXUy6b+Q/f0evjO135D8CSAHNIIDkP4VIUw1UiOQ/CEmlTYeQ5D+MSfeNupjkPw9KSc7toOQ/kkqbDiGp5D8VS+1OVLHkP5hLP4+HueQ/HEyRz7rB5D+fTOMP7snkPyJNNVAh0uQ/pU2HkFTa5D8oTtnQh+LkP6xOKxG76uQ/L099Ue7y5D+yT8+RIfvkPzVQIdJUA+U/uFBzEogL5T88UcVSuxPlP79RF5PuG+U/QlJp0yEk5T/FUrsTVSzlP0hTDVSINOU/zFNflLs85T9PVLHU7kTlP9JUAxUiTeU/VVVVVVVV5T/YVaeViF3lP1xW+dW7ZeU/31ZLFu9t5T9iV51WInblP+VX75ZVfuU/aFhB14iG5T/sWJMXvI7lP29Z5VfvluU/8lk3mCKf5T91WonYVaflP/la2xiJr+U/fFstWby35T//W3+Z77/lP4Jc0dkiyOU/BV0jGlbQ5T+JXXVaidjlPwxex5q84OU/j14Z2+/o5T8SX2sbI/HlP5VfvVtW+eU/GWAPnIkB5j+cYGHcvAnmPx9hsxzwEeY/omEFXSMa5j8lYledViLmP6liqd2JKuY/LGP7Hb0y5j+vY01e8DrmPzJkn54jQ+Y/tWTx3lZL5j85ZUMfilPmP7xllV+9W+Y/P2bnn/Bj5j/CZjngI2zmP0VniyBXdOY/yWfdYIp85j9MaC+hvYTmP89ogeHwjOY/UmnTISSV5j/VaSViV53mP1lqd6KKpeY/3GrJ4r2t5j9faxsj8bXmP+JrbWMkvuY/ZWy/o1fG5j/pbBHkis7mP2xtYyS+1uY/7221ZPHe5j9ybgelJOfmP/VuWeVX7+Y/eW+rJYv35j/8b/1lvv/mP39wT6bxB+c/AnGh5iQQ5z+FcfMmWBjnPwlyRWeLIOc/jHKXp74o5z8Pc+nn8TDnP5JzOyglOec/FXSNaFhB5z+ZdN+oi0nnPxx1Mem+Uec/n3WDKfJZ5z8idtVpJWLnP6V2J6pYauc/KXd56oty5z+sd8sqv3rnPy94HWvyguc/snhvqyWL5z82ecHrWJPnP7l5EyyMm+c/PHplbL+j5z+/eres8qvnP0J7Ce0ltOc/xntbLVm85z9JfK1tjMTnP8x8/62/zOc/T31R7vLU5z/SfaMuJt3nP1Z+9W5Z5ec/2X5Hr4zt5z9cf5nvv/XnP99/6y/z/ec/YoA9cCYG6D/mgI+wWQ7oP2mB4fCMFug/7IEzMcAe6D9vgoVx8yboP/KC17EmL+g/doMp8lk36D/5g3syjT/oP3yEzXLAR+g//4Qfs/NP6D+ChXHzJljoPwaGwzNaYOg/iYYVdI1o6D8Mh2e0wHDoP4+HufTzeOg/EogLNSeB6D+WiF11WonoPxmJr7WNkeg/nIkB9sCZ6D8filM29KHoP6KKpXYnqug/Jov3tlqy6D+pi0n3jbroPyyMmzfBwug/r4ztd/TK6D8yjT+4J9PoP7aNkfha2+g/OY7jOI7j6D+8jjV5wevoPz+Ph7n08+g/wo/Z+Sf86D9GkCs6WwTpP8mQfXqODOk/TJHPusEU6T/PkSH79BzpP1KSczsoJek/1pLFe1st6T9Zkxe8jjXpP9yTafzBPek/X5S7PPVF6T/ilA19KE7pP2aVX71bVuk/6ZWx/Y5e6T9slgM+wmbpP++WVX71buk/cpenvih36T/2l/n+W3/pP3mYSz+Ph+k//Jidf8KP6T9/me+/9ZfpPwKaQQApoOk/hpqTQFyo6T8Jm+WAj7DpP4ybN8HCuOk/D5yJAfbA6T+TnNtBKcnpPxadLYJc0ek/mZ1/wo/Z6T8cntECw+HpP5+eI0P26ek/I591gyny6T+mn8fDXPrpPymgGQSQAuo/rKBrRMMK6j8vob2E9hLqP7OhD8UpG+o/NqJhBV0j6j+5orNFkCvqPzyjBYbDM+o/v6NXxvY76j9DpKkGKkTqP8ak+0ZdTOo/SaVNh5BU6j/MpZ/Hw1zqP0+m8Qf3ZOo/06ZDSCpt6j9Wp5WIXXXqP9mn58iQfeo/XKg5CcSF6j/fqItJ943qP2Op3Ykqluo/5qkvyl2e6j9pqoEKkabqP+yq00rEruo/b6sli/e26j/zq3fLKr/qP3asyQtex+o/+awbTJHP6j98rW2MxNfqP/+tv8z33+o/g64RDSvo6j8Gr2NNXvDqP4mvtY2R+Oo/DLAHzsQA6z+PsFkO+AjrPxOxq04rEes/lrH9jl4Z6z8Zsk/PkSHrP5yyoQ/FKes/H7PzT/gx6z+js0WQKzrrPya0l9BeQus/qbTpEJJK6z8stTtRxVLrP6+1jZH4Wus/M7bf0Stj6z+2tjESX2vrPzm3g1KSc+s/vLfVksV76z8/uCfT+IPrP8O4eRMsjOs/RrnLU1+U6z/JuR2UkpzrP0y6b9TFpOs/0LrBFPms6z9TuxNVLLXrP9a7ZZVfves/Wby31ZLF6z/cvAkWxs3rP2C9W1b51es/472tlize6z9mvv/WX+brP+m+UReT7us/bL+jV8b26z/wv/WX+f7rP3PAR9gsB+w/9sCZGGAP7D95wetYkxfsP/zBPZnGH+w/gMKP2fkn7D8Dw+EZLTDsP4bDM1pgOOw/CcSFmpNA7D+MxNfaxkjsPxDFKRv6UOw/k8V7Wy1Z7D8Wxs2bYGHsP5nGH9yTaew/HMdxHMdx7D+gx8Nc+nnsPyPIFZ0tguw/pshn3WCK7D8pybkdlJLsP6zJC17Hmuw/MMpdnvqi7D+zyq/eLavsPzbLAR9hs+w/uctTX5S77D88zKWfx8PsP8DM99/6y+w/Q81JIC7U7D/GzZtgYdzsP0nO7aCU5Ow/zM4/4cfs7D9Qz5Eh+/TsP9PP42Eu/ew/VtA1omEF7T/Z0IfilA3tP1zR2SLIFe0/4NErY/sd7T9j0n2jLibtP+bSz+NhLu0/adMhJJU27T/s03NkyD7tP3DUxaT7Ru0/89QX5S5P7T921WklYlftP/nVu2WVX+0/fNYNpshn7T8A11/m+2/tP4PXsSYveO0/BtgDZ2KA7T+J2FWnlYjtPwzZp+fIkO0/kNn5J/yY7T8T2ktoL6HtP5banahiqe0/Gdvv6JWx7T+c20EpybntPyDck2n8we0/o9zlqS/K7T8m3TfqYtLtP6ndiSqW2u0/Ld7basni7T+w3i2r/OrtPzPff+sv8+0/tt/RK2P77T854CNslgPuP73gdazJC+4/QOHH7PwT7j/D4RktMBzuP0bia21jJO4/yeK9rZYs7j9N4w/uyTTuP9DjYS79PO4/U+SzbjBF7j/W5AWvY03uP1nlV++WVe4/3eWpL8pd7j9g5vtv/WXuP+PmTbAwbu4/Zuef8GN27j/p5/Ewl37uP23oQ3HKhu4/8OiVsf2O7j9z6efxMJfuP/bpOTJkn+4/eeqLcpen7j/96t2yyq/uP4DrL/P9t+4/A+yBMzHA7j+G7NNzZMjuPwntJbSX0O4/je139MrY7j8Q7sk0/uDuP5PuG3Ux6e4/Fu9ttWTx7j+Z77/1l/nuPx3wETbLAe8/oPBjdv4J7z8j8bW2MRLvP6bxB/dkGu8/KfJZN5gi7z+t8qt3yyrvPzDz/bf+Mu8/s/NP+DE77z829KE4ZUPvP7n083iYS+8/PfVFuctT7z/A9Zf5/lvvP0P26TkyZO8/xvY7emVs7z9J9426mHTvP8333/rLfO8/UPgxO/+E7z/T+IN7Mo3vP1b51btlle8/2fkn/Jid7z9d+nk8zKXvP+D6y3z/re8/Y/sdvTK27z/m+2/9Zb7vP2r8wT2Zxu8/7fwTfszO7z9w/WW+/9bvP/P9t/4y3+8/dv4JP2bn7z/6/lt/me/vP33/rb/M9+8/AAAAAAAA8D8=\",\"dtype\":\"float64\",\"shape\":[1000]},\"y\":{\"__ndarray__\":\"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\",\"dtype\":\"float64\",\"shape\":[1000]}}},\"id\":\"b8dc0d0e-3fb7-48b5-91ad-4f5886546426\",\"type\":\"ColumnDataSource\"},{\"attributes\":{\"axis_label\":\"X_B\",\"formatter\":{\"id\":\"cefd5ee9-652a-492f-b8b6-9ef10d919334\",\"type\":\"BasicTickFormatter\"},\"plot\":{\"id\":\"ed95bcbb-a590-4b77-b492-15a47996714a\",\"subtype\":\"Figure\",\"type\":\"Plot\"},\"ticker\":{\"id\":\"08e22ef4-2909-479c-bf7f-cb683ac03b7c\",\"type\":\"BasicTicker\"}},\"id\":\"fea64049-e229-4712-96a8-456fc64ef515\",\"type\":\"LinearAxis\"},{\"attributes\":{},\"id\":\"b5bfe6fe-4746-4d2d-936a-d48158b1e6f5\",\"type\":\"LinearScale\"},{\"attributes\":{},\"id\":\"08e22ef4-2909-479c-bf7f-cb683ac03b7c\",\"type\":\"BasicTicker\"},{\"attributes\":{\"plot\":{\"id\":\"ed95bcbb-a590-4b77-b492-15a47996714a\",\"subtype\":\"Figure\",\"type\":\"Plot\"},\"ticker\":{\"id\":\"08e22ef4-2909-479c-bf7f-cb683ac03b7c\",\"type\":\"BasicTicker\"}},\"id\":\"b329c573-71a7-412f-a0ca-b9654d771aba\",\"type\":\"Grid\"},{\"attributes\":{\"axis_label\":\"G\",\"formatter\":{\"id\":\"83eec748-830a-48be-8077-cb83d54ea5f8\",\"type\":\"BasicTickFormatter\"},\"plot\":{\"id\":\"ed95bcbb-a590-4b77-b492-15a47996714a\",\"subtype\":\"Figure\",\"type\":\"Plot\"},\"ticker\":{\"id\":\"a3468848-ca39-40d9-9130-7a3298fc0787\",\"type\":\"BasicTicker\"}},\"id\":\"e7750263-03b9-447d-9333-f74c13317604\",\"type\":\"LinearAxis\"},{\"attributes\":{},\"id\":\"a3468848-ca39-40d9-9130-7a3298fc0787\",\"type\":\"BasicTicker\"},{\"attributes\":{\"dimension\":1,\"plot\":{\"id\":\"ed95bcbb-a590-4b77-b492-15a47996714a\",\"subtype\":\"Figure\",\"type\":\"Plot\"},\"ticker\":{\"id\":\"a3468848-ca39-40d9-9130-7a3298fc0787\",\"type\":\"BasicTicker\"}},\"id\":\"878b360e-cdf9-476a-b7da-552630b7c07d\",\"type\":\"Grid\"},{\"attributes\":{},\"id\":\"6cce217f-4e30-4ccc-bd74-23d9ba68fb7a\",\"type\":\"LinearScale\"},{\"attributes\":{\"bottom_units\":\"screen\",\"fill_alpha\":{\"value\":0.5},\"fill_color\":{\"value\":\"lightgrey\"},\"left_units\":\"screen\",\"level\":\"overlay\",\"line_alpha\":{\"value\":1.0},\"line_color\":{\"value\":\"black\"},\"line_dash\":[4,4],\"line_width\":{\"value\":2},\"plot\":null,\"render_mode\":\"css\",\"right_units\":\"screen\",\"top_units\":\"screen\"},\"id\":\"75f0f386-32e7-4c68-94e2-6529d62f47e7\",\"type\":\"BoxAnnotation\"},{\"attributes\":{\"active_drag\":\"auto\",\"active_inspect\":\"auto\",\"active_scroll\":\"auto\",\"active_tap\":\"auto\",\"tools\":[{\"id\":\"eb5505b7-f006-4156-925a-3cda7f52831c\",\"type\":\"PanTool\"},{\"id\":\"a38252da-f4c9-4f2d-8484-e97fbb0833ff\",\"type\":\"WheelZoomTool\"},{\"id\":\"b6dfe955-0198-4789-8b8d-d5c0c3da7af5\",\"type\":\"BoxZoomTool\"},{\"id\":\"46d33a43-f5b8-4471-9cac-9a51d5d48f13\",\"type\":\"SaveTool\"},{\"id\":\"11469e97-bb75-4a29-a569-8762900e5300\",\"type\":\"ResetTool\"},{\"id\":\"64b0e4f6-959a-4e2d-a5e2-6f9e6570e3ee\",\"type\":\"HelpTool\"}]},\"id\":\"59b70224-940f-4ceb-982f-16e569fe6ddc\",\"type\":\"Toolbar\"},{\"attributes\":{},\"id\":\"86d51410-da75-4502-b2d1-f00ee6c88ae0\",\"type\":\"ToolEvents\"},{\"attributes\":{\"plot\":{\"id\":\"fa109a08-58a5-4c79-918c-221bb6b10b63\",\"subtype\":\"Figure\",\"type\":\"Plot\"},\"ticker\":{\"id\":\"b4951c26-2fff-4695-8bbe-a02e0063ef35\",\"type\":\"BasicTicker\"}},\"id\":\"f3124051-8893-444f-b709-c2ed6c8eb25d\",\"type\":\"Grid\"},{\"attributes\":{\"plot\":{\"id\":\"ed95bcbb-a590-4b77-b492-15a47996714a\",\"subtype\":\"Figure\",\"type\":\"Plot\"}},\"id\":\"8c88b4d3-ffb5-4dbd-8df1-58297ee4a53f\",\"type\":\"PanTool\"},{\"attributes\":{\"line_color\":{\"value\":\"#1f77b4\"},\"line_width\":{\"value\":3},\"x\":{\"field\":\"x\"},\"y\":{\"field\":\"y\"}},\"id\":\"d8d2b7d9-0023-4370-8950-1172b885c0f8\",\"type\":\"Line\"},{\"attributes\":{\"plot\":{\"id\":\"ed95bcbb-a590-4b77-b492-15a47996714a\",\"subtype\":\"Figure\",\"type\":\"Plot\"}},\"id\":\"26090d13-56b3-4657-97b0-924219e6419b\",\"type\":\"WheelZoomTool\"},{\"attributes\":{\"plot\":{\"id\":\"fa109a08-58a5-4c79-918c-221bb6b10b63\",\"subtype\":\"Figure\",\"type\":\"Plot\"}},\"id\":\"11469e97-bb75-4a29-a569-8762900e5300\",\"type\":\"ResetTool\"},{\"attributes\":{\"callback\":null},\"id\":\"cacd324a-f8d6-471d-b767-6fbba6b46a27\",\"type\":\"Range1d\"},{\"attributes\":{\"overlay\":{\"id\":\"75f0f386-32e7-4c68-94e2-6529d62f47e7\",\"type\":\"BoxAnnotation\"},\"plot\":{\"id\":\"ed95bcbb-a590-4b77-b492-15a47996714a\",\"subtype\":\"Figure\",\"type\":\"Plot\"}},\"id\":\"6e9e286a-bce1-4741-8fcc-58f688922fbd\",\"type\":\"BoxZoomTool\"},{\"attributes\":{\"callback\":null,\"end\":2000},\"id\":\"c320a4dd-d7e5-488e-ab08-bd0adc6b0315\",\"type\":\"Range1d\"},{\"attributes\":{\"plot\":{\"id\":\"ed95bcbb-a590-4b77-b492-15a47996714a\",\"subtype\":\"Figure\",\"type\":\"Plot\"}},\"id\":\"5530a92c-feb1-4004-b6cd-43c6229df926\",\"type\":\"SaveTool\"},{\"attributes\":{\"plot\":{\"id\":\"ed95bcbb-a590-4b77-b492-15a47996714a\",\"subtype\":\"Figure\",\"type\":\"Plot\"}},\"id\":\"0150fb29-884b-407b-99aa-fa0afd5ef255\",\"type\":\"ResetTool\"},{\"attributes\":{},\"id\":\"b4951c26-2fff-4695-8bbe-a02e0063ef35\",\"type\":\"BasicTicker\"},{\"attributes\":{\"plot\":{\"id\":\"ed95bcbb-a590-4b77-b492-15a47996714a\",\"subtype\":\"Figure\",\"type\":\"Plot\"}},\"id\":\"3ae798cd-9355-4171-93af-6088693adb8d\",\"type\":\"HelpTool\"},{\"attributes\":{},\"id\":\"cb8142aa-2503-4cf7-85fc-78d2e0dc60e7\",\"type\":\"BasicTicker\"},{\"attributes\":{},\"id\":\"500999ad-9152-4f3b-9d2f-a388199dac16\",\"type\":\"BasicTickFormatter\"},{\"attributes\":{\"axis_label\":\"T\",\"formatter\":{\"id\":\"10e5c0c2-36c7-4868-9fb2-6f76c52ad823\",\"type\":\"BasicTickFormatter\"},\"plot\":{\"id\":\"fa109a08-58a5-4c79-918c-221bb6b10b63\",\"subtype\":\"Figure\",\"type\":\"Plot\"},\"ticker\":{\"id\":\"cb8142aa-2503-4cf7-85fc-78d2e0dc60e7\",\"type\":\"BasicTicker\"}},\"id\":\"c9241b1a-e8c7-4378-859e-57cea7b41681\",\"type\":\"LinearAxis\"},{\"attributes\":{\"line_alpha\":{\"value\":0.1},\"line_color\":{\"value\":\"#1f77b4\"},\"line_width\":{\"value\":3},\"x\":{\"field\":\"x\"},\"y\":{\"field\":\"y\"}},\"id\":\"70743f85-4a6a-4b37-9211-8f73ba15cde9\",\"type\":\"Line\"},{\"attributes\":{\"dimension\":1,\"plot\":{\"id\":\"fa109a08-58a5-4c79-918c-221bb6b10b63\",\"subtype\":\"Figure\",\"type\":\"Plot\"},\"ticker\":{\"id\":\"cb8142aa-2503-4cf7-85fc-78d2e0dc60e7\",\"type\":\"BasicTicker\"}},\"id\":\"58652304-b0da-4b08-8d21-9290e528d81c\",\"type\":\"Grid\"},{\"attributes\":{\"plot\":{\"id\":\"fa109a08-58a5-4c79-918c-221bb6b10b63\",\"subtype\":\"Figure\",\"type\":\"Plot\"}},\"id\":\"eb5505b7-f006-4156-925a-3cda7f52831c\",\"type\":\"PanTool\"},{\"attributes\":{\"line_alpha\":{\"value\":0.1},\"line_color\":{\"value\":\"#1f77b4\"},\"line_width\":{\"value\":3},\"x\":{\"field\":\"x\"},\"y\":{\"field\":\"y\"}},\"id\":\"5750ec0e-a6bf-4bbc-9316-0f47fd46e79b\",\"type\":\"Line\"},{\"attributes\":{\"callback\":null,\"column_names\":[\"x\",\"y\"],\"data\":{\"x\":{\"__ndarray__\":\"AAAAAAAAAAAAAAAAAAAAAAAAAAAAAAAAAAAAAAAAAAAAAAAAAAAAAAAAAAAAAAAAAAAAAAAAAAAAAAAAAAAAAAAAAAAAAAAAAAAAAAAAAAAAAAAAAAAAAAAAAAAAAAAAAAAAAAAAAAAAAAAAAAAAAAAAAAAAAAAAAAAAAAAAAAAAAAAAAAAAAAAAAAAAAAAAAAAAAAAAAAAAAAAAAAAAAAAAAAAAAAAAAAAAAAAAAAAAAAAAAAAAAAAAAAAAAAAAAAAAAAAAAAAAAAAAAAAAAAAAAAAAAAAAAAAAAAAAAAAAAAAAAAAAAAAAAAAAAAAAAAAAAAAAAAAAAAAAAAAAAAAAAAAAAAAAAAAAAAAAAAAAAAAAAAAAAAAAAAAAAAAAAAAAAAAAAAAAAAAAAAAAAAAAAAAAAAAAAAAAAAAAAAAAAAAAAAAAAAAAAAAAAAAAAAAAAAAAAAAAAAAAAAAAAAAAAAAAAAAAAAAAAAAAAAAAAAAAAAAAAAAAAAAAAAAAAAAAAAAAAAAAAAAAAAAAAAAAAAAAAAAAAAAAAAAAAAAAAAAAAAAAAAAAAAAAAAAAAAAAAAAAAAAAAAAAAAAAAAAAAAAAAAAAAAAAAAAAAAAAAAAAAAAAAAAAAAAAAAAAAAAAAAAAAAAAAAAAAAAAAAAAAAAAAAAAAAAAAAAAAAAAAAAAAAAAAAAAAAAAAAAAAAAAAAAAAAAAAAAAAAAAAAAAAAAAAAAAAAAAAAAAAAAAAAAAAAAAAAAAAAAAAAAAAAAAAAAAAAAAAAAAAAAAAAAAAAAAAAAAAAAAAAAAAAAAAAAAAAAAAAAAAAAAAAAAAAAAAAAAAAAAAAAAAAAAAAAAAAAAAAAAAAAAAAAAAAAAAAAAAAAAAAAAAAAAAAAAAAAAAAAAAAAAAAAAAAAAAAAAAAAAAAAAAAAAAAAAAAAAAAAAAAAAAAAAAAAAAAAAAAAAAAAAAAAAAAAAAAAAAAAAAAAAAAAAAAAAAAAAAAAAAAAAAAAAAAAAAAAAAAAAAAAAAAAAAAAAAAAAAAAAAAAAAAAAAAAAAAAAAAAAAAAAAAAAAAAAAAAAAAAAAAAAAAAAAAAAAAAAAAAAAAAAAAAAAAAAAAAAAAAAAAAAAAAAAAAAAAAAAAAAAAAAAAAAAAAAAAAAAAAAAAAAAAAAAAAAAAAAAAAAAAAAAAAAAAAAAAAAAAAAAAAAAAAAAAAAAAAAAAAAAAAAAAAAAAAAAAAAAAAAAAAAAAAAAAAAAAAAAAAAAAAAAAAAAAAAAAAAAAAAAAAAAAAAAAAAAAAAAAAAAAAAAAAAAAAAAAAAAAAAAAAAAAAAAAAAAAAAAAAAAAAAAAAAAAAAAAAAAAAAAAAAAAAAAAAAAAAAAAAAAAAAAAAAAAAAAAAAAAAAAAAAAAAAAAAAAAAAAAAAAAAAAAAAAAAAAAAAAAAAAAAAAAAAAAAAAAAAAAAAAAAAAAAAAAAAAAAAAAAAAAAAAAAAAAAAAAAAAAAAAAAAAAAAAAAAAAAAAAAAAAAAAAAAAAAAAAAAAAAAAAAAAAAAAAAAAAAAAAAAAAAAAAAAAAAAAAAAAAAAAAAAAAAAAAAAAAAAAAAAAAAAAAAAAAAAAAAAAAAAAAAAAAAAAAAAAAAAAAAAAAAAAAAAAAAAAAAAAAAAAAAAAAAAAAAAAAAAAAAAAAAAAAAAAAAAAAAAAAAAAAAAAAAAAAAAAAAAAAAAAAAAAAAAAAAAAAAAAAAAAAAAAAAAAAAAAAAAAAAAAAAAAAAAAAAAAAAAAAAAAAAAAAAAAAAAAAAAAAAAAAAAAAAAAAAAAAAAAAAAAAAAAAAAAAAAAAAAAAAAAAAAAAAAAAAAAAAAAAAAAAAAAAAAAAAAAAAAAAAAAAAAAAAAAAAAAAAAAAAAAAAAAAAAAAAAAAAAAAAAAAAAAAAAAAAAAAAAAAAAAAAAAAAAAAAAAAAAAAAAAAAAAAAAAAAAAAAAAAAAAAAAAAAAAAAAAAAAAAAAAAAAAAAAAAAAAAAAAAAAAAAAAAAAAAAAAAAAAAAAAAAAAAAAAAAAAAAAAAAAAAAAAAAAAAAAAAAAAAAAAAAAAAAAAAAAAAAAAAAAAAAAAAAAAAAAAAAAAAAAAAAAAAAAAAAAAAAAAAAAAAAAAAAAAAAAAAAAAAAAAAAAAAAAAAAAAAAAAAAAAAAAAAAAAAAAAAAAAAAAAAAAAAAAAAAAAAAAAAAAAAAAAAAAAAAAAAAAAAAAAAAAAAAAAAAAAAAAAAAAAAAAAAAAAAAAAAAAAAAAAAAAAAAAAAAAAAAAAAAAAAAAAAAAAAAAAAAAAAAAAAAAAAAAAAAAAAAAAAAAAAAAAAAAAAAAAAAAAAAAAAAAAAAAAAAAAAAAAAAAAAAAAAAAAAAAAAAAAAAAAAAAAAAAAAAAAAAAAAAAAAAAAAAAAAAAAAAAAAAAAAAAAAAAAAAAAAAAAAAAAAAAAAAAAAAAAAAAAAAAAAAAAAAAAAAAAAAAAAAAAAAAAAAAAAAAAAAAAAAAAAAAAAAAAAAAAAAAAAAAAAAAAAAAAAAAAAAAAAAAAAAAAAAAAAAAAAAAAAAAAAAAAAAAAAAAAAAAAAAAAAAAAAAAAAAAAAAAAAAAAAAAAAAAAAAAAAAAAAAAAAAAAAAAAAAAAAAAAAAAAAAAAAAAAAAAAAAAAAAAAAAAAAAAAAAAAAAAAAAAAAAAAAAAAAAAAAAAAAAAAAAAAAAAAAAAAAAAAAAAAAAAAAAAAAAAAAAAAAAAAAAAAAAAAAAAAAAAAAAAAAAAAAAAAAAAAAAAAAAAAAAAAAAAAAAAAAAAAAAAAAAAAAAAAAAAAAAAAAAAAAAAAAAAAAAAAAAAAAAAAAAAAAAAAAAAAAAAAAAAAAAAAAAAAAAAAAAAAAAAAAAAAAAAAAAAAAAAAAAAAAAAAAAAAAAAAAAAAAAAAAAAAAAAAAAAAAAAAAAAAAAAAAAAAAAAAAAAAAAAAAAAAAAAAAAAAAAAAAAAAAAAAAAAAAAAAAAAAAAAAAAAAAAAAAAAAAAAAAAAAAAAAAAAAAAAAAAAAAAAAAAAAAAAAAAAAAAAAAAAAAAAAAAAAAAAAAAAAAAAAAAAAAAAAAAAAAAAAAAAAAAAAAAAAAAAAAAAAAAAAAAAAAAAAAAAAAAAAAAAAAAAAAAAAAAAAAAAAAAAAAAAAAAAAAAAAAAAAAAAAAAAAAAAAAAAAAAAAAAAAAAAAAAAAAAAAAAAAAAAAAAAAAAAAAAAAAAAAAAAAAAAAAAAAAAAAAAAAAAAAAAAAAAAAAAAAAAAAAAAAAAAAAAAAAAAAAAAAAAAAAAAAAAAAAAAAAAAAAAAAAAAAAAAAAAAAAAAAAAAAAAAAAAAAAAAAAAAAAAAAAAAAAAAAAAAAAAAAAAAAAAAAAAAAAAAAAAAAAAAAAAAAAAAAAAAAAAAAAAAAAAAAAAAAAAAAAAAAAAAAAAAAAAAAAAAAAAAAAAAAAAAAAAAAAAAAAAAAAAAAAAAAAAAAAAAAAAAAAAAAAAAAAAAAAAAAAAAAAAAAAAAAAAAAAAAAAAAAAAAAAAAAAAAAAAAAAAAAAAAAAAAAAAAAAAAAAAAAAAAAAAAAAAAAAAAAAAAAAAAAAAAAAAAAAAAAAAAAAAAAAAAAAAAAAAAAAAAAAAAAAAAAAAAAAAAAAAAAAAAAAAAAAAAAAAAAAAAAAAAAAAAAAAAAAAAAAAAAAAAAAAAAAAAAAAAAAAAAAAAAAAAAAAAAAAAAAAAAAAAAAAAAAAAAAAAAAAAAAAAAAAAAAAAAAAAAAAAAAAAAAAAAAAAAAAAAAAAAAAAAAAAAAAAAAAAAAAAAAAAAAAAAAAAAAAAAAAAAAAAAAAAAAAAAAAAAAAAAAAAAAAAAAAAAAAAAAAAAAAAAAAAAAAAAAAAAAAAAAAAAAAAAAAAAAAAAAAAAAAAAAAAAAAAAAAAAAAAAAAAAAAAAAAAAAAAAAAAAAAAAAAAAAAAAAAAAAAAAAAAAAAAAAAAAAAAAAAAAAAAAAAAAAAAAAAAAAAAAAAAAAAAAAAAAAAAAAAAAAAAAAAAAAAAAAAAAAAAAAAAAAAAAAAAAAAAAAAAAAAAAAAAAAAAAAAAAAAAAAAAAAAAAAAAAAAAAAAAAAAAAAAAAAAAAAAAAAAAAAAAAAAAAAAAAAAAAAAAAAAAAAAAAAAAAAAAAAAAAAAAAAAAAAAAAAAAAAAAAAAAAAAAAAAAAAAAAAAAAAAAAAAAAAAAAAAAAAAAAAAAAAAAAAAAAAAAAAAAAAAAAAAAAAAAAAAAAAAAAAAAAAAAAAAAAAAAAAAAAAAAAAAAAAAAAAAAAAAAAAAAAAAAAAAAAAAAAAAAAAAAAAAAAAAAAAAAAAAAAAAAAAAAAAAAAAAAAAAAAAAAAAAAAAAAAAAAAAAAAAAAAAAAAAAAAAAAAAAAAAAAAAAAAAAAAAAAAAAAAAAAAAAAAAAAAAAAAAAAAAAAAAAAAAAAAAAAAAAAAAAAAAAAAAAAAAAAAAAAAAAAAAAAAAAAAAAAAAAAAAAAAAAAAAAAAAAAAAAAAAAAAAAAAAAAAAAAAAAAAAAAAAAAAAAAAAAAAAAAAAAAAAAAAAAAAAAAAAAAAAAAAAAAAAAAAAAAAAAAAAAAAAAAAAAAAAAAAAAAAAAAAAAAAAAAAAAAAAAAAAAAAAAAAAAAAAAAAAAAAAAAAAAAAAAAAAAAAAAAAAAAAAAAAAAAAAAAAAAAAAAAAAAAAAAAAAAAAAAAAAAAAAAAAAAAAAAAAAAAAAAAAAAAAAAAAAAAAAAAAAAAAAAAAAAAAAAAAAAAAAAAAAAAAAAAAAAAAAAAAAAAAAAAAAAAAAAAAAAAAAAAAAAAAAAAAAAAAAAAAAAAAAAAAAAAAAAAAAAAAAAAAAAAAAAAAAAAAAAAAAAAAAAAAAAAAAAAAAAAAAAAAAAAAAAAAAAAAAAAAAAAAAAAAAAAAAAAAAAAAAAAAAAAAAAAAAAAAAAAAAAAAAAAAAAAAAAAAAAAAAAAAAAAAAAAAAAAAAAAAAAAAAAAAAAAAAAAAAAAAAAAAAAAAAAAAAAAAAAAAAAAAAAAAAAAAAAAAAAAAAAAAAAAAAAAAAAAAAAAAAAAAAAAAAAAAAAAAAAAAAAAAAAAAAAAAAAAAAAAAAAAAAAAAAAAAAAAAAAAAAAAAAAAAAAAAAAAAAAAAAAAAAAAAAAAAAAAAAAAAAAAAAAAAAAAAAAAAAAAAAAAAAAAAAAAAAAAAAAAAAAAAAAAAAAAAAAAAAAAAAAAAAAAAAAAAAAAAAAAAAAAAAAAAAAAAAAAAAAAAAAAAAAAAAAAAAAAAAAAAAAAAAAAAAAAAAAAAAAAAAAAAAAAAAAAAAAAAAAAAAAAAAAAAAAAAAAAAAAAAAAAAAAAAAAAAAAAAAAAAAAAAAAAAAAAAAAAAAAAAAAAAAAAAAAAAAAAAAAAAAAAAAAAAAAAAAAAAAAAAAAAAAAAAAAAAAAAAAAAAAAAAAAAAAAAAAAAAAAAAAAAAAAAAAAAAAAAAAAAAAAAAAAAAAAAAAAAAAAAAAAAAAAAAAAAAAAAAAAAAAAAAAAAAAAAAAAAAAAAAAAAAAAAAAAAAAAAAAAAAAAAAAAAAAAAAAAAAAAAAAAAAAAAAAAAAAAAAAAAAAAAAAAAAAAAAAAAAAAAAAAAAAAAAAAAAAAAAAAAAAAAAAAAAAAAAAAAAAAAAAAAAAAAAAAAAAAAAAAAAAAAAAAAAAAAAAAAAAAAAAAAAAAAAAAAAAAAAAAAAAAAAAAAAAAAAAAAAAAAAAAAAAAAAAAAAAAAAAAAAAAAAAAAAAAAAAAAAAAAAAAAAAAAAAAAAAAAAAAAAAAAAAAAAAAAAAAAAAAAAAAAAAAAAAAAAAAAAAAAAAAAAAAAAAAAAAAAAAAAAAAAAAAAAAAAAAAAAAAAAAAAAAAAAAAAAAAAAAAAAAAAAAAAAAAAAAAAAAAAAAAAAAAAAAAAAAAAAAAAAAAAAAAAAAAAAAAAAAAAAAAAAAAAAAAAAAAAAAAAAAAAAAAAAAAAAAAAAAAAAAAAAAAAAAAAAAAAAAAAAAAAAAAAAAAAAAAAAAAAAAAAAAAAAAAAAAAAAAAAAAAAAAAAAAAAAAAAAAAAAAAAAAAAAAAAAAAAAAAAAAAAAAAAAAAAAAAAAAAAAAAAAAAAAAAAAAAAAAAAAAAAAAAAAAAAAAAAAAAAAAAAAAAAAAAAAAAAAAAAAAAAAAAAAAAAAAAAAAAAAAAAAAAAAAAAAAAAAAAAAAAAAAAAAAAAAAAAAAAAAAAAAAAAAAAAAAAAAAAAAAAAAAAAAAAAAAAAAAAAAAAAAAAAAAAAAAAAAAAAAAAAAAAAAAAAAAAAAAAAAAAAAAAAAAAAAAAAAAAAAAAAAAAAAAAAAAAAAAAAAAAAAAAAAAAAAAAAAAAAAAAAAAAAAAAAAAAAAAAAAAAAAAAAAAAAAAAAAAAAAAAAAAAAAAAAAAAAAAAAAAAAAAAAAAAAAAAAAAAAAAAAAAAAAAAAAAAAAAAAAAAAAAAAAAAAAAAAAAAAAAAAAAAAAAAAAAAAAAAAAAAAAAAAAAAAAAAAAAAAAAAAAAAAAAAAAAAAAAAAAAAAAAAAAAAAAAAAAAAAAAAAAAAAAAAAAAAAAAAAAAAAAAAAAAAAAAAAAAAAAAAAAAAAAAAAAAAAAAAAAAAAAAAAAAAAAAAAAAAAAAAAAAAAAAAAAAAAAAAAAAAAAAAAAAAAAAAAAAAAAAAAAAAAAAAAAAAAAAAAAAAAAAAAAAAAAAAAAAAAAAAAAAAAAAAAAAAAAAAAAAAAAAAAAAAAAAAAAAAAAAAAAAAAAAAAAAAAAAAAAAAAAAAAAAAAAAAAAAAAAAAAAAAAAAAAAAAAAAAAAAAAAAAAAAAAAAAAAAAAAAAAAAAAAAAAAAAAAAAAAAAAAAAAAAAAAAAAAAAAAAAAAAAAAAAAAAAAAAAAAAAAAAAAAAAAAAAAAAAAAAAAAAAAAAAAAAAAAAAAAAAAAAAAAAAAAAAAAAAAAAAAAAAAAAAAAAAAAAAAAAAAAAAAAAAAAAAAAAAAAAAAAAAAAAAAAAAAAAAAAAAAAAAAAAAAAAAAAAAAAAAAAAAAAAAAAAAAAAAAAAAAAAAAAAAAAAAAAAAAAAAAAAAAAAAAAAAAAAAAAAAAAAAAAAAAAAAAAAAAAAAAAAAAAAAAAAAAAAAAAAAAAAAAAAAAAAAAAAAAAAAAAAAAAAAAAAAAAAAAAAAAAAAAAAAAAAAAAAAAAAAAAAAAAAAAAAAAAAAAAAAAAAAAAAAAAAAAAAAAAAAAAAAAAAAAAAAAAAAAAAAAAAAAAAAAAAAAAAAAAAAAAAAAAAAAAAAAAAAAAAAAAAAAAAAAAAAAAAAAAAAAAAAAAAAAAAAAAAAAAAAAAAAAAAAAAAAAAAAAAAAAAAAAAAAAAAAAAAAAAAAAAAAAAAAAAAAAAAAAAAAAAAAAAAAAAAAAAAAAAAAAAAAAAAAAAAAAAAAAAAAAAAAAAAAAAAAAAAAAAAAAAAAAAAAAAAAAAAAAAAAAAAAAAAAAAAAAAAAAAAAAAAAAAAAAAAAAAAAAAAAAAAAAAAAAAAAAAAAAAAAAAAAAAAAAAAAAAAAAAAAAAAAAAAAAAAAAAAAAAAAAAAAAAAAAAAAAAAAAAAAAAAAAAAAAAAAAAAAAAAAAAAAAAAAAAAAAAAAAAAAAAAAAAAAAAAAAAAAAAAAAAAAAAAAAAAAAAAAAAAAAAAAAAAAAAAAAAAAAAAAAAAAAAAAAAAAAAAAAAAAAAAAAAAAAAAAAAAAAAAAAAAAAAAAAAAAAAAAAAAAAAAAAAAAAAAAAAAAAAAAAAAAAAAAAAAAAAAAAAAAAAAAAAAAAAAAAAAAAAAAAAAAAAAAAAAAAAAAAAAAAAAAAAAAAAAAAAAAAAAAAAAAAAAAAAAAAAAAAAAAAAAAAAAAAAAAAAAAAAAAAAAAAAAAAAAAAAAAAAAAAAAAAAAAAAAAAAAAAAAAAAAAAAAAAAAAAAAAAAAAAAAAAAAAAAAAAAAAAAAAAAAAAAAAAAAAAAAAAAAAAAAAAAAAAAAAAAAAAAAAAAAAAAAAAAAAAAAAAAAAAAAAAAAAAAAAAAAAAAAAAAAAAAAAAAAAAAAAAAAAAAAAAAAAAAAAAAAAAAAAAAAAAAAAAAAAAAAAAAAAAAAAAAAAAAAAAAAAAAAAAAAAAAAAAAAAAAAAAAAAAAAAAAAAAAAAAAAAAAAAAAAAAAAAAAAAAAAAAAAAAAAAAAAAAAAAAAAAAAAAAAAAAAAAAAAAAAAAAAAAAAAAAAAAAAAAAAAAAAAAAAAAAAAAAAAAAAAAAAAAAAAAAAAAAAAAAAAAAAAAAAAAAAAAAAAAAAAAAAAAAAAAAAAAAAAAAAAAAAAAAAAAAAAAAAAAAAAAAAAAAAAAAAAAAAAAAAAAAAAAAAAAAAAAAAAAAAAAAAAAAAAAAAAAAAAAAAAAAAAAAAAAAAAAAAAAAAAAAAAAAAAAAAAAAAAAAAAAAAAAAAAAAAAAAAAAAAAAAAAAAAAAAAAAAAAAAAAAAAAAAAAAAAAAAAAAAAAAAAAAAAAAAAAAAAAAAAAAAAAAAAAAAAAAAAAAAAAAAAAAAAAAAAAAAAAAAAAAAAAAAAAAAAAAAAAAAAAAAAAAAAAAAAAAAAAAAAAAAAAAAAAAAAAAAAAAAAAAAAAAAAAAAAAAAAAAAAAAAAAAAAAAAAAAAAAAAAAAAAAAAAAAAAAAAAAAAAAAAAAAAAAAAAAAAAAAAAAAAAAAAAAAAAAAAAAAAAAAAAAAAAAAAAAAAAAAAAAAAAAAAAAAAAAAAAAAAAAAAAAAAAAAAAAAAAAAAAAAAAAAAAAAAAAAAAAAAAAAAAAAAAAAAAAAAAAAAAAAAAAAAAAAAAAAAAAAAAAAAAAAAAAAAAAAAAAAAAAAAAAAAAAAAAAAAAAAAAAAAAAAAAAAAAAAAAAAAAAAAAAAAAAAAAAAAAAAAAAAAAAAAAAAAAAAAAAAAAAAAAAAAAAAAAAAAAAAAAAAAAAAAAAAAAAAAAAAAAAAAAAAAAAAAAAAAAAAAAAAAAAAAAAAAAAAAAAAAAAAAAAAAAAAAAAAAAAAAAAAAAAAAAAAAAAAAAAAAAAAAAAAAAAAAAAAAAAAAAAAAAAAAAAAAAAAAAAAAAAAAAAAAAAAAAAAAAAAAAAAAAAAAAAAAAAAAAAAAAAAAAAAAAAAAAAAAAAAAAAAAAAAAAAAAAAAAAAAAAAAAAAAAAAAAAAAAAAAAAAAAAAAAAAAAAAAAAAAAAAAAAAAAAAAAAAAAAAAAAAAAAAAAAAAAAAAAAAAAAAAAAAAAAAAAAAAAAAAAAAAAAAAAAAAAAAAAAAAAAAAAAAAAAAAAAAAAAAAAAAAAAAAAAAAAAAAAAAAAAAAAAAAAAAAAAAAAAAAAAAAAAAAAAAAAAAAAAAAAAAAAAAAAAAAAAAAAAAAAAAAAAAAAAAAAAAAAAAAAAAAAAAAAAAAAAAAAAAAAAAAAAAAAAAAAAAAAAAAAAAAAAAAAAAAAAAAAAAAAAAAAAAAAAAAAAAAAAAAAAAAAAAAAAAAAAAAAAAAAAAAAAAAAAAAAAAAAAAAAAAAAAAAAAAAAAAAAAAAAAAAAAAAAAAAAAAAAAAAAAAAAAAAAAAAAAAAAAAAAAAAAAAAAAAAAAAAAAAAAAAAAAAAAAAAAAAAAAAAAAAAAAAAAAAAAAAAAAAAAAAAAAAAAAAAAAAAAAAAAAAAAAAAAAAAAAAAAAAAAAAAAAAAAAAAAAAAAAAAAAAAAAAAAAAAAAAAAAAAAAAAAAAAAAAAAAAAAAAAAAAAAAAAAAAAAAAAAAAAAAAAAAAAAAAAAAAAAAAAAAAAAAAAAAAAAAAAAAAAAAAAAAAAAAAAAAAAAAAAAAAAAAAAAAAAAAAAAAAAAAAAAAAAAAAAAAAAAAAAAAAAAAAAAAAAAAAAAAAAAAAAAAAAAAAAAAAAAAAAAAAAAAAAAAAAAAAAAAAAAAAAAAAAAAAAAAAAAAAAAAAAAAAAAAAAAAAAAAAAAAAAAAAAAAAAAAAAAAAAAAAAAAAAAAAAAAAAAAAAAAAAAAAAAAAAAAAAAAAAAAAAAAAAAAAAAAAAAAAAAAAAAAAAAAAAAAAAAAAAAAAAAAAAAAAAAAAAAAAAAAAAAAAAAAAAAAAAAAAAAAAAAAAAAAAAAAAAAAAAAAAAAAAAAAAAAAAAAAAAAAAAAAAAAAAAAAAAAAAAAAAAAAAAAAAAAAAAAAAAAAAAAAAAAAAAAAAAAAAAAAAAAAAAAAAAAAAAAAAAAAAAAAAAAAAAAAAAAAAAAAAAAAAAAAAAAAAAAAAAAAAAAAAAAAAAAAAAAAAAAAAAAAAAAAAAAAAAAAAAAAAAAAAAAAAAAAAAAAAAAAAAAAAAAAAAAAAAAAAAAAAAAAAAAAAAAAAAAAAAAAAAAAAAAAAAAAAAAAAAAAAAAAAAAAAAAAAAAAAAAAAAAAAAAAAAAAAAAAAAAAAAAAAAAAAAAAAAAAAAAAAAAAAAAAAAAAAAAAAAAAAAAAAAAAAAAAAAAAAAAAAAAAAAAAAAAAAAAAAAAAAAAAAAAAAAAAAAAAAAAAAAAAAAAAAAAAAAAAAAAAAAAAAAAAAAAAAAAAAAAAAAAAAAAAAAAAAAAAAAAAAAAAAAAAAAAAAAAAAAAAAAAAAAAAAAAAAAAAAAAAAAAAAAAAAAAAAAAAAAAAAAAAAAAAAAAAAAAAAAAAAAAAAAAAAAAAAAAAAAAAAAAAAAAAAAAAAAAAAAAAAAAAAAAAAAAAAAAAAAAAAAAAAAAAAAAAAAAAAAAAAAAAAAAAAAAAAAAAAAAAAAAAAAAAAAAAAAAAAAAAAAAAAAAAAAAAAAAAAAAAAAAAAAAAAAAAAAAAAAAAAAAAAAAAAAAAAAAAAAAAAAAAAAAAAAAAAAAAAAAAAAAAAAAAAAAAAAAAAAAAAAAAAAAAAAAAAAAAAAAAAAAAAAAAAAAAAAAAAAAAAAAAAAAAAAAAAAAAAAAAAAAAAAAAAAAAAAAAAAAAAAAAAAAAAAAAAAAAAAAAAAAAAAAAAAAAAAAAAAAAAAAAAAAAAAAAAAAAAAAAAAAAAAAAAAAAAAAAAAAAAAAAAAAAAAAAAAAAAAAAAAAAAAAAAAAAAAAAAAAAAAAAAAAAAAAAAAAAAAAAAAAAAAAAAAAAAAAAAAAAAAAAAAAAAAAAAAAAAAAAAAAAAAAAAAAAAAAAAAAAAAAAAAAAAAAAAAAAAAAAAAAAAAAAAAAAAAAAAAAAAAAAAAAAAAAAAAAAAAAAAAAAAAAAAAAAAAAAAAAAAAAAAAAAAAAAAAAAAAAAAAAAAAAAAAAAAAAAAAAAAAAAAAAAAAAAAAAAAAAAAAAAAAAAAAAAAAAAAAAAAAAAAAAAAAAAAAAAAAAAAAAAAAAAAAAAAAAAAAAAAAAAAAAAAAAAAAAAAAAAAAAAAAAAAAAAAAAAAAAAAAAAAAAAAAAAAAAAAAAAAAAAAAAAAAAAAAAAAAAAAAAAAAAAAAAAAAAAAAAAAAAAAAAAAAAAAAAAAAAAAAAAAAAAAAAAAAAAAAAAAAAAAAAAAAAAAAAAAAAAAAAAAAAAAAAAAAAAAAAAAAAAAAAAAAAAAAAAAAAAAAAAAAAAAAAAAAAAAAAAAAAAAAAAAAAAAAAAAAAAAAAAAAAAAAAAAAAAAAAAAAAAAAAAAAAAAAAAAAAAAAAAAAAAAAAAAAAAAAAAAAAAAAAAAAAAAAAAAAAAAAAAAAAAAAAAAAAAAAAAAAAAAAAAAAAAAAAAAAAAAAAAAAAAAAAAAAAAAAAAAAAAAAAAAAAAAAAAAAAAAAAAAAAAAAAAAAAAAAAAAAAAAAAAAAAAAAAAAAAAAAAAAAAAAAAAAAAAAAAAAAAAAAAAAAAAAAAAAAAAAAAAAAAAAAAAAAAAAAAAAAAAAAAAAAAAAAAAAAAAAAAAAAAAAAAAAAAAAAAAAAAAAAAAAAAAAAAAAAAAAAAAAAAAAAAAAAAAAAAAAAAAAAAAAAAAAAAAAAAAAAAAAAAAAAAAAAAAAAAAAAAAAAAAAAAAAAAAAAAAAAAAAAAAAAAAAAAAAAAAAAAAAAAAAAAAAAAAAAAAAAAAAAAAAAAAAAAAAAAAAAAAAAAAAAAAAAAAAAAAAAAAAAAAAAAAAAAAAAAAAAAAAAAAAAAAAAAAAAAAAAAAAAAAAAAAAAAAAAAAAAAAAAAAAAAAAAAAAAAAAAAAAAAAAAAAAAAAAAAAAAAAAAAAAAAAAAAAAAAAAAAAAAAAAAAAAAAAAAAAAAAAAAAAAAAAAAAAAAAAAAAAAAAAAAAAAAAAAAAAAAAAAAAAAAAAAAAAAAAAAAAAAAAAAAAAAAAAAAAAAAAAAAAAAAAAAAAAAAAAAAAAAAAAAAAAAAAAAAAAAAAAAAAAAAAAAAAAAAAAAAAAAAAAAAAAAAAAAAAAAAAAAAAAAAAAAAAAAAAAAAAAAAAAAAAAAAAAAAAAAAAAAAAAAAAAAAAAAAAAAAAAAAAAAAAAAAAAAAAAAAAAAAAAAAAAAAAAAAAAAAAAAAAAAAAAAAAAAAAAAAAAAAAAAAAAAAAAAAAAAAAAAAAAAAAAAAAAAAAAAAAAAAAAAAAAAAAAAAAAAAAAAAAAAAAAAAAAAAAAAAAAAAAAAAAAAAAAAAAAAAAAAAAAAAAAAAAAAAAAAAAAAAAAAAAAAAAAAAAAAAAAAAAAAAAAAAAAAAAAAAAAAAAAAAAAAAAAAAAAAAAAAAAAAAAAAAAAAAAAAAAAAAAAAAAAAAAAAAAAAAAAAAAAAAAAAAAAAAAAAAAAAAAAAAAAAAAAAAAAAAAAAAAAAAAAAAAAAAAAAAAAAAAAAAAAAAAAAAAAAAAAAAAAAAAAAAAAAAAAAAAAAAAAAAAAAAAAAAAAAAAAAAAAAAAAAAAAAAAAAAAAAAAAAAAAAAAAAAAAAAAAAAAAAAAAAAAAAAAAAAAAAAAAAAAAAAAAAAAAAAAAAAAAAAAAAAAAAAAAAAAAAAAAAAAAAAAAAAAAAAAAAAAAAAAAAAAAAAAAAAAAAAAAAAAAAAAAAAAAAAAAAAAAAAAAAAAAAAAAAAAAAAAAAAAAAAAAAAAAAAAAAAAAAAAAAAAAAAAAAAAAAAAAAAAAAAAAAAAAAAAAAAAAAAAAAAAAAAAAAAAAAAAAAAAAAAAAAAAAAAAAAAAAAAAAAAAAAAAAAAAAAAAAAAAAAAAAAAAAAAAAAAAAAAAAAAAAAAAAAAAAAAAAAAAAAAAAAAAAAAAAAAAAAAAAAAAAAAAAAAAAAAAAAAAAAAAAAAAAAAAAAAAAAAAAAAAAAAAAAAAAAAAAAAAAAAAAAAAAAAAAAAAAAAAAAAAAAAAAAAAAAAAAAAAAAAAAAAAAAAAAAAAAAAAAAAAAAAAAAAAAAAAAAAAAAAAAAAAAAAAAAAAAAAAAAAAAAAAAAAAAAAAAAAAAAAAAAAAAAAAAAAAAAAAAAAAAAAAAAAAAAAAAAAAAAAAAAAAAAAAAAAAAAAAAAAAAAAAAAAAAAAAAAAAAAAAAAAAAAAAAAAAAAAAAAAAAAAAAAAAAAAAAAAAAAAAAAAAAAAAAAAAAAAAAAAAAAAAAAAAAAAAAAAAAAAAAAAAAAAAAAAAAAAAAAAAAAAAAAAAAAAAAAAAAAAAAAAAAAAAAAAAAAAAAAAAAAAAAAAAAAAAAAAAAAAAAAAAAAAAAAAAAAAAAAAAAAAAAAAAAAAAAAAAAAAAAAAAAAAAAAAAAAAAAAAAAAAAAAAAAAAAAAAAAAAAAAAAAAAAAAAAAAAAAAAAAAAAAAAAAAAAAAAAAAAAAAAAAAAAAAAAAAAAAAAAAAAAAAAAAAAAAAAAAAAAAAAAAAAAAAAAAAAAAAAAAAAAAAAAAAAAAAAAAAAAAAAAAAAAAAAAAAAAAAAAAAAAAAAAAAAAAAAAAAAAAAAAAAAAAAAAAAAAAAAAAAAAAAAAAAAAAAAAAAAAAAAAAAAAAAAAAAAAAAAAAAAAAAAAAAAAAAAAAAAAAAAAAAAAAAAAAAAAAAAAAAAAAAAAAAAAAAAAAAAAAAAAAAAAAAAAAAAAAAAAAAAAAAAAAAAAAAAAAAAAAAAAAAAAAAAAAAAAAAAAAAAAAAAAAAAAAAAAAAAAAAAAAAAAAAAAAAAAAAAAAAAAAAAAAAAAAAAAAAAAAAAAAAAAAAAAAAAAAAAAAAAAAAAAAAAAAAAAAAAAAAAAAAAAAAAAAAAAAAAAAAAAAAAAAAAAAAAAAAAAAAAAAAAAAAAAAAAAAAAAAAAAAAAAAAAAAAAAAAAAAAAAAAAAAAAAAAAAAAAAAAAAAAAAAAAAAAAAAAAAAAAAAAAAAAAAAAAAAAAAAAAAAAAAAAAAAAAAAAAAAAAAAAAAAAAAAAAAAAAAAAAAAAAAAAAAAAAAAAAAAAAAAAAAAAAAAAAAAAAAAAAAAAAAAAAAAAAAAAAAAAAAAAAAAAAAAAAAAAAAAAAAAAAAAAAAAAAAAAAAAAAAAAAAAAAAAAAAAAAAAAAAAAAAAAAAAAAAAAAAAAAAAAAAAAAAAAAAAAAAAAAAAAAAAAAAAAAAAAAAAAAAAAAAAAAAAAAAAAAAAAAAAAAAAAAAAAAAAAAAAAAAAAAAAAAAAAAAAAAAAAAAAAAAAAAAAAAAAAAAAAAAAAAAAAAAAAAAAAAAAAAAAAAAAAAAAAAAAAAAAAAAAAAAAAAAAAAAAAAAAAAAAAAAAAAAAAAAAAAAAAAAAAAAAAAAAAAAAAAAAAAAAAAAAAAAAAAAAAAAAAAAAAAAAAAAAAAAAAAAAAAAAAAAAAAAAAAAAAAAAAAAAAAAAAAAAAAAAAAAAAAAAAAAAAAAAAAAAAAAAAAAAAAAAAAAAAAAAAAAAAAAAAAAAAAAAAAAAAAAAAAAAAAAAAAAAAAAAAAAAAAAAAAAAAAAAAAAAAAAAAAAAAAAAAAAAAAAAAAAAAAAAAAAAAAAAAAAAAAAAAAAAAAAAAAAAAAAAAAAAAAAAAAAAAAAAAAAAAAAAAAAAAAAAAAAAAAAAAAAAAAAAAAAAAAAAAAAAAAAAAAAAAAAAAAAAAAAAAAAAAAAAAAAAAAAAAAAAAAAAAAAAAAAAAAAAAAAAAAAAAAAAAAAAAAAAAAAAAAAAAAAAAAAAAAAAAAAAAAAAAAAAAAAAAAAAAAAAAAAAAAAAAAAAAAAAAAAAAAAAAAAAAAAAAAAAAAAAAAAAAAAAAAAAAAAAAAAAAAAAAAAAAAAAAAAAAAAAAAAAAAAAAAAAAAAAAAAAAAAAAAAAAAAAAAAAAAAAAAAAAAAAAAAAAAAAAAAAAAAAAAAAAAAAAAAAAAAAAAAAAAAAAAAAAAAAAAAAAAAAAAAAAAAAAAAAAAAAAAAAAAAAAAAAAAAAAAAAAAAAAAAAAAAAAAAAAAAAAAAAAAAAAAAAAAAAAAAAAAAAAAAAAAAAAAAAAAAAAAAAAAAAAAAAAAAAAAAAAAAAAAAAAAAAAAAAAAAAAAAAAAAAAAAAAAAAAAAAAAAAAAAAAAAAAAAAAAAAAAAAAAAAAAAAAAAAAAAAAAAAAAAAAAAAAAAAAAAAAAAAAAAAAAAAAAAAAAAAAAAAAAAAAAAAAAAAAAAAAAAAAAAAAAAAAAAAAAAAAAAAAAAAAAAAAAAAAAAAAAAAAAAAAAAAAAAAAAAAAAAAAAAAAAAAAAAAAAAAAAAAAAAAAAAAAAAAAAAAAAAAAAAAAAAAAAAAAAAAAAAAAAAAAAAAAAAAAAAAAAAAAAAAAAAAAAAAAAAAAAAAAAAAAAAAAAAAAAAAAAAAAAAAAAAAAAAAAAAAAAAAAAAAAAAAAAAAAAAAAAAAAAAAAAAAAAAAAAAAAAAAAAAAAAAAAAAAAAAAAAAAAAAAAAAAAAAAAAAAAAAAAAAAAAAAAAAAAAAAAAAAAAAAAAAAAAAAAAAAAAAAAAAAAAAAAAAAAAAAAAAAAAAAAAAAAAAAAAAAAAAAAAAAAAAAAAAAAAAAAAAAAAAAAAAAAAAAAAAAAAAAAAAAAAAAAAAAAAAAAAAAAAAAAAAAAAAAAAAAAAAAAAAAAAAAAAAAAAAAAAAAAAAAAAAAAAAAAAAAAAAAAAAAAAAAAAAAAAAAAAAAAAAAAAAAAAAAAAAAAAAAAAAAAAAAAAAAAAAAAAAAAAAAAAAAAAAAAAAAAAAAAAAAAAAAAAAAAAAAAAAAAAAAAAAAAAAAAAAAAAAAAAAAAAAAAAAAAAAAAAAAAAAAAAAAAAAAAAAAAAAAAAAAAAAAAAAAAAAAAAAAAAAAAAAAAAAAAAAAAAAAAAAAAAAAAAAAAAAAAAAAAAAAAAAAAAAAAAAAAAAAAAAAAAAAAAAAAAAAAAAAAAAAAAAAAAAAAAAAAAAAAAAAAAAAAAAAAAAAAAAAAAAAAAAAAAAAAAAAAAAAAAAAAAAAAAAAAAAAAAAAAAAAAAAAAAAAAAAAAAAAAAAAAAAAAAAAAAAAAAAAAAAAAAAAAAAAAAAAAAAAAAAAAAAAAAAAAAAAAAAAAAAAAAAAAAAAAAAAAAAAAAAAAAAAAAAAAAAAAAAAAAAAAAAAAAAAAAAAAAAAAAAAAAAAAAAAAAAAAAAAAAAAAAAAAAAAAAAAAAAAAAAAAAAAAAAAAAAAAAAAAAAAAAAAAAAAAAAAAAAAAAAAAAAAAAAAAAAAAAAAAAAAAAAAAAAAAAAAAAAAAAAAAAAAAAAAAAAAAAAAAAAAAAAAAAAAAAAAAAAAAAAAAAAAAAAAAAAAAAAAAAAAAAAAAAAAAAAAAAAAAAAAAAAAAAAAAAAAAAAAAAAAAAAAAAAAAAAAAAAAAAAAAAAAAAAAAAAAAAAAAAAAAAAAAAAAAAAAAAAAAAAAAAAAAAAAAAAAAAAAAAAAAAAAAAAAAAAAAAAAAAAAAAAAAAAAAAAAAAAAAAAAAAAAAAAAAAAAAAAAAAAAAAAAAAAAAAAAAAAAAAAAAAAAAAAAAAAAAAAAAAAAAAAAAAAAAAAAAAAAAAAAAAAAAAAAAAAAAAAAAAAAAAAAAAAAAAAAAAAAAAAAAAAAAAAAAAAAAAAAAAAAAAAAAAAAAAAAAAAAAAAAAAAAAAAAAAAAAAAAAAAAAAAAAAAAAAAAAAAAAAAAAAAAAAAAAAAAAAAAAAAAAAAAAAAAAAAAAAAAAAAAAAAAAAAAAAAAAAAAAAAAAAAAAAAAAAAAAAAAAAAAAAAAAAAAAAAAAAAAAAAAAAAAAAAAAAAAAAAAAAAAAAAAAAAAAAAAAAAAAAAAAAAAAAAAAAAAAAAAAAAAAAAAAAAAAAAAAAAAAAAAAAAAAAAAAAAAAAAAAAAAAAAAAAAAAAAAAAAAAAAAAAAAAAAAAAAAAAAAAAAAAAAAAAAAAAAAAAAAAAAAAAAAAAAAAAAAAAAAAAAAAAAAAAAAAAAAAAAAAAAAAAAAAAAAAAAAAAAAAAAAAAAAAAAAAAAAAAAAAAAAAAAAAAAAAAAAAAAAAAAAAAAAAAAAAAAAAAAAAAAAAAAAAAAAAAAAAAAAAAAAAAAAAAAAAAAAAAAAAAAAAAAAAAAAAAAAAAAAAAAAAAAAAAAAAAAAAAAAAAAAAAAAAAAAAAAAAAAAAAAAAAAAAAAAAAAAAAAAAAAAAAAAAAAAAAAAAAAAAAAAAAAAAAAAAAAAAAAAAAAAAAAAAAAAAAAAAAAAAAAAAAAAAAAAAAAAAAAAAAAAAAAAAAAAAAAAAAAAAAAAAAAAAAAAAAAAAAAAAAAAAAAAAAAAAAAAAAAAAAAAAAAAAAAAAAAAAAAAAAAAAAAAAAAAAAAAAAAAAAAAAAAAAAAAAAAAAAAAAAAAAAAAAAAAAAAAAAAAAAAAAAAAAAAAAAAAAAAAAAAAAAAAAAAAAAAAAAAAAAAAAAAAAAAAAAAAAAAAAAAAAAAAAAAAAAAAAAAAAAAAAAAAAAAAAAAAAAAAAAAAAAAAAAAAAAAAAAAAAAAAAAAAAAAAAAAAAAAAAAAAAAAAAAAAAAAAAAAAAAAAAAAAAAAAAAAAAAAAAAAAAAAAAAAAAAAAAAAAAAAAAAAAAAAAAAAAAAAAAAAAAAAAAAAAAAAAAAAAAAAAAAAAAAAAAAAAAAAAAAAAAAAAAAAAAAAAAAAAAAAAAAAAAAAAAAAAAAAAAAAAAAAAAAAAAAAAAAAAAAAAAAAAAAAAAAAAAAAAAAAAAAAAAAAAAAAAAAAAAAAAAAAAAAAAAAAAAAAAAAAAAAAAAAAAAAAAAAAAAAAAAAAAAAAAAAAAAAAAAAAAAAAAAAAAAAAAAAAAAAAAAAAAAAAAAAAAAAAAAAAAAAAAAAAAAAAAAAAAAAAAAAAAAAAAAAAAAAAAAAAAAAAAAAAAAAAAAAAAAAAAAAAAAAAAAAAAAAAAAAAAAAAAAAAAAAAAAAAAAAAAAAAAAAAAAAAAAAAAAAAAAAAAAAAAAAAAAAAAAAAAAAAAAAAAAAAAAAAAAAAAAAAAAAAAAAAAAAAAAAAAAAAAAAAAAAAAAAAAAAAAAAAAAAAAAAAAAAAAAAAAAAAAAAAAAAAAAAAAAAAAAAAAAAAAAAAAAAAAAAAAAAAAAAAAAAAAAAAAAAAAAAAAAAAAAAAAAAAAAAAAAAAAAAAAAAAAAAAAAAAAAAAAAAAAAAAAAAAAAAAAAAAAAAAAAAAAAAAAAAAAAAAAAAAAAAAAAAAAAAAAAAAAAAAAAAAAAAAAAAAAAAAAAAAAAAAAAAAAAAAAAAAAAAAAAAAAAAAAAAAAAAAAAAAAAAAAAAAAAAAAAAAAAAAAAAAAAAAAAAAAAAAAAAAAAAAAAAAAAAAAAAAAAAAAAAAAAAAAAAAAAAAAAAAAAAAAAAAAAAAAAAAAAAAAAAAAAAAAAAAAAAAAAAAAAAAAAAAAAAAAAAAAAAAAAAAAAAAAAAAAAAAAAAAAAAAAAAAAAAAAAAAAAAAAAAAAAAAAAAAAAAAAAAAAAAAAAAAAAAAAAAAAAAAAAAAAAAAAAAAAAAAAAAAAAAAAAAAAAAAAAAAAAAAAAAAAAAAAAAAAAAAAAAAAAAAAAAAAAAAAAAAAAAAAAAAAAAAAAAAAAAAAAAAAAAAAAAAAAAAAAAAAAAAAAAAAAAAAAAAAAAAAAAAAAAAAAAAAAAAAAAAAAAAAAAAAAAAAAAAAAAAAAAAAAAAAAAAAAAAAAAAAAAAAAAAAAAAAAAAAAAAAAAAAAAAAAAAAAAAAAAAAAAAAAAAAAAAAAAAAAAAAAAAAAAAAAAAAAAAAAAAAAAAAAAAAAAAAAAAAAAAAAAAAAAAAAAAAAAAAAAAAAAAAAAAAAAAAAAAAAAAAAAAAAAAAAAAAAAAAAAAAAAAAAAAAAAAAAAAAAAAAAAAAAAAAAAAAAAAAAAAAAAAAAAAAAAAAAAAAAAAAAAAAAAAAAAAAAAAAAAAAAAAAAAAAAAAAAAAAAAAAAAAAAAAAAAAAAAAAAAAAAAAAAAAAAAAAAAAAAAAAAAAAAAAAAAAAAAAAAAAAAAAAAAAAAAAAAAAAAAAAAAAAAAAAAAAAAAAAAAAAAAAAAAAAAAAAAAAAAAAAAAAAAAAAAAAAAAAAAAAAAAAAAAAAAAAAAAAAAAAAAAAAAAAAAAAAAAAAAAAAAAAAAAAAAAAAAAAAAAAAAAAAAAAAAAAAAAAAAAAAAAAAAAAAAAAAAAAAAAAAAAAAAAAAAAAAAAAAAAAAAAAAAAAAAAAAAAAAAAAAAAAAAAAAAAAAAAAAAAAAAAAAAAAAAAAAAAAAAAAAAAAAAAAAAAAAAAAAAAAAAAAAAAAAAAAAAAAAAAAAAAAAAAAAAAAAAAAAAAAAAAAAAAAAAAAAAAAAAAAAAAAAAAAAAAAAAAAAAAAAAAAAAAAAAAAAAAAAAAAAAAAAAAAAAAAAAAAAAAAAAAAAAAAAAAAAAAAAAAAAAAAAAAAAAAAAAAAAAAAAAAAAAAAAAAAAAAAAAAAAAAAAAAAAAAAAAAAAAAAAAAAAAAAAAAAAAAAAAAAAAAAAAAAAAAAAAAAAAAAAAAAAAAAAAAAAAAAAAAAAAAAAAAAAAAAAAAAAAAAAAAAAAAAAAAAAAAAAAAAAAAAAAAAAAAAAAAAAAAAAAAAAAAAAAAAAAAAAAAAAAAAAAAAAAAAAAAAAAAAAAAAAAAAAAAAAAAAAAAAAAAAAAAAAAAAAAAAAAAAAAAAAAAAAAAAAAAAAAAAAAAAAAAAAAAAAAAAAAAAAAAAAAAAAAAAAAAAAAAAAAAAAAAAAAAAAAAAAAAAAAAAAAAAAAAAAAAAAAAAAAAAAAAAAAAAAAAAAAAAAAAAAAAAAAAAAAAAAAAAAAAAAAAAAAAAAAAAAAAAAAAAAAAAAAAAAAAAAAAAAAAAAAAAAAAAAAAAAAAAAAAAAAAAAAAAAAAAAAAAAAAAAAAAAAAAAAAAAAAAAAAAAAAAAAAAAAAAAAAAAAAAAAAAAAAAAAAAAAAAAAAAAAAAAAAAAAAAAAAAAAAAAAAAAAAAAAAAAAAAAAAAAAAAAAAAAAAAAAAAAAAAAAAAAAAAAAAAAAAAAAAAAAAAAAAAAAAAAAAAAAAAAAAAAAAAAAAAAAAAAAAAAAAAAAAAAAAAAAAAAAAAAAAAAAAAAAAAAAAAAAAAAAAAAAAAAAAAAAAAAAAAAAAAAAAAAAAAAAAAAAAAAAAAAAAAAAAAAAAAAAAAAAAAAAAAAAAAAAAAAAAAAAAAAAAAAAAAAAAAAAAAAAAAAAAAAAAAAAAAAAAAAAAAAAAAAAAAAAAAAAAAAAAAAAAAAAAAAAAAAAAAAAAAAAAAAAAAAAAAAAAAAAAAAAAAAAAAAAAAAAAAAAAAAAAAAAAAAAAAAAAAAAAAAAAAAAAAAAAAAAAAAAAAAAAAAAAAAAAAAAAAAAAAAAAAAAAAAAAAAAAAAAAAAAAAAAAAAAAAAAAAAAAAAAAAAAAAAAAAAAAAAAAAAAAAAAAAAAAAAAAAAAAAAAAAAAAAAAAAAAAAAAAAAAAAAAAAAAAAAAAAAAAAAAAAAAAAAAAAAAAAAAAAAAAAAAAAAAAAAAAAAAAAAAAAAAAAAAAAAAAAAAAAAAAAAAAAAAAAAAAAAAAAAAAAAAAAAAAAAAAAAAAAAAAAAAAAAAAAAAAAAAAAAAAAAAAAAAAAAAAAAAAAAAAAAAAAAAAAAAAAAAAAAAAAAAAAAAAAAAAAAAAAAAAAAAAAAAAAAAAAAAAAAAAAAAAAAAAAAAAAAAAAAAAAAAAAAAAAAAAAAAAAAAAAAAAAAAAAAAAAAAAAAAAAAAAAAAAAAAAAAAAAAAAAAA==\",\"dtype\":\"float64\",\"shape\":[2000]},\"y\":{\"__ndarray__\":\"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\",\"dtype\":\"float64\",\"shape\":[2000]}}},\"id\":\"545d5402-f6f9-470a-a750-ee2f31e1985b\",\"type\":\"ColumnDataSource\"},{\"attributes\":{\"axis_label\":\"X_B\",\"formatter\":{\"id\":\"500999ad-9152-4f3b-9d2f-a388199dac16\",\"type\":\"BasicTickFormatter\"},\"plot\":{\"id\":\"fa109a08-58a5-4c79-918c-221bb6b10b63\",\"subtype\":\"Figure\",\"type\":\"Plot\"},\"ticker\":{\"id\":\"b4951c26-2fff-4695-8bbe-a02e0063ef35\",\"type\":\"BasicTicker\"}},\"id\":\"1fe105ff-e236-4070-8eb8-05b06583fa53\",\"type\":\"LinearAxis\"},{\"attributes\":{\"plot\":{\"id\":\"fa109a08-58a5-4c79-918c-221bb6b10b63\",\"subtype\":\"Figure\",\"type\":\"Plot\"}},\"id\":\"a38252da-f4c9-4f2d-8484-e97fbb0833ff\",\"type\":\"WheelZoomTool\"},{\"attributes\":{\"overlay\":{\"id\":\"14154deb-da4f-4638-8fe6-1c40c9a0a566\",\"type\":\"BoxAnnotation\"},\"plot\":{\"id\":\"fa109a08-58a5-4c79-918c-221bb6b10b63\",\"subtype\":\"Figure\",\"type\":\"Plot\"}},\"id\":\"b6dfe955-0198-4789-8b8d-d5c0c3da7af5\",\"type\":\"BoxZoomTool\"},{\"attributes\":{\"bottom_units\":\"screen\",\"fill_alpha\":{\"value\":0.5},\"fill_color\":{\"value\":\"lightgrey\"},\"left_units\":\"screen\",\"level\":\"overlay\",\"line_alpha\":{\"value\":1.0},\"line_color\":{\"value\":\"black\"},\"line_dash\":[4,4],\"line_width\":{\"value\":2},\"plot\":null,\"render_mode\":\"css\",\"right_units\":\"screen\",\"top_units\":\"screen\"},\"id\":\"14154deb-da4f-4638-8fe6-1c40c9a0a566\",\"type\":\"BoxAnnotation\"},{\"attributes\":{\"plot\":{\"id\":\"fa109a08-58a5-4c79-918c-221bb6b10b63\",\"subtype\":\"Figure\",\"type\":\"Plot\"}},\"id\":\"46d33a43-f5b8-4471-9cac-9a51d5d48f13\",\"type\":\"SaveTool\"},{\"attributes\":{},\"id\":\"10e5c0c2-36c7-4868-9fb2-6f76c52ad823\",\"type\":\"BasicTickFormatter\"}],\"root_ids\":[\"f5e4cd00-7a54-4885-bcf5-60d8709bc5d9\"]},\"title\":\"Bokeh Application\",\"version\":\"0.12.6\"}};\n",
       "            var render_items = [{\"docid\":\"e8403bd8-2d24-4c31-9301-7d1111f57aa3\",\"elementid\":\"d58abfd6-4325-4134-80d1-fb7586deb937\",\"modelid\":\"f5e4cd00-7a54-4885-bcf5-60d8709bc5d9\",\"notebook_comms_target\":\"9fbb0183-7fa4-4fd1-be1e-1170d160c31b\"}];\n",
       "            \n",
       "            Bokeh.embed.embed_items(docs_json, render_items);\n",
       "          };\n",
       "          if (document.readyState != \"loading\") fn();\n",
       "          else document.addEventListener(\"DOMContentLoaded\", fn);\n",
       "        })();\n",
       "      },\n",
       "      function(Bokeh) {\n",
       "      }\n",
       "    ];\n",
       "  \n",
       "    function run_inline_js() {\n",
       "      \n",
       "      if ((window.Bokeh !== undefined) || (force === true)) {\n",
       "        for (var i = 0; i < inline_js.length; i++) {\n",
       "          inline_js[i](window.Bokeh);\n",
       "        }if (force === true) {\n",
       "          display_loaded();\n",
       "        }} else if (Date.now() < window._bokeh_timeout) {\n",
       "        setTimeout(run_inline_js, 100);\n",
       "      } else if (!window._bokeh_failed_load) {\n",
       "        console.log(\"Bokeh: BokehJS failed to load within specified timeout.\");\n",
       "        window._bokeh_failed_load = true;\n",
       "      } else if (force !== true) {\n",
       "        var cell = $(document.getElementById(\"d58abfd6-4325-4134-80d1-fb7586deb937\")).parents('.cell').data().cell;\n",
       "        cell.output_area.append_execute_result(NB_LOAD_WARNING)\n",
       "      }\n",
       "  \n",
       "    }\n",
       "  \n",
       "    if (window._bokeh_is_loading === 0) {\n",
       "      console.log(\"Bokeh: BokehJS loaded, going straight to plotting\");\n",
       "      run_inline_js();\n",
       "    } else {\n",
       "      load_libs(js_urls, function() {\n",
       "        console.log(\"Bokeh: BokehJS plotting callback run at\", now());\n",
       "        run_inline_js();\n",
       "      });\n",
       "    }\n",
       "  }(this));\n",
       "</script>"
      ]
     },
     "metadata": {},
     "output_type": "display_data"
    },
    {
     "data": {
      "application/vnd.jupyter.widget-view+json": {
       "model_id": "13f0893defbc4a1e9d4ded4b19d15493"
      }
     },
     "metadata": {},
     "output_type": "display_data"
    }
   ],
   "source": [
    "xb_plot = np.linspace(0, 1, 1000)  # discritized plotting domain\n",
    "\n",
    "p = figure(title=\"Free Energy, $G$\", plot_height=300, plot_width=600, x_range=(0,1))\n",
    "p.xaxis.axis_label = 'X_B'\n",
    "p.yaxis.axis_label = 'G'\n",
    "r = p.line(xb_plot, lambdify(xb, G.subs({T: 300, Hmix:0, ua: -2000, ub:-1000}), 'numpy')(xb_plot), line_width=3)\n",
    "s1 = Span(location=None, dimension='height', line_color='red', line_dash='dashed', line_width=3)\n",
    "s2 = Span(location=None, dimension='height', line_color='red', line_dash='dashed', line_width=3)\n",
    "p.add_layout(s1)\n",
    "p.add_layout(s2)\n",
    "\n",
    "phase_diag = figure(title=\"Phase diagram\", plot_height=300, plot_width=600, x_range=(0,1), y_range=(0,2000))\n",
    "phase_diag.xaxis.axis_label = 'X_B'\n",
    "phase_diag.yaxis.axis_label = 'T'\n",
    "xt = phase_diag.line(np.linspace(0,0,2000), np.tile(np.linspace(0,2000,1000), 2), line_width=3)\n",
    "ps1 = Span(location=None, dimension='height', line_color='red', line_dash='dashed', line_width=3)\n",
    "ps2 = Span(location=None, dimension='height', line_color='red', line_dash='dashed', line_width=3)\n",
    "hspan = Span(location=300, dimension='width', line_color='red', line_dash='dashed', line_width=3)\n",
    "phase_diag.add_layout(ps1)\n",
    "phase_diag.add_layout(ps2)\n",
    "phase_diag.add_layout(hspan)\n",
    "\n",
    "fig = layouts.Column(p, phase_diag)\n",
    "show(fig, notebook_handle=True)\n",
    "\n",
    "@interact(T=(0,2000, 10), Hmix=(-10000,20000, 200), ua=(-10000, 0, 100), ub=(-10000, 0, 100))\n",
    "def update(T=300, Hmix=0, ua=-2000, ub=-1000):\n",
    "    # we have to do a little wrangling to keep the labels nice.\n",
    "    # first alias the args with prefix underscores\n",
    "    _T, _Hmix, _ua, _ub = T, Hmix, ua, ub\n",
    "    # redefine as symbols for the substitution and update the curve plot\n",
    "    ua, ub, Hmix, T = symbols('ua ub Hmix T')\n",
    "    r.data_source.data['y'] = lambdify(xb, G.subs({T: _T, Hmix: _Hmix, ua: _ua, ub:_ub}), 'numpy')(xb_plot)\n",
    "    # find the roots of the second derivative and plot those as spans\n",
    "    roots = solve(G.subs({T: _T, Hmix: _Hmix, ua: _ua, ub:_ub}).diff(xb).diff(xb), xb)\n",
    "    if roots:\n",
    "        # calculate the Spans\n",
    "        if all([root.is_real for root in roots]):\n",
    "            s1.location = float(roots[0])\n",
    "            s2.location = float(roots[1])\n",
    "            ps1.location = float(roots[0])\n",
    "            ps2.location = float(roots[1])\n",
    "        else:\n",
    "            s1.location = None\n",
    "            s2.location = None\n",
    "            ps1.location = None\n",
    "            ps2.location = None\n",
    "    else:\n",
    "        s1.location = None\n",
    "        s2.location = None\n",
    "        ps1.location = None\n",
    "        ps2.location = None\n",
    "        \n",
    "    # calculate the miscibility gap, leaving T free.\n",
    "    hspan.location = _T\n",
    "    misc_roots = solve(G.subs({Hmix: _Hmix, ua: _ua, ub:_ub}).diff(xb).diff(xb), xb)\n",
    "    # calculate the miscibility gap\n",
    "    misc_xs = np.ravel(lambdify(T, misc_roots)(np.linspace(0,2000,1000)))\n",
    "    xt.data_source.data['x'] = misc_xs\n",
    "\n",
    "    push_notebook()"
   ]
  },
  {
   "cell_type": "code",
   "execution_count": null,
   "metadata": {
    "collapsed": true
   },
   "outputs": [],
   "source": []
  }
 ],
 "metadata": {
  "kernelspec": {
   "display_name": "Python 3",
   "language": "python",
   "name": "python3"
  },
  "language_info": {
   "codemirror_mode": {
    "name": "ipython",
    "version": 3
   },
   "file_extension": ".py",
   "mimetype": "text/x-python",
   "name": "python",
   "nbconvert_exporter": "python",
   "pygments_lexer": "ipython3",
   "version": "3.6.0"
  },
  "widgets": {
   "application/vnd.jupyter.widget-state+json": {
    "state": {
     "0807b250942d4e22a51e315b00ecb1a4": {
      "model_module": "jupyter-js-widgets",
      "model_module_version": "~2.1.4",
      "model_name": "LayoutModel",
      "state": {
       "_model_module_version": "~2.1.4",
       "_view_module_version": "~2.1.4"
      }
     },
     "13f0893defbc4a1e9d4ded4b19d15493": {
      "model_module": "jupyter-js-widgets",
      "model_module_version": "~2.1.4",
      "model_name": "VBoxModel",
      "state": {
       "_dom_classes": [
        "widget-interact"
       ],
       "_model_module_version": "~2.1.4",
       "_view_module_version": "~2.1.4",
       "children": [
        "IPY_MODEL_ddb5dfa5d18349659844b1bcde2fc505",
        "IPY_MODEL_7df8f2b4009144aea4f16fc1c48b00e8",
        "IPY_MODEL_e3e1ad39c5e44a2e81a3f0c5fcfdda3b",
        "IPY_MODEL_a048e813920c469291eb4a3bd5c65345",
        "IPY_MODEL_8c8cbbb4f3624e4fbe75dedaa9a446fb"
       ],
       "layout": "IPY_MODEL_0807b250942d4e22a51e315b00ecb1a4"
      }
     },
     "214bac60b3bd4e159b3ca1f741eacf0f": {
      "model_module": "jupyter-js-widgets",
      "model_module_version": "~2.1.4",
      "model_name": "LayoutModel",
      "state": {
       "_model_module_version": "~2.1.4",
       "_view_module_version": "~2.1.4"
      }
     },
     "270dbc65d38a4211ae9aa09e05d482e2": {
      "model_module": "jupyter-js-widgets",
      "model_module_version": "~2.1.4",
      "model_name": "SliderStyleModel",
      "state": {
       "_model_module_version": "~2.1.4",
       "_view_module_version": "~2.1.4"
      }
     },
     "2c413e92bb1245b2bdd130ae91a8de4c": {
      "model_module": "jupyter-js-widgets",
      "model_module_version": "~2.1.4",
      "model_name": "SliderStyleModel",
      "state": {
       "_model_module_version": "~2.1.4",
       "_view_module_version": "~2.1.4"
      }
     },
     "7df8f2b4009144aea4f16fc1c48b00e8": {
      "model_module": "jupyter-js-widgets",
      "model_module_version": "~2.1.4",
      "model_name": "IntSliderModel",
      "state": {
       "_model_module_version": "~2.1.4",
       "_view_module_version": "~2.1.4",
       "description": "Hmix",
       "layout": "IPY_MODEL_8fdac6e16053434199043a5ec1119391",
       "max": 20000,
       "min": -10000,
       "step": 200,
       "style": "IPY_MODEL_b4e74ae0dabf4a45988a769ead639ac9"
      }
     },
     "8c8cbbb4f3624e4fbe75dedaa9a446fb": {
      "model_module": "jupyter-js-widgets",
      "model_module_version": "~2.1.4",
      "model_name": "OutputModel",
      "state": {
       "_dom_classes": [],
       "_model_module": "jupyter-js-widgets",
       "_model_module_version": "~2.1.4",
       "_view_module": "jupyter-js-widgets",
       "_view_module_version": "~2.1.4",
       "layout": "IPY_MODEL_f12b288bbeaf4073b5da3ab6e9fe41dc",
       "msg_throttle": 1
      }
     },
     "8fdac6e16053434199043a5ec1119391": {
      "model_module": "jupyter-js-widgets",
      "model_module_version": "~2.1.4",
      "model_name": "LayoutModel",
      "state": {
       "_model_module_version": "~2.1.4",
       "_view_module_version": "~2.1.4"
      }
     },
     "9e6121b288f446419b42dd7e9bac138e": {
      "model_module": "jupyter-js-widgets",
      "model_module_version": "~2.1.4",
      "model_name": "LayoutModel",
      "state": {
       "_model_module_version": "~2.1.4",
       "_view_module_version": "~2.1.4"
      }
     },
     "a048e813920c469291eb4a3bd5c65345": {
      "model_module": "jupyter-js-widgets",
      "model_module_version": "~2.1.4",
      "model_name": "IntSliderModel",
      "state": {
       "_model_module_version": "~2.1.4",
       "_view_module_version": "~2.1.4",
       "description": "ub",
       "layout": "IPY_MODEL_a53a3911abf641dcb6539b5e6715b121",
       "max": 0,
       "min": -10000,
       "step": 100,
       "style": "IPY_MODEL_270dbc65d38a4211ae9aa09e05d482e2",
       "value": -1000
      }
     },
     "a53a3911abf641dcb6539b5e6715b121": {
      "model_module": "jupyter-js-widgets",
      "model_module_version": "~2.1.4",
      "model_name": "LayoutModel",
      "state": {
       "_model_module_version": "~2.1.4",
       "_view_module_version": "~2.1.4"
      }
     },
     "b4e74ae0dabf4a45988a769ead639ac9": {
      "model_module": "jupyter-js-widgets",
      "model_module_version": "~2.1.4",
      "model_name": "SliderStyleModel",
      "state": {
       "_model_module_version": "~2.1.4",
       "_view_module_version": "~2.1.4"
      }
     },
     "cf74e2b59c354c9b9054e4d1ad6d6b20": {
      "model_module": "jupyter-js-widgets",
      "model_module_version": "~2.1.4",
      "model_name": "SliderStyleModel",
      "state": {
       "_model_module_version": "~2.1.4",
       "_view_module_version": "~2.1.4"
      }
     },
     "ddb5dfa5d18349659844b1bcde2fc505": {
      "model_module": "jupyter-js-widgets",
      "model_module_version": "~2.1.4",
      "model_name": "IntSliderModel",
      "state": {
       "_model_module_version": "~2.1.4",
       "_view_module_version": "~2.1.4",
       "description": "T",
       "layout": "IPY_MODEL_214bac60b3bd4e159b3ca1f741eacf0f",
       "max": 2000,
       "step": 10,
       "style": "IPY_MODEL_cf74e2b59c354c9b9054e4d1ad6d6b20",
       "value": 300
      }
     },
     "e3e1ad39c5e44a2e81a3f0c5fcfdda3b": {
      "model_module": "jupyter-js-widgets",
      "model_module_version": "~2.1.4",
      "model_name": "IntSliderModel",
      "state": {
       "_model_module_version": "~2.1.4",
       "_view_module_version": "~2.1.4",
       "description": "ua",
       "layout": "IPY_MODEL_9e6121b288f446419b42dd7e9bac138e",
       "max": 0,
       "min": -10000,
       "step": 100,
       "style": "IPY_MODEL_2c413e92bb1245b2bdd130ae91a8de4c",
       "value": -2000
      }
     },
     "f12b288bbeaf4073b5da3ab6e9fe41dc": {
      "model_module": "jupyter-js-widgets",
      "model_module_version": "~2.1.4",
      "model_name": "LayoutModel",
      "state": {
       "_model_module_version": "~2.1.4",
       "_view_module_version": "~2.1.4"
      }
     }
    },
    "version_major": 1,
    "version_minor": 0
   }
  }
 },
 "nbformat": 4,
 "nbformat_minor": 1
}
