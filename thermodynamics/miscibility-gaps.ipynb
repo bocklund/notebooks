{
 "cells": [
  {
   "cell_type": "markdown",
   "metadata": {
    "slideshow": {
     "slide_type": "slide"
    }
   },
   "source": [
    "Miscibility Gaps\n",
    "=========\n",
    "\n"
   ]
  },
  {
   "cell_type": "code",
   "execution_count": 1,
   "metadata": {
    "scrolled": false,
    "slideshow": {
     "slide_type": "skip"
    }
   },
   "outputs": [
    {
     "data": {
      "text/html": [
       "\n",
       "    <div class=\"bk-root\">\n",
       "        <a href=\"http://bokeh.pydata.org\" target=\"_blank\" class=\"bk-logo bk-logo-small bk-logo-notebook\"></a>\n",
       "        <span id=\"0f48a9a3-714f-4abb-8f2d-cf950f113f74\">Loading BokehJS ...</span>\n",
       "    </div>"
      ]
     },
     "metadata": {},
     "output_type": "display_data"
    },
    {
     "data": {
      "application/javascript": [
       "\n",
       "(function(global) {\n",
       "  function now() {\n",
       "    return new Date();\n",
       "  }\n",
       "\n",
       "  var force = true;\n",
       "\n",
       "  if (typeof (window._bokeh_onload_callbacks) === \"undefined\" || force === true) {\n",
       "    window._bokeh_onload_callbacks = [];\n",
       "    window._bokeh_is_loading = undefined;\n",
       "  }\n",
       "\n",
       "\n",
       "  \n",
       "  if (typeof (window._bokeh_timeout) === \"undefined\" || force === true) {\n",
       "    window._bokeh_timeout = Date.now() + 5000;\n",
       "    window._bokeh_failed_load = false;\n",
       "  }\n",
       "\n",
       "  var NB_LOAD_WARNING = {'data': {'text/html':\n",
       "     \"<div style='background-color: #fdd'>\\n\"+\n",
       "     \"<p>\\n\"+\n",
       "     \"BokehJS does not appear to have successfully loaded. If loading BokehJS from CDN, this \\n\"+\n",
       "     \"may be due to a slow or bad network connection. Possible fixes:\\n\"+\n",
       "     \"</p>\\n\"+\n",
       "     \"<ul>\\n\"+\n",
       "     \"<li>re-rerun `output_notebook()` to attempt to load from CDN again, or</li>\\n\"+\n",
       "     \"<li>use INLINE resources instead, as so:</li>\\n\"+\n",
       "     \"</ul>\\n\"+\n",
       "     \"<code>\\n\"+\n",
       "     \"from bokeh.resources import INLINE\\n\"+\n",
       "     \"output_notebook(resources=INLINE)\\n\"+\n",
       "     \"</code>\\n\"+\n",
       "     \"</div>\"}};\n",
       "\n",
       "  function display_loaded() {\n",
       "    if (window.Bokeh !== undefined) {\n",
       "      var el = document.getElementById(\"0f48a9a3-714f-4abb-8f2d-cf950f113f74\");\n",
       "      el.textContent = \"BokehJS \" + Bokeh.version + \" successfully loaded.\";\n",
       "    } else if (Date.now() < window._bokeh_timeout) {\n",
       "      setTimeout(display_loaded, 100)\n",
       "    }\n",
       "  }\n",
       "\n",
       "  function run_callbacks() {\n",
       "    try {\n",
       "      window._bokeh_onload_callbacks.forEach(function(callback) { callback() });\n",
       "    }\n",
       "    finally {\n",
       "      delete window._bokeh_onload_callbacks\n",
       "    }\n",
       "    console.info(\"Bokeh: all callbacks have finished\");\n",
       "  }\n",
       "\n",
       "  function load_libs(js_urls, callback) {\n",
       "    window._bokeh_onload_callbacks.push(callback);\n",
       "    if (window._bokeh_is_loading > 0) {\n",
       "      console.log(\"Bokeh: BokehJS is being loaded, scheduling callback at\", now());\n",
       "      return null;\n",
       "    }\n",
       "    if (js_urls == null || js_urls.length === 0) {\n",
       "      run_callbacks();\n",
       "      return null;\n",
       "    }\n",
       "    console.log(\"Bokeh: BokehJS not loaded, scheduling load and callback at\", now());\n",
       "    window._bokeh_is_loading = js_urls.length;\n",
       "    for (var i = 0; i < js_urls.length; i++) {\n",
       "      var url = js_urls[i];\n",
       "      var s = document.createElement('script');\n",
       "      s.src = url;\n",
       "      s.async = false;\n",
       "      s.onreadystatechange = s.onload = function() {\n",
       "        window._bokeh_is_loading--;\n",
       "        if (window._bokeh_is_loading === 0) {\n",
       "          console.log(\"Bokeh: all BokehJS libraries loaded\");\n",
       "          run_callbacks()\n",
       "        }\n",
       "      };\n",
       "      s.onerror = function() {\n",
       "        console.warn(\"failed to load library \" + url);\n",
       "      };\n",
       "      console.log(\"Bokeh: injecting script tag for BokehJS library: \", url);\n",
       "      document.getElementsByTagName(\"head\")[0].appendChild(s);\n",
       "    }\n",
       "  };var element = document.getElementById(\"0f48a9a3-714f-4abb-8f2d-cf950f113f74\");\n",
       "  if (element == null) {\n",
       "    console.log(\"Bokeh: ERROR: autoload.js configured with elementid '0f48a9a3-714f-4abb-8f2d-cf950f113f74' but no matching script tag was found. \")\n",
       "    return false;\n",
       "  }\n",
       "\n",
       "  var js_urls = [\"https://cdn.pydata.org/bokeh/release/bokeh-0.12.6.min.js\", \"https://cdn.pydata.org/bokeh/release/bokeh-widgets-0.12.6.min.js\"];\n",
       "\n",
       "  var inline_js = [\n",
       "    function(Bokeh) {\n",
       "      Bokeh.set_log_level(\"info\");\n",
       "    },\n",
       "    \n",
       "    function(Bokeh) {\n",
       "      \n",
       "    },\n",
       "    \n",
       "    function(Bokeh) {\n",
       "      \n",
       "      document.getElementById(\"0f48a9a3-714f-4abb-8f2d-cf950f113f74\").textContent = \"BokehJS is loading...\";\n",
       "    },\n",
       "    function(Bokeh) {\n",
       "      console.log(\"Bokeh: injecting CSS: https://cdn.pydata.org/bokeh/release/bokeh-0.12.6.min.css\");\n",
       "      Bokeh.embed.inject_css(\"https://cdn.pydata.org/bokeh/release/bokeh-0.12.6.min.css\");\n",
       "      console.log(\"Bokeh: injecting CSS: https://cdn.pydata.org/bokeh/release/bokeh-widgets-0.12.6.min.css\");\n",
       "      Bokeh.embed.inject_css(\"https://cdn.pydata.org/bokeh/release/bokeh-widgets-0.12.6.min.css\");\n",
       "    }\n",
       "  ];\n",
       "\n",
       "  function run_inline_js() {\n",
       "    \n",
       "    if ((window.Bokeh !== undefined) || (force === true)) {\n",
       "      for (var i = 0; i < inline_js.length; i++) {\n",
       "        inline_js[i](window.Bokeh);\n",
       "      }if (force === true) {\n",
       "        display_loaded();\n",
       "      }} else if (Date.now() < window._bokeh_timeout) {\n",
       "      setTimeout(run_inline_js, 100);\n",
       "    } else if (!window._bokeh_failed_load) {\n",
       "      console.log(\"Bokeh: BokehJS failed to load within specified timeout.\");\n",
       "      window._bokeh_failed_load = true;\n",
       "    } else if (force !== true) {\n",
       "      var cell = $(document.getElementById(\"0f48a9a3-714f-4abb-8f2d-cf950f113f74\")).parents('.cell').data().cell;\n",
       "      cell.output_area.append_execute_result(NB_LOAD_WARNING)\n",
       "    }\n",
       "\n",
       "  }\n",
       "\n",
       "  if (window._bokeh_is_loading === 0) {\n",
       "    console.log(\"Bokeh: BokehJS loaded, going straight to plotting\");\n",
       "    run_inline_js();\n",
       "  } else {\n",
       "    load_libs(js_urls, function() {\n",
       "      console.log(\"Bokeh: BokehJS plotting callback run at\", now());\n",
       "      run_inline_js();\n",
       "    });\n",
       "  }\n",
       "}(this));"
      ]
     },
     "metadata": {},
     "output_type": "display_data"
    }
   ],
   "source": [
    "import warnings\n",
    "warnings.simplefilter('ignore')  # ignore warnings for nicer output\n",
    "import numpy as np\n",
    "from sympy import symbols, log, lambdify, solve, I\n",
    "import scipy.constants \n",
    "from ipywidgets import interact\n",
    "from bokeh.io import push_notebook, show, output_notebook\n",
    "from bokeh.plotting import figure\n",
    "from bokeh.models import Span, layouts\n",
    "output_notebook()"
   ]
  },
  {
   "cell_type": "markdown",
   "metadata": {
    "slideshow": {
     "slide_type": "slide"
    }
   },
   "source": [
    "We define a function `G` that returns $G$ for a given phase. $G$ is given as a regular solution for a binary A, B system. The mixing enthalpy, $H_\\textrm{mix}$, is a changable paramter (`Hmix`). The entropy, $S$, could concievably be modeled in several ways, but here a simple ideal mixing approximation is substituted."
   ]
  },
  {
   "cell_type": "code",
   "execution_count": 2,
   "metadata": {
    "collapsed": true,
    "slideshow": {
     "slide_type": "fragment"
    }
   },
   "outputs": [],
   "source": [
    "# define the Gibbs free energy symbolically\n",
    "ua, ub, S, Hmix, T, xb = symbols('ua ub S Hmix T xb')\n",
    "xa = 1 - xb\n",
    "G = ua*xa + ub*xb + Hmix*xa*xb - T*S\n",
    "\n",
    "\n",
    "# define the ideal mixing entropy and substitute that in our Gibbs energy function\n",
    "ideal_mixing_entropy = -scipy.constants.R*(xa*log(xa)+xb*log(xb))\n",
    "G = G.subs(S, ideal_mixing_entropy)\n",
    "\n",
    "# we'll also take the second derivative to speed up processing time later\n",
    "d2G_dx2 = G.diff(xb).diff(xb)"
   ]
  },
  {
   "cell_type": "markdown",
   "metadata": {
    "slideshow": {
     "slide_type": "slide"
    }
   },
   "source": [
    "Next we will create a plotting domain for $x_\\textrm{B}$ and create a plot with widgets that allow the temperature, mixing enthalpy, and chemical potentials of the pure elements, $\\mu_\\textrm{A}$ and $\\mu_\\textrm{B}$, to be changed.\n",
    "\n",
    "There are two plots below. The first is the free energy curve for the phase that is controlled by the temperature, mixing enthalpy and chemical potential sliders.\n",
    "\n",
    "The bottom plot is the phase diagram for the phase. It plots the miscibility gap, if there is one. If there is no miscibility gap, the plot will be blank. The horizontal line indicates the temperature of the free energy curve."
   ]
  },
  {
   "cell_type": "code",
   "execution_count": 67,
   "metadata": {
    "slideshow": {
     "slide_type": "skip"
    }
   },
   "outputs": [
    {
     "data": {
      "text/html": [
       "\n",
       "\n",
       "    <div class=\"bk-root\">\n",
       "        <div class=\"bk-plotdiv\" id=\"834f25b2-39dc-416f-a1a1-ede582c31867\"></div>\n",
       "    </div>\n",
       "<script type=\"text/javascript\">\n",
       "  \n",
       "  (function(global) {\n",
       "    function now() {\n",
       "      return new Date();\n",
       "    }\n",
       "  \n",
       "    var force = false;\n",
       "  \n",
       "    if (typeof (window._bokeh_onload_callbacks) === \"undefined\" || force === true) {\n",
       "      window._bokeh_onload_callbacks = [];\n",
       "      window._bokeh_is_loading = undefined;\n",
       "    }\n",
       "  \n",
       "  \n",
       "    \n",
       "    if (typeof (window._bokeh_timeout) === \"undefined\" || force === true) {\n",
       "      window._bokeh_timeout = Date.now() + 0;\n",
       "      window._bokeh_failed_load = false;\n",
       "    }\n",
       "  \n",
       "    var NB_LOAD_WARNING = {'data': {'text/html':\n",
       "       \"<div style='background-color: #fdd'>\\n\"+\n",
       "       \"<p>\\n\"+\n",
       "       \"BokehJS does not appear to have successfully loaded. If loading BokehJS from CDN, this \\n\"+\n",
       "       \"may be due to a slow or bad network connection. Possible fixes:\\n\"+\n",
       "       \"</p>\\n\"+\n",
       "       \"<ul>\\n\"+\n",
       "       \"<li>re-rerun `output_notebook()` to attempt to load from CDN again, or</li>\\n\"+\n",
       "       \"<li>use INLINE resources instead, as so:</li>\\n\"+\n",
       "       \"</ul>\\n\"+\n",
       "       \"<code>\\n\"+\n",
       "       \"from bokeh.resources import INLINE\\n\"+\n",
       "       \"output_notebook(resources=INLINE)\\n\"+\n",
       "       \"</code>\\n\"+\n",
       "       \"</div>\"}};\n",
       "  \n",
       "    function display_loaded() {\n",
       "      if (window.Bokeh !== undefined) {\n",
       "        var el = document.getElementById(\"834f25b2-39dc-416f-a1a1-ede582c31867\");\n",
       "        el.textContent = \"BokehJS \" + Bokeh.version + \" successfully loaded.\";\n",
       "      } else if (Date.now() < window._bokeh_timeout) {\n",
       "        setTimeout(display_loaded, 100)\n",
       "      }\n",
       "    }if ((window.Jupyter !== undefined) && Jupyter.notebook.kernel) {\n",
       "      comm_manager = Jupyter.notebook.kernel.comm_manager\n",
       "      comm_manager.register_target(\"3c026f7f-46fa-43a8-83a6-8f4f397e0627\", function () {});\n",
       "    }\n",
       "  \n",
       "    function run_callbacks() {\n",
       "      try {\n",
       "        window._bokeh_onload_callbacks.forEach(function(callback) { callback() });\n",
       "      }\n",
       "      finally {\n",
       "        delete window._bokeh_onload_callbacks\n",
       "      }\n",
       "      console.info(\"Bokeh: all callbacks have finished\");\n",
       "    }\n",
       "  \n",
       "    function load_libs(js_urls, callback) {\n",
       "      window._bokeh_onload_callbacks.push(callback);\n",
       "      if (window._bokeh_is_loading > 0) {\n",
       "        console.log(\"Bokeh: BokehJS is being loaded, scheduling callback at\", now());\n",
       "        return null;\n",
       "      }\n",
       "      if (js_urls == null || js_urls.length === 0) {\n",
       "        run_callbacks();\n",
       "        return null;\n",
       "      }\n",
       "      console.log(\"Bokeh: BokehJS not loaded, scheduling load and callback at\", now());\n",
       "      window._bokeh_is_loading = js_urls.length;\n",
       "      for (var i = 0; i < js_urls.length; i++) {\n",
       "        var url = js_urls[i];\n",
       "        var s = document.createElement('script');\n",
       "        s.src = url;\n",
       "        s.async = false;\n",
       "        s.onreadystatechange = s.onload = function() {\n",
       "          window._bokeh_is_loading--;\n",
       "          if (window._bokeh_is_loading === 0) {\n",
       "            console.log(\"Bokeh: all BokehJS libraries loaded\");\n",
       "            run_callbacks()\n",
       "          }\n",
       "        };\n",
       "        s.onerror = function() {\n",
       "          console.warn(\"failed to load library \" + url);\n",
       "        };\n",
       "        console.log(\"Bokeh: injecting script tag for BokehJS library: \", url);\n",
       "        document.getElementsByTagName(\"head\")[0].appendChild(s);\n",
       "      }\n",
       "    };var element = document.getElementById(\"834f25b2-39dc-416f-a1a1-ede582c31867\");\n",
       "    if (element == null) {\n",
       "      console.log(\"Bokeh: ERROR: autoload.js configured with elementid '834f25b2-39dc-416f-a1a1-ede582c31867' but no matching script tag was found. \")\n",
       "      return false;\n",
       "    }\n",
       "  \n",
       "    var js_urls = [];\n",
       "  \n",
       "    var inline_js = [\n",
       "      function(Bokeh) {\n",
       "        (function() {\n",
       "          var fn = function() {\n",
       "            var docs_json = {\"3d542aa5-88c7-4444-b110-4e308f2b56a9\":{\"roots\":{\"references\":[{\"attributes\":{\"axis_label\":\"G\",\"formatter\":{\"id\":\"496727a1-107e-4f1b-8a57-730675b90eec\",\"type\":\"BasicTickFormatter\"},\"plot\":{\"id\":\"980f2358-47f8-419e-afbf-a4c177d6608a\",\"subtype\":\"Figure\",\"type\":\"Plot\"},\"ticker\":{\"id\":\"60d992d2-d9df-4559-b4bd-4d86986df84f\",\"type\":\"BasicTicker\"}},\"id\":\"1baece52-a4b0-490e-bcdf-f159fbf0aa73\",\"type\":\"LinearAxis\"},{\"attributes\":{\"plot\":null,\"text\":\"Phase diagram\"},\"id\":\"31dcb4ad-a4c7-4407-aabb-59c88bd784e0\",\"type\":\"Title\"},{\"attributes\":{\"dimension\":1,\"plot\":{\"id\":\"980f2358-47f8-419e-afbf-a4c177d6608a\",\"subtype\":\"Figure\",\"type\":\"Plot\"},\"ticker\":{\"id\":\"60d992d2-d9df-4559-b4bd-4d86986df84f\",\"type\":\"BasicTicker\"}},\"id\":\"e628f346-14e3-48fe-afb0-87879a4e6ba3\",\"type\":\"Grid\"},{\"attributes\":{},\"id\":\"31c74256-6c7c-45c3-a56b-40b7698f7891\",\"type\":\"ToolEvents\"},{\"attributes\":{\"callback\":null},\"id\":\"e8bb529a-d776-476c-bea8-8f7978828df5\",\"type\":\"DataRange1d\"},{\"attributes\":{},\"id\":\"afe19efd-b1b0-4ec4-8fc8-be96318a7664\",\"type\":\"LinearScale\"},{\"attributes\":{\"plot\":{\"id\":\"980f2358-47f8-419e-afbf-a4c177d6608a\",\"subtype\":\"Figure\",\"type\":\"Plot\"}},\"id\":\"5684c6b2-2408-4a48-87a4-40bd2556acd9\",\"type\":\"WheelZoomTool\"},{\"attributes\":{\"bottom_units\":\"screen\",\"fill_alpha\":{\"value\":0.5},\"fill_color\":{\"value\":\"lightgrey\"},\"left_units\":\"screen\",\"level\":\"overlay\",\"line_alpha\":{\"value\":1.0},\"line_color\":{\"value\":\"black\"},\"line_dash\":[4,4],\"line_width\":{\"value\":2},\"plot\":null,\"render_mode\":\"css\",\"right_units\":\"screen\",\"top_units\":\"screen\"},\"id\":\"ac4fa4d6-7872-44c1-bc28-839ef056b6a7\",\"type\":\"BoxAnnotation\"},{\"attributes\":{\"plot\":{\"id\":\"980f2358-47f8-419e-afbf-a4c177d6608a\",\"subtype\":\"Figure\",\"type\":\"Plot\"}},\"id\":\"2fb4fbc4-5adf-4d6a-ac97-41ca6be9c838\",\"type\":\"HelpTool\"},{\"attributes\":{\"callback\":null,\"column_names\":[\"x\",\"y\"],\"data\":{\"x\":{\"__ndarray__\":\"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\",\"dtype\":\"float64\",\"shape\":[1000]},\"y\":{\"__ndarray__\":\"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\",\"dtype\":\"float64\",\"shape\":[1000]}}},\"id\":\"9b5126b7-fb00-4b9d-8a55-870ee1f58d08\",\"type\":\"ColumnDataSource\"},{\"attributes\":{\"line_alpha\":{\"value\":0.1},\"line_color\":{\"value\":\"#1f77b4\"},\"line_width\":{\"value\":3},\"x\":{\"field\":\"x\"},\"y\":{\"field\":\"y\"}},\"id\":\"1bcf0aa0-a337-412b-94b9-4e6ec9e3d6c7\",\"type\":\"Line\"},{\"attributes\":{\"below\":[{\"id\":\"a9485122-da2f-4de8-8ae0-8e3e1a27d0e3\",\"type\":\"LinearAxis\"}],\"left\":[{\"id\":\"1baece52-a4b0-490e-bcdf-f159fbf0aa73\",\"type\":\"LinearAxis\"}],\"plot_height\":300,\"renderers\":[{\"id\":\"a9485122-da2f-4de8-8ae0-8e3e1a27d0e3\",\"type\":\"LinearAxis\"},{\"id\":\"e61071ff-73cd-489d-b5ea-1a1af9c370ca\",\"type\":\"Grid\"},{\"id\":\"1baece52-a4b0-490e-bcdf-f159fbf0aa73\",\"type\":\"LinearAxis\"},{\"id\":\"e628f346-14e3-48fe-afb0-87879a4e6ba3\",\"type\":\"Grid\"},{\"id\":\"ac4fa4d6-7872-44c1-bc28-839ef056b6a7\",\"type\":\"BoxAnnotation\"},{\"id\":\"a8a4067b-bc84-42f1-a5a5-abfa95040ba4\",\"type\":\"GlyphRenderer\"},{\"id\":\"fbe8235b-92f6-44ca-86c2-1bec032c9193\",\"type\":\"Span\"},{\"id\":\"669b55f2-5e63-49df-b292-812701914037\",\"type\":\"Span\"}],\"title\":{\"id\":\"b042601f-f712-4f45-a799-db94694d57b4\",\"type\":\"Title\"},\"tool_events\":{\"id\":\"31c74256-6c7c-45c3-a56b-40b7698f7891\",\"type\":\"ToolEvents\"},\"toolbar\":{\"id\":\"d78ded12-458a-4365-bc85-22ef4efa9be2\",\"type\":\"Toolbar\"},\"x_range\":{\"id\":\"5fa1b040-8c18-4667-a6de-8f8fb18fd68b\",\"type\":\"Range1d\"},\"x_scale\":{\"id\":\"277ab136-5a00-45b4-851c-e67c446d0436\",\"type\":\"LinearScale\"},\"y_range\":{\"id\":\"e8bb529a-d776-476c-bea8-8f7978828df5\",\"type\":\"DataRange1d\"},\"y_scale\":{\"id\":\"8f624a23-0dba-4a7f-9231-747a6a6f255f\",\"type\":\"LinearScale\"}},\"id\":\"980f2358-47f8-419e-afbf-a4c177d6608a\",\"subtype\":\"Figure\",\"type\":\"Plot\"},{\"attributes\":{\"callback\":null,\"column_names\":[\"x\",\"y\"],\"data\":{\"x\":{\"__ndarray__\":\"AAAAAAAAAAAAAAAAAAAAAAAAAAAAAAAAAAAAAAAAAAAAAAAAAAAAAAAAAAAAAAAAAAAAAAAAAAAAAAAAAAAAAAAAAAAAAAAAAAAAAAAAAAAAAAAAAAAAAAAAAAAAAAAAAAAAAAAAAAAAAAAAAAAAAAAAAAAAAAAAAAAAAAAAAAAAAAAAAAAAAAAAAAAAAAAAAAAAAAAAAAAAAAAAAAAAAAAAAAAAAAAAAAAAAAAAAAAAAAAAAAAAAAAAAAAAAAAAAAAAAAAAAAAAAAAAAAAAAAAAAAAAAAAAAAAAAAAAAAAAAAAAAAAAAAAAAAAAAAAAAAAAAAAAAAAAAAAAAAAAAAAAAAAAAAAAAAAAAAAAAAAAAAAAAAAAAAAAAAAAAAAAAAAAAAAAAAAAAAAAAAAAAAAAAAAAAAAAAAAAAAAAAAAAAAAAAAAAAAAAAAAAAAAAAAAAAAAAAAAAAAAAAAAAAAAAAAAAAAAAAAAAAAAAAAAAAAAAAAAAAAAAAAAAAAAAAAAAAAAAAAAAAAAAAAAAAAAAAAAAAAAAAAAAAAAAAAAAAAAAAAAAAAAAAAAAAAAAAAAAAAAAAAAAAAAAAAAAAAAAAAAAAAAAAAAAAAAAAAAAAAAAAAAAAAAAAAAAAAAAAAAAAAAAAAAAAAAAAAAAAAAAAAAAAAAAAAAAAAAAAAAAAAAAAAAAAAAAAAAAAAAAAAAAAAAAAAAAAAAAAAAAAAAAAAAAAAAAAAAAAAAAAAAAAAAAAAAAAAAAAAAAAAAAAAAAAAAAAAAAAAAAAAAAAAAAAAAAAAAAAAAAAAAAAAAAAAAAAAAAAAAAAAAAAAAAAAAAAAAAAAAAAAAAAAAAAAAAAAAAAAAAAAAAAAAAAAAAAAAAAAAAAAAAAAAAAAAAAAAAAAAAAAAAAAAAAAAAAAAAAAAAAAAAAAAAAAAAAAAAAAAAAAAAAAAAAAAAAAAAAAAAAAAAAAAAAAAAAAAAAAAAAAAAAAAAAAAAAAAAAAAAAAAAAAAAAAAAAAAAAAAAAAAAAAAAAAAAAAAAAAAAAAAAAAAAAAAAAAAAAAAAAAAAAAAAAAAAAAAAAAAAAAAAAAAAAAAAAAAAAAAAAAAAAAAAAAAAAAAAAAAAAAAAAAAAAAAAAAAAAAAAAAAAAAAAAAAAAAAAAAAAAAAAAAAAAAAAAAAAAAAAAAAAAAAAAAAAAAAAAAAAAAAAAAAAAAAAAAAAAAAAAAAAAAAAAAAAAAAAAAAAAAAAAAAAAAAAAAAAAAAAAAAAAAAAAAAAAAAAAAAAAAAAAAAAAAAAAAAAAAAAAAAAAAAAAAAAAAAAAAAAAAAAAAAAAAAAAAAAAAAAAAAAAAAAAAAAAAAAAAAAAAAAAAAAAAAAAAAAAAAAAAAAAAAAAAAAAAAAAAAAAAAAAAAAAAAAAAAAAAAAAAAAAAAAAAAAAAAAAAAAAAAAAAAAAAAAAAAAAAAAAAAAAAAAAAAAAAAAAAAAAAAAAAAAAAAAAAAAAAAAAAAAAAAAAAAAAAAAAAAAAAAAAAAAAAAAAAAAAAAAAAAAAAAAAAAAAAAAAAAAAAAAAAAAAAAAAAAAAAAAAAAAAAAAAAAAAAAAAAAAAAAAAAAAAAAAAAAAAAAAAAAAAAAAAAAAAAAAAAAAAAAAAAAAAAAAAAAAAAAAAAAAAAAAAAAAAAAAAAAAAAAAAAAAAAAAAAAAAAAAAAAAAAAAAAAAAAAAAAAAAAAAAAAAAAAAAAAAAAAAAAAAAAAAAAAAAAAAAAAAAAAAAAAAAAAAAAAAAAAAAAAAAAAAAAAAAAAAAAAAAAAAAAAAAAAAAAAAAAAAAAAAAAAAAAAAAAAAAAAAAAAAAAAAAAAAAAAAAAAAAAAAAAAAAAAAAAAAAAAAAAAAAAAAAAAAAAAAAAAAAAAAAAAAAAAAAAAAAAAAAAAAAAAAAAAAAAAAAAAAAAAAAAAAAAAAAAAAAAAAAAAAAAAAAAAAAAAAAAAAAAAAAAAAAAAAAAAAAAAAAAAAAAAAAAAAAAAAAAAAAAAAAAAAAAAAAAAAAAAAAAAAAAAAAAAAAAAAAAAAAAAAAAAAAAAAAAAAAAAAAAAAAAAAAAAAAAAAAAAAAAAAAAAAAAAAAAAAAAAAAAAAAAAAAAAAAAAAAAAAAAAAAAAAAAAAAAAAAAAAAAAAAAAAAAAAAAAAAAAAAAAAAAAAAAAAAAAAAAAAAAAAAAAAAAAAAAAAAAAAAAAAAAAAAAAAAAAAAAAAAAAAAAAAAAAAAAAAAAAAAAAAAAAAAAAAAAAAAAAAAAAAAAAAAAAAAAAAAAAAAAAAAAAAAAAAAAAAAAAAAAAAAAAAAAAAAAAAAAAAAAAAAAAAAAAAAAAAAAAAAAAAAAAAAAAAAAAAAAAAAAAAAAAAAAAAAAAAAAAAAAAAAAAAAAAAAAAAAAAAAAAAAAAAAAAAAAAAAAAAAAAAAAAAAAAAAAAAAAAAAAAAAAAAAAAAAAAAAAAAAAAAAAAAAAAAAAAAAAAAAAAAAAAAAAAAAAAAAAAAAAAAAAAAAAAAAAAAAAAAAAAAAAAAAAAAAAAAAAAAAAAAAAAAAAAAAAAAAAAAAAAAAAAAAAAAAAAAAAAAAAAAAAAAAAAAAAAAAAAAAAAAAAAAAAAAAAAAAAAAAAAAAAAAAAAAAAAAAAAAAAAAAAAAAAAAAAAAAAAAAAAAAAAAAAAAAAAAAAAAAAAAAAAAAAAAAAAAAAAAAAAAAAAAAAAAAAAAAAAAAAAAAAAAAAAAAAAAAAAAAAAAAAAAAAAAAAAAAAAAAAAAAAAAAAAAAAAAAAAAAAAAAAAAAAAAAAAAAAAAAAAAAAAAAAAAAAAAAAAAAAAAAAAAAAAAAAAAAAAAAAAAAAAAAAAAAAAAAAAAAAAAAAAAAAAAAAAAAAAAAAAAAAAAAAAAAAAAAAAAAAAAAAAAAAAAAAAAAAAAAAAAAAAAAAAAAAAAAAAAAAAAAAAAAAAAAAAAAAAAAAAAAAAAAAAAAAAAAAAAAAAAAAAAAAAAAAAAAAAAAAAAAAAAAAAAAAAAAAAAAAAAAAAAAAAAAAAAAAAAAAAAAAAAAAAAAAAAAAAAAAAAAAAAAAAAAAAAAAAAAAAAAAAAAAAAAAAAAAAAAAAAAAAAAAAAAAAAAAAAAAAAAAAAAAAAAAAAAAAAAAAAAAAAAAAAAAAAAAAAAAAAAAAAAAAAAAAAAAAAAAAAAAAAAAAAAAAAAAAAAAAAAAAAAAAAAAAAAAAAAAAAAAAAAAAAAAAAAAAAAAAAAAAAAAAAAAAAAAAAAAAAAAAAAAAAAAAAAAAAAAAAAAAAAAAAAAAAAAAAAAAAAAAAAAAAAAAAAAAAAAAAAAAAAAAAAAAAAAAAAAAAAAAAAAAAAAAAAAAAAAAAAAAAAAAAAAAAAAAAAAAAAAAAAAAAAAAAAAAAAAAAAAAAAAAAAAAAAAAAAAAAAAAAAAAAAAAAAAAAAAAAAAAAAAAAAAAAAAAAAAAAAAAAAAAAAAAAAAAAAAAAAAAAAAAAAAAAAAAAAAAAAAAAAAAAAAAAAAAAAAAAAAAAAAAAAAAAAAAAAAAAAAAAAAAAAAAAAAAAAAAAAAAAAAAAAAAAAAAAAAAAAAAAAAAAAAAAAAAAAAAAAAAAAAAAAAAAAAAAAAAAAAAAAAAAAAAAAAAAAAAAAAAAAAAAAAAAAAAAAAAAAAAAAAAAAAAAAAAAAAAAAAAAAAAAAAAAAAAAAAAAAAAAAAAAAAAAAAAAAAAAAAAAAAAAAAAAAAAAAAAAAAAAAAAAAAAAAAAAAAAAAAAAAAAAAAAAAAAAAAAAAAAAAAAAAAAAAAAAAAAAAAAAAAAAAAAAAAAAAAAAAAAAAAAAAAAAAAAAAAAAAAAAAAAAAAAAAAAAAAAAAAAAAAAAAAAAAAAAAAAAAAAAAAAAAAAAAAAAAAAAAAAAAAAAAAAAAAAAAAAAAAAAAAAAAAAAAAAAAAAAAAAAAAAAAAAAAAAAAAAAAAAAAAAAAAAAAAAAAAAAAAAAAAAAAAAAAAAAAAAAAAAAAAAAAAAAAAAAAAAAAAAAAAAAAAAAAAAAAAAAAAAAAAAAAAAAAAAAAAAAAAAAAAAAAAAAAAAAAAAAAAAAAAAAAAAAAAAAAAAAAAAAAAAAAAAAAAAAAAAAAAAAAAAAAAAAAAAAAAAAAAAAAAAAAAAAAAAAAAAAAAAAAAAAAAAAAAAAAAAAAAAAAAAAAAAAAAAAAAAAAAAAAAAAAAAAAAAAAAAAAAAAAAAAAAAAAAAAAAAAAAAAAAAAAAAAAAAAAAAAAAAAAAAAAAAAAAAAAAAAAAAAAAAAAAAAAAAAAAAAAAAAAAAAAAAAAAAAAAAAAAAAAAAAAAAAAAAAAAAAAAAAAAAAAAAAAAAAAAAAAAAAAAAAAAAAAAAAAAAAAAAAAAAAAAAAAAAAAAAAAAAAAAAAAAAAAAAAAAAAAAAAAAAAAAAAAAAAAAAAAAAAAAAAAAAAAAAAAAAAAAAAAAAAAAAAAAAAAAAAAAAAAAAAAAAAAAAAAAAAAAAAAAAAAAAAAAAAAAAAAAAAAAAAAAAAAAAAAAAAAAAAAAAAAAAAAAAAAAAAAAAAAAAAAAAAAAAAAAAAAAAAAAAAAAAAAAAAAAAAAAAAAAAAAAAAAAAAAAAAAAAAAAAAAAAAAAAAAAAAAAAAAAAAAAAAAAAAAAAAAAAAAAAAAAAAAAAAAAAAAAAAAAAAAAAAAAAAAAAAAAAAAAAAAAAAAAAAAAAAAAAAAAAAAAAAAAAAAAAAAAAAAAAAAAAAAAAAAAAAAAAAAAAAAAAAAAAAAAAAAAAAAAAAAAAAAAAAAAAAAAAAAAAAAAAAAAAAAAAAAAAAAAAAAAAAAAAAAAAAAAAAAAAAAAAAAAAAAAAAAAAAAAAAAAAAAAAAAAAAAAAAAAAAAAAAAAAAAAAAAAAAAAAAAAAAAAAAAAAAAAAAAAAAAAAAAAAAAAAAAAAAAAAAAAAAAAAAAAAAAAAAAAAAAAAAAAAAAAAAAAAAAAAAAAAAAAAAAAAAAAAAAAAAAAAAAAAAAAAAAAAAAAAAAAAAAAAAAAAAAAAAAAAAAAAAAAAAAAAAAAAAAAAAAAAAAAAAAAAAAAAAAAAAAAAAAAAAAAAAAAAAAAAAAAAAAAAAAAAAAAAAAAAAAAAAAAAAAAAAAAAAAAAAAAAAAAAAAAAAAAAAAAAAAAAAAAAAAAAAAAAAAAAAAAAAAAAAAAAAAAAAAAAAAAAAAAAAAAAAAAAAAAAAAAAAAAAAAAAAAAAAAAAAAAAAAAAAAAAAAAAAAAAAAAAAAAAAAAAAAAAAAAAAAAAAAAAAAAAAAAAAAAAAAAAAAAAAAAAAAAAAAAAAAAAAAAAAAAAAAAAAAAAAAAAAAAAAAAAAAAAAAAAAAAAAAAAAAAAAAAAAAAAAAAAAAAAAAAAAAAAAAAAAAAAAAAAAAAAAAAAAAAAAAAAAAAAAAAAAAAAAAAAAAAAAAAAAAAAAAAAAAAAAAAAAAAAAAAAAAAAAAAAAAAAAAAAAAAAAAAAAAAAAAAAAAAAAAAAAAAAAAAAAAAAAAAAAAAAAAAAAAAAAAAAAAAAAAAAAAAAAAAAAAAAAAAAAAAAAAAAAAAAAAAAAAAAAAAAAAAAAAAAAAAAAAAAAAAAAAAAAAAAAAAAAAAAAAAAAAAAAAAAAAAAAAAAAAAAAAAAAAAAAAAAAAAAAAAAAAAAAAAAAAAAAAAAAAAAAAAAAAAAAAAAAAAAAAAAAAAAAAAAAAAAAAAAAAAAAAAAAAAAAAAAAAAAAAAAAAAAAAAAAAAAAAAAAAAAAAAAAAAAAAAAAAAAAAAAAAAAAAAAAAAAAAAAAAAAAAAAAAAAAAAAAAAAAAAAAAAAAAAAAAAAAAAAAAAAAAAAAAAAAAAAAAAAAAAAAAAAAAAAAAAAAAAAAAAAAAAAAAAAAAAAAAAAAAAAAAAAAAAAAAAAAAAAAAAAAAAAAAAAAAAAAAAAAAAAAAAAAAAAAAAAAAAAAAAAAAAAAAAAAAAAAAAAAAAAAAAAAAAAAAAAAAAAAAAAAAAAAAAAAAAAAAAAAAAAAAAAAAAAAAAAAAAAAAAAAAAAAAAAAAAAAAAAAAAAAAAAAAAAAAAAAAAAAAAAAAAAAAAAAAAAAAAAAAAAAAAAAAAAAAAAAAAAAAAAAAAAAAAAAAAAAAAAAAAAAAAAAAAAAAAAAAAAAAAAAAAAAAAAAAAAAAAAAAAAAAAAAAAAAAAAAAAAAAAAAAAAAAAAAAAAAAAAAAAAAAAAAAAAAAAAAAAAAAAAAAAAAAAAAAAAAAAAAAAAAAAAAAAAAAAAAAAAAAAAAAAAAAAAAAAAAAAAAAAAAAAAAAAAAAAAAAAAAAAAAAAAAAAAAAAAAAAAAAAAAAAAAAAAAAAAAAAAAAAAAAAAAAAAAAAAAAAAAAAAAAAAAAAAAAAAAAAAAAAAAAAAAAAAAAAAAAAAAAAAAAAAAAAAAAAAAAAAAAAAAAAAAAAAAAAAAAAAAAAAAAAAAAAAAAAAAAAAAAAAAAAAAAAAAAAAAAAAAAAAAAAAAAAAAAAAAAAAAAAAAAAAAAAAAAAAAAAAAAAAAAAAAAAAAAAAAAAAAAAAAAAAAAAAAAAAAAAAAAAAAAAAAAAAAAAAAAAAAAAAAAAAAAAAAAAAAAAAAAAAAAAAAAAAAAAAAAAAAAAAAAAAAAAAAAAAAAAAAAAAAAAAAAAAAAAAAAAAAAAAAAAAAAAAAAAAAAAAAAAAAAAAAAAAAAAAAAAAAAAAAAAAAAAAAAAAAAAAAAAAAAAAAAAAAAAAAAAAAAAAAAAAAAAAAAAAAAAAAAAAAAAAAAAAAAAAAAAAAAAAAAAAAAAAAAAAAAAAAAAAAAAAAAAAAAAAAAAAAAAAAAAAAAAAAAAAAAAAAAAAAAAAAAAAAAAAAAAAAAAAAAAAAAAAAAAAAAAAAAAAAAAAAAAAAAAAAAAAAAAAAAAAAAAAAAAAAAAAAAAAAAAAAAAAAAAAAAAAAAAAAAAAAAAAAAAAAAAAAAAAAAAAAAAAAAAAAAAAAAAAAAAAAAAAAAAAAAAAAAAAAAAAAAAAAAAAAAAAAAAAAAAAAAAAAAAAAAAAAAAAAAAAAAAAAAAAAAAAAAAAAAAAAAAAAAAAAAAAAAAAAAAAAAAAAAAAAAAAAAAAAAAAAAAAAAAAAAAAAAAAAAAAAAAAAAAAAAAAAAAAAAAAAAAAAAAAAAAAAAAAAAAAAAAAAAAAAAAAAAAAAAAAAAAAAAAAAAAAAAAAAAAAAAAAAAAAAAAAAAAAAAAAAAAAAAAAAAAAAAAAAAAAAAAAAAAAAAAAAAAAAAAAAAAAAAAAAAAAAAAAAAAAAAAAAAAAAAAAAAAAAAAAAAAAAAAAAAAAAAAAAAAAAAAAAAAAAAAAAAAAAAAAAAAAAAAAAAAAAAAAAAAAAAAAAAAAAAAAAAAAAAAAAAAAAAAAAAAAAAAAAAAAAAAAAAAAAAAAAAAAAAAAAAAAAAAAAAAAAAAAAAAAAAAAAAAAAAAAAAAAAAAAAAAAAAAAAAAAAAAAAAAAAAAAAAAAAAAAAAAAAAAAAAAAAAAAAAAAAAAAAAAAAAAAAAAAAAAAAAAAAAAAAAAAAAAAAAAAAAAAAAAAAAAAAAAAAAAAAAAAAAAAAAAAAAAAAAAAAAAAAAAAAAAAAAAAAAAAAAAAAAAAAAAAAAAAAAAAAAAAAAAAAAAAAAAAAAAAAAAAAAAAAAAAAAAAAAAAAAAAAAAAAAAAAAAAAAAAAAAAAAAAAAAAAAAAAAAAAAAAAAAAAAAAAAAAAAAAAAAAAAAAAAAAAAAAAAAAAAAAAAAAAAAAAAAAAAAAAAAAAAAAAAAAAAAAAAAAAAAAAAAAAAAAAAAAAAAAAAAAAAAAAAAAAAAAAAAAAAAAAAAAAAAAAAAAAAAAAAAAAAAAAAAAAAAAAAAAAAAAAAAAAAAAAAAAAAAAAAAAAAAAAAAAAAAAAAAAAAAAAAAAAAAAAAAAAAAAAAAAAAAAAAAAAAAAAAAAAAAAAAAAAAAAAAAAAAAAAAAAAAAAAAAAAAAAAAAAAAAAAAAAAAAAAAAAAAAAAAAAAAAAAAAAAAAAAAAAAAAAAAAAAAAAAAAAAAAAAAAAAAAAAAAAAAAAAAAAAAAAAAAAAAAAAAAAAAAAAAAAAAAAAAAAAAAAAAAAAAAAAAAAAAAAAAAAAAAAAAAAAAAAAAAAAAAAAAAAAAAAAAAAAAAAAAAAAAAAAAAAAAAAAAAAAAAAAAAAAAAAAAAAAAAAAAAAAAAAAAAAAAAAAAAAAAAAAAAAAAAAAAAAAAAAAAAAAAAAAAAAAAAAAAAAAAAAAAAAAAAAAAAAAAAAAAAAAAAAAAAAAAAAAAAAAAAAAAAAAAAAAAAAAAAAAAAAAAAAAAAAAAAAAAAAAAAAAAAAAAAAAAAAAAAAAAAAAAAAAAAAAAAAAAAAAAAAAAAAAAAAAAAAAAAAAAAAAAAAAAAAAAAAAAAAAAAAAAAAAAAAAAAAAAAAAAAAAAAAAAAAAAAAAAAAAAAAAAAAAAAAAAAAAAAAAAAAAAAAAAAAAAAAAAAAAAAAAAAAAAAAAAAAAAAAAAAAAAAAAAAAAAAAAAAAAAAAAAAAAAAAAAAAAAAAAAAAAAAAAAAAAAAAAAAAAAAAAAAAAAAAAAAAAAAAAAAAAAAAAAAAAAAAAAAAAAAAAAAAAAAAAAAAAAAAAAAAAAAAAAAAAAAAAAAAAAAAAAAAAAAAAAAAAAAAAAAAAAAAAAAAAAAAAAAAAAAAAAAAAAAAAAAAAAAAAAAAAAAAAAAAAAAAAAAAAAAAAAAAAAAAAAAAAAAAAAAAAAAAAAAAAAAAAAAAAAAAAAAAAAAAAAAAAAAAAAAAAAAAAAAAAAAAAAAAAAAAAAAAAAAAAAAAAAAAAAAAAAAAAAAAAAAAAAAAAAAAAAAAAAAAAAAAAAAAAAAAAAAAAAAAAAAAAAAAAAAAAAAAAAAAAAAAAAAAAAAAAAAAAAAAAAAAAAAAAAAAAAAAAAAAAAAAAAAAAAAAAAAAAAAAAAAAAAAAAAAAAAAAAAAAAAAAAAAAAAAAAAAAAAAAAAAAAAAAAAAAAAAAAAAAAAAAAAAAAAAAAAAAAAAAAAAAAAAAAAAAAAAAAAAAAAAAAAAAAAAAAAAAAAAAAAAAAAAAAAAAAAAAAAAAAAAAAAAAAAAAAAAAAAAAAAAAAAAAAAAAAAAAAAAAAAAAAAAAAAAAAAAAAAAAAAAAAAAAAAAAAAAAAAAAAAAAAAAAAAAAAAAAAAAAAAAAAAAAAAAAAAAAAAAAAAAAAAAAAAAAAAAAAAAAAAAAAAAAAAAAAAAAAAAAAAAAAAAAAAAAAAAAAAAAAAAAAAAAAAAAAAAAAAAAAAAAAAAAAAAAAAAAAAAAAAAAAAAAAAAAAAAAAAAAAAAAAAAAAAAAAAAAAAAAAAAAAAAAAAAAAAAAAAAAAAAAAAAAAAAAAAAAAAAAAAAAAAAAAAAAAAAAAAAAAAAAAAAAAAAAAAAAAAAAAAAAAAAAAAAAAAAAAAAAAAAAAAAAAAAAAAAAAAAAAAAAAAAAAAAAAAAAAAAAAAAAAAAAAAAAAAAAAAAAAAAAAAAAAAAAAAAAAAAAAAAAAAAAAAAAAAAAAAAAAAAAAAAAAAAAAAAAAAAAAAAAAAAAAAAAAAAAAAAAAAAAAAAAAAAAAAAAAAAAAAAAAAAAAAAAAAAAAAAAAAAAAAAAAAAAAAAAAAAAAAAAAAAAAAAAAAAAAAAAAAAAAAAAAAAAAAAAAAAAAAAAAAAAAAAAAAAAAAAAAAAAAAAAAAAAAAAAAAAAAAAAAAAAAAAAAAAAAAAAAAAAAAAAAAAAAAAAAAAAAAAAAAAAAAAAAAAAAAAAAAAAAAAAAAAAAAAAAAAAAAAAAAAAAAAAAAAAAAAAAAAAAAAAAAAAAAAAAAAAAAAAAAAAAAAAAAAAAAAAAAAAAAAAAAAAAAAAAAAAAAAAAAAAAAAAAAAAAAAAAAAAAAAAAAAAAAAAAAAAAAAAAAAAAAAAAAAAAAAAAAAAAAAAAAAAAAAAAAAAAAAAAAAAAAAAAAAAAAAAAAAAAAAAAAAAAAAAAAAAAAAAAAAAAAAAAAAAAAAAAAAAAAAAAAAAAAAAAAAAAAAAAAAAAAAAAAAAAAAAAAAAAAAAAAAAAAAAAAAAAAAAAAAAAAAAAAAAAAAAAAAAAAAAAAAAAAAAAAAAAAAAAAAAAAAAAAAAAAAAAAAAAAAAAAAAAAAAAAAAAAAAAAAAAAAAAAAAAAAAAAAAAAAAAAAAAAAAAAAAAAAAAAAAAAAAAAAAAAAAAAAAAAAAAAAAAAAAAAAAAAAAAAAAAAAAAAAAAAAAAAAAAAAAAAAAAAAAAAAAAAAAAAAAAAAAAAAAAAAAAAAAAAAAAAAAAAAAAAAAAAAAAAAAAAAAAAAAAAAAAAAAAAAAAAAAAAAAAAAAAAAAAAAAAAAAAAAAAAAAAAAAAAAAAAAAAAAAAAAAAAAAAAAAAAAAAAAAAAAAAAAAAAAAAAAAAAAAAAAAAAAAAAAAAAAAAAAAAAAAAAAAAAAAAAAAAAAAAAAAAAAAAAAAAAAAAAAAAAAAAAAAAAAAAAAAAAAAAAAAAAAAAAAAAAAAAAAAAAAAAAAAAAAAAAAAAAAAAAAAAAAAAAAAAAAAAAAAAAAAAAAAAAAAAAAAAAAAAAAAAAAAAAAAAAAAAAAAAAAAAAAAAAAAAAAAAAAAAAAAAAAAAAAAAAAAAAAAAAAAAAAAAAAAAAAAAAAAAAAAAAAAAAAAAAAAAAAAAAAAAAAAAAAAAAAAAAAAAAAAAAAAAAAAAAAAAAAAAAAAAAAAAAAAAAAAAAAAAAAAAAAAAAAAAAAAAAAAAAAAAAAAAAAAAAAAAAAAAAAAAAAAAAAAAAAAAAAAAAAAAAAAAAAAAAAAAAAAAAAAAAAAAAAAAAAAAAAAAAAAAAAAAAAAAAAAAAAAAAAAAAAAAAAAAAAAAAAAAAAAAAAAAAAAAAAAAAAAAAAAAAAAAAAAAAAAAAAAAAAAAAAAAAAAAAAAAAAAAAAAAAAAAAAAAAAAAAAAAAAAAAAAAAAAAAAAAAAAAAAAAAAAAAAAAAAAAAAAAAAAAAAAAAAAAAAAAAAAAAAAAAAAAAAAAAAAAAAAAAAAAAAAAAAAAAAAAAAAAAAAAAAAAAAAAAAAAAAAAAAAAAAAAAAAAAAAAAAAAAAAAAAAAAAAAAAAAAAAAAAAAAAAAAAAAAAAAAAAAAAAAAAAAAAAAAAAAAAAAAAAAAAAAAAAAAAAAAAAAAAAAAAAAAAAAAAAAAAAAAAAAAAAAAAAAAAAAAAAAAAAAAAAAAAAAAAAAAAAAAAAAAAAAAAAAAAAAAAAAAAAAAAAAAAAAAAAAAAAAAAAAAAAAAAAAAAAAAAAAAAAAAAAAAAAAAAAAAAAAAAAAAAAAAAAAAAAAAAAAAAAAAAAAAAAAAAAAAAAAAAAAAAAAAAAAAAAAAAAAAAAAAAAAAAAAAAAAAAAAAAAAAAAAAAAAAAAAAAAAAAAAAAAAAAAAAAAAAAAAAAAAAAAAAAAAAAAAAAAAAAAAAAAAAAAAAAAAAAAAAAAAAAAAAAAAAAAAAAAAAAAAAAAAAAAAAAAAAAAAAAAAAAAAAAAAAAAAAAAAAAAAAAAAAAAAAAAAAAAAAAAAAAAAAAAAAAAAAAAAAAAAAAAAAAAAAAAAAAAAAAAAAAAAAAAAAAAAAAAAAAAAAAAAAAAAAAAAAAAAAAAAAAAAAAAAAAAAAAAAAAAAAAAAAAAAAAAAAAAAAAAAAAAAAAAAAAAAAAAAAAAAAAAAAAAAAAAAAAAAAAAAAAAAAAAAAAAAAAAAAAAAAAAAAAAAAAAAAAAAAAAAAAAAAAAAAAAAAAAAAAAAAAAAAAAAAAAAAAAAAAAAAAAAAAAAAAAAAAAAAAAAAAAAAAAAAAAAAAAAAAAAAAAAAAAAAAAAAAAAAAAAAAAAAAAAAAAAAAAAAAAAAAAAAAAAAAAAAAAAAAAAAAAAAAAAAAAAAAAAAAAAAAAAAAAAAAAAAAAAAAAAAAAAAAAAAAAAAAAAAAAAAAAAAAAAAAAAAAAAAAAAAAAAAAAAAAAAAAAAAAAAAAAAAAAAAAAAAAAAAAAAAAAAAAAAAAAAAAAAAAAAAAAAAAAAAAAAAAAAAAAAAAAAAAAAAAAAAAAAAAAAAAAAAAAAAAAAAAAAAAAAAAAAAAAAAAAAAAAAAAAAAAAAAAAAAAAAAAAAAAAAAAAAAAAAAAAAAAAAAAAAAAAAAAAAAAAAAAAAAAAAAAAAAAAAAAAAAAAAAAAAAAAAAAAAAAAAAAAAAAAAAAAAAAAAAAAAAAAAAAAAAAAAAAAAAAAAAAAAAAAAAAAAAAAAAAAAAAAAAAAAAAAAAAAAAAAAAAAAAAAAAAAAAAAAAAAAAAAAAAAAAAAAAAAAAAAAAAAAAAAAAAAAAAAAAAAAAAAAAAAAAAAAAAAAAAAAAAAAAAAAAAAAAAAAAAAAAAAAAAAAAAAAAAAAAAAAAAAAAAAAAAAAAAAAAAAAAAAAAAAAAAAAAAAAAAAAAAAAAAAAAAAAAAAAAAAAAAAAAAAAAAAAAAAAAAAAAAAAAAAAAAAAAAAAAAAAAAAAAAAAAAAAAAAAAAAAAAAAAAAAAAAAAAAAAAAAAAAAAAAAAAAAAAAAAAAAAAAAAAAAAAAAAAAAAAAAAAAAAAAAAAAAAAAAAAAAAAAAAAAAAAAAAAAAAAAAAAAAAAAAAAAAAAAAAAAAAAAAAAAAAAAAAAAAAAAAAAAAAAAAAAAAAAAAAAAAAAAAAAAAAAAAAAAAAAAAAAAAAAAAAAAAAAAAAAAAAAAAAAAAAAAAAAAAAAAAAAAAAAAAAAAAAAAAAAAAAAAAAAAAAAAAAAAAAAAAAAAAAAAAAAAAAAAAAAAAAAAAAAAAAAAAAAAAAAAAAAAAAAAAAAAAAAAAAAAAAAAAAAAAAAAAAAAAAAAAAAAAAAAAAAAAAAAAAAAAAAAAAAAAAAAAAAAAAAAAAAAAAAAAAAAAAAAAAAAAAAAAAAAAAAAAAAAAAAAAAAAAAAAAAAAAAAAAAAAAAAAAAAAAAAAAAAAAAAAAAAAAAAAAAAAAAAAAAAAAAAAAAAAAAAAAAAAAAAAAAAAAAAAAAAAAAAAAAAAAAAAAAAAAAAAAAAAAAAAAAAAAAAAAAAAAAAAAAAAAAAAAAAAAAAAAAAAAAAAAAAAAAAAAAAAAAAAAAAAAAAAAAAAAAAAAAAAAAAAAAAAAAAAAAAAAAAAAAAAAAAAAAAAAAAAAAAAAAAAAAAAAAAAAAAAAAAAAAAAAAAAAAAAAAAAAAAAAAAAAAAAAAAAAAAAAAAAAAAAAAAAAAAAAAAAAAAAAAAAAAAAAAAAAAAAAAAAAAAAAAAAAAAAAAAAAAAAAAAAAAAAAAAAAAAAAAAAAAAAAAAAAAAAAAAAAAAAAAAAAAAAAAAAAAAAAAAAAAAAAAAAAAAAAAAAAAAAAAAAAAAAAAAAAAAAAAAAAAAAAAAAAAAAAAAAAAAAAAAAAAAAAAAAAAAAAAAAAAAAAAAAAAAAAAAAAAAAAAAAAAAAAAAAAAAAAAAAAAAAAAAAAAAAAAAAAAAAAAAAAAAAAAAAAAAAAAAAAAAAAAAAAAAAAAAAAAAAAAAAAAAAAAAAAAAAAAAAAAAAAAAAAAAAAAAAAAAAAAAAAAAAAAAAAAAAAAAAAAAAAAAAAAAAAAAAAAAAAAAAAAAAAAAAAAAAAAAAAAAAAAAAAAAAAAAAAAAAAAAAAAAAAAAAAAAAAAAAAAAAAAAAAAAAAAAAAAAAAAAAAAAAAAAAAAAAAAAAAAAAAAAAAAAAAAAAAAAAAAAAAAAAAAAAAAAAAAAAAAAAAAAAAAAAAAAAAAAAAAAAAAAAAAAAAAAAAAAAAAAAAAAAAAAAAAAAAAAAAAAAAAAAAAAAAAAAAAAAAAAAAAAAAAAAAAAAAAAAAAAAAAAAAAAAAAAAAAAAAAAAAAAAAAAAAAAAAAAAAAAAAAAAAAAAAAAAAAAAAAAAAAAAAAAAAAAAAAAAAAAAAAAAAAAAAAAAAAAAAAAAAAAAAAAAAAAAAAAAAAAAAAAAAAAAAAAAAAAAAAAAAAAAAAAAAAAAAAAAAAAAAAAAAAAAAAAAAAAAAAAAAAAAAAAAAAAAAAAAAAAAAAAAAAAAAAAAAAAAAAAAAAAAAAAAAAAAAAAAAAAAAAAAAAAAAAAAAAAAAAAAAAAAAAAAAAAAAAAAAAAAAAAAAAAAAAAAAAAAAAAAAAAAAAAAAAAAAAAAAAAAAAAAAAAAAAAAAAAAAAAAAAAAAAAAAAAAAAAAAAAAAAAAAAAAAAAAAAAAAAAAAAAAAAAAAAAAAAAAAAAAAAAAAAAAAAAAAAAAAAAAAAAAAAAAAAAAAAAAAAAAAAAAAAAAAAAAAAAAAAAAAAAAAAAAAAAAAAAAAAAAAAAAAAAAAAAAAAAAAAAAAAAAAAAAAAAAAAAAAAAAAAAAAAAAAAAAAAAAAAAAAAAAAAAAAAAAAAAAAAAAAAAAAAAAAAAAAAAAAAAAAAAAAAAAAAAAAAAAAAAAAAAAAAAAAAAAAAAAAAAAAAAAAAAAAAAAAAAAAAAAAAAAAAAAAAAAAAAAAAAAAAAAAAAAAAAAAAAAAAAAAAAAAAAAAAAAAAAAAAAAAAAAAAAAAAAAAAAAAAAAAAAAAAAAAAAAAAAAAAAAAAAAAAAAAAAAAAAAAAAAAAAAAAAAAAAAAAAAAAAAAAAAAAAAAAAAAAAAAAAAAAAAAAAAAAAAAAAAAAAAAAAAAAAAAAAAAAAAAAAAAAAAAAAAAAAAAAAAAAAAAAAAAAAAAAAAAAAAAAAAAAAAAAAAAAAAAAAAAAAAAAAAAAAAAAAAAAAAAAAAAAAAAAAAAAAAAAAAAAAAAAAAAAAAAAAAAAAAAAAAAAAAAAAAAAAAAAAAAAAAAAAAAAAAAAAAAAAAAAAAAAAAAAAAAAAAAAAAAAAAAAAAAAAAAAAAAAAAAAAAAAAAAAAAAAAAAAAAAAAAAAAAAAAAAAAAAAAAAAAAAAAAAAAAAAAAAAAAAAAAAAAAAAAAAAAAAAAAAAAAAAAAAAAAAAAAAAAAAAAAAAAAAAAAAAAAAAAAAAAAAAAAAAAAAAAAAAAAAAAAAAAAAAAAAAAAAAAAAAAAAAAAAAAAAAAAAAAAAAAAAAAAAAAAAAAAAAAAAAAAAAAAAAAAAAAAAAAAAAAAAAAAAAAAAAAAAAAAAAAAAAAAAAAAAAAAAAAAAAAAAAAAAAAAAAAAAAAAAAAAAAAAAAAAAAAAAAAAAAAAAAAAAAAAAAAAAAAAAAAAAAAAAAAAAAAAAAAAAAAAAAAAAAAAAAAAAAAAAAAAAAAAAAAAAAAAAAAAAAAAAAAAAAAAAAAAAAAAAAAAAAAAAAAAAAAAAAAAAAAAAAAAAAAAAAAAAAAAAAAAAAAAAAAAAAAAAAAAAAAAAAAAAAAAAAAAAAAAAAAAAAAAAAAAAAAAAAAAAAAAAAAAAAAAAAAAAAAAAAAAAAAAAAAAAAAAAAAAAAAAAAAAAAAAAAAAAAAAAAAAAAAAAAAAAAAAAAAAAAAAAAAAAAAAAAAAAAAAAAAAAAAAAAAAAAAAAAAAAAAAAAAAAAAAAAAAAAAAAAAAAAAAAAAAAAAAAAAAAAAAAAAAAAAAAAAAAAAAAAAAAAAAAAAAAAAAAAAAAAAAAAAAAAAAAAAAAAAAAAAAAAAAAAAAAAAAAAAAAAAAAAAAAAAAAAAAAAAAAAAAAAAAAAAAAAAAAAAAAAAAAAAAAAAAAAAAAAAAAAAAAAAAAAAAAAAAAAAAAAAAAAAAAAAAAAAAAAAAAAAAAAAAAAAAAAAAAAAAAAAAAAAAAAAAAAAAAAAAAAAAAAAAAAAAAAAAAAAAAAAAAAAAAAAAAAAAAAAAAAAAAAAAAAAAAAAAAAAAAAAAAAAAAAAAAAAAAAAAAAAAAAAAAAAAAAAAAAAAAAAAAAAAAAAAAAAAAAAAAAAAAAAAAAAAAAAAAAAAAAAAAAAAAAAAAAAAAAAAAAAAAAAAAAAAAAAAAAAAAAAAAAAAAAAAAAAAAAAAAAAAAAAAAAAAAAAAAAAAAAAAAAAAAAAAAAAAAAAAAAAAAAAAAAAAAAAAAAAAAAAAAAAAAAAAAAAAAAAAAAAAAAAAAAAAAAAAAAAAAAAAAAAAAAAAAAAAAAAAAAAAAAAAAAAAAAAAAAAAAAAAAAAAAAAAAAAAAAAAAAAAAAAAAAAAAAAAAAAAAAAAAAAAAAAAAAAAAAAAAAAAAAAAAAAAAAAAAAAAAAAAAAAAAAAAAAAAAAAAAAAAAAAAAAAAAAAAAAAAAAAAAAAAAAAAAAAAAAAAAAAAAAAAAAAAAAAAAAAAAAAAAAAAAAAAAAAAAAAAAAAAAAAAAAAAAAAAAAAAAAAAAAAAAAAAAAAAAAAAAAAAAAAAAAAAAAAAAAAAAAAAAAAAAAAAAAAAAAAAAAAAAAAAAAAAAAAAAAAAAAAAAAAAAAAAAAAAAAAAAAAAAAAAAAAAAAAAAAAAAAAAAAAAAAAAAAAAAAAAAAAAAAAAAAAAAAAAAAAAAAAAAAAAAAAAAAAAAAAAAAAAAAAAAAAAAAAAAAAAAAAAAAAAAAAAAAAAAAAAAAAAAAAAAAAAAAAAAAAAAAAAAAAAAAAAAAAAAAAAAAAAAAAAAAAAAAAAAAAAAAAAAAAAAAAAAAAAAAAAAAAAAAAAAAAAAAAAAAAAAAAAAAAAAAAAAAAAAAAAAAAAAAAAAAAAAAAAAAAAAAAAAAAAAAAAAAAAAAAAAAAAAAAAAAAAAAAAAAAAAAAAAAAAAAAAAAAAAAAAAAAAAAAAAAAAAAAAAAAAAAAAAAAAAAAAAAAAAAAAAAAAAAAAAAAAAAAAAAAAAAAAAAAAAAAAAAAAAAAAAAAAAAAAAAAAAAAAAAAAAAAAAAAAAAAAAAAAAAAAAAAAAAAAAAAAAAAAAAAAAAAAAAAAAAAAAAAAAAAAAAAAAAAAAAAAAAAAAAAAAAAAAAAAAAAAAAAAAAAAAAAAAAAAAAAAAAAAAAAAAAAAAAAAAAAAAAAAAAAAAAAAAAAAAAAAAAAAAAAAAAAAAAAAAAAAAAAAAAAAAAAAAAAAAAAAAAAAAAAAAAAAAAAAAAAAAAAAAAAAAAAAAAAAAAAAAAAAAAAAAAAAAAAAAAAAAAAAAAAAAAAAAAAAAAAAAAAAAAAAAAAAAAAAAAAAAAAAAAAAAAAAAAAAAAAAAAAAAAAAAAAAAAAAAAAAAAAAAAAAAAAAAAAAAAAAAAAAAAAAAAAAAAAAAAAAAAAAAAAAAAAAAAAAAAAAAAAAAAAAAAAAAAAAAAAAAAAAAAAAAAAAAAAAAAAAAAAAAAAAAAAAAAAAAAAAAAAAAAAAAAAAAAAAAAAAAAAAAAAAAAAAAAAAAAAAAAAAAAAAAAAAAAAAAAAAAAAAAAAAAAAAAAAAAAAAAAAAAAAAAAAAAAAAAAAAAAAAAAAAAAAAAAAAAAAAAAAAAAAAAAAAAAAAAAAAAAAAAAAAAAAAAAAAAAAAAAAAAAAAAAAAAAAAAAAAAAAAAAAAAAAAAAAAAAAAAAAAAAAAAAAAAAAAAAAAAAAAAAAAAAAAAAAAAAAAAAAAAAAAAAAAAAAAAAAAAAAAAAAAAAAAAAAAAAAAAAAAAAAAAAAAAAAAAAAAAAAAAAAAAAAAAAAAAAAAAAAAAAAAAAAAAAAAAAAAAAAAAAAAAAAAAAAAAAAAAAAAAAAAAAAAAAAAAAAAAAAAAAAAAAAAAAAAAAAAAAAAAAAAAAAAAAAAAAAAAAAAAAAAAAAAAAAAAAAAAAAAAAAAAAAAAAAAAAAAAAAAAAAAAAAAAAAAAAAAAAAAAAAAAAAAAAAAAAAAAAAAAAAAAAAAAAAAAAAAAAAAAAAAAAAAAAAAAAAAAAAAAAAAAAAAAAAAAAAAAAAAAAAAAAAAAAAAAAAAAAAAAAAAAAAAAAAAAAAAAAAAAAAAAAAAAAAAAAAAAAAAAAAAAAAAAAAAAAAAAAAAAAAAAAAAAAAAAAAAAAAAAAAAAAAAAAAAAAAAAAAAAAAAAAAAAAAAAAAAAAAAAAAAAAAAAAAAAAAAAAAAAAAAAAAAAAAAAAAAAAAAAAAAAAAAAAAAAAAAAAAAAAAAAAAAAAAAAAAAAAAAAAAAAAAAAAAAAAAAAAAAAAAAAAAAAAAAAAAAAAAAAAAAAAAAAAAAAAAAAAAAAAAAAAAAAAAAAAAAAAAAAAAAAAAAAAAAAAAAAAAAAAAAAAAAAAAAAAAAAAAAAAAAAAAAAAAAAAAAAAAAAAAAAAAAAAAAAAAAAAAAAAAAAAAAAAAAAAAAAAAAAAAAAAAAAAAAAAAAAAAAAAAAAAAAAAAAAAAAAAAAAAAAAAAAAAAAAAAAAAAAAAAAAAAAAAAAAAAAAAAAAAAAAAAAAAAAAAAAAAAAAAAAAAAAAAAAAAAAAAAAAAAAAAAAAAAAAAAAAAAAAAAAAAAAAAAAAAAAAAAAAAAAAAAAAAAAAAAAAAAAAAAAAAAAAAAAAAAAAAAAAAAAAAAAAAAAAAAAAAAAAAAAAAAAAAAAAAAAAAAAAAAAAAAAAAAAAAAAAAAAAAAAAAAAAAAAAAAAAAAAAAAAAAAAAAAAAAAAAAAAAAAAAAAAAAAAAAAAAAAAAAAAAAAAAAAAAAAAAAAAAAAAAAAAAAAAAAAAAAAAAAAAAAAAAAAAAAAAAAAAAAAAAAAAAAAAAAAAAAAAAAAAAAAAAAAAAAAAAAAAAAAAAAAAAAAAAAAAAAAAAAAAAAAAAAAAAAAAAAAAAAAAAAAAAAAAAAAAAAAAAAAAAAAAAAAAAAAAAAAAAAAAAAAAAAAAAAAAAAAAAAAAAAAAAAAAAAAAAAAAAAAAAAAAAAAAAAAAAAAAAAAAAAAAAAAAAAAAAAAAAAAAAAAAAAAAAAAAAAAAAAAAAAAAAAAAAAAAAAAAAAAAAAAAAAAAAAAAAAAAAAAAAAAAAAAAAAAAAAAAAAAAAAAAAAAAAAAAAAAAAAAAAAAAAAAAAAAAAAAAAAAAAAAAAAAAAAAAAAAAAAAAAAAAAAAAAAAAAAAAAAAAAAAAAAAAAAAAAAAAAAAAAAAAAAAAAAAAAAAAAAAAAAAAAAAAAAAAAAAAAAAAAAAAAAAAAAAAAAAAAAAAAAAAAAAAAAAAAAAAAAAAAAAAAAAAAAAAAAAAAAAAAAAAAAAAAAAAAAAAAAAAAAAAAAAAAAAAAAAAAAAAAAAAAAAAAAAAAAAAAAAAAAAAAAAAAAAAAAAAAAAAAAAAAAAAAAAAAAAAAAAAAAAAAAAAAAAAAAAAAAAAAAAAAAAAAAAAAAAAAAAAAAAAAAAAAAAAAAAAAAAAAAAAAAAAAAAAAAAAAAAAAAAAAAAAAAAAAAAAAAAAAAAAAAAAAAAAAAAAAAAAAAAAAAAAAAAAAAAAAAAAAAAAAAAAAAAAAAAAAAAAAAAAAAAAAAAAAAAAAAAAAAAAAAAAAAAAAAAAAAAAAAAAAAAAAAAAAAAAAAAAAAAAAAAAAAAAAAAAAAAAAAAAAAAAAAAAAAAAAAAAAAAAAAAAAAAAAAAAAAAAAAAAAAAAAAAAAAAAAAAAAAAAAAAAAAAAAAAAAAAAAAAAAAAAAAAAAAAAAAAAAAAAAAAAAAAAAAAAAAAAAAAAAAAAAAAAAAAAAAAAAAAAAAAAAAAAAAAAAAAAAAAAAAAAAAAAAAAAAAAAAAAAAAAAAAAAAAAAAAAAAAAAAAAAAAAAAAAAAAAAAAAAAAAAAAAAAAAAAAAAAAAAAAAAAAAAAAAAAAAAAAAAAAAAAAAAAAAAAAAAAAAAAAAAAAAAAAAAAAAAAAAAAAAAAAAAAAAAAAAAAAAAAAAAAAAAAAAAAAAAAAAAAAAAAAAAAAAAAAAAAAAAAAAAAAAAAAAAAAAAAAAAAAAAAAAAAAAAAAAAAAAAAAAAAAAAAAAAAAAAAAAAAAAAAAAAAAAAAAAAAAAAAAAAAAAAAAAAAAAAAAAAAAAAAAAAAAAAAAAAAAAAAAAAAAAAAAAAAAAAAAAAAAAAAAAAAAAAAAAAAAAAAAAAAAAAAAAAAAAAAAAAAAAAAAAAAAAAAAAAAAAAAAAAAAAAAAAAAAAAAAAAAAAAAAAAAAAAAAAAAAAAAAAAAAAAAAAAAAAAAAAAAAAAAAAAAAAAAAAAAAAAAAAAAAAAAAAAAAAAAAAAAAAAAAAAAAAAAAAAAAAAAAAAAAAAAAAAAAAAAAAAAAAAAAAAAAAAAAAAAAAAAAAAAAAAAAAAAAAAAAAAAAAAAAAAAAAAAAAAAAAAAAAAAAAAAAAAAAAAAAAAAAAAAAAAAAAAAAAAAAAAAAAAAAAAAAAAAAAAAAAAAAAAAAAAAAAAAAAAAAAAAAAAAAAAAAAAAAAAAAAAAAAAAAAAAAAAAAAAAAAAAAAAAAAAAAAAAAAAAAAAAAAAAAAAAAAAAAAAAAAAAAAAAAAAAAAAAAAAAAAAAAAAAAAAAAAAAAAAAAAAAAAAAAAAAAAAAAAAAAAAAAAAAAAAAAAAAAAAAAAAAAAAAAAAAAAAAAAAAAAAAAAAAAAAAAAAAAAAAAAAAAAAAAAAAAAAAAAAAAAAAAAAAAAAAAAAAAAAAAAAAAAAAAAAAAAAAAAAAAAAAAAAAAAAAAAAAAAAAAAAAAAAAAAAAAAAAAAAAAAAAAAAAAAAAAAAAAAAAAAAAAAAAAAAAAAAAAAAAAAAAAAAAAAAAAAAAAAAAAAAAAAAAAAAAAAAAAAAAAAAAAAAAAAAAAAAAAAAAAAAAAAAAAAAAAAAAAAAAAAAAAAAAAAAAAAAAAAAAAAAAAAAAAAAAAAAAAAAAAAAAAAAAAAAAAAAAAAAAAAAAAAAAAAAAAAAAAAAAAAAAAAAAAAAAAAAAAAAAAAAAAAAAAAAAAAAAAAAAAAAAAAAAAAAAAAAAAAAAAAAAAAAAAAAAAAAAAAAAAAAAAAAAAAAAAAAAAAAAAAAAAAAAAAAAAAAAAAAAAAAAAAAAAAAAAAAAAAAAAAAAAAAAAAAAAAAAAAAAAAAAAAAAAAAAAAAAAAAAAAAAAAAAAAAAAAAAAAAAAAAAAAAAAAAAAAAAAAAAAAAAAAAAAAAAAAAAAAAAAAAAAAAAAAAAAAAAAAAAAAAAAAAAAAAAAAAAAAAAAAAAAAAAAAAAAAAAAAAAAAAAAAAAAAAAAAAAAAAAAAAAAAAAAAAAAAAAAAAAAAAAAAAAAAAAAAAAAAAAAAAAAAAAAAAAAAAAAAAAAAAAAAAAAAAAAAAAAAAAAAAAAAAAAAAAAAAAAAAAAAAAAAAAAAAAAAAAAAAAAAAAAAAAAAAAAAAAAAAAAAAAAAAAAAAAAAAAAAAAAAAAAAAAAAAAAAAAAAAAAAAAAAAAAAAAAAAAAAAAAAAAAAAAAAAAAAAAAAAAAAAAAAAAAAAAAAAAAAAAAAAAAAAAAAAAAAAAAAAAAAAAAAAAAAAAAAAAAAAAAAAAAAAAAAAAAAAAAAAAAAAAAAAAAAAAAAAAAAAAAAAAAAAAAAAAAAAAAAAAAAAAAAAAAAAAAAAAAAAAAAAAAAAAAAAAAAAAAAAAAAAAAAAAAAAAAAAAAAAAAAAAAAAAAAAAAAAAAAAAAAAAAAAAAAAAAAAAAAAAAAAAAAAAAAAAAAAAAAAAAAAAAAAAAAAAAAAAAAAAAAAAAAAAAAAAAAAAAAAAAAAAAAAAAAAAAAAAAAAAAAAAAAAAAAAAAAAAAAAAAAAAAAAAAAAAAAAAAAAAAAAAAAAAAAAAAAAAAAAAAAAAAAAAAAAAAAAAAAAAAAAAAAAAAAAAAAAAAAAAAAAAAAAAAAAAAAAAAAAAAAAAAAAAAAAAAAAAAAAAAAAAAAAAAAAAAAAAAAAAAAAAAAAAAAAAAAAAAAAAAAAAAAAAAAAAAAAAAAAAAAAAAAAAAAAAAAAAAAAAAAAAAAAAAAAAAAAAAAAAAAAAAAAAAAAAAAAAAAAAAAAAAAAAAAAAAAAAAAAAAAAAAAAAAAAAAAAAAAAAAAAAAAAAAAAAAAAAAAAAAAAAAAAAAAAAAAAAAAAAAAAAAAAAAAAAAAAAAAAAAAAAAAAAAAAAAAAAAAAAAAAAAAAAAAAAAAAAAAAAAAAAAAAAAAAAAAAAAAAAAAAAAAAAAAAAAAAAAAAAAAAAAAAAAAAAAAAAAAAAAAAAAAAAAAAAAAAAAAAAAAAAAAAAAAAAAAAAAAAAAAAAAAAAAAAAAAAAAAAAAAAAAAAAAAAAAAAAAAAAAAAAAAAAAAAAAAAAAAAAAAAAAAAAAAAAAAAAAAAAAAAAAAAAAAAAAAAAAAAAAAAAAAAAAAAAAAAAAAAAAAAAAAAAAAAAAAAAAAAAAAAAAAAAAAAAAAAAAAAAAAAAAAAAAAAAAAAAAAAAAAAAAAAAAAAAAAAAAAAAAAAAAAAAAAAAAAAAAAAAAAAAAAAAAAAAAAAAAAAAAAAAAAAAAAAAAAAAAAAAAAAAAAAAAAAAAAAAAAAAAAAAAAAAAAAAAAAAAAAAAAAAAAAAAAAAAAAAAAAAAAAAAAAAAAAAAAAAAAAAAAAAAAAAAAAAAAAAAAAAAAAAAAAAAAAAAAAAAAAAAAAAAAAAAAAAAAAAAAAAAAAAAAAAAAAAAAAAAAAAAAAAAAAAAAAAAAAAAAAAAAAAAAAAAAAAAAAAAAAAAAAAAAAAAAAAAAAAAAAAAAAAAAAAAAAAAAAAAAAAAAAAAAAAAAAAAAAAAAAAAAAAAAAAAAAAAAAAAAAAAAAAAAAAAAAAAAAAAAAAAAAAAAAAAAAAAAAAAAAAAAAAAAAAAAAAAAAAAAAAAAAAAAAAAAAAAAAAAAAAAAAAAAAAAAAAAAAAAAAAAAAAAAAAAAAAAAAAAAAAAAAAAAAAAAAAAAAAAAAAAAAAAAAAAAAAAAAAAAAAAAAAAAAAAAAAAAAAAAAAAAAAAAAAAAAAAAAAAAAAAAAAAAAAAAAAAAAAAAAAAAAAAAAAAAAAAAAAAAAAAAAAAAAAAAAAAAAAAAAAAAAAAAAAAAAAAAAAAAAAAAAAAAAAAAAAAAAAAAAAAAAAAAAAAAAAAAAAAAAAAAAAAAAAAAAAAAAAAAAAAAAAAAAAAAAAAAAAAAAAAAAAAAAAAAAAAAAAAAAAAAAAAAAAAAAAAAAAAAAAAAAAAAAAAAAAAAAAAAAAAAAAAAAAAAAAAAAAAAAAAAAAAAAAAAAAAAAAAAAAAAAAAAAAAAAAAAAAAAAAAAAAAAAAAAAAAAAAAAAAAAAAAAAAAAAAAAAAAAAAAAAAAAAAAAAAAAAAAAAAAAAAAAAAAAAAAAAAAAAAAAAAAAAAAAAAAAAAAAAAAAAAAAAAAAAAAAAAAAAAAAAAAAAAAAAAAAAAAAAAAAAAAAAAAAAAAAAAAAAAAAAAAAAAAAAAAAAAAAAAAAAAAAAAAAAAAAAAAAAAAAAAAAAAAAAAAAAAAAAAAAAAAAAAAAAAAAAAAAAAAAAAAAAAAAAAAAAAAAAAAAAAAAAAAAAAAAAAAAAAAAAAAAAAAAAAAAAAAAAAAAAAAAAAAAAAAAAAAAAAAAAAAAAAAAAAAAAAAAAAAAAAAAAAAAAAAAAAAAAAAAAAAAAAAAAAAAAAAAAAAAAAAAAAAAAAAAAAAAAAAAAAAAAAAAAAAAAAAAAAAAAAAAAAAAAAAAAAAAAAAAAAAAAAAAAAAAAAAAAAAAAAAAAAAAAAAAAAAAAAAAAAAAAAAAAAAAAAAAAAAAAAAAAAAAAAAAAAAAAAAAAAAAAAAAAAAAAAAAAAAAAAAAAAAAAAAAAAAAAAAAAAAAAAAAAAAAAAAAAAAAAAAAAAAAAAAAAAAAAAAAAAAAAAAAAAAAAAAAAAAAAAAAAAAAAAAAAAAAAAAAAAAAAAAAAAAAAAAAAAAAAAAAAAAAAAAAAAAAAAAAAAAAAAAAAAAAAAAAAAAAAAAAAAAAAAAAAAAAAAAAAAAAAAAAAAAAAAAAAAAAAAAAAAAAAAAAAAAAAAAAAAAAAAAAAAAAAAAAAAAAAAAAAAAAAAAAAAAAAAAAAAAAAAAAAAAAAAAAAAAAAAAAAAAAAAAAAAAAAAAAAAAAAAAAAAAAAAAAAAAAAAAAAAAAAAAAAAAAAAAAAAAAAAAAAAAAAAAAAAAAAAAAAAAAAAAAAAAAAAAAAAAAAAAAAAAAAAAAAAAAAAAAAAAAAAAAAAAAAAAAAAAAAAAAAAAAAAAAAAAAAAAAAAAAAAAAAAAAAAAAAAAAAAAAAAAAAAAAAAAAAAAAAAAAAAAAAAAAAAAAAAAAAAAAAAAAAAAAAAAAAAAAAAAAAAAAAAAAAAAAAAAAAAAAAAAAAAAAAAAAAAAAAAAAAAAAAAAAAAAAAAAAAAAAAAAAAAAAAAAAAAAAAAAAAAAAAAAAAAAAAAAAAAAAAAAAAAAAAAAAAAAAAAAAAAAAAAAAAAAAAAAAAAAAAAAAAAAAAAAAAAAAAAAAAAAAAAAAAAAAAAAAAAAAAAAAAAAAAAAAAAAAAAAAAAAAAAAAAAAAAAAAAAAAAAAAAAAAAAAAAAAAAAAAAAAAAAAAAAAAAAAAAAAAAAAAAAAAAAAAAAAAAAAAAAAAAAAAAAAAAAAAAAAAAAAAAAAAAAAAAAAAAAAAAAAAAAAAAAAAAAAAAAAAAAAAAAAAAAAAAAAAAAAAAAAAAAAAAAAAAAAAAAAAAAAAAAAAAAAAAAAAAAAAAAAAAAAAAAAAAAAAAAAAAAAAAAAAAAAAAAAAAAAAAAAAAAAAAAAAAAAAAAAAAAAAAAAAAAAAAAAAAAAAAAAAAAAAAAAAAAAAAAAAAAAAAAAAAAAAAAAAAAAAAAAAAAAAAAAAAAAAAAAAAAAAAAAAAAAAAAAAAAAAAAAAAAAAAAAAAAAAAAAAAAAAAAAAAAAAAAAAAAAAAAAAAAAAAAAAAAAAAAAAAAAAAAAAAAAAAAAAAAAAAAAAAAAAAAAAAAAAAAAAAAAAAAAAAAAAAAAAAAAAAAAAAAAAAAAAAAAAAAAAAAAAAAAAAAAAAAAAAAAAAAAAAAAAAAAAAAAAAAAAAAAAAAAAAAAAAAAAAAAAAAAAAAAAAAAAAAAAAAAAAAAAAAAAAAAAAAAAAAAAAAAAAAAAAAAAAAAAAAAAAAAAAAAAAAAAAAAAAAAAAAAAAAAAAAAAAAAAAAAAAAAAAAAAAAAAAAAAAAAAAAAAAAAAAAAAAAAAAAAAAAAAAAAAAAAAAAAAAAAAAAAAAAAAAAAAAAAAAAAAAAAAAAAAAAAAAAAAAAAAAAAAAAAAAAAAAAAAAAAAAAAAAAAAAAAAAAAAAAAAAAAAAAAAAAAAAAAAAAAAAAAAAAAAAAAAAAAAAAAAAAAAAAAAAAAAAAAAAAAAAAAAAAAAAAAAAAAAAAAAAAAAAAAAAAAAAAAAAAAAAAAAAAAAAAAAAAAAAAAAAAAAAAAAAAAAAAAAAAAAAAAAAAAAAAAAAAAAAAAAAAAAAAAAAAAAAAAAAAAAAAAAAAAAAAAAAAAAAAAAAAAAAAAAAAAAAAAAAAAAAAAAAAAAAAAAAAAAAAAAAAAAAAAAAAAAAAAAAAAAAAAAAAAAAAAAAAAAAAAAAAAAAAAAAAAAAAAAAAAAAAAAAAAAAAAAAAAAAAAAAAAAAAAAAAAAAAAAAAAAAAAAAAAAAAAAAAAAAAAAAAAAAAAAAAAAAAAAAAAAAAAAAAAAAAAAAAAAAAAAAAAAAAAAAAAAAAAAAAAAAAAAAAAAAAAAAAAAAAAAAAAAAAAAAAAAAAAAAAAAAAAAAAAAAAAAAAAAAAAAAAAAAAAAAAAAAAAAAAAAAAAAAAAAAAAAAAAAAAAAAAAAAAAAAAAAAAAAAAAAAAAAAAAAAAAAAAAAAAAAAAAAAAAAAAAAAAAAAAAAAAAAAAAAAAAAAAAAAAAAAAAAAAAAAAAAAAAAAAAAAAAAAAAAAAAAAAAAAAAAAAAAAAAAAAAAAAAAAAAAAAAAAAAAAAAAAAAAAAAAAAAAAAAAAAAAAAAAAAAAAAAAAAAAAAAAAAAAAAAAAAAAAAAAAAAAAAAAAAAAAAAAAAAAAAAAAAAAAAAAAAAAAAAAAAAAAAAAAAAAAAAAAAAAAAAAAAAAAAAAAAAAAAAAAAAAAAAAAAAAAAAAAAAAAAAAAAAAAAAAAAAAAAAAAAAAAAAAAAAAAAAAAAAAAAAAAAAAAAAAAAAAAAAAAAAAAAAAAAAAAAAAAAAAAAAAAAAAAAAAAAAAAAAAAAAAAAAAAAAAAAAAAAAAAAAAAAAAAAAAAAAAAAAAAAAAAAAAAAAAAAAAAAAAAAAAAAAAAAAAAAAAAAAAAAAAAAAAAAAAAAAAAAAAAAAAAAAAAAAAAAAAAAAAAAAAAAAAAAAAAAAAAAAAAAAAAAAAAAAAAAAAAAAAAAAAAAAAAAAAAAAAAAAAAAAAAAAAAAAAAAAAAAAAAAAAAAAAAAAAAAAAAAAAAAAAAAAAAAAAAAAAAAAAAAAAAAAAAAAAAAAAAAAAAAAAAAAAAAAAAAAAAAAAAAAAAAAAAAAAAAAAAAAAAAAAAAAAAAAAAAAAAAAAAAAAAAAAAAAAAAAAAAAAAAAAAAAAAAAAAAAAAAAAAAAAAAAAAAAAAAAAAAAAAAAAAAAAAAAAAAAAAAAAAAAAAAAAAAAAAAAAAAAAAAAAAAAAAAAAAAAAAAAAAAAAAAAAAAAAAAAAAAAAAAAAAAAAAAAAAAAAAAAAAAAAAAAAAAAAAAAAAAAAAAAAAAAAAAAAAAAAAAAAAAAAAAAAAAAAAAAAAAAAAAAAAAAAAAAAAAAAAAAAAAAAAAAAAAAAAAAAAAAAAAAAAAAAAAAAAAAAAAAAAAAAAAAAAAAAAAAAAAAAAAAAAAAAAAAAAAAAAAAAAAAAAAAAAAAAAAAAAAAAAAAAAAAAAAAAAAAAAAAAAAAAAAAAAAAAAAAAAAAAAAAAAAAAAAAAAAAAAAAAAAAAAAAAAAAAAAAAAAAAAAAAAAAAAAAAAAAAAAAAAAAAAAAAAAAAAAAAAAAAAAAAAAAAAAAAAAAAAAAAAAAAAAAAAAAAAAAAAAAAAAAAAAAAAAAAAAAAAAAAAAAAAAAAAAAAAAAAAAAAAAAAAAAAAAAAAAAAAAAAAAAAAAAAAAAAAAAAAAAAAAAAAAAAAAAAAAAAAAAAAAAAAAAAAAAAAAAAAAAAAAAAAAAAAAAAAAAAAAAAAAAAAAAAAAAAAAAAAAAAAAAAAAAAAAAAAAAAAAAAAAAAAAAAAAAAAAAAAAAAAAAAAAAAAAAAAAAAAAAAAAAAAAAAAAAAAAAAAAAAAAAAAAAAAAAAAAAAAAAAAAAAAAAAAAAAAAAAAAAAAAAAAAAAAAAAAAAAAAAAAAAAAAAAAAAAAAAAAAAAAAAAAAAAAAAAAAAAAAAAAAAAAAAAAAAAAAAAAAAAAAAAAAAAAAAAAAAAAAAAAAAAAAAAAAAAAAAAAAAAAAAAAAAAAAAAAAAAAAAAAAAAAAAAAAAAAAAAAAAAAAAAAAAAAAAAAAAAAAAAAAAAAAAAAAAAAAAAAAAAAAAAAAAAAAAAAAAAAAAAAAAAAAAAAAAAAAAAAAAAAAAAAAAAAAAAAAAAAAAAAAAAAAAAAAAAAAAAAAAAAAAAAAAAAAAAAAAAAAAAAAAAAAAAAAAAAAAAAAAAAAAAAAAAAAAAAAAAAAAAAAAAAAAAAAAAAAAAAAAAAAAAAAAAAAAAAAAAAAAAAAAAAAAAAAAAAAAAAAAAAAAAAAAAAAAAAAAAAAAAAAAAAAAAAAAAAAAAAAAAAAAAAAAAAAAAAAAAAAAAAAAAAAAAAAAAAAAAAAAAAAAAAAAAAAAAAAAAAAAAAAAAAAAAAAAAAAAAAAAAAAAAAAAAAAAAAAAAAAAAAAAAAAAAAAAAAAAAAAAAAAAAAAAAAAAAAAAAAAAAAAAAAAAAAAAAAAAAAAAAAAAAAAAAAAAAAAAAAAAAAAAAAAAAAAAAAAAAAAAAAAAAAAAAAAAAAAAAAAAAAAAAAAAAAAAAAAAAAAAAAAAAAAAAAAAAAAAAAAAAAAAAAAAAAAAAAAAAAAAAAAAAAAAAAAAAAAAAAAAAAAAAAAAAAAAAAAAAAAAAAAAAAAAAAAAAAAAAAAAAAAAAAAAAAAAAAAAAAAAAAAAAAAAAAAAAAAAAAAAAAAAAAAAAAAAAAAAAAAAAAAAAAAAAAAAAAAAAAAAAAAAAAAAAAAAAAAAAAAAAAAAAAAAAAAAAAAAAAAAAAAAAAAAAAAAAAAAAAAAAAAAAAAAAAAAAAAAAAAAAAAAAAAAAAAAAAAAAAAAAAAAAAAAAAAAAAAAAAAAAAAAAAAAAAAAAAAAAAAAAAAAAAAAAAAAAAAAAAAAAAAAAAAAAAAAAAAAAAAAAAAAAAAAAAAAAAAAAAAAAAAAAAAAAAAAAAAAAAAAAAAAAAAAAAAAAAAAAAAAAAAAAAAAAAAAAAAAAAAAAAAAAAAAAAAAAAAAAAAAAAAAAAAAAAAAAAAAAAAAAAAAAAAAAAAAAAAAAAAAAAAAAAAAAAAAAAAAAAAAAAAAAAAAAAAAAAAAAAAAAAAAAAAAAAAAAAAAAAAAAAAAAAAAAAAAAAAAAAAAAAAAAAAAAAAAAAAAAAAAAAAAAAAAAAAAAAAAAAAAAAAAAAAAAAAAAAAAAAAAAAAAAAAAAAAAAAAAAAAAAAAAAAAAAAAAAAAAAAAAAAAAAAAAAAAAAAAAAAAAAAAAAAAAAAAAAAAAAAAAAAAAAAAAAAAAAAAAAAAAAAAAAAAAAAAAAAAAAAAAAAAAAAAAAAAAAAAAAAAAAAAAAAAAAAAAAAAAAAAAAAAAAAAAAAAAAAAAAAAAAAAAAAAAAAAAAAAAAAAAAAAAAAAAAAAAAAAAAAAAAAAAAAAAAAAAAAAAAAAAAAAAAAAAAAAAAAAAAAAAAAAAAAAAAAAAAAAAAAAAAAAAAAAAAAAAAAAAAAAAAAAAAAAAAAAAAAAAAAAAAAAAAAAAAAAAAAAAAAAAAAAAAAAAAAAAAAAAAAAAAAAAAAAAAAAAAAAAAAAAAAAAAAAAAAAAAAAAAAAAAAAAAAAAAAAAAAAAAAAAAAAAAAAAAAAAAAAAAAAAAAAAAAAAAAAAAAAAAAAAAAAAAAAAAAAAAAAAAAAAAAAAAAAAAAAAAAAAAAAAAAAAAAAAAAAAAAAAAAAAAAAAAAAAAAAAAAAAAAAAAAAAAAAAAAAAAAAAAAAAAAAAAAAAAAAAAAAAAAAAAAAAAAAAAAAAAAAAAAAAAAAAAAAAAAAAAAAAAAAAAAAAAAAAAAAAAAAAAAAAAAAAAAAAAAAAAAAAAAAAAAAAAAAAAAAAAAAAAAAAAAAAAAAAAAAAAAAAAAAAAAAAAAAAAAAAAAAAAAAAAAAAAAAAAAAAAAAAAAAAAAAAAAAAAAAAAAAAAAAAAAAAAAAAAAAAAAAAAAAAAAAAAAAAAAAAAAAAAAAAAAAAAAAAAAAAAAAAAAAAAAAAAAAAAAAAAAAAAAAAAAAAAAAAAAAAAAAAAAAAAAAAAAAAAAAAAAAAAAAAAAAAAAAAAAAAAAAAAAAAAAAAAAAAAAAAAAAAAAAAAAAAAAAAAAAAAAAAAAAAAAAAAAAAAAAAAAAAAAAAAAAAAAAAAAAAAAAAAAAAAAAAAAAAAAAAAAAAAAAAAAAAAAAAAAAAAAAAAAAAAAAAAAAAAAAAAAAAAAAAAAAAAAAAAAAAAAAAAAAAAAAAAAAAAAAAAAAAAAAAAAAAAAAAAAAAAAAAAAAAAAAAAAAAAAAAAAAAAAAAAAAAAAAAAAAAAAAAAAAAAAAAAAAAAAAAAAAAAAAAAAAAAAAAAAAAAAAAAAAAAAAAAAAAAAAAAAAAAAAAAAAAAAAAAAAAAAAAAAAAAAAAAAAAAAAAAAAAAAAAAAAAAAAAAAAAAAAAAAAAAAAAAAAAAAAAAAAAAAAAAAAAAAAAAAAAAAAAAAAAAAAAAAAAAAAAAAAAAAAAAAAAAAAAAAAAAAAAAAAAAAAAAAAAAAAAAAAAAAAAAAAAAAAAAAAAAAAAAAAAAAAAAAAAAAAAAAAAAAAAAAAAAAAAAAAAAAAAAAAAAAAAAAAAAAAAAAAAAAAAAAAAAAAAAAAAAAAAAAAAAAAAAAAAAAAAAAAAAAAAAAAAAAAAAAAAAAAAAAAAAAAAAAAAAAAAAAAAAAAAAAAAAAAAAAAAAAAAAAAAAAAAAAAAAAAAAAAAAAAAAAAAAAAAAAAAAAAAAAAAAAAAAAAAAAAAAAAAAAAAAAAAAAAAAAAAAAAAAAAAAAAAAAAAAAAAAAAAAAAAAAAAAAAAAAAAAAAAAAAAAAAAAAAAAAAAAAAAAAAAAAAAAAAAAAAAAAAAAAAAAAAAAAAAAAAAAAAAAAAAAAAAAAAAAAAAAAAAAAAAAAAAAAAAAAAAAAAAAAAAAAAAAAAAAAAAAAAAAAAAAAAAAAAAAAAAAAAAAAAAAAAAAAAAAAAAAAAAAAAAAAAAAAAAAAAAAAAAAAAAAAAAAAAAAAAAAAAAAAAAAAAAAAAAAAAAAAAAAAAAAAAAAAAAAAAAAAAAAAAAAAAAAAAAAAAAAAAAAAAAAAAAAAAAAAAAAAAAAAAAAAAAAAAAAAAAAAAAAAAAAAAAAAAAAAAAAAAAAAAAAAAAAAAAAAAAAAAAAAAAAAAAAAAAAAAAAAAAAAAAAAAAAAAAAAAAAAAAAAAAAAAAAAAAAAAAAAAAAAAAAAAAAAAAAAAAAAAAAAAAAAAAAAAAAAAAAAAAAAAAAAAAAAAAAAAAAAAAAAAAAAAAAAAAAAAAAAAAAAAAAAAAAAAAAAAAAAAAAAAAAAAAAAAAAAAAAAAAAAAAAAAAAAAAAAAAAAAAAAAAAAAAAAAAAAAAAAAAAAAAAAAAAAAAAAAAAAAAAAAAAAAAAAAAAAAAAAAAAAAAAAAAAAAAAAAAAAAAAAAAAAAAAAAAAAAAAAAAAAAAAAAAAAAAAAAAAAAAAAAAAAAAAAAAAAAAAAAAAAAAAAAAAAAAAAAAAAAAAAAAAAAAAAAAAAAAAAAAAAAAAAAAAAAAAAAAAAAAAAAAAAAAAAAAAAAAAAAAAAAAAAAAAAAAAAAAAAAAAAAAAAAAAAAAAAAAAAAAAAAAAAAAAAAAAAAAAAAAAAAAAAAAAAAAAAAAAAAAAAAAAAAAAAAAAAAAAAAAAAAAAAAAAAAAAAAAAAAAAAAAAAAAAAAAAAAAAAAAAAAAAAAAAAAAAAAAAAAAAAAAAAAAAAAAAAAAAAAAAAAAAAAAAAAAAAAAAAAAAAAAAAAAAAAAAAAAAAAAAAAAAAAAAAAAAAAAAAAAAAAAAAAAAAAAAAAAAAAAAAAAAAAAAAAAAAAAAAAAAAAAAAAAAAAAAAAAAAAAAAAAAAAAAAAAAAAAAAAAAAAAAAAAAAAAAAAAAAAAAAAAAAAAAAAAAAAAAAAAAAAAAAAAAAAAAAAAAAAAAAAAAAAAAAAAAAAAAAAAAAAAAAAAAAAAAAAAAAAAAAAAAAAAAAAAAAAAAAAAAAAAAAAAAAAAAAAAAAAAAAAAAAAAAAAAAAAAAAAAAAAAAAAAAAAAAAAAAAAAAAAAAAAAAAAAAAAAAAAAAAAAAAAAAAAAAAAAAAAAAAAAAAAAAAAAAAAAAAAAAAAAAAAAAAAAAAAAAAAAAAAAAAAAAAAAAAAAAAAAAAAAAAAAAAAAAAAAAAAAAAAAAAAAAAAAAAAAAAAAAAAAAAAAAAAAAAAAAAAAAAAAAAAAAAAAAAAAAAAAAAAAAAAAAAAAAAAAAAAAAAAAAAAAAAAAAAAAAAAAAAAAAAAAAAAAAAAAAAAAAAAAAAAAAAAAAAAAAAAAAAAAAAAAAAAAAAAAAAAAAAAAAAAAAAAAAAAAAAAAAAAAAAAAAAAAAAAAAAAAAAAAAAAAAAAAAAAAAAAAAAAAAAAAAAAAAAAAAAAAAAAAAAAAAAAAAAAAAAAAAAAAAAAAAAAAAAAAAAAAAAAAAAAAAAAAAAAAAAAAAAAAAAAAAAAAAAAAAAAAAAAAAAAAAAAAAAAAAAAAAAAAAAAAAAAAAAAAAAAAAAAAAAAAAAAAAAAAAAAAAAAAAAAAAAAAAAAAAAAAAAAAAAAAAAAAAAAAAAAAAAAAAAAAAAAAAAAAAAAAAAAAAAAAAAAAAAAAAAAAAAAAAAAAAAAAAAAAAAAAAAAAAAAAAAAAAAAAAAAAAAAAAAAAAAAAAAAAAAAAAAAAAAAAAAAAAAAAAAAAAAAAAAAAAAAAAAAAAAAAAAAAAAAAAAAAAAAAAAAAAAAAAAAAAAAAAAAAAAAAAAAAAAAAAAAAAAAAAAAAAAAAAAAAAAAAAAAAAAAAAAAAAAAAAAAAAAAAAAAAAAAAAAAAAAAAAAAAAAAAAAAAAAAAAAAAAAAAAAAAAAAAAAAAAAAAAAAAAAAAAAAAAAAAAAAAAAAAAAAAAAAAAAAAAAAAAAAAAAAAAAAAAAAAAAAAAAAAAAAAAAAAAAAAAAAAAAAAAAAAAAAAAAAAAAAAAAAAAAAAAAAAAAAAAAAAAAAAAAAAAAAAAAAAAAAAAAAAAAAAAAAAAAAAAAAAAAAAAAAAAAAAAAAAAAAAAAAAAAAAAAAAAAAAAAAAAAAAAAAAAAAAAAAAAAAAAAAAAAAAAAAAAAAAAAAAAAAAAAAAAAAAAAAAAAAAAAAAAAAAAAAAAAAAAAAAAAAAAAAAAAAAAAAAAAAAAAAAAAAAAAAAAAAAAAAAAAAAAAAAAAAAAAAAAAAAAAAAAAAAAAAAAAAAAAAAAAAAAAAAAAAAAAAAAAAAAAAAAAAAAAAAAAAAAAAAAAAAAAAAAAAAAAAAAAAAAAAAAAAAAAAAAAAAAAAAAAAAAAAAAAAAAAAAAAAAAAAAAAAAAAAAAAAAAAAAAAAAAAAAAAAAAAAAAAAAAAAAAAAAAAAAAAAAAAAAAAAAAAAAAAAAAAAAAAAAAAAAAAAAAAAAAAAAAAAAAAAAAAAAAAAAAAAAAAAAAAAAAAAAAAAAAAAAAAAAAAAAAAAAAAAAAAAAAAAAAAAAAAAAAAAAAAAAAAAAAAAAAAAAAAAAAAAAAAAAAAAAAAAAAAAAAAAAAAAAAAAAAAAAAAAAAAAAAAAAAAAAAAAAAAAAAAAAAAAAAAAAAAAAAAAAAAAAAAAAAAAAAAAAAAAAAAAAAAAAAAAAAAAAAAAAAAAAAAAAAAAAAAAAAAAAAAAAAAAAAAAAAAAAAAAAAAAAAAAAAAAAAAAAAAAAAAAAAAAAAAAAAAAAAAAAAAAAAAAAAAAAAAAAAAAAAAAAAAAAAAAAAAAAAAAAAAAAAAAAAAAAAAAAAAAAAAAAAAAAAAAAAAAAAAAAAAAAAAAAAAAAAAAAAAAAAAAAAAAAAAAAAAAAAAAAAAAAAAAAAAAAAAAAAAAAAAAAAAAAAAAAAAAAAAAAAAAAAAAAAAAAAAAAAAAAAAAAAAAAAAAAAAAAAAAAAAAAAAAAAAAAAAAAAAAAAAAAAAAAAAAAAAAAAAAAAAAAAAAAAAAAAAAAAAAAAAAAAAAAAAAAAAAAAAAAAAAAAAAAAAAAAAAAAAAAAAAAAAAAAAAAAAAAAAAAAAAAAAAAAAAAAAAAAAAAAAAAAAAAAAAAAAAAAAAAAAAAAAAAAAAAAAAAAAAAAAAAAAAAAAAAAAAAAAAAAAAAAAAAAAAAAAAAAAAAAAAAAAAAAAAAAAAAAAAAAAAAAAAAAAAAAAAAAAAAAAAAAAAAAAAAAAAAAAAAAAAAAAAAAAAAAAAAAAAAAAAAAAAAAAAAAAAAAAAAAAAAAAAAAAAAAAAAAAAAAAAAAAAAAAAAAAAAAAAAAAAAAAAAAAAAAAAAAAAAAAAAAAAAAAAAAAAAAAAAAAAAAAAAAAAAAAAAAAAAAAAAAAAAAAAAAAAAAAAAAAAAAAAAAAAAAAAAAAAAAAAAAAAAAAAAAAAAAAAAAAAAAAAAAAAAAAAAAAAAAAAAAAAAAAAAAAAAAAAAAAAAAAAAAAAAAAAAAAAAAAAAAAAAAAAAAAAAAAAAAAAAAAAAAAAAAAAAAAAAAAAAAAAAAAAAAAAAAAAAAAAAAAAAAAAAAAAAAAAAAAAAAAAAAAAAAAAAAAAAAAAAAAAAAAAAAAAAAAAAAAAAAAAAAAAAAAAAAAAAAAAAAAAAAAAAAAAAAAAAAAAAAAAAAAAAAAAAAAAAAAAAAAAAAAAAAAAAAAAAAAAAAAAAAAAAAAAAAAAAAAAAAAAAAAAAAAAAAAAAAAAAAAAAAAAAAAAAAAAAAAAAAAAAAAAAAAAAAAAAAAAAAAAAAAAAAAAAAAAAAAAAAAAAAAAAAAAAAAAAAAAAAAAAAAAAAAAAAAAAAAAAAAAAAAAAAAAAAAAAAAAAAAAAAAAAAAAAAAAAAAAAAAAAAAAAAAAAAAAAAAAAAAAAAAAAAAAAAAAAAAAAAAAAAAAAAAAAAAAAAAAAAAAAAAAAAAAAAAAAAAAAAAAAAAAAAAAAAAAAAAAAAAAAAAAAAAAAAAAAAAAAAAAAAAAAAAAAAAAAAAAAAAAAAAAAAAAAAAAAAAAAAAAAAAAAAAAAAAAAAAAAAAAAAAAAAAAAAAAAAAAAAAAAAAAAAAAAAAAAAAAAAAAAAAAAAAAAAAAAAAAAAAAAAAAAAAAAAAAAAAAAAAAAAAAAAAAAAAAAAAAAAAAAAAAAAAAAAAAAAAAAAAAAAAAAAAAAAAAAAAAAAAAAAAAAAAAAAAAAAAAAAAAAAAAAAAAAAAAAAAAAAAAAAAAAAAAAAAAAAAAAAAAAAAAAAAAAAAAAAAAAAAAAAAAAAAAAAAAAAAAAAAAAAAAAAAAAAAAAAAAAAAAAAAAAAAAAAAAAAAAAAAAAAAAAAAAAAAAAAAAAAAAAAAAAAAAAAAAAAAAAAAAAAAAAAAAAAAAAAAAAAAAAAAAAAAAAAAAAAAAAAAAAAAAAAAAAAAAAAAAAAAAAAAAAAAAAAAAAAAAAAAAAAAAAAAAAAAAAAAAAAAAAAAAAAAAAAAAAAAAAAAAAAAAAAAAAAAAAAAAAAAAAAAAAAAAAAAAAAAAAAAAAAAAAAAAAAAAAAAAAAAAAAAAAAAAAAAAAAAAAAAAAAAAAAAAAAAAAAAAAAAAAAAAAAAAAAAAAAAAAAAAAAAAAAAAAAAAAAAAAAAAAAAAAAAAAAAAAAAAAAAAAAAAAAAAAAAAAAAAAAAAAAAAAAAAAAAAAAAAAAAAAAAAAAAAAAAAAAAAAAAAAAAAAAAAAAAAAAAAAAAAAAAAAAAAAAAAAAAAAAAAAAAAAAAAAAAAAAAAAAAAAAAAAAAAAAAAAAAAAAAAAAAAAAAAAAAAAAAAAAAAAAAAAAAAAAAAAAAAAAAAAAAAAAAAAAAAAAAAAAAAAAAAAAAAAAAAAAAAAAAAAAAAAAAAAAAAAAAAAAAAAAAAAAAAAAAAAAAAAAAAAAAAAAAAAAAAAAAAAAAAAAAAAAAAAAAAAAAAAAAAAAAAAAAAAAAAAAAAAAAAAAAAAAAAAAAAAAAAAAAAAAAAAAAAAAAAAAAAAAAAAAAAAAAAAAAAAAAAAAAAAAAAAAAAAAAAAAAAAAAAAAAAAAAAAAAAAAAAAAAAAAAAAAAAAAAAAAAAAAAAAAAAAAAAAAAAAAAAAAAAAAAAAAAAAAAAAAAAAAAAAAAAAAAAAAAAAAAAAAAAAAAAAAAAAAAAAAAAAAAAAAAAAAAAAAAAAAAAAAAAAAAAAAAAAAAAAAAAAAAAAAAAAAAAAAAAAAAAAAAAAAAAAAAAAAAAAAAAAAAAAAAAAAAAAAAAAAAAAAAAAAAAAAAAAAAAAAAAAAAAAAAAAAAAAAAAAAAAAAAAAAAAAAAAAAAAAAAAAAAAAAAAAAAAAAAAAAAAAAAAAAAAAAAAAAAAAAAAAAAAAAAAAAAAAAAAAAAAAAAAAAAAAAAAAAAAAAAAAAAAAAAAAAAAAAAAAAAAAAAAAAAAAAAAAAAAAAAAAAAAAAAAAAAAAAAAAAAAAAAAAAAAAAAAAAAAAAAAAAAAAAAAAAAAAAAAAAAAAAAAAAAAAAAAAAAAAAAAAAAAAAAAAAAAAAAAAAAAAAAAAAAAAAAAAAAAAAAAAAAAAAAAAAAAAAAAAAAAAAAAAAAAAAAAAAAAAAAAAAAAAAAAAAAAAAAAAAAAAAAAAAAAAAAAAAAAAAAAAAAAAAAAAAAAAAAAAAAAAAAAAAAAAAAAAAAAAAAAAAAAAAAAAAAAAAAAAAAAAAAAAAAAAAAAAAAAAAAAAAAAAAAAAAAAAAAAAAAAAAAAAAAAAAAAAAAAAAAAAAAAAAAAAAAAAAAAAAAAAAAAAAAAAAAAAAAAAAAAAAAAAAAAAAAAAAAAAAAAAAAAAAAAAAAAAAAAAAAAAAAAAAAAAAAAAAAAAAAAAAAAAAAAAAAAAAAAAAAAAAAAAAAAAAAAAAAAAAAAAAAAAAAAAAAAAAAAAAAAAAAAAAAAAAAAAAAAAAAAAAAAAAAAAAAAAAAAAAAAAAAAAAAAAAAAAAAAAAAAAAAAAAAAAAAAAAAAAAAAAAAAAAAAAAAAAAAAAAAAAAAAAAAAAAAAAAAAAAAAAAAAAAAAAAAAAAAAAAAAAAAAAAAAAAAAAAAAAAAAAAAAAAAAAAAAAAAAAAAAAAAAAAAAAAAAAAAAAAAAAAAAAAAAAAAAAAAAAAAAAAAAAAAAAAAAAAAAAAAAAAAAAAAAAAAAAAAAAAAAAAAAAAAAAAAAAAAAAAAAAAAAAAAAAAAAAAAAAAAAAAAAAAAAAAAAAAAAAAAAAAAAAAAAAAAAAAAAAAAAAAAAAAAAAAAAAAAAAAAAAAAAAAAAAAAAAAAAAAAAAAAAAAAAAAAAAAAAAAAAAAAAAAAAAAAAAAAAAAAAAAAAAAAAAAAAAAAAAAAAAAAAAAAAAAAAAAAAAAAAAAAAAAAAAAAAAAAAAAAAAAAAAAAAAAAAAAAAAAAAAAAAAAAAAAAAAAAAAAAAAAAAAAAAAAAAAAAAAAAAAAAAAAAAAAAAAAAAAAAAAAAAAAAAAAAAAAAAAAAAAAAAAAAAAAAAAAAAAAAAAAAAAAAAAAAAAAAAAAAAAAAAAAAAAAAAAAAAAAAAAAAAAAAAAAAAAAAAAAAAAAAAAAAAAAAAAAAAAAAAAAAAAAAAAAAAAAAAAAAAAAAAAAAAAAAAAAAAAAAAAAAAAAAAAAAAAAAAAAAAAAAAAAAAAAAAAAAAAAAAAAAAAAAAAAAAAAAAAAAAAAAAAAAAAAAAAAAAAAAAAAAAAAAAAAAAAAAAAAAAAAAAAAAAAAAAAAAAAAAAAAAAAAAAAAAAAAAAAAAAAAAAAAAAAAAAAAAAAAAAAAAAAAAAAAAAAAAAAAAAAAAAAAAAAAAAAAAAAAAAAAAAAAAAAAAAAAAAAAAAAAAAAAAAAAAAAAAAAAAAAAAAAAAAAAAAAAAAAAAAAAAAAAAAAAAAAAAAAAAAAAAAAAAAAAAAAAAAAAAAAAAAAAAAAAAAAAAAAAAAAAAAAAAAAAAAAAAAAAAAAAAAAAAAAAAAAAAAAAAAAAAAAAAAAAAAAAAAAAAAAAAAAAAAAAAAAAAAAAAAAAAAAAAAAAAAAAAAAAAAAAAAAAAAAAAAAAAAAAAAAAAAAAAAAAAAAAAAAAAAAAAAAAAAAAAAAAAAAAAAAAAAAAAAAAAAAAAAAAAAAAAAAAAAAAAAAAAAAAAAAAAAAAAAAAAAAAAAAAAAAAAAAAAAAAAAAAAAAAAAAAAAAAAAAAAAAAAAAAAAAAAAAAAAAAAAAAAAAAAAAAAAAAAAAAAAAAAAAAAAAAAAAAAAAAAAAAAAAAAAAAAAAAAAAAAAAAAAAAAAAAAAAAAAAAAAAAAAAAAAAAAAAAAAAAAAAAAAAAAAAAAAAAAAAAAAAAAAAAAAAAAAAAAAAAAAAAAAAAAAAAAAAAAAAAAAAAAAAAAAAAAAAAAAAAAAAAAAAAAAAAAAAAAAAAAAAAAAAAAAAAAAAAAAAAAAAAAAAAAAAAAAAAAAAAAAAAAAAAAAAAAAAAAAAAAAAAAAAAAAAAAAAAAAAAAAAAAAAAAAAAAAAAAAAAAAAAAAAAAAAAAAAAAAAAAAAAAAAAAAAAAAAAAAAAAAAAAAAAAAAAAAAAAAAAAAAAAAAAAAAAAAAAAAAAAAAAAAAAAAAAAAAAAAAAAAAAAAAAAAAAAAAAAAAAAAAAAAAAAAAAAAAAAAAAAAAAAAAAAAAAAAAAAAAAAAAAAAAAAAAAAAAAAAAAAAAAAAAAAAAAAAAAAAAAAAAAAAAAAAAAAAAAAAAAAAAAAAAAAAAAAAAAAAAAAAAAAAAAAAAAAAAAAAAAAAAAAAAAAAAAAAAAAAAAAAAAAAAAAAAAAAAAAAAAAAAAAAAAAAAAAAAAAAAAAAAAAAAAAAAAAAAAAAAAAAAAAAAAAAAAAAAAAAAAAAAAAAAAAAAAAAAAAAAAAAAAAAAAAAAAAAAAAAAAAAAAAAAAAAAAAAAAAAAAAAAAAAAAAAAAAAAAAAAAAAAAAAAAAAAAAAAAAAAAAAAAAAAAAAAAAAAAAAAAAAAAAAAAAAAAAAAAAAAAAAAAAAAAAAAAAAAAAAAAAAAAAAAAAAAAAAAAAAAAAAAAAAAAAAAAAAAAAAAAAAAAAAAAAAAAAAAAAAAAAAAAAAAAAAAAAAAAAAAAAAAAAAAAAAAAAAAAAAAAAAAAAAAAAAAAAAAAAAAAAAAAAAAAAAAAAAAAAAAAAAAAAAAAAAAAAAAAAAAAAAAAAAAAAAAAAAAAAAAAAAAAAAAAAAAAAAAAAAAAAAAAAAAAAAAAAAAAAAAAAAAAAAAAAAAAAAAAAAAAAAAAAAAAAAAAAAAAAAAAAAAAAAAAAAAAAAAAAAAAAAAAAAAAAAAAAAAAAAAAAAAAAAAAAAAAAAAAAAAAAAAAAAAAAAAAAAAAAAAAAAAAAAAAAAAAAAAAAAAAAAAAAAAAAAAAAAAAAAAAAAAAAAAAAAAAAAAAAAAAAAAAAAAAAAAAAAAAAAAAAAAAAAAAAAAAAAAAAAAAAAAAAAAAAAAAAAAAAAAAAAAAAAAAAAAAAAAAAAAAAAAAAAAAAAAAAAAAAAAAAAAAAAAAAAAAAAAAAAAAAAAAAAAAAAAAAAAAAAAAAAAAAAAAAAAAAAAAAAAAAAAAAAAAAAAAAAAAAAAAAAAAAAAAAAAAAAAAAAAAAAAAAAAAAAAAAAAAAAAAAAAAAAAAAAAAAAAAAAAAAAAAAAAAAAAAAAAAAAAAAAAAAAAAAAAAAAAAAAAAAAAAAAAAAAAAAAAAAAAAAAAAAAAAAAAAAAAAAAAAAAAAAAAAAAAAAAAAAAAAAAAAAAAAAAAAAAAAAAAAAAAAAAAAAAAAAAAAAAAAAAAAAAAAAAAAAAAAAAAAAAAAAAAAAAAAAAAAAAAAAAAAAAAAAAAAAAAAAAAAAAAAAAAAAAAAAAAAAAAAAAAAAAAAAAAAAAAAAAAAAAAAAAAAAAAAAAAAAAAAAAAAAAAAAAAAAAAAAAAAAAAAAAAAAAAAAAAAAAAAAAAAAAAAAAAAAAAAAAAAAAAAAAAAAAAAAAAAAAAAAAAAAAAAAAAAAAAAAAAAAAAAAAAAAAAAAAAAAAAAAAAAAAAAAAAAAAAAAAAAAAAAAAAAAAAAAAAAAAAAAAAAAAAAAAAAAAAAAAAAAAAAAAAAAAAAAAAAAAAAAAAAAAAAAAAAAAAAAAAAAAAAAAAAAAAAAAAAAAAAAAAAAAAAAAAAAAAAAAAAAAAAAAAAAAAAAAAAAAAAAAAAAAAAAAAAAAAAAAAAAAAAAAAAAAAAAAAAAAAAAAAAAAAAAAAAAAAAAAAAAAAAAAAAAAAAAAAAAAAAAAAAAAAAAAAAAAAAAAAAAAAAAAAAAAAAAAAAAAAAAAAAAAAAAAAAAAAAAAAAAAAAAAAAAAAAAAAAAAAAAAAAAAAAAAAAAAAAAAAAAAAAAAAAAAAAAAAAAAAAAAAAAAAAAAAAAAAAAAAAAAAAAAAAAAAAAAAAAAAAAAAAAAAAAAAAAAAAAAAAAAAAAAAAAAAAAAAAAAAAAAAAAAAAAAAAAAAAAAAAAAAAAAAAAAAAAAAAAAAAAAAAAAAAAAAAAAAAAAAAAAAAAAAAAAAAAAAAAAAAAAAAAAAAAAAAAAAAAAAAAAAAAAAAAAAAAAAAAAAAAAAAAAAAAAAAAAAAAAAAAAAAAAAAAAAAAAAAAAAAAAAAAAAAAAAAAAAAAAAAAAAAAAAAAAAAAAAAAAAAAAAAAAAAAAAAAAAAAAAAAAAAAAAAAAAAAAAAAAAAAAAAAAAAAAAAAAAAAAAAAAAAAAAAAAAAAAAAAAAAAAAAAAAAAAAAAAAAAAAAAAAAAAAAAAAAAAAAAAAAAAAAAAAAAAAAAAAAAAAAAAAAAAAAAAAAAAAAAAAAAAAAAAAAAAAAAAAAAAAAAAAAAAAAAAAAAAAAAAAAAAAAAAAAAAAAAAAAAAAAAAAAAAAAAAAAAAAAAAAAAAAAAAAAAAAAAAAAAAAAAAAAAAAAAAAAAAAAAAAAAAAAAAAAAAAAAAAAAAAAAAAAAAAAAAAAAAAAAAAAAAAAAAAAAAAAAAAAAAAAAAAAAAAAAAAAAAAAAAAAAAAAAAAAAAAAAAAAAAAAAAAAAAAAAAAAAAAAAAAAAAAAAAAAAAAAAAAAAAAAAAAAAAAAAAAAAAAAAAAAAAAAAAAAAAAAAAAAAAAAAAAAAAAAAAAAAAAAAAAAAAAAAAAAAAAAAAAAAAAAAAAAAAAAAAAAAAAAAAAAAAAAAAAAAAAAAAAAAAAAAAAAAAAAAAAAAAAAAAAAAAAAAAAAAAAAAAAAAAAAAAAAAAAAAAAAAAAAAAAAAAAAAAAAAAAAAAAAAAAAAAAAAAAAAAAAAAAAAAAAAAAAAAAAAAAAAAAAAAAAAAAAAAAAAAAAAAAAAAAAAAAAAAAAAAAAAAAAAAAAAAAAAAAAAAAAAAAAAAAAAAAAAAAAAAAAAAAAAAAAAAAAAAAAAAAAAAAAAAAAAAAAAAAAAAAAAAAAAAAAAAAAAAAAAAAAAAAAAAAAAAAAAAAAAAAAAAAAAAAAAAAAAAAAAAAAAAAAAAAAAAAAAAAAAAAAAAAAAAAAAAAAAAAAAAAAAAAAAAAAAAAAAAAAAAAAAAAAAAAAAAAAAAAAAAAAAAAAAAAAAAAAAAAAAAAAAAAAAAAAAAAAAAAAAAAAAAAAAAAAAAAAAAAAAAAAAAAAAAAAAAAAAAAAAAAAAAAAAAAAAAAAAAAAAAAAAAAAAAAAAAAAAAAAAAAAAAAAAAAAAAAAAAAAAAAAAAAAAAAAAAAAAAAAAAAAAAAAAAAAAAAAAAAAAAAAAAAAAAAAAAAAAAAAAAAAAAAAAAAAAAAAAAAAAAAAAAAAAAAAAAAAAAAAAAAAAAAAAAAAAAAAAAAAAAAAAAAAAAAAAAAAAAAAAAAAAAAAAAAAAAAAAAAAAAAAAAAAAAAAAAAAAAAAAAAAAAAAAAAAAAAAAAAAAAAAAAAAAAAAAAAAAAAAAAAAAAAAAAAAAAAAAAAAAAAAAAAAAAAAAAAAAAAAAAAAAAAAAAAAAAAAAAAAAAAAAAAAAAAAAAAAAAAAAAAAAAAAAAAAAAAAAAAAAAAAAAAAAAAAAAAAAAAAAAAAAAAAAAAAAAAAAAAAAAAAAAAAAAAAAAAAAAAAAAAAAAAAAAAAAAAAAAAAAAAAAAAAAAAAAAAAAAAAAAAAAAAAAAAAAAAAAAAAAAAAAAAAAAAAAAAAAAAAAAAAAAAAAAAAAAAAAAAAAAAAAAAAAAAAAAAAAAAAAAAAAAAAAAAAAAAAAAAAAAAAAAAAAAAAAAAAAAAAAAAAAAAAAAAAAAAAAAAAAAAAAAAAAAAAAAAAAAAAAAAAAAAAAAAAAAAAAAAAAAAAAAAAAAAAAAAAAAAAAAAAAAAAAAAAAAAAAAAAAAAAAAAAAAAAAAAAAAAAAAAAAAAAAAAAAAAAAAAAAAAAAAAAAAAAAAAAAAAAAAAAAAAAAAAAAAAAAAAAAAAAAAAAAAAAAAAAAAAAAAAAAAAAAAAAAAAAAAAAAAAAAAAAAAAAAAAAAAAAAAAAAAAAAAAAAAAAAAAAAAAAAAAAAAAAAAAAAAAAAAAAAAAAAAAAAAAAAAAAAAAAAAAAAAAAAAAAAAAAAAAAAAAAAAAAAAAAAAAAAAAAAAAAAAAAAAAAAAAAAAAAAAAAAAAAAAAAAAAAAAAAAAAAAAAAAAAAAAAAAAAAAAAAAAAAAAAAAAAAAAAAAAAAAAAAAAAAAAAAAAAAAAAAAAAAAAAAAAAAAAAAAAAAAAAAAAAAAAAAAAAAAAAAAAAAAAAAAAAAAAAAAAAAAAAAAAAAAAAAAAAAAAAAAAAAAAAAAAAAAAAAAAAAAAAAAAAAAAAAAAAAAAAAAAAAAAAAAAAAAAAAAAAAAAAAAAAAAAAAAAAAAAAAAAAAAAAAAAAAAAAAAAAAAAAAAAAAAAAAAAAAAAAAAAAAAAAAAAAAAAAAAAAAAAAAAAAAAAAAAAAAAAAAAAAAAAAAAAAAAAAAAAAAAAAAAAAAAAAAAAAAAAAAAAAAAAAAAAAAAAAAAAAAAAAAAAAAAAAAAAAAAAAAAAAAAAAAAAAAAAAAAAAAAAAAAAAAAAAAAAAAAAAAAAAAAAAAAAAAAAAAAAAAAAAAAAAAAAAAAAAAAAAAAAAAAAAAAAAAAAAAAAAAAAAAAAAAAAAAAAAAAAAAAAAAAAAAAAAAAAAAAAAAAAAAAAAAAAAAAAAAAAAAAAAAAAAAAAAAAAAAAAAAAAAAAAAAAAAAAAAAAAAAAAAAAAAAAAAAAAAAAAAAAAAAAAAAAAAAAAAAAAAAAAAAAAAAAAAAAAAAAAAAAAAAAAAAAAAAAAAAAAAAAAAAAAAAAAAAAAAAAAAAAAAAAAAAAAAAAAAAAAAAAAAAAAAAAAAAAAAAAAAAAAAAAAAAAAAAAAAAAAAAAAAAAAAAAAAAAAAAAAAAAAAAAAAAAAAAAAAAAAAAAAAAAAAAAAAAAAAAAAAAAAAAAAAAAAAAAAAAAAAAAAAAAAAAAAAAAAAAAAAAAAAAAAAAAAAAAAAAAAAAAAAAAAAAAAAAAAAAAAAAAAAAAAAAAAAAAAAAAAAAAAAAAAAAAAAAAAAAAAAAAAAAAAAAAAAAAAAAAAAAAAAAAAAAAAAAAAAAAAAAAAAAAAAAAAAAAAAAAAAAAAAAAAAAAAAAAAAAAAAAAAAAAAAAAAAAAAAAAAAAAAAAAAAAAAAAAAAAAAAAAAAAAAAAAAAAAAAAAAAAAAAAAAAAAAAAAAAAAAAAAAAAAAAAAAAAAAAAAAAAAAAAAAAAAAAAAAAAAAAAAAAAAAAAAAAAAAAAAAAAAAAAAAAAAAAAAAAAAAAAAAAAAAAAAAAAAAAAAAAAAAAAAAAAAAAAAAAAAAAAAAAAAAAAAAAAAAAAAAAAAAAAAAAAAAAAAAAAAAAAAAAAAAAAAAAAAAAAAAAAAAAAAAAAAAAAAAAAAAAAAAAAAAAAAAAAAAAAAAAAAAAAAAAAAAAAAAAAAAAAAAAAAAAAAAAAAAAAAAAAAAAAAAAAAAAAAAAAAAAAAAAAAAAAAAAAAAAAAAAAAAAAAAAAAAAAAAAAAAAAAAAAAAAAAAAAAAAAAAAAAAAAAAAAAAAAAAAAAAAAAAAAAAAAAAAAAAAAAAAAAAAAAAAAAAAAAAAAAAAAAAAAAAAAAAAAAAAAAAAAAAAAAAAAAAAAAAAAAAAAAAAAAAAAAAAAAAAAAAAAAAAAAAAAAAAAAAAAAAAAAAAAAAAAAAAAAAAAAAAAAAAAAAAAAAAAAAAAAAAAAAAAAAAAAAAAAAAAAAAAAAAAAAAAAAAAAAAAAAAAAAAAAAAAAAAAAAAAAAAAAAAAAAAAAAAAAAAAAAAAAAAAAAAAAAAAAAAAAAAAAAAAAAAAAAAAAAAAAAAAAAAAAAAAAAAAAAAAAAAAAAAAAAAAAAAAAAAAAAAAAAAAAAAAAAAAAAAAAAAAAAAAAAAAAAAAAAAAAAAAAAAAAAAAAAAAAAAAAAAAAAAAAAAAAAAAAAAAAAAAAAAAAAAAAAAAAAAAAAAAAAAAAAAAAAAAAAAAAAAAAAAAAAAAAAAAAAAAAAAAAAAAAAAAAAAAAAAAAAAAAAAAAAAAAAAAAAAAAAAAAAAAAAAAAAAAAAAAAAAAAAAAAAAAAAAAAAAAAAAAAAAAAAAAAAAAAAAAAAAAAAAAAAAAAAAAAAAAAAAAAAAAAAAAAAAAAAAAAAAAAAAAAAAAAAAAAAAAAAAAAAAAAAAAAAAAAAAAAAAAAAAAAAAAAAAAAAAAAAAAAAAAAAAAAAAAAAAAAAAAAAAAAAAAAAAAAAAAAAAAAAAAAAAAAAAAAAAAAAAAAAAAAAAAAAAAAAAAAAAAAAAAAAAAAAAAAAAAAAAAAAAAAAAAAAAAAAAAAAAAAAAAAAAAAAAAAAAAAAAAAAAAAAAAAAAAAAAAAAAAAAAAAAAAAAAAAAAAAAAAAAAAAAAAAAAAAAAAAAAAAAAAAAAAAAAAAAAAAAAAAAAAAAAAAAAAAAAAAAAAAAAAAAAAAAAAAAAAAAAAAAAAAAAAAAAAAAAAAAAAAAAAAAAAAAAAAAAAAAAAAAAAAAAAAAAAAAAAAAAAAAAAAAAAAAAAAAAAAAAAAAAAAAAAAAAAAAAAAAAAAAAAAAAAAAAAAAAAAAAAAAAAAAAAAAAAAAAAAAAAAAAAAAAAAAAAAAAAAAAAAAAAAAAAAAAAAAAAAAAAAAAAAAAAAAAAAAAAAAAAAAAAAAAAAAAAAAAAAAAAAAAAAAAAAAAAAAAAAAAAAAAAAAAAAAAAAAAAAAAAAAAAAAAAAAAAAAAAAAAAAAAAAAAAAAAAAAAAAAAAAAAAAAAAAAAAAAAAAAAAAAAAAAAAAAAAAAAAAAAAAAAAAAAAAAAAAAAAAAAAAAAAAAAAAAAAAAAAAAAAAAAAAAAAAAAAAAAAAAAAAAAAAAAAAAAAAAAAAAAAAAAAAAAAAAAAAAAAAAAAAAAAAAAAAAAAAAAAAAAAAAAAAAAAAAAAAAAAAAAAAAAAAAAAAAAAAAAAAAAAAAAAAAAAAAAAAAAAAAAAAAAAAAAAAAAAAAAAAAAAAAAAAAAAAAAAAAAAAAAAAAAAAAAAAAAAAAAAAAAAAAAAAAAAAAAAAAAAAAAAAAAAAAAAAAAAAAAAAAAAAAAAAAAAAAAAAAAAAAAAAAAAAAAAAAAAAAAAAAAAAAAAAAAAAAAAAAAAAAAAAAAAAAAAAAAAAAAAAAAAAAAAAAAAAAAAAAAAAAAAAAAAAAAAAAAAAAAAAAAAAAAAAAAAAAAAAAAAAAAAAAAAAAAAAAAAAAAAAAAAAAAAAAAAAAAAAAAAAAAAAAAAAAAAAAAAAAAAAAAAAAAAAAAAAAAAAAAAAAAAAAAAAAAAAAAAAAAAAAAAAAAAAAAAAAAAAAAAAAAAAAAAAAAAAAAAAAAAAAAAAAAAAAAAAAAAAAAAAAAAAAAAAAAAAAAAAAAAAAAAAAAAAAAAAAAAAAAAAAAAAAAAAAAAAAAAAAAAAAAAAAAAAAAAAAAAAAAAAAAAAAAAAAAAAAAAAAAAAAAAAAAAAAAAAAAAAAAAAAAAAAAAAAAAAAAAAAAAAAAAAAAAAAAAAAAAAAAAAAAAAAAAAAAAAAAAAAAAAAAAAAAAAAAAAAAAAAAAAAAAAAAAAAAAAAAAAAAAAAAAAAAAAAAAAAAAAAAAAAAAAAAAAAAAAAAAAAAAAAAAAAAAAAAAAAAAAAAAAAAAAAAAAAAAAAAAAAAAAAAAAAAAAAAAAAAAAAAAAAAAAAAAAAAAAAAAAAAAAAAAAAAAAAAAAAAAAAAAAAAAAAAAAAAAAAAAAAAAAAAAAAAAAAAAAAAAAAAAAAAAAAAAAAAAAAAAAAAAAAAAAAAAAAAAAAAAAAAAAAAAAAAAAAAAAAAAAAAAAAAAAAAAAAAAAAAAAAAAAAAAAAAAAAAAAAAAAAAAAAAAAAAAAAAAAAAAAAAAAAAAAAAAAAAAAAAAAAAAAAAAAAAAAAAAAAAAAAAAAAAAAAAAAAAAAAAAAAAAAAAAAAAAAAAAAAAAAAAAAAAAAAAAAAAAAAAAAAAAAAAAAAAAAAAAAAAAAAAAAAAAAAAAAAAAAAAAAAAAAAAAAAAAAAAAAAAAAAAAAAAAAAAAAAAAAAAAAAAAAAAAAAAAAAAAAAAAAAAAAAAAAAAAAAAAAAAAAAAAAAAAAAAAAAAAAAAAAAAAAAAAAAAAAAAAAAAAAAAAAAAAAAAAAAAAAAAAAAAAAAAAAAAAAAAAAAAAAAAAAAAAAAAAAAAAAAAAAAAAAAAAAAAAAAAAAAAAAAAAAAAAAAAAAAAAAAAAAAAAAAAAAAAAAAAAAAAAAAAAAAAAAAAAAAAAAAAAAAAAAAAAAAAAAAAAAAAAAAAAAAAAAAAAAAAAAAAAAAAAAAAAAAAAAAAAAAAAAAAAAAAAAAAAAAAAAAAAAAAAAAAAAAAAAAAAAAAAAAAAAAAAAAAAAAAAAAAAAAAAAAAAAAAAAAAAAAAAAAAAAAAAAAAAAAAAAAAAAAAAAAAAAAAAAAAAAAAAAAAAAAAAAAAAAAAAAAAAAAAAAAAAAAAAAAAAAAAAAAAAAAAAAAAAAAAAAAAAAAAAAAAAAAAAAAAAAAAAAAAAAAAAAAAAAAAAAAAAAAAAAAAAAAAAAAAAAAAAAAAAAAAAAAAAAAAAAAAAAAAAAAAAAAAAAAAAAAAAAAAAAAAAAAAAAAAAAAAAAAAAAAAAAAAAAAAAAAAAAAAAAAAAAAAAAAAAAAAAAAAAAAAAAAAAAAAAAAAAAAAAAAAAAAAAAAAAAAAAAAAAAAAAAAAAAAAAAAAAAAAAAAAAAAAAAAAAAAAAAAAAAAAAAAAAAAAAAAAAAAAAAAAAAAAAAAAAAAAAAAAAAAAAAAAAAAAAAAAAAAAAAAAAAAAAAAAAAAAAAAAAAAAAAAAAAAAAAAAAAAAAAAAAAAAAAAAAAAAAAAAAAAAAAAAAAAAAAAAAAAAAAAAAAAAAAAAAAAAAAAAAAAAAAAAAAAAAAAAAAAAAAAAAAAAAAAAAAAAAAAAAAAAAAAAAAAAAAAAAAAAAAAAAAAAAAAAAAAAAAAAAAAAAAAAAAAAAAAAAAAAAAAAAAAAAAAAAAAAAAAAAAAAAAAAAAAAAAAAAAAAAAAAAAAAAAAAAAAAAAAAAAAAAAAAAAAAAAAAAAAAAAAAAAAAAAAAAAAAAAAAAAAAAAAAAAAAAAAAAAAAAAAAAAAAAAAAAAAAAAAAAAAAAAAAAAAAAAAAAAAAAAAAAAAAAAAAAAAAAAAAAAAAAAAAAAAAAAAAAAAAAAAAAAAAAAAAAAAAAAAAAAAAAAAAAAAAAAAAAAAAAAAAAAAAAAAAAAAAAAAAAAAAAAAAAAAAAAAAAAAAAAAAAAAAAAAAAAAAAAAAAAAAAAAAAAAAAAAAAAAAAAAAAAAAAAAAAAAAAAAAAAAAAAAAAAAAAAAAAAAAAAAAAAAAAAAAAAAAAAAAAAAAAAAAAAAAAAAAAAAAAAAAAAAAAAAAAAAAAAAAAAAAAAAAAAAAAAAAAAAAAAAAAAAAAAAAAAAAAAAAAAAAAAAAAAAAAAAAAAAAAAAAAAAAAAAAAAAAAAAAAAAAAAAAAAAAAAAAAAAAAAAAAAAAAAAAAAAAAAAAAAAAAAAAAAAAAAAAAAAAAAAAAAAAAAAAAAAAAAAAAAAAAAAAAAAAAAAAAAAAAAAAAAAAAAAAAAAAAAAAAAAAAAAAAAAAAAAAAAAAAAAAAAAAAAAAAAAAAAAAAAAAAAAAAAAAAAAAAAAAAAAAAAAAAAAAAAAAAAAAAAAAAAAAAAAAAAAAAAAAAAAAAAAAAAAAAAAAAAAAAAAAAAAAAAAAAAAAAAAAAAAAAAAAAAAAAAAAAAAAAAAAAAAAAAAAAAAAAAAAAAAAAAAAAAAAAAAAAAAAAAAAAAAAAAAAAAAAAAAAAAAAAAAAAAAAAAAAAAAAAAAAAAAAAAAAAAAAAAAAAAAAAAAAAAAAAAAAAAAAAAAAAAAAAAAAAAAAAAAAAAAAAAAAAAAAAAAAAAAAAAAAAAAAAAAAAAAAAAAAAAAAAAAAAAAAAAAAAAAAAAAAAAAAAAAAAAAAAAAAAAAAAAAAAAAAAAAAAAAAAAAAAAAAAAAAAAAAAAAAAAAAAAAAAAAAAAAAAAAAAAAAAAAAAAAAAAAAAAAAAAAAAAAAAAAAAAAAAAAAAAAAAAAAAAAAAAAAAAAAAAAAAAAAAAAAAAAAAAAAAAAAAAAAAAAAAAAAAAAAAAAAAAAAAAAAAAAAAAAAAAAAAAAAAAAAAAAAAAAAAAAAAAAAAAAAAAAAAAAAAAAAAAAAAAAAAAAAAAAAAAAAAAAAAAAAAAAAAAAAAAAAAAAAAAAAAAAAAAAAAAAAAAAAAAAAAAAAAAAAAAAAAAAAAAAAAAAAAAAAAAAAAAAAAAAAAAAAAAAAAAAAAAAAAAAAAAAAAAAAAAAAAAAAAAAAAAAAAAAAAAAAAAAAAAAAAAAAAAAAAAAAAAAAAAAAAAAAAAAAAAAAAAAAAAAAAAAAAAAAAAAAAAAAAAAAAAAAAAAAAAAAAAAAAAAAAAAAAAAAAAAAAAAAAAAAAAAAAAAAAAAAAAAAAAAAAAAAAAAAAAAAAAAAAAAAAAAAAAAAAAAAAAAAAAAAAAAAAAAAAAAAAAAAAAAAAAAAAAAAAAAAAAAAAAAAAAAAAAAAAAAAAAAAAAAAAAAAAAAAAAAAAAAAAAAAAAAAAAAAAAAAAAAAAAAAAAAAAAAAAAAAAAAAAAAAAAAAAAAAAAAAAAAAAAAAAAAAAAAAAAAAAAAAAAAAAAAAAAAAAAAAAAAAAAAAAAAAAAAAAAAAAAAAAAAAAAAAAAAAAAAAAAAAAAAAAAAAAAAAAAAAAAAAAAAAAAAAAAAAAAAAAAAAAAAAAAAAAAAAAAAAAAAAAAAAAAAAAAAAAAAAAAAAAAAAAAAAAAAAAAAAAAAAAAAAAAAAAAAAAAAAAAAAAAAAAAAAAAAAAAAAAAAAAAAAAAAAAAAAAAAAAAAAAAAAAAAAAAAAAAAAAAAAAAAAAAAAAAAAAAAAAAAAAAAAAAAAAAAAAAAAAAAAAAAAAAAAAAAAAAAAAAAAAAAAAAAAAAAAAAAAAAAAAAAAAAAAAAAAAAAAAAAAAAAAAAAAAAAAAAAAAAAAAAAAAAAAAAAAAAAAAAAAAAAAAAAAAAAAAAAAAAAAAAAAAAAAAAAAAAAAAAAAAAAAAAAAAAAAAAAAAAAAAAAAAAAAAAAAAAAAAAAAAAAAAAAAAAAAAAAAAAAAAAAAAAAAAAAAAAAAAAAAAAAAAAAAAAAAAAAAAAAAAAAAAAAAAAAAAAAAAAAAAAAAAAAAAAAAAAAAAAAAAAAAAAAAAAAAAAAAAAAAAAAAAAAAAAAAAAAAAAAAAAAAAAAAAAAAAAAAAAAAAAAAAAAAAAAAAAAAAAAAAAAAAAAAAAAAAAAAAAAAAAAAAAAAAAAAAAAAAAAAAAAAAAAAAAAAAAAAAAAAAAAAAAAAAAAAAAAAAAAAAAAAAAAAAAAAAAAAAAAAAAAAAAAAAAAAAAAAAAAAAAAAAAAAAAAAAAAAAAAAAAAAAAAAAAAAAAAAAAAAAAAAAAAAAAAAAAAAAAAAAAAAAAAAAAAAAAAAAAAAAAAAAAAAAAAAAAAAAAAAAAAAAAAAAAAAAAAAAAAAAAAAAAAAAAAAAAAAAAAAAAAAAAAAAAAAAAAAAAAAAAAAAAAAAAAAAAAAAAAAAAAAAAAAAAAAAAAAAAAAAAAAAAAAAAAAAAAAAAAAAAAAAAAAAAAAAAAAAAAAAAAAAAAAAAAAAAAAAAAAAAAAAAAAAAAAAAAAAAAAAAAAAAAAAAAAAAAAAAAAAAAAAAAAAAAAAAAAAAAAAAAAAAAAAAAAAAAAAAAAAAAAAAAAAAAAAAAAAAAAAAAAAAAAAAAAAAAAAAAAAAAAAAAAAAAAAAAAAAAAAAAAAAAAAAAAAAAAAAAAAAAAAAAAAAAAAAAAAAAAAAAAAAAAAAAAAAAAAAAAAAAAAAAAAAAAAAAAAAAAAAAAAAAAAAAAAAAAAAAAAAAAAAAAAAAAAAAAAAAAAAAAAAAAAAAAAAAAAAAAAAAAAAAAAAAAAAAAAAAAAAAAAAAAAAAAAAAAAAAAAAAAAAAAAAAAAAAAAAAAAAAAAAAAAAAAAAAAAAAAAAAAAAAAAAAAAAAAAAAAAAAAAAAAAAAAAAAAAAAAAAAAAAAAAAAAAAAAAAAAAAAAAAAAAAAAAAAAAAAAAAAAAAAAAAAAAAAAAAAAAAAAAAAAAAAAAAAAAAAAAAAAAAAAAAAAAAAAAAAAAAAAAAAAAAAAAAAAAAAAAAAAAAAAAAAAAAAAAAAAAAAAAAAAAAAAAAAAAAAAAAAAAAAAAAAAAAAAAAAAAAAAAAAAAAAAAAAAAAAAAAAAAAAAAAAAAAAAAAAAAAAAAAAAAAAAAAAAAAAAAAAAAAAAAAAAAAAAAAAAAAAAAAAAAAAAAAAAAAAAAAAAAAAAAAAAAAAAAAAAAAAAAAAAAAAAAAAAAAAAAAAAAAAAAAAAAAAAAAAAAAAAAAAAAAAAAAAAAAAAAAAAAAAAAAAAAAAAAAAAAAAAAAAAAAAAAAAAAAAAAAAAAAAAAAAAAAAAAAAAAAAAAAAAAAAAAAAAAAAAAAAAAAAAAAAAAAAAAAAAAAAAAAAAAAAAAAAAAAAAAAAAAAAAAAAAAAAAAAAAAAAAAAAAAAAAAAAAAAAAAAAAAAAAAAAAAAAAAAAAAAAAAAAAAAAAAAAAAAAAAAAAAAAAAAAAAAAAAAAAAAAAAAAAAAAAAAAAAAAAAAAAAAAAAAAAAAAAAAAAAAAAAAAAAAAAAAAAAAAAAAAAAAAAAAAAAAAAAAAAAAAAAAAAAAAAAAAAAAAAAAAAAAAAAAAAAAAAAAAAAAAAAAAAAAAAAAAAAAAAAAAAAAAAAAAAAAAAAAAAAAAAAAAAAAAAAAAAAAAAAAAAAAAAAAAAAAAAAAAAAAAAAAAAAAAAAAAAAAAAAAAAAAAAAAAAAAAAAAAAAAAAAAAAAAAAAAAAAAAAAAAAAAAAAAAAAAAAAAAAAAAAAAAAAAAAAAAAAAAAAAAAAAAAAAAAAAAAAAAAAAAAAAAAAAAAAAAAAAAAAAAAAAAAAAAAAAAAAAAAAAAAAAAAAAAAAAAAAAAAAAAAAAAAAAAAAAAAAAAAAAAAAAAAAAAAAAAAAAAAAAAAAAAAAAAAAAAAAAAAAAAAAAAAAAAAAAAAAAAAAAAAAAAAAAAAAAAAAAAAAAAAAAAAAAAAAAAAAAAAAAAAAAAAAAAAAAAAAAAAAAAAAAAAAAAAAAAAAAAAAAAAAAAAAAAAAAAAAAAAAAAAAAAAAAAAAAAAAAAAAAAAAAAAAAAAAAAAAAAAAAAAAAAAAAAAAAAAAAAAAAAAAAAAAAAAAAAAAAAAAAAAAAAAAAAAAAAAAAAAAAAAAAAAAAAAAAAAAAAAAAAAAAAAAAAAAAAAAAAAAAAAAAAAAAAAAAAAAAAAAAAAAAAAAAAAAAAAAAAAAAAAAAAAAAAAAAAAAAAAAAAAAAAAAAAAAAAAAAAAAAAAAAAAAAAAAAAAAAAAAAAAAAAAAAAAAAAAAAAAAAAAAAAAAAAAAAAAAAAAAAAAAAAAAAAAAAAAAAAAAAAAAAAAAAAAAAAAAAAAAAAAAAAAAAAAAAAAAAAAAAAAAAAAAAAAAAAAAAAAAAAAAAAAAAAAAAAAAAAAAAAAAAAAAAAAAAAAAAAAAAAAAAAAAAAAAAAAAAAAAAAAAAAAAAAAAAAAAAAAAAAAAAAAAAAAAAAAAAAAAAAAAAAAAAAAAAAAAAAAAAAAAAAAAAAAAAAAAAAAAAAAAAAAAAAAAAAAAAAAAAAAAAAAAAAAAAAAAAAAAAAAAAAAAAAAAAAAAAAAAAAAAAAAAAAAAAAAAAAAAAAAAAAAAAAAAAAAAAAAAAAAAAAAAAAAAAAAAAAAAAAAAAAAAAAAAAAAAAAAAAAAAAAAAAAAAAAAAAAAAAAAAAAAAAAAAAAAAAAAAAAAAAAAAAAAAAAAAAAAAAAAAAAAAAAAAAAAAAAAAAAAAAAAAAAAAAAAAAAAAAAAAAAAAAAAAAAAAAAAAAAAAAAAAAAAAAAAAAAAAAAAAAAAAAAAAAAAAAAAAAAAAAAAAAAAAAAAAAAAAAAAAAAAAAAAAAAAAAAAAAAAAAAAAAAAAAAAAAAAAAAAAAAAAAAAAAAAAAAAAAAAAAAAAAAAAAAAAAAAAAAAAAAAAAAAAAAAAAAAAAAAAAAAAAAAAAAAAAAAAAAAAAAAAAAAAAAAAAAAAAAAAAAAAAAAAAAAAAAAAAAAAAAAAAAAAAAAAAAAAAAAAAAAAAAAAAAAAAAAAAAAAAAAAAAAAAAAAAAAAAAAAAAAAAAAAAAAAAAAAAAAAAAAAAAAAAAAAAAAAAAAAAAAAAAAAAAAAAAAAAAAAAAAAAAAAAAAAAAAAAAAAAAAAAAAAAAAAAAAAAAAAAAAAAAAAAAAAAAAAAAAAAAAAAAAAAAAAAAAAAAAAAAAAAAAAAAAAAAAAAAAAAAAAAAAAAAAAAAAAAAAAAAAAAAAAAAAAAAAAAAAAAAAAAAAAAAAAAAAAAAAAAAAAAAAAAAAAAAAAAAAAAAAAAAAAAAAAAAAAAAAAAAAAAAAAAAAAAAAAAAAAAAAAAAAAAAAAAAAAAAAAAAAAAAAAAAAAAAAAAAAAAAAAAAAAAAAAAAAAAAAAAAAAAAAAAAAAAAAAAAAAAAAAAAAAAAAAAAAAAAAAAAAAAAAAAAAAAAAAAAAAAAAAAAAAAAAAAAAAAAAAAAAAAAAAAAAAAAAAAAAAAAAAAAAAAAAAAAAAAAAAAAAAAAAAAAAAAAAAAAAAAAAAAAAAAAAAAAAAAAAAAAAAAAAAAAAAAAAAAAAAAAAAAAAAAAAAAAAAAAAAAAAAAAAAAAAAAAAAAAAAAAAAAAAAAAAAAAAAAAAAAAAAAAAAAAAAAAAAAAAAAAAAAAAAAAAAAAAAAAAAAAAAAAAAAAAAAAAAAAAAAAAAAAAAAAAAAAAAAAAAAAAAAAAAAAAAAAAAAAAAAAAAAAAAAAAAAAAAAAAAAAAAAAAAAAAAAAAAAAAAAAAAAAAAAAAAAAAAAAAAAAAAAAAAAAAAAAAAAAAAAAAAAAAAAAAAAAAAAAAAAAAAAAAAAAAAAAAAAAAAAAAAAAAAAAAAAAAAAAAAAAAAAAAAAAAAAAAAAAAAAAAAAAAAAAAAAAAAAAAAAAAAAAAAAAAAAAAAAAAAAAAAAAAAAAAAAAAAAAAAAAAAAAAAAAAAAAAAAAAAAAAAAAAAAAAAAAAAAAAAAAAAAAAAAAAAAAAAAAAAAAAAAAAAAAAAAAAAAAAAAAAAAAAAAAAAAAAAAAAAAAAAAAAAAAAAAAAAAAAAAAAAAAAAAAAAAAAAAAAAAAAAAAAAAAAAAAAAAAAAAAAAAAAAAAAAAAAAAAAAAAAAAAAAAAAAAAAAAAAAAAAAAAAAAAAAAAAAAAAAAAAAAAAAAAAAAAAAAAAAAAAAAAAAAAAAAAAAAAAAAAAAAAAAAAAAAAAAAAAAAAAAAAAAAAAAAAAAAAAAAAAAAAAAAAAAAAAAAAAAAAAAAAAAAAAAAAAAAAAAAAAAAAAAAAAAAAAAAAAAAAAAAAAAAAAAAAAAAAAAAAAAAAAAAAAAAAAAAAAAAAAAAAAAAAAAAAAAAAAAAAAAAAAAAAAAAAAAAAAAAAAAAAAAAAAAAAAAAAAAAAAAAAAAAAAAAAAAAAAAAAAAAAAAAAAAAAAAAAAAAAAAAAAAAAAAAAAAAAAAAAAAAAAAAAAAAAAAAAAAAAAAAAAAAAAAAAAAAAAAAAAAAAAAAAAAAAAAAAAAAAAAAAAAAAAAAAAAAAAAAAAAAAAAAAAAAAAAAAAAAAAAAAAAAAAAAAAAAAAAAAAAAAAAAAAAAAAAAAAAAAAAAAAAAAAAAAAAAAAAAAAAAAAAAAAAAAAAAAAAAAAAAAAAAAAAAAAAAAAAAAAAAAAAAAAAAAAAAAAAAAAAAAAAAAAAAAAAAAAAAAAAAAAAAAAAAAAAAAAAAAAAAAAAAAAAAAAAAAAAAAAAAAAAAAAAAAAAAAAAAAAAAAAAAAAAAAAAAAAAAAAAAAAAAAAAAAAAAAAAAAAAAAAAAAAAAAAAAAAAAAAAAAAAAAAAAAAAAAAAAAAAAAAAAAAAAAAAAAAAAAAAAAAAAAAAAAAAAAAAAAAAAAAAAAAAAAAAAAAAAAAAAAAAAAAAAAAAAAAAAAAAAAAAAAAAAAAAAAAAAAAAAAAAAAAAAAAAAAAAAAAAAAAAAAAAAAAAAAAAAAAAAAAAAAAAAAAAAAAAAAAAAAAAAAAAAAAAAAAAAAAAAAAAAAAAAAAAAAAAAAAAAAAAAAAAAAAAAAAAAAAAAAAAAAAAAAAAAAAAAAAAAAAAAAAAAAAAAAAAAAAAAAAAAAAAAAAAAAAAAAAAAAAAAAAAAAAAAAAAAAAAAAAAAAAAAAAAAAAAAAAAAAAAAAAAAAAAAAAAAAAAAAAAAAAAAAAAAAAAAAAAAAAAAAAAAAAAAAAAAAAAAAAAAAAAAAAAAAAAAAAAAAAAAAAAAAAAAAAAAAAAAAAAAAAAAAAAAAAAAAAAAAAAAAAAAAAAAAAAAAAAAAAAAAAAAAAAAAAAAAAAAAAAAAAAAAAAAAAAAAAAAAAAAAAAAAAAAAAAAAAAAAAAAAAAAAAAAAAAAAAAAAAAAAAAAAAAAAAAAAAAAAAAAAAAAAAAAAAAAAAAAAAAAAAAAAAAAAAAAAAAAAAAAAAAAAAAAAAAAAAAAAAAAAAAAAAAAAAAAAAAAAAAAAAAAAAAAAAAAAAAAAAAAAAAAAAAAAAAAAAAAAAAAAAAAAAAAAAAAAAAAAAAAAAAAAAAAAAAAAAAAAAAAAAAAAAAAAAAAAAAAAAAAAAAAAAAAAAAAAAAAAAAAAAAAAAAAAAAAAAAAAAAAAAAAAAAAAAAAAAAAAAAAAAAAAAAAAAAAAAAAAAAAAAAAAAAAAAAAAAAAAAAAAAAAAAAAAAAAAAAAAAAAAAAAAAAAAAAAAAAAAAAAAAAAAAAAAAAAAAAAAAAAAAAAAAAAAAAAAAAAAAAAAAAAAAAAAAAAAAAAAAAAAAAAAAAAAAAAAAAAAAAAAAAAAAAAAAAAAAAAAAAAAAAAAAAAAAAAAAAAAAAAAAAAAAAAAAAAAAAAAAAAAAAAAAAAAAAAAAAAAAAAAAAAAAAAAAAAAAAAAAAAAAAAAAAAAAAAAAAAAAAAAAAAAAAAAAAAAAAAAAAAAAAAAAAAAAAAAAAAAAAAAAAAAAAAAAAAAAAAAAAAAAAAAAAAAAAAAAAAAAAAAAAAAAAAAAAAAAAAAAAAAAAAAAAAAAAAAAAAAAAAAAAAAAAAAAAAAAAAAAAAAAAAAAAAAAAAAAAAAAAAAAAAAAAAAAAAAAAAAAAAAAAAAAAAAAAAAAAAAAAAAAAAAAAAAAAAAAAAAAAAAAAAAAAAAAAAAAAAAAAAAAAAAAAAAAAAAAAAAAAAAAAAAAAAAAAAAAAAAAAAAAAAAAAAAAAAAAAAAAAAAAAAAAAAAAAAAAAAAAAAAAAAAAAAAAAAAAAAAAAAAAAAAAAAAAAAAAAAAAAAAAAAAAAAAAAAAAAAAAAAAAAAAAAAAAAAAAAAAAAAAAAAAAAAAAAAAAAAAAAAAAAAAAAAAAAAAAAAAAAAAAAAAAAAAAAAAAAAAAAAAAAAAAAAAAAAAAAAAAAAAAAAAAAAAAAAAAAAAAAAAAAAAAAAAAAAAAAAAAAAAAAAAAAAAAAAAAAAAAAAAAAAAAAAAAAAAAAAAAAAAAAAAAAAAAAAAAAAAAAAAAAAAAAAAAAAAAAAAAAAAAAAAAAAAAAAAAAAAAAAAAAAAAAAAAAAAAAAAAAAAAAAAAAAAAAAAAAAAAAAAAAAAAAAAAAAAAAAAAAAAAAAAAAAAAAAAAAAAAAAAAAAAAAAAAAAAAAAAAAAAAAAAAAAAAAAAAAAAAAAAAAAAAAAAAAAAAAAAAAAAAAAAAAAAAAAAAAAAAAAAAAAAAAAAAAAAAAAAAAAAAAAAAAAAAAAAAAAAAAAAAAAAAAAAAAAAAAAAAAAAAAAAAAAAAAAAAAAAAAAAAAAAAAAAAAAAAAAAAAAAAAAAAAAAAAAAAAAAAAAAAAAAAAAAAAAAAAAAAAAAAAAAAAAAAAAAAAAAAAAAAAAAAAAAAAAAAAAAAAAAAAAAAAAAAAAAAAAAAAAAAAAAAAAAAAAAAAAAAAAAAAAAAAAAAAAAAAAAAAAAAAAAAAAAAAAAAAAAAAAAAAAAAAAAAAAAAAAAAAAAAAAAAAAAAAAAAAAAAAAAAAAAAAAAAAAAAAAAAAAAAAAAAAAAAAAAAAAAAAAAAAAAAAAAAAAAAAAAAAAAAAAAAAAAAAAAAAAAAAAAAAAAAAAAAAAAAAAAAAAAAAAAAAAAAAAAAAAAAAAAAAAAAAAAAAAAAAAAAAAAAAAAAAAAAAAAAAAAAAAAAAAAAAAAAAAAAAAAAAAAAAAAAAAAAAAAAAAAAAAAAAAAAAAAAAAAAAAAAAAAAAAAAAAAAAAAAAAAAAAAAAAAAAAAAAAAAAAAAAAAAAAAAAAAAAAAAAAAAAAAAAAAAAAAAAAAAAAAAAAAAAAAAAAAAAAAAAAAAAAAAAAAAAAAAAAAAAAAAAAAAAAAAAAAAAAAAAAAAAAAAAAAAAAAAAAAAAAAAAAAAAAAAAAAAAAAAAAAAAAAAAAAAAAAAAAAAAAAAAAAAAAAAAAAAAAAAAAAAAAAAAAAAAAAAAAAAAAAAAAAAAAAAAAAAAAAAAAAAAAAAAAAAAAAAAAAAAAAAAAAAAAAAAAAAAAAAAAAAAAAAAAAAAAAAAAAAAAAAAAAAAAAAAAAAAAAAAAAAAAAAAAAAAAAAAAAAAAAAAAAAAAAAAAAAAAAAAAAAAAAAAAAAAAAAAAAAAAAAAAAAAAAAAAAAAAAAAAAAAAAAAAAAAAAAAAAAAAAAAAAAAAAAAAAAAAAAAAAAAAAAAAAAAAAAAAAAAAAAAAAAAAAAAAAAAAAAAAAAAAAAAAAAAAAAAAAAAAAAAAAAAAAAAAAAAAAAAAAAAAAAAAAAAAAAAAAAAAAAAAAAAAAAAAAAAAAAAAAAAAAAAAAAAAAAAAAAAAAAAAAAAAAAAAAAAAAAAAAAAAAAAAAAAAAAAAAAAAAAAAAAAAAAAAAAAAAAAAAAAAAAAAAAAAAAAAAAAAAAAAAAAAAAAAAAAAAAAAAAAAAAAAAAAAAAAAAAAAAAAAAAAAAAAAAAAAAAAAAAAAAAAAAAAAAAAAAAAAAAAAAAAAAAAAAAAAAAAAAAAAAAAAAAAAAAAAAAAAAAAAAAAAAAAAAAAAAAAAAAAAAAAAAAAAAAAAAAAAAAAAAAAAAAAAAAAAAAAAAAAAAAAAAAAAAAAAAAAAAAAAAAAAAAAAAAAAAAAAAAAAAAAAAAAAAAAAAAAAAAAAAAAAAAAAAAAAAAAAAAAAAAAAAAAAAAAAAAAAAAAAAAAAAAAAAAAAAAAAAAAAAAAAAAAAAAAAAAAAAAAAAAAAAAAAAAAAAAAAAAAAAAAAAAAAAAAAAAAAAAAAAAAAAAAAAAAAAAAAAAAAAAAAAAAAAAAAAAAAAAAAAAAAAAAAAAAAAAAAAAAAAAAAAAAAAAAAAAAAAAAAAAAAAAAAAAAAAAAAAAAAAAAAAAAAAAAAAAAAAAAAAAAAAAAAAAAAAAAAAAAAAAAAAAAAAAAAAAAAAAAAAAAAAAAAAAAAAAAAAAAAAAAAAAAAAAAAAAAAAAAAAAAAAAAAAAAAAAAAAAAAAAAAAAAAAAAAAAAAAAAAAAAAAAAAAAAAAAAAAAAAAAAAAAAAAAAAAAAAAAAAAAAAAAAAAAAAAAAAAAAAAAAAAAAAAAAAAAAAAAAAAAAAAAAAAAAAAAAAAAAAAAAAAAAAAAAAAAAAAAAAAAAAAAAAAAAAAAAAAAAAAAAAAAAAAAAAAAAAAAAAAAAAAAAAAAAAAAAAAAAAAAAAAAAAAAAAAAAAAAAAAAAAAAAAAAAAAAAAAAAAAAAAAAAAAAAAAAAAAAAAAAAAAAAAAAAAAAAAAAAAAAAAAAAAAAAAAAAAAAAAAAAAAAAAAAAAAAAAAAAAAAAAAAAAAAAAAAAAAAAAAAAAAAAAAAAAAAAAAAAAAAAAAAAAAAAAAAAAAAAAAAAAAAAAAAAAAAAAAAAAAAAAAAAAAAAAAAAAAAAAAAAAAAAAAAAAAAAAAAAAAAAAAAAAAAAAAAAAAAAAAAAAAAAAAAAAAAAAAAAAAAAAAAAAAAAAAAAAAAAAAAAAAAAAAAAAAAAAAAAAAAAAAAAAAAAAAAAAAAAAAAAAAAAAAAAAAAAAAAAAAAAAAAAAAAAAAAAAAAAAAAAAAAAAAAAAAAAAAAAAAAAAAAAAAAAAAAAAAAAAAAAAAAAAAAAAAAAAAAAAAAAAAAAAAAAAAAAAAAAAAAAAAAAAAAAAAAAAAAAAAAAAAAAAAAAAAAAAAAAAAAAAAAAAAAAAAAAAAAAAAAAAAAAAAAAAAAAAAAAAAAAAAAAAAAAAAAAAAAAAAAAAAAAAAAAAAAAAAAAAAAAAAAAAAAAAAAAAAAAAAAAAAAAAAAAAAAAAAAAAAAAAAAAAAAAAAAAAAAAAAAAAAAAAAAAAAAAAAAAAAAAAAAAAAAAAAAAAAAAAAAAAAAAAAAAAAAAAAAAAAAAAAAAAAAAAAAAAAAAAAAAAAAAAAAAAAAAAAAAAAAAAAAAAAAAAAAAAAAAAAAAAAAAAAAAAAAAAAAAAAAAAAAAAAAAAAAAAAAAAAAAAAAAAAAAAAAAAAAAAAAAAAAAAAAAAAAAAAAAAAAAAAAAAAAAAAAAAAAAAAAAAAAAAAAAAAAAAAAAAAAAAAAAAAAAAAAAAAAAAAAAAAAAAAAAAAAAAAAAAAAAAAAAAAAAAAAAAAAAAAAAAAAAAAAAAAAAAAAAAAAAAAAAAAAAAAAAAAAAAAAAAAAAAAAAAAAAAAAAAAAAAAAAAAAAAAAAAAAAAAAAAAAAAAAAAAAAAAAAAAAAAAAAAAAAAAAAAAAAAAAAAAAAAAAAAAAAAAAAAAAAAAAAAAAAAAAAAAAAAAAAAAAAAAAAAAAAAAAAAAAAAAAAAAAAAAAAAAAAAAAAAAAAAAAAAAAAAAAAAAAAAAAAAAAAAAAAAAAAAAAAAAAAAAAAAAAAAAAAAAAAAAAAAAAAAAAAAAAAAAAAAAAAAAAAAAAAAAAAAAAAAAAAAAAAAAAAAAAAAAAAAAAAAAAAAAAAAAAAAAAAAAAAAAAAAAAAAAAAAAAAAAAAAAAAAAAAAAAAAAAAAAAAAAAAAAAAAAAAAAAAAAAAAAAAAAAAAAAAAAAAAAAAAAAAAAAAAAAAAAAAAAAAAAAAAAAAAAAAAAAAAAAAAAAAAAAAAAAAAAAAAAAAAAAAAAAAAAAAAAAAAAAAAAAAAAAAAAAAAAAAAAAAAAAAAAAAAAAAAAAAAAAAAAAAAAAAAAAAAAAAAAAAAAAAAAAAAAAAAAAAAAAAAAAAAAAAAAAAAAAAAAAAAAAAAAAAAAAAAAAAAAAAAAAAAAAAAAAAAAAAAAAAAAAAAAAAAAAAAAAAAAAAAAAAAAAAAAAAAAAAAAAAAAAAAAAAAAAAAAAAAAAAAAAAAAAAAAAAAAAAAAAAAAAAAAAAAAAAAAAAAAAAAAAAAAAAAAAAAAAAAAAAAAAAAAAAAAAAAAAAAAAAAAAAAAAAAAAAAAAAAAAAAAAAAAAAAAAAAAAAAAAAAAAAAAAAAAAAAAAAAAAAAAAAAAAAAAAAAAAAAAAAAAAAAAAAAAAAAAAAAAAAAAAAAAAAAAAAAAAAAAAAAAAAAAAAAAAAAAAAAAAAAAAAAAAAAAAAAAAAAAAAAAAAAAAAAAAAAAAAAAAAAAAAAAAAAAAAAAAAAAAAAAAAAAAAAAAAAAAAAAAAAAAAAAAAAAAAAAAAAAAAAAAAAAAAAAAAAAAAAAAAAAAAAAAAAAAAAAAAAAAAAAAAAAAAAAAAAAAAAAAAAAAAAAAAAAAAAAAAAAAAAAAAAAAAAAAAAAAAAAAAAAAAAAAAAAAAAAAAAAAAAAAAAAAAAAAAAAAAAAAAAAAAAAAAAAAAAAAAAAAAAAAAAAAAAAAAAAAAAAAAAAAAAAAAAAAAAAAAAAAAAAAAAAAAAAAAAAAAAAAAAAAAAAAAAAAAAAAAAAAAAAAAAAAAAAAAAAAAAAAAAAAAAAAAAAAAAAAAAAAAAAAAAAAAAAAAAAAAAAAAAAAAAAAAAAAAAAAAAAAAAAAAAAAAAAAAAAAAAAAAAAAAAAAAAAAAAAAAAAAAAAAAAAAAAAAAAAAAAAAAAAAAAAAAAAAAAAAAAAAAAAAAAAAAAAAAAAAAAAAAAAAAAAAAAAAAAAAAAAAAAAAAAAAAAAAAAAAAAAAAAAAAAAAAAAAAAAAAAAAAAAAAAAAAAAAAAAAAAAAAAAAAAAAAAAAAAAAAAAAAAAAAAAAAAAAAAAAAAAAAAAAAAAAAAAAAAAAAAAAAAAAAAAAAAAAAAAAAAAAAAAAAAAAAAAAAAAAAAAAAAAAAAAAAAAAAAAAAAAAAAAAAAAAAAAAAAAAAAAAAAAAAAAAAAAAAAAAAAAAAAAAAAAAAAAAAAAAAAAAAAAAAAAAAAAAAAAAAAAAAAAAAAAAAAAAAAAAAAAAAAAAAAAAAAAAAAAAAAAAAAAAAAAAAAAAAAAAAAAAAAAAAAAAAAAAAAAAAAAAAAAAAAAAAAAAAAAAAAAAAAAAAAAAAAAAAAAAAAAAAAAAAAAAAAAAAAAAAAAAAAAAAAAAAAAAAAAAAAAAAAAAAAAAAAAAAAAAAAAAAAAAAAAAAAAAAAAAAAAAAAAAAAAAAAAAAAAAAAAAAAAAAAAAAAAAAAAAAAAAAAAAAAAAAAAAAAAAAAAAAAAAAAAAAAAAAAAAAAAAAAAAAAAAAAAAAAAAAAAAAAAAAAAAAAAAAAAAAAAAAAAAAAAAAAAAAAAAAAAAAAAAAAAAAAAAAAAAAAAAAAAAAAAAAAAAAAAAAAAAAAAAAAAAAAAAAAAAAAAAAAAAAAAAAAAAAAAAAAAAAAAAAAAAAAAAAAAAAAAAAAAAAAAAAAAAAAAAAAAAAAAAAAAAAAAAAAAAAAAAAAAAAAAAAAAAAAAAAAAAAAAAAAAAAAAAAAAAAAAAAAAAAAAAAAAAAAAAAAAAAAAAAAAAAAAAAAAAAAAAAAAAAAAAAAAAAAAAAAAAAAAAAAAAAAAAAAAAAAAAAAAAAAAAAAAAAAAAAAAAAAAAAAAAAAAAAAAAAAAAAAAAAAAAAAAAAAAAAAAAAAAAAAAAAAAAAAAAAAAAAAAAAAAAAAAAAAAAAAAAAAAAAAAAAAAAAAAAAAAAAAAAAAAAAAAAAAAAAAAAAAAAAAAAAAAAAAAAAAAAAAAAAAAAAAAAAAAAAAAAAAAAAAAAAAAAAAAAAAAAAAAAAAAAAAAAAAAAAAAAAAAAAAAAAAAAAAAAAAAAAAAAAAAAAAAAAAAAAAAAAAAAAAAAAAAAAAAAAAAAAAAAAAAAAAAAAAAAAAAAAAAAAAAAAAAAAAAAAAAAAAAAAAAAAAAAAAAAAAAAAAAAAAAAAAAAAAAAAAAAAAAAAAAAAAAAAAAAAAAAAAAAAAAAAAAAAAAAAAAAAAAAAAAAAAAAAAAAAAAAAAAAAAAAAAAAAAAAAAAAAAAAAAAAAAAAAAAAAAAAAAAAAAAAAAAAAAAAAAAAAAAAAAAAAAAAAAAAAAAAAAAAAAAAAAAAAAAAAAAAAAAAAAAAAAAAAAAAAAAAAAAAAAAAAAAAAAAAAAAAAAAAAAAAAAAAAAAAAAAAAAAAAAAAAAAAAAAAAAAAAAAAAAAAAAAAAAAAAAAAAAAAAAAAAAAAAAAAAAAAAAAAAAAAAAAAAAAAAAAAAAAAAAAAAAAAAAAAAAAAAAAAAAAAAAAAAAAAAAAAAAAAAAAAAAAAAAAAAAAAAAAAAAAAAAAAAAAAAAAAAAAAAAAAAAAAAAAAAAAAAAAAAAAAAAAAAAAAAAAAAAAAAAAAAAAAAAAAAAAAAAAAAAAAAAAAAAAAAAAAAAAAAAAAAAAAAAAAAAAAAAAAAAAAAAAAAAAAAAAAAAAAAAAAAAAAAAAAAAAAAAAAAAAAAAAAAAAAAAAAAAAAAAAAAAAAAAAAAAAAAAAAAAAAAAAAAAAAAAAAAAAAAAAAAAAAAAAAAAAAAAAAAAAAAAAAAAAAAAAAAAAAAAAAAAAAAAAAAAAAAAAAAAAAAAAAAAAAAAAAAAAAAAAAAAAAAAAAAAAAAAAAAAAAAAAAAAAAAAAAAAAAAAAAAAAAAAAAAAAAAAAAAAAAAAAAAAAAAAAAAAAAAAAAAAAAAAAAAAAAAAAAAAAAAAAAAAAAAAAAAAAAAAAAAAAAAAAAAAAAAAAAAAAAAAAAAAAAAAAAAAAAAAAAAAAAAAAAAAAAAAAAAAAAAAAAAAAAAAAAAAAAAAAAAAAAAAAAAAAAAAAAAAAAAAAAAAAAAAAAAAAAAAAAAAAAAAAAAAAAAAAAAAAAAAAAAAAAAAAAAAAAAAAAAAAAAAAAAAAAAAAAAAAAAAAAAAAAAAAAAAAAAAAAAAAAAAAAAAAAAAAAAAAAAAAAAAAAAAAAAAAAAAAAAAAAAAAAAAAAAAAAAAAAAAAAAAAAAAAAAAAAAAAAAAAAAAAAAAAAAAAAAAAAAAAAAAAAAAAAAAAAAAAAAAAAAAAAAAAAAAAAAAAAAAAAAAAAAAAAAAAAAAAAAAAAAAAAAAAAAAAAAAAAAAAAAAAAAAAAAAAAAAAAAAAAAAAAAAAAAAAAAAAAAAAAAAAAAAAAAAAAAAAAAAAAAAAAAAAAAAAAAAAAAAAAAAAAAAAAAAAAAAAAAAAAAAAAAAAAAAAAAAAAAAAAAAAAAAAAAAAAAAAAAAAAAAAAAAAAAAAAAAAAAAAAAAAAAAAAAAAAAAAAAAAAAAAAAAAAAAAAAAAAAAAAAAAAAAAAAAAAAAAAAAAAAAAAAAAAAAAAAAAAAAAAAAAAAAAAAAAAAAAAAAAAAAAAAAAAAAAAAAAAAAAAAAAAAAAAAAAAAAAAAAAAAAAAAAAAAAAAAAAAAAAAAAAAAAAAAAAAAAAAAAAAAAAAAAAAAAAAAAAAAAAAAAAAAAAAAAAAAAAAAAAAAAAAAAAAAAAAAAAAAAAAAAAAAAAAAAAAAAAAAAAAAAAAAAAAAAAAAAAAAAAAAAAAAAAAAAAAAAAAAAAAAAAAAAAAAAAAAAAAAAAAAAAAAAAAAAAAAAAAAAAAAAAAAAAAAAAAAAAAAAAAAAAAAAAAAAAAAAAAAAAAAAAAAAAAAAAAAAAAAAAAAAAAAAAAAAAAAAAAAAAAAAAAAAAAAAAAAAAAAAAAAAAAAAAAAAAAAAAAAAAAAAAAAAAAAAAAAAAAAAAAAAAAAAAAAAAAAAAAAAAAAAAAAAAAAAAAAAAAAAAAAAAAAAAAAAAAAAAAAAAAAAAAAAAAAAAAAAAAAAAAAAAAAAAAAAAAAAAAAAAAAAAAAAAAAAAAAAAAAAAAAAAAAAAAAAAAAAAAAAAAAAAAAAAAAAAAAAAAAAAAAAAAAAAAAAAAAAAAAAAAAAAAAAAAAAAAAAAAAAAAAAAAAAAAAAAAAAAAAAAAAAAAAAAAAAAAAAAAAAAAAAAAAAAAAAAAAAAAAAAAAAAAAAAAAAAAAAAAAAAAAAAAAAAAAAAAAAAAAAAAAAAAAAAAAAAAAAAAAAAAAAAAAAAAAAAAAAAAAAAAAAAAAAAAAAAAAAAAAAAAAAAAAAAAAAAAAAAAAAAAAAAAAAAAAAAAAAAAAAAAAAAAAAAAAAAAAAAAAAAAAAAAAAAAAAAAAAAAAAAAAAAAAAAAAAAAAAAAAAAAAAAAAAAAAAAAAAAAAAAAAAAAAAAAAAAAAAAAAAAAAAAAAAAAAAAAAAAAAAAAAAAAAAAAAAAAAAAAAAAAAAAAAAAAAAAAAAAAAAAAAAAAAAAAAAAAAAAAAAAAAAAAAAAAAAAAAAAAAAAAAAAAAAAAAAAAAAAAAAAAAAAAAAAAAAAAAAAAAAAAAAAAAAAAAAAAAAAAAAAAAAAAAAAAAAAAAAAAAAAAAAAAAAAAAAAAAAAAAAAAAAAAAAAAAAAAAAAAAAAAAAAAAAAAAAAAAAAAAAAAAAAAAAAAAAAAAAAAAAAAAAAAAAAAAAAAAAAAAAAAAAAAAAAAAAAAAAAAAAAAAAAAAAAAAAAAAAAAAAAAAAAAAAAAAAAAAAAAAAAAAAAAAAAAAAAAAAAAAAAAAAAAAAAAAAAAAAAAAAAAAAAAAAAAAAAAAAAAAAAAAAAAAAAAAAAAAAAAAAAAAAAAAAAAAAAAAAAAAAAAAAAAAAAAAAAAAAAAAAAAAAAAAAAAAAAAAAAAAAAAAAAAAAAAAAAAAAAAAAAAAAAAAAAAAAAAAAAAAAAAAAAAAAAAAAAAAAAAAAAAAAAAAAAAAAAAAAAAAAAAAAAAAAAAAAAAAAAAAAAAAAAAAAAAAAAAAAAAAAAAAAAAAAAAAAAAAAAAAAAAAAAAAAAAAAAAAAAAAAAAAAAAAAAAAAAAAAAAAAAAAAAAAAAAAAAAAAAAAAAAAAAAAAAAAAAAAAAAAAAAAAAAAAAAAAAAAAAAAAAAAAAAAAAAAAAAAAAAAAAAAAAAAAAAAAAAAAAAAAAAAAAAAAAAAAAAAAAAAAAAAAAAAAAAAAAAAAAAAAAAAAAAAAAAAAAAAAAAAAAAAAAAAAAAAAAAAAAAAAAAAAAAAAAAAAAAAAAAAAAAAAAAAAAAAAAAAAAAAAAAAAAAAAAAAAAAAAAAAAAAAAAAAAAAAAAAAAAAAAAAAAAAAAAAAAAAAAAAAAAAAAAAAAAAAAAAAAAAAAAAAAAAAAAAAAAAAAAAAAAAAAAAAAAAAAAAAAAAAAAAAAAAAAAAAAAAAAAAAAAAAAAAAAAAAAAAAAAAAAAAAAAAAAAAAAAAAAAAAAAAAAAAAAAAAAAAAAAAAAAAAAAAAAAAAAAAAAAAAAAAAAAAAAAAAAAAAAAAAAAAAAAAAAAAAAAAAAAAAAAAAAAAAAAAAAAAAAAAAAAAAAAAAAAAAAAAAAAAAAAAAAAAAAAAAAAAAAAAAAAAAAAAAAAAAAAAAAAAAAAAAAAAAAAAAAAAAAAAAAAAAAAAAAAAAAAAAAAAAAAAAAAAAAAAAAAAAAAAAAAAAAAAAAAAAAAAAAAAAAAAAAAAAAAAAAAAAAAAAAAAAAAAAAAAAAAAAAAAAAAAAAAAAAAAAAAAAAAAAAAAAAAAAAAAAAAAAAAAAAAAAAAAAAAAAAAAAAAAAAAAAAAAAAAAAAAAAAAAAAAAAAAAAAAAAAAAAAAAAAAAAAAAAAAAAAAAAAAAAAAAAAAAAAAAAAAAAAAAAAAAAAAAAAAAAAAAAAAAAAAAAAAAAAAAAAAAAAAAAAAAAAAAAAAAAAAAAAAAAAAAAAAAAAAAAAAAAAAAAAAAAAAAAAAAAAAAAAAAAAAAAAAAAAAAAAAAAAAAAAAAAAAAAAAAAAAAAAAAAAAAAAAAAAAAAAAAAAAAAAAAAAAAAAAAAAAAAAAAAAAAAAAAAAAAAAAAAAAAAAAAAAAAAAAAAAAAAAAAAAAAAAAAAAAAAAAAAAAAAAAAAAAAAAAAAAAAAAAAAAAAAAAAAAAAAAAAAAAAAAAAAAAAAAAAAAAAAAAAAAAAAAAAAAAAAAAAAAAAAAAAAAAAAAAAAAAAAAAAAAAAAAAAAAAAAAAAAAAAAAAAAAAAAAAAAAAAAAAAAAAAAAAAAAAAAAAAAAAAAAAAAAAAAAAAAAAAAAAAAAAAAAAAAAAAAAAAAAAAAAAAAAAAAAAAAAAAAAAAAAAAAAAAAAAAAAAAAAAAAAAAAAAAAAAAAAAAAAAAAAAAAAAAAAAAAAAAAAAAAAAAAAAAAAAAAAAAAAAAAAAAAAAAAAAAAAAAAAAAAAAAAAAAAAAAAAAAAAAAAAAAAAAAAAAAAAAAAAAAAAAAAAAAAAAAAAAAAAAAAAAAAAAAAAAAAAAAAAAAAAAAAAAAAAAAAAAAAAAAAAAAAAAAAAAAAAAAAAAAAAAAAAAAAAAAAAAAAAAAAAAAAAAAAAAAAAAAAAAAAAAAAAAAAAAAAAAAAAAAAAAAAAAAAAAAAAAAAAAAAAAAAAAAAAAAAAAAAAAAAAAAAAAAAAAAAAAAAAAAAAAAAAAAAAAAAAAAAAAAAAAAAAAAAAAAAAAAAAAAAAAAAAAAAAAAAAAAAAAAAAAAAAAAAAAAAAAAAAAAAAAAAAAAAAAAAAAAAAAAAAAAAAAAAAAAAAAAAAAAAAAAAAAAAAAAAAAAAAAAAAAAAAAAAAAAAAAAAAAAAAAAAAAAAAAAAAAAAAAAAAAAAAAAAAAAAAAAAAAAAAAAAAAAAAAAAAAAAAAAAAAAAAAAAAAAAAAAAAAAAAAAAAAAAAAAAAAAAAAAAAAAAAAAAAAAAAAAAAAAAAAAAAAAAAAAAAAAAAAAAAAAAAAAAAAAAAAAAAAAAAAAAAAAAAAAAAAAAAAAAAAAAAAAAAAAAAAAAAAAAAAAAAAAAAAAAAAAAAAAAAAAAAAAAAAAAAAAAAAAAAAAAAAAAAAAAAAAAAAAAAAAAAAAAAAAAAAAAAAAAAAAAAAAAAAAAAAAAAAAAAAAAAAAAAAAAAAAAAAAAAAAAAAAAAAAAAAAAAAAAAAAAAAAAAAAAAAAAAAAAAAAAAAAAAAAAAAAAAAAAAAAAAAAAAAAAAAAAAAAAAAAAAAAAAAAAAAAAAAAAAAAAAAAAAAAAAAAAAAAAAAAAAAAAAAAAAAAAAAAAAAAAAAAAAAAAAAAAAAAAAAAAAAAAAAAAAAAAAAAAAAAAAAAAAAAAAAAAAAAAAAAAAAAAAAAAAAAAAAAAAAAAAAAAAAAAAAAAAAAAAAAAAAAAAAAAAAAAAAAAAAAAAAAAAAAAAAAAAAAAAAAAAAAAAAAAAAAAAAAAAAAAAAAAAAAAAAAAAAAAAAAAAAAAAAAAAAAAAAAAAAAAAAAAAAAAAAAAAAAAAAAAAAAAAAAAAAAAAAAAAAAAAAAAAAAAAAAAAAAAAAAAAAAAAAAAAAAAAAAAAAAAAAAAAAAAAAAAAAAAAAAAAAAAAAAAAAAAAAAAAAAAAAAAAAAAAAAAAAAAAAAAAAAAAAAAAAAAAAAAAAAAAAAAAAAAAAAAAAAAAAAAAAAAAAAAAAAAAAAAAAAAAAAAAAAAAAAAAAAAAAAAAAAAAAAAAAAAAAAAAAAAAAAAAAAAAAAAAAAAAAAAAAAAAAAAAAAAAAAAAAAAAAAAAAAAAAAAAAAAAAAAAAAAAAAAAAAAAAAAAAAAAAAAAAAAAAAAAAAAAAAAAAAAAAAAAAAAAAAAAAAAAAAAAAAAAAAAAAAAAAAAAAAAAAAAAAAAAAAAAAAAAAAAAAAAAAAAAAAAAAAAAAAAAAAAAAAAAAAAAAAAAAAAAAAAAAAAAAAAAAAAAAAAAAAAAAAAAAAAAAAAAAAAAAAAAAAAAAAAAAAAAAAAAAAAAAAAAAAAAAAAAAAAAAAAAAAAAAAAAAAAAAAAAAAAAAAAAAAAAAAAAAAAAAAAAAAAAAAAAAAAAAAAAAAAAAAAAAAAAAAAAAAAAAAAAAAAAAAAAAAAAAAAAAAAAAAAAAAAAAAAAAAAAAAAAAAAAAAAAAAAAAAAAAAAAAAAAAAAAAAAAAAAAAAAAAAAAAAAAAAAAAAAAAAAAAAAAAAAAAAAAAAAAAAAAAAAAAAAAAAAAAAAAAAAAAAAAAAAAAAAAAAAAAAAAAAAAAAAAAAAAAAAAAAAAAAAAAAAAAAAAAAAAAAAAAAAAAAAAAAAAAAAAAAAAAAAAAAAAAAAAAAAAAAAAAAAAAAAAAAAAAAAAAAAAAAAAAAAAAAAAAAAAAAAAAAAAAAAAAAAAAAAAAAAAAAAAAAAAAAAAAAAAAAAAAAAAAAAAAAAAAAAAAAAAAAAAAAAAAAAAAAAAAAAAAAAAAAAAAAAAAAAAAAAAAAAAAAAAAAAAAAAAAAAAAAAAAAAAAAAAAAAAAAAAAAAAAAAAAAAAAAAAAAAAAAAAAAAAAAAAAAAAAAAAAAAAAAAAAAAAAAAAAAAAAAAAAAAAAAAAAAAAAAAAAAAAAAAAAAAAAAAAAAAAAAAAAAAAAAAAAAAAAAAAAAAAAAAAAAAAAAAAAAAAAAAAAAAAAAAAAAAAAAAAAAAAAAAAAAAAAAAAAAAAAAAAAAAAAAAAAAAAAAAAAAAAAAAAAAAAAAAAAAAAAAAAAAAAAAAAAAAAAAAAAAAAAAAAAAAAAAAAAAAAAAAAAAAAAAAAAAAAAAAAAAAAAAAAAAAAAAAAAAAAAAAAAAAAAAAAAAAAAAAAAAAAAAAAAAAAAAAAAAAAAAAAAAAAAAAAAAAAAAAAAAAAAAAAAAAAAAAAAAAAAAAAAAAAAAAAAAAAAAAAAAAAAAAAAAAAAAAAAAAAAAAAAAAAAAAAAAAAAAAAAAAAAAAAAAAAAAAAAAAAAAAAAAAAAAAAAAAAAAAAAAAAAAAAAAAAAAAAAAAAAAAAAAAAAAAAAAAAAAAAAAAAAAAAAAAAAAAAAAAAAAAAAAAAAAAAAAAAAAAAAAAAAAAAAAAAAAAAAAAAAAAAAAAAAAAAAAAAAAAAAAAAAAAAAAAAAAAAAAAAAAAAAAAAAAAAAAAAAAAAAAAAAAAAAAAAAAAAAAAAAAAAAAAAAAAAAAAAAAAAAAAAAAAAAAAAAAAAAAAAAAAAAAAAAAAAAAAAAAAAAAAAAAAAAAAAAAAAAAAAAAAAAAAAAAAAAAAAAAAAAAAAAAAAAAAAAAAAAAAAAAAAAAAAAAAAAAAAAAAAAAAAAAAAAAAAAAAAAAAAAAAAAAAAAAAAAAAAAAAAAAAAAAAAAAAAAAAAAAAAAAAAAAAAAAAAAAAAAAAAAAAAAAAAAAAAAAAAAAAAAAAAAAAAAAAAAAAAAAAAAAAAAAAAAAAAAAAAAAAAAAAAAAAAAAAAAAAAAAAAAAAAAAAAAAAAAAAAAAAAAAAAAAAAAAAAAAAAAAAAAAAAAAAAAAAAAAAAAAAAAAAAAAAAAAAAAAAAAAAAAAAAAAAAAAAAAAAAAAAAAAAAAAAAAAAAAAAAAAAAAAAAAAAAAAAAAAAAAAAAAAAAAAAAAAAAAAAAAAAAAAAAAAAAAAAAAAAAAAAAAAAAAAAAAAAAAAAAAAAAAAAAAAAAAAAAAAAAAAAAAAAAAAAAAAAAAAAAAAAAAAAAAAAAAAAAAAAAAAAAAAAAAAAAAAAAAAAAAAAAAAAAAAAAAAAAAAAAAAAAAAAAAAAAAAAAAAAAAAAAAAAAAAAAAAAAAAAAAAAAAAAAAAAAAAAAAAAAAAAAAAAAAAAAAAAAAAAAAAAAAAAAAAAAAAAAAAAAAAAAAAAAAAAAAAAAAAAAAAAAAAAAAAAAAAAAAAAAAAAAAAAAAAAAAAAAAAAAAAAAAAAAAAAAAAAAAAAAAAAAAAAAAAAAAAAAAAAAAAAAAAAAAAAAAAAAAAAAAAAAAAAAAAAAAAAAAAAAAAAAAAAAAAAAAAAAAAAAAAAAAAAAAAAAAAAAAAAAAAAAAAAAAAAAAAAAAAAAAAAAAAAAAAAAAAAAAAAAAAAAAAAAAAAAAAAAAAAAAAAAAAAAAAAAAAAAAAAAAAAAAAAAAAAAAAAAAAAAAAAAAAAAAAAAAAAAAAAAAAAAAAAAAAAAAAAAAAAAAAAAAAAAAAAAAAAAAAAAAAAAAAAAAAAAAAAAAAAAAAAAAAAAAAAAAAAAAAAAAAAAAAAAAAAAAAAAAAAAAAAAAAAAAAAAAAAAAAAAAAAAAAAAAAAAAAAAAAAAAAAAAAAAAAAAAAAAAAAAAAAAAAAAAAAAAAAAAAAAAAAAAAAAAAAAAAAAAAAAAAAAAAAAAAAAAAAAAAAAAAAAAAAAAAAAAAAAAAAAAAAAAAAAAAAAAAAAAAAAAAAAAAAAAAAAAAAAAAAAAAAAAAAAAAAAAAAAAAAAAAAAAAAAAAAAAAAAAAAAAAAAAAAAAAAAAAAAAAAAAAAAAAAAAAAAAAAAAAAAAAAAAAAAAAAAAAAAAAAAAAAAAAAAAAAAAAAAAAAAAAAAAAAAAAAAAAAAAAAAAAAAAAAAAAAAAAAAAAAAAAAAAAAAAAAAAAAAAAAAAAAAAAAAAAAAAAAAAAAAAAAAAAAAAAAAAAAAAAAAAAAAAAAAAAAAAAAAAAAAAAAAAAAAAAAAAAAAAAAAAAAAAAAAAAAAAAAAAAAAAAAAAAAAAAAAAAAAAAAAAAAAAAAAAAAAAAAAAAAAAAAAAAAAAAAAAAAAAAAAAAAAAAAAAAAAAAAAAAAAAAAAAAAAAAAAAAAAAAAAAAAAAAAAAAAAAAAAAAAAAAAAAAAAAAAAAAAAAAAAAAAAAAAAAAAAAAAAAAAAAAAAAAAAAAAAAAAAAAAAAAAAAAAAAAAAAAAAAAAAAAAAAAAAAAAAAAAAAAAAAAAAAAAAAAAAAAAAAAAAAAAAAAAAAAAAAAAAAAAAAAAAAAAAAAAAAAAAAAAAAAAAAAAAAAAAAAAAAAAAAAAAAAAAAAAAAAAAAAAAAAAAAAAAAAAAAAAAAAAAAAAAAAAAAAAAAAAAAAAAAAAAAAAAAAAAAAAAAAAAAAAAAAAAAAAAAAAAAAAAAAAAAAAAAAAAAAAAAAAAAAAAAAAAAAAAAAAAAAAAAAAAAAAAAAAAAAAAAAAAAAAAAAAAAAAAAAAAAAAAAAAAAAAAAAAAAAAAAAAAAAAAAAAAAAAAAAAAAAAAAAAAAAAAAAAAAAAAAAAAAAAAAAAAAAAAAAAAAAAAAAAAAAAAAAAAAAAAAAAAAAAAAAAAAAAAAAAAAAAAAAAAAAAAAAAAAAAAAAAAAAAAAAAAAAAAAAAAAAAAAAAAAAAAAAAAAAAAAAAAAAAAAAAAAAAAAAAAAAAAAAAAAAAAAAAAAAAAAAAAAAAAAAAAAAAAAAAAAAAAAAAAAAAAAAAAAAAAAAAAAAAAAAAAAAAAAAAAAAAAAAAAAAAAAAAAAAAAAAAAAAAAAAAAAAAAAAAAAAAAAAAAAAAAAAAAAAAAAAAAAAAAAAAAAAAAAAAAAAAAAAAAAAAAAAAAAAAAAAAAAAAAAAAAAAAAAAAAAAAAAAAAAAAAAAAAAAAAAAAAAAAAAAAAAAAAAAAAAAAAAAAAAAAAAAAAAAAAAAAAAAAAAAAAAAAAAAAAAAAAAAAAAAAAAAAAAAAAAAAAAAAAAAAAAAAAAAAAAAAAAAAAAAAAAAAAAAAAAAAAAAAAAAAAAAAAAAAAAAAAAAAAAAAAAAAAAAAAAAAAAAAAAAAAAAAAAAAAAAAAAAAAAAAAAAAAAAAAAAAAAAAAAAAAAAAAAAAAAAAAAAAAAAAAAAAAAAAAAAAAAAAAAAAAAAAAAAAAAAAAAAAAAAAAAAAAAAAAAAAAAAAAAAAAAAAAAAAAAAAAAAAAAAAAAAAAAAAAAAAAAAAAAAAAAAAAAAAAAAAAAAAAAAAAAAAAAAAAAAAAAAAAAAAAAAAAAAAAAAAAAAAAAAAAAAAAAAAAAAAAAAAAAAAAAAAAAAAAAAAAAAAAAAAAAAAAAAAAAAAAAAAAAAAAAAAAAAAAAAAAAAAAAAAAAAAAAAAAAAAAAAAAAAAAAAAAAAAAAAAAAAAAAAAAAAAAAAAAAAAAAAAAAAAAAAAAAAAAAAAAAAAAAAAAAAAAAAAAAAAAAAAAAAAAAAAAAAAAAAAAAAAAAAAAAAAAAAAAAAAAAAAAAAAAAAAAAAAAAAAAAAAAAAAAAAAAAAAAAAAAAAAAAAAAAAAAAAAAAAAAAAAAAAAAAAAAAAAAAAAAAAAAAAAAAAAAAAAAAAAAAAAAAAAAAAAAAAAAAAAAAAAAAAAAAAAAAAAAAAAAAAAAAAAAAAAAAAAAAAAAAAAAAAAAAAAAAAAAAAAAAAAAAAAAAAAAAAAAAAAAAAAAAAAAAAAAAAAAAAAAAAAAAAAAAAAAAAAAAAAAAAAAAAAAAAAAAAAAAAAAAAAAAAAAAAAAAAAAAAAAAAAAAAAAAAAAAAAAAAAAAAAAAAAAAAAAAAAAAAAAAAAAAAAAAAAAAAAAAAAAAAAAAAAAAAAAAAAAAAAAAAAAAAAAAAAAAAAAAAAAAAAAAAAAAAAAAAAAAAAAAAAAAAAAAAAAAAAAAAAAAAAAAAAAAAAAAAAAAAAAAAAAAAAAAAAAAAAAAAAAAAAAAAAAAAAAAAAAAAAAAAAAAAAAAAAAAAAAAAAAAAAAAAAAAAAAAAAAAAAAAAAAAAAAAAAAAAAAAAAAAAAAAAAAAAAAAAAAAAAAAAAAAAAAAAAAAAAAAAAAAAAAAAAAAAAAAAAAAAAAAAAAAAAAAAAAAAAAAAAAAAAAAAAAAAAAAAAAAAAAAAAAAAAAAAAAAAAAAAAAAAAAAAAAAAAAAAAAAAAAAAAAAAAAAAAAAAAAAAAAAAAAAAAAAAAAAAAAAAAAAAAAAAAAAAAAAAAAAAAAAAAAAAAAAAAAAAAAAAAAAAAAAAAAAAAAAAAAAAAAAAAAAAAAAAAAAAAAAAAAAAAAAAAAAAAAAAAAAAAAAAAAAAAAAAAAAAAAAAAAAAAAAAAAAAAAAAAAAAAAAAAAAAAAAAAAAAAAAAAAAAAAAAAAAAAAAAAAAAAAAAAAAAAAAAAAAAAAAAAAAAAAAAAAAAAAAAAAAAAAAAAAAAAAAAAAAAAAAAAAAAAAAAAAAAAAAAAAAAAAAAAAAAAAAAAAAAAAAAAAAAAAAAAAAAAAAAAAAAAAAAAAAAAAAAAAAAAAAAAAAAAAAAAAAAAAAAAAAAAAAAAAAAAAAAAAAAAAAAAAAAAAAAAAAAAAAAAAAAAAAAAAAAAAAAAAAAAAAAAAAAAAAAAAAAAAAAAAAAAAAAAAAAAAAAAAAAAAAAAAAAAAAAAAAAAAAAAAAAAAAAAAAAAAAAAAAAAAAAAAAAAAAAAAAAAAAAAAAAAAAAAAAAAAAAAAAAAAAAAAAAAAAAAAAAAAAAAAAAAAAAAAAAAAAAAAAAAAAAAAAAAAAAAAAAAAAAAAAAAAAAAAAAAAAAAAAAAAAAAAAAAAAAAAAAAAAAAAAAAAAAAAAAAAAAAAAAAAAAAAAAAAAAAAAAAAAAAAAAAAAAAAAAAAAAAAAAAAAAAAAAAAAAAAAAAAAAAAAAAAAAAAAAAAAAAAAAAAAAAAAAAAAAAAAAAAAAAAAAAAAAAAAAAAAAAAAAAAAAAAAAAAAAAAAAAAAAAAAAAAAAAAAAAAAAAAAAAAAAAAAAAAAAAAAAAAAAAAAAAAAAAAAAAAAAAAAAAAAAAAAAAAAAAAAAAAAAAAAAAAAAAAAAAAAAAAAAAAAAAAAAAAAAAAAAAAAAAAAAAAAAAAAAAAAAAAAAAAAAAAAAAAAAAAAAAAAAAAAAAAAAAAAAAAAAAAAAAAAAAAAAAAAAAAAAAAAAAAAAAAAAAAAAAAAAAAAAAAAAAAAAAAAAAAAAAAAAAAAAAAAAAAAAAAAAAAAAAAAAAAAAAAAAAAAAAAAAAAAAAAAAAAAAAAAAAAAAAAAAAAAAAAAAAAAAAAAAAAAAAAAAAAAAAAAAAAAAAAAAAAAAAAAAAAAAAAAAAAAAAAAAAAAAAAAAAAAAAAAAAAAAAAAAAAAAAAAAAAAAAAAAAAAAAAAAAAAAAAAAAAAAAAAAAAAAAAAAAAAAAAAAAAAAAAAAAAAAAAAAAAAAAAAAAAAAAAAAAAAAAAAAAAAAAAAAAAAAAAAAAAAAAAAAAAAAAAAAAAAAAAAAAAAAAAAAAAAAAAAAAAAAAAAAAAAAAAAAAAAAAAAAAAAAAAAAAAAAAAAAAAAAAAAAAAAAAAAAAAAAAAAAAAAAAAAAAAAAAAAAAAAAAAAAAAAAAAAAAAAAAAAAAAAAAAAAAAAAAAAAAAAAAAAAAAAAAAAAAAAAAAAAAAAAAAAAAAAAAAAAAAAAAAAAAAAAAAAAAAAAAAAAAAAAAAAAAAAAAAAAAAAAAAAAAAAAAAAAAAAAAAAAAAAAAAAAAAAAAAAAAAAAAAAAAAAAAAAAAAAAAAAAAAAAAAAAAAAAAAAAAAAAAAAAAAAAAAAAAAAAAAAAAAAAAAAAAAAAAAAAAAAAAAAAAAAAAAAAAAAAAAAAAAAAAAAAAAAAAAAAAAAAAAAAAAAAAAAAAAAAAAAAAAAAAAAAAAAAAAAAAAAAAAAAAAAAAAAAAAAAAAAAAAAAAAAAAAAAAAAAAAAAAAAAAAAAAAAAAAAAAAAAAAAAAAAAAAAAAAAAAAAAAAAAAAAAAAAAAAAAAAAAAAAAAAAAAAAAAAAAAAAAAAAAAAAAAAAAAAAAAAAAAAAAAAAAAAAAAAAAAAAAAAAAAAAAAAAAAAAAAAAAAAAAAAAAAAAAAAAAAAAAAAAAAAAAAAAAAAAAAAAAAAAAAAAAAAAAAAAAAAAAAAAAAAAAAAAAAAAAAAAAAAAAAAAAAAAAAAAAAAAAAAAAAAAAAAAAAAAAAAAAAAAAAAAAAAAAAAAAAAAAAAAAAAAAAAAAAAAAAAAAAAAAAAAAAAAAAAAAAAAAAAAAAAAAAAAAAAAAAAAAAAAAAAAAAAAAAAAAAAAAAAAAAAAAAAAAAAAAAAAAAAAAAAAAAAAAAAAAAAAAAAAAAAAAAAAAAAAAAAAAAAAAAAAAAAAAAAAAAAAAAAAAAAAAAAAAAAAAAAAAAAAAAAAAAAAAAAAAAAAAAAAAAAAAAAAAAAAAAAAAAAAAAAAAAAAAAAAAAAAAAAAAAAAAAAAAAAAAAAAAAAAAAAAAAAAAAAAAAAAAAAAAAAAAAAAAAAAAAAAAAAAAAAAAAAAAAAAAAAAAAAAAAAAAAAAAAAAAAAAAAAAAAAAAAAAAAAAAAAAAAAAAAAAAAAAAAAAAAAAAAAAAAAAAAAAAAAAAAAAAAAAAAAAAAAAAAAAAAAAAAAAAAAAAAAAAAAAAAAAAAAAAAAAAAAAAAAAAAAAAAAAAAAAAAAAAAAAAAAAAAAAAAAAAAAAAAAAAAAAAAAAAAAAAAAAAAAAAAAAAAAAAAAAAAAAAAAAAAAAAAAAAAAAAAAAAAAAAAAAAAAAAAAAAAAAAAAAAAAAAAAAAAAAAAAAAAAAAAAAAAAAAAAAAAAAAAAAAAAAAAAAAAAAAAAAAAAAAAAAAAAAAAAAAAAAAAAAAAAAAAAAAAAAAAAAAAAAAAAAAAAAAAAAAAAAAAAAAAAAAAAAAAAAAAAAAAAAAAAAAAAAAAAAAAAAAAAAAAAAAAAAAAAAAAAAAAAAAAAAAAAAAAAAAAAAAAAAAAAAAAAAAAAAAAAAAAAAAAAAAAAAAAAAAAAAAAAAAAAAAAAAAAAAAAAAAAAAAAAAAAAAAAAAAAAAAAAAAAAAAAAAAAAAAAAAAAAAAAAAAAAAAAAAAAAAAAAAAAAAAAAAAAAAAAAAAAAAAAAAAAAAAAAAAAAAAAAAAAAAAAAAAAAAAAAAAAAAAAAAAAAAAAAAAAAAAAAAAAAAAAAAAAAAAAAAAAAAAAAAAAAAAAAAAAAAAAAAAAAAAAAAAAAAAAAAAAAAAAAAAAAAAAAAAAAAAAAAAAAAAAAAAAAAAAAAAAAAAAAAAAAAAAAAAAAAAAAAAAAAAAAAAAAAAAAAAAAAAAAAAAAAAAAAAAAAAAAAAAAAAAAAAAAAAAAAAAAAAAAAAAAAAAAAAAAAAAAAAAAAAAAAAAAAAAAAAAAAAAAAAAAAAAAAAAAAAAAAAAAAAAAAAAAAAAAAAAAAAAAAAAAAAAAAAAAAAAAAAAAAAAAAAAAAAAAAAAAAAAAAAAAAAAAAAAAAAAAAAAAAAAAAAAAAAAAAAAAAAAAAAAAAAAAAAAAAAAAAAAAAAAAAAAAAAAAAAAAAAAAAAAAAAAAAAAAAAAAAAAAAAAAAAAAAAAAAAAAAAAAAAAAAAAAAAAAAAAAAAAAAAAAAAAAAAAAAAAAAAAAAAAAAAAAAAAAAAAAAAAAAAAAAAAAAAAAAAAAAAAAAAAAAAAAAAAAAAAAAAAAAAAAAAAAAAAAAAAAAAAAAAAAAAAAAAAAAAAAAAAAAAAAAAAAAAAAAAAAAAAAAAAAAAAAAAAAAAAAAAAAAAAAAAAAAAAAAAAAAAAAAAAAAAAAAAAAAAAAAAAAAAAAAAAAAAAAAAAAAAAAAAAAAAAAAAAAAAAAAAAAAAAAAAAAAAAAAAAAAAAAAAAAAAAAAAAAAAAAAAAAAAAAAAAAAAAAAAAAAAAAAAAAAAAAAAAAAAAAAAAAAAAAAAAAAAAAAAAAAAAAAAAAAAAAAAAAAAAAAAAAAAAAAAAAAAAAAAAAAAAAAAAAAAAAAAAAAAAAAAAAAAAAAAAAAAAAAAAAAAAAAAAAAAAAAAAAAAAAAAAAAAAAAAAAAAAAAAAAAAAAAAAAAAAAAAAAAAAAAAAAAAAAAAAAAAAAAAAAAAAAAAAAAAAAAAAAAAAAAAAAAAAAAAAAAAAAAAAAAAAAAAAAAAAAAAAAAAAAAAAAAAAAAAAAAAAAAAAAAAAAAAAAAAAAAAAAAAAAAAAAAAAAAAAAAAAAAAAAAAAAAAAAAAAAAAAAAAAAAAAAAAAAAAAAAAAAAAAAAAAAAAAAAAAAAAAAAAAAAAAAAAAAAAAAAAAAAAAAAAAAAAAAAAAAAAAAAAAAAAAAAAAAAAAAAAAAAAAAAAAAAAAAAAAAAAAAAAAAAAAAAAAAAAAAAAAAAAAAAAAAAAAAAAAAAAAAAAAAAAAAAAAAAAAAAAAAAAAAAAAAAAAAAAAAAAAAAAAAAAAAAAAAAAAAAAAAAAAAAAAAAAAAAAAAAAAAAAAAAAAAAAAAAAAAAAAAAAAAAAAAAAAAAAAAAAAAAAAAAAAAAAAAAAAAAAAAAAAAAAAAAAAAAAAAAAAAAAAAAAAAAAAAAAAAAAAAAAAAAAAAAAAAAAAAAAAAAAAAAAAAAAAAAAAAAAAAAAAAAAAAAAAAAAAAAAAAAAAAAAAAAAAAAAAAAAAAAAAAAAAAAAAAAAAAAAAAAAAAAAAAAAAAAAAAAAAAAAAAAAAAAAAAAAAAAAAAAAAAAAAAAAAAAAAAAAAAAAAAAAAAAAAAAAAAAAAAAAAAAAAAAAAAAAAAAAAAAAAAAAAAAAAAAAAAAAAAAAAAAAAAAAAAAAAAAAAAAAAAAAAAAAAAAAAAAAAAAAAAAAAAAAAAAAAAAAAAAAAAAAAAAAAAAAAAAAAAAAAAAAAAAAAAAAAAAAAAAAAAAAAAAAAAAAAAAAAAAAAAAAAAAAAAAAAAAAAAAAAAAAAAAAAAAAAAAAAAAAAAAAAAAAAAAAAAAAAAAAAAAAAAAAAAAAAAAAAAAAAAAAAAAAAAAAAAAAAAAAAAAAAAAAAAAAAAAAAAAAAAAAAAAAAAAAAAAAAAAAAAAAAAAAAAAAAAAAAAAAAAAAAAAAAAAAAAAAAAAAAAAAAAAAAAAAAAAAAAAAAAAAAAAAAAAAAAAAAAAAAAAAAAAAAAAAAAAAAAAAAAAAAAAAAAAAAAAAAAAAAAAAAAAAAAAAAAAAAAAAAAAAAAAAAAAAAAAAAAAAAAAAAAAAAAAAAAAAAAAAAAAAAAAAAAAAAAAAAAAAAAAAAAAAAAAAAAAAAAAAAAAAAAAAAAAAAAAAAAAAAAAAAAAAAAAAAAAAAAAAAAAAAAAAAAAAAAAAAAAAAAAAAAAAAAAAAAAAAAAAAAAAAAAAAAAAAAAAAAAAAAAAAAAAAAAAAAAAAAAAAAAAAAAAAAAAAAAAAAAAAAAAAAAAAAAAAAAAAAAAAAAAAAAAAAAAAAAAAAAAAAAAAAAAAAAAAAAAAAAAAAAAAAAAAAAAAAAAAAAAAAAAAAAAAAAAAAAAAAAAAAAAAAAAAAAAAAAAAAAAAAAAAAAAAAAAAAAAAAAAAAAAAAAAAAAAAAAAAAAAAAAAAAAAAAAAAAAAAAAAAAAAAAAAAAAAAAAAAAAAAAAAAAAAAAAAAAAAAAAAAAAAAAAAAAAAAAAAAAAAAAAAAAAAAAAAAAAAAAAAAAAAAAAAAAAAAAAAAAAAAAAAAAAAAAAAAAAAAAAAAAAAAAAAAAAAAAAAAAAAAAAAAAAAAAAAAAAAAAAAAAAAAAAAAAAAAAAAAAAAAAAAAAAAAAAAAAAAAAAAAAAAAAAAAAAAAAAAAAAAAAAAAAAAAAAAAAAAAAAAAAAAAAAAAAAAAAAAAAAAAAAAAAAAAAAAAAAAAAAAAAAAAAAAAAAAAAAAAAAAAAAAAAAAAAAAAAAAAAAAAAAAAAAAAAAAAAAAAAAAAAAAAAAAAAAAAAAAAAAAAAAAAAAAAAAAAAAAAAAAAAAAAAAAAAAAAAAAAAAAAAAAAAAAAAAAAAAAAAAAAAAAAAAAAAAAAAAAAAAAAAAAAAAAAAAAAAAAAAAAAAAAAAAAAAAAAAAAAAAAAAAAAAAAAAAAAAAAAAAAAAAAAAAAAAAAAAAAAAAAAAAAAAAAAAAAAAAAAAAAAAAAAAAAAAAAAAAAAAAAAAAAAAAAAAAAAAAAAAAAAAAAAAAAAAAAAAAAAAAAAAAAAAAAAAAAAAAAAAAAAAAAAAAAAAAAAAAAAAAAAAAAAAAAAAAAAAAAAAAAAAAAAAAAAAAAAAAAAAAAAAAAAAAAAAAAAAAAAAAAAAAAAAAAAAAAAAAAAAAAAAAAAAAAAAAAAAAAAAAAAAAAAAAAAAAAAAAAAAAAAAAAAAAAAAAAAAAAAAAAAAAAAAAAAAAAAAAAAAAAAAAAAAAAAAAAAAAAAAAAAAAAAAAAAAAAAAAAAAAAAAAAAAAAAAAAAAAAAAAAAAAAAAAAAAAAAAAAAAAAAAAAAAAAAAAAAAAAAAAAAAAAAAAAAAAAAAAAAAAAAAAAAAAAAAAAAAAAAAAAAAAAAAAAAAAAAAAAAAAAAAAAAAAAAAAAAAAAAAAAAAAAAAAAAAAAAAAAAAAAAAAAAAAAAAAAAAAAAAAAAAAAAAAAAAAAAAAAAAAAAAAAAAAAAAAAAAAAAAAAAAAAAAAAAAAAAAAAAAAAAAAAAAAAAAAAAAAAAAAAAAAAAAAAAAAAAAAAAAAAAAAAAAAAAAAAAAAAAAAAAAAAAAAAAAAAAAAAAAAAAAAAAAAAAAAAAAAAAAAAAAAAAAAAAAAAAAAAAAAAAAAAAAAAAAAAAAAAAAAAAAAAAAAAAAAAAAAAAAAAAAAAAAAAAAAAAAAAAAAAAAAAAAAAAAAAAAAAAAAAAAAAAAAAAAAAAAAAAAAAAAAAAAAAAAAAAAAAAAAAAAAAAAAAAAAAAAAAAAAAAAAAAAAAAAAAAAAAAAAAAAAAAAAAAAAAAAAAAAAAAAAAAAAAAAAAAAAAAAAAAAAAAAAAAAAAAAAAAAAAAAAAAAAAAAAAAAAAAAAAAAAAAAAAAAAAAAAAAAAAAAAAAAAAAAAAAAAAAAAAAAAAAAAAAAAAAAAAAAAAAAAAAAAAAAAAAAAAAAAAAAAAAAAAAAAAAAAAAAAAAAAAAAAAAAAAAAAAAAAAAAAAAAAAAAAAAAAAAAAAAAAAAAAAAAAAAAAAAAAAAAAAAAAAAAAAAAAAAAAAAAAAAAAAAAAAAAAAAAAAAAAAAAAAAAAAAAAAAAAAAAAAAAAAAAAAAAAAAAAAAAAAAAAAAAAAAAAAAAAAAAAAAAAAAAAAAAAAAAAAAAAAAAAAAAAAAAAAAAAAAAAAAAAAAAAAAAAAAAAAAAAAAAAAAAAAAAAAAAAAAAAAAAAAAAAAAAAAAAAAAAAAAAAAAAAAAAAAAAAAAAAAAAAAAAAAAAAAAAAAAAAAAAAAAAAAAAAAAAAAAAAAAAAAAAAAAAAAAAAAAAAAAAAAAAAAAAAAAAAAAAAAAAAAAAAAAAAAAAAAAAAAAAAAAAAAAAAAAAAAAAAAAAAAAAAAAAAAAAAAAAAAAAAAAAAAAAAAAAAAAAAAAAAAAAAAAAAAAAAAAAAAAAAAAAAAAAAAAAAAAAAAAAAAAAAAAAAAAAAAAAAAAAAAAAAAAAAAAAAAAAAAAAAAAAAAAAAAAAAAAAAAAAAAAAAAAAAAAAAAAAAAAAAAAAAAAAAAAAAAAAAAAAAAAAAAAAAAAAAAAAAAAAAAAAAAAAAAAAAAAAAAAAAAAAAAAAAAAAAAAAAAAAAAAAAAAAAAAAAAAAAAAAAAAAAAAAAAAAAAAAAAAAAAAAAAAAAAAAAAAAAAAAAAAAAAAAAAAAAAAAAAAAAAAAAAAAAAAAAAAAAAAAAAAAAAAAAAAAAAAAAAAAAAAAAAAAAAAAAAAAAAAAAAAAAAAAAAAAAAAAAAAAAAAAAAAAAAAAAAAAAAAAAAAAAAAAAAAAAAAAAAAAAAAAAAAAAAAAAAAAAAAAAAAAAAAAAAAAAAAAAAAAAAAAAAAAAAAAAAAAAAAAAAAAAAAAAAAAAAAAAAAAAAAAAAAAAAAAAAAAAAAAAAAAAAAAAAAAAAAAAAAAAAAAAAAAAAAAAAAAAAAAAAAAAAAAAAAAAAAAAAAAAAAAAAAAAAAAAAAAAAAAAAAAAAAAAAAAAAAAAAAAAAAAAAAAAAAAAAAAAAAAAAAAAAAAAAAAAAAAAAAAAAAAAAAAAAAAAAAAAAAAAAAAAAAAAAAAAAAAAAAAAAAAAAAAAAAAAAAAAAAAAAAAAAAAAAAAAAAAAAAAAAAAAAAAAAAAAAAAAAAAAAAAAAAAAAAAAAAAAAAAAAAAAAAAAAAAAAAAAAAAAAAAAAAAAAAAAAAAAAAAAAAAAAAAAAAAAAAAAAAAAAAAAAAAAAAAAAAAAAAAAAAAAAAAAAAAAAAAAAAAAAAAAAAAAAAAAAAAAAAAAAAAAAAAAAAAAAAAAAAAAAAAAAAAAAAAAAAAAAAAAAAAAAAAAAAAAAAAAAAAAAAAAAAAAAAAAAAAAAAAAAAAAAAAAAAAAAAAAAAAAAAAAAAAAAAAAAAAAAAAAAAAAAAAAAAAAAAAAAAAAAAAAAAAAAAAAAAAAAAAAAAAAAAAAAAAAAAAAAAAAAAAAAAAAAAAAAAAAAAAAAAAAAAAAAAAAAAAAAAAAAAAAAAAAAAAAAAAAAAAAAAAAAAAAAAAAAAAAAAAAAAAAAAAAAAAAAAAAAAAAAAAAAAAAAAAAAAAAAAAAAAAAAAAAAAAAAAAAAAAAAAAAAAAAAAAAAAAAAAAAAAAAAAAAAAAAAAAAAAAAAAAAAAAAAAAAAAAAAAAAAAAAAAAAAAAAAAAAAAAAAAAAAAAAAAAAAAAAAAAAAAAAAAAAAAAAAAAAAAAAAAAAAAAAAAAAAAAAAAAAAAAAAAAAAAAAAAAAAAAAAAAAAAAAAAAAAAAAAAAAAAAAAAAAAAAAAAAAAAAAAAAAAAAAAAAAAAAAAAAAAAAAAAAAAAAAAAAAAAAAAAAAAAAAAAAAAAAAAAAAAAAAAAAAAAAAAAAAAAAAAAAAAAAAAAAAAAAAAAAAAAAAAAAAAAAAAAAAAAAAAAAAAAAAAAAAAAAAAAAAAAAAAAAAAAAAAAAAAAAAAAAAAAAAAAAAAAAAAAAAAAAAAAAAAAAAAAAAAAAAAAAAAAAAAAAAAAAAAAAAAAAAAAAAAAAAAAAAAAAAAAAAAAAAAAAAAAAAAAAAAAAAAAAAAAAAAAAAAAAAAAAAAAAAAAAAAAAAAAAAAAAAAAAAAAAAAAAAAAAAAAAAAAAAAAAAAAAAAAAAAAAAAAAAAAAAAAAAAAAAAAAAAAAAAAAAAAAAAAAAAAAAAAAAAAAAAAAAAAAAAAAAAAAAAAAAAAAAAAAAAAAAAAAAAAAAAAAAAAAAAAAAAAAAAAAAAAAAAAAAAAAAAAAAAAAAAAAAAAAAAAAAAAAAAAAAAAAAAAAAAAAAAAAAAAAAAAAAAAAAAAAAAAAAAAAAAAAAAAAAAAAAAAAAAAAAAAAAAAAAAAAAAAAAAAAAAAAAAAAAAAAAAAAAAAAAAAAAAAAAAAAAAAAAAAAAAAAAAAAAAAAAAAAAAAAAAAAAAAAAAAAAAAAAAAAAAAAAAAAAAAAAAAAAAAAAAAAAAAAAAAAAAAAAAAAAAAAAAAAAAAAAAAAAAAAAAAAAAAAAAAAAAAAAAAAAAAAAAAAAAAAAAAAAAAAAAAAAAAAAAAAAAAAAAAAAAAAAAAAAAAAAAAAAAAAAAAAAAAAAAAAAAAAAAAAAAAAAAAAAAAAAAAAAAAAAAAAAAAAAAAAAAAAAAAAAAAAAAAAAAAAAAAAAAAAAAAAAAAAAAAAAAAAAAAAAAAAAAAAAAAAAAAAAAAAAAAAAAAAAAAAAAAAAAAAAAAAAAAAAAAAAAAAAAAAAAAAAAAAAAAAAAAAAAAAAAAAAAAAAAAAAAAAAAAAAAAAAAAAAAAAAAAAAAAAAAAAAAAAAAAAAAAAAAAAAAAAAAAAAAAAAAAAAAAAAAAAAAAAAAAAAAAAAAAAAAAAAAAAAAAAAAAAAAAAAAAAAAAAAAAAAAAAAAAAAAAAAAAAAAAAAAAAAAAAAAAAAAAAAAAAAAAAAAAAAAAAAAAAAAAAAAAAAAAAAAAAAAAAAAAAAAAAAAAAAAAAAAAAAAAAAAAAAAAAAAAAAAAAAAAAAAAAAAAAAAAAAAAAAAAAAAAAAAAAAAAAAAAAAAAAAAAAAAAAAAAAAAAAAAAAAAAAAAAAAAAAAAAAAAAAAAAAAAAAAAAAAAAAAAAAAAAAAAAAAAAAAAAAAAAAAAAAAAAAAAAAAAAAAAAAAAAAAAAAAAAAAAAAAAAAAAAAAAAAAAAAAAAAAAAAAAAAAAAAAAAAAAAAAAAAAAAAAAAAAAAAAAAAAAAAAAAAAAAAAAAAAAAAAAAAAAAAAAAAAAAAAAAAAAAAAAAAAAAAAAAAAAAAAAAAAAAAAAAAAAAAAAAAAAAAAAAAAAAAAAAAAAAAAAAAAAAAAAAAAAAAAAAAAAAAAAAAAAAAAAAAAAAAAAAAAAAAAAAAAAAAAAAAAAAAAAAAAAAAAAAAAAAAAAAAAAAAAAAAAAAAAAAAAAAAAAAAAAAAAAAAAAAAAAAAAAAAAAAAAAAAAAAAAAAAAAAAAAAAAAAAAAAAAAAAAAAAAAAAAAAAAAAAAAAAAAAAAAAAAAAAAAAAAAAAAAAAAAAAAAAAAAAAAAAAAAAAAAAAAAAAAAAAAAAAAAAAAAAAAAAAAAAAAAAAAAAAAAAAAAAAAAAAAAAAAAAAAAAAAAAAAAAAAAAAAAAAAAAAAAAAAAAAAAAAAAAAAAAAAAAAAAAAAAAAAAAAAAAAAAAAAAAAAAAAAAAAAAAAAAAAAAAAAAAAAAAAAAAAAAAAAAAAAAAAAAAAAAAAAAAAAAAAAAAAAAAAAAAAAAAAAAAAAAAAAAAAAAAAAAAAAAAAAAAAAAAAAAAAAAAAAAAAAAAAAAAAAAAAAAAAAAAAAAAAAAAAAAAAAAAAAAAAAAAAAAAAAAAAAAAAAAAAAAAAAAAAAAAAAAAAAAAAAAAAAAAAAAAAAAAAAAAAAAAAAAAAAAAAAAAAAAAAAAAAAAAAAAAAAAAAAAAAAAAAAAAAAAAAAAAAAAAAAAAAAAAAAAAAAAAAAAAAAAAAAAAAAAAAAAAAAAAAAAAAAAAAAAAAAAAAAAAAAAAAAAAAAAAAAAAAAAAAAAAAAAAAAAAAAAAAAAAAAAAAAAAAAAAAAAAAAAAAAAAAAAAAAAAAAAAAAAAAAAAAAAAAAAAAAAAAAAAAAAAAAAAAAAAAAAAAAAAAAAAAAAAAAAAAAAAAAAAAAAAAAAAAAAAAAAAAAAAAAAAAAAAAAAAAAAAAAAAAAAAAAAAAAAAAAAAAAAAAAAAAAAAAAAAAAAAAAAAAAAAAAAAAAAAAAAAAAAAAAAAAAAAAAAAAAAAAAAAAAAAAAAAAAAAAAAAAAAAAAAAAAAAAAAAAAAAAAAAAAAAAAAAAAAAAAAAAAAAAAAAAAAAAAAAAAAAAAAAAAAAAAAAAAAAAAAAAAAAAAAAAAAAAAAAAAAAAAAAAAAAAAAAAAAAAAAAAAAAAAAAAAAAAAAAAAAAAAAAAAAAAAAAAAAAAAAAAAAAAAAAAAAAAAAAAAAAAAAAAAAAAAAAAAAAAAAAAAAAAAAAAAAAAAAAAAAAAAAAAAAAAAAAAAAAAAAAAAAAAAAAAAAAAAAAAAAAAAAAAAAAAAAAAAAAAAAAAAAAAAAAAAAAAAAAAAAAAAAAAAAAAAAAAAAAAAAAAAAAAAAAAAAAAAAAAAAAAAAAAAAAAAAAAAAAAAAAAAAAAAAAAAAAAAAAAAAAAAAAAAAAAAAAAAAAAAAAAAAAAAAAAAAAAAAAAAAAAAAAAAAAAAAAAAAAAAAAAAAAAAAAAAAAAAAAAAAAAAAAAAAAAAAAAAAAAAAAAAAAAAAAAAAAAAAAAAAAAAAAAAAAAAAAAAAAAAAAAAAAAAAAAAAAAAAAAAAAAAAAAAAAAAAAAAAAAAAAAAAAAAAAAAAAAAAAAAAAAAAAAAAAAAAAAAAAAAAAAAAAAAAAAAAAAAAAAAAAAAAAAAAAAAAAAAAAAAAAAAAAAAAAAAAAAAAAAAAAAAAAAAAAAAAAAAAAAAAAAAAAAAAAAAAAAAAAAAAAAAAAAAAAAAAAAAAAAAAAAAAAAAAAAAAAAAAAAAAAAAAAAAAAAAAAAAAAAAAAAAAAAAAAAAAAAAAAAAAAAAAAAAAAAAAAAAAAAAAAAAAAAAAAAAAAAAAAAAAAAAAAAAAAAAAAAAAAAAAAAAAAAAAAAAAAAAAAAAAAAAAAAAAAAAAAAAAAAAAAAAAAAAAAAAAAAAAAAAAAAAAAAAAAAAAAAAAAAAAAAAAAAAAAAAAAAAAAAAAAAAAAAAAAAAAAAAAAAAAAAAAAAAAAAAAAAAAAAAAAAAAAAAAAAAAAAAAAAAAAAAAAAAAAAAAAAAAAAAAAAAAAAAAAAAAAAAAAAAAAAAAAAAAAAAAAAAAAAAAAAAAAAAAAAAAAAAAAAAAAAAAAAAAAAAAAAAAAAAAAAAAAAAAAAAAAAAAAAAAAAAAAAAAAAAAAAAAAAAAAAAAAAAAAAAAAAAAAAAAAAAAAAAAAAAAAAAAAAAAAAAAAAAAAAAAAAAAAAAAAAAAAAAAAAAAAAAAAAAAAAAAAAAAAAAAAAAAAAAAAAAAAAAAAAAAAAAAAAAAAAAAAAAAAAAAAAAAAAAAAAAAAAAAAAAAAAAAAAAAAAAAAAAAAAAAAAAAAAAAAAAAAAAAAAAAAAAAAAAAAAAAAAAAAAAAAAAAAAAAAAAAAAAAAAAAAAAAAAAAAAAAAAAAAAAAAAAAAAAAAAAAAAAAAAAAAAAAAAAAAAAAAAAAAAAAAAAAAAAAAAAAAAAAAAAAAAAAAAAAAAAAAAAAAAAAAAAAAAAAAAAAAAAAAAAAAAAAAAAAAAAAAAAAAAAAAAAAAAAAAAAAAAAAAAAAAAAAAAAAAAAAAAAAAAAAAAAAAAAAAAAAAAAAAAAAAAAAAAAAAAAAAAAAAAAAAAAAAAAAAAAAAAAAAAAAAAAAAAAAAAAAAAAAAAAAAAAAAAAAAAAAAAAAAAAAAAAAAAAAAAAAAAAAAAAAAAAAAAAAAAAAAAAAAAAAAAAAAAAAAAAAAAAAAAAAAAAAAAAAAAAAAAAAAAAAAAAAAAAAAAAAAAAAAAAAAAAAAAAAAAAAAAAAAAAAAAAAAAAAAAAAAAAAAAAAAAAAAAAAAAAAAAAAAAAAAAAAAAAAAAAAAAAAAAAAAAAAAAAAAAAAAAAAAAAAAAAAAAAAAAAAAAAAAAAAAAAAAAAAAAAAAAAAAAAAAAAAAAAAAAAAAAAAAAAAAAAAAAAAAAAAAAAAAAAAAAAAAAAAAAAAAAAAAAAAAAAAAAAAAAAAAAAAAAAAAAAAAAAAAAAAAAAAAAAAAAAAAAAAAAAAAAAAAAAAAAAAAAAAAAAAAAAAAAAAAAAAAAAAAAAAAAAAAAAAAAAAAAAAAAAAAAAAAAAAAAAAAAAAAAAAAAAAAAAAAAAAAAAAAAAAAAAAAAAAAAAAAAAAAAAAAAAAAAAAAAAAAAAAAAAAAAAAAAAAAAAAAAAAAAAAAAAAAAAAAAAAAAAAAAAAAAAAAAAAAAAAAAAAAAAAAAAAAAAAAAAAAAAAAAAAAAAAAAAAAAAAAAAAAAAAAAAAAAAAAAAAAAAAAAAAAAAAAAAAAAAAAAAAAAAAAAAAAAAAAAAAAAAAAAAAAAAAAAAAAAAAAAAAAAAAAAAAAAAAAAAAAAAAAAAAAAAAAAAAAAAAAAAAAAAAAAAAAAAAAAAAAAAAAAAAAAAAAAAAAAAAAAAAAAAAAAAAAAAAAAAAAAAAAAAAAAAAAAAAAAAAAAAAAAAAAAAAAAAAAAAAAAAAAAAAAAAAAAAAAAAAAAAAAAAAAAAAAAAAAAAAAAAAAAAAAAAAAAAAAAAAAAAAAAAAAAAAAAAAAAAAAAAAAAAAAAAAAAAAAAAAAAAAAAAAAAAAAAAAAAAAAAAAAAAAAAAAAAAAAAAAAAAAAAAAAAAAAAAAAAAAAAAAAAAAAAAAAAAAAAAAAAAAAAAAAAAAAAAAAAAAAAAAAAAAAAAAAAAAAAAAAAAAAAAAAAAAAAAAAAAAAAAAAAAAAAAAAAAAAAAAAAAAAAAAAAAAAAAAAAAAAAAAAAAAAAAAAAAAAAAAAAAAAAAAAAAAAAAAAAAAAAAAAAAAAAAAAAAAAAAAAAAAAAAAAAAAAAAAAAAAAAAAAAAAAAAAAAAAAAAAAAAAAAAAAAAAAAAAAAAAAAAAAAAAAAAAAAAAAAAAAAAAAAAAAAAAAAAAAAAAAAAAAAAAAAAAAAAAAAAAAAAAAAAAAAAAAAAAAAAAAAAAAAAAAAAAAAAAAAAAAAAAAAAAAAAAAAAAAAAAAAAAAAAAAAAAAAAAAAAAAAAAAAAAAAAAAAAAAAAAAAAAAAAAAAAAAAAAAAAAAAAAAAAAAAAAAAAAAAAAAAAAAAAAAAAAAAAAAAAAAAAAAAAAAAAAAAAAAAAAAAAAAAAAAAAAAAAAAAAAAAAAAAAAAAAAAAAAAAAAAAAAAAAAAAAAAAAAAAAAAAAAAAAAAAAAAAAAAAAAAAAAAAAAAAAAAAAAAAAAAAAAAAAAAAAAAAAAAAAAAAAAAAAAAAAAAAAAAAAAAAAAAAAAAAAAAAAAAAAAAAAAAAAAAAAAAAAAAAAAAAAAAAAAAAAAAAAAAAAAAAAAAAAAAAAAAAAAAAAAAAAAAAAAAAAAAAAAAAAAAAAAAAAAAAAAAAAAAAAAAAAAAAAAAAAAAAAAAAAAAAAAAAAAAAAAAAAAAAAAAAAAAAAAAAAAAAAAAAAAAAAAAAAAAAAAAAAAAAAAAAAAAAAAAAAAAAAAAAAAAAAAAAAAAAAAAAAAAAAAAAAAAAAAAAAAAAAAAAAAAAAAAAAAAAAAAAAAAAAAAAAAAAAAAAAAAAAAAAAAAAAAAAAAAAAAAAAAAAAAAAAAAAAAAAAAAAAAAAAAAAAAAAAAAAAAAAAAAAAAAAAAAAAAAAAAAAAAAAAAAAAAAAAAAAAAAAAAAAAAAAAAAAAAAAAAAAAAAAAAAAAAAAAAAAAAAAAAAAAAAAAAAAAAAAAAAAAAAAAAAAAAAAAAAAAAAAAAAAAAAAAAAAAAAAAAAAAAAAAAAAAAAAAAAAAAAAAAAAAAAAAAAAAAAAAAAAAAAAAAAAAAAAAAAAAAAAAAAAAAAAAAAAAAAAAAAAAAAAAAAAAAAAAAAAAAAAAAAAAAAAAAAAAAAAAAAAAAAAAAAAAAAAAAAAAAAAAAAAAAAAAAAAAAAAAAAAAAAAAAAAAAAAAAAAAAAAAAAAAAAAAAAAAAAAAAAAAAAAAAAAAAAAAAAAAAAAAAAAAAAAAAAAAAAAAAAAAAAAAAAAAAAAAAAAAAAAAAAAAAAAAAAAAAAAAAAAAAAAAAAAAAAAAAAAAAAAAAAAAAAAAAAAAAAAAAAAAAAAAAAAAAAAAAAAAAAAAAAAAAAAAAAAAAAAAAAAAAAAAAAAAAAAAAAAAAAAAAAAAAAAAAAAAAAAAAAAAAAAAAAAAAAAAAAAAAAAAAAAAAAAAAAAAAAAAAAAAAAAAAAAAAAAAAAAAAAAAAAAAAAAAAAAAAAAAAAAAAAAAAAAAAAAAAAAAAAAAAAAAAAAAAAAAAAAAAAAAAAAAAAAAAAAAAAAAAAAAAAAAAAAAAAAAAAAAAAAAAAAAAAAAAAAAAAAAAAAAAAAAAAAAAAAAAAAAAAAAAAAAAAAAAAAAAAAAAAAAAAAAAAAAAAAAAAAAAAAAAAAAAAAAAAAAAAAAAAAAAAAAAAAAAAAAAAAAAAAAAAAAAAAAAAAAAAAAAAAAAAAAAAAAAAAAAAAAAAAAAAAAAAAAAAAAAAAAAAAAAAAAAAAAAAAAAAAAAAAAAAAAAAAAAAAAAAAAAAAAAAAAAAAAAAAAAAAAAAAAAAAAAAAAAAAAAAAAAAAAAAAAAAAAAAAAAAAAAAAAAAAAAAAAAAAAAAAAAAAAAAAAAAAAAAAAAAAAAAAAAAAAAAAAAAAAAAAAAAAAAAAAAAAAAAAAAAAAAAAAAAAAAAAAAAAAAAAAAAAAAAAAAAAAAAAAAAAAAAAAAAAAAAAAAAAAAAAAAAAAAAAAAAAAAAAAAAAAAAAAAAAAAAAAAAAAAAAAAAAAAAAAAAAAAAAAAAAAAAAAAAAAAAAAAAAAAAAAAAAAAAAAAAAAAAAAAAAAAAAAAAAAAAAAAAAAAAAAAAAAAAAAAAAAAAAAAAAAAAAAAAAAAAAAAAAAAAAAAAAAAAAAAAAAAAAAAAAAAAAAAAAAAAAAAAAAAAAAAAAAAAAAAAAAAAAAAAAAAAAAAAAAAAAAAAAAAAAAAAAAAAAAAAAAAAAAAAAAAAAAAAAAAAAAAAAAAAAAAAAAAAAAAAAAAAAAAAAAAAAAAAAAAAAAAAAAAAAAAAAAAAAAAAAAAAAAAAAAAAAAAAAAAAAAAAAAAAAAAAAAAAAAAAAAAAAAAAAAAAAAAAAAAAAAAAAAAAAAAAAAAAAAAAAAAAAAAAAAAAAAAAAAAAAAAAAAAAAAAAAAAAAAAAAAAAAAAAAAAAAAAAAAAAAAAAAAAAAAAAAAAAAAAAAAAAAAAAAAAAAAAAAAAAAAAAAAAAAAAAAAAAAAAAAAAAAAAAAAAAAAAAAAAAAAAAAAAAAAAAAAAAAAAAAAAAAAAAAAAAAAAAAAAAAAAAAAAAAAAAAAAAAAAAAAAAAAAAAAAAAAAAAAAAAAAAAAAAAAAAAAAAAAAAAAAAAAAAAAAAAAAAAAAAAAAAAAAAAAAAAAAAAAAAAAAAAAAAAAAAAAAAAAAAAAAAAAAAAAAAAAAAAAAAAAAAAAAAAAAAAAAAAAAAAAAAAAAAAAAAAAAAAAAAAAAAAAAAAAAAAAAAAAAAAAAAAAAAAAAAAAAAAAAAAAAAAAAAAAAAAAAAAAAAAAAAAAAAAAAAAAAAAAAAAAAAAAAAAAAAAAAAAAAAAAAAAAAAAAAAAAAAAAAAAAAAAAAAAAAAAAAAAAAAAAAAAAAAAAAAAAAAAAAAAAAAAAAAAAAAAAAAAAAAAAAAAAAAAAAAAAAAAAAAAAAAAAAAAAAAAAAAAAAAAAAAAAAAAAAAAAAAAAAAAAAAAAAAAAAAAAAAAAAAAAAAAAAAAAAAAAAAAAAAAAAAAAAAAAAAAAAAAAAAAAAAAAAAAAAAAAAAAAAAAAAAAAAAAAAAAAAAAAAAAAAAAAAAAAAAAAAAAAAAAAAAAAAAAAAAAAAAAAAAAAAAAAAAAAAAAAAAAAAAAAAAAAAAAAAAAAAAAAAAAAAAAAAAAAAAAAAAAAAAAAAAAAAAAAAAAAAAAAAAAAAAAAAAAAAAAAAAAAAAAAAAAAAAAAAAAAAAAAAAAAAAAAAAAAAAAAAAAAAAAAAAAAAAAAAAAAAAAAAAAAAAAAAAAAAAAAAAAAAAAAAAAAAAAAAAAAAAAAAAAAAAAAAAAAAAAAAAAAAAAAAAAAAAAAAAAAAAAAAAAAAAAAAAAAAAAAAAAAAAAAAAAAAAAAAAAAAAAAAAAAAAAAAAAAAAAAAAAAAAAAAAAAAAAAAAAAAAAAAAAAAAAAAAAAAAAAAAAAAAAAAAAAAAAAAAAAAAAAAAAAAAAAAAAAAAAAAAAAAAAAAAAAAAAAAAAAAAAAAAAAAAAAAAAAAAAAAAAAAAAAAAAAAAAAAAAAAAAAAAAAAAAAAAAAAAAAAAAAAAAAAAAAAAAAAAAAAAAAAAAAAAAAAAAAAAAAAAAAAAAAAAAAAAAAAAAAAAAAAAAAAAAAAAAAAAAAAAAAAAAAAAAAAAAAAAAAAAAAAAAAAAAAAAAAAAAAAAAAAAAAAAAAAAAAAAAAAAAAAAAAAAAAAAAAAAAAAAAAAAAAAAAAAAAAAAAAAAAAAAAAAAAAAAAAAAAAAAAAAAAAAAAAAAAAAAAAAAAAAAAAAAAAAAAAAAAAAAAAAAAAAAAAAAAAAAAAAAAAAAAAAAAAAAAAAAAAAAAAAAAAAAAAAAAAAAAAAAAAAAAAAAAAAAAAAAAAAAAAAAAAAAAAAAAAAAAAAAAAAAAAAAAAAAAAAAAAAAAAAAAAAAAAAAAAAAAAAAAAAAAAAAAAAAAAAAAAAAAAAAAAAAAAAAAAAAAAAAAAAAAAAAAAAAAAAAAAAAAAAAAAAAAAAAAAAAAAAAAAAAAAAAAAAAAAAAAAAAAAAAAAAAAAAAAAAAAAAAAAAAAAAAAAAAAAAAAAAAAAAAAAAAAAAAAAAAAAAAAAAAAAAAAAAAAAAAAAAAAAAAAAAAAAAAAAAAAAAAAAAAAAAAAAAAAAAAAAAAAAAAAAAAAAAAAAAAAAAAAAAAAAAAAAAAAAAAAAAAAAAAAAAAAAAAAAAAAAAAAAAAAAAAAAAAAAAAAAAAAAAAAAAAAAAAAAAAAAAAAAAAAAAAAAAAAAAAAAAAAAAAAAAAAAAAAAAAAAAAAAAAAAAAAAAAAAAAAAAAAAAAAAAAAAAAAAAAAAAAAAAAAAAAAAAAAAAAAAAAAAAAAAAAAAAAAAAAAAAAAAAAAAAAAAAAAAAAAAAAAAAAAAAAAAAAAAAAAAAAAAAAAAAAAAAAAAAAAAAAAAAAAAAAAAAAAAAAAAAAAAAAAAAAAAAAAAAAAAAAAAAAAAAAAAAAAAAAAAAAAAAAAAAAAAAAAAAAAAAAAAAAAAAAAAAAAAAAAAAAAAAAAAAAAAAAAAAAAAAAAAAAAAAAAAAAAAAAAAAAAAAAAAAAAAAAAAAAAAAAAAAAAAAAAAAAAAAAAAAAAAAAAAAAAAAAAAAAAAAAAAAAAAAAAAAAAAAAAAAAAAAAAAAAAAAAAAAAAAAAAAAAAAAAAAAAAAAAAAAAAAAAAAAAAAAAAAAAAAAAAAAAAAAAAAAAAAAAAAAAAAAAAAAAAAAAAAAAAAAAAAAAAAAAAAAAAAAAAAAAAAAAAAAAAAAAAAAAAAAAAAAAAAAAAAAAAAAAAAAAAAAAAAAAAAAAAAAAAAAAAAAAAAAAAAAAAAAAAAAAAAAAAAAAAAAAAAAAAAAAAAAAAAAAAAAAAAAAAAAAAAAAAAAAAAAAAAAAAAAAAAAAAAAAAAAAAAAAAAAAAAAAAAAAAAAAAAAAAAAAAAAAAAAAAAAAAAAAAAAAAAAAAAAAAAAAAAAAAAAAAAAAAAAAAAAAAAAAAAAAAAAAAAAAAAAAAAAAAAAAAAAAAAAAAAAAAAAAAAAAAAAAAAAAAAAAAAAAAAAAAAAAAAAAAAAAAAAAAAAAAAAAAAAAAAAAAAAAAAAAAAAAAAAAAAAAAAAAAAAAAAAAAAAAAAAAAAAAAAAAAAAAAAAAAAAAAAAAAAAAAAAAAAAAAAAAAAAAAAAAAAAAAAAAAAAAAAAAAAAAAAAAAAAAAAAAAAAAAAAAAAAAAAAAAAAAAAAAAAAAAAAAAAAAAAAAAAAAAAAAAAAAAAAAAAAAAAAAAAAAAAAAAAAAAAAAAAAAAAAAAAAAAAAAAAAAAAAAAAAAAAAAAAAAAAAAAAAAAAAAAAAAAAAAAAAAAAAAAAAAAAAAAAAAAAAAAAAAAAAAAAAAAAAAAAAAAAAAAAAAAAAAAAAAAAAAAAAAAAAAAAAAAAAAAAAAAAAAAAAAAAAAAAAAAAAAAAAAAAAAAAAAAAAAAAAAAAAAAAAAAAAAAAAAAAAAAAAAAAAAAAAAAAAAAAAAAAAAAAAAAAAAAAAAAAAAAAAAAAAAAAAAAAAAAAAAAAAAAAAAAAAAAAAAAAAAAAAAAAAAAAAAAAAAAAAAAAAAAAAAAAAAAAAAAAAAAAAAAAAAAAAAAAAAAAAAAAAAAAAAAAAAAAAAAAAAAAAAAAAAAAAAAAAAAAAAAAAAAAAAAAAAAAAAAAAAAAAAAAAAAAAAAAAAAAAAAAAAAAAAAAAAAAAAAAAAAAAAAAAAAAAAAAAAAAAAAAAAAAAAAAAAAAAAAAAAAAAAAAAAAAAAAAAAAAAAAAAAAAAAAAAAAAAAAAAAAAAAAAAAAAAAAAAAAAAAAAAAAAAAAAAAAAAAAAAAAAAAAAAAAAAAAAAAAAAAAAAAAAAAAAAAAAAAAAAAAAAAAAAAAAAAAAAAAAAAAAAAAAAAAAAAAAAAAAAAAAAAAAAAAAAAAAAAAAAAAAAAAAAAAAAAAAAAAAAAAAAAAAAAAAAAAAAAAAAAAAAAAAAAAAAAAAAAAAAAAAAAAAAAAAAAAAAAAAAAAAAAAAAAAAAAAAAAAAAAAAAAAAAAAAAAAAAAAAAAAAAAAAAAAAAAAAAAAAAAAAAAAAAAAAAAAAAAAAAAAAAAAAAAAAAAAAAAAAAAAAAAAAAAAAAAAAAAAAAAAAAAAAAAAAAAAAAAAAAAAAAAAAAAAAAAAAAAAAAAAAAAAAAAAAAAAAAAAAAAAAAAAAAAAAAAAAAAAAAAAAAAAAAAAAAAAAAAAAAAAAAAAAAAAAAAAAAAAAAAAAAAAAAAAAAAAAAAAAAAAAAAAAAAAAAAAAAAAAAAAAAAAAAAAAAAAAAAAAAAAAAAAAAAAAAAAAAAAAAAAAAAAAAAAAAAAAAAAAAAAAAAAAAAAAAAAAAAAAAAAAAAAAAAAAAAAAAAAAAAAAAAAAAAAAAAAAAAAAAAAAAAAAAAAAAAAAAAAAAAAAAAAAAAAAAAAAAAAAAAAAAAAAAAAAAAAAAAAAAAAAAAAAAAAAAAAAAAAAAAAAAAAAAAAAAAAAAAAAAAAAAAAAAAAAAAAAAAAAAAAAAAAAAAAAAAAAAAAAAAAAAAAAAAAAAAAAAAAAAAAAAAAAAAAAAAAAAAAAAAAAAAAAAAAAAAAAAAAAAAAAAAAAAAAAAAAAAAAAAAAAAAAAAAAAAAAAAAAAAAAAAAAAAAAAAAAAAAAAAAAAAAAAAAAAAAAAAAAAAAAAAAAAAAAAAAAAAAAAAAAAAAAAAAAAAAAAAAAAAAAAAAAAAAAAAAAAAAAAAAAAAAAAAAAAAAAAAAAAAAAAAAAAAAAAAAAAAAAAAAAAAAAAAAAAAAAAAAAAAAAAAAAAAAAAAAAAAAAAAAAAAAAAAAAAAAAAAAAAAAAAAAAAAAAAAAAAAAAAAAAAAAAAAAAAAAAAAAAAAAAAAAAAAAAAAAAAAAAAAAAAAAAAAAAAAAAAAAAAAAAAAAAAAAAAAAAAAAAAAAAAAAAAAAAAAAAAAAAAAAAAAAAAAAAAAAAAAAAAAAAAAAAAAAAAAAAAAAAAAAAAAAAAAAAAAAAAAAAAAAAAAAAAAAAAAAAAAAAAAAAAAAAAAAAAAAAAAAAAAAAAAAAAAAAAAAAAAAAAAAAAAAAAAAAAAAAAAAAAAAAAAAAAAAAAAAAAAAAAAAAAAAAAAAAAAAAAAAAAAAAAAAAAAAAAAAAAAAAAAAAAAAAAAAAAAAAAAAAAAAAAAAAAAAAAAAAAAAAAAAAAAAAAAAAAAAAAAAAAAAAAAAAAAAAAAAAAAAAAAAAAAAAAAAAAAAAAAAAAAAAAAAAAAAAAAAAAAAAAAAAAAAAAAAAAAAAAAAAAAAAAAAAAAAAAAAAAAAAAAAAAAAAAAAAAAAAAAAAAAAAAAAAAAAAAAAAAAAAAAAAAAAAAAAAAAAAAAAAAAAAAAAAAAAAAAAAAAAAAAAAAAAAAAAAAAAAAAAAAAAAAAAAAAAAAAAAAAAAAAAAAAAAAAAAAAAAAAAAAAAAAAAAAAAAAAAAAAAAAAAAAAAAAAAAAAAAAAAAAAAAAAAAAAAAAAAAAAAAAAAAAAAAAAAAAAAAAAAAAAAAAAAAAAAAAAAAAAAAAAAAAAAAAAAAAAAAAAAAAAAAAAAAAAAAAAAAAAAAAAAAAAAAAAAAAAAAAAAAAAAAAAAAAAAAAAAAAAAAAAAAAAAAAAAAAAAAAAAAAAAAAAAAAAAAAAAAAAAAAAAAAAAAAAAAAAAAAAAAAAAAAAAAAAAAAAAAAAAAAAAAAAAAAAAAAAAAAAAAAAAAAAAAAAAAAAAAAAAAAAAAAAAAAAAAAAAAAAAAAAAAAAAAAAAAAAAAAAAAAAAAAAAAAAAAAAAAAAAAAAAAAAAAAAAAAAAAAAAAAAAAAAAAAAAAAAAAAAAAAAAAAAAAAAAAAAAAAAAAAAAAAAAAAAAAAAAAAAAAAAAAAAAAAAAAAAAAAAAAAAAAAAAAAAAAAAAAAAAAAAAAAAAAAAAAAAAAAAAAAAAAAAAAAAAAAAAAAAAAAAAAAAAAAAAAAAAAAAAAAAAAAAAAAAAAAAAAAAAAAAAAAAAAAAAAAAAAAAAAAAAAAAAAAAAAAAAAAAAAAAAAAAAAAAAAAAAAAAAAAAAAAAAAAAAAAAAAAAAAAAAAAAAAAAAAAAAAAAAAAAAAAAAAAAAAAAAAAAAAAAAAAAAAAAAAAAAAAAAAAAAAAAAAAAAAAAAAAAAAAAAAAAAAAAAAAAAAAAAAAAAAAAAAAAAAAAAAAAAAAAAAAAAAAAAAAAAAAAAAAAAAAAAAAAAAAAAAAAAAAAAAAAAAAAAAAAAAAAAAAAAAAAAAAAAAAAAAAAAAAAAAAAAAAAAAAAAAAAAAAAAAAAAAAAAAAAAAAAAAAAAAAAAAAAAAAAAAAAAAAAAAAAAAAAAAAAAAAAAAAAAAAAAAAAAAAAAAAAAAAAAAAAAAAAAAAAAAAAAAAAAAAAAAAAAAAAAAAAAAAAAAAAAAAAAAAAAAAAAAAAAAAAAAAAAAAAAAAAAAAAAAAAAAAAAAAAAAAAAAAAAAAAAAAAAAAAAAAAAAAAAAAAAAAAAAAAAAAAAAAAAAAAAAAAAAAAAAAAAAAAAAAAAAAAAAAAAAAAAAAAAAAAAAAAAAAAAAAAAAAAAAAAAAAAAAAAAAAAAAAAAAAAAAAAAAAAAAAAAAAAAAAAAAAAAAAAAAAAAAAAAAAAAAAAAAAAAAAAAAAAAAAAAAAAAAAAAAAAAAAAAAAAAAAAAAAAAAAAAAAAAAAAAAAAAAAAAAAAAAAAAAAAAAAAAAAAAAAAAAAAAAAAAAAAAAAAAAAAAAAAAAAAAAAAAAAAAAAAAAAAAAAAAAAAAAAAAAAAAAAAAAAAAAAAAAAAAAAAAAAAAAAAAAAAAAAAAAAAAAAAAAAAAAAAAAAAAAAAAAAAAAAAAAAAAAAAAAAAAAAAAAAAAAAAAAAAAAAAAAAAAAAAAAAAAAAAAAAAAAAAAAAAAAAAAAAAAAAAAAAAAAAAAAAAAAAAAAAAAAAAAAAAAAAAAAAAAAAAAAAAAAAAAAAAAAAAAAAAAAAAAAAAAAAAAAAAAAAAAAAAAAAAAAAAAAAAAAAAAAAAAAAAAAAAAAAAAAAAAAAAAAAAAAAAAAAAAAAAAAAAAAAAAAAAAAAAAAAAAAAAAAAAAAAAAAAAAAAAAAAAAAAAAAAAAAAAAAAAAAAAAAAAAAAAAAAAAAAAAAAAAAAAAAAAAAAAAAAAAAAAAAAAAAAAAAAAAAAAAAAAAAAAAAAAAAAAAAAAAAAAAAAAAAAAAAAAAAAAAAAAAAAAAAAAAAAAAAAAAAAAAAAAAAAAAAAAAAAAAAAAAAAAAAAAAAAAAAAAAAAAAAAAAAAAAAAAAAAAAAAAAAAAAAAAAAAAAAAAAAAAAAAAAAAAAAAAAAAAAAAAAAAAAAAAAAAAAAAAAAAAAAAAAAAAAAAAAAAAAAAAAAAAAAAAAAAAAAAAAAAAAAAAAAAAAAAAAAAAAAAAAAAAAAAAAAAAAAAAAAAAAAAAAAAAAAAAAAAAAAAAAAAAAAAAAAAAAAAAAAAAAAAAAAAAAAAAAAAAAAAAAAAAAAAAAAAAAAAAAAAAAAAAAAAAAAAAAAAAAAAAAAAAAAAAAAAAAAAAAAAAAAAAAAAAAAAAAAAAAAAAAAAAAAAAAAAAAAAAAAAAAAAAAAAAAAAAAAAAAAAAAAAAAAAAAAAAAAAAAAAAAAAAAAAAAAAAAAAAAAAAAAAAAAAAAAAAAAAAAAAAAAAAAAAAAAAAAAAAAAAAAAAAAAAAAAAAAAAAAAAAAAAAAAAAAAAAAAAAAAAAAAAAAAAAAAAAAAAAAAAAAAAAAAAAAAAAAAAAAAAAAAAAAAAAAAAAAAAAAAAAAAAAAAAAAAAAAAAAAAAAAAAAAAAAAAAAAAAAAAAAAAAAAAAAAAAAAAAAAAAAAAAAAAAAAAAAAAAAAAAAAAAAAAAAAAAAAAAAAAAAAAAAAAAAAAAAAAAAAAAAAAAAAAAAAAAAAAAAAAAAAAAAAAAAAAAAAAAAAAAAAAAAAAAAAAAAAAAAAAAAAAAAAAAAAAAAAAAAAAAAAAAAAAAAAAAAAAAAAAAAAAAAAAAAAAAAAAAAAAAAAAAAAAAAAAAAAAAAAAAAAAAAAAAAAAAAAAAAAAAAAAAAAAAAAAAAAAAAAAAAAAAAAAAAAAAAAAAAAAAAAAAAAAAAAAAAAAAAAAAAAAAAAAAAAAAAAAAAAAAAAAAAAAAAAAAAAAAAAAAAAAAAAAAAAAAAAAAAAAAAAAAAAAAAAAAAAAAAAAAAAAAAAAAAAAAAAAAAAAAAAAAAAAAAAAAAAAAAAAAAAAAAAAAAAAAAAAAAAAAAAAAAAAAAAAAAAAAAAAAAAAAAAAAAAAAAAAAAAAAAAAAAAAAAAAAAAAAAAAAAAAAAAAAAAAAAAAAAAAAAAAAAAAAAAAAAAAAAAAAAAAAAAAAAAAAAAAAAAAAAAAAAAAAAAAAAAAAAAAAAAAAAAAAAAAAAAAAAAAAAAAAAAAAAAAAAAAAAAAAAAAAAAAAAAAAAAAAAAAAAAAAAAAAAAAAAAAAAAAAAAAAAAAAAAAAAAAAAAAAAAAAAAAAAAAAAAAAAAAAAAAAAAAAAAAAAAAAAAAAAAAAAAAAAAAAAAAAAAAAAAAAAAAAAAAAAAAAAAAAAAAAAAAAAAAAAAAAAAAAAAAAAAAAAAAAAAAAAAAAAAAAAAAAAAAAAAAAAAAAAAAAAAAAAAAAAAAAAAAAAAAAAAAAAAAAAAAAAAAAAAAAAAAAAAAAAAAAAAAAAAAAAAAAAAAAAAAAAAAAAAAAAAAAAAAAAAAAAAAAAAAAAAAAAAAAAAAAAAAAAAAAAAAAAAAAAAAAAAAAAAAAAAAAAAAAAAAAAAAAAAAAAAAAAAAAAAAAAAAAAAAAAAAAAAAAAAAAAAAAAAAAAAAAAAAAAAAAAAAAAAAAAAAAAAAAAAAAAAAAAAAAAAAAAAAAAAAAAAAAAAAAAAAAAAAAAAAAAAAAAAAAAAAAAAAAAAAAAAAAAAAAAAAAAAAAAAAAAAAAAAAAAAAAAAAAAAAAAAAAAAAAAAAAAAAAAAAAAAAAAAAAAAAAAAAAAAAAAAAAAAAAAAAAAAAAAAAAAAAAAAAAAAAAAAAAAAAAAAAAAAAAAAAAAAAAAAAAAAAAAAAAAAAAAAAAAAAAAAAAAAAAAAAAAAAAAAAAAAAAAAAAAAAAAAAAAAAAAAAAAAAAAAAAAAAAAAAAAAAAAAAAAAAAAAAAAAAAAAAAAAAAAAAAAAAAAAAAAAAAAAAAAAAAAAAAAAAAAAAAAAAAAAAAAAAAAAAAAAAAAAAAAAAAAAAAAAAAAAAAAAAAAAAAAAAAAAAAAAAAAAAAAAAAAAAAAAAAAAAAAAAAAAAAAAAAAAAAAAAAAAAAAAAAAAAAAAAAAAAAAAAAAAAAAAAAAAAAAAAAAAAAAAAAAAAAAAAAAAAAAAAAAAAAAAAAAAAAAAAAAAAAAAAAAAAAAAAAAAAAAAAAAAAAAAAAAAAAAAAAAAAAAAAAAAAAAAAAAAAAAAAAAAAAAAAAAAAAAAAAAAAAAAAAAAAAAAAAAAAAAAAAAAAAAAAAAAAAAAAAAAAAAAAAAAAAAAAAAAAAAAAAAAAAAAAAAAAAAAAAAAAAAAAAAAAAAAAAAAAAAAAAAAAAAAAAAAAAAAAAAAAAAAAAAAAAAAAAAAAAAAAAAAAAAAAAAAAAAAAAAAAAAAAAAAAAAAAAAAAAAAAAAAAAAAAAAAAAAAAAAAAAAAAAAAAAAAAAAAAAAAAAAAAAAAAAAAAAAAAAAAAAAAAAAAAAAAAAAAAAAAAAAAAAAAAAAAAAAAAAAAAAAAAAAAAAAAAAAAAAAAAAAAAAAAAAAAAAAAAAAAAAAAAAAAAAAAAAAAAAAAAAAAAAAAAAAAAAAAAAAAAAAAAAAAAAAAAAAAAAAAAAAAAAAAAAAAAAAAAAAAAAAAAAAAAAAAAAAAAAAAAAAAAAAAAAAAAAAAAAAAAAAAAAAAAAAAAAAAAAAAAAAAAAAAAAAAAAAAAAAAAAAAAAAAAAAAAAAAAAAAAAAAAAAAAAAAAAAAAAAAAAAAAAAAAAAAAAAAAAAAAAAAAAAAAAAAAAAAAAAAAAAAAAAAAAAAAAAAAAAAAAAAAAAAAAAAAAAAAAAAAAAAAAAAAAAAAAAAAAAAAAAAAAAAAAAAAAAAAAAAAAAAAAAAAAAAAAAAAAAAAAAAAAAAAAAAAAAAAAAAAAAAAAAAAAAAAAAAAAAAAAAAAAAAAAAAAAAAAAAAAAAAAAAAAAAAAAAAAAAAAAAAAAAAAAAAAAAAAAAAAAAAAAAAAAAAAAAAAAAAAAAAAAAAAAAAAAAAAAAAAAAAAAAAAAAAAAAAAAAAAAAAAAAAAAAAAAAAAAAAAAAAAAAAAAAAAAAAAAAAAAAAAAAAAAAAAAAAAAAAAAAAAAAAAAAAAAAAAAAAAAAAAAAAAAAAAAAAAAAAAAAAAAAAAAAAAAAAAAAAAAAAAAAAAAAAAAAAAAAAAAAAAAAAAAAAAAAAAAAAAAAAAAAAAAAAAAAAAAAAAAAAAAAAAAAAAAAAAAAAAAAAAAAAAAAAAAAAAAAAAAAAAAAAAAAAAAAAAAAAAAAAAAAAAAAAAAAAAAAAAAAAAAAAAAAAAAAAAAAAAAAAAAAAAAAAAAAAAAAAAAAAAAAAAAAAAAAAAAAAAAAAAAAAAAAAAAAAAAAAAAAAAAAAAAAAAAAAAAAAAAAAAAAAAAAAAAAAAAAAAAAAAAAAAAAAAAAAAAAAAAAAAAAAAAAAAAAAAAAAAAAAAAAAAAAAAAAAAAAAAAAAAAAAAAAAAAAAAAAAAAAAAAAAAAAAAAAAAAAAAAAAAAAAAAAAAAAAAAAAAAAAAAAAAAAAAAAAAAAAAAAAAAAAAAAAAAAAAAAAAAAAAAAAAAAAAAAAAAAAAAAAAAAAAAAAAAAAAAAAAAAAAAAAAAAAAAAAAAAAAAAAAAAAAAAAAAAAAAAAAAAAAAAAAAAAAAAAAAAAAAAAAAAAAAAAAAAAAAAAAAAAAAAAAAAAAAAAAAAAAAAAAAAAAAAAAAAAAAAAAAAAAAAAAAAAAAAAAAAAAAAAAAAAAAAAAAAAAAAAAAAAAAAAAAAAAAAAAAAAAAAAAAAAAAAAAAAAAAAAAAAAAAAAAAAAAAAAAAAAAAAAAAAAAAAAAAAAAAAAAAAAAAAAAAAAAAAAAAAAAAAAAAAAAAAAAAAAAAAAAAAAAAAAAAAAAAAAAAAAAAAAAAAAAAAAAAAAAAAAAAAAAAAAAAAAAAAAAAAAAAAAAAAAAAAAAAAAAAAAAAAAAAAAAAAAAAAAAAAAAAAAAAAAAAAAAAAAAAAAAAAAAAAAAAAAAAAAAAAAAAAAAAAAAAAAAAAAAAAAAAAAAAAAAAAAAAAAAAAAAAAAAAAAAAAAAAAAAAAAAAAAAAAAAAAAAAAAAAAAAAAAAAAAAAAAAAAAAAAAAAAAAAAAAAAAAAAAAAAAAAAAAAAAAAAAAAAAAAAAAAAAAAAAAAAAAAAAAAAAAAAAAAAAAAAAAAAAAAAAAAAAAAAAAAAAAAAAAAAAAAAAAAAAAAAAAAAAAAAAAAAAAAAAAAAAAAAAAAAAAAAAAAAAAAAAAAAAAAAAAAAAAAAAAAAAAAAAAAAAAAAAAAAAAAAAAAAAAAAAAAAAAAAAAAAAAAAAAAAAAAAAAAAAAAAAAAAAAAAAAAAAAAAAAAAAAAAAAAAAAAAAAAAAAAAAAAAAAAAAAAAAAAAAAAAAAAAAAAAAAAAAAAAAAAAAAAAAAAAAAAAAAAAAAAAAAAAAAAAAAAAAAAAAAAAAAAAAAAAAAAAAAAAAAAAAAAAAAAAAAAAAAAAAAAAAAAAAAAAAAAAAAAAAAAAAAAAAAAAAAAAAAAAAAAAAAAAAAAAAAAAAAAAAAAAAAAAAAAAAAAAAAAAAAAAAAAAAAAAAAAAAAAAAAAAAAAAAAAAAAAAAAAAAAAAAAAAAAAAAAAAAAAAAAAAAAAAAAAAAAAAAAAAAAAAAAAAAAAAAAAAAAAAAAAAAAAAAAAAAAAAAAAAAAAAAAAAAAAAAAAAAAAAAAAAAAAAAAAAAAAAAAAAAAAAAAAAAAAAAAAAAAAAAAAAAAAAAAAAAAAAAAAAAAAAAAAAAAAAAAAAAAAAAAAAAAAAAAAAAAAAAAAAAAAAAAAAAAAAAAAAAAAAAAAAAAAAAAAAAAAAAAAAAAAAAAAAAAAAAAAAAAAAAAAAAAAAAAAAAAAAAAAAAAAAAAAAAAAAAAAAAAAAAAAAAAAAAAAAAAAAAAAAAAAAAAAAAAAAAAAAAAAAAAAAAAAAAAAAAAAAAAAAAAAAAAAAAAAAAAAAAAAAAAAAAAAAAAAAAAAAAAAAAAAAAAAAAAAAAAAAAAAAAAAAAAAAAAAAAAAAAAAAAAAAAAAAAAAAAAAAAAAAAAAAAAAAAAAAAAAAAAAAAAAAAAAAAAAAAAAAAAAAAAAAAAAAAAAAAAAAAAAAAAAAAAAAAAAAAAAAAAAAAAAAAAAAAAAAAAAAAAAAAAAAAAAAAAAAAAAAAAAAAAAAAAAAAAAAAAAAAAAAAAAAAAAAAAAAAAAAAAAAAAAAAAAAAAAAAAAAAAAAAAAAAAAAAAAAAAAAAAAAAAAAAAAAAAAAAAAAAAAAAAAAAAAAAAAAAAAAAAAAAAAAAAAAAAAAAAAAAAAAAAAAAAAAAAAAAAAAAAAAAAAAAAAAAAAAAAAAAAAAAAAAAAAAAAAAAAAAAAAAAAAAAAAAAAAAAAAAAAAAAAAAAAAAAAAAAAAAAAAAAAAAAAAAAAAAAAAAAAAAAAAAAAAAAAAAAAAAAAAAAAAAAAAAAAAAAAAAAAAAAAAAAAAAAAAAAAAAAAAAAAAAAAAAAAAAAAAAAAAAAAAAAAAAAAAAAAAAAAAAAAAAAAAAAAAAAAAAAAAAAAAAAAAAAAAAAAAAAAAAAAAAAAAAAAAAAAAAAAAAAAAAAAAAAAAAAAAAAAAAAAAAAAAAAAAAAAAAAAAAAAAAAAAAAAAAAAAAAAAAAAAAAAAAAAAAAAAAAAAAAAAAAAAAAAAAAAAAAAAAAAAAAAAAAAAAAAAAAAAAAAAAAAAAAAAAAAAAAAAAAAAAAAAAAAAAAAAAAAAAAAAAAAAAAAAAAAAAAAAAAAAAAAAAAAAAAAAAAAAAAAAAAAAAAAAAAAAAAAAAAAAAAAAAAAAAAAAAAAAAAAAAAAAAAAAAAAAAAAAAAAAAAAAAAAAAAAAAAAAAAAAAAAAAAAAAAAAAAAAAAAAAAAAAAAAAAAAAAAAAAAAAAAAAAAAAAAAAAAAAAAAAAAAAAAAAAAAAAAAAAAAAAAAAAAAAAAAAAAAAAAAAAAAAAAAAAAAAAAAAAAAAAAAAAAAAAAAAAAAAAAAAAAAAAAAAAAAAAAAAAAAAAAAAAAAAAAAAAAAAAAAAAAAAAAAAAAAAAAAAAAAAAAAAAAAAAAAAAAAAAAAAAAAAAAAAAAAAAAAAAAAAAAAAAAAAAAAAAAAAAAAAAAAAAAAAAAAAAAAAAAAAAAAAAAAAAAAAAAAAAAAAAAAAAAAAAAAAAAAAAAAAAAAAAAAAAAAAAAAAAAAAAAAAAAAAAAAAAAAAAAAAAAAAAAAAAAAAAAAAAAAAAAAAAAAAAAAAAAAAAAAAAAAAAAAAAAAAAAAAAAAAAAAAAAAAAAAAAAAAAAAAAAAAAAAAAAAAAAAAAAAAAAAAAAAAAAAAAAAAAAAAAAAAAAAAAAAAAAAAAAAAAAAAAAAAAAAAAAAAAAAAAAAAAAAAAAAAAAAAAAAAAAAAAAAAAAAAAAAAAAAAAAAAAAAAAAAAAAAAAAAAAAAAAAAAAAAAAAAAAAAAAAAAAAAAAAAAAAAAAAAAAAAAAAAAAAAAAAAAAAAAAAAAAAAAAAAAAAAAAAAAAAAAAAAAAAAAAAAAAAAAAAAAAAAAAAAAAAAAAAAAAAAAAAAAAAAAAAAAAAAAAAAAAAAAAAAAAAAAAAAAAAAAAAAAAAAAAAAAAAAAAAAAAAAAAAAAAAAAAAAAAAAAAAAAAAAAAAAAAAAAAAAAAAAAAAAAAAAAAAAAAAAAAAAAAAAAAAAAAAAAAAAAAAAAAAAAAAAAAAAAAAAAAAAAAAAAAAAAAAAAAAAAAAAAAAAAAAAAAAAAAAAAAAAAAAAAAAAAAAAAAAAAAAAAAAAAAAAAAAAAAAAAAAAAAAAAAAAAAAAAAAAAAAAAAAAAAAAAAAAAAAAAAAAAAAAAAAAAAAAAAAAAAAAAAAAAAAAAAAAAAAAAAAAAAAAAAAAAAAAAAAAAAAAAAAAAAAAAAAAAAAAAAAAAAAAAAAAAAAAAAAAAAAAAAAAAAAAAAAAAAAAAAAAAAAAAAAAAAAAAAAAAAAAAAAAAAAAAAAAAAAAAAAAAAAAAAAAAAAAAAAAAAAAAAAAAAAAAAAAAAAAAAAAAAAAAAAAAAAAAAAAAAAAAAAAAAAAAAAAAAAAAAAAAAAAAAAAAAAAAAAAAAAAAAAAAAAAAAAAAAAAAAAAAAAAAAAAAAAAAAAAAAAAAAAAAAAAAAAAAAAAAAAAAAAAAAAAAAAAAAAAAAAAAAAAAAAAAAAAAAAAAAAAAAAAAAAAAAAAAAAAAAAAAAAAAAAAAAAAAAAAAAAAAAAAAAAAAAAAAAAAAAAAAAAAAAAAAAAAAAAAAAAAAAAAAAAAAAAAAAAAAAAAAAAAAAAAAAAAAAAAAAAAAAAAAAAAAAAAAAAAAAAAAAAAAAAAAAAAAAAAAAAAAAAAAAAAAAAAAAAAAAAAAAAAAAAAAAAAAAAAAAAAAAAAAAAAAAAAAAAAAAAAAAAAAAAAAAAAAAAAAAAAAAAAAAAAAAAAAAAAAAAAAAAAAAAAAAAAAAAAAAAAAAAAAAAAAAAAAAAAAAAAAAAAAAAAAAAAAAAAAAAAAAAAAAAAAAAAAAAAAAAAAAAAAAAAAAAAAAAAAAAAAAAAAAAAAAAAAAAAAAAAAAAAAAAAAAAAAAAAAAAAAAAAAAAAAAAAAAAAAAAAAAAAAAAAAAAAAAAAAAAAAAAAAAAAAAAAAAAAAAAAAAAAAAAAAAAAAAAAAAAAAAAAAAAAAAAAAAAAAAAAAAAAAAAAAAAAAAAAAAAAAAAAAAAAAAAAAAAAAAAAAAAAAAAAAAAAAAAAAAAAAAAAAAAAAAAAAAAAAAAAAAAAAAAAAAAAAAAAAAAAAAAAAAAAAAAAAAAAAAAAAAAAAAAAAAAAAAAAAAAAAAAAAAAAAAAAAAAAAAAAAAAAAAAAAAAAAAAAAAAAAAAAAAAAAAAAAAAAAAAAAAAAAAAAAAAAAAAAAAAAAAAAAAAAAAAAAAAAAAAAAAAAAAAAAAAAAAAAAAAAAAAAAAAAAAAAAAAAAAAAAAAAAAAAAAAAAAAAAAAAAAAAAAAAAAAAAAAAAAAAAAAAAAAAAAAAAAAAAAAAAAAAAAAAAAAAAAAAAAAAAAAAAAAAAAAAAAAAAAAAAAAAAAAAAAAAAAAAAAAAAAAAAAAAAAAAAAAAAAAAAAAAAAAAAAAAAAAAAAAAAAAAAAAAAAAAAAAAAAAAAAAAAAAAAAAAAAAAAAAAAAAAAAAAAAAAAAAAAAAAAAAAAAAAAAAAAAAAAAAAAAAAAAAAAAAAAAAAAAAAAAAAAAAAAAAAAAAAAAAAAAAAAAAAAAAAAAAAAAAAAAAAAAAAAAAAAAAAAAAAAAAAAAAAAAAAAAAAAAAAAAAAAAAAAAAAAAAAAAAAAAAAAAAAAAAAAAAAAAAAAAAAAAAAAAAAAAAAAAAAAAAAAAAAAAAAAAAAAAAAAAAAAAAAAAAAAAAAAAAAAAAAAAAAAAAAAAAAAAAAAAAAAAAAAAAAAAAAAAAAAAAAAAAAAAAAAAAAAAAAAAAAAAAAAAAAAAAAAAAAAAAAAAAAAAAAAAAAAAAAAAAAAAAAAAAAAAAAAAAAAAAAAAAAAAAAAAAAAAAAAAAAAAAAAAAAAAAAAAAAAAAAAAAAAAAAAAAAAAAAAAAAAAAAAAAAAAAAAAAAAAAAAAAAAAAAAAAAAAAAAAAAAAAAAAAAAAAAAAAAAAAAAAAAAAAAAAAAAAAAAAAAAAAAAAAAAAAAAAAAAAAAAAAAAAAAAAAAAAAAAAAAAAAAAAAAAAAAAAAAAAAAAAAAAAAAAAAAAAAAAAAAAAAAAAAAAAAAAAAAAAAAAAAAAAAAAAAAAAAAAAAAAAAAAAAAAAAAAAAAAAAAAAAAAAAAAAAAAAAAAAAAAAAAAAAAAAAAAAAAAAAAAAAAAAAAAAAAAAAAAAAAAAAAAAAAAAAAAAAAAAAAAAAAAAAAAAAAAAAAAAAAAAAAAAAAAAAAAAAAAAAAAAAAAAAAAAAAAAAAAAAAAAAAAAAAAAAAAAAAAAAAAAAAAAAAAAAAAAAAAAAAAAAAAAAAAAAAAAAAAAAAAAAAAAAAAAAAAAAAAAAAAAAAAAAAAAAAAAAAAAAAAAAAAAAAAAAAAAAAAAAAAAAAAAAAAAAAAAAAAAAAAAAAAAAAAAAAAAAAAAAAAAAAAAAAAAAAAAAAAAAAAAAAAAAAAAAAAAAAAAAAAAAAAAAAAAAAAAAAAAAAAAAAAAAAAAAAAAAAAAAAAAAAAAAAAAAAAAAAAAAAAAAAAAAAAAAAAAAAAAAAAAAAAAAAAAAAAAAAAAAAAAAAAAAAAAAAAAAAAAAAAAAAAAAAAAAAAAAAAAAAAAAAAAAAAAAAAAAAAAAAAAAAAAAAAAAAAAAAAAAAAAAAAAAAAAAAAAAAAAAAAAAAAAAAAAAAAAAAAAAAAAAAAAAAAAAAAAAAAAAAAAAAAAAAAAAAAAAAAAAAAAAAAAAAAAAAAAAAAAAAAAAAAAAAAAAAAAAAAAAAAAAAAAAAAAAAAAAAAAAAAAAAAAAAAAAAAAAAAAAAAAAAAAAAAAAAAAAAAAAAAAAAAAAAAAAAAAAAAAAAAAAAAAAAAAAAAAAAAAAAAAAAAAAAAAAAAAAAAAAAAAAAAAAAAAAAAAAAAAAAAAAAAAAAAAAAAAAAAAAAAAAAAAAAAAAAAAAAAAAAAAAAAAAAAAAAAAAAAAAAAAAAAAAAAAAAAAAAAAAAAAAAAAAAAAAAAAAAAAAAAAAAAAAAAAAAAAAAAAAAAAAAAAAAAAAAAAAAAAAAAAAAAAAAAAAAAAAAAAAAAAAAAAAAAAAAAAAAAAAAAAAAAAAAAAAAAAAAAAAAAAAAAAAAAAAAAAAAAAAAAAAAAAAAAAAAAAAAAAAAAAAAAAAAAAAAAAAAAAAAAAAAAAAAAAAAAAAAAAAAAAAAAAAAAAAAAAAAAAAAAAAAAAAAAAAAAAAAAAAAAAAAAAAAAAAAAAAAAAAAAAAAAAAAAAAAAAAAAAAAAAAAAAAAAAAAAAAAAAAAAAAAAAAAAAAAAAAAAAAAAAAAAAAAAAAAAAAAAAAAAAAAAAAAAAAAAAAAAAAAAAAAAAAAAAAAAAAAAAAAAAAAAAAAAAAAAAAAAAAAAAAAAAAAAAAAAAAAAAAAAAAAAAAAAAAAAAAAAAAAAAAAAAAAAAAAAAAAAAAAAAAAAAAAAAAAAAAAAAAAAAAAAAAAAAAAAAAAAAAAAAAAAAAAAAAAAAAAAAAAAAAAAAAAAAAAAAAAAAAAAAAAAAAAAAAAAAAAAAAAAAAAAAAAAAAAAAAAAAAAAAAAAAAAAAAAAAAAAAAAAAAAAAAAAAAAAAAAAAAAAAAAAAAAAAAAAAAAAAAAAAAAAAAAAAAAAAAAAAAAAAAAAAAAAAAAAAAAAAAAAAAAAAAAAAAAAAAAAAAAAAAAAAAAAAAAAAAAAAAAAAAAAAAAAAAAAAAAAAAAAAAAAAAAAAAAAAAAAAAAAAAAAAAAAAAAAAAAAAAAAAAAAAAAAAAAAAAAAAAAAAAAAAAAAAAAAAAAAAAAAAAAAAAAAAAAAAAAAAAAAAAAAAAAAAAAAAAAAAAAAAAAAAAAAAAAAAAAAAAAAAAAAAAAAAAAAAAAAAAAAAAAAAAAAAAAAAAAAAAAAAAAAAAAAAAAAAAAAAAAAAAAAAAAAAAAAAAAAAAAAAAAAAAAAAAAAAAAAAAAAAAAAAAAAAAAAAAAAAAAAAAAAAAAAAAAAAAAAAAAAAAAAAAAAAAAAAAAAAAAAAAAAAAAAAAAAAAAAAAAAAAAAAAAAAAAAAAAAAAAAAAAAAAAAAAAAAAAAAAAAAAAAAAAAAAAAAAAAAAAAAAAAAAAAAAAAAAAAAAAAAAAAAAAAAAAAAAAAAAAAAAAAAAAAAAAAAAAAAAAAAAAAAAAAAAAAAAAAAAAAAAAAAAAAAAAAAAAAAAAAAAAAAAAAAAAAAAAAAAAAAAAAAAAAAAAAAAAAAAAAAAAAAAAAAAAAAAAAAAAAAAAAAAAAAAAAAAAAAAAAAAAAAAAAAAAAAAAAAAAAAAAAAAAAAAAAAAAAAAAAAAAAAAAAAAAAAAAAAAAAAAAAAAAAAAAAAAAAAAAAAAAAAAAAAAAAAAAAAAAAAAAAAAAAAAAAAAAAAAAAAAAAAAAAAAAAAAAAAAAAAAAAAAAAAAAAAAAAAAAAAAAAAAAAAAAAAAAAAAAAAAAAAAAAAAAAAAAAAAAAAAAAAAAAAAAAAAAAAAAAAAAAAAAAAAAAAAAAAAAAAAAAAAAAAAAAAAAAAAAAAAAAAAAAAAAAAAAAAAAAAAAAAAAAAAAAAAAAAAAAAAAAAAAAAAAAAAAAAAAAAAAAAAAAAAAAAAAAAAAAAAAAAAAAAAAAAAAAAAAAAAAAAAAAAAAAAAAAAAAAAAAAAAAAAAAAAAAAAAAAAAAAAAAAAAAAAAAAAAAAAAAAAAAAAAAAAAAAAAAAAAAAAAAAAAAAAAAAAAAAAAAAAAAAAAAAAAAAAAAAAAAAAAAAAAAAAAAAAAAAAAAAAAAAAAAAAAAAAAAAAAAAAAAAAAAAAAAAAAAAAAAAAAAAAAAAAAAAAAAAAAAAAAAAAAAAAAAAAAAAAAAAAAAAAAAAAAAAAAAAAAAAAAAAAAAAAAAAAAAAAAAAAAAAAAAAAAAAAAAAAAAAAAAAAAAAAAAAAAAAAAAAAAAAAAAAAAAAAAAAAAAAAAAAAAAAAAAAAAAAAAAAAAAAAAAAAAAAAAAAAAAAAAAAAAAAAAAAAAAAAAAAAAAAAAAAAAAAAAAAAAAAAAAAAAAAAAAAAAAAAAAAAAAAAAAAAAAAAAAAAAAAAAAAAAAAAAAAAAAAAAAAAAAAAAAAAAAAAAAAAAAAAAAAAAAAAAAAAAAAAAAAAAAAAAAAAAAAAAAAAAAAAAAAAAAAAAAAAAAAAAAAAAAAAAAAAAAAAAAAAAAAAAAAAAAAAAAAAAAAAAAAAAAAAAAAAAAAAAAAAAAAAAAAAAAAAAAAAAAAAAAAAAAAAAAAAAAAAAAAAAAAAAAAAAAAAAAAAAAAAAAAAAAAAAAAAAAAAAAAAAAAAAAAAAAAAAAAAAAAAAAAAAAAAAAAAAAAAAAAAAAAAAAAAAAAAAAAAAAAAAAAAAAAAAAAAAAAAAAAAAAAAAAAAAAAAAAAAAAAAAAAAAAAAAAAAAAAAAAAAAAAAAAAAAAAAAAAAAAAAAAAAAAAAAAAAAAAAAAAAAAAAAAAAAAAAAAAAAAAAAAAAAAAAAAAAAAAAAAAAAAAAAAAAAAAAAAAAAAAAAAAAAAAAAAAAAAAAAAAAAAAAAAAAAAAAAAAAAAAAAAAAAAAAAAAAAAAAAAAAAAAAAAAAAAAAAAAAAAAAAAAAAAAAAAAAAAAAAAAAAAAAAAAAAAAAAAAAAAAAAAAAAAAAAAAAAAAAAAAAAAAAAAAAAAAAAAAAAAAAAAAAAAAAAAAAAAAAAAAAAAAAAAAAAAAAAAAAAAAAAAAAAAAAAAAAAAAAAAAAAAAAAAAAAAAAAAAAAAAAAAAAAAAAAAAAAAAAAAAAAAAAAAAAAAAAAAAAAAAAAAAAAAAAAAAAAAAAAAAAAAAAAAAAAAAAAAAAAAAAAAAAAAAAAAAAAAAAAAAAAAAAAAAAAAAAAAAAAAAAAAAAAAAAAAAAAAAAAAAAAAAAAAAAAAAAAAAAAAAAAAAAAAAAAAAAAAAAAAAAAAAAAAAAAAAAAAAAAAAAAAAAAAAAAAAAAAAAAAAAAAAAAAAAAAAAAAAAAAAAAAAAAAAAAAAAAAAAAAAAAAAAAAAAAAAAAAAAAAAAAAAAAAAAAAAAAAAAAAAAAAAAAAAAAAAAAAAAAAAAAAAAAAAAAAAAAAAAAAAAAAAAAAAAAAAAAAAAAAAAAAAAAAAAAAAAAAAAAAAAAAAAAAAAAAAAAAAAAAAAAAAAAAAAAAAAAAAAAAAAAAAAAAAAAAAAAAAAAAAAAAAAAAAAAAAAAAAAAAAAAAAAAAAAAAAAAAAAAAAAAAAAAAAAAAAAAAAAAAAAAAAAAAAAAAAAAAAAAAAAAAAAAAAAAAAAAAAAAAAAAAAAAAAAAAAAAAAAAAAAAAAAAAAAAAAAAAAAAAAAAAAAAAAAAAAAAAAAAAAAAAAAAAAAAAAAAAAAAAAAAAAAAAAAAAAAAAAAAAAAAAAAAAAAAAAAAAAAAAAAAAAAAAAAAAAAAAAAAAAAAAAAAAAAAAAAAAAAAAAAAAAAAAAAAAAAAAAAAAAAAAAAAAAAAAAAAAAAAAAAAAAAAAAAAAAAAAAAAAAAAAAAAAAAAAAAAAAAAAAAAAAAAAAAAAAAAAAAAAAAAAAAAAAAAAAAAAAAAAAAAAAAAAAAAAAAAAAAAAAAAAAAAAAAAAAAAAAAAAAAAAAAAAAAAAAAAAAAAAAAAAAAAAAAAAAAAAAAAAAAAAAAAAAAAAAAAAAAAAAAAAAAAAAAAAAAAAAAAAAAAAAAAAAAAAAAAAAAAAAAAAAAAAAAAAAAAAAAAAAAAAAAAAAAAAAAAAAAAAAAAAAAAAAAAAAAAAAAAAAAAAAAAAAAAAAAAAAAAAAAAAAAAAAAAAAAAAAAAAAAAAAAAAAAAAAAAAAAAAAAAAAAAAAAAAAAAAAAAAAAAAAAAAAAAAAAAAAAAAAAAAAAAAAAAAAAAAAAAAAAAAAAAAAAAAAAAAAAAAAAAAAAAAAAAAAAAAAAAAAAAAAAAAAAAAAAAAAAAAAAAAAAAAAAAAAAAAAAAAAAAAAAAAAAAAAAAAAAAAAAAAAAAAAAAAAAAAAAAAAAAAAAAAAAAAAAAAAAAAAAAAAAAAAAAAAAAAAAAAAAAAAAAAAAAAAAAAAAAAAAAAAAAAAAAAAAAAAAAAAAAAAAAAAAAAAAAAAAAAAAAAAAAAAAAAAAAAAAAAAAAAAAAAAAAAAAAAAAAAAAAAAAAAAAAAAAAAAAAAAAAAAAAAAAAAAAAAAAAAAAAAAAAAAAAAAAAAAAAAAAAAAAAAAAAAAAAAAAAAAAAAAAAAAAAAAAAAAAAAAAAAAAAAAAAAAAAAAAAAAAAAAAAAAAAAAAAAAAAAAAAAAAAAAAAAAAAAAAAAAAAAAAAAAAAAAAAAAAAAAAAAAAAAAAAAAAAAAAAAAAAAAAAAAAAAAAAAAAAAAAAAAAAAAAAAAAAAAAAAAAAAAAAAAAAAAAAAAAAAAAAAAAAAAAAAAAAAAAAAAAAAAAAAAAAAAAAAAAAAAAAAAAAAAAAAAAAAAAAAAAAAAAAAAAAAAAAAAAAAAAAAAAAAAAAAAAAAAAAAAAAAAAAAAAAAAAAAAAAAAAAAAAAAAAAAAAAAAAAAAAAAAAAAAAAAAAAAAAAAAAAAAAAAAAAAAAAAAAAAAAAAAAAAAAAAAAAAAAAAAAAAAAAAAAAAAAAAAAAAAAAAAAAAAAAAAAAAAAAAAAAAAAAAAAAAAAAAAAAAAAAAAAAAAAAAAAAAAAAAAAAAAAAAAAAAAAAAAAAAAAAAAAAAAAAAAAAAAAAAAAAAAAAAAAAAAAAAAAAAAAAAAAAAAAAAAAAAAAAAAAAAAAAAAAAAAAAAAAAAAAAAAAAAAAAAAAAAAAAAAAAAAAAAAAAAAAAAAAAAAAAAAAAAAAAAAAAAAAAAAAAAAAAAAAAAAAAAAAAAAAAAAAAAAAAAAAAAAAAAAAAAAAAAAAAAAAAAAAAAAAAAAAAAAAAAAAAAAAAAAAAAAAAAAAAAAAAAAAAAAAAAAAAAAAAAAAAAAAAAAAAAAAAAAAAAAAAAAAAAAAAAAAAAAAAAAAAAAAAAAAAAAAAAAAAAAAAAAAAAAAAAAAAAAAAAAAAAAAAAAAAAAAAAAAAAAAAAAAAAAAAAAAAAAAAAAAAAAAAAAAAAAAAAAAAAAAAAAAAAAAAAAAAAAAAAAAAAAAAAAAAAAAAAAAAAAAAAAAAAAAAAAAAAAAAAAAAAAAAAAAAAAAAAAAAAAAAAAAAAAAAAAAAAAAAAAAAAAAAAAAAAAAAAAAAAAAAAAAAAAAAAAAAAAAAAAAAAAAAAAAAAAAAAAAAAAAAAAAAAAAAAAAAAAAAAAAAAAAAAAAAAAAAAAAAAAAAAAAAAAAAAAAAAAAAAAAAAAAAAAAAAAAAAAAAAAAAAAAAAAAAAAAAAAAAAAAAAAAAAAAAAAAAAAAAAAAAAAAAAAAAAAAAAAAAAAAAAAAAAAAAAAAAAAAAAAAAAAAAAAAAAAAAAAAAAAAAAAAAAAAAAAAAAAAAAAAAAAAAAAAAAAAAAAAAAAAAAAAAAAAAAAAAAAAAAAAAAAAAAAAAAAAAAAAAAAAAAAAAAAAAAAAAAAAAAAAAAAAAAAAAAAAAAAAAAAAAAAAAAAAAAAAAAAAAAAAAAAAAAAAAAAAAAAAAAAAAAAAAAAAAAAAAAAAAAAAAAAAAAAAAAAAAAAAAAAAAAAAAAAAAAAAAAAAAAAAAAAAAAAAAAAAAAAAAAAAAAAAAAAAAAAAAAAAAAAAAAAAAAAAAAAAAAAAAAAAAAAAAAAAAAAAAAAAAAAAAAAAAAAAAAAAAAAAAAAAAAAAAAAAAAAAAAAAAAAAAAAAAAAAAAAAAAAAAAAAAAAAAAAAAAAAAAAAAAAAAAAAAAAAAAAAAAAAAAAAAAAAAAAAAAAAAAAAAAAAAAAAAAAAAAAAAAAAAAAAAAAAAAAAAAAAAAAAAAAAAAAAAAAAAAAAAAAAAAAAAAAAAAAAAAAAAAAAAAAAAAAAAAAAAAAAAAAAAAAAAAAAAAAAAAAAAAAAAAAAAAAAAAAAAAAAAAAAAAAAAAAAAAAAAAAAAAAAAAAAAAAAAAAAAAAAAAAAAAAAAAAAAAAAAAAAAAAAAAAAAAAAAAAAAAAAAAAAAAAAAAAAAAAAAAAAAAAAAAAAAAAAAAAAAAAAAAAAAAAAAAAAAAAAAAAAAAAAAAAAAAAAAAAAAAAAAAAAAAAAAAAAAAAAAAAAAAAAAAAAAAAAAAAAAAAAAAAAAAAAAAAAAAAAAAAAAAAAAAAAAAAAAAAAAAAAAAAAAAAAAAAAAAAAAAAAAAAAAAAAAAAAAAAAAAAAAAAAAAAAAAAAAAAAAAAAAAAAAAAAAAAAAAAAAAAAAAAAAAAAAAAAAAAAAAAAAAAAAAAAAAAAAAAAAAAAAAAAAAAAAAAAAAAAAAAAAAAAAAAAAAAAAAAAAAAAAAAAAAAAAAAAAAAAAAAAAAAAAAAAAAAAAAAAAAAAAAAAAAAAAAAAAAAAAAAAAAAAAAAAAAAAAAAAAAAAAAAAAAAAAAAAAAAAAAAAAAAAAAAAAAAAAAAAAAAAAAAAAAAAAAAAAAAAAAAAAAAAAAAAAAAAAAAAAAAAAAAAAAAAAAAAAAAAAAAAAAAAAAAAAAAAAAAAAAAAAAAAAAAAAAAAAAAAAAAAAAAAAAAAAAAAAAAAAAAAAAAAAAAAAAAAAAAAAAAAAAAAAAAAAAAAAAAAAAAAAAAAAAAAAAAAAAAAAAAAAAAAAAAAAAAAAAAAAAAAAAAAAAAAAAAAAAAAAAAAAAAAAAAAAAAAAAAAAAAAAAAAAAAAAAAAAAAAAAAAAAAAAAAAAAAAAAAAAAAAAAAAAAAAAAAAAAAAAAAAAAAAAAAAAAAAAAAAAAAAAAAAAAAAAAAAAAAAAAAAAAAAAAAAAAAAAAAAAAAAAAAAAAAAAAAAAAAAAAAAAAAAAAAAAAAAAAAAAAAAAAAAAAAAAAAAAAAAAAAAAAAAAAAAAAAAAAAAAAAAAAAAAAAAAAAAAAAAAAAAAAAAAAAAAAAAAAAAAAAAAAAAAAAAAAAAAAAAAAAAAAAAAAAAAAAAAAAAAAAAAAAAAAAAAAAAAAAAAAAAAAAAAAAAAAAAAAAAAAAAAAAAAAAAAAAAAAAAAAAAAAAAAAAAAAAAAAAAAAAAAAAAAAAAAAAAAAAAAAAAAAAAAAAAAAAAAAAAAAAAAAAAAAAAAAAAAAAAAAAAAAAAAAAAAAAAAAAAAAAAAAAAAAAAAAAAAAAAAAAAAAAAAAAAAAAAAAAAAAAAAAAAAAAAAAAAAAAAAAAAAAAAAAAAAAAAAAAAAAAAAAAAAAAAAAAAAAAAAAAAAAAAAAAAAAAAAAAAAAAAAAAAAAAAAAAAAAAAAAAAAAAAAAAAAAAAAAAAAAAAAAAAAAAAAAAAAAAAAAAAAAAAAAAAAAAAAAAAAAAAAAAAAAAAAAAAAAAAAAAAAAAAAAAAAAAAAAAAAAAAAAAAAAAAAAAAAAAAAAAAAAAAAAAAAAAAAAAAAAAAAAAAAAAAAAAAAAAAAAAAAAAAAAAAAAAAAAAAAAAAAAAAAAAAAAAAAAAAAAAAAAAAAAAAAAAAAAAAAAAAAAAAAAAAAAAAAAAAAAAAAAAAAAAAAAAAAAAAAAAAAAAAAAAAAAAAAAAAAAAAAAAAAAAAAAAAAAAAAAAAAAAAAAAAAAAAAAAAAAAAAAAAAAAAAAAAAAAAAAAAAAAAAAAAAAAAAAAAAAAAAAAAAAAAAAAAAAAAAAAAAAAAAAAAAAAAAAAAAAAAAAAAAAAAAAAAAAAAAAAAAAAAAAAAAAAAAAAAAAAAAAAAAAAAAAAAAAAAAAAAAAAAAAAAAAAAAAAAAAAAAAAAAAAAAAAAAAAAAAAAAAAAAAAAAAAAAAAAAAAAAAAAAAAAAAAAAAAAAAAAAAAAAAAAAAAAAAAAAAAAAAAAAAAAAAAAAAAAAAAAAAAAAAAAAAAAAAAAAAAAAAAAAAAAAAAAAAAAAAAAAAAAAAAAAAAAAAAAAAAAAAAAAAAAAAAAAAAAAAAAAAAAAAAAAAAAAAAAAAAAAAAAAAAAAAAAAAAAAAAAAAAAAAAAAAAAAAAAAAAAAAAAAAAAAAAAAAAAAAAAAAAAAAAAAAAAAAAAAAAAAAAAAAAAAAAAAAAAAAAAAAAAAAAAAAAAAAAAAAAAAAAAAAAAAAAAAAAAAAAAAAAAAAAAAAAAAAAAAAAAAAAAAAAAAAAAAAAAAAAAAAAAAAAAAAAAAAAAAAAAAAAAAAAAAAAAAAAAAAAAAAAAAAAAAAAAAAAAAAAAAAAAAAAAAAAAAAAAAAAAAAAAAAAAAAAAAAAAAAAAAAAAAAAAAAAAAAAAAAAAAAAAAAAAAAAAAAAAAAAAAAAAAAAAAAAAAAAAAAAAAAAAAAAAAAAAAAAAAAAAAAAAAAAAAAAAAAAAAAAAAAAAAAAAAAAAAAAAAAAAAAAAAAAAAAAAAAAAAAAAAAAAAAAAAAAAAAAAAAAAAAAAAAAAAAAAAAAAAAAAAAAAAAAAAAAAAAAAAAAAAAAAAAAAAAAAAAAAAAAAAAAAAAAAAAAAAAAAAAAAAAAAAAAAAAAAAAAAAAAAAAAAAAAAAAAAAAAAAAAAAAAAAAAAAAAAAAAAAAAAAAAAAAAAAAAAAAAAAAAAAAAAAAAAAAAAAAAAAAAAAAAAAAAAAAAAAAAAAAAAAAAAAAAAAAAAAAAAAAAAAAAAAAAAAAAAAAAAAAAAAAAAAAAAAAAAAAAAAAAAAAAAAAAAAAAAAAAAAAAAAAAAAAAAAAAAAAAAAAAAAAAAAAAAAAAAAAAAAAAAAAAAAAAAAAAAAAAAAAAAAAAAAAAAAAAAAAAAAAAAAAAAAAAAAAAAAAAAAAAAAAAAAAAAAAAAAAAAAAAAAAAAAAAAAAAAAAAAAAAAAAAAAAAAAAAAAAAAAAAAAAAAAAAAAAAAAAAAAAAAAAAAAAAAAAAAAAAAAAAAAAAAAAAAAAAAAAAAAAAAAAAAAAAAAAAAAAAAAAAAAAAAAAAAAAAAAAAAAAAAAAAAAAAAAAAAAAAAAAAAAAAAAAAAAAAAAAAAAAAAAAAAAAAAAAAAAAAAAAAAAAAAAAAAAAAAAAAAAAAAAAAAAAAAAAAAAAAAAAAAAAAAAAAAAAAAAAAAAAAAAAAAAAAAAAAAAAAAAAAAAAAAAAAAAAAAAAAAAAAAAAAAAAAAAAAAAAAAAAAAAAAAAAAAAAAAAAAAAAAAAAAAAAAAAAAAAAAAAAAAAAAAAAAAAAAAAAAAAAAAAAAAAAAAAAAAAAAAAAAAAAAAAAAAAAAAAAAAAAAAAAAAAAAAAAAAAAAAAAAAAAAAAAAAAAAAAAAAAAAAAAAAAAAAAAAAAAAAAAAAAAAAAAAAAAAAAAAAAAAAAAAAAAAAAAAAAAAAAAAAAAAAAAAAAAAAAAAAAAAAAAAAAAAAAAAAAAAAAAAAAAAAAAAAAAAAAAAAAAAAAAAAAAAAAAAAAAAAAAAAAAAAAAAAAAAAAAAAAAAAAAAAAAAAAAAAAAAAAAAAAAAAAAAAAAAAAAAAAAAAAAAAAAAAAAAAAAAAAAAAAAAAAAAAAAAAAAAAAAAAAAAAAAAAAAAAAAAAAAAAAAAAAAAAAAAAAAAAAAAAAAAAAAAAAAAAAAAAAAAAAAAAAAAAAAAAAAAAAAAAAAAAAAAAAAAAAAAAAAAAAAAAAAAAAAAAAAAAAAAAAAAAAAAAAAAAAAAAAAAAAAAAAAAAAAAAAAAAAAAAAAAAAAAAAAAAAAAAAAAAAAAAAAAAAAAAAAAAAAAAAAAAAAAAAAAAAAAAAAAAAAAAAAAAAAAAAAAAAAAAAAAAAAAAAAAAAAAAAAAAAAAAAAAAAAAAAAAAAAAAAAAAAAAAAAAAAAAAAAAAAAAAAAAAAAAAAAAAAAAAAAAAAAAAAAAAAAAAAAAAAAAAAAAAAAAAAAAAAAAAAAAAAAAAAAAAAAAAAAAAAAAAAAAAAAAAAAAAAAAAAAAAAAAAAAAAAAAAAAAAAAAAAAAAAAAAAAAAAAAAAAAAAAAAAAAAAAAAAAAAAAAAAAAAAAAAAAAAAAAAAAAAAAAAAAAAAAAAAAAAAAAAAAAAAAAAAAAAAAAAAAAAAAAAAAAAAAAAAAAAAAAAAAAAAAAAAAAAAAAAAAAAAAAAAAAAAAAAAAAAAAAAAAAAAAAAAAAAAAAAAAAAAAAAAAAAAAAAAAAAAAAAAAAAAAAAAAAAAAAAAAAAAAAAAAAAAAAAAAAAAAAAAAAAAAAAAAAAAAAAAAAAAAAAAAAAAAAAAAAAAAAAAAAAAAAAAAAAAAAAAAAAAAAAAAAAAAAAAAAAAAAAAAAAAAAAAAAAAAAAAAAAAAAAAAAAAAAAAAAAAAAAAAAAAAAAAAAAAAAAAAAAAAAAAAAAAAAAAAAAAAAAAAAAAAAAAAAAAAAAAAAAAAAAAAAAAAAAAAAAAAAAAAAAAAAAAAAAAAAAAAAAAAAAAAAAAAAAAAAAAAAAAAAAAAAAAAAAAAAAAAAAAAAAAAAAAAAAAAAAAAAAAAAAAAAAAAAAAAAAAAAAAAAAAAAAAAAAAAAAAAAAAAAAAAAAAAAAAAAAAAAAAAAAAAAAAAAAAAAAAAAAAAAAAAAAAAAAAAAAAAAAAAAAAAAAAAAAAAAAAAAAAAAAAAAAAAAAAAAAAAAAAAAAAAAAAAAAAAAAAAAAAAAAAAAAAAAAAAAAAAAAAAAAAAAAAAAAAAAAAAAAAAAAAAAAAAAAAAAAAAAAAAAAAAAAAAAAAAAAAAAAAAAAAAAAAAAAAAAAAAAAAAAAAAAAAAAAAAAAAAAAAAAAAAAAAAAAAAAAAAAAAAAAAAAAAAAAAAAAAAAAAAAAAAAAAAAAAAAAAAAAAAAAAAAAAAAAAAAAAAAAAAAAAAAAAAAAAAAAAAAAAAAAAAAAAAAAAAAAAAAAAAAAAAAAAAAAAAAAAAAAAAAAAAAAAAAAAAAAAAAAAAAAAAAAAAAAAAAAAAAAAAAAAAAAAAAAAAAAAAAAAAAAAAAAAAAAAAAAAAAAAAAAAAAAAAAAAAAAAAAAAAAAAAAAAAAAAAAAAAAAAAAAAAAAAAAAAAAAAAAAAAAAAAAAAAAAAAAAAAAAAAAAAAAAAAAAAAAAAAAAAAAAAAAAAAAAAAAAAAAAAAAAAAAAAAAAAAAAAAAAAAAAAAAAAAAAAAAAAAAAAAAAAAAAAAAAAAAAAAAAAAAAAAAAAAAAAAAAAAAAAAAAAAAAAAAAAAAAAAAAAAAAAAAAAAAAAAAAAAAAAAAAAAAAAAAAAAAAAAAAAAAAAAAAAAAAAAAAAAAAAAAAAAAAAAAAAAAAAAAAAAAAAAAAAAAAAAAAAAAAAAAAAAAAAAAAAAAAAAAAAAAAAAAAAAAAAAAAAAAAAAAAAAAAAAAAAAAAAAAAAAAAAAAAAAAAAAAAAAAAAAAAAAAAAAAAAAAAAAAAAAAAAAAAAAAAAAAAAAAAAAAAAAAAAAAAAAAAAAAAAAAAAAAAAAAAAAAAAAAAAAAAAAAAAAAAAAAAAAAAAAAAAAAAAAAAAAAAAAAAAAAAAAAAAAAAAAAAAAAAAAAAAAAAAAAAAAAAAAAAAAAAAAAAAAAAAAAAAAAAAAAAAAAAAAAAAAAAAAAAAAAAAAAAAAAAAAAAAAAAAAAAAAAAAAAAAAAAAAAAAAAAAAAAAAAAAAAAAAAAAAAAAAAAAAAAAAAAAAAAAAAAAAAAAAAAAAAAAAAAAAAAAAAAAAAAAAAAAAAAAAAAAAAAAAAAAAAAAAAAAAAAAAAAAAAAAAAAAAAAAAAAAAAAAAAAAAAAAAAAAAAAAAAAAAAAAAAAAAAAAAAAAAAAAAAAAAAAAAAAAAAAAAAAAAAAAAAAAAAAAAAAAAAAAAAAAAAAAAAAAAAAAAAAAAAAAAAAAAAAAAAAAAAAAAAAAAAAAAAAAAAAAAAAAAAAAAAAAAAAAAAAAAAAAAAAAAAAAAAAAAAAAAAAAAAAAAAAAAAAAAAAAAAAAAAAAAAAAAAAAAAAAAAAAAAAAAAAAAAAAAAAAAAAAAAAAAAAAAAAAAAAAAAAAAAAAAAAAAAAAAAAAAAAAAAAAAAAAAAAAAAAAAAAAAAAAAAAAAAAAAAAAAAAAAAAAAAAAAAAAAAAAAAAAAAAAAAAAAAAAAAAAAAAAAAAAAAAAAAAAAAAAAAAAAAAAAAAAAAAAAAAAAAAAAAAAAAAAAAAAAAAAAAAAAAAAAAAAAAAAAAAAAAAAAAAAAAAAAAAAAAAAAAAAAAAAAAAAAAAAAAAAAAAAAAAAAAAAAAAAAAAAAAAAAAAAAAAAAAAAAAAAAAAAAAAAAAAAAAAAAAAAAAAAAAAAAAAAAAAAAAAAAAAAAAAAAAAAAAAAAAAAAAAAAAAAAAAAAAAAAAAAAAAAAAAAAAAAAAAAAAAAAAAAAAAAAAAAAAAAAAAAAAAAAAAAAAAAAAAAAAAAAAAAAAAAAAAAAAAAAAAAAAAAAAAAAAAAAAAAAAAAAAAAAAAAAAAAAAAAAAAAAAAAAAAAAAAAAAAAAAAAAAAAAAAAAAAAAAAAAAAAAAAAAAAAAAAAAAAAAAAAAAAAAAAAAAAAAAAAAAAAAAAAAAAAAAAAAAAAAAAAAAAAAAAAAAAAAAAAAAAAAAAAAAAAAAAAAAAAAAAAAAAAAAAAAAAAAAAAAAAAAAAAAAAAAAAAAAAAAAAAAAAAAAAAAAAAAAAAAAAAAAAAAAAAAAAAAAAAAAAAAAAAAAAAAAAAAAAAAAAAAAAAAAAAAAAAAAAAAAAAAAAAAAAAAAAAAAAAAAAAAAAAAAAAAAAAAAAAAAAAAAAAAAAAAAAAAAAAAAAAAAAAAAAAAAAAAAAAAAAAAAAAAAAAAAAAAAAAAAAAAAAAAAAAAAAAAAAAAAAAAAAAAAAAAAAAAAAAAAAAAAAAAAAAAAAAAAAAAAAAAAAAAAAAAAAAAAAAAAAAAAAAAAAAAAAAAAAAAAAAAAAAAAAAAAAAAAAAAAAAAAAAAAAAAAAAAAAAAAAAAAAAAAAAAAAAAAAAAAAAAAAAAAAAAAAAAAAAAAAAAAAAAAAAAAAAAAAAAAAAAAAAAAAAAAAAAAAAAAAAAAAAAAAAAAAAAAAAAAAAAAAAAAAAAAAAAAAAAAAAAAAAAAAAAAAAAAAAAAAAAAAAAAAAAAAAAAAAAAAAAAAAAAAAAAAAAAAAAAAAAAAAAAAAAAAAAAAAAAAAAAAAAAAAAAAAAAAAAAAAAAAAAAAAAAAAAAAAAAAAAAAAAAAAAAAAAAAAAAAAAAAAAAAAAAAAAAAAAAAAAAAAAAAAAAAAAAAAAAAAAAAAAAAAAAAAAAAAAAAAAAAAAAAAAAAAAAAAAAAAAAAAAAAAAAAAAAAAAAAAAAAAAAAAAAAAAAAAAAAAAAAAAAAAAAAAAAAAAAAAAAAAAAAAAAAAAAAAAAAAAAAAAAAAAAAAAAAAAAAAAAAAAAAAAAAAAAAAAAAAAAAAAAAAAAAAAAAAAAAAAAAAAAAAAAAAAAAAAAAAAAAAAAAAAAAAAAAAAAAAAAAAAAAAAAAAAAAAAAAAAAAAAAAAAAAAAAAAAAAAAAAAAAAAAAAAAAAAAAAAAAAAAAAAAAAAAAAAAAAAAAAAAAAAAAAAAAAAAAAAAAAAAAAAAAAAAAAAAAAAAAAAAAAAAAAAAAAAAAAAAAAAAAAAAAAAAAAAAAAAAAAAAAAAAAAAAAAAAAAAAAAAAAAAAAAAAAAAAAAAAAAAAAAAAAAAAAAAAAAAAAAAAAAAAAAAAAAAAAAAAAAAAAAAAAAAAAAAAAAAAAAAAAAAAAAAAAAAAAAAAAAAAAAAAAAAAAAAAAAAAAAAAAAAAAAAAAAAAAAAAAAAAAAAAAAAAAAAAAAAAAAAAAAAAAAAAAAAAAAAAAAAAAAAAAAAAAAAAAAAAAAAAAAAAAAAAAAAAAAAAAAAAAAAAAAAAAAAAAAAAAAAAAAAAAAAAAAAAAAAAAAAAAAAAAAAAAAAAAAAAAAAAAAAAAAAAAAAAAAAAAAAAAAAAAAAAAAAAAAAAAAAAAAAAAAAAAAAAAAAAAAAAAAAAAAAAAAAAAAAAAAAAAAAAAAAAAAAAAAAAAAAAAAAAAAAAAAAAAAAAAAAAAAAAAAAAAAAAAAAAAAAAAAAAAAAAAAAAAAAAAAAAAAAAAAAAAAAAAAAAAAAAAAAAAAAAAAAAAAAAAAAAAAAAAAAAAAAAAAAAAAAAAAAAAAAAAAAAAAAAAAAAAAAAAAAAAAAAAAAAAAAAAAAAAAAAAAAAAAAAAAAAAAAAAAAAAAAAAAAAAAAAAAAAAAAAAAAAAAAAAAAAAAAAAAAAAAAAAAAAAAAAAAAAAAAAAAAAAAAAAAAAAAAAAAAAAAAAAAAAAAAAAAAAAAAAAAAAAAAAAAAAAAAAAAAAAAAAAAAAAAAAAAAAAAAAAAAAAAAAAAAAAAAAAAAAAAAAAAAAAAAAAAAAAAAAAAAAAAAAAAAAAAAAAAAAAAAAAAAAAAAAAAAAAAAAAAAAAAAAAAAAAAAAAAAAAAAAAAAAAAAAAAAAAAAAAAAAAAAAAAAAAAAAAAAAAAAAAAAAAAAAAAAAAAAAAAAAAAAAAAAAAAAAAAAAAAAAAAAAAAAAAAAAAAAAAAAAAAAAAAAAAAAAAAAAAAAAAAAAAAAAAAAAAAAAAAAAAAAAAAAAAAAAAAAAAAAAAAAAAAAAAAAAAAAAAAAAAAAAAAAAAAAAAAAAAAAAAAAAAAAAAAAAAAAAAAAAAAAAAAAAAAAAAAAAAAAAAAAAAAAAAAAAAAAAAAAAAAAAAAAAAAAAAAAAAAAAAAAAAAAAAAAAAAAAAAAAAAAAAAAAAAAAAAAAAAAAAAAAAAAAAAAAAAAAAAAAAAAAAAAAAAAAAAAAAAAAAAAAAAAAAAAAAAAAAAAAAAAAAAAAAAAAAAAAAAAAAAAAAAAAAAAAAAAAAAAAAAAAAAAAAAAAAAAAAAAAAAAAAAAAAAAAAAAAAAAAAAAAAAAAAAAAAAAAAAAAAAAAAAAAAAAAAAAAAAAAAAAAAAAAAAAAAAAAAAAAAAAAAAAAAAAAAAAAAAAAAAAAAAAAAAAAAAAAAAAAAAAAAAAAAAAAAAAAAAAAAAAAAAAAAAAAAAAAAAAAAAAAAAAAAAAAAAAAAAAAAAAAAAAAAAAAAAAAAAAAAAAAAAAAAAAAAAAAAAAAAAAAAAAAAAAAAAAAAAAAAAAAAAAAAAAAAAAAAAAAAAAAAAAAAAAAAAAAAAAAAAAAAAAAAAAAAAAAAAAAAAAAAAAAAAAAAAAAAAAAAAAAAAAAAAAAAAAAAAAAAAAAAAAAAAAAAAAAAAAAAAAAAAAAAAAAAAAAAAAAAAAAAAAAAAAAAAAAAAAAAAAAAAAAAAAAAAAAAAAAAAAAAAAAAAAAAAAAAAAAAAAAAAAAAAAAAAAAAAAAAAAAAAAAAAAAAAAAAAAAAAAAAAAAAAAAAAAAAAAAAAAAAAAAAAAAAAAAAAAAAAAAAAAAAAAAAAAAAAAAAAAAAAAAAAAAAAAAAAAAAAAAAAAAAAAAAAAAAAAAAAAAAAAAAAAAAAAAAAAAAAAAAAAAAAAAAAAAAAAAAAAAAAAAAAAAAAAAAAAAAAAAAAAAAAAAAAAAAAAAAAAAAAAAAAAAAAAAAAAAAAAAAAAAAAAAAAAAAAAAAAAAAAAAAAAAAAAAAAAAAAAAAAAAAAAAAAAAAAAAAAAAAAAAAAAAAAAAAAAAAAAAAAAAAAAAAAAAAAAAAAAAAAAAAAAAAAAAAAAAAAAAAAAAAAAAAAAAAAAAAAAAAAAAAAAAAAAAAAAAAAAAAAAAAAAAAAAAAAAAAAAAAAAAAAAAAAAAAAAAAAAAAAAAAAAAAAAAAAAAAAAAAAAAAAAAAAAAAAAAAAAAAAAAAAAAAAAAAAAAAAAAAAAAAAAAAAAAAAAAAAAAAAAAAAAAAAAAAAAAAAAAAAAAAAAAAAAAAAAAAAAAAAAAAAAAAAAAAAAAAAAAAAAAAAAAAAAAAAAAAAAAAAAAAAAAAAAAAAAAAAAAAAAAAAAAAAAAAAAAAAAAAAAAAAAAAAAAAAAAAAAAAAAAAAAAAAAAAAAAAAAAAAAAAAAAAAAAAAAAAAAAAAAAAAAAAAAAAAAAAAAAAAAAAAAAAAAAAAAAAAAAAAAAAAAAAAAAAAAAAAAAAAAAAAAAAAAAAAAAAAAAAAAAAAAAAAAAAAAAAAAAAAAAAAAAAAAAAAAAAAAAAAAAAAAAAAAAAAAAAAAAAAAAAAAAAAAAAAAAAAAAAAAAAAAAAAAAAAAAAAAAAAAAAAAAAAAAAAAAAAAAAAAAAAAAAAAAAAAAAAAAAAAAAAAAAAAAAAAAAAAAAAAAAAAAAAAAAAAAAAAAAAAAAAAAAAAAAAAAAAAAAAAAAAAAAAAAAAAAAAAAAAAAAAAAAAAAAAAAAAAAAAAAAAAAAAAAAAAAAAAAAAAAAAAAAAAAAAAAAAAAAAAAAAAAAAAAAAAAAAAAAAAAAAAAAAAAAAAAAAAAAAAAAAAAAAAAAAAAAAAAAAAAAAAAAAAAAAAAAAAAAAAAAAAAAAAAAAAAAAAAAAAAAAAAAAAAAAAAAAAAAAAAAAAAAAAAAAAAAAAAAAAAAAAAAAAAAAAAAAAAAAAAAAAAAAAAAAAAAAAAAAAAAAAAAAAAAAAAAAAAAAAAAAAAAAAAAAAAAAAAAAAAAAAAAAAAAAAAAAAAAAAAAAAAAAAAAAAAAAAAAAAAAAAAAAAAAAAAAAAAAAAAAAAAAAAAAAAAAAAAAAAAAAAAAAAAAAAAAAAAAAAAAAAAAAAAAAAAAAAAAAAAAAAAAAAAAAAAAAAAAAAAAAAAAAAAAAAAAAAAAAAAAAAAAAAAAAAAAAAAAAAAAAAAAAAAAAAAAAAAAAAAAAAAAAAAAAAAAAAAAAAAAAAAAAAAAAAAAAAAAAAAAAAAAAAAAAAAAAAAAAAAAAAAAAAAAAAAAAAAAAAAAAAAAAAAAAAAAAAAAAAAAAAAAAAAAAAAAAAAAAAAAAAAAAAAAAAAAAAAAAAAAAAAAAAAAAAAAAAAAAAAAAAAAAAAAAAAAAAAAAAAAAAAAAAAAAAAAAAAAAAAAAAAAAAAAAAAAAAAAAAAAAAAAAAAAAAAAAAAAAAAAAAAAAAAAAAAAAAAAAAAAAAAAAAAAAAAAAAAAAAAAAAAAAAAAAAAAAAAAAAAAAAAAAAAAAAAAAAAAAAAAAAAAAAAAAAAAAAAAAAAAAAAAAAAAAAAAAAAAAAAAAAAAAAAAAAAAAAAAAAAAAAAAAAAAAAAAAAAAAAAAAAAAAAAAAAAAAAAAAAAAAAAAAAAAAAAAAAAAAAAAAAAAAAAAAAAAAAAAAAAAAAAAAAAAAAAAAAAAAAAAAAAAAAAAAAAAAAAAAAAAAAAAAAAAAAAAAAAAAAAAAAAAAAAAAAAAAAAAAAAAAAAAAAAAAAAAAAAAAAAAAAAAAAAAAAAAAAAAAAAAAAAAAAAAAAAAAAAAAAAAAAAAAAAAAAAAAAAAAAAAAAAAAAAAAAAAAAAAAAAAAAAAAAAAAAAAAAAAAAAAAAAAAAAAAAAAAAAAAAAAAAAAAAAAAAAAAAAAAAAAAAAAAAAAAAAAAAAAAAAAAAAAAAAAAAAAAAAAAAAAAAAAAAAAAAAAAAAAAAAAAAAAAAAAAAAAAAAAAAAAAAAAAAAAAAAAAAAAAAAAAAAAAAAAAAAAAAAAAAAAAAAAAAAAAAAAAAAAAAAAAAAAAAAAAAAAAAAAAAAAAAAAAAAAAAAAAAAAAAAAAAAAAAAAAAAAAAAAAAAAAAAAAAAAAAAAAAAAAAAAAAAAAAAAAAAAAAAAAAAAAAAAAAAAAAAAAAAAAAAAAAAAAAAAAAAAAAAAAAAAAAAAAAAAAAAAAAAAAAAAAAAAAAAAAAAAAAAAAAAAAAAAAAAAAAAAAAAAAAAAAAAAAAAAAAAAAAAAAAAAAAAAAAAAAAAAAAAAAAAAAAAAAAAAAAAAAAAAAAAAAAAAAAAAAAAAAAAAAAAAAAAAAAAAAAAAAAAAAAAAAAAAAAAAAAAAAAAAAAAAAAAAAAAAAAAAAAAAAAAAAAAAAAAAAAAAAAAAAAAAAAAAAAAAAAAAAAAAAAAAAAAAAAAAAAAAAAAAAAAAAAAAAAAAAAAAAAAAAAAAAAAAAAAAAAAAAAAAAAAAAAAAAAAAAAAAAAAAAAAAAAAAAAAAAAAAAAAAAAAAAAAAAAAAAAAAAAAAAAAAAAAAAAAAAAAAAAAAAAAAAAAAAAAAAAAAAAAAAAAAAAAAAAAAAAAAAAAAAAAAAAAAAAAAAAAAAAAAAAAAAAAAAAAAAAAAAAAAAAAAAAAAAAAAAAAAAAAAAAAAAAAAAAAAAAAAAAAAAAAAAAAAAAAAAAAAAAAAAAAAAAAAAAAAAAAAAAAAAAAAAAAAAAAAAAAAAAAAAAAAAAAAAAAAAAAAAAAAAAAAAAAAAAAAAAAAAAAAAAAAAAAAAAAAAAAAAAAAAAAAAAAAAAAAAAAAAAAAAAAAAAAAAAAAAAAAAAAAAAAAAAAAAAAAAAAAAAAAAAAAAAAAAAAAAAAAAAAAAAAAAAAAAAAAAAAAAAAAAAAAAAAAAAAAAAAAAAAAAAAAAAAAAAAAAAAAAAAAAAAAAAAAAAAAAAAAAAAAAAAAAAAAAAAAAAAAAAAAAAAAAAAAAAAAAAAAAAAAAAAAAAAAAAAAAAAAAAAAAAAAAAAAAAAAAAAAAAAAAAAAAAAAAAAAAAAAAAAAAAAAAAAAAAAAAAAAAAAAAAAAAAAAAAAAAAAAAAAAAAAAAAAAAAAAAAAAAAAAAAAAAAAAAAAAAAAAAAAAAAAAAAAAAAAAAAAAAAAAAAAAAAAAAAAAAAAAAAAAAAAAAAAAAAAAAAAAAAAAAAAAAAAAAAAAAAAAAAAAAAAAAAAAAAAAAAAAAAAAAAAAAAAAAAAAAAAAAAAAAAAAAAAAAAAAAAAAAAAAAAAAAAAAAAAAAAAAAAAAAAAAAAAAAAAAAAAAAAAAAAAAAAAAAAAAAAAAAAAAAAAAAAAAAAAAAAAAAAAAAAAAAAAAAAAAAAAAAAAAAAAAAAAAAAAAAAAAAAAAAAAAAAAAAAAAAAAAAAAAAAAAAAAAAAAAAAAAAAAAAAAAAAAAAAAAAAAAAAAAAAAAAAAAAAAAAAAAAAAAAAAAAAAAAAAAAAAAAAAAAAAAAAAAAAAAAAAAAAAAAAAAAAAAAAAAAAAAAAAAAAAAAAAAAAAAAAAAAAAAAAAAAAAAAAAAAAAAAAAAAAAAAAAAAAAAAAAAAAAAAAAAAAAAAAAAAAAAAAAAAAAAAAAAAAAAAAAAAAAAAAAAAAAAAAAAAAAAAAAAAAAAAAAAAAAAAAAAAAAAAAAAAAAAAAAAAAAAAAAAAAAAAAAAAAAAAAAAAAAAAAAAAAAAAAAAAAAAAAAAAAAAAAAAAAAAAAAAAAAAAAAAAAAAAAAAAAAAAAAAAAAAAAAAAAAAAAAAAAAAAAAAAAAAAAAAAAAAAAAAAAAAAAAAAAAAAAAAAAAAAAAAAAAAAAAAAAAAAAAAAAAAAAAAAAAAAAAAAAAAAAAAAAAAAAAAAAAAAAAAAAAAAAAAAAAAAAAAAAAAAAAAAAAAAAAAAAAAAAAAAAAAAAAAAAAAAAAAAAAAAAAAAAAAAAAAAAAAAAAAAAAAAAAAAAAAAAAAAAAAAAAAAAAAAAAAAAAAAAAAAAAAAAAAAAAAAAAAAAAAAAAAAAAAAAAAAAAAAAAAAAAAAAAAAAAAAAAAAAAAAAAAAAAAAAAAAAAAAAAAAAAAAAAAAAAAAAAAAAAAAAAAAAAAAAAAAAAAAAAAAAAAAAAAAAAAAAAAAAAAAAAAAAAAAAAAAAAAAAAAAAAAAAAAAAAAAAAAAAAAAAAAAAAAAAAAAAAAAAAAAAAAAAAAAAAAAAAAAAAAAAAAAAAAAAAAAAAAAAAAAAAAAAAAAAAAAAAAAAAAAAAAAAAAAAAAAAAAAAAAAAAAAAAAAAAAAAAAAAAAAAAAAAAAAAAAAAAAAAAAAAAAAAAAAAAAAAAAAAAAAAAAAAAAAAAAAAAAAAAAAAAAAAAAAAAAAAAAAAAAAAAAAAAAAAAAAAAAAAAAAAAAAAAAAAAAAAAAAAAAAAAAAAAAAAAAAAAAAAAAAAAAAAAAAAAAAAAAAAAAAAAAAAAAAAAAAAAAAAAAAAAAAAAAAAAAAAAAAAAAAAAAAAAAAAAAAAAAAAAAAAAAAAAAAAAAAAAAAAAAAAAAAAAAAAAAAAAAAAAAAAAAAAAAAAAAAAAAAAAAAAAAAAAAAAAAAAAAAAAAAAAAAAAAAAAAAAAAAAAAAAAAAAAAAAAAAAAAAAAAAAAAAAAAAAAAAAAAAAAAAAAAAAAAAAAAAAAAAAAAAAAAAAAAAAAAAAAAAAAAAAAAAAAAAAAAAAAAAAAAAAAAAAAAAAAAAAAAAAAAAAAAAAAAAAAAAAAAAAAAAAAAAAAAAAAAAAAAAAAAAAAAAAAAAAAAAAAAAAAAAAAAAAAAAAAAAAAAAAAAAAAAAAAAAAAAAAAAAAAAAAAAAAAAAAAAAAAAAAAAAAAAAAAAAAAAAAAAAAAAAAAAAAAAAAAAAAAAAAAAAAAAAAAAAAAAAAAAAAAAAAAAAAAAAAAAAAAAAAAAAAAAAAAAAAAAAAAAAAAAAAAAAAAAAAAAAAAAAAAAAAAAAAAAAAAAAAAAAAAAAAAAAAAAAAAAAAAAAAAAAAAAAAAAAAAAAAAAAAAAAAAAAAAAAAAAAAAAAAAAAAAAAAAAAAAAAAAAAAAAAAAAAAAAAAAAAAAAAAAAAAAAAAAAAAAAAAAAAAAAAAAAAAAAAAAAAAAAAAAAAAAAAAAAAAAAAAAAAAAAAAAAAAAAAAAAAAAAAAAAAAAAAAAAAAAAAAAAAAAAAAAAAAAAAAAAAAAAAAAAAAAAAAAAAAAAAAAAAAAAAAAAAAAAAAAAAAAAAAAAAAAAAAAAAAAAAAAAAAAAAAAAAAAAAAAAAAAAAAAAAAAAAAAAAAAAAAAAAAAAAAAAAAAAAAAAAAAAAAAAAAAAAAAAAAAAAAAAAAAAAAAAAAAAAAAAAAAAAAAAAAAAAAAAAAAAAAAAAAAAAAAAAAAAAAAAAAAAAAAAAAAAAAAAAAAAAAAAAAAAAAAAAAAAAAAAAAAAAAAAAAAAAAAAAAAAAAAAAAAAAAAAAAAAAAAAAAAAAAAAAAAAAAAAAAAAAAAAAAAAAAAAAAAAAAAAAAAAAAAAAAAAAAAAAAAAAAAAAAAAAAAAAAAAAAAAAAAAAAAAAAAAAAAAAAAAAAAAAAAAAAAAAAAAAAAAAAAAAAAAAAAAAAAAAAAAAAAAAAAAAAAAAAAAAAAAAAAAAAAAAAAAAAAAAAAAAAAAAAAAAAAAAAAAAAAAAAAAAAAAAAAAAAAAAAAAAAAAAAAAAAAAAAAAAAAAAAAAAAAAAAAAAAAAAAAAAAAAAAAAAAAAAAAAAAAAAAAAAAAAAAAAAAAAAAAAAAAAAAAAAAAAAAAAAAAAAAAAAAAAAAAAAAAAAAAAAAAAAAAAAAAAAAAAAAAAAAAAAAAAAAAAAAAAAAAAAAAAAAAAAAAAAAAAAAAAAAAAAAAAAAAAAAAAAAAAAAAAAAAAAAAAAAAAAAAAAAAAAAAAAAAAAAAAAAAAAAAAAAAAAAAAAAAAAAAAAAAAAAAAAAAAAAAAAAAAAAAAAAAAAAAAAAAAAAAAAAAAAAAAAAAAAAAAAAAAAAAAAAAAAAAAAAAAAAAAAAAAAAAAAAAAAAAAAAAAAAAAAAAAAAAAAAAAAAAAAAAAAAAAAAAAAAAAAAAAAAAAAAAAAAAAAAAAAAAAAAAAAAAAAAAAAAAAAAAAAAAAAAAAAAAAAAAAAAAAAAAAAAAAAAAAAAAAAAAAAAAAAAAAAAAAAAAAAAAAAAAAAAAAAAAAAAAAAAAAAAAAAAAAAAAAAAAAAAAAAAAAAAAAAAAAAAAAAAAAAAAAAAAAAAAAAAAAAAAAAAAAAAAAAAAAAAAAAAAAAAAAAAAAAAAAAAAAAAAAAAAAAAAAAAAAAAAAAAAAAAAAAAAAAAAAAAAAAAAAAAAAAAAAAAAAAAAAAAAAAAAAAAAAAAAAAAAAAAAAAAAAAAAAAAAAAAAAAAAAAAAAAAAAAAAAAAAAAAAAAAAAAAAAAAAAAAAAAAAAAAAAAAAAAAAAAAAAAAAAAAAAAAAAAAAAAAAAAAAAAAAAAAAAAAAAAAAAAAAAAAAAAAAAAAAAAAAAAAAAAAAAAAAAAAAAAAAAAAAAAAAAAAAAAAAAAAAAAAAAAAAAAAAAAAAAAAAAAAAAAAAAAAAAAAAAAAAAAAAAAAAAAAAAAAAAAAAAAAAAAAAAAAAAAAAAAAAAAAAAAAAAAAAAAAAAAAAAAAAAAAAAAAAAAAAAAAAAAAAAAAAAAAAAAAAAAAAAAAAAAAAAAAAAAAAAAAAAAAAAAAAAAAAAAAAAAAAAAAAAAAAAAAAAAAAAAAAAAAAAAAAAAAAAAAAAAAAAAAAAAAAAAAAAAAAAAAAAAAAAAAAAAAAAAAAAAAAAAAAAAAAAAAAAAAAAAAAAAAAAAAAAAAAAAAAAAAAAAAAAAAAAAAAAAAAAAAAAAAAAAAAAAAAAAAAAAAAAAAAAAAAAAAAAAAAAAAAAAAAAAAAAAAAAAAAAAAAAAAAAAAAAAAAAAAAAAAAAAAAAAAAAAAAAAAAAAAAAAAAAAAAAAAAAAAAAAAAAAAAAAAAAAAAAAAAAAAAAAAAAAAAAAAAAAAAAAAAAAAAAAAAAAAAAAAAAAAAAAAAAAAAAAAAAAAAAAAAAAAAAAAAAAAAAAAAAAAAAAAAAAAAAAAAAAAAAAAAAAAAAAAAAAAAAAAAAAAAAAAAAAAAAAAAAAAAAAAAAAAAAAAAAAAAAAAAAAAAAAAAAAAAAAAAAAAAAAAAAAAAAAAAAAAAAAAAAAAAAAAAAAAAAAAAAAAAAAAAAAAAAAAAAAAAAAAAAAAAAAAAAAAAAAAAAAAAAAAAAAAAAAAAAAAAAAAAAAAAAAAAAAAAAAAAAAAAAAAAAAAAAAAAAAAAAAAAAAAAAAAAAAAAAAAAAAAAAAAAAAAAAAAAAAAAAAAAAAAAAAAAAAAAAAAAAAAAAAAAAAAAAAAAAAAAAAAAAAAAAAAAAAAAAAAAAAAAAAAAAAAAAAAAAAAAAAAAAAAAAAAAAAAAAAAAAAAAAAAAAAAAAAAAAAAAAAAAAAAAAAAAAAAAAAAAAAAAAAAAAAAAAAAAAAAAAAAAAAAAAAAAAAAAAAAAAAAAAAAAAAAAAAAAAAAAAAAAAAAAAAAAAAAAAAAAAAAAAAAAAAAAAAAAAAAAAAAAAAAAAAAAAAAAAAAAAAAAAAAAAAAAAAAAAAAAAAAAAAAAAAAAAAAAAAAAAAAAAAAAAAAAAAAAAAAAAAAAAAAAAAAAAAAAAAAAAAAAAAAAAAAAAAAAAAAAAAAAAAAAAAAAAAAAAAAAAAAAAAAAAAAAAAAAAAAAAAAAAAAAAAAAAAAAAAAAAAAAAAAAAAAAAAAAAAAAAAAAAAAAAAAAAAAAAAAAAAAAAAAAAAAAAAAAAAAAAAAAAAAAAAAAAAAAAAAAAAAAAAAAAAAAAAAAAAAAAAAAAAAAAAAAAAAAAAAAAAAAAAAAAAAAAAAAAAAAAAAAAAAAAAAAAAAAAAAAAAAAAAAAAAAAAAAAAAAAAAAAAAAAAAAAAAAAAAAAAAAAAAAAAAAAAAAAAAAAAAAAAAAAAAAAAAAAAAAAAAAAAAAAAAAAAAAAAAAAAAAAAAAAAAAAAAAAAAAAAAAAAAAAAAAAAAAAAAAAAAAAAAAAAAAAAAAAAAAAAAAAAAAAAAAAAAAAAAAAAAAAAAAAAAAAAAAAAAAAAAAAAAAAAAAAAAAAAAAAAAAAAAAAAAAAAAAAAAAAAAAAAAAAAAAAAAAAAAAAAAAAAAAAAAAAAAAAAAAAAAAAAAAAAAAAAAAAAAAAAAAAAAAAAAAAAAAAAAAAAAAAAAAAAAAAAAAAAAAAAAAAAAAAAAAAAAAAAAAAAAAAAAAAAAAAAAAAAAAAAAAAAAAAAAAAAAAAAAAAAAAAAAAAAAAAAAAAAAAAAAAAAAAAAAAAAAAAAAAAAAAAAAAAAAAAAAAAAAAAAAAAAAAAAAAAAAAAAAAAAAAAAAAAAAAAAAAAAAAAAAAAAAAAAAAAAAAAAAAAAAAAAAAAAAAAAAAAAAAAAAAAAAAAAAAAAAAAAAAAAAAAAAAAAAAAAAAAAAAAAAAAAAAAAAAAAAAAAAAAAAAAAAAAAAAAAAAAAAAAAAAAAAAAAAAAAAAAAAAAAAAAAAAAAAAAAAAAAAAAAAAAAAAAAAAAAAAAAAAAAAAAAAAAAAAAAAAAAAAAAAAAAAAAAAAAAAAAAAAAAAAAAAAAAAAAAAAAAAAAAAAAAAAAAAAAAAAAAAAAAAAAAAAAAAAAAAAAAAAAAAAAAAAAAAAAAAAAAAAAAAAAAAAAAAAAAAAAAAAAAAAAAAAAAAAAAAAAAAAAAAAAAAAAAAAAAAAAAAAAAAAAAAAAAAAAAAAAAAAAAAAAAAAAAAAAAAAAAAAAAAAAAAAAAAAAAAAAAAAAAAAAAAAAAAAAAAAAAAAAAAAAAAAAAAAAAAAAAAAAAAAAAAAAAAAAAAAAAAAAAAAAAAAAAAAAAAAAAAAAAAAAAAAAAAAAAAAAAAAAAAAAAAAAAAAAAAAAAAAAAAAAAAAAAAAAAAAAAAAAAAAAAAAAAAAAAAAAAAAAAAAAAAAAAAAAAAAAAAAAAAAAAAAAAAAAAAAAAAAAAAAAAAAAAAAAAAAAAAAAAAAAAAAAAAAAAAAAAAAAAAAAAAAAAAAAAAAAAAAAAAAAAAAAAAAAAAAAAAAAAAAAAAAAAAAAAAAAAAAAAAAAAAAAAAAAAAAAAAAAAAAAAAAAAAAAAAAAAAAAAAAAAAAAAAAAAAAAAAAAAAAAAAAAAAAAAAAAAAAAAAAAAAAAAAAAAAAAAAAAAAAAAAAAAAAAAAAAAAAAAAAAAAAAAAAAAAAAAAAAAAAAAAAAAAAAAAAAAAAAAAAAAAAAAAAAAAAAAAAAAAAAAAAAAAAAAAAAAAAAAAAAAAAAAAAAAAAAAAAAAAAAAAAAAAAAAAAAAAAAAAAAAAAAAAAAAAAAAAAAAAAAAAAAAAAAAAAAAAAAAAAAAAAAAAAAAAAAAAAAAAAAAAAAAAAAAAAAAAAAAAAAAAAAAAAAAAAAAAAAAAAAAAAAAAAAAAAAAAAAAAAAAAAAAAAAAAAAAAAAAAAAAAAAAAAAAAAAAAAAAAAAAAAAAAAAAAAAAAAAAAAAAAAAAAAAAAAAAAAAAAAAAAAAAAAAAAAAAAAAAAAAAAAAAAAAAAAAAAAAAAAAAAAAAAAAAAAAAAAAAAAAAAAAAAAAAAAAAAAAAAAAAAAAAAAAAAAAAAAAAAAAAAAAAAAAAAAAAAAAAAAAAAAAAAAAAAAAAAAAAAAAAAAAAAAAAAAAAAAAAAAAAAAAAAAAAAAAAAAAAAAAAAAAAAAAAAAAAAAAAAAAAAAAAAAAAAAAAAAAAAAAAAAAAAAAAAAAAAAAAAAAAAAAAAAAAAAAAAAAAAAAAAAAAAAAAAAAAAAAAAAAAAAAAAAAAAAAAAAAAAAAAAAAAAAAAAAAAAAAAAAAAAAAAAAAAAAAAAAAAAAAAAAAAAAAAAAAAAAAAAAAAAAAAAAAAAAAAAAAAAAAAAAAAAAAAAAAAAAAAAAAAAAAAAAAAAAAAAAAAAAAAAAAAAAAAAAAAAAAAAAAAAAAAAAAAAAAAAAAAAAAAAAAAAAAAAAAAAAAAAAAAAAAAAAAAAAAAAAAAAAAAAAAAAAAAAAAAAAAAAAAAAAAAAAAAAAAAAAAAAAAAAAAAAAAAAAAAAAAAAAAAAAAAAAAAAAAAAAAAAAAAAAAAAAAAAAAAAAAAAAAAAAAAAAAAAAAAAAAAAAAAAAAAAAAAAAAAAAAAAAAAAAAAAAAAAAAAAAAAAAAAAAAAAAAAAAAAAAAAAAAAAAAAAAAAAAAAAAAAAAAAAAAAAAAAAAAAAAAAAAAAAAAAAAAAAAAAAAAAAAAAAAAAAAAAAAAAAAAAAAAAAAAAAAAAAAAAAAAAAAAAAAAAAAAAAAAAAAAAAAAAAAAAAAAAAAAAAAAAAAAAAAAAAAAAAAAAAAAAAAAAAAAAAAAAAAAAAAAAAAAAAAAAAAAAAAAAAAAAAAAAAAAAAAAAAAAAAAAAAAAAAAAAAAAAAAAAAAAAAAAAAAAAAAAAAAAAAAAAAAAAAAAAAAAAAAAAAAAAAAAAAAAAAAAAAAAAAAAAAAAAAAAAAAAAAAAAAAAAAAAAAAAAAAAAAAAAAAAAAAAAAAAAAAAAAAAAAAAAAAAAAAAAAAAAAAAAAAAAAAAAAAAAAAAAAAAAAAAAAAAAAAAAAAAAAAAAAAAAAAAAAAAAAAAAAAAAAAAAAAAAAAAAAAAAAAAAAAAAAAAAAAAAAAAAAAAAAAAAAAAAAAAAAAAAAAAAAAAAAAAAAAAAAAAAAAAAAAAAAAAAAAAAAAAAAAAAAAAAAAAAAAAAAAAAAAAAAAAAAAAAAAAAAAAAAAAAAAAAAAAAAAAAAAAAAAAAAAAAAAAAAAAAAAAAAAAAAAAAAAAAAAAAAAAAAAAAAAAAAAAAAAAAAAAAAAAAAAAAAAAAAAAAAAAAAAAAAAAAAAAAAAAAAAAAAAAAAAAAAAAAAAAAAAAAAAAAAAAAAAAAAAAAAAAAAAAAAAAAAAAAAAAAAAAAAAAAAAAAAAAAAAAAAAAAAAAAAAAAAAAAAAAAAAAAAAAAAAAAAAAAAAAAAAAAAAAAAAAAAAAAAAAAAAAAAAAAAAAAAAAAAAAAAAAAAAAAAAAAAAAAAAAAAAAAAAAAAAAAAAAAAAAAAAAAAAAAAAAAAAAAAAAAAAAAAAAAAAAAAAAAAAAAAAAAAAAAAAAAAAAAAAAAAAAAAAAAAAAAAAAAAAAAAAAAAAAAAAAAAAAAAAAAAAAAAAAAAAAAAAAAAAAAAAAAAAAAAAAAAAAAAAAAAAAAAAAAAAAAAAAAAAAAAAAAAAAAAAAAAAAAAAAAAAAAAAAAAAAAAAAAAAAAAAAAAAAAAAAAAAAAAAAAAAAAAAAAAAAAAAAAAAAAAAAAAAAAAAAAAAAAAAAAAAAAAAAAAAAAAAAAAAAAAAAAAAAAAAAAAAAAAAAAAAAAAAAAAAAAAAAAAAAAAAAAAAAAAAAAAAAAAAAAAAAAAAAAAAAAAAAAAAAAAAAAAAAAAAAAAAAAAAAAAAAAAAAAAAAAAAAAAAAAAAAAAAAAAAAAAAAAAAAAAAAAAAAAAAAAAAAAAAAAAAAAAAAAAAAAAAAAAAAAAAAAAAAAAAAAAAAAAAAAAAAAAAAAAAAAAAAAAAAAAAAAAAAAAAAAAAAAAAAAAAAAAAAAAAAAAAAAAAAAAAAAAAAAAAAAAAAAAAAAAAAAAAAAAAAAAAAAAAAAAAAAAAAAAAAAAAAAAAAAAAAAAAAAAAAAAAAAAAAAAAAAAAAAAAAAAAAAAAAAAAAAAAAAAAAAAAAAAAAAAAAAAAAAAAAAAAAAAAAAAAAAAAAAAAAAAAAAAAAAAAAAAAAAAAAAAAAAAAAAAAAAAAAAAAAAAAAAAAAAAAAAAAAAAAAAAAAAAAAAAAAAAAAAAAAAAAAAAAAAAAAAAAAAAAAAAAAAAAAAAAAAAAAAAAAAAAAAAAAAAAAAAAAAAAAAAAAAAAAAAAAAAAAAAAAAAAAAAAAAAAAAAAAAAAAAAAAAAAAAAAAAAAAAAAAAAAAAAAAAAAAAAAAAAAAAAAAAAAAAAAAAAAAAAAAAAAAAAAAAAAAAAAAAAAAAAAAAAAAAAAAAAAAAAAAAAAAAAAAAAAAAAAAAAAAAAAAAAAAAAAAAAAAAAAAAAAAAAAAAAAAAAAAAAAAAAAAAAAAAAAAAAAAAAAAAAAAAAAAAAAAAAAAAAAAAAAAAAAAAAAAAAAAAAAAAAAAAAAAAAAAAAAAAAAAAAAAAAAAAAAAAAAAAAAAAAAAAAAAAAAAAAAAAAAAAAAAAAAAAAAAAAAAAAAAAAAAAAAAAAAAAAAAAAAAAAAAAAAAAAAAAAAAAAAAAAAAAAAAAAAAAAAAAAAAAAAAAAAAAAAAAAAAAAAAAAAAAAAAAAAAAAAAAAAAAAAAAAAAAAAAAAAAAAAAAAAAAAAAAAAAAAAAAAAAAAAAAAAAAAAAAAAAAAAAAAAAAAAAAAAAAAAAAAAAAAAAAAAAAAAAAAAAAAAAAAAAAAAAAAAAAAAAAAAAAAAAAAAAAAAAAAAAAAAAAAAAAAAAAAAAAAAAAAAAAAAAAAAAAAAAAAAAAAAAAAAAAAAAAAAAAAAAAAAAAAAAAAAAAAAAAAAAAAAAAAAAAAAAAAAAAAAAAAAAAAAAAAAAAAAAAAAAAAAAAAAAAAAAAAAAAAAAAAAAAAAAAAAAAAAAAAAAAAAAAAAAAAAAAAAAAAAAAAAAAAAAAAAAAAAAAAAAAAAAAAAAAAAAAAAAAAAAAAAAAAAAAAAAAAAAAAAAAAAAAAAAAAAAAAAAAAAAAAAAAAAAAAAAAAAAAAAAAAAAAAAAAAAAAAAAAAAAAAAAAAAAAAAAAAAAAAAAAAAAAAAAAAAAAAAAAAAAAAAAAAAAAAAAAAAAAAAAAAAAAAAAAAAAAAAAAAAAAAAAAAAAAAAAAAAAAAAAAAAAAAAAAAAAAAAAAAAAAAAAAAAAAAAAAAAAAAAAAAAAAAAAAAAAAAAAAAAAAAAAAAAAAAAAAAAAAAAAAAAAAAAAAAAAAAAAAAAAAAAAAAAAAAAAAAAAAAAAAAAAAAAAAAAAAAAAAAAAAAAAAAAAAAAAAAAAAAAAAAAAAAAAAAAAAAAAAAAAAAAAAAAAAAAAAAAAAAAAAAAAAAAAAAAAAAAAAAAAAAAAAAAAAAAAAAAAAAAAAAAAAAAAAAAAAAAAAAAAAAAAAAAAAAAAAAAAAAAAAAAAAAAAAAAAAAAAAAAAAAAAAAAAAAAAAAAAAAAAAAAAAAAAAAAAAAAAAAAAAAAAAAAAAAAAAAAAAAAAAAAAAAAAAAAAAAAAAAAAAAAAAAAAAAAAAAAAAAAAAAAAAAAAAAAAAAAAAAAAAAAAAAAAAAAAAAAAAAAAAAAAAAAAAAAAAAAAAAAAAAAAAAAAAAAAAAAAAAAAAAAAAAAAAAAAAAAAAAAAAAAAAAAAAAAAAAAAAAAAAAAAAAAAAAAAAAAAAAAAAAAAAAAAAAAAAAAAAAAAAAAAAAAAAAAAAAAAAAAAAAAAAAAAAAAAAAAAAAAAAAAAAAAAAAAAAAAAAAAAAAAAAAAAAAAAAAAAAAAAAAAAAAAAAAAAAAAAAAAAAAAAAAAAAAAAAAAAAAAAAAAAAAAAAAAAAAAAAAAAAAAAAAAAAAAAAAAAAAAAAAAAAAAAAAAAAAAAAAAAAAAAAAAAAAAAAAAAAAAAAAAAAAAAAAAAAAAAAAAAAAAAAAAAAAAAAAAAAAAAAAAAAAAAAAAAAAAAAAAAAAAAAAAAAAAAAAAAAAAAAAAAAAAAAAAAAAAAAAAAAAAAAAAAAAAAAAAAAAAAAAAAAAAAAAAAAAAAAAAAAAAAAAAAAAAAAAAAAAAAAAAAAAAAAAAAAAAAAAAAAAAAAAAAAAAAAAAAAAAAAAAAAAAAAAAAAAAAAAAAAAAAAAAAAAAAAAAAAAAAAAAAAAAAAAAAAAAAAAAAAAAAAAAAAAAAAAAAAAAAAAAAAAAAAAAAAAAAAAAAAAAAAAAAAAAAAAAAAAAAAAAAAAAAAAAAAAAAAAAAAAAAAAAAAAAAAAAAAAAAAAAAAAAAAAAAAAAAAAAAAAAAAAAAAAAAAAAAAAAAAAAAAAAAAAAAAAAAAAAAAAAAAAAAAAAAAAAAAAAAAAAAAAAAAAAAAAAAAAAAAAAAAAAAAAAAAAAAAAAAAAAAAAAAAAAAAAAAAAAAAAAAAAAAAAAAAAAAAAAAAAAAAAAAAAAAAAAAAAAAAAAAAAAAAAAAAAAAAAAAAAAAAAAAAAAAAAAAAAAAAAAAAAAAAAAAAAAAAAAAAAAAAAAAAAAAAAAAAAAAAAAAAAAAAAAAAAAAAAAAAAAAAAAAAAAAAAAAAAAAAAAAAAAAAAAAAAAAAAAAAAAAAAAAAAAAAAAAAAAAAAAAAAAAAAAAAAAAAAAAAAAAAAAAAAAAAAAAAAAAAAAAAAAAAAAAAAAAAAAAAAAAAAAAAAAAAAAAAAAAAAAAAAAAAAAAAAAAAAAAAAAAAAAAAAAAAAAAAAAAAAAAAAAAAAAAAAAAAAAAAAAAAAAAAAAAAAAAAAAAAAAAAAAAAAAAAAAAAAAAAAAAAAAAAAAAAAAAAAAAAAAAAAAAAAAAAAAAAAAAAAAAAAAAAAAAAAAAAAAAAAAAAAAAAAAAAAAAAAAAAAAAAAAAAAAAAAAAAAAAAAAAAAAAAAAAAAAAAAAAAAAAAAAAAAAAAAAAAAAAAAAAAAAAAAAAAAAAAAAAAAAAAAAAAAAAAAAAAAAAAAAAAAAAAAAAAAAAAAAAAAAAAAAAAAAAAAAAAAAAAAAAAAAAAAAAAAAAAAAAAAAAAAAAAAAAAAAAAAAAAAAAAAAAAAAAAAAAAAAAAAAAAAAAAAAAAAAAAAAAAAAAAAAAAAAAAAAAAAAAAAAAAAAAAAAAAAAAAAAAAAAAAAAAAAAAAAAAAAAAAAAAAAAAAAAAAAAAAAAAAAAAAAAAAAAAAAAAAAAAAAAAAAAAAAAAAAAAAAAAAAAAAAAAAAAAAAAAAAAAAAAAAAAAAAAAAAAAAAAAAAAAAAAAAAAAAAAAAAAAAAAAAAAAAAAAAAAAAAAAAAAAAAAAAAAAAAAAAAAAAAAAAAAAAAAAAAAAAAAAAAAAAAAAAAAAAAAAAAAAAAAAAAAAAAAAAAAAAAAAAAAAAAAAAAAAAAAAAAAAAAAAAAAAAAAAAAAAAAAAAAAAAAAAAAAAAAAAAAAAAAAAAAAAAAAAAAAAAAAAAAAAAAAAAAAAAAAAAAAAAAAAAAAAAAAAAAAAAAAAAAAAAAAAAAAAAAAAAAAAAAAAAAAAAAAAAAAAAAAAAAAAAAAAAAAAAAAAAAAAAAAAAAAAAAAAAAAAAAAAAAAAAAAAAAAAAAAAAAAAAAAAAAAAAAAAAAAAAAAAAAAAAAAAAAAAAAAAAAAAAAAAAAAAAAAAAAAAAAAAAAAAAAAAAAAAAAAAAAAAAAAAAAAAAAAAAAAAAAAAAAAAAAAAAAAAAAAAAAAAAAAAAAAAAAAAAAAAAAAAAAAAAAAAAAAAAAAAAAAAAAAAAAAAAAAAAAAAAAAAAAAAAAAAAAAAAAAAAAAAAAAAAAAAAAAAAAAAAAAAAAAAAAAAAAAAAAAAAAAAAAAAAAAAAAAAAAAAAAAAAAAAAAAAAAAAAAAAAAAAAAAAAAAAAAAAAAAAAAAAAAAAAAAAAAAAAAAAAAAAAAAAAAAAAAAAAAAAAAAAAAAAAAAAAAAAAAAAAAAAAAAAAAAAAAAAAAAAAAAAAAAAAAAAAAAAAAAAAAAAAAAAAAAAAAAAAAAAAAAAAAAAAAAAAAAAAAAAAAAAAAAAAAAAAAAAAAAAAAAAAAAAAAAAAAAAAAAAAAAAAAAAAAAAAAAAAAAAAAAAAAAAAAAAAAAAAAAAAAAAAAAAAAAAAAAAAAAAAAAAAAAAAAAAAAAAAAAAAAAAAAAAAAAAAAAAAAAAAAAAAAAAAAAAAAAAAAAAAAAAAAAAAAAAAAAAAAAAAAAAAAAAAAAAAAAAAAAAAAAAAAAAAAAAAAAAAAAAAAAAAAAAAAAAAAAAAAAAAAAAAAAAAAAAAAAAAAAAAAAAAAAAAAAAAAAAAAAAAAAAAAAAAAAAAAAAAAAAAAAAAAAAAAAAAAAAAAAAAAAAAAAAAAAAAAAAAAAAAAAAAAAAAAAAAAAAAAAAAAAAAAAAAAAAAAAAAAAAAAAAAAAAAAAAAAAAAAAAAAAAAAAAAAAAAAAAAAAAAAAAAAAAAAAAAAAAAAAAAAAAAAAAAAAAAAAAAAAAAAAAAAAAAAAAAAAAAAAAAAAAAAAAAAAAAAAAAAAAAAAAAAAAAAAAAAAAAAAAAAAAAAAAAAAAAAAAAAAAAAAAAAAAAAAAAAAAAAAAAAAAAAAAAAAAAAAAAAAAAAAAAAAAAAAAAAAAAAAAAAAAAAAAAAAAAAAAAAAAAAAAAAAAAAAAAAAAAAAAAAAAAAAAAAAAAAAAAAAAAAAAAAAAAAAAAAAAAAAAAAAAAAAAAAAAAAAAAAAAAAAAAAAAAAAAAAAAAAAAAAAAAAAAAAAAAAAAAAAAAAAAAAAAAAAAAAAAAAAAAAAAAAAAAAAAAAAAAAAAAAAAAAAAAAAAAAAAAAAAAAAAAAAAAAAAAAAAAAAAAAAAAAAAAAAAAAAAAAAAAAAAAAAAAAAAAAAAAAAAAAAAAAAAAAAAAAAAAAAAAAAAAAAAAAAAAAAAAAAAAAAAAAAAAAAAAAAAAAAAAAAAAAAAAAAAAAAAAAAAAAAAAAAAAAAAAAAAAAAAAAAAAAAAAAAAAAAAAAAAAAAAAAAAAAAAAAAAAAAAAAAAAAAAAAAAAAAAAAAAAAAAAAAAAAAAAAAAAAAAAAAAAAAAAAAAAAAAAAAAAAAAAAAAAAAAAAAAAAAAAAAAAAAAAAAAAAAAAAAAAAAAAAAAAAAAAAAAAAAAAAAAAAAAAAAAAAAAAAAAAAAAAAAAAAAAAAAAAAAAAAAAAAAAAAAAAAAAAAAAAAAAAAAAAAAAAAAAAAAAAAAAAAAAAAAAAAAAAAAAAAAAAAAAAAAAAAAAAAAAAAAAAAAAAAAAAAAAAAAAAAAAAAAAAAAAAAAAAAAAAAAAAAAAAAAAAAAAAAAAAAAAAAAAAAAAAAAAAAAAAAAAAAAAAAAAAAAAAAAAAAAAAAAAAAAAAAAAAAAAAAAAAAAAAAAAAAAAAAAAAAAAAAAAAAAAAAAAAAAAAAAAAAAAAAAAAAAAAAAAAAAAAAAAAAAAAAAAAAAAAAAAAAAAAAAAAAAAAAAAAAAAAAAAAAAAAAAAAAAAAAAAAAAAAAAAAAAAAAAAAAAAAAAAAAAAAAAAAAAAAAAAAAAAAAAAAAAAAAAAAAAAAAAAAAAAAAAAAAAAAAAAAAAAAAAAAAAAAAAAAAAAAAAAAAAAAAAAAAAAAAAAAAAAAAAAAAAAAAAAAAAAAAAAAAAAAAAAAAAAAAAAAAAAAAAAAAAAAAAAAAAAAAAAAAAAAAAAAAAAAAAAAAAAAAAAAAAAAAAAAAAAAAAAAAAAAAAAAAAAAAAAAAAAAAAAAAAAAAAAAAAAAAAAAAAAAAAAAAAAAAAAAAAAAAAAAAAAAAAAAAAAAAAAAAAAAAAAAAAAAAAAAAAAAAAAAAAAAAAAAAAAAAAAAAAAAAAAAAAAAAAAAAAAAAAAAAAAAAAAAAAAAAAAAAAAAAAAAAAAAAAAAAAAAAAAAAAAAAAAAAAAAAAAAAAAAAAAAAAAAAAAAAAAAAAAAAAAAAAAAAAAAAAAAAAAAAAAAAAAAAAAAAAAAAAAAAAAAAAAAAAAAAAAAAAAAAAAAAAAAAAAAAAAAAAAAAAAAAAAAAAAAAAAAAAAAAAAAAAAAAAAAAAAAAAAAAAAAAAAAAAAAAAAAAAAAAAAAAAAAAAAAAAAAAAAAAAAAAAAAAAAAAAAAAAAAAAAAAAAAAAAAAAAAAAAAAAAAAAAAAAAAAAAAAAAAAAAAAAAAAAAAAAAAAAAAAAAAAAAAAAAAAAAAAAAAAAAAAAAAAAAAAAAAAAAAAAAAAAAAAAAAAAAAAAAAAAAAAAAAAAAAAAAAAAAAAAAAAAAAAAAAAAAAAAAAAAAAAAAAAAAAAAAAAAAAAAAAAAAAAAAAAAAAAAAAAAAAAAAAAAAAAAAAAAAAAAAAAAAAAAAAAAAAAAAAAAAAAAAAAAAAAAAAAAAAAAAAAAAAAAAAAAAAAAAAAAAAAAAAAAAAAAAAAAAAAAAAAAAAAAAAAAAAAAAAAAAAAAAAAAAAAAAAAAAAAAAAAAAAAAAAAAAAAAAAAAAAAAAAAAAAAAAAAAAAAAAAAAAAAAAAAAAAAAAAAAAAAAAAAAAAAAAAAAAAAAAAAAAAAAAAAAAAAAAAAAAAAAAAAAAAAAAAAAAAAAAAAAAAAAAAAAAAAAAAAAAAAAAAAAAAAAAAAAAAAAAAAAAAAAAAAAAAAAAAAAAAAAAAAAAAAAAAAAAAAAAAAAAAAAAAAAAAAAAAAAAAAAAAAAAAAAAAAAAAAAAAAAAAAAAAAAAAAAAAAAAAAAAAAAAAAAAAAAAAAAAAAAAAAAAAAAAAAAAAAAAAAAAAAAAAAAAAAAAAAAAAAAAAAAAAAAAAAAAAAAAAAAAAAAAAAAAAAAAAAAAAAAAAAAAAAAAAAAAAAAAAAAAAAAAAAAAAAAAAAAAAAAAAAAAAAAAAAAAAAAAAAAAAAAAAAAAAAAAAAAAAAAAAAAAAAAAAAAAAAAAAAAAAAAAAAAAAAAAAAAAAAAAAAAAAAAAAAAAAAAAAAAAAAAAAAAAAAAAAAAAAAAAAAAAAAAAAAAAAAAAAAAAAAAAAAAAAAAAAAAAAAAAAAAAAAAAAAAAAAAAAAAAAAAAAAAAAAAAAAAAAAAAAAAAAAAAAAAAAAAAAAAAAAAAAAAAAAAAAAAAAAAAAAAAAAAAAAAAAAAAAAAAAAAAAAAAAAAAAAAAAAAAAAAAAAAAAAAAAAAAAAAAAAAAAAAAAAAAAAAAAAAAAAAAAAAAAAAAAAAAAAAAAAAAAAAAAAAAAAAAAAAAAAAAAAAAAAAAAAAAAAAAAAAAAAAAAAAAAAAAAAAAAAAAAAAAAAAAAAAAAAAAAAAAAAAAAAAAAAAAAAAAAAAAAAAAAAAAAAAAAAAAAAAAAAAAAAAAAAAAAAAAAAAAAAAAAAAAAAAAAAAAAAAAAAAAAAAAAAAAAAAAAAAAAAAAAAAAAAAAAAAAAAAAAAAAAAAAAAAAAAAAAAAAAAAAAAAAAAAAAAAAAAAAAAAAAAAAAAAAAAAAAAAAAAAAAAAAAAAAAAAAAAAAAAAAAAAAAAAAAAAAAAAAAAAAAAAAAAAAAAAAAAAAAAAAAAAAAAAAAAAAAAAAAAAAAAAAAAAAAAAAAAAAAAAAAAAAAAAAAAAAAAAAAAAAAAAAAAAAAAAAAAAAAAAAAAAAAAAAAAAAAAAAAAAAAAAAAAAAAAAAAAAAAAAAAAAAAAAAAAAAAAAAAAAAAAAAAAAAAAAAAAAAAAAAAAAAAAAAAAAAAAAAAAAAAAAAAAAAAAAAAAAAAAAAAAAAAAAAAAAAAAAAAAAAAAAAAAAAAAAAAAAAAAAAAAAAAAAAAAAAAAAAAAAAAAAAAAAAAAAAAAAAAAAAAAAAAAAAAAAAAAAAAAAAAAAAAAAAAAAAAAAAAAAAAAAAAAAAAAAAAAAAAAAAAAAAAAAAAAAAAAAAAAAAAAAAAAAAAAAAAAAAAAAAAAAAAAAAAAAAAAAAAAAAAAAAAAAAAAAAAAAAAAAAAAAAAAAAAAAAAAAAAAAAAAAAAAAAAAAAAAAAAAAAAAAAAAAAAAAAAAAAAAAAAAAAAAAAAAAAAAAAAAAAAAAAAAAAAAAAAAAAAAAAAAAAAAAAAAAAAAAAAAAAAAAAAAAAAAAAAAAAAAAAAAAAAAAAAAAAAAAAAAAAAAAAAAAAAAAAAAAAAAAAAAAAAAAAAAAAAAAAAAAAAAAAAAAAAAAAAAAAAAAAAAAAAAAAAAAAAAAAAAAAAAAAAAAAAAAAAAAAAAAAAAAAAAAAAAAAAAAAAAAAAAAAAAAAAAAAAAAAAAAAAAAAAAAAAAAAAAAAAAAAAAAAAAAAAAAAAAAAAAAAAAAAAAAAAAAAAAAAAAAAAAAAAAAAAAAAAAAAAAAAAAAAAAAAAAAAAAAAAAAAAAAAAAAAAAAAAAAAAAAAAAAAAAAAAAAAAAAAAAAAAAAAAAAAAAAAAAAAAAAAAAAAAAAAAAAAAAAAAAAAAAAAAAAAAAAAAAAAAAAAAAAAAAAAAAAAAAAAAAAAAAAAAAAAAAAAAAAAAAAAAAAAAAAAAAAAAAAAAAAAAAAAAAAAAAAAAAAAAAAAAAAAAAAAAAAAAAAAAAAAAAAAAAAAAAAAAAAAAAAAAAAAAAAAAAAAAAAAAAAAAAAAAAAAAAAAAAAAAAAAAAAAAAAAAAAAAAAAAAAAAAAAAAAAAAAAAAAAAAAAAAAAAAAAAAAAAAAAAAAAAAAAAAAAAAAAAAAAAAAAAAAAAAAAAAAAAAAAAAAAAAAAAAAAAAAAAAAAAAAAAAAAAAAAAAAAAAAAAAAAAAAAAAAAAAAAAAAAAAAAAAAAAAAAAAAAAAAAAAAAAAAAAAAAAAAAAAAAAAAAAAAAAAAAAAAAAAAAAAAAAAAAAAAAAAAAAAAAAAAAAAAAAAAAAAAAAAAAAAAAAAAAAAAAAAAAAAAAAAAAAAAAAAAAAAAAAAAAAAAAAAAAAAAAAAAAAAAAAAAAAAAAAAAAAAAAAAAAAAAAAAAAAAAAAAAAAAAAAAAAAAAAAAAAAAAAAAAAAAAAAAAAAAAAAAAAAAAAAAAAAAAAAAAAAAAAAAAAAAAAAAAAAAAAAAAAAAAAAAAAAAAAAAAAAAAAAAAAAAAAAAAAAAAAAAAAAAAAAAAAAAAAAAAAAAAAAAAAAAAAAAAAAAAAAAAAAAAAAAAAAAAAAAAAAAAAAAAAAAAAAAAAAAAAAAAAAAAAAAAAAAAAAAAAAAAAAAAAAAAAAAAAAAAAAAAAAAAAAAAAAAAAAAAAAAAAAAAAAAAAAAAAAAAAAAAAAAAAAAAAAAAAAAAAAAAAAAAAAAAAAAAAAAAAAAAAAAAAAAAAAAAAAAAAAAAAAAAAAAAAAAAAAAAAAAAAAAAAAAAAAAAAAAAAAAAAAAAAAAAAAAAAAAAAAAAAAAAAAAAAAAAAAAAAAAAAAAAAAAAAAAAAAAAAAAAAAAAAAAAAAAAAAAAAAAAAAAAAAAAAAAAAAAAAAAAAAAAAAAAAAAAAAAAAAAAAAAAAAAAAAAAAAAAAAAAAAAAAAAAAAAAAAAAAAAAAAAAAAAAAAAAAAAAAAAAAAAAAAAAAAAAAAAAAAAAAAAAAAAAAAAAAAAAAAAAAAAAAAAAAAAAAAAAAAAAAAAAAAAAAAAAAAAAAAAAAAAAAAAAAAAAAAAAAAAAAAAAAAAAAAAAAAAAAAAAAAAAAAAAAAAAAAAAAAAAAAAAAAAAAAAAAAAAAAAAAAAAAAAAAAAAAAAAAAAAAAAAAAAAAAAAAAAAAAAAAAAAAAAAAAAAAAAAAAAAAAAAAAAAAAAAAAAAAAAAAAAAAAAAAAAAAAAAAAAAAAAAAAAAAAAAAAAAAAAAAAAAAAAAAAAAAAAAAAAAAAAAAAAAAAAAAAAAAAAAAAAAAAAAAAAAAAAAAAAAAAAAAAAAAAAAAAAAAAAAAAAAAAAAAAAAAAAAAAAAAAAAAAAAAAAAAAAAAAAAAAAAAAAAAAAAAAAAAAAAAAAAAAAAAAAAAAAAAAAAAAAAAAAAAAAAAAAAAAAAAAAAAAAAAAAAAAAAAAAAAAAAAAAAAAAAAAAAAAAAAAAAAAAAAAAAAAAAAAAAAAAAAAAAAAAAAAAAAAAAAAAAAAAAAAAAAAAAAAAAAAAAAAAAAAAAAAAAAAAAAAAAAAAAAAAAAAAAAAAAAAAAAAAAAAAAAAAAAAAAAAAAAAAAAAAAAAAAAAAAAAAAAAAAAAAAAAAAAAAAAAAAAAAAAAAAAAAAAAAAAAAAAAAAAAAAAAAAAAAAAAAAAAAAAAAAAAAAAAAAAAAAAAAAAAAAAAAAAAAAAAAAAAAAAAAAAAAAAAAAAAAAAAAAAAAAAAAAAAAAAAAAAAAAAAAAAAAAAAAAAAAAAAAAAAAAAAAAAAAAAAAAAAAAAAAAAAAAAAAAAAAAAAAAAAAAAAAAAAAAAAAAAAAAAAAAAAAAAAAAAAAAAAAAAAAAAAAAAAAAAAAAAAAAAAAAAAAAAAAAAAAAAAAAAAAAAAAAAAAAAAAAAAAAAAAAAAAAAAAAAAAAAAAAAAAAAAAAAAAAAAAAAAAAAAAAAAAAAAAAAAAAAAAAAAAAAAAAAAAAAAAAAAAAAAAAAAAAAAAAAAAAAAAAAAAAAAAAAAAAAAAAAAAAAAAAAAAAAAAAAAAAAAAAAAAAAAAAAAAAAAAAAAAAAAAAAAAAAAAAAAAAAAAAAAAAAAAAAAAAAAAAAAAAAAAAAAAAAAAAAAAAAAAAAAAAAAAAAAAAAAAAAAAAAAAAAAAAAAAAAAAAAAAAAAAAAAAAAAAAAAAAAAAAAAAAAAAAAAAAAAAAAAAAAAAAAAAAAAAAAAAAAAAAAAAAAAAAAAAAAAAAAAAAAAAAAAAAAAAAAAAAAAAAAAAAAAAAAAAAAAAAAAAAAAAAAAAAAAAAAAAAAAAAAAAAAAAAAAAAAAAAAAAAAAAAAAAAAAAAAAAAAAAAAAAAAAAAAAAAAAAAAAAAAAAAAAAAAAAAAAAAAAAAAAAAAAAAAAAAAAAAAAAAAAAAAAAAAAAAAAAAAAAAAAAAAAAAAAAAAAAAAAAAAAAAAAAAAAAAAAAAAAAAAAAAAAAAAAAAAAAAAAAAAAAAAAAAAAAAAAAAAAAAAAAAAAAAAAAAAAAAAAAAAAAAAAAAAAAAAAAAAAAAAAAAAAAAAAAAAAAAAAAAAAAAAAAAAAAAAAAAAAAAAAAAAAAAAAAAAAAAAAAAAAAAAAAAAAAAAAAAAAAAAAAAAAAAAAAAAAAAAAAAAAAAAAAAAAAAAAAAAAAAAAAAAAAAAAAAAAAAAAAAAAAAAAAAAAAAAAAAAAAAAAAAAAAAAAAAAAAAAAAAAAAAAAAAAAAAAAAAAAAAAAAAAAAAAAAAAAAAAAAAAAAAAAAAAAAAAAAAAAAAAAAAAAAAAAAAAAAAAAAAAAAAAAAAAAAAAAAAAAAAAAAAAAAAAAAAAAAAAAAAAAAAAAAAAAAAAAAAAAAAAAAAAAAAAAAAAAAAAAAAAAAAAAAAAAAAAAAAAAAAAAAAAAAAAAAAAAAAAAAAAAAAAAAAAAAAAAAAAAAAAAAAAAAAAAAAAAAAAAAAAAAAAAAAAAAAAAAAAAAAAAAAAAAAAAAAAAAAAAAAAAAAAAAAAAAAAAAAAAAAAAAAAAAAAAAAAAAAAAAAAAAAAAAAAAAAAAAAAAAAAAAAAAAAAAAAAAAAAAAAAAAAAAAAAAAAAAAAAAAAAAAAAAAAAAAAAAAAAAAAAAAAAAAAAAAAAAAAAAAAAAAAAAAAAAAAAAAAAAAAAAAAAAAAAAAAAAAAAAAAAAAAAAAAAAAAAAAAAAAAAAAAAAAAAAAAAAAAAAAAAAAAAAAAAAAAAAAAAAAAAAAAAAAAAAAAAAAAAAAAAAAAAAAAAAAAAAAAAAAAAAAAAAAAAAAAAAAAAAAAAAAAAAAAAAAAAAAAAAAAAAAAAAAAAAAAAAAAAAAAAAAAAAAAAAAAAAAAAAAAAAAAAAAAAAAAAAAAAAAAAAAAAAAAAAAAAAAAAAAAAAAAAAAAAAAAAAAAAAAAAAAAAAAAAAAAAAAAAAAAAAAAAAAAAAAAAAAAAAAAAAAAAAAAAAAAAAAAAAAAAAAAAAAAAAAAAAAAAAAAAAAAAAAAAAAAAAAAAAAAAAAAAAAAAAAAAAAAAAAAAAAAAAAAAAAAAAAAAAAAAAAAAAAAAAAAAAAAAAAAAAAAAAAAAAAAAAAAAAAAAAAAAAAAAAAAAAAAAAAAAAAAAAAAAAAAAAAAAAAAAAAAAAAAAAAAAAAAAAAAAAAAAAAAAAAAAAAAAAAAAAAAAAAAAAAAAAAAAAAAAAAAAAAAAAAAAAAAAAAAAAAAAAAAAAAAAAAAAAAAAAAAAAAAAAAAAAAAAAAAAAAAAAAAAAAAAAAAAAAAAAAAAAAAAAAAAAAAAAAAAAAAAAAAAAAAAAAAAAAAAAAAAAAAAAAAAAAAAAAAAAAAAAAAAAAAAAAAAAAAAAAAAAAAAAAAAAAAAAAAAAAAAAAAAAAAAAAAAAAAAAAAAAAAAAAAAAAAAAAAAAAAAAAAAAAAAAAAAAAAAAAAAAAAAAAAAAAAAAAAAAAAAAAAAAAAAAAAAAAAAAAAAAAAAAAAAAAAAAAAAAAAAAAAAAAAAAAAAAAAAAAAAAAAAAAAAAAAAAAAAAAAAAAAAAAAAAAAAAAAAAAAAAAAAAAAAAAAAAAAAAAAAAAAAAAAAAAAAAAAAAAAAAAAAAAAAAAAAAAAAAAAAAAAAAAAAAAAAAAAAAAAAAAAAAAAAAAAAAAAAAAAAAAAAAAAAAAAAAAAAAAAAAAAAAAAAAAAAAAAAAAAAAAAAAAAAAAAAAAAAAAAAAAAAAAAAAAAAAAAAAAAAAAAAAAAAAAAAAAAAAAAAAAAAAAAAAAAAAAAAAAAAAAAAAAAAAAAAAAAAAAAAAAAAAAAAAAAAAAAAAAAAAAAAAAAAAAAAAAAAAAAAAAAAAAAAAAAAAAAAAAAAAAAAAAAAAAAAAAAAAAAAAAAAAAAAAAAAAAAAAAAAAAAAAAAAAAAAAAAAAAAAAAAAAAAAAAAAAAAAAAAAAAAAAAAAAAAAAAAAAAAAAAAAAAAAAAAAAAAAAAAAAAAAAAAAAAAAAAAAAAAAAAAAAAAAAAAAAAAAAAAAAAAAAAAAAAAAAAAAAAAAAAAAAAAAAAAAAAAAAAAAAAAAAAAAAAAAAAAAAAAAAAAAAAAAAAAAAAAAAAAAAAAAAAAAAAAAAAAAAAAAAAAAAAAAAAAAAAAAAAAAAAAAAAAAAAAAAAAAAAAAAAAAAAAAAAAAAAAAAAAAAAAAAAAAAAAAAAAAAAAAAAAAAAAAAAAAAAAAAAAAAAAAAAAAAAAAAAAAAAAAAAAAAAAAAAAAAAAAAAAAAAAAAAAAAAAAAAAAAAAAAAAAAAAAAAAAAAAAAAAAAAAAAAAAAAAAAAAAAAAAAAAAAAAAAAAAAAAAAAAAAAAAAAAAAAAAAAAAAAAAAAAAAAAAAAAAAAAAAAAAAAAAAAAAAAAAAAAAAAAAAAAAAAAAAAAAAAAAAAAAAAAAAAAAAAAAAAAAAAAAAAAAAAAAAAAAAAAAAAAAAAAAAAAAAAAAAAAAAAAAAAAAAAAAAAAAAAAAAAAAAAAAAAAAAAAAAAAAAAAAAAAAAAAAAAAAAAAAAAAAAAAAAAAAAAAAAAAAAAAAAAAAAAAAAAAAAAAAAAAAAAAAAAAAAAAAAAAAAAAAAAAAAAAAAAAAAAAAAAAAAAAAAAAAAAAAAAAAAAAAAAAAAAAAAAAAAAAAAAAAAAAAAAAAAAAAAAAAAAAAAAAAAAAAAAAAAAAAAAAAAAAAAAAAAAAAAAAAAAAAAAAAAAAAAAAAAAAAAAAAAAAAAAAAAAAAAAAAAAAAAAAAAAAAAAAAAAAAAAAAAAAAAAAAAAAAAAAAAAAAAAAAAAAAAAAAAAAAAAAAAAAAAAAAAAAAAAAAAAAAAAAAAAAAAAAAAAAAAAAAAAAAAAAAAAAAAAAAAAAAAAAAAAAAAAAAAAAAAAAAAAAAAAAAAAAAAAAAAAAAAAAAAAAAAAAAAAAAAAAAAAAAAAAAAAAAAAAAAAAAAAAAAAAAAAAAAAAAAAAAAAAAAAAAAAAAAAAAAAAAAAAAAAAAAAAAAAAAAAAAAAAAAAAAAAAAAAAAAAAAAAAAAAAAAAAAAAAAAAAAAAAAAAAAAAAAAAAAAAAAAAAAAAAAAAAAAAAAAAAAAAAAAAAAAAAAAAAAAAAAAAAAAAAAAAAAAAAAAAAAAAAAAAAAAAAAAAAAAAAAAAAAAAAAAAAAAAAAAAAAAAAAAAAAAAAAAAAAAAAAAAAAAAAAAAAAAAAAAAAAAAAAAAAAAAAAAAAAAAAAAAAAAAAAAAAAAAAAAAAAAAAAAAAAAAAAAAAAAAAAAAAAAAAAAAAAAAAAAAAAAAAAAAAAAAAAAAAAAAAAAAAAAAAAAAAAAAAAAAAAAAAAAAAAAAAAAAAAAAAAAAAAAAAAAAAAAAAAAAAAAAAAAAAAAAAAAAAAAAAAAAAAAAAAAAAAAAAAAAAAAAAAAAAAAAAAAAAAAAAAAAAAAAAAAAAAAAAAAAAAAAAAAAAAAAAAAAAAAAAAAAAAAAAAAAAAAAAAAAAAAAAAAAAAAAAAAAAAAAAAAAAAAAAAAAAAAAAAAAAAAAAAAAAAAAAAAAAAAAAAAAAAAAAAAAAAAAAAAAAAAAAAAAAAAAAAAAAAAAAAAAAAAAAAAAAAAAAAAAAAAAAAAAAAAAAAAAAAAAAAAAAAAAAAAAAAAAAAAAAAAAAAAAAAAAAAAAAAAAAAAAAAAAAAAAAAAAAAAAAAAAAAAAAAAAAAAAAAAAAAAAAAAAAAAAAAAAAAAAAAAAAAAAAAAAAAAAAAAAAAAAAAAAAAAAAAAAAAAAAAAAAAAAAAAAAAAAAAAAAAAAAAAAAAAAAAAAAAAAAAAAAAAAAAAAAAAAAAAAAAAAAAAAAAAAAAAAAAAAAAAAAAAAAAAAAAAAAAAAAAAAAAAAAAAAAAAAAAAAAAAAAAAAAAAAAAAAAAAAAAAAAAAAAAAAAAAAAAAAAAAAAAAAAAAAAAAAAAAAAAAAAAAAAAAAAAAAAAAAAAAAAAAAAAAAAAAAAAAAAAAAAAAAAAAAAAAAAAAAAAAAAAAAAAAAAAAAAAAAAAAAAAAAAAAAAAAAAAAAAAAAAAAAAAAAAAAAAAAAAAAAAAAAAAAAAAAAAAAAAAAAAAAAAAAAAAAAAAAAAAAAAAAAAAAAAAAAAAAAAAAAAAAAAAAAAAAAAAAAAAAAAAAAAAAAAAAAAAAAAAAAAAAAAAAAAAAAAAAAAAAAAAAAAAAAAAAAAAAAAAAAAAAAAAAAAAAAAAAAAAAAAAAAAAAAAAAAAAAAAAAAAAAAAAAAAAAAAAAAAAAAAAAAAAAAAAAAAAAAAAAAAAAAAAAAAAAAAAAAAAAAAAAAAAAAAAAAAAAAAAAAAAAAAAAAAAAAAAAAAAAAAAAAAAAAAAAAAAAAAAAAAAAAAAAAAAAAAAAAAAAAAAAAAAAAAAAAAAAAAAAAAAAAAAAAAAAAAAAAAAAAAAAAAAAAAAAAAAAAAAAAAAAAAAAAAAAAAAAAAAAAAAAAAAAAAAAAAAAAAAAAAAAAAAAAAAAAAAAAAAAAAAAAAAAAAAAAAAAAAAAAAAAAAAAAAAAAAAAAAAAAAAAAAAAAAAAAAAAAAAAAAAAAAAAAAAAAAAAAAAAAAAAAAAAAAAAAAAAAAAAAAAAAAAAAAAAAAAAAAAAAAAAAAAAAAAAAAAAAAAAAAAAAAAAAAAAAAAAAAAAAAAAAAAAAAAAAAAAAAAAAAAAAAAAAAAAAAAAAAAAAAAAAAAAAAAAAAAAAAAAAAAAAAAAAAAAAAAAAAAAAAAAAAAAAAAAAAAAAAAAAAAAAAAAAAAAAAAAAAAAAAAAAAAAAAAAAAAAAAAAAAAAAAAAAAAAAAAAAAAAAAAAAAAAAAAAAAAAAAAAAAAAAAAAAAAAAAAAAAAAAAAAAAAAAAAAAAAAAAAAAAAAAAAAAAAAAAAAAAAAAAAAAAAAAAAAAAAAAAAAAAAAAAAAAAAAAAAAAAAAAAAAAAAAAAAAAAAAAAAAAAAAAAAAAAAAAAAAAAAAAAAAAAAAAAAAAAAAAAAAAAAAAAAAAAAAAAAAAAAAAAAAAAAAAAAAAAAAAAAAAAAAAAAAAAAAAAAAAAAAAAAAAAAAAAAAAAAAAAAAAAAAAAAAAAAAAAAAAAAAAAAAAAAAAAAAAAAAAAAAAAAAAAAAAAAAAAAAAAAAAAAAAAAAAAAAAAAAAAAAAAAAAAAAAAAAAAAAAAAAAAAAAAAAAAAAAAAAAAAAAAAAAAAAAAAAAAAAAAAAAAAAAAAAAAAAAAAAAAAAAAAAAAAAAAAAAAAAAAAAAAAAAAAAAAAAAAAAAAAAAAAAAAAAAAAAAAAAAAAAAAAAAAAAAAAAAAAAAAAAAAAAAAAAAAAAAAAAAAAAAAAAAAAAAAAAAAAAAAAAAAAAAAAAAAAAAAAAAAAAAAAAAAAAAAAAAAAAAAAAAAAAAAAAAAAAAAAAAAAAAAAAAAAAAAAAAAAAAAAAAAAAAAAAAAAAAAAAAAAAAAAAAAAAAAAAAAAAAAAAAAAAAAAAAAAAAAAAAAAAAAAAAAAAAAAAAAAAAAAAAAAAAAAAAAAAAAAAAAAAAAAAAAAAAAAAAAAAAAAAAAAAAAAAAAAAAAAAAAAAAAAAAAAAAAAAAAAAAAAAAAAAAAAAAAAAAAAAAAAAAAAAAAAAAAAAAAAAAAAAAAAAAAAAAAAAAAAAAAAAAAAAAAAAAAAAAAAAAAAAAAAAAAAAAAAAAAAAAAAAAAAAAAAAAAAAAAAAAAAAAAAAAAAAAAAAAAAAAAAAAAAAAAAAAAAAAAAAAAAAAAAAAAAAAAAAAAAAAAAAAAAAAAAAAAAAAAAAAAAAAAAAAAAAAAAAAAAAAAAAAAAAAAAAAAAAAAAAAAAAAAAAAAAAAAAAAAAAAAAAAAAAAAAAAAAAAAAAAAAAAAAAAAAAAAAAAAAAAAAAAAAAAAAAAAAAAAAAAAAAAAAAAAAAAAAAAAAAAAAAAAAAAAAAAAAAAAAAAAAAAAAAAAAAAAAAAAAAAAAAAAAAAAAAAAAAAAAAAAAAAAAAAAAAAAAAAAAAAAAAAAAAAAAAAAAAAAAAAAAAAAAAAAAAAAAAAAAAAAAAAAAAAAAAAAAAAAAAAAAAAAAAAAAAAAAAAAAAAAAAAAAAAAAAAAAAAAAAAAAAAAAAAAAAAAAAAAAAAAAAAAAAAAAAAAAAAAAAAAAAAAAAAAAAAAAAAAAAAAAAAAAAAAAAAAAAAAAAAAAAAAAAAAAAAAAAAAAAAAAAAAAAAAAAAAAAAAAAAAAAAAAAAAAAAAAAAAAAAAAAAAAAAAAAAAAAAAAAAAAAAAAAAAAAAAAAAAAAAAAAAAAAAAAAAAAAAAAAAAAAAAAAAAAAAAAAAAAAAAAAAAAAAAAAAAAAAAAAAAAAAAAAAAAAAAAAAAAAAAAAAAAAAAAAAAAAAAAAAAAAAAAAAAAAAAAAAAAAAAAAAAAAAAAAAAAAAAAAAAAAAAAAAAAAAAAAAAAAAAAAAAAAAAAAAAAAAAAAAAAAAAAAAAAAAAAAAAAAAAAAAAAAAAAAAAAAAAAAAAAAAAAAAAAAAAAAAAAAAAAAAAAAAAAAAAAAAAAAAAAAAAAAAAAAAAAAAAAAAAAAAAAAAAAAAAAAAAAAAAAAAAAAAAAAAAAAAAAAAAAAAAAAAAAAAAAAAAAAAAAAAAAAAAAAAAAAAAAAAAAAAAAAAAAAAAAAAAAAAAAAAAAAAAAAAAAAAAAAAAAAAAAAAAAAAAAAAAAAAAAAAAAAAAAAAAAAAAAAAAAAAAAAAAAAAAAAAAAAAAAAAAAAAAAAAAAAAAAAAAAAAAAAAAAAAAAAAAAAAAAAAAAAAAAAAAAAAAAAAAAAAAAAAAAAAAAAAAAAAAAAAAAAAAAAAAAAAAAAAAAAAAAAAAAAAAAAAAAAAAAAAAAAAAAAAAAAAAAAAAAAAAAAAAAAAAAAAAAAAAAAAAAAAAAAAAAAAAAAAAAAAAAAAAAAAAAAAAAAAAAAAAAAAAAAAAAAAAAAAAAAAAAAAAAAAAAAAAAAAAAAAAAAAAAAAAAAAAAAAAAAAAAAAAAAAAAAAAAAAAAAAAAAAAAAAAAAAAAAAAAAAAAAAAAAAAAAAAAAAAAAAAAAAAAAAAAAAAAAAAAAAAAAAAAAAAAAAAAAAAAAAAAAAAAAAAAAAAAAAAAAAAAAAAAAAAAAAAAAAAAAAAAAAAAAAAAAAAAAAAAAAAAAAAAAAAAAAAAAAAAAAAAAAAAAAAAAAAAAAAAAAAAAAAAAAAAAAAAAAAAAAAAAAAAAAAAAAAAAAAAAAAAAAAAAAAAAAAAAAAAAAAAAAAAAAAAAAAAAAAAAAAAAAAAAAAAAAAAAAAAAAAAAAAAAAAAAAAAAAAAAAAAAAAAAAAAAAAAAAAAAAAAAAAAAAAAAAAAAAAAAAAAAAAAAAAAAAAAAAAAAAAAAAAAAAAAAAAAAAAAAAAAAAAAAAAAAAAAAAAAAAAAAAAAAAAAAAAAAAAAAAAAAAAAAAAAAAAAAAAAAAAAAAAAAAAAAAAAAAAAAAAAAAAAAAAAAAAAAAAAAAAAAAAAAAAAAAAAAAAAAAAAAAAAAAAAAAAAAAAAAAAAAAAAAAAAAAAAAAAAAAAAAAAAAAAAAAAAAAAAAAAAAAAAAAAAAAAAAAAAAAAAAAAAAAAAAAAAAAAAAAAAAAAAAAAAAAAAAAAAAAAAAAAAAAAAAAAAAAAAAAAAAAAAAAAAAAAAAAAAAAAAAAAAAAAAAAAAAAAAAAAAAAAAAAAAAAAAAAAAAAAAAAAAAAAAAAAAAAAAAAAAAAAAAAAAAAAAAAAAAAAAAAAAAAAAAAAAAAAAAAAAAAAAAAAAAAAAAAAAAAAAAAAAAAAAAAAAAAAAAAAAAAAAAAAAAAAAAAAAAAAAAAAAAAAAAAAAAAAAAAAAAAAAAAAAAAAAAAAAAAAAAAAAAAAAAAAAAAAAAAAAAAAAAAAAAAAAAAAAAAAAAAAAAAAAAAAAAAAAAAAAAAAAAAAAAAAAAAAAAAAAAAAAAAAAAAAAAAAAAAAAAAAAAAAAAAAAAAAAAAAAAAAAAAAAAAAAAAAAAAAAAAAAAAAAAAAAAAAAAAAAAAAAAAAAAAAAAAAAAAAAAAAAAAAAAAAAAAAAAAAAAAAAAAAAAAAAAAAAAAAAAAAAAAAAAAAAAAAAAAAAAAAAAAAAAAAAAAAAAAAAAAAAAAAAAAAAAAAAAAAAAAAAAAAAAAAAAAAAAAAAAAAAAAAAAAAAAAAAAAAAAAAAAAAAAAAAAAAAAAAAAAAAAAAAAAAAAAAAAAAAAAAAAAAAAAAAAAAAAAAAAAAAAAAAAAAAAAAAAAAAAAAAAAAAAAAAAAAAAAAAAAAAAAAAAAAAAAAAAAAAAAAAAAAAAAAAAAAAAAAAAAAAAAAAAAAAAAAAAAAAAAAAAAAAAAAAAAAAAAAAAAAAAAAAAAAAAAAAAAAAAAAAAAAAAAAAAAAAAAAAAAAAAAAAAAAAAAAAAAAAAAAAAAAAAAAAAAAAAAAAAAAAAAAAAAAAAAAAAAAAAAAAAAAAAAAAAAAAAAAAAAAAAAAAAAAAAAAAAAAAAAAAAAAAAAAAAAAAAAAAAAAAAAAAAAAAAAAAAAAAAAAAAAAAAAAAAAAAAAAAAAAAAAAAAAAAAAAAAAAAAAAAAAAAAAAAAAAAAAAAAAAAAAAAAAAAAAAAAAAAAAAAAAAAAAAAAAAAAAAAAAAAAAAAAAAAAAAAAAAAAAAAAAAAAAAAAAAAAAAAAAAAAAAAAAAAAAAAAAAAAAAAAAAAAAAAAAAAAAAAAAAAAAAAAAAAAAAAAAAAAAAAAAAAAAAAAAAAAAAAAAAAAAAAAAAAAAAAAAAAAAAAAAAAAAAAAAAAAAAAAAAAAAAAAAAAAAAAAAAAAAAAAAAAAAAAAAAAAAAAAAAAAAAAAAAAAAAAAAAAAAAAAAAAAAAAAAAAAAAAAAAAAAAAAAAAAAAAAAAAAAAAAAAAAAAAAAAAAAAAAAAAAAAAAAAAAAAAAAAAAAAAAAAAAAAAAAAAAAAAAAAAAAAAAAAAAAAAAAAAAAAAAAAAAAAAAAAAAAAAAAAAAAAAAAAAAAAAAAAAAAAAAAAAAAAAAAAAAAAAAAAAAAAAAAAAAAAAAAAAAAAAAAAAAAAAAAAAAAAAAAAAAAAAAAAAAAAAAAAAAAAAAAAAAAAAAAAAAAAAAAAAAAAAAAAAAAAAAAAAAAAAAAAAAAAAAAAAAAAAAAAAAAAAAAAAAAAAAAAAAAAAAAAAAAAAAAAAAAAAAAAAAAAAAAAAAAAAAAAAAAAAAAAAAAAAAAAAAAAAAAAAAAAAAAAAAAAAAAAAAAAAAAAAAAAAAAAAAAAAAAAAAAAAAAAAAAAAAAAAAAAAAAAAAAAAAAAAAAAAAAAAAAAAAAAAAAAAAAAAAAAAAAAAAAAAAAAAAAAAAAAAAAAAAAAAAAAAAAAAAAAAAAAAAAAAAAAAAAAAAAAAAAAAAAAAAAAAAAAAAAAAAAAAAAAAAAAAAAAAAAAAAAAAAAAAAAAAAAAAAAAAAAAAAAAAAAAAAAAAAAAAAAAAAAAAAAAAAAAAAAAAAAAAAAAAAAAAAAAAAAAAAAAAAAAAAAAAAAAAAAAAAAAAAAAAAAAAAAAAAAAAAAAAAAAAAAAAAAAAAAAAAAAAAAAAAAAAAAAAAAAAAAAAAAAAAAAAAAAAAAAAAAAAAAAAAAAAAAAAAAAAAAAAAAAAAAAAAAAAAAAAAAAAAAAAAAAAAAAAAAAAAAAAAAAAAAAAAAAAAAAAAAAAAAAAAAAAAAAAAAAAAAAAAAAAAAAAAAAAAAAAAAAAAAAAAAAAAAAAAAAAAAAAAAAAAAAAAAAAAAAAAAAAAAAAAAAAAAAAAAAAAAAAAAAAAAAAAAAAAAAAAAAAAAAAAAAAAAAAAAAAAAAAAAAAAAAAAAAAAAAAAAAAAAAAAAAAAAAAAAAAAAAAAAAAAAAAAAAAAAAAAAAAAAAAAAAAAAAAAAAAAAAAAAAAAAAAAAAAAAAAAAAAAAAAAAAAAAAAAAAAAAAAAAAAAAAAAAAAAAAAAAAAAAAAAAAAAAAAAAAAAAAAAAAAAAAAAAAAAAAAAAAAAAAAAAAAAAAAAAAAAAAAAAAAAAAAAAAAAAAAAAAAAAAAAAAAAAAAAAAAAAAAAAAAAAAAAAAAAAAAAAAAAAAAAAAAAAAAAAAAAAAAAAAAAAAAAAAAAAAAAAAAAAAAAAAAAAAAAAAAAAAAAAAAAAAAAAAAAAAAAAAAAAAAAAAAAAAAAAAAAAAAAAAAAAAAAAAAAAAAAAAAAAAAAAAAAAAAAAAAAAAAAAAAAAAAAAAAAAAAAAAAAAAAAAAAAAAAAAAAAAAAAAAAAAAAAAAAAAAAAAAAAAAAAAAAAAAAAAAAAAAAAAAAAAAAAAAAAAAAAAAAAAAAAAAAAAAAAAAAAAAAAAAAAAAAAAAAAAAAAAAAAAAAAAAAAAAAAAAAAAAAAAAAAAAAAAAAAAAAAAAAAAAAAAAAAAAAAAAAAAAAAAAAAAAAAAAAAAAAAAAAAAAAAAAAAAAAAAAAAAAAAAAAAAAAAAAAAAAAAAAAAAAAAAAAAAAAAAAAAAAAAAAAAAAAAAAAAAAAAAAAAAAAAAAAAAAAAAAAAAAAAAAAAAAAAAAAAAAAAAAAAAAAAAAAAAAAAAAAAAAAAAAAAAAAAAAAAAAAAAAAAAAAAAAAAAAAAAAAAAAAAAAAAAAAAAAAAAAAAAAAAAAAAAAAAAAAAAAAAAAAAAAAAAAAAAAAAAAAAAAAAAAAAAAAAAAAAAAAAAAAAAAAAAAAAAAAAAAAAAAAAAAAAAAAAAAAAAAAAAAAAAAAAAAAAAAAAAAAAAAAAAAAAAAAAAAAAAAAAAAAAAAAAAAAAAAAAAAAAAAAAAAAAAAAAAAAAAAAAAAAAAAAAAAAAAAAAAAAAAAAAAAAAAAAAAAAAAAAAAAAAAAAAAAAAAAAAAAAAAAAAAAAAAAAAAAAAAAAAAAAAAAAAAAAAAAAAAAAAAAAAAAAAAAAAAAAAAAAAAAAAAAAAAAAAAAAAAAAAAAAAAAAAAAAAAAAAAAAAAAAAAAAAAAAAAAAAAAAAAAAAAAAAAAAAAAAAAAAAAAAAAAAAAAAAAAAAAAAAAAAAAAAAAAAAAAAAAAAAAAAAAAAAAAAAAAAAAAAAAAAAAAAAAAAAAAAAAAAAAAAAAAAAAAAAAAAAAAAAAAAAAAAAAAAAAAAAAAAAAAAAAAAAAAAAAAAAAAAAAAAAAAAAAAAAAAAAAAAAAAAAAAAAAAAAAAAAAAAAAAAAAAAAAAAAAAAAAAAAAAAAAAAAAAAAAAAAAAAAAAAAAAAAAAAAAAAAAAAAAAAAAAAAAAAAAAAAAAAAAAAAAAAAAAAAAAAAAAAAAAAAAAAAAAAAAAAAAAAAAAAAAAAAAAAAAAAAAAAAAAAAAAAAAAAAAAAAAAAAAAAAAAAAAAAAAAAAAAAAAAAAAAAAAAAAAAAAAAAAAAAAAAAAAAAAAAAAAAAAAAAAAAAAAAAAAAAAAAAAAAAAAAAAAAAAAAAAAAAAAAAAAAAAAAAAAAAAAAAAAAAAAAAAAAAAAAAAAAAAAAAAAAAAAAAAAAAAAAAAAAAAAAAAAAAAAAAAAAAAAAAAAAAAAAAAAAAAAAAAAAAAAAAAAAAAAAAAAAAAAAAAAAAAAAAAAAAAAAAAAAAAAAAAAAAAAAAAAAAAAAAAAAAAAAAAAAAAAAAAAAAAAAAAAAAAAAAAAAAAAAAAAAAAAAAAAAAAAAAAAAAAAAAAAAAAAAAAAAAAAAAAAAAAAAAAAAAAAAAAAAAAAAAAAAAAAAAAAAAAAAAAAAAAAAAAAAAAAAAAAAAAAAAAAAAAAAAAAAAAAAAAAAAAAAAAAAAAAAAAAAAAAAAAAAAAAAAAAAAAAAAAAAAAAAAAAAAAAAAAAAAAAAAAAAAAAAAAAAAAAAAAAAAAAAAAAAAAAAAAAAAAAAAAAAAAAAAAAAAAAAAAAAAAAAAAAAAAAAAAAAAAAAAAAAAAAAAAAAAAAAAAAAAAAAAAAAAAAAAAAAAAAAAAAAAAAAAAAAAAAAAAAAAAAAAAAAAAAAAAAAAAAAAAAAAAAAAAAAAAAAAAAAAAAAAAAAAAAAAAAAAAAAAAAAAAAAAAAAAAAAAAAAAAAAAAAAAAAAAAAAAAAAAAAAAAAAAAAAAAAAAAAAAAAAAAAAAAAAAAAAAAAAAAAAAAAAAAAAAAAAAAAAAAAAAAAAAAAAAAAAAAAAAAAAAAAAAAAAAAAAAAAAAAAAAAAAAAAAAAAAAAAAAAAAAAAAAAAAAAAAAAAAAAAAAAAAAAAAAAAAAAAAAAAAAAAAAAAAAAAAAAAAAAAAAAAAAAAAAAAAAAAAAAAAAAAAAAAAAAAAAAAAAAAAAAAAAAAAAAAAAAAAAAAAAAAAAAAAAAAAAAAAAAAAAAAAAAAAAAAAAAAAAAAAAAAAAAAAAAAAAAAAAAAAAAAAAAAAAAAAAAAAAAAAAAAAAAAAAAAAAAAAAAAAAAAAAAAAAAAAAAAAAAAAAAAAAAAAAAAAAAAAAAAAAAAAAAAAAAAAAAAAAAAAAAAAAAAAAAAAAAAAAAAAAAAAAAAAAAAAAAAAAAAAAAAAAAAAAAAAAAAAAAAAAAAAAAAAAAAAAAAAAAAAAAAAAAAAAAAAAAAAAAAAAAAAAAAAAAAAAAAAAAAAAAAAAAAAAAAAAAAAAAAAAAAAAAAAAAAAAAAAAAAAAAAAAAAAAAAAAAAAAAAAAAAAAAAAAAAAAAAAAAAAAAAAAAAAAAAAAAAAAAAAAAAAAAAAAAAAAAAAAAAAAAAAAAAAAAAAAAAAAAAAAAAAAAAAAAAAAAAAAAAAAAAAAAAAAAAAAAAAAAAAAAAAAAAAAAAAAAAAAAAAAAAAAAAAAAAAAAAAAAAAAAAAAAAAAAAAAAAAAAAAAAAAAAAAAAAAAAAAAAAAAAAAAAAAAAAAAAAAAAAAAAAAAAAAAAAAAAAAAAAAAAAAAAAAAAAAAAAAAAAAAAAAAAAAAAAAAAAAAAAAAAAAAAAAAAAAAAAAAAAAAAAAAAAAAAAAAAAAAAAAAAAAAAAAAAAAAAAAAAAAAAAAAAAAAAAAAAAAAAAAAAAAAAAAAAAAAAAAAAAAAAAAAAAAAAAAAAAAAAAAAAAAAAAAAAAAAAAAAAAAAAAAAAAAAAAAAAAAAAAAAAAAAAAAAAAAAAAAAAAAAAAAAAAAAAAAAAAAAAAAAAAAAAAAAAAAAAAAAAAAAAAAAAAAAAAAAAAAAAAAAAAAAAAAAAAAAAAAAAAAAAAAAAAAAAAAAAAAAAAAAAAAAAAAAAAAAAAAAAAAAAAAAAAAAAAAAAAAAAAAAAAAAAAAAAAAAAAAAAAAAAAAAAAAAAAAAAAAAAAAAAAAAAAAAAAAAAAAAAAAAAAAAAAAAAAAAAAAAAAAAAAAAAAAAAAAAAAAAAAAAAAAAAAAAAAAAAAAAAAAAAAAAAAAAAAAAAAAAAAAAAAAAAAAAAAAAAAAAAAAAAAAAAAAAAAAAAAAAAAAAAAAAAAAAAAAAAAAAAAAAAAAAAAAAAAAAAAAAAAAAAAAAAAAAAAAAAAAAAAAAAAAAAAAAAAAAAAAAAAAAAAAAAAAAAAAAAAAAAAAAAAAAAAAAAAAAAAAAAAAAAAAAAAAAAAAAAAAAAAAAAAAAAAAAAAAAAAAAAAAAAAAAAAAAAAAAAAAAAAAAAAAAAAAAAAAAAAAAAAAAAAAAAAAAAAAAAAAAAAAAAAAAAAAAAAAAAAAAAAAAAAAAAAAAAAAAAAAAAAAAAAAAAAAAAAAAAAAAAAAAAAAAAAAAAAAAAAAAAAAAAAAAAAAAAAAAAAAAAAAAAAAAAAAAAAAAAAAAAAAAAAAAAAAAAAAAAAAAAAAAAAAAAAAAAAAAAAAAAAAAAAAAAAAAAAAAAAAAAAAAAAAAAAAAAAAAAAAAAAAAAAAAAAAAAAAAAAAAAAAAAAAAAAAAAAAAAAAAAAAAAAAAAAAAAAAAAAAAAAAAAAAAAAAAAAAAAAAAAAAAAAAAAAAAAAAAAAAAAAAAAAAAAAAAAAAAAAAAAAAAAAAAAAAAAAAAAAAAAAAAAAAAAAAAAAAAAAAAAAAAAAAAAAAAAAAAAAAAAAAAAAAAAAAAAAAAAAAAAAAAAAAAAAAAAAAAAAAAAAAAAAAAAAAAAAAAAAAAAAAAAAAAAAAAAAAAAAAAAAAAAAAAAAAAAAAAAAAAAAAAAAAAAAAAAAAAAAAAAAAAAAAAAAAAAAAAAAAAAAAAAAAAAAAAAAAAAAAAAAAAAAAAAAAAAAAAAAAAAAAAAAAAAAAAAAAAAAAAAAAAAAAAAAAAAAAAAAAAAAAAAAAAAAAAAAAAAAAAAAAAAAAAAAAAAAAAAAAAAAAAAAAAAAAAAAAAAAAAAAAAAAAAAAAAAAAAAAAAAAAAAAAAAAAAAAAAAAAAAAAAAAAAAAAAAAAAAAAAAAAAAAAAAAAAAAAAAAAAAAAAAAAAAAAAAAAAAAAAAAAAAAAAAAAAAAAAAAAAAAAAAAAAAAAAAAAAAAAAAAAAAAAAAAAAAAAAAAAAAAAAAAAAAAAAAAAAAAAAAAAAAAAAAAAAAAAAAAAAAAAAAAAAAAAAAAAAAAAAAAAAAAAAAAAAAAAAAAAAAAAAAAAAAAAAAAAAAAAAAAAAAAAAAAAAAAAAAAAAAAAAAAAAAAAAAAAAAAAAAAAAAAAAAAAAAAAAAAAAAAAAAAAAAAAAAAAAAAAAAAAAAAAAAAAAAAAAAAAAAAAAAAAAAAAAAAAAAAAAAAAAAAAAAAAAAAAAAAAAAAAAAAAAAAAAAAAAAAAAAAAAAAAAAAAAAAAAAAAAAAAAAAAAAAAAAAAAAAAAAAAAAAAAAAAAAAAAAAAAAAAAAAAAAAAAAAAAAAAAAAAAAAAAAAAAAAAAAAAAAAAAAAAAAAAAAAAAAAAAAAAAAAAAAAAAAAAAAAAAAAAAAAAAAAAAAAAAAAAAAAAAAAAAAAAAAAAAAAAAAAAAAAAAAAAAAAAAAAAAAAAAAAAAAAAAAAAAAAAAAAAAAAAAAAAAAAAAAAAAAAAAAAAAAAAAAAAAAAAAAAAAAAAAAAAAAAAAAAAAAAAAAAAAAAAAAAAAAAAAAAAAAAAAAAAAAAAAAAAAAAAAAAAAAAAAAAAAAAAAAAAAAAAAAAAAAAAAAAAAAAAAAAAAAAAAAAAAAAAAAAAAAAAAAAAAAAAAAAAAAAAAAAAAAAAAAAAAAAAAAAAAAAAAAAAAAAAAAAAAAAAAAAAAAAAAAAAAAAAAAAAAAAAAAAAAAAAAAAAAAAAAAAAAAAAAAAAAAAAAAAAAAAAAAAAAAAAAAAAAAAAAAAAAAAAAAAAAAAAAAAAAAAAAAAAAAAAAAAAAAAAAAAAAAAAAAAAAAAAAAAAAAAAAAAAAAAAAAAAAAAAAAAAAAAAAAAAAAAAAAAAAAAAAAAAAAAAAAAAAAAAAAAAAAAAAAAAAAAAAAAAAAAAAAAAAAAAAAAAAAAAAAAAAAAAAAAAAAAAAAAAAAAAAAAAAAAAAAAAAAAAAAAAAAAAAAAAAAAAAAAAAAAAAAAAAAAAAAAAAAAAAAAAAAAAAAAAAAAAAAAAAAAAAAAAAAAAAAAAAAAAAAAAAAAAAAAAAAAAAAAAAAAAAAAAAAAAAAAAAAAAAAAAAAAAAAAAAAAAAAAAAAAAAAAAAAAAAAAAAAAAAAAAAAAAAAAAAAAAAAAAAAAAAAAAAAAAAAAAAAAAAAAAAAAAAAAAAAAAAAAAAAAAAAAAAAAAAAAAAAAAAAAAAAAAAAAAAAAAAAAAAAAAAAAAAAAAAAAAAAAAAAAAAAAAAAAAAAAAAAAAAAAAAAAAAAAAAAAAAAAAAAAAAAAAAAAAAAAAAAAAAAAAAAAAAAAAAAAAAAAAAAAAAAAAAAAAAAAAAAAAAAAAAAAAAAAAAAAAAAAAAAAAAAAAAAAAAAAAAAAAAAAAAAAAAAAAAAAAAAAAAAAAAAAAAAAAAAAAAAAAAAAAAAAAAAAAAAAAAAAAAAAAAAAAAAAAAAAAAAAAAAAAAAAAAAAAAAAAAAAAAAAAAAAAAAAAAAAAAAAAAAAAAAAAAAAAAAAAAAAAAAAAAAAAAAAAAAAAAAAAAAAAAAAAAAAAAAAAAAAAAAAAAAAAAAAAAAAAAAAAAAAAAAAAAAAAAAAAAAAAAAAAAAAAAAAAAAAAAAAAAAAAAAAAAAAAAAAAAAAAAAAAAAAAAAAAAAAAAAAAAAAAAAAAAAAAAAAAAAAAAAAAAAAAAAAAAAAAAAAAAAAAAAAAAAAAAAAAAAAAAAAAAAAAAAAAAAAAAAAAAAAAAAAAAAAAAAAAAAAAAAAAAAAAAAAAAAAAAAAAAAAAAAAAAAAAAAAAAAAAAAAAAAAAAAAAAAAAAAAAAAAAAAAAAAAAAAAAAAAAAAAAAAAAAAAAAAAAAAAAAAAAAAAAAAAAAAAAAAAAAAAAAAAAAAAAAAAAAAAAAAAAAAAAAAAAAAAAAAAAAAAAAAAAAAAAAAAAAAAAAAAAAAAAAAAAAAAAAAAAAAAAAAAAAAAAAAAAAAAAAAAAAAAAAAAAAAAAAAAAAAAAAAAAAAAAAAAAAAAAAAAAAAAAAAAAAAAAAAAAAAAAAAAAAAAAAAAAAAAAAAAAAAAAAAAAAAAAAAAAAAAAAAAAAAAAAAAAAAAAAAAAAAAAAAAAAAAAAAAAAAAAAAAAAAAAAAAAAAAAAAAAAAAAAAAAAAAAAAAAAAAAAAAAAAAAAAAAAAAAAAAAAAAAAAAAAAAAAAAAAAAAAAAAAAAAAAAAAAAAAAAAAAAAAAAAAAAAAAAAAAAAAAAAAAAAAAAAAAAAAAAAAAAAAAAAAAAAAAAAAAAAAAAAAAAAAAAAAAAAAAAAAAAAAAAAAAAAAAAAAAAAAAAAAAAAAAAAAAAAAAAAAAAAAAAAAAAAAAAAAAAAAAAAAAAAAAAAAAAAAAAAAAAAAAAAAAAAAAAAAAAAAAAAAAAAAAAAAAAAAAAAAAAAAAAAAAAAAAAAAAAAAAAAAAAAAAAAAAAAAAAAAAAAAAAAAAAAAAAAAAAAAAAAAAAAAAAAAAAAAAAAAAAAAAAAAAAAAAAAAAAAAAAAAAAAAAAAAAAAAAAAAAAAAAAAAAAAAAAAAAAAAAAAAAAAAAAAAAAAAAAAAAAAAAAAAAAAAAAAAAAAAAAAAAAAAAAAAAAAAAAAAAAAAAAAAAAAAAAAAAAAAAAAAAAAAAAAAAAAAAAAAAAAAAAAAAAAAAAAAAAAAAAAAAAAAAAAAAAAAAAAAAAAAAAAAAAAAAAAAAAAAAAAAAAAAAAAAAAAAAAAAAAAAAAAAAAAAAAAAAAAAAAAAAAAAAAAAAAAAAAAAAAAAAAAAAAAAAAAAAAAAAAAAAAAAAAAAAAAAAAAAAAAAAAAAAAAAAAAAAAAAAAAAAAAAAAAAAAAAAAAAAAAAAAAAAAAAAAAAAAAAAAAAAAAAAAAAAAAAAAAAAAAAAAAAAAAAAAAAAAAAAAAAAAAAAAAAAAAAAAAAAAAAAAAAAAAAAAAAAAAAAAAAAAAAAAAAAAAAAAAAAAAAAAAAAAAAAAAAAAAAAAAAAAAAAAAAAAAAAAAAAAAAAAAAAAAAAAAAAAAAAAAAAAAAAAAAAAAAAAAAAAAAAAAAAAAAAAAAAAAAAAAAAAAAAAAAAAAAAAAAAAAAAAAAAAAAAAAAAAAAAAAAAAAAAAAAAAAAAAAAAAAAAAAAAAAAAAAAAAAAAAAAAAAAAAAAAAAAAAAAAAAAAAAAAAAAAAAAAAAAAAAAAAAAAAAAAAAAAAAAAAAAAAAAAAAAAAAAAAAAAAAAAAAAAAAAAAAAAAAAAAAAAAAAAAAAAAAAAAAAAAAAAAAAAAAAAAAAAAAAAAAAAAAAAAAAAAAAAAAAAAAAAAAAAAAAAAAAAAAAAAAAAAAAAAAAAAAAAAAAAAAAAAAAAAAAAAAAAAAAAAAAAAAAAAAAAAAAAAAAAAAAAAAAAAAAAAAAAAAAAAAAAAAAAAAAAAAAAAAAAAAAAAAAAAAAAAAAAAAAAAAAAAAAAAAAAAAAAAAAAAAAAAAAAAAAAAAAAAAAAAAAAAAAAAAAAAAAAAAAAAAAAAAAAAAAAAAAAAAAAAAAAAAAAAAAAAAAAAAAAAAAAAAAAAAAAAAAAAAAAAAAAAAAAAAAAAAAAAAAAAAAAAAAAAAAAAAAAAAAAAAAAAAAAAAAAAAAAAAAAAAAAAAAAAAAAAAAAAAAAAAAAAAAAAAAAAAAAAAAAAAAAAAAAAAAAAAAAAAAAAAAAAAAAAAAAAAAAAAAAAAAAAAAAAAAAAAAAAAAAAAAAAAAAAAAAAAAAAAAAAAAAAAAAAAAAAAAAAAAAAAAAAAAAAAAAAAAAAAAAAAAAAAAAAAAAAAAAAAAAAAAAAAAAAAAAAAAAAAAAAAAAAAAAAAAAAAAAAAAAAAAAAAAAAAAAAAAAAAAAAAAAAAAAAAAAAAAAAAAAAAAAAAAAAAAAAAAAAAAAAAAAAAAAAAAAAAAAAAAAAAAAAAAAAAAAAAAAAAAAAAAAAAAAAAAAAAAAAAAAAAAAAAAAAAAAAAAAAAAAAAAAAAAAAAAAAAAAAAAAAAAAAAAAAAAAAAAAAAAAAAAAAAAAAAAAAAAAAAAAAAAAAAAAAAAAAAAAAAAAAAAAAAAAAAAAAAAAAAAAAAAAAAAAAAAAAAAAAAAAAAAAAAAAAAAAAAAAAAAAAAAAAAAAAAAAAAAAAAAAAAAAAAAAAAAAAAAAAAAAAAAAAAAAAAAAAAAAAAAAAAAAAAAAAAAAAAAAAAAAAAAAAAAAAAAAAAAAAAAAAAAAAAAAAAAAAAAAAAAAAAAAAAAAAAAAAAAAAAAAAAAAAAAAAAAAAAAAAAAAAAAAAAAAAAAAAAAAAAAAAAAAAAAAAAAAAAAAAAAAAAAAAAAAAAAAAAAAAAAAAAAAAAAAAAAAAAAAAAAAAAAAAAAAAAAAAAAAAAAAAAAAAAAAAAAAAAAAAAAAAAAAAAAAAAAAAAAAAAAAAAAAAAAAAAAAAAAAAAAAAAAAAAAAAAAAAAAAAAAAAAAAAAAAAAAAAAAAAAAAAAAAAAAAAAAAAAAAAAAAAAAAAAAAAAAAAAAAAAAAAAAAAAAAAAAAAAAAAAAAAAAAAAAAAAAAAAAAAAAAAAAAAAAAAAAAAAAAAAAAAAAAAAAAAAAAAAAAAAAAAAAAAAAAAAAAAAAAAAAAAAAAAAAAAAAAAAAAAAAAAAAAAAAAAAAAAAAAAAAAAAAAAAAAAAAAAAAAAAAAAAAAAAAAAAAAAAAAAAAAAAAAAAAAAAAAAAAAAAAAAAAAAAAAAAAAAAAAAAAAAAAAAAAAAAAAAAAAAAAAAAAAAAAAAAAAAAAAAAAAAAAAAAAAAAAAAAAAAAAAAAAAAAAAAAAAAAAAAAAAAAAAAAAAAAAAAAAAAAAAAAAAAAAAAAAAAAAAAAAAAAAAAAAAAAAAAAAAAAAAAAAAAAAAAAAAAAAAAAAAAAAAAAAAAAAAAAAAAAAAAAAAAAAAAAAAAAAAAAAAAAAAAAAAAAAAAAAAAAAAAAAAAAAAAAAAAAAAAAAAAAAAAAAAAAAAAAAAAAAAAAAAAAAAAAAAAAAAAAAAAAAAAAAAAAAAAAAAAAAAAAAAAAAAAAAAAAAAAAAAAAAAAAAAAAAAAAAAAAAAAAAAAAAAAAAAAAAAAAAAAAAAAAAAAAAAAAAAAAAAAAAAAAAAAAAAAAAAAAAAAAAAAAAAAAAAAAAAAAAAAAAAAAAAAAAAAAAAAAAAAAAAAAAAAAAAAAAAAAAAAAAAAAAAAAAAAAAAAAAAAAAAAAAAAAAAAAAAAAAAAAAAAAAAAAAAAAAAAAAAAAAAAAAAAAAAAAAAAAAAAAAAAAAAAAAAAAAAAAAAAAAAAAAAAAAAAAAAAAAAAAAAAAAAAAAAAAAAAAAAAAAAAAAAAAAAAAAAAAAAAAAAAAAAAAAAAAAAAAAAAAAAAAAAAAAAAAAAAAAAAAAAAAAAAAAAAAAAAAAAAAAAAAAAAAAAAAAAAAAAAAAAAAAAAAAAAAAAAAAAAAAAAAAAAAAAAAAAAAAAAAAAAAAAAAAAAAAAAAAAAAAAAAAAAAAAAAAAAAAAAAAAAAAAAAAAAAAAAAAAAAAAAAAAAAAAAAAAAAAAAAAAAAAAAAAAAAAAAAAAAAAAAAAAAAAAAAAAAAAAAAAAAAAAAAAAAAAAAAAAAAAAAAAAAAAAAAAAAAAAAAAAAAAAAAAAAAAAAAAAAAAAAAAAAAAAAAAAAAAAAAAAAAAAAAAAAAAAAAAAAAAAAAAAAAAAAAAAAAAAAAAAAAAAAAAAAAAAAAAAAAAAAAAAAAAAAAAAAAAAAAAAAAAAAAAAAAAAAAAAAAAAAAAAAAAAAAAAAAAAAAAAAAAAAAAAAAAAAAAAAAAAAAAAAAAAAAAAAAAAAAAAAAAAAAAAAAAAAAAAAAAAAAAAAAAAAAAAAAAAAAAAAAAAAAAAAAAAAAAAAAAAAAAAAAAAAAAAAAAAAAAAAAAAAAAAAAAAAAAAAAAAAAAAAAAAAAAAAAAAAAAAAAAAAAAAAAAAAAAAAAAAAAAAAAAAAAAAAAAAAAAAAAAAAAAAAAAAAAAAAAAAAAAAAAAAAAAAAAAAAAAAAAAAAAAAAAAAAAAAAAAAAAAAAAAAAAAAAAAAAAAAAAAAAAAAAAAAAAAAAAAAAAAAAAAAAAAAAAAAAAAAAAAAAAAAAAAAAAAAAAAAAAAAAAAAAAAAAAAAAAAAAAAAAAAAAAAAAAAAAAAAAAAAAAAAAAAAAAAAAAAAAAAAAAAAAAAAAAAAAAAAAAAAAAAAAAAAAAAAAAAAAAAAAAAAAAAAAAAAAAAAAAAAAAAAAAAAAAAAAAAAAAAAAAAAAAAAAAAAAAAAAAAAAAAAAAAAAAAAAAAAAAAAAAAAAAAAAAAAAAAAAAAAAAAAAAAAAAAAAAAAAAAAAAAAAAAAAAAAAAAAAAAAAAAAAAAAAAAAAAAAAAAAAAAAAAAAAAAAAAAAAAAAAAAAAAAAAAAAAAAAAAAAAAAAAAAAAAAAAAAAAAAAAAAAAAAAAAAAAAAAAAAAAAAAAAAAAAAAAAAAAAAAAAAAAAAAAAAAAAAAAAAAAAAAAAAAAAAAAAAAAAAAAAAAAAAAAAAAAAAAAAAAAAAAAAAAAAAAAAAAAAAAAAAAAAAAAAAAAAAAAAAAAAAAAAAAAAAAAAAAAAAAAAAAAAAAAAAAAAAAAAAAAAAAAAAAAAAAAAAAAAAAAAAAAAAAAAAAAAAAAAAAAAAAAAAAAAAAAAAAAAAAAAAAAAAAAAAAAAAAAAAAAAAAAAAAAAAAAAAAAAAAAAAAAAAAAAAAAAAAAAAAAAAAAAAAAAAAAAAAAAAAAAAAAAAAAAAAAAAAAAAAAAAAAAAAAAAAAAAAAAAAAAAAAAAAAAAAAAAAAAAAAAAAAAAAAAAAAAAAAAAAAAAAAAAAAAAAAAAAAAAAAAAAAAAAAAAAAAAAAAAAAAAAAAAAAAAAAAAAAAAAAAAAAAAAAAAAAAAAAAAAAAAAAAAAAAAAAAAAAAAAAAAAAAAAAAAAAAAAAAAAAAAAAAAAAAAAAAAAAAAAAAAAAAAAAAAAAAAAAAAAAAAAAAAAAAAAAAAAAAAAAAAAAAAAAAAAAAAAAAAAAAAAAAAAAAAAAAAAAAAAAAAAAAAAAAAAAAAAAAAAAAAAAAAAAAAAAAAAAAAAAAAAAAAAAAAAAAAAAAAAAAAAAAAAAAAAAAAAAAAAAAAAAAAAAAAAAAAAAAAAAAAAAAAAAAAAAAAAAAAAAAAAAAAAAAAAAAAAAAAAAAAAAAAAAAAAAAAAAAAAAAAAAAAAAAAAAAAAAAAAAAAAAAAAAAAAAAAAAAAAAAAAAAAAAAAAAAAAAAAAAAAAAAAAAAAAAAAAAAAAAAAAAAAAAAAAAAAAAAAAAAAAAAAAAAAAAAAAAAAAAAAAAAAAAAAAAAAAAAAAAAAAAAAAAAAAAAAAAAAAAAAAAAAAAAAAAAAAAAAAAAAAAAAAAAAAAAAAAAAAAAAAAAAAAAAAAAAAAAAAAAAAAAAAAAAAAAAAAAAAAAAAAAAAAAAAAAAAAAAAAAAAAAAAAAAAAAAAAAAAAAAAAAAAAAAAAAAAAAAAAAAAAAAAAAAAAAAAAAAAAAAAAAAAAAAAAAAAAAAAAAAAAAAAAAAAAAAAAAAAAAAAAAAAAAAAAAAAAAAAAAAAAAAAAAAAAAAAAAAAAAAAAAAAAAAAAAAAAAAAAAAAAAAAAAAAAAAAAAAAAAAAAAAAAAAAAAAAAAAAAAAAAAAAAAAAAAAAAAAAAAAAAAAAAAAAAAAAAAAAAAAAAAAAAAAAAAAAAAAAAAAAAAAAAAAAAAAAAAAAAAAAAAAAAAAAAAAAAAAAAAAAAAAAAAAAAAAAAAAAAAAAAAAAAAAAAAAAAAAAAAAAAAAAAAAAAAAAAAAAAAAAAAAAAAAAAAAAAAAAAAAAAAAAAAAAAAAAAAAAAAAAAAAAAAAAAAAAAAAAAAAAAAAAAAAAAAAAAAAAAAAAAAAAAAAAAAAAAAAAAAAAAAAAAAAAAAAAAAAAAAAAAAAAAAAAAAAAAAAAAAAAAAAAAAAAAAAAAAAAAAAAAAAAAAAAAAAAAAAAAAAAAAAAAAAAAAAAAAAAAAAAAAAAAAAAAAAAAAAAAAAAAAAAAAAAAAAAAAAAAAAAAAAAAAAAAAAAAAAAAAAAAAAAAAAAAAAAAAAAAAAAAAAAAAAAAAAAAAAAAAAAAAAAAAAAAAAAAAAAAAAAAAAAAAAAAAAAAAAAAAAAAAAAAAAAAAAAAAAAAAAAAAAAAAAAAAAAAAAAAAAAAAAAAAAAAAAAAAAAAAAAAAAAAAAAAAAAAAAAAAAAAAAAAAAAAAAAAAAAAAAAAAAAAAAAAAAAAAAAAAAAAAAAAAAAAAAAAAAAAAAAAAAAAAAAAAAAAAAAAAAAAAAAAAAAAAAAAAAAAAAAAAAAAAAAAAAAAAAAAAAAAAAAAAAAAAAAAAAAAAAAAAAAAAAAAAAAAAAAAAAAAAAAAAAAAAAAAAAAAAAAAAAAAAAAAAAAAAAAAAAAAAAAAAAAAAAAAAAAAAAAAAAAAAAAAAAAAAAAAAAAAAAAAAAAAAAAAAAAAAAAAAAAAAAAAAAAAAAAAAAAAAAAAAAAAAAAAAAAAAAAAAAAAAAAAAAAAAAAAAAAAAAAAAAAAAAAAAAAAAAAAAAAAAAAAAAAAAAAAAAAAAAAAAAAAAAAAAAAAAAAAAAAAAAAAAAAAAAAAAAAAAAAAAAAAAAAAAAAAAAAAAAAAAAAAAAAAAAAAAAAAAAAAAAAAAAAAAAAAAAAAAAAAAAAAAAAAAAAAAAAAAAAAAAAAAAAAAAAAAAAAAAAAAAAAAAAAAAAAAAAAAAAAAAAAAAAAAAAAAAAAAAAAAAAAAAAAAAAAAAAAAAAAAAAAAAAAAAAAAAAAAAAAAAAAAAAAAAAAAAAAAAAAAAAAAAAAAAAAAAAAAAAAAAAAAAAAAAAAAAAAAAAAAAAAAAAAAAAAAAAAAAAAAAAAAAAAAAAAAAAAAAAAAAAAAAAAAAAAAAAAAAAAAAAAAAAAAAAAAAAAAAAAAAAAAAAAAAAAAAAAAAAAAAAAAAAAAAAAAAAAAAAAAAAAAAAAAAAAAAAAAAAAAAAAAAAAAAAAAAAAAAAAAAAAAAAAAAAAAAAAAAAAAAAAAAAAAAAAAAAAAAAAAAAAAAAAAAAAAAAAAAAAAAAAAAAAAAAAAAAAAAAAAAAAAAAAAAAAAAAAAAAAAAAAAAAAAAAAAAAAAAAAAAAAAAAAAAAAAAAAAAAAAAAAAAAAAAAAAAAAAAAAAAAAAAAAAAAAAAAAAAAAAAAAAAAAAAAAAAAAAAAAAAAAAAAAAAAAAAAAAAAAAAAAAAAAAAAAAAAAAAAAAAAAAAAAAAAAAAAAAAAAAAAAAAAAAAAAAAAAAAAAAAAAAAAAAAAAAAAAAAAAAAAAAAAAAAAAAAAAAAAAAAAAAAAAAAAAAAAAAAAAAAAAAAAAAAAAAAAAAAAAAAAAAAAAAAAAAAAAAAAAAAAAAAAAAAAAAAAAAAAAAAAAAAAAAAAAAAAAAAAAAAAAAAAAAAAAAAAAAAAAAAAAAAAAAAAAAAAAAAAAAAAAAAAAAAAAAAAAAAAAAAAAAAAAAAAAAAAAAAAAAAAAAAAAAAAAAAAAAAAAAAAAAAAAAAAAAAAAAAAAAAAAAAAAAAAAAAAAAAAAAAAAAAAAAAAAAAAAAAAAAAAAAAAAAAAAAAAAAAAAAAAAAAAAAAAAAAAAAAAAAAAAAAAAAAAAAAAAAAAAAAAAAAAAAAAAAAAAAAAAAAAAAAAAAAAAAAAAAAAAAAAAAAAAAAAAAAAAAAAAAAAAAAAAAAAAAAAAAAAAAAAAAAAAAAAAAAAAAAAAAAAAAAAAAAAAAAAAAAAAAAAAAAAAAAAAAAAAAAAAAAAAAAAAAAAAAAAAAAAAAAAAAAAAAAAAAAAAAAAAAAAAAAAAAAAAAAAAAAAAAAAAAAAAAAAAAAAAAAAAAAAAAAAAAAAAAAAAAAAAAAAAAAAAAAAAAAAAAAAAAAAAAAAAAAAAAAAAAAAAAAAAAAAAAAAAAAAAAAAAAAAAAAAAAAAAAAAAAAAAAAAAAAAAAAAAAAAAAAAAAAAAAAAAAAAAAAAAAAAAAAAAAAAAAAAAAAAAAAAAAAAAAAAAAAAAAAAAAAAAAAAAAAAAAAAAAAAAAAAAAAAAAAAAAAAAAAAAAAAAAAAAAAAAAAAAAAAAAAAAAAAAAAAAAAAAAAAAAAAAAAAAAAAAAAAAAAAAAAAAAAAAAAAAAAAAAAAAAAAAAAAAAAAAAAAAAAAAAAAAAAAAAAAAAAAAAAAAAAAAAAAAAAAAAAAAAAAAAAAAAAAAAAAAAAAAAAAAAAAAAAAAAAAAAAAAAAAAAAAAAAAAAAAAAAAAAAAAAAAAAAAAAAAAAAAAAAAAAAAAAAAAAAAAAAAAAAAAAAAAAAAAAAAAAAAAAAAAAAAAAAAAAAAAAAAAAAAAAAAAAAAAAAAAAAAAAAAAAAAAAAAAAAAAAAAAAAAAAAAAAAAAAAAAAAAAAAAAAAAAAAAAAAAAAAAAAAAAAAAAAAAAAAAAAAAAAAAAAAAAAAAAAAAAAAAAAAAAAAAAAAAAAAAAAAAAAAAAAAAAAAAAAAAAAAAAAAAAAAAAAAAAAAAAAAAAAAAAAAAAAAAAAAAAAAAAAAAAAAAAAAAAAAAAAAAAAAAAAAAAAAAAAAAAAAAAAAAAAAAAAAAAAAAAAAAAAAAAAAAAAAAAAAAAAAAAAAAAAAAAAAAAAAAAAAAAAAAAAAAAAAAAAAAAAAAAAAAAAAAAAAAAAAAAAAAAAAAAAAAAAAAAAAAAAAAAAAAAAAAAAAAAAAAAAAAAAAAAAAAAAAAAAAAAAAAAAAAAAAAAAAAAAAAAAAAAAAAAAAAAAAAAAAAAAAAAAAAAAAAAAAAAAAAAAAAAAAAAAAAAAAAAAAAAAAAAAAAAAAAAAAAAAAAAAAAAAAAAAAAAAAAAAAAAAAAAAAAAAAAAAAAAAAAAAAAAAAAAAAAAAAAAAAAAAAAAAAAAAAAAAAAAAAAAAAAAAAAAAAAAAAAAAAAAAAAAAAAAAAAAAAAAAAAAAAAAAAAAAAAAAAAAAAAAAAAAAAAAAAAAAAAAAAAAAAAAAAAAAAAAAAAAAAAAAAAAAAAAAAAAAAAAAAAAAAAAAAAAAAAAAAAAAAAAAAAAAAAAAAAAAAAAAAAAAAAAAAAAAAAAAAAAAAAAAAAAAAAAAAAAAAAAAAAAAAAAAAAAAAAAAAAAAAAAAAAAAAAAAAAAAAAAAAAAAAAAAAAAAAAAAAAAAAAAAAAAAAAAAAAAAAAAAAAAAAAAAAAAAAAAAAAAAAAAAAAAAAAAAAAAAAAAAAAAAAAAAAAAAAAAAAAAAAAAAAAAAAAAAAAAAAAAAAAAAAAAAAAAAAAAAAAAAAAAAAAAAAAAAAAAAAAAAAAAAAAAAAAAAAAAAAAAAAAAAAAAAAAAAAAAAAAAAAAAAAAAAAAAAAAAAAAAAAAAAAAAAAAAAAAAAAAAAAAAAAAAAAAAAAAAAAAAAAAAAAAAAAAAAAAAAAAAAAAAAAAAAAAAAAAAAAAAAAAAAAAAAAAAAAAAAAAAAAAAAAAAAAAAAAAAAAAAAAAAAAAAAAAAAAAAAAAAAAAAAAAAAAAAAAAAAAAAAAAAAAAAAAAAAAAAAAAAAAAAAAAAAAAAAAAAAAAAAAAAAAAAAAAAAAAAAAAAAAAAAAAAAAAAAAAAAAAAAAAAAAAAAAAAAAAAAAAAAAAAAAAAAAAAAAAAAAAAAAAAAAAAAAAAAAAAAAAAAAAAAAAAAAAAAAAAAAAAAAAAAAAAAAAAAAAAAAAAAAAAAAAAAAAAAAAAAAAAAAAAAAAAAAAAAAAAAAAAAAAAAAAAAAAAAAAAAAAAAAAAAAAAAAAAAAAAAAAAAAAAAAAAAAAAAAAAAAAAAAAAAAAAAAAAAAAAAAAAAAAAAAAAAAAAAAAAAAAAAAAAAAAAAAAAAAAAAAAAAAAAAAAAAAAAAAAAAAAAAAAAAAAAAAAAAAAAAAAAAAAAAAAAAAAAAAAAAAAAAAAAAAAAAAAAAAAAAAAAAAAAAAAAAAAAAAAAAAAAAAAAAAAAAAAAAAAAAAAAAAAAAAAAAAAAAAAAAAAAAAAAAAAAAAAAAAAAAAAAAAAAAAAAAAAAAAAAAAAAAAAAAAAAAAAAAAAAAAAAAAAAAAAAAAAAAAAAAAAAAAAAAAAAAAAAAAAAAAAAAAAAAAAAAAAAAAAAAAAAAAAAAAAAAAAAAAAAAAAAAAAAAAAAAAAAAAAAAAAAAAAAAAAAAAAAAAAAAAAAAAAAAAAAAAAAAAAAAAAAAAAAAAAAAAAAAAAAAAAAAAAAAAAAAAAAAAAAAAAAAAAAAAAAAAAAAAAAAAAAAAAAAAAAAAAAAAAAAAAAAAAAAAAAAAAAAAAAAAAAAAAAAAAAAAAAAAAAAAAAAAAAAAAAAAAAAAAAAAAAAAAAAAAAAAAAAAAAAAAAAAAAAAAAAAAAAAAAAAAAAAAAAAAAAAAAAAAAAAAAAAAAAAAAAAAAAAAAAAAAAAAAAAAAAAAAAAAAAAAAAAAAAAAAAAAAAAAAAAAAAAAAAAAAAAAAAAAAAAAAAAAAAAAAAAAAAAAAAAAAAAAAAAAAAAAAAAAAAAAAAAAAAAAAAAAAAAAAAAAAAAAAAAAAAAAAAAAAAAAAAAAAAAAAAAAAAAAAAAAAAAAAAAAAAAAAAAAAAAAAAAAAAAAAAAAAAAAAAAAAAAAAAAAAAAAAAAAAAAAAAAAAAAAAAAAAAAAAAAAAAAAAAAAAAAAAAAAAAAAAAAAAAAAAAAAAAAAAAAAAAAAAAAAAAAAAAAAAAAAAAAAAAAAAAAAAAAAAAAAAAAAAAAAAAAAAAAAAAAAAAAAAAAAAAAAAAAAAAAAAAAAAAAAAAAAAAAAAAAAAAAAAAAAAAAAAAAAAAAAAAAAAAAAAAAAAAAAAAAAAAAAAAAAAAAAAAAAAAAAAAAAAAAAAAAAAAAAAAAAAAAAAAAAAAAAAAAAAAAAAAAAAAAAAAAAAAAAAAAAAAAAAAAAAAAAAAAAAAAAAAAAAAAAAAAAAAAAAAAAAAAAAAAAAAAAAAAAAAAAAAAAAAAAAAAAAAAAAAAAAAAAAAAAAAAAAAAAAAAAAAAAAAAAAAAAAAAAAAAAAAAAAAAAAAAAAAAAAAAAAAAAAAAAAAAAAAAAAAAAAAAAAAAAAAAAAAAAAAAAAAAAAAAAAAAAAAAAAAAAAAAAAAAAAAAAAAAAAAAAAAAAAAAAAAAAAAAAAAAAAAAAAAAAAAAAAAAAAAAAAAAAAAAAAAAAAAAAAAAAAAAAAAAAAAAAAAAAAAAAAAAAAAAAAAAAAAAAAAAAAAAAAAAAAAAAAAAAAAAAAAAAAAAAAAAAAAAAAAAAAAAAAAAAAAAAAAAAAAAAAAAAAAAAAAAAAAAAAAAAAAAAAAAAAAAAAAAAAAAAAAAAAAAAAAAAAAAAAAAAAAAAAAAAAAAAAAAAAAAAAAAAAAAAAAAAAAAAAAAAAAAAAAAAAAAAAAAAAAAAAAAAAAAAAAAAAAAAAAAAAAAAAAAAAAAAAAAAAAAAAAAAAAAAAAAAAAAAAAAAAAAAAAAAAAAAAAAAAAAAAAAAAAAAAAAAAAAAAAAAAAAAAAAAAAAAAAAAAAAAAAAAAAAAAAAAAAAAAAAAAAAAAAAAAAAAAAAAAAAAAAAAAAAAAAAAAAAAAAAAAAAAAAAAAAAAAAAAAAAAAAAAAAAAAAAAAAAAAAAAAAAAAAAAAAAAAAAAAAAAAAAAAAAAAAAAAAAAAAAAAAAAAAAAAAAAAAAAAAAAAAAAAAAAAAAAAAAAAAAAAAAAAAAAAAAAAAAAAAAAAAAAAAAAAAAAAAAAAAAAAAAAAAAAAAAAAAAAAAAAAAAAAAAAAAAAAAAAAAAAAAAAAAAAAAAAAAAAAAAAAAAAAAAAAAAAAAAAAAAAAAAAAAAAAAAAAAAAAAAAAAAAAAAAAAAAAAAAAAAAAAAAAAAAAAAAAAAAAAAAAAAAAAAAAAAAAAAAAAAAAAAAAAAAAAAAAAAAAAAAAAAAAAAAAAAAAAAAAAAAAAAAAAAAAAAAAAAAAAAAAAAAAAAAAAAAAAAAAAAAAAAAAAAAAAAAAAAAAAAAAAAAAAAAAAAAAAAAAAAAAAAAAAAAAAAAAAAAAAAAAAAAAAAAAAAAAAAAAAAAAAAAAAAAAAAAAAAAAAAAAAAAAAAAAAAAAAAAAAAAAAAAAAAAAAAAAAAAAAAAAAAAAAAAAAAAAAAAAAAAAAAAAAAAAAAAAAAAAAAAAAAAAAAAAAAAAAAAAAAAAAAAAAAAAAAAAAAAAAAAAAAAAAAAAAAAAAAAAAAAAAAAAAAAAAAAAAAAAAAAAAAAAAAAAAAAAAAAAAAAAAAAAAAAAAAAAAAAAAAAAAAAAAAAAAAAAAAAAAAAAAAAAAAAAAAAAAAAAAAAAAAAAAAAAAAAAAAAAAAAAAAAAAAAAAAAAAAAAAAAAAAAAAAAAAAAAAAAAAAAAAAAAAAAAAAAAAAAAAAAAAAAAAAAAAAAAAAAAAAAAAAAAAAAAAAAAAAAAAAAAAAAAAAAAAAAAAAAAAAAAAAAAAAAAAAAAAAAAAAAAAAAAAAAAAAAAAAAAAAAAAAAAAAAAAAAAAAAAAAAAAAAAAAAAAAAAAAAAAAAAAAAAAAAAAAAAAAAAAAAAAAAAAAAAAAAAAAAAAAAAAAAAAAAAAAAAAAAAAAAAAAAAAAAAAAAAAAAAAAAAAAAAAAAAAAAAAAAAAAAAAAAAAAAAAAAAAAAAAAAAAAAAAAAAAAAAAAAAAAAAAAAAAAAAAAAAAAAAAAAAAAAAAAAAAAAAAAAAAAAAAAAAAAAAAAAAAAAAAAAAAAAAAAAAAAAAAAAAAAAAAAAAAAAAAAAAAAAAAAAAAAAAAAAAAAAAAAAAAAAAAAAAAAAAAAAAAAAAAAAAAAAAAAAAAAAAAAAAAAAAAAAAAAAAAAAAAAAAAAAAAAAAAAAAAAAAAAAAAAAAAAAAAAAAAAAAAAAAAAAAAAAAAAAAAAAAAAAAAAAAAAAAAAAAAAAAAAAAAAAAAAAAAAAAAAAAAAAAAAAAAAAAAAAAAAAAAAAAAAAAAAAAAAAAAAAAAAAAAAAAAAAAAAAAAAAAAAAAAAAAAAAAAAAAAAAAAAAAAAAAAAAAAAAAAAAAAAAAAAAAAAAAAAAAAAAAAAAAAAAAAAAAAAAAAAAAAAAAAAAAAAAAAAAAAAAAAAAAAAAAAAAAAAAAAAAAAAAAAAAAAAAAAAAAAAAAAAAAAAAAAAAAAAAAAAAAAAAAAAAAAAAAAAAAAAAAAAAAAAAAAAAAAAAAAAAAAAAAAAAAAAAAAAAAAAAAAAAAAAAAAAAAAAAAAAAAAAAAAAAAAAAAAAAAAAAAAAAAAAAAAAAAAAAAAAAAAAAAAAAAAAAAAAAAAAAAAAAAAAAAAAAAAAAAAAAAAAAAAAAAAAAAAAAAAAAAAAAAAAAAAAAAAAAAAAAAAAAAAAAAAAAAAAAAAAAAAAAAAAAAAAAAAAAAAAAAAAAAAAAAAAAAAAAAAAAAAAAAAAAAAAAAAAAAAAAAAAAAAAAAAAAAAAAAAAAAAAAAAAAAAAAAAAAAAAAAAAAAAAAAAAAAAAAAAAAAAAAAAAAAAAAAAAAAAAAAAAAAAAAAAAAAAAAAAAAAAAAAAAAAAAAAAAAAAAAAAAAAAAAAAAAAAAAAAAAAAAAAAAAAAAAAAAAAAAAAAAAAAAAAAAAAAAAAAAAAAAAAAAAAAAAAAAAAAAAAAAAAAAAAAAAAAAAAAAAAAAAAAAAAAAAAAAAAAAAAAAAAAAAAAAAAAAAAAAAAAAAAAAAAAAAAAAAAAAAAAAAAAAAAAAAAAAAAAAAAAAAAAAAAAAAAAAAAAAAAAAAAAAAAAAAAAAAAAAAAAAAAAAAAAAAAAAAAAAAAAAAAAAAAAAAAAAAAAAAAAAAAAAAAAAAAAAAAAAAAAAAAAAAAAAAAAAAAAAAAAAAAAAAAAAAAAAAAAAAAAAAAAAAAAAAAAAAAAAAAAAAAAAAAAAAAAAAAAAAAAAAAAAAAAAAAAAAAAAAAAAAAAAAAAAAAAAAAAAAAAAAAAAAAAAAAAAAAAAAAAAAAAAAAAAAAAAAAAAAAAAAAAAAAAAAAAAAAAAAAAAAAAAAAAAAAAAAAAAAAAAAAAAAAAAAAAAAAAAAAAAAAAAAAAAAAAAAAAAAAAAAAAAAAAAAAAAAAAAAAAAAAAAAAAAAAAAAAAAAAAAAAAAAAAAAAAAAAAAAAAAAAAAAAAAAAAAAAAAAAAAAAAAAAAAAAAAAAAAAAAAAAAAAAAAAAAAAAAAAAAAAAAAAAAAAAAAAAAAAAAAAAAAAAAAAAAAAAAAAAAAAAAAAAAAAAAAAAAAAAAAAAAAAAAAAAAAAAAAAAAAAAAAAAAAAAAAAAAAAAAAAAAAAAAAAAAAAAAAAAAAAAAAAAAAAAAAAAAAAAAAAAAAAAAAAAAAAAAAAAAAAAAAAAAAAAAAAAAAAAAAAAAAAAAAAAAAAAAAAAAAAAAAAAAAAAAAAAAAAAAAAAAAAAAAAAAAAAAAAAAAAAAAAAAAAAAAAAAAAAAAAAAAAAAAAAAAAAAAAAAAAAAAAAAAAAAAAAAAAAAAAAAAAAAAAAAAAAAAAAAAAAAAAAAAAAAAAAAAAAAAAAAAAAAAAAAAAAAAAAAAAAAAAAAAAAAAAAAAAAAAAAAAAAAAAAAAAAAAAAAAAAAAAAAAAAAAAAAAAAAAAAAAAAAAAAAAAAAAAAAAAAAAAAAAAAAAAAAAAAAAAAAAAAAAAAAAAAAAAAAAAAAAAAAAAAAAAAAAAAAAAAAAAAAAAAAAAAAAAAAAAAAAAAAAAAAAAAAAAAAAAAAAAAAAAAAAAAAAAAAAAAAAAAAAAAAAAAAAAAAAAAAAAAAAAAAAAAAAAAAAAAAAAAAAAAAAAAAAAAAAAAAAAAAAAAAAAAAAAAAAAAAAAAAAAAAAAAAAAAAAAAAAAAAAAAAAAAAAAAAAAAAAAAAAAAAAAAAAAAAAAAAAAAAAAAAAAAAAAAAAAAAAAAAAAAAAAAAAAAAAAAAAAAAAAAAAAAAAAAAAAAAAAAAAAAAAAAAAAAAAAAAAAAAAAAAAAAAAAAAAAAAAAAAAAAAAAAAAAAAAAAAAAAAAAAAAAAAAAAAAAAAAAAAAAAAAAAAAAAAAAAAAAAAAAAAAAAAAAAAAAAAAAAAAAAAAAAAAAAAAAAAAAAAAAAAAAAAAAAAAAAAAAAAAAAAAAAAAAAAAAAAAAAAAAAAAAAAAAAAAAAAAAAAAAAAAAAAAAAAAAAAAAAAAAAAAAAAAAAAAAAAAAAAAAAAAAAAAAAAAAAAAAAAAAAAAAAAAAAAAAAAAAAAAAAAAAAAAAAAAAAAAAAAAAAAAAAAAAAAAAAAAAAAAAAAAAAAAAAAAAAAAAAAAAAAAAAAAAAAAAAAAAAAAAAAAAAAAAAAAAAAAAAAAAAAAAAAAAAAAAAAAAAAAAAAAAAAAAAAAAAAAAAAAAAAAAAAAAAAAAAAAAAAAAAAAAAAAAAAAAAAAAAAAAAAAAAAAAAAAAAAAAAAAAAAAAAAAAAAAAAAAAAAAAAAAAAAAAAAAAAAAAAAAAAAAAAAAAAAAAAAAAAAAAAAAAAAAAAAAAAAAAAAAAAAAAAAAAAAAAAAAAAAAAAAAAAAAAAAAAAAAAAAAAAAAAAAAAAAAAAAAAAAAAAAAAAAAAAAAAAAAAAAAAAAAAAAAAAAAAAAAAAAAAAAAAAAAAAAAAAAAAAAAAAAAAAAAAAAAAAAAAAAAAAAAAAAAAAAAAAAAAAAAAAAAAAAAAAAAAAAAAAAAAAAAAAAAAAAAAAAAAAAAAAAAAAAAAAAAAAAAAAAAAAAAAAAAAAAAAAAAAAAAAAAAAAAAAAAAAAAAAAAAAAAAAAAAAAAAAAAAAAAAAAAAAAAAAAAAAAAAAAAAAAAAAAAAAAAAAAAAAAAAAAAAAAAAAAAAAAAAAAAAAAAAAAAAAAAAAAAAAAAAAAAAAAAAAAAAAAAAAAAAAAAAAAAAAAAAAAAAAAAAAAAAAAAAAAAAAAAAAAAAAAAAAAAAAAAAAAAAAAAAAAAAAAAAAAAAAAAAAAAAAAAAAAAAAAAAAAAAAAAAAAAAAAAAAAAAAAAAAAAAAAAAAAAAAAAAAAAAAAAAAAAAAAAAAAAAAAAAAAAAAAAAAAAAAAAAAAAAAAAAAAAAAAAAAAAAAAAAAAAAAAAAAAAAAAAAAAAAAAAAAAAAAAAAAAAAAAAAAAAAAAAAAAAAAAAAAAAAAAAAAAAAAAAAAAAAAAAAAAAAAAAAAAAAAAAAAAAAAAAAAAAAAAAAAAAAAAAAAAAAAAAAAAAAAAAAAAAAAAAAAAAAAAAAAAAAAAAAAAAAAAAAAAAAAAAAAAAAAAAAAAAAAAAAAAAAAAAAAAAAAAAAAAAAAAAAAAAAAAAAAAAAAAAAAAAAAAAAAAAAAAAAAAAAAAAAAAAAAAAAAAAAAAAAAAAAAAAAAAAAAAAAAAAAAAAAAAAAAAAAAAAAAAAAAAAAAAAAAAAAAAAAAAAAAAAAAAAAAAAAAAAAAAAAAAAAAAAAAAAAAAAAAAAAAAAAAAAAAAAAAAAAAAAAAAAAAAAAAAAAAAAAAAAAAAAAAAAAAAAAAAAAAAAAAAAAAAAAAAAAAAAAAAAAAAAAAAAAAAAAAAAAAAAAAAAAAAAAAAAAAAAAAAAAAAAAAAAAAAAAAAAAAAAAAAAAAAAAAAAAAAAAAAAAAAAAAAAAAAAAAAAAAAAAAAAAAAAAAAAAAAAAAAAAAAAAAAAAAAAAAAAAAAAAAAAAAAAAAAAAAAAAAAAAAAAAAAAAAAAAAAAAAAAAAAAAAAAAAAAAAAAAAAAAAAAAAAAAAAAAAAAAAAAAAAAAAAAAAAAAAAAAAAAAAAAAAAAAAAAAAAAAAAAAAAAAAAAAAAAAAAAAAAAAAAAAAAAAAAAAAAAAAAAAAAAAAAAAAAAAAAAAAAAAAAAAAAAAAAAAAAAAAAAAAAAAAAAAAAAAAAAAAAAAAAAAAAAAAAAAAAAAAAAAAAAAAAAAAAAAAAAAAAAAAAAAAAAAAAAAAAAAAAAAAAAAAAAAAAAAAAAAAAAAAAAAAAAAAAAAAAAAAAAAAAAAAAAAAAAAAAAAAAAAAAAAAAAAAAAAAAAAAAAAAAAAAAAAAAAAAAAAAAAAAAAAAAAAAAAAAAAAAAAAAAAAAAAAAAAAAAAAAAAAAAAAAAAAAAAAAAAAAAAAAAAAAAAAAAAAAAAAAAAAAAAAAAAAAAAAAAAAAAAAAAAAAAAAAAAAAAAAAAAAAAAAAAAAAAAAAAAAAAAAAAAAAAAAAAAAAAAAAAAAAAAAAAAAAAAAAAAAAAAAAAAAAAAAAAAAAAAAAAAAAAAAAAAAAAAAAAAAAAAAAAAAAAAAAAAAAAAAAAAAAAAAAAAAAAAAAAAAAAAAAAAAAAAAAAAAAAAAAAAAAAAAAAAAAAAAAAAAAAAAAAAAAAAAAAAAAAAAAAAAAAAAAAAAAAAAAAAAAAAAAAAAAAAAAAAAAAAAAAAAAAAAAAAAAAAAAAAAAAAAAAAAAAAAAAAAAAAAAAAAAAAAAAAAAAAAAAAAAAAAAAAAAAAAAAAAAAAAAAAAAAAAAAAAAAAAAAAAAAAAAAAAAAAAAAAAAAAAAAAAAAAAAAAAAAAAAAAAAAAAAAAAAAAAAAAAAAAAAAAAAAAAAAAAAAAAAAAAAAAAAAAAAAAAAAAAAAAAAAAAAAAAAAAAAAAAAAAAAAAAAAAAAAAAAAAAAAAAAAAAAAAAAAAAAAAAAAAAAAAAAAAAAAAAAAAAAAAAAAAAAAAAAAAAAAAAAAAAAAAAAAAAAAAAAAAAAAAAAAAAAAAAAAAAAAAAAAAAAAAAAAAAAAAAAAAAAAAAAAAAAAAAAAAAAAAAAAAAAAAAAAAAAAAAAAAAAAAAAAAAAAAAAAAAAAAAAAAAAAAAAAAAAAAAAAAAAAAAAAAAAAAAAAAAAAAAAAAAAAAAAAAAAAAAAAAAAAAAAAAAAAAAAAAAAAAAAAAAAAAAAAAAAAAAAAAAAAAAAAAAAAAAAAAAAAAAAAAAAAAAAAAAAAAAAAAAAAAAAAAAAAAAAAAAAAAAAAAAAAAAAAAAAAAAAAAAAAAAAAAAAAAAAAAAAAAAAAAAAAAAAAAAAAAAAAAAAAAAAAAAAAAAAAAAAAAAAAAAAAAAAAAAAAAAAAAAAAAAAAAAAAAAAAAAAAAAAAAAAAAAAAAAAAAAAAAAAAAAAAAAAAAAAAAAAAAAAAAAAAAAAAAAAAAAAAAAAAAAAAAAAAAAAAAAAAAAAAAAAAAAAAAAAAAAAAAAAAAAAAAAAAAAAAAAAAAAAAAAAAAAAAAAAAAAAAAAAAAAAAAAAAAAAAAAAAAAAAAAAAAAAAAAAAAAAAAAAAAAAAAAAAAAAAAAAAAAAAAAAAAAAAAAAAAAAAAAAAAAAAAAAAAAAAAAAAAAAAAAAAAAAAAAAAAAAAAAAAAAAAAAAAAAAAAAAAAAAAAAAAAAAAAAAAAAAAAAAAAAAAAAAAAAAAAAAAAAAAAAAAAAAAAAAAAAAAAAAAAAAAAAAAAAAAAAAAAAAAAAAAAAAAAAAAAAAAAAAAAAAAAAAAAAAAAAAAAAAAAAAAAAAAAAAAAAAAAAAAAAAAAAAAAAAAAAAAAAAAAAAAAAAAAAAAAAAAAAAAAAAAAAAAAAAAAAAAAAAAAAAAAAAAAAAAAAAAAAAAAAAAAAAAAAAAAAAAAAAAAAAAAAAAAAAAAAAAAAAAAAAAAAAAAAAAAAAAAAAAAAAAAAAAAAAAAAAAAAAAAAAAAAAAAAAAAAAAAAAAAAAAAAAAAAAAAAAAAAAAAAAAAAAAAAAAAAAAAAAAAAAAAAAAAAAAAAAAAAAAAAAAAAAAAAAAAAAAAAAAAAAAAAAAAAAAAAAAAAAAAAAAAAAAAAAAAAAAAAAAAAAAAAAAAAAAAAAAAAAAAAAAAAAAAAAAAAAAAAAAAAAAAAAAAAAAAAAAAAAAAAAAAAAAAAAAAAAAAAAAAAAAAAAAAAAAAAAAAAAAAAAAAAAAAAAAAAAAAAAAAAAAAAAAAAAAAAAAAAAAAAAAAAAAAAAAAAAAAAAAAAAAAAAAAAAAAAAAAAAAAAAAAAAAAAAAAAAAAAAAAAAAAAAAAAAAAAAAAAAAAAAAAAAAAAAAAAAAAAAAAAAAAAAAAAAAAAAAAAAAAAAAAAAAAAAAAAAAAAAAAAAAAAAAAAAAAAAAAAAAAAAAAAAAAAAAAAAAAAAAAAAAAAAAAAAAAAAAAAAAAAAAAAAAAAAAAAAAAAAAAAAAAAAAAAAAAAAAAAAAAAAAAAAAAAAAAAAAAAAAAAAAAAAAAAAAAAAAAAAAAAAAAAAAAAAAAAAAAAAAAAAAAAAAAAAAAAAAAAAAAAAAAAAAAAAAAAAAAAAAAAAAAAAAAAAAAAAAAAAAAAAAAAAAAAAAAAAAAAAAAAAAAAAAAAAAAAAAAAAAAAAAAAAAAAAAAAAAAAAAAAAAAAAAAAAAAAAAAAAAAAAAAAAAAAAAAAAAAAAAAAAAAAAAAAAAAAAAAAAAAAAAAAAAAAAAAAAAAAAAAAAAAAAAAAAAAAAAAAAAAAAAAAAAAAAAAAAAAAAAAAAAAAAAAAAAAAAAAAAAAAAAAAAAAAAAAAAAAAAAAAAAAAAAAAAAAAAAAAAAAAAAAAAAAAAAAAAAAAAAAAAAAAAAAAAAAAAAAAAAAAAAAAAAAAAAAAAAAAAAAAAAAAAAAAAAAAAAAAAAAAAAAAAAAAAAAAAAAAAAAAAAAAAAAAAAAAAAAAAAAAAAAAAAAAAAAAAAAAAAAAAAAAAAAAAAAAAAAAAAAAAAAAAAAAAAAAAAAAAAAAAAAAAAAAAAAAAAAAAAAAAAAAAAAAAAAAAAAAAAAAAAAAAAAAAAAAAAAAAAAAAAAAAAAAAAAAAAAAAAAAAAAAAAAAAAAAAAAAAAAAAAAAAAAAAAAAAAAAAAAAAAAAAAAAAAAAAAAAAAAAAAAAAAAAAAAAAAAAAAAAAAAAAAAAAAAAAAAAAAAAAAAAAAAAAAAAAAAAAAAAAAAAAAAAAAAAAAAAAAAAAAAAAAAAAAAAAAAAAAAAAAAAAAAAAAAAAAAAAAAAAAAAAAAAAAAAAAAAAAAAAAAAAAAAAAAAAAAAAAAAAAAAAAAAAAAAAAAAAAAAAAAAAAAAAAAAAAAAAAAAAAAAAAAAAAAAAAAAAAAAAAAAAAAAAAAAAAAAAAAAAAAAAAAAAAAAAAAAAAAAAAAAAAAAAAAAAAAAAAAAAAAAAAAAAAAAAAAAAAAAAAAAAAAAAAAAAAAAAAAAAAAAAAAAAAAAAAAAAAAAAAAAAAAAAAAAAAAAAAAAAAAAAAAAAAAAAAAAAAAAAAAAAAAAAAAAAAAAAAAAAAAAAAAAAAAAAAAAAAAAAAAAAAAAAAAAAAAAAAAAAAAAAAAAAAAAAAAAAAAAAAAAAAAAAAAAAAAAAAAAAAAAAAAAAAAAAAAAAAAAAAAAAAAAAAAAAAAAAAAAAAAAAAAAAAAAAAAAAAAAAAAAAAAAAAAAAAAAAAAAAAAAAAAAAAAAAAAAAAAAAAAAAAAAAAAAAAAAAAAAAAAAAAAAAAAAAAAAAAAAAAAAAAAAAAAAAAAAAAAAAAAAAAAAAAAAAAAAAAAAAAAAAAAAAAAAAAAAAAAAAAAAAAAAAAAAAAAAAAAAAAAAAAAAAAAAAAAAAAAAAAAAAAAAAAAAAAAAAAAAAAAAAAAAAAAAAAAAAAAAAAAAAAAAAAAAAAAAAAAAAAAAAAAAAAAAAAAAAAAAAAAAAAAAAAAAAAAAAAAAAAAAAAAAAAAAAAAAAAAAAAAAAAAAAAAAAAAAAAAAAAAAAAAAAAAAAAAAAAAAAAAAAAAAAAAAAAAAAAAAAAAAAAAAAAAAAAAAAAAAAAAAAAAAAAAAAAAAAAAAAAAAAAAAAAAAAAAAAAAAAAAAAAAAAAAAAAAAAAAAAAAAAAAAAAAAAAAAAAAAAAAAAAAAAAAAAAAAAAAAAAAAAAAAAAAAAAAAAAAAAAAAAAAAAAAAAAAAAAAAAAAAAAAAAAAAAAAAAAAAAAAAAAAAAAAAAAAAAAAAAAAAAAAAAAAAAAAAAAAAAAAAAAAAAAAAAAAAAAAAAAAAAAAAAAAAAAAAAAAAAAAAAAAAAAAAAAAAAAAAAAAAAAAAAAAAAAAAAAAAAAAAAAAAAAAAAAAAAAAAAAAAAAAAAAAAAAAAAAAAAAAAAAAAAAAAAAAAAAAAAAAAAAAAAAAAAAAAAAAAAAAAAAAAAAAAAAAAAAAAAAAAAAAAAAAAAAAAAAAAAAAAAAAAAAAAAAAAAAAAAAAAAAAAAAAAAAAAAAAAAAAAAAAAAAAAAAAAAAAAAAAAAAAAAAAAAAAAAAAAAAAAAAAAAAAAAAAAAAAAAAAAAAAAAAAAAAAAAAAAAAAAAAAAAAAAAAAAAAAAAAAAAAAAAAAAAAAAAAAAAAAAAAAAAAAAAAAAAAAAAAAAAAAAAAAAAAAAAAAAAAAAAAAAAAAAAAAAAAAAAAAAAAAAAAAAAAAAAAAAAAAAAAAAAAAAAAAAAAAAAAAAAAAAAAAAAAAAAAAAAAAAAAAAAAAAAAAAAAAAAAAAAAAAAAAAAAAAAAAAAAAAAAAAAAAAAAAAAAAAAAAAAAAAAAAAAAAAAAAAAAAAAAAAAAAAAAAAAAAAAAAAAAAAAAAAAAAAAAAAAAAAAAAAAAAAAAAAAAAAAAAAAAAAAAAAAAAAAAAAAAAAAAAAAAAAAAAAAAAAAAAAAAAAAAAAAAAAAAAAAAAAAAAAAAAAAAAAAAAAAAAAAAAAAAAAAAAAAAAAAAAAAAAAAAAAAAAAAAAAAAAAAAAAAAAAAAAAAAAAAAAAAAAAAAAAAAAAAAAAAAAAAAAAAAAAAAAAAAAAAAAAAAAAAAAAAAAAAAAAAAAAAAAAAAAAAAAAAAAAAAAAAAAAAAAAAAAAAAAAAAAAAAAAAAAAAAAAAAAAAAAAAAAAAAAAAAAAAAAAAAAAAAAAAAAAAAAAAAAAAAAAAAAAAAAAAAAAAAAAAAAAAAAAAAAAAAAAAAAAAAAAAAAAAAAAAAAAAAAAAAAAAAAAAAAAAAAAAAAAAAAAAAAAAAAAAAAAAAAAAAAAAAAAAAAAAAAAAAAAAAAAAAAAAAAAAAAAAAAAAAAAAAAAAAAAAAAAAAAAAAAAAAAAAAAAAAAAAAAAAAAAAAAAAAAAAAAAAAAAAAAAAAAAAAAAAAAAAAAAAAAAAAAAAAAAAAAAAAAAAAAAAAAAAAAAAAAAAAAAAAAAAAAAAAAAAAAAAAAAAAAAAAAAAAAAAAAAAAAAAAAAAAAAAAAAAAAAAAAAAAAAAAAAAAAAAAAAAAAAAAAAAAAAAAAAAAAAAAAAAAAAAAAAAAAAAAAAAAAAAAAAAAAAAAAAAAAAAAAAAAAAAAAAAAAAAAAAAAAAAAAAAAAAAAAAAAAAAAAAAAAAAAAAAAAAAAAAAAAAAAAAAAAAAAAAAAAAAAAAAAAAAAAAAAAAAAAAAAAAAAAAAAAAAAAAAAAAAAAAAAAAAAAAAAAAAAAAAAAAAAAAAAAAAAAAAAAAAAAAAAAAAAAAAAAAAAAAAAAAAAAAAAAAAAAAAAAAAAAAAAAAAAAAAAAAAAAAAAAAAAAAAAAAAAAAAAAAAAAAAAAAAAAAAAAAAAAAAAAAAAAAAAAAAAAAAAAAAAAAAAAAAAAAAAAAAAAAAAAAAAAAAAAAAAAAAAAAAAAAAAAAAAAAAAAAAAAAAAAAAAAAAAAAAAAAAAAAAAAAAAAAAAAAAAAAAAAAAAAAAAAAAAAAAAAAAAAAAAAAAAAAAAAAAAAAAAAAAAAAAAAAAAAAAAAAAAAAAAAAAAAAAAAAAAAAAAAAAAAAAAAAAAAAAAAAAAAAAAAAAAAAAAAAAAAAAAAAAAAAAAAAAAAAAAAAAAAAAAAAAAAAAAAAAAAAAAAAAAAAAAAAAAAAAAAAAAAAAAAAAAAAAAAAAAAAAAAAAAAAAAAAAAAAAAAAAAAAAAAAAAAAAAAAAAAAAAAAAAAAAAAAAAAAAAAAAAAAAAAAAAAAAAAAAAAAAAAAAAAAAAAAAAAAAAAAAAAAAAAAAAAAAAAAAAAAAAAAAAAAAAAAAAAAAAAAAAAAAAAAAAAAAAAAAAAAAAAAAAAAAAAAAAAAAAAAAAAAAAAAAAAAAAAAAAAAAAAAAAAAAAAAAAAAAAAAAAAAAAAAAAAAAAAAAAAAAAAAAAAAAAAAAAAAAAAAAAAAAAAAAAAAAAAAAAAAAAAAAAAAAAAAAAAAAAAAAAAAAAAAAAAAAAAAAAAAAAAAAAAAAAAAAAAAAAAAAAAAAAAAAAAAAAAAAAAAAAAAAAAAAAAAAAAAAAAAAAAAAAAAAAAAAAAAAAAAAAAAAAAAAAAAAAAAAAAAAAAAAAAAAAAAAAAAAAAAAAAAAAAAAAAAAAAAAAAAAAAAAAAAAAAAAAAAAAAAAAAAAAAAAAAAAAAAAAAAAAAAAAAAAAAAAAAAAAAAAAAAAAAAAAAAAAAAAAAAAAAAAAAAAAAAAAAAAAAAAAAAAAAAAAAAAAAAAAAAAAAAAAAAAAAAAAAAAAAAAAAAAAAAAAAAAAAAAAAAAAAAAAAAAAAAAAAAAAAAAAAAAAAAAAAAAAAAAAAAAAAAAAAAAAAAAAAAAAAAAAAAAAAAAAAAAAAAAAAAAAAAAAAAAAAAAAAAAAAAAAAAAAAAAAAAAAAAAAAAAAAAAAAAAAAAAAAAAAAAAAAAAAAAAAAAAAAAAAAAAAAAAAAAAAAAAAAAAAAAAAAAAAAAAAAAAAAAAAAAAAAAAAAAAAAAAAAAAAAAAAAAAAAAAAAAAAAAAAAAAAAAAAAAAAAAAAAAAAAAAAAAAAAAAAAAAAAAAAAAAAAAAAAAAAAAAAAAAAAAAAAAAAAAAAAAAAAAAAAAAAAAAAAAAAAAAAAAAAAAAAAAAAAAAAAAAAAAAAAAAAAAAAAAAAAAAAAAAAAAAAAAAAAAAAAAAAAAAAAAAAAAAAAAAAAAAAAAAAAAAAAAAAAAAAAAAAAAAAAAAAAAAAAAAAAAAAAAAAAAAAAAAAAAAAAAAAAAAAAAAAAAAAAAAAAAAAAAAAAAAAAAAAAAAAAAAAAAAAAAAAAAAAAAAAAAAAAAAAAAAAAAAAAAAAAAAAAAAAAAAAAAAAAAAAAAAAAAAAAAAAAAAAAAAAAAAAAAAAAAAAAAAAAAAAAAAAAAAAAAAAAAAAAAAAAAAAAAAAAAAAAAAAAAAAAAAAAAAAAAAAAAAAAAAAAAAAAAAAAAAAAAAAAAAAAAAAAAAAAAAAAAAAAAAAAAAAAAAAAAAAAAAAAAAAAAAAAAAAAAAAAAAAAAAAAAAAAAAAAAAAAAAAAAAAAAAAAAAAAAAAAAAAAAAAAAAAAAAAAAAAAAAAAAAAAAAAAAAAAAAAAAAAAAAAAAAAAAAAAAAAAAAAAAAAAAAAAAAAAAAAAAAAAAAAAAAAAAAAAAAAAAAAAAAAAAAAAAAAAAAAAAAAAAAAAAAAAAAAAAAAAAAAAAAAAAAAAAAAAAAAAAAAAAAAAAAAAAAAAAAAAAAAAAAAAAAAAAAAAAAAAAAAAAAAAAAAAAAAAAAAAAAAAAAAAAAAAAAAAAAAAAAAAAAAAAAAAAAAAAAAAAAAAAAAAAAAAAAAAAAAAAAAAAAAAAAAAAAAAAAAAAAAAAAAAAAAAAAAAAAAAAAAAAAAAAAAAAAAAAAAAAAAAAAAAAAAAAAAAAAAAAAAAAAAAAAAAAAAAAAAAAAAAAAAAAAAAAAAAAAAAAAAAAAAAAAAAAAAAAAAAAAAAAAAAAAAAAAAAAAAAAAAAAAAAAAAAAAAAAAAAAAAAAAAAAAAAAAAAAAAAAAAAAAAAAAAAAAAAAAAAAAAAAAAAAAAAAAAAAAAAAAAAAAAAAAAAAAAAAAAAAAAAAAAAAAAAAAAAAAAAAAAAAAAAAAAAAAAAAAAAAAAAAAAAAAAAAAAAAAAAAAAAAAAAAAAAAAAAAAAAAAAAAAAAAAAAAAAAAAAAAAAAAAAAAAAAAAAAAAAAAAAAAAAAAAAAAAAAAAAAAAAAAAAAAAAAAAAAAAAAAAAAAAAAAAAAAAAAAAAAAAAAAAAAAAAAAAAAAAAAAAAAAAAAAAAAAAAAAAAAAAAAAAAAAAAAAAAAAAAAAAAAAAAAAAAAAAAAAAAAAAAAAAAAAAAAAAAAAAAAAAAAAAAAAAAAAAAAAAAAAAAAAAAAAAAAAAAAAAAAAAAAAAAAAAAAAAAAAAAAAAAAAAAAAAAAAAAAAAAAAAAAAAAAAAAAAAAAAAAAAAAAAAAAAAAAAAAAAAAAAAAAAAAAAAAAAAAAAAAAAAAAAAAAAAAAAAAAAAAAAAAAAAAAAAAAAAAAAAAAAAAAAAAAAAAAAAAAAAAAAAAAAAAAAAAAAAAAAAAAAAAAAAAAAAAAAAAAAAAAAAAAAAAAAAAAAAAAAAAAAAAAAAAAAAAAAAAAAAAAAAAAAAAAAAAAAAAAAAAAAAAAAAAAAAAAAAAAAAAAAAAAAAAAAAAAAAAAAAAAAAAAAAAAAAAAAAAAAAAAAAAAAAAAAAAAAAAAAAAAAAAAAAAAAAAAAAAAAAAAAAAAAAAAAAAAAAAAAAAAAAAAAAAAAAAAAAAAAAAAAAAAAAAAAAAAAAAAAAAAAAAAAAAAAAAAAAAAAAAAAAAAAAAAAAAAAAAAAAAAAAAAAAAAAAAAAAAAAAAAAAAAAAAAAAAAAAAAAAAAAAAAAAAAAAAAAAAAAAAAAAAAAAAAAAAAAAAAAAAAAAAAAAAAAAAAAAAAAAAAAAAAAAAAAAAAAAAAAAAAAAAAAAAAAAAAAAAAAAAAAAAAAAAAAAAAAAAAAAAAAAAAAAAAAAAAAAAAAAAAAAAAAAAAAAAAAAAAAAAAAAAAAAAAAAAAAAAAAAAAAAAAAAAAAAAAAAAAAAAAAAAAAAAAAAAAAAAAAAAAAAAAAAAAAAAAAAAAAAAAAAAAAAAAAAAAAAAAAAAAAAAAAAAAAAAAAAAAAAAAAAAAAAAAAAAAAAAAAAAAAAAAAAAAAAAAAAAAAAAAAAAAAAAAAAAAAAAAAAAAAAAAAAAAAAAAAAAAAAAAAAAAAAAAAAAAAAAAAAAAAAAAAAAAAAAAAAAAAAAAAAAAAAAAAAAAAAAAAAAAAAAAAAAAAAAAAAAAAAAAAAAAAAAAAAAAAAAAAAAAAAAAAAAAAAAAAAAAAAAAAAAAAAAAAAAAAAAAAAAAAAAAAAAAAAAAAAAAAAAAAAAAAAAAAAAAAAAAAAAAAAAAAAAAAAAAAAAAAAAAAAAAAAAAAAAAAAAAAAAAAAAAAAAAAAAAAAAAAAAAAAAAAAAAAAAAAAAAAAAAAAAAAAAAAAAAAAAAAAAAAAAAAAAAAAAAAAAAAAAAAAAAAAAAAAAAAAAAAAAAAAAAAAAAAAAAAAAAAAAAAAAAAAAAAAAAAAAAAAAAAAAAAAAAAAAAAAAAAAAAAAAAAAAAAAAAAAAAAAAAAAAAAAAAAAAAAAAAAAAAAAAAAAAAAAAAAAAAAAAAAAAAAAAAAAAAAAAAAAAAAAAAAAAAAAAAAAAAAAAAAAAAAAAAAAAAAAAAAAAAAAAAAAAAAAAAAAAAAAAAAAAAAAAAAAAAAAAAAAAAAAAAAAAAAAAAAAAAAAAAAAAAAAAAAAAAAAAAAAAAAAAAAAAAAAAAAAAAAAAAAAAAAAAAAAAAAAAAAAAAAAAAAAAAAAAAAAAAAAAAAAAAAAAAAAAAAAAAAAAAAAAAAAAAAAAAAAAAAAAAAAAAAAAAAAAAAAAAAAAAAAAAAAAAAAAAAAAAAAAAAAAAAAAAAAAAAAAAAAAAAAAAAAAAAAAAAAAAAAAAAAAAAAAAAAAAAAAAAAAAAAAAAAAAAAAAAAAAAAAAAAAAAAAAAAAAAAAAAAAAAAAAAAAAAAAAAAAAAAAAAAAAAAAAAAAAAAAAAAAAAAAAAAAAAAAAAAAAAAAAAAAAAAAAAAAAAAAAAAAAAAAAAAAAAAAAAAAAAAAAAAAAAAAAAAAAAAAAAAAAAAAAAAAAAAAAAAAAAAAAAAAAAAAAAAAAAAAAAAAAAAAAAAAAAAAAAAAAAAAAAAAAAAAAAAAAAAAAAAAAAAAAAAAAAAAAAAAAAAAAAAAAAAAAAAAAAAAAAAAAAAAAAAAAAAAAAAAAAAAAAAAAAAAAAAAAAAAAAAAAAAAAAAAAAAAAAAAAAAAAAAAAAAAAAAAAAAAAAAAAAAAAAAAAAAAAAAAAAAAAAAAAAAAAAAAAAAAAAAAAAAAAAAAAAAAAAAAAAAAAAAAAAAAAAAAAAAAAAAAAAAAAAAAAAAAAAAAAAAAAAAAAAAAAAAAAAAAAAAAAAAAAAAAAAAAAAAAAAAAAAAAAAAAAAAAAAAAAAAAAAAAAAAAAAAAAAAAAAAAAAAAAAAAAAAAAAAAAAAAAAAAAAAAAAAAAAAAAAAAAAAAAAAAAAAAAAAAAAAAAAAAAAAAAAAAAAAAAAAAAAAAAAAAAAAAAAAAAAAAAAAAAAAAAAAAAAAAAAAAAAAAAAAAAAAAAAAAAAAAAAAAAAAAAAAAAAAAAAAAAAAAAAAAAAAAAAAAAAAAAAAAAAAAAAAAAAAAAAAAAAAAAAAAAAAAAAAAAAAAAAAAAAAAAAAAAAAAAAAAAAAAAAAAAAAAAAAAAAAAAAAAAAAAAAAAAAAAAAAAAAAAAAAAAAAAAAAAAAAAAAAAAAAAAAAAAAAAAAAAAAAAAAAAAAAAAAAAAAAAAAAAAAAAAAAAAAAAAAAAAAAAAAAAAAAAAAAAAAAAAAAAAAAAAAAAAAAAAAAAAAAAAAAAAAAAAAAAAAAAAAAAAAAAAAAAAAAAAAAAAAAAAAAAAAAAAAAAAAAAAAAAAAAAAAAAAAAAAAAAAAAAAAAAAAAAAAAAAAAAAAAAAAAAAAAAAAAAAAAAAAAAAAAAAAAAAAAAAAAAAAAAAAAAAAAAAAAAAAAAAAAAAAAAAAAAAAAAAAAAAAAAAAAAAAAAAAAAAAAAAAAAAAAAAAAAAAAAAAAAAAAAAAAAAAAAAAAAAAAAAAAAAAAAAAAAAAAAAAAAAAAAAAAAAAAAAAAAAAAAAAAAAAAAAAAAAAAAAAAAAAAAAAAAAAAAAAAAAAAAAAAAAAAAAAAAAAAAAAAAAAAAAAAAAAAAAAAAAAAAAAAAAAAAAAAAAAAAAAAAAAAAAAAAAAAAAAAAAAAAAAAAAAAAAAAAAAAAAAAAAAAAAAAAAAAAAAAAAAAAAAAAAAAAAAAAAAAAAAAAAAAAAAAAAAAAAAAAAAAAAAAAAAAAAAAAAAAAAAAAAAAAAAAAAAAAAAAAAAAAAAAAAAAAAAAAAAAAAAAAAAAAAAAAAAAAAAAAAAAAAAAAAAAAAAAAAAAAAAAAAAAAAAAAAAAAAAAAAAAAAAAAAAAAAAAAAAAAAAAAAAAAAAAAAAAAAAAAAAAAAAAAAAAAAAAAAAAAAAAAAAAAAAAAAAAAAAAAAAAAAAAAAAAAAAAAAAAAAAAAAAAAAAAAAAAAAAAAAAAAAAAAAAAAAAAAAAAAAAAAAAAAAAAAAAAAAAAAAAAAAAAAAAAAAAAAAAAAAAAAAAAAAAAAAAAAAAAAAAAAAAAAAAAAAAAAAAAAAAAAAAAAAAAAAAAAAAAAAAAAAAAAAAAAAAAAAAAAAAAAAAAAAAAAAAAAAAAAAAAAAAAAAAAAAAAAAAAAAAAAAAAAAAAAAAAAAAAAAAAAAAAAAAAAAAAAAAAAAAAAAAAAAAAAAAAAAAAAAAAAAAAAAAAAAAAAAAAAAAAAAAAAAAAAAAAAAAAAAAAAAAAAAAAAAAAAAAAAAAAAAAAAAAAAAAAAAAAAAAAAAAAAAAAAAAAAAAAAAAAAAAAAAAAAAAAAAAAAAAAAAAAAAAAAAAAAAAAAAAAAAAAAAAAAAAAAAAAAAAAAAAAAAAAAAAAAAAAAAAAAAAAAAAAAAAAAAAAAAAAAAAAAAAAAAAAAAAAAAAAAAAAAAAAAAAAAAAAAAAAAAAAAAAAAAAAAAAAAAAAAAAAAAAAAAAAAAAAAAAAAAAAAAAAAAAAAAAAAAAAAAAAAAAAAAAAAAAAAAAAAAAAAAAAAAAAAAAAAAAAAAAAAAAAAAAAAAAAAAAAAAAAAAAAAAAAAAAAAAAAAAAAAAAAAAAAAAAAAAAAAAAAAAAAAAAAAAAAAAAAAAAAAAAAAAAAAAAAAAAAAAAAAAAAAAAAAAAAAAAAAAAAAAAAAAAAAAAAAAAAAAAAAAAAAAAAAAAAAAAAAAAAAAAAAAAAAAAAAAAAAAAAAAAAAAAAAAAAAAAAAAAAAAAAAAAAAAAAAAAAAAAAAAAAAAAAAAAAAAAAAAAAAAAAAAAAAAAAAAAAAAAAAAAAAAAAAAAAAAAAAAAAAAAAAAAAAAAAAAAAAAAAAAAAAAAAAAAAAAAAAAAAAAAAAAAAAAAAAAAAAAAAAAAAAAAAAAAAAAAAAAAAAAAAAAAAAAAAAAAAAAAAAAAAAAAAAAAAAAAAAAAAAAAAAAAAAAAAAAAAAAAAAAAAAAAAAAAAAAAAAAAAAAAAAAAAAAAAAAAAAAAAAAAAAAAAAAAAAAAAAAAAAAAAAAAAAAAAAAAAAAAAAAAAAAAAAAAAAAAAAAAAAAAAAAAAAAAAAAAAAAAAAAAAAAAAAAAAAAAAAAAAAAAAAAAAAAAAAAAAAAAAAAAAAAAAAAAAAAAAAAAAAAAAAAAAAAAAAAAAAAAAAAAAAAAAAAAAAAAAAAAAAAAAAAAAAAAAAAAAAAAAAAAAAAAAAAAAAAAAAAAAAAAAAAAAAAAAAAAAAAAAAAAAAAAAAAAAAAAAAAAAAAAAAAAAAAAAAAAAAAAAAAAAAAAAAAAAAAAAAAAAAAAAAAAAAAAAAAAAAAAAAAAAAAAAAAAAAAAAAAAAAAAAAAAAAAAAAAAAAAAAAAAAAAAAAAAAAAAAAAAAAAAAAAAAAAAAAAAAAAAAAAAAAAAAAAAAAAAAAAAAAAAAAAAAAAAAAAAAAAAAAAAAAAAAAAAAAAAAAAAAAAAAAAAAAAAAAAAAAAAAAAAAAAAAAAAAAAAAAAAAAAAAAAAAAAAAAAAAAAAAAAAAAAAAAAAAAAAAAAAAAAAAAAAAAAAAAAAAAAAAAAAAAAAAAAAAAAAAAAAAAAAAAAAAAAAAAAAAAAAAAAAAAAAAAAAAAAAAAAAAAAAAAAAAAAAAAAAAAAAAAAAAAAAAAAAAAAAAAAAAAAAAAAAAAAAAAAAAAAAAAAAAAAAAAAAAAAAAAAAAAAAAAAAAAAAAAAAAAAAAAAAAAAAAAAAAAAAAAAAAAAAAAAAAAAAAAAAAAAAAAAAAAAAAAAAAAAAAAAAAAAAAAAAAAAAAAAAAAAAAAAAAAAAAAAAAAAAAAAAAAAAAAAAAAAAAAAAAAAAAAAAAAAAAAAAAAAAAAAAAAAAAAAAAAAAAAAAAAAAAAAAAAAAAAAAAAAAAAAAAAAAAAAAAAAAAAAAAAAAAAAAAAAAAAAAAAAAAAAAAAAAAAAAAAAAAAAAAAAAAAAAAAAAAAAAAAAAAAAAAAAAAAAAAAAAAAAAAAAAAAAAAAAAAAAAAAAAAAAAAAAAAAAAAAAAAAAAAAAAAAAAAAAAAAAAAAAAAAAAAAAAAAAAAAAAAAAAAAAAAAAAAAAAAAAAAAAAAAAAAAAAAAAAAAAAAAAAAAAAAAAAAAAAAAAAAAAAAAAAAAAAAAAAAAAAAAAAAAAAAAAAAAAAAAAAAAAAAAAAAAAAAAAAAAAAAAAAAAAAAAAAAAAAAAAAAAAAAAAAAAAAAAAAAAAAAAAAAAAAAAAAAAAAAAAAAAAAAAAAAAAAAAAAAAAAAAAAAAAAAAAAAAAAAAAAAAAAAAAAAAAAAAAAAAAAAAAAAAAAAAAAAAAAAAAAAAAAAAAAAAAAAAAAAAAAAAAAAAAAAAAAAAAAAAAAAAAAAAAAAAAAAAAAAAAAAAAAAAAAAAAAAAAAAAAAAAAAAAAAAAAAAAAAAAAAAAAAAAAAAAAAAAAAAAAAAAAAAAAAAAAAAAAAAAAAAAAAAAAAAAAAAAAAAAAAAAAAAAAAAAAAAAAAAAAAAAAAAAAAAAAAAAAAAAAAAAAAAAAAAAAAAAAAAAAAAAAAAAAAAAAAAAAAAAAAAAAAAAAAAAAAAAAAAAAAAAAAAAAAAAAAAAAAAAAAAAAAAAAAAAAAAAAAAAAAAAAAAAAAAAAAAAAAAAAAAAAAAAAAAAAAAAAAAAAAAAAAAAAAAAAAAAAAAAAAAAAAAAAAAAAAAAAAAAAAAAAAAAAAAAAAAAAAAAAAAAAAAAAAAAAAAAAAAAAAAAAAAAAAAAAAAAAAAAAAAAAAAAAAAAAAAAAAAAAAAAAAAAAAAAAAAAAAAAAAAAAAAAAAAAAAAAAAAAAAAAAAAAAAAAAAAAAAAAAAAAAAAAAAAAAAAAAAAAAAAAAAAAAAAAAAAAAAAAAAAAAAAAAAAAAAAAAAAAAAAAAAAAAAAAAAAAAAAAAAAAAAAAAAAAAAAAAAAAAAAAAAAAAAAAAAAAAAAAAAAAAAAAAAAAAAAAAAAAAAAAAAAAAAAAAAAAAAAAAAAAAAAAAAAAAAAAAAAAAAAAAAAAAAAAAAAAAAAAAAAAAAAAAAAAAAAAAAAAAAAAAAAAAAAAAAAAAAAAAAAAAAAAAAAAAAAAAAAAAAAAAAAAAAAAAAAAAAAAAAAAAAAAAAAAAAAAAAAAAAAAAAAAAAAAAAAAAAAAAAAAAAAAAAAAAAAAAAAAAAAAAAAAAAAAAAAAAAAAAAAAAAAAAAAAAAAAAAAAAAAAAAAAAAAAAAAAAAAAAAAAAAAAAAAAAAAAAAAAAAAAAAAAAAAAAAAAAAAAAAAAAAAAAAAAAAAAAAAAAAAAAAAAAAAAAAAAAAAAAAAAAAAAAAAAAAAAAAAAAAAAAAAAAAAAAAAAAAAAAAAAAAAAAAAAAAAAAAAAAAAAAAAAAAAAAAAAAAAAAAAAAAAAAAAAAAAAAAAAAAAAAAAAAAAAAAAAAAAAAAAAAAAAAAAAAAAAAAAAAAAAAAAAAAAAAAAAAAAAAAAAAAAAAAAAAAAAAAAAAAAAAAAAAAAAAAAAAAAAAAAAAAAAAAAAAAAAAAAAAAAAAAAAAAAAAAAAAAAAAAAAAAAAAAAAAAAAAAAAAAAAAAAAAAAAAAAAAAAAAAAAAAAAAAAAAAAAAAAAAAAAAAAAAAAAAAAAAAAAAAAAAAAAAAAAAAAAAAAAAAAAAAAAAAAAAAAAAAAAAAAAAAAAAAAAAAAAAAAAAAAAAAAAAAAAAAAAAAAAAAAAAAAAAAAAAAAAAAAAAAAAAAAAAAAAAAAAAAAAAAAAAAAAAAAAAAAAAAAAAAAAAAAAAAAAAAAAAAAAAAAAAAAAAAAAAAAAAAAAAAAAAAAAAAAAAAAAAAAAAAAAAAAAAAAAAAAAAAAAAAAAAAAAAAAAAAAAAAAAAAAAAAAAAAAAAAAAAAAAAAAAAAAAAAAAAAAAAAAAAAAAAAAAAAAAAAAAAAAAAAAAAAAAAAAAAAAAAAAAAAAAAAAAAAAAAAAAAAAAAAAAAAAAAAAAAAAAAAAAAAAAAAAAAAAAAAAAAAAAAAAAAAAAAAAAAAAAAAAAAAAAAAAAAAAAAAAAAAAAAAAAAAAAAAAAAAAAAAAAAAAAAAAAAAAAAAAAAAAAAAAAAAAAAAAAAAAAAAAAAAAAAAAAAAAAAAAAAAAAAAAAAAAAAAAAAAAAAAAAAAAAAAAAAAAAAAAAAAAAAAAAAAAAAAAAAAAAAAAAAAAAAAAAAAAAAAAAAAAAAAAAAAAAAAAAAAAAAAAAAAAAAAAAAAAAAAAAAAAAAAAAAAAAAAAAAAAAAAAAAAAAAAAAAAAAAAAAAAAAAAAAAAAAAAAAAAAAAAAAAAAAAAAAAAAAAAAAAAAAAAAAAAAAAAAAAAAAAAAAAAAAAAAAAAAAAAAAAAAAAAAAAAAAAAAAAAAAAAAAAAAAAAAAAAAAAAAAAAAAAAAAAAAAAAAAAAAAAAAAAAAAAAAAAAAAAAAAAAAAAAAAAAAAAAAAAAAAAAAAAAAAAAAAAAAAAAAAAAAAAAAAAAAAAAAAAAAAAAAAAAAAAAAAAAAAAAAAAAAAAAAAAAAAAAAAAAAAAAAAAAAAAAAAAAAAAAAAAAAAAAAAAAAAAAAAAAAAAAAAAAAAAAAAAAAAAAAAAAAAAAAAAAAAAAAAAAAAAAAAAAAAAAAAAAAAAAAAAAAAAAAAAAAAAAAAAAAAAAAAAAAAAAAAAAAAAAAAAAAAAAAAAAAAAAAAAAAAAAAAAAAAAAAAAAAAAAAAAAAAAAAAAAAAAAAAAAAAAAAAAAAAAAAAAAAAAAAAAAAAAAAAAAAAAAAAAAAAAAAAAAAAAAAAAAAAAAAAAAAAAAAAAAAAAAAAAAAAAAAAAAAAAAAAAAAAAAAAAAAAAAAAAAAAAAAAAAAAAAAAAAAAAAAAAAAAAAAAAAAAAAAAAAAAAAAAAAAAAAAAAAAAAAAAAAAAAAAAAAAAAAAAAAAAAAAAAAAAAAAAAAAAAAAAAAAAAAAAAAAAAAAAAAAAAAAAAAAAAAAAAAAAAAAAAAAAAAAAAAAAAAAAAAAAAAAAAAAAAAAAAAAAAAAAAAAAAAAAAAAAAAAAAAAAAAAAAAAAAAAAAAAAAAAAAAAAAAAAAAAAAAAAAAAAAAAAAAAAAAAAAAAAAAAAAAAAAAAAAAAAAAAAAAAAAAAAAAAAAAAAAAAAAAAAAAAAAAAAAAAAAAAAAAAAAAAAAAAAAAAAAAAAAAAAAAAAAAAAAAAAAAAAAAAAAAAAAAAAAAAAAAAAAAAAAAAAAAAAAAAAAAAAAAAAAAAAAAAAAAAAAAAAAAAAAAAAAAAAAAAAAAAAAAAAAAAAAAAAAAAAAAAAAAAAAAAAAAAAAAAAAAAAAAAAAAAAAAAAAAAAAAAAAAAAAAAAAAAAAAAAAAAAAAAAAAAAAAAAAAAAAAAAAAAAAAAAAAAAAAAAAAAAAAAAAAAAAAAAAAAAAAAAAAAAAAAAAAAAAAAAAAAAAAAAAAAAAAAAAAAAAAAAAAAAAAAAAAAAAAAAAAAAAAAAAAAAAAAAAAAAAAAAAAAAAAAAAAAAAAAAAAAAAAAAAAAAAAAAAAAAAAAAAAAAAAAAAAAAAAAAAAAAAAAAAAAAAAAAAAAAAAAAAAAAAAAAAAAAAAAAAAAAAAAAAAAAAAAAAAAAAAAAAAAAAAAAAAAAAAAAAAAAAAAAAAAAAAAAAAAAAAAAAAAAAAAAAAAAAAAAAAAAAAAAAAAAAAAAAAAAAAAAAAAAAAAAAAAAAAAAAAAAAAAAAAAAAAAAAAAAAAAAAAAAAAAAAAAAAAAAAAAAAAAAAAAAAAAAAAAAAAAAAAAAAAAAAAAAAAAAAAAAAAAAAAAAAAAAAAAAAAAAAAAAAAAAAAAAAAAAAAAAAAAAAAAAAAAAAAAAAAAAAAAAAAAAAAAAAAAAAAAAAAAAAAAAAAAAAAAAAAAAAAAAAAAAAAAAAAAAAAAAAAAAAAAAAAAAAAAAAAAAAAAAAAAAAAAAAAAAAAAAAAAAAAAAAAAAAAAAAAAAAAAAAAAAAAAAAAAAAAAAAAAAAAAAAAAAAAAAAAAAAAAAAAAAAAAAAAAAAAAAAAAAAAAAAAAAAAAAAAAAAAAAAAAAAAAAAAAAAAAAAAAAAAAAAAAAAAAAAAAAAAAAAAAAAAAAAAAAAAAAAAAAAAAAAAAAAAAAAAAAAAAAAAAAAAAAAAAAAAAAAAAAAAAAAAAAAAAAAAAAAAAAAAAAAAAAAAAAAAAAAAAAAAAAAAAAAAAAAAAAAAAAAAAAAAAAAAAAAAAAAAAAAAAAAAAAAAAAAAAAAAAAAAAAAAAAAAAAAAAAAAAAAAAAAAAAAAAAAAAAAAAAAAAAAAAAAAAAAAAAAAAAAAAAAAAAAAAAAAAAAAAAAAAAAAAAAAAAAAAAAAAAAAAAAAAAAAAAAAAAAAAAAAAAAAAAAAAAAAAAAAAAAAAAAAAAAAAAAAAAAAAAAAAAAAAAAAAAAAAAAAAAAAAAAAAAAAAAAAAAAAAAAAAAAAAAAAAAAAAAAAAAAAAAAAAAAAAAAAAAAAAAAAAAAAAAAAAAAAAAAAAAAAAAAAAAAAAAAAAAAAAAAAAAAAAAAAAAAAAAAAAAAAAAAAAAAAAAAAAAAAAAAAAAAAAAAAAAAAAAAAAAAAAAAAAAAAAAAAAAAAAAAAAAAAAAAAAAAAAAAAAAAAAAAAAAAAAAAAAAAAAAAAAAAAAAAAAAAAAAAAAAAAAAAAAAAAAAAAAAAAAAAAAAAAAAAAAAAAAAAAAAAAAAAAAAAAAAAAAAAAAAAAAAAAAAAAAAAAAAAAAAAAAAAAAAAAAAAAAAAAAAAAAAAAAAAAAAAAAAAAAAAAAAAAAAAAAAAAAAAAAAAAAAAAAAAAAAAAAAAAAAAAAAAAAAAAAAAAAAAAAAAAAAAAAAAAAAAAAAAAAAAAAAAAAAAAAAAAAAAAAAAAAAAAAAAAAAAAAAAAAAAAAAAAAAAAAAAAAAAAAAAAAAAAAAAAAAAAAAAAAAAAAAAAAAAAAAAAAAAAAAAAAAAAAAAAAAAAAAAAAAAAAAAAAAAAAAAAAAAAAAAAAAAAAAAAAAAAAAAAAAAAAAAAAAAAAAAAAAAAAAAAAAAAAAAAAAAAAAAAAAAAAAAAAAAAAAAAAAAAAAAAAAAAAAAAAAAAAAAAAAAAAAAAAAAAAAAAAAAAAAAAAAAAAAAAAAAAAAAAAAAAAAAAAAAAAAAAAAAAAAAAAAAAAAAAAAAAAAAAAAAAAAAAAAAAAAAAAAAAAAAAAAAAAAAAAAAAAAAAAAAAAAAAAAAAAAAAAAAAAAAAAAAAAAAAAAAAAAAAAAAAAAAAAAAAAAAAAAAAAAAAAAAAAAAAAAAAAAAAAAAAAAAAAAAAAAAAAAAAAAAAAAAAAAAAAAAAAAAAAAAAAAAAAAAAAAAAAAAAAAAAAAAAAAAAAAAAAAAAAAAAAAAAAAAAAAAAAAAAAAAAAAAAAAAAAAAAAAAAAAAAAAAAAAAAAAAAAAAAAAAAAAAAAAAAAAAAAAAAAAAAAAAAAAAAAAAAAAAAAAAAAAAAAAAAAAAAAAAAAAAAAAAAAAAAAAAAAAAAAAAAAAAAAAAAAAAAAAAAAAAAAAAAAAAAAAAAAAAAAAAAAAAAAAAAAAAAAAAAAAAAAAAAAAAAAAAAAAAAAAAAAAAAAAAAAAAAAAAAAAAAAAAAAAAAAAAAAAAAAAAAAAAAAAAAAAAAAAAAAAAAAAAAAAAAAAAAAAAAAAAAAAAAAAAAAAAAAAAAAAAAAAAAAAAAAAAAAAAAAAAAAAAAAAAAAAAAAAAAAAAAAAAAAAAAAAAAAAAAAAAAAAAAAAAAAAAAAAAAAAAAAAAAAAAAAAAAAAAAAAAAAAAAAAAAAAAAAAAAAAAAAAAAAAAAAAAAAAAAAAAAAAAAAAAAAAAAAAAAAAAAAAAAAAAAAAAAAAAAAAAAAAAAAAAAAAAAAAAAAAAAAAAAAAAAAAAAAAAAAAAAAAAAAAAAAAAAAAAAAAAAAAAAAAAAAAAAAAAAAAAAAAAAAAAAAAAAAAAAAAAAAAAAAAAAAAAAAAAAAAAAAAAAAAAAAAAAAAAAAAAAAAAAAAAAAAAAAAAAAAAAAAAAAAAAAAAAAAAAAAAAAAAAAAAAAAAAAAAAAAAAAAAAAAAAAAAAAAAAAAAAAAAAAAAAAAAAAAAAAAAAAAAAAAAAAAAAAAAAAAAAAAAAAAAAAAAAAAAAAAAAAAAAAAAAAAAAAAAAAAAAAAAAAAAAAAAAAAAAAAAAAAAAAAAAAAAAAAAAAAAAAAAAAAAAAAAAAAAAAAAAAAAAAAAAAAAAAAAAAAAAAAAAAAAAAAAAAAAAAAAAAAAAAAAAAAAAAAAAAAAAAAAAAAAAAAAAAAAAAAAAAAAAAAAAAAAAAAAAAAAAAAAAAAAAAAAAAAAAAAAAAAAAAAAAAAAAAAAAAAAAAAAAAAAAAAAAAAAAAAAAAAAAAAAAAAAAAAAAAAAAAAAAAAAAAAAAAAAAAAAAAAAAAAAAAAAAAAAAAAAAAAAAAAAAAAAAAAAAAAAAAAAAAAAAAAAAAAAAAAAAAAAAAAAAAAAAAAAAAAAAAAAAAAAAAAAAAAAAAAAAAAAAAAAAAAAAAAAAAAAAAAAAAAAAAAAAAAAAAAAAAAAAAAAAAAAAAAAAAAAAAAAAAAAAAAAAAAAAAAAAAAAAAAAAAAAAAAAAAAAAAAAAAAAAAAAAAAAAAAAAAAAAAAAAAAAAAAAAAAAAAAAAAAAAAAAAAAAAAAAAAAAAAAAAAAAAAAAAAAAAAAAAAAAAAAAAAAAAAAAAAAAAAAAAAAAAAAAAAAAAAAAAAAAAAAAAAAAAAAAAAAAAAAAAAAAAAAAAAAAAAAAAAAAAAAAAAAAAAAAAAAAAAAAAAAAAAAAAAAAAAAAAAAAAAAAAAAAAAAAAAAAAAAAAAAAAAAAAAAAAAAAAAAAAAAAAAAAAAAAAAAAAAAAAAAAAAAAAAAAAAAAAAAAAAAAAAAAAAAAAAAAAAAAAAAAAAAAAAAAAAAAAAAAAAAAAAAAAAAAAAAAAAAAAAAAAAAAAAAAAAAAAAAAAAAAAAAAAAAAAAAAAAAAAAAAAAAAAAAAAAAAAAAAAAAAAAAAAAAAAAAAAAAAAAAAAAAAAAAAAAAAAAAAAAAAAAAAAAAAAAAAAAAAAAAAAAAAAAAAAAAAAAAAAAAAAAAAAAAAAAAAAAAAAAAAAAAAAAAAAAAAAAAAAAAAAAAAAAAAAAAAAAAAAAAAAAAAAAAAAAAAAAAAAAAAAAAAAAAAAAAAAAAAAAAAAAAAAAAAAAAAAAAAAAAAAAAAAAAAAAAAAAAAAAAAAAAAAAAAAAAAAAAAAAAAAAAAAAAAAAAAAAAAAAAAAAAAAAAAAAAAAAAAAAAAAAAAAAAAAAAAAAAAAAAAAAAAAAAAAAAAAAAAAAAAAAAAAAAAAAAAAAAAAAAAAAAAAAAAAAAAAAAAAAAAAAAAAAAAAAAAAAAAAAAAAAAAAAAAAAAAAAAAAAAAAAAAAAAAAAAAAAAAAAAAAAAAAAAAAAAAAAAAAAAAAAAAAAAAAAAAAAAAAAAAAAAAAAAAAAAAAAAAAAAAAAAAAAAAAAAAAAAAAAAAAAAAAAAAAAAAAAAAAAAAAAAAAAAAAAAAAAAAAAAAAAAAAAAAAAAAAAAAAAAAAAAAAAAAAAAAAAAAAAAAAAAAAAAAAAAAAAAAAAAAAAAAAAAAAAAAAAAAAAAAAAAAAAAAAAAAAAAAAAAAAAAAAAAAAAAAAAAAAAAAAAAAAAAAAAAAAAAAAAAAAAAAAAAAAAAAAAAAAAAAAAAAAAAAAAAAAAAAAAAAAAAAAAAAAAAAAAAAAAAAAAAAAAAAAAAAAAAAAAAAAAAAAAAAAAAAAAAAAAAAAAAAAAAAAAAAAAAAAAAAAAAAAAAAAAAAAAAAAAAAAAAAAAAAAAAAAAAAAAAAAAAAAAAAAAAAAAAAAAAAAAAAAAAAAAAAAAAAAAAAAAAAAAAAAAAAAAAAAAAAAAAAAAAAAAAAAAAAAAAAAAAAAAAAAAAAAAAAAAAAAAAAAAAAAAAAAAAAAAAAAAAAAAAAAAAAAAAAAAAAAAAAAAAAAAAAAAAAAAAAAAAAAAAAAAAAAAAAAAAAAAAAAAAAAAAAAAAAAAAAAAAAAAAAAAAAAAAAAAAAAAAAAAAAAAAAAAAAAAAAAAAAAAAAAAAAAAAAAAAAAAAAAAAAAAAAAAAAAAAAAAAAAAAAAAAAAAAAAAAAAAAAAAAAAAAAAAAAAAAAAAAAAAAAAAAAAAAAAAAAAAAAAAAAAAAAAAAAAAAAAAAAAAAAAAAAAAAAAAAAAAAAAAAAAAAAAAAAAAAAAAAAAAAAAAAAAAAAAAAAAAAAAAAAAAAAAAAAAAAAAAAAAAAAAAAAAAAAAAAAAAAAAAAAAAAAAAAAAAAAAAAAAAAAAAAAAAAAAAAAAAAAAAAAAAAAAAAAAAAAAAAAAAAAAAAAAAAAAAAAAAAAAAAAAAAAAAAAAAAAAAAAAAAAAAAAAAAAAAAAAAAAAAAAAAAAAAAAAAAAAAAAAAAAAAAAAAAAAAAAAAAAAAAAAAAAAAAAAAAAAAAAAAAAAAAAAAAAAAAAAAAAAAAAAAAAAAAAAAAAAAAAAAAAAAAAAAAAAAAAAAAAAAAAAAAAAAAAAAAAAAAAAAAAAAAAAAAAAAAAAAAAAAAAAAAAAAAAAAAAAAAAAAAAAAAAAAAAAAAAAAAAAAAAAAAAAAAAAAAAAAAAAAAAAAAAAAAAAAAAAAAAAAAAAAAAAAAAAAAAAAAAAAAAAAAAAAAAAAAAAAAAAAAAAAAAAAAAAAAAAAAAAAAAAAAAAAAAAAAAAAAAAAAAAAAAAAAAAAAAAAAAAAAAAAAAAAAAAAAAAAAAAAAAAAAAAAAAAAAAAAAAAAAAAAAAAAAAAAAAAAAAAAAAAAAAAAAAAAAAAAAAAAAAAAAAAAAAAAAAAAAAAAAAAAAAAAAAAAAAAAAAAAAAAAAAAAAAAAAAAAAAAAAAAAAAAAAAAAAAAAAAAAAAAAAAAAAAAAAAAAAAAAAAAAAAAAAAAAAAAAAAAAAAAAAAAAAAAAAAAAAAAAAAAAAAAAAAAAAAAAAAAAAAAAAAAAAAAAAAAAAAAAAAAAAAAAAAAAAAAAAAAAAAAAAAAAAAAAAAAAAAAAAAAAAAAAAAAAAAAAAAAAAAAAAAAAAAAAAAAAAAAAAAAAAAAAAAAAAAAAAAAAAAAAAAAAAAAAAAAAAAAAAAAAAAAAAAAAAAAAAAAAAAAAAAAAAAAAAAAAAAAAAAAAAAAAAAAAAAAAAAAAAAAAAAAAAAAAAAAAAAAAAAAAAAAAAAAAAAAAAAAAAAAAAAAAAAAAAAAAAAAAAAAAAAAAAAAAAAAAAAAAAAAAAAAAAAAAAAAAAAAAAAAAAAAAAAAAAAAAAAAAAAAAAAAAAAAAAAAAAAAAAAAAAAAAAAAAAAAAAAAAAAAAAAAAAAAAAAAAAAAAAAAAAAAAAAAAAAAAAAAAAAAAAAAAAAAAAAAAAAAAAAAAAAAAAAAAAAAAAAAAAAAAAAAAAAAAAAAAAAAAAAAAAAAAAAAAAAAAAAAAAAAAAAAAAAAAAAAAAAAAAAAAAAAAAAAAAAAAAAAAAAAAAAAAAAAAAAAAAAAAAAAAAAAAAAAAAAAAAAAAAAAAAAAAAAAAAAAAAAAAAAAAAAAAAAAAAAAAAAAAAAAAAAAAAAAAAAAAAAAAAAAAAAAAAAAAAAAAAAAAAAAAAAAAAAAAAAAAAAAAAAAAAAAAAAAAAAAAAAAAAAAAAAAAAAAAAAAAAAAAAAAAAAAAAAAAAAAAAAAAAAAAAAAAAAAAAAAAAAAAAAAAAAAAAAAAAAAAAAAAAAAAAAAAAAAAAAAAAAAAAAAAAAAAAAAAAAAAAAAAAAAAAAAAAAAAAAAAAAAAAAAAAAAAAAAAAAAAAAAAAAAAAAAAAAAAAAAAAAAAAAAAAAAAAAAAAAAAAAAAAAAAAAAAAAAAAAAAAAAAAAAAAAAAAAAAAAAAAAAAAAAAAAAAAAAAAAAAAAAAAAAAAAAAAAAAAAAAAAAAAAAAAAAAAAAAAAAAAAAAAAAAAAAAAAAAAAAAAAAAAAAAAAAAAAAAAAAAAAAAAAAAAAAAAAAAAAAAAAAAAAAAAAAAAAAAAAAAAAAAAAAAAAAAAAAAAAAAAAAAAAAAAAAAAAAAAAAAAAAAAAAAAAAAAAAAAAAAAAAAAAAAAAAAAAAAAAAAAAAAAAAAAAAAAAAAAAAAAAAAAAAAAAAAAAAAAAAAAAAAAAAAAAAAAAAAAAAAAAAAAAAAAAAAAAAAAAAAAAAAAAAAAAAAAAAAAAAAAAAAAAAAAAAAAAAAAAAAAAAAAAAAAAAAAAAAAAAAAAAAAAAAAAAAAAAAAAAAAAAAAAAAAAAAAAAAAAAAAAAAAAAAAAAAAAAAAAAAAAAAAAAAAAAAAAAAAAAAAAAAAAAAAAAAAAAAAAAAAAAAAAAAAAAAAAAAAAAAAAAAAAAAAAAAAAAAAAAAAAAAAAAAAAAAAAAAAAAAAAAAAAAAAAAAAAAAAAAAAAAAAAAAAAAAAAAAAAAAAAAAAAAAAAAAAAAAAAAAAAAAAAAAAAAAAAAAAAAAAAAAAAAAAAAAAAAAAAAAAAAAAAAAAAAAAAAAAAAAAAAAAAAAAAAAAAAAAAAAAAAAAAAAAAAAAAAAAAAAAAAAAAAAAAAAAAAAAAAAAAAAAAAAAAAAAAAAAAAAAAAAAAAAAAAAAAAAAAAAAAAAAAAAAAAAAAAAAAAAAAAAAAAAAAAAAAAAAAAAAAAAAAAAAAAAAAAAAAAAAAAAAAAAAAAAAAAAAAAAAAAAAAAAAAAAAAAAAAAAAAAAAAAAAAAAAAAAAAAAAAAAAAAAAAAAAAAAAAAAAAAAAAAAAAAAAAAAAAAAAAAAAAAAAAAAAAAAAAAAAAAAAAAAAAAAAAAAAAAAAAAAAAAAAAAAAAAAAAAAAAAAAAAAAAAAAAAAAAAAAAAAAAAAAAAAAAAAAAAAAAAAAAAAAAAAAAAAAAAAAAAAAAAAAAAAAAAAAAAAAAAAAAAAAAAAAAAAAAAAAAAAAAAAAAAAAAAAAAAAAAAAAAAAAAAAAAAAAAAAAAAAAAAAAAAAAAAAAAAAAAAAAAAAAAAAAAAAAAAAAAAAAAAAAAAAAAAAAAAAAAAAAAAAAAAAAAAAAAAAAAAAAAAAAAAAAAAAAAAAAAAAAAAAAAAAAAAAAAAAAAAAAAAAAAAAAAAAAAAAAAAAAAAAAAAAAAAAAAAAAAAAAAAAAAAAAAAAAAAAAAAAAAAAAAAAAAAAAAAAAAAAAAAAAAAAAAAAAAAAAAAAAAAAAAAAAAAAAAAAAAAAAAAAAAAAAAAAAAAAAAAAAAAAAAAAAAAAAAAAAAAAAAAAAAAAAAAAAAAAAAAAAAAAAAAAAAAAAAAAAAAAAAAAAAAAAAAAAAAAAAAAAAAAAAAAAAAAAAAAAAAAAAAAAAAAAAAAAAAAAAAAAAAAAAAAAAAAAAAAAAAAAAAAAAAAAAAAAAAAAAAAAAAAAAAAAAAAAAAAAAAAAAAAAAAAAAAAAAAAAAAAAAAAAAAAAAAAAAAAAAAAAAAAAAAAAAAAAAAAAAAAAAAAAAAAAAAAAAAAAAAAAAAAAAAAAAAAAAAAAAAAAAAAAAAAAAAAAAAAAAAAAAAAAAAAAAAAAAAAAAAAAAAAAAAAAAAAAAAAAAAAAAAAAAAAAAAAAAAAAAAAAAAAAAAAAAAAAAAAAAAAAAAAAAAAAAAAAAAAAAAAAAAAAAAAAAAAAAAAAAAAAAAAAAAAAAAAAAAAAAAAAAAAAAAAAAAAAAAAAAAAAAAAAAAAAAAAAAAAAAAAAAAAAAAAAAAAAAAAAAAAAAAAAAAAAAAAAAAAAAAAAAAAAAAAAAAAAAAAAAAAAAAAAAAAAAAAAAAAAAAAAAAAAAAAAAAAAAAAAAAAAAAAAAAAAAAAAAAAAAAAAAAAAAAAAAAAAAAAAAAAAAAAAAAAAAAAAAAAAAAAAAAAAAAAAAAAAAAAAAAAAAAAAAAAAAAAAAAAAAAAAAAAAAAAAAAAAAAAAAAAAAAAAAAAAAAAAAAAAAAAAAAAAAAAAAAAAAAAAAAAAAAAAAAAAAAAAAAAAAAAAAAAAAAAAAAAAAAAAAAAAAAAAAAAAAAAAAAAAAAAAAAAAAAAAAAAAAAAAAAAAAAAAAAAAAAAAAAAAAAAAAAAAAAAAAAAAAAAAAAAAAAAAAAAAAAAAAAAAAAAAAAAAAAAAAAAAAAAAAAAAAAAAAAAAAAAAAAAAAAAAAAAAAAAAAAAAAAAAAAAAAAAAAAAAAAAAAAAAAAAAAAAAAAAAAAAAAAAAAAAAAAAAAAAAAAAAAAAAAAAAAAAAAAAAAAAAAAAAAAAAAAAAAAAAAAAAAAAAAAAAAAAAAAAAAAAAAAAAAAAAAAAAAAAAAAAAAAAAAAAAAAAAAAAAAAAAAAAAAAAAAAAAAAAAAAAAAAAAAAAAAAAAAAAAAAAAAAAAAAAAAAAAAAAAAAAAAAAAAAAAAAAAAAAAAAAAAAAAAAAAAAAAAAAAAAAAAAAAAAAAAAAAAAAAAAAAAAAAAAAAAAAAAAAAAAAAAAAAAAAAAAAAAAAAAAAAAAAAAAAAAAAAAAAAAAAAAAAAAAAAAAAAAAAAAAAAAAAAAAAAAAAAAAAAAAAAAAAAAAAAAAAAAAAAAAAAAAAAAAAAAAAAAAAAAAAAAAAAAAAAAAAAAAAAAAAAAAAAAAAAAAAAAAAAAAAAAAAAAAAAAAAAAAAAAAAAAAAAAAAAAAAAAAAAAAAAAAAAAAAAAAAAAAAAAAAAAAAAAAAAAAAAAAAAAAAAAAAAAAAAAAAAAAAAAAAAAAAAAAAAAAAAAAAAAAAAAAAAAAAAAAAAAAAAAAAAAAAAAAAAAAAAAAAAAAAAAAAAAAAAAAAAAAAAAAAAAAAAAAAAAAAAAAAAAAAAAAAAAAAAAAAAAAAAAAAAAAAAAAAAAAAAAAAAAAAAAAAAAAAAAAAAAAAAAAAAAAAAAAAAAAAAAAAAAAAAAAAAAAAAAAAAAAAAAAAAAAAAAAAAAAAAAAAAAAAAAAAAAAAAAAAAAAAAAAAAAAAAAAAAAAAAAAAAAAAAAAAAAAAAAAAAAAAAAAAAAAAAAAAAAAAAAAAAAAAAAAAAAAAAAAAAAAAAAAAAAAAAAAAAAAAAAAAAAAAAAAAAAAAAAAAAAAAAAAAAAAAAAAAAAAAAAAAAAAAAAAAAAAAAAAAAAAAAAAAAAAAAAAAAAAAAAAAAAAAAAAAAAAAAAAAAAAAAAAAAAAAAAAAAAAAAAAAAAAAAAAAAAAAAAAAAAAAAAAAAAAAAAAAAAAAAAAAAAAAAAAAAAAAAAAAAAAAAAAAAAAAAAAAAAAAAAAAAAAAAAAAAAAAAAAAAAAAAAAAAAAAAAAAAAAAAAAAAAAAAAAAAAAAAAAAAAAAAAAAAAAAAAAAAAAAAAAAAAAAAAAAAAAAAAAAAAAAAAAAAAAAAAAAAAAAAAAAAAAAAAAAAAAAAAAAAAAAAAAAAAAAAAAAAAAAAAAAAAAAAAAAAAAAAAAAAAAAAAAAAAAAAAAAAAAAAAAAAAAAAAAAAAAAAAAAAAAAAAAAAAAAAAAAAAAAAAAAAAAAAAAAAAAAAAAAAAAAAAAAAAAAAAAAAAAAAAAAAAAAAAAAAAAAAAAAAAAAAAAAAAAAAAAAAAAAAAAAAAAAAAAAAAAAAAAAAAAAAAAAAAAAAAAAAAAAAAAAAAAAAAAAAAAAAAAAAAAAAAAAAAAAAAAAAAAAAAAAAAAAAAAAAAAAAAAAAAAAAAAAAAAAAAAAAAAAAAAAAAAAAAAAAAAAAAAAAAAAAAAAAAAAAAAAAAAAAAAAAAAAAAAAAAAAAAAAAAAAAAAAAAAAAAAAAAAAAAAAAAAAAAAAAAAAAAAAAAAAAAAAAAAAAAAAAAAAAAAAAAAAAAAAAAAAAAAAAAAAAAAAAAAAAAAAAAAAAAAAAAAAAAAAAAAAAAAAAAAAAAAAAAAAAAAAAAAAAAAAAAAAAAAAAAAAAAAAAAAAAAAAAAAAAAAAAAAAAAAAAAAAAAAAAAAAAAAAAAAAAAAAAAAAAAAAAAAAAAAAAAAAAAAAAAAAAAAAAAAAAAAAAAAAAAAAAAAAAAAAAAAAAAAAAAAAAAAAAAAAAAAAAAAAAAAAAAAAAAAAAAAAAAAAAAAAAAAAAAAAAAAAAAAAAAAAAAAAAAAAAAAAAAAAAAAAAAAAAAAAAAAAAAAAAAAAAAAAAAAAAAAAAAAAAAAAAAAAAAAAAAAAAAAAAAAAAAAAAAAAAAAAAAAAAAAAAAAAAAAAAAAAAAAAAAAAAAAAAAAAAAAAAAAAAAAAAAAAAAAAAAAAAAAAAAAAAAAAAAAAAAAAAAAAAAAAAAAAAAAAAAAAAAAAAAAAAAAAAAAAAAAAAAAAAAAAAAAAAAAAAAAAAAAAAAAAAAAAAAAAAAAAAAAAAAAAAAAAAAAAAAAAAAAAAAAAAAAAAAAAAAAAAAAAAAAAAAAAAAAAAAAAAAAAAAAAAAAAAAAAAAAAAAAAAAAAAAAAAAAAAAAAAAAAAAAAAAAAAAAAAAAAAAAAAAAAAAAAAAAAAAAAAAAAAAAAAAAAAAAAAAAAAAAAAAAAAAAAAAAAAAAAAAAAAAAAAAAAAAAAAAAAAAAAAAAAAAAAAAAAAAAAAAAAAAAAAAAAAAAAAAAAAAAAAAAAAAAAAAAAAAAAAAAAAAAAAAAAAAAAAAAAAAAAAAAAAAAAAAAAAAAAAAAAAAAAAAAAAAAAAAAAAAAAAAAAAAAAAAAAAAAAAAAAAAAAAAAAAAAAAAAAAAAAAAAAAAAAAAAAAAAAAAAAAAAAAAAAAAAAAAAAAAAAAAAAAAAAAAAAAAAAAAAAAAAAAAAAAAAAAAAAAAAAAAAAAAAAAAAAAAAAAAAAAAAAAAAAAAAAAAAAAAAAAAAAAAAAAAAAAAAAAAAAAAAAAAAAAAAAAAAAAAAAAAAAAAAAAAAAAAAAAAAAAAAAAAAAAAAAAAAAAAAAAAAAAAAAAAAAAAAAAAAAAAAAAAAAAAAAAAAAAAAAAAAAAAAAAAAAAAAAAAAAAAAAAAAAAAAAAAAAAAAAAAAAAAAAAAAAAAAAAAAAAAAAAAAAAAAAAAAAAAAAAAAAAAAAAAAAAAAAAAAAAAAAAAAAAAAAAAAAAAAAAAAAAAAAAAAAAAAAAAAAAAAAAAAAAAAAAAAAAAAAAAAAAAAAAAAAAAAAAAAAAAAAAAAAAAAAAAAAAAAAAAAAAAAAAAAAAAAAAAAAAAAAAAAAAAAAAAAAAAAAAAAAAAAAAAAAAAAAAAAAAAAAAAAAAAAAAAAAAAAAAAAAAAAAAAAAAAAAAAAAAAAAAAAAAAAAAAAAAAAAAAAAAAAAAAAAAAAAAAAAAAAAAAAAAAAAAAAAAAAAAAAAAAAAAAAAAAAAAAAAAAAAAAAAAAAAAAAAAAAAAAAAAAAAAAAAAAAAAAAAAAAAAAAAAAAAAAAAAAAAAAAAAAAAAAAAAAAAAAAAAAAAAAAAAAAAAAAAAAAAAAAAAAAAAAAAAAAAAAAAAAAAAAAAAAAAAAAAAAAAAAAAAAAAAAAAAAAAAAAAAAAAAAAAAAAAAAAAAAAAAAAAAAAAAAAAAAAAAAAAAAAAAAAAAAAAAAAAAAAAAAAAAAAAAAAAAAAAAAAAAAAAAAAAAAAAAAAAAAAAAAAAAAAAAAAAAAAAAAAAAAAAAAAAAAAAAAAAAAAAAAAAAAAAAAAAAAAAAAAAAAAAAAAAAAAAAAAAAAAAAAAAAAAAAAAAAAAAAAAAAAAAAAAAAAAAAAAAAAAAAAAAAAAAAAAAAAAAAAAAAAAAAAAAAAAAAAAAAAAAAAAAAAAAAAAAAAAAAAAAAAAAAAAAAAAAAAAAAAAAAAAAAAAAAAAAAAAAAAAAAAAAAAAAAAAAAAAAAAAAAAAAAAAAAAAAAAAAAAAAAAAAAAAAAAAAAAAAAAAAAAAAAAAAAAAAAAAAAAAAAAAAAAAAAAAAAAAAAAAAAAAAAAAAAAAAAAAAAAAAAAAAAAAAAAAAAAAAAAAAAAAAAAAAAAAAAAAAAAAAAAAAAAAAAAAAAAAAAAAAAAAAAAAAAAAAAAAAAAAAAAAAAAAAAAAAAAAAAAAAAAAAAAAAAAAAAAAAAAAAAAAAAAAAAAAAAAAAAAAAAAAAAAAAAAAAAAAAAAAAAAAAAAAAAAAAAAAAAAAAAAAAAAAAAAAAAAAAAAAAAAAAAAAAAAAAAAAAAAAAAAAAAAAAAAAAAAAAAAAAAAAAAAAAAAAAAAAAAAAAAAAAAAAAAAAAAAAAAAAAAAAAAAAAAAAAAAAAAAAAAAAAAAAAAAAAAAAAAAAAAAAAAAAAAAAAAAAAAAAAAAAAAAAAAAAAAAAAAAAAAAAAAAAAAAAAAAAAAAAAAAAAAAAAAAAAAAAAAAAAAAAAAAAAAAAAAAAAAAAAAAAAAAAAAAAAAAAAAAAAAAAAAAAAAAAAAAAAAAAAAAAAAAAAAAAAAAAAAAAAAAAAAAAAAAAAAAAAAAAAAAAAAAAAAAAAAAAAAAAAAAAAAAAAAAAAAAAAAAAAAAAAAAAAAAAAAAAAAAAAAAAAAAAAAAAAAAAAAAAAAAAAAAAAAAAAAAAAAAAAAAAAAAAAAAAAAAAAAAAAAAAAAAAAAAAAAAAAAAAAAAAAAAAAAAAAAAAAAAAAAAAAAAAAAAAAAAAAAAAAAAAAAAAAAAAAAAAAAAAAAAAAAAAAAAAAAAAAAAAAAAAAAAAAAAAAAAAAAAAAAAAAAAAAAAAAAAAAAAAAAAAAAAAAAAAAAAAAAAAAAAAAAAAAAAAAAAAAAAAAAAAAAAAAAAAAAAAAAAAAAAAAAAAAAAAAAAAAAAAAAAAAAAAAAAAAAAAAAAAAAAAAAAAAAAAAAAAAAAAAAAAAAAAAAAAAAAAAAAAAAAAAAAAAAAAAAAAAAAAAAAAAAAAAAAAAAAAAAAAAAAAAAAAAAAAAAAAAAAAAAAAAAAAAAAAAAAAAAAAAAAAAAAAAAAAAAAAAAAAAAAAAAAAAAAAAAAAAAAAAAAAAAAAAAAAAAAAAAAAAAAAAAAAAAAAAAAAAAAAAAAAAAAAAAAAAAAAAAAAAAAAAAAAAAAAAAAAAAAAAAAAAAAAAAAAAAAAAAAAAAAAAAAAAAAAAAAAAAAAAAAAAAAAAAAAAAAAAAAAAAAAAAAAAAAAAAAAAAAAAAAAAAAAAAAAAAAAAAAAAAAAAAAAAAAAAAAAAAAAAAAAAAAAAAAAAAAAAAAAAAAAAAAAAAAAAAAAAAAAAAAAAAAAAAAAAAAAAAAAAAAAAAAAAAAAAAAAAAAAAAAAAAAAAAAAAAAAAAAAAAAAAAAAAAAAAAAAAAAAAAAAAAAAAAAAAAAAAAAAAAAAAAAAAAAAAAAAAAAAAAAAAAAAAAAAAAAAAAAAAAAAAAAAAAAAAAAAAAAAAAAAAAAAAAAAAAAAAAAAAAAAAAAAAAAAAAAAAAAAAAAAAAAAAAAAAAAAAAAAAAAAAAAAAAAAAAAAAAAAAAAAAAAAAAAAAAAAAAAAAAAAAAAAAAAAAAAAAAAAAAAAAAAAAAAAAAAAAAAAAAAAAAAAAAAAAAAAAAAAAAAAAAAAAAAAAAAAAAAAAAAAAAAAAAAAAAAAAAAAAAAAAAAAAAAAAAAAAAAAAAAAAAAAAAAAAAAAAAAAAAAAAAAAAAAAAAAAAAAAAAAAAAAAAAAAAAAAAAAAAAAAAAAAAAAAAAAAAAAAAAAAAAAAAAAAAAAAAAAAAAAAAAAAAAAAAAAAAAAAAAAAAAAAAAAAAAAAAAAAAAAAAAAAAAAAAAAAAAAAAAAAAAAAAAAAAAAAAAAAAAAAAAAAAAAAAAAAAAAAAAAAAAAAAAAAAAAAAAAAAAAAAAAAAAAAAAAAAAAAAAAAAAAAAAAAAAAAAAAAAAAAAAAAAAAAAAAAAAAAAAAAAAAAAAAAAAAAAAAAAAAAAAAAAAAAAAAAAAAAAAAAAAAAAAAAAAAAAAAAAAAAAAAAAAAAAAAAAAAAAAAAAAAAAAAAAAAAAAAAAAAAAAAAAAAAAAAAAAAAAAAAAAAAAAAAAAAAAAAAAAAAAAAAAAAAAAAAAAAAAAAAAAAAAAAAAAAAAAAAAAAAAAAAAAAAAAAAAAAAAAAAAAAAAAAAAAAAAAAAAAAAAAAAAAAAAAAAAAAAAAAAAAAAAAAAAAAAAAAAAAAAAAAAAAAAAAAAAAAAAAAAAAAAAAAAAAAAAAAAAAAAAAAAAAAAAAAAAAAAAAAAAAAAAAAAAAAAAAAAAAAAAAAAAAAAAAAAAAAAAAAAAAAAAAAAAAAAAAAAAAAAAAAAAAAAAAAAAAAAAAAAAAAAAAAAAAAAAAAAAAAAAAAAAAAAAAAAAAAAAAAAAAAAAAAAAAAAAAAAAAAAAAAAAAAAAAAAAAAAAAAAAAAAAAAAAAAAAAAAAAAAAAAAAAAAAAAAAAAAAAAAAAAAAAAAAAAAAAAAAAAAAAAAAAAAAAAAAAAAAAAAAAAAAAAAAAAAAAAAAAAAAAAAAAAAAAAAAAAAAAAAAAAAAAAAAAAAAAAAAAAAAAAAAAAAAAAAAAAAAAAAAAAAAAAAAAAAAAAAAAAAAAAAAAAAAAAAAAAAAAAAAAAAAAAAAAAAAAAAAAAAAAAAAAAAAAAAAAAAAAAAAAAAAAAAAAAAAAAAAAAAAAAAAAAAAAAAAAAAAAAAAAAAAAAAAAAAAAAAAAAAAAAAAAAAAAAAAAAAAAAAAAAAAAAAAAAAAAAAAAAAAAAAAAAAAAAAAAAAAAAAAAAAAAAAAAAAAAAAAAAAAAAAAAAAAAAAAAAAAAAAAAAAAAAAAAAAAAAAAAAAAAAAAAAAAAAAAAAAAAAAAAAAAAAAAAAAAAAAAAAAAAAAAAAAAAAAAAAAAAAAAAAAAAAAAAAAAAAAAAAAAAAAAAAAAAAAAAAAAAAAAAAAAAAAAAAAAAAAAAAAAAAAAAAAAAAAAAAAAAAAAAAAAAAAAAAAAAAAAAAAAAAAAAAAAAAAAAAAAAAAAAAAAAAAAAAAAAAAAAAAAAAAAAAAAAAAAAAAAAAAAAAAAAAAAAAAAAAAAAAAAAAAAAAAAAAAAAAAAAAAAAAAAAAAAAAAAAAAAAAAAAAAAAAAAAAAAAAAAAAAAAAAAAAAAAAAAAAAAAAAAAAAAAAAAAAAAAAAAAAAAAAAAAAAAAAAAAAAAAAAAAAAAAAAAAAAAAAAAAAAAAAAAAAAAAAAAAAAAAAAAAAAAAAAAAAAAAAAAAAAAAAAAAAAAAAAAAAAAAAAAAAAAAAAAAAAAAAAAAAAAAAAAAAAAAAAAAAAAAAAAAAAAAAAAAAAAAAAAAAAAAAAAAAAAAAAAAAAAAAAAAAAAAAAAAAAAAAAAAAAAAAAAAAAAAAAAAAAAAAAAAAAAAAAAAAAAAAAAAAAAAAAAAAAAAAAAAAAAAAAAAAAAAAAAAAAAAAAAAAAAAAAAAAAAAAAAAAAAAAAAAAAAAAAAAAAAAAAAAAAAAAAAAAAAAAAAAAAAAAAAAAAAAAAAAAAAAAAAAAAAAAAAAAAAAAAAAAAAAAAAAAAAAAAAAAAAAAAAAAAAAAAAAAAAAAAAAAAAAAAAAAAAAAAAAAAAAAAAAAAAAAAAAAAAAAAAAAAAAAAAAAAAAAAAAAAAAAAAAAAAAAAAAAAAAAAAAAAAAAAAAAAAAAAAAAAAAAAAAAAAAAAAAAAAAAAAAAAAAAAAAAAAAAAAAAAAAAAAAAAAAAAAAAAAAAAAAAAAAAAAAAAAAAAAAAAAAAAAAAAAAAAAAAAAAAAAAAAAAAAAAAAAAAAAAAAAAAAAAAAAAAAAAAAAAAAAAAAAAAAAAAAAAAAAAAAAAAAAAAAAAAAAAAAAAAAAAAAAAAAAAAAAAAAAAAAAAAAAAAAAAAAAAAAAAAAAAAAAAAAAAAAAAAAAAAAAAAAAAAAAAAAAAAAAAAAAAAAAAAAAAAAAAAAAAAAAAAAAAAAAAAAAAAAAAAAAAAAAAAAAAAAAAAAAAAAAAAAAAAAAAAAAAAAAAAAAAAAAAAAAAAAAAAAAAAAAAAAAAAAAAAAAAAAAAAAAAAAAAAAAAAAAAAAAAAAAAAAAAAAAAAAAAAAAAAAAAAAAAAAAAAAAAAAAAAAAAAAAAAAAAAAAAAAAAAAAAAAAAAAAAAAAAAAAAAAAAAAAAAAAAAAAAAAAAAAAAAAAAAAAAAAAAAAAAAAAAAAAAAAAAAAAAAAAAAAAAAAAAAAAAAAAAAAAAAAAAAAAAAAAAAAAAAAAAAAAAAAAAAAAAAAAAAAAAAAAAAAAAAAAAAAAAAAAAAAAAAAAAAAAAAAAAAAAAAAAAAAAAAAAAAAAAAAAAAAAAAAAAAAAAAAAAAAAAAAAAAAAAAAAAAAAAAAAAAAAAAAAAAAAAAAAAAAAAAAAAAAAAAAAAAAAAAAAAAAAAAAAAAAAAAAAAAAAAAAAAAAAAAAAAAAAAAAAAAAAAAAAAAAAAAAAAAAAAAAAAAAAAAAAAAAAAAAAAAAAAAAAAAAAAAAAAAAAAAAAAAAAAAAAAAAAAAAAAAAAAAAAAAAAAAAAAAAAAAAAAAAAAAAAAAAAAAAAAAAAAAAAAAAAAAAAAAAAAAAAAAAAAAAAAAAAAAAAAAAAAAAAAAAAAAAAAAAAAAAAAAAAAAAAAAAAAAAAAAAAAAAAAAAAAAAAAAAAAAAAAAAAAAAAAAAAAAAAAAAAAAAAAAAAAAAAAAAAAAAAAAAAAAAAAAAAAAAAAAAAAAAAAAAAAAAAAAAAAAAAAAAAAAAAAAAAAAAAAAAAAAAAAAAAAAAAAAAAAAAAAAAAAAAAAAAAAAAAAAAAAAAAAAAAAAAAAAAAAAAAAAAAAAAAAAAAAAAAAAAAAAAAAAAAAAAAAAAAAAAAAAAAAAAAAAAAAAAAAAAAAAAAAAAAAAAAAAAAAAAAAAAAAAAAAAAAAAAAAAAAAAAAAAAAAAAAAAAAAAAAAAAAAAAAAAAAAAAAAAAAAAAAAAAAAAAAAAAAAAAAAAAAAAAAAAAAAAAAAAAAAAAAAAAAAAAAAAAAAAAAAAAAAAAAAAAAAAAAAAAAAAAAAAAAAAAAAAAAAAAAAAAAAAAAAAAAAAAAAAAAAAAAAAAAAAAAAAAAAAAAAAAAAAAAAAAAAAAAAAAAAAAAAAAAAAAAAAAAAAAAAAAAAAAAAAAAAAAAAAAAAAAAAAAAAAAAAAAAAAAAAAAAAAAAAAAAAAAAAAAAAAAAAAAAAAAAAAAAAAAAAAAAAAAAAAAAAAAAAAAAAAAAAAAAAAAAAAAAAAAAAAAAAAAAAAAAAAAAAAAAAAAAAAAAAAAAAAAAAAAAAAAAAAAAAAAAA==\",\"dtype\":\"float64\",\"shape\":[20000]},\"y\":{\"__ndarray__\":\"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\",\"dtype\":\"float64\",\"shape\":[20000]}}},\"id\":\"c9ff1779-7943-4225-a18b-7e46188c0d82\",\"type\":\"ColumnDataSource\"},{\"attributes\":{\"active_drag\":\"auto\",\"active_inspect\":\"auto\",\"active_scroll\":\"auto\",\"active_tap\":\"auto\",\"tools\":[{\"id\":\"ddccad84-0964-4791-8133-914a926b57fd\",\"type\":\"PanTool\"},{\"id\":\"5684c6b2-2408-4a48-87a4-40bd2556acd9\",\"type\":\"WheelZoomTool\"},{\"id\":\"a25415af-a9f9-4cf4-bcf5-155707637fe4\",\"type\":\"BoxZoomTool\"},{\"id\":\"8cf84228-c02e-462d-b09a-78f99f6e94c2\",\"type\":\"SaveTool\"},{\"id\":\"e6840377-42a4-4ea2-b1ef-47341f9118b0\",\"type\":\"ResetTool\"},{\"id\":\"2fb4fbc4-5adf-4d6a-ac97-41ca6be9c838\",\"type\":\"HelpTool\"}]},\"id\":\"d78ded12-458a-4365-bc85-22ef4efa9be2\",\"type\":\"Toolbar\"},{\"attributes\":{\"callback\":null},\"id\":\"5fa1b040-8c18-4667-a6de-8f8fb18fd68b\",\"type\":\"Range1d\"},{\"attributes\":{\"line_color\":{\"value\":\"#1f77b4\"},\"line_width\":{\"value\":3},\"x\":{\"field\":\"x\"},\"y\":{\"field\":\"y\"}},\"id\":\"53935bcf-191b-4b94-aec3-79e357300f4c\",\"type\":\"Line\"},{\"attributes\":{\"dimension\":\"height\",\"line_color\":{\"value\":\"red\"},\"line_dash\":[6],\"line_width\":{\"value\":3},\"plot\":{\"id\":\"83964058-dfbc-4496-aed3-978a644d844e\",\"subtype\":\"Figure\",\"type\":\"Plot\"}},\"id\":\"f24d7fbb-0c33-4590-a004-5f8bc2327925\",\"type\":\"Span\"},{\"attributes\":{},\"id\":\"277ab136-5a00-45b4-851c-e67c446d0436\",\"type\":\"LinearScale\"},{\"attributes\":{\"callback\":null},\"id\":\"f944d42c-822e-4331-8c52-dcdb10f6d25a\",\"type\":\"Range1d\"},{\"attributes\":{\"callback\":null,\"end\":2000},\"id\":\"cc682005-df5b-4e28-be23-ca04a5839c1e\",\"type\":\"Range1d\"},{\"attributes\":{\"data_source\":{\"id\":\"9b5126b7-fb00-4b9d-8a55-870ee1f58d08\",\"type\":\"ColumnDataSource\"},\"glyph\":{\"id\":\"53935bcf-191b-4b94-aec3-79e357300f4c\",\"type\":\"Line\"},\"hover_glyph\":null,\"muted_glyph\":null,\"nonselection_glyph\":{\"id\":\"1bcf0aa0-a337-412b-94b9-4e6ec9e3d6c7\",\"type\":\"Line\"},\"selection_glyph\":null},\"id\":\"a8a4067b-bc84-42f1-a5a5-abfa95040ba4\",\"type\":\"GlyphRenderer\"},{\"attributes\":{\"below\":[{\"id\":\"2f660ae7-b4fc-4355-8027-a8601560e4ec\",\"type\":\"LinearAxis\"}],\"left\":[{\"id\":\"42bc252c-306e-421f-a15f-27a5f4eb0a81\",\"type\":\"LinearAxis\"}],\"plot_height\":300,\"renderers\":[{\"id\":\"2f660ae7-b4fc-4355-8027-a8601560e4ec\",\"type\":\"LinearAxis\"},{\"id\":\"6004d75e-9151-4614-8479-b05fa9e54f0a\",\"type\":\"Grid\"},{\"id\":\"42bc252c-306e-421f-a15f-27a5f4eb0a81\",\"type\":\"LinearAxis\"},{\"id\":\"f8e6468a-049c-4b78-bc49-04d0bb4e7c5e\",\"type\":\"Grid\"},{\"id\":\"563bc404-bfb6-4dbc-a4d9-0d1c5460ad75\",\"type\":\"BoxAnnotation\"},{\"id\":\"0b7f3243-f12f-4466-85e6-684ef6a25e31\",\"type\":\"GlyphRenderer\"},{\"id\":\"f24d7fbb-0c33-4590-a004-5f8bc2327925\",\"type\":\"Span\"},{\"id\":\"7f6d18d2-22fb-4cae-86d0-261d9206fbef\",\"type\":\"Span\"},{\"id\":\"60d03cd2-af68-44e9-be6c-14286f92a25a\",\"type\":\"Span\"}],\"title\":{\"id\":\"31dcb4ad-a4c7-4407-aabb-59c88bd784e0\",\"type\":\"Title\"},\"tool_events\":{\"id\":\"9f7948c6-585c-4f23-b731-a888a294360d\",\"type\":\"ToolEvents\"},\"toolbar\":{\"id\":\"dd415366-1a20-4dfb-8291-95bc5a20d20f\",\"type\":\"Toolbar\"},\"x_range\":{\"id\":\"f944d42c-822e-4331-8c52-dcdb10f6d25a\",\"type\":\"Range1d\"},\"x_scale\":{\"id\":\"c0de18b1-bfb7-4c7f-ba21-661c94194c8c\",\"type\":\"LinearScale\"},\"y_range\":{\"id\":\"cc682005-df5b-4e28-be23-ca04a5839c1e\",\"type\":\"Range1d\"},\"y_scale\":{\"id\":\"afe19efd-b1b0-4ec4-8fc8-be96318a7664\",\"type\":\"LinearScale\"}},\"id\":\"83964058-dfbc-4496-aed3-978a644d844e\",\"subtype\":\"Figure\",\"type\":\"Plot\"},{\"attributes\":{\"plot\":null,\"text\":\"Free Energy, $G$\"},\"id\":\"b042601f-f712-4f45-a799-db94694d57b4\",\"type\":\"Title\"},{\"attributes\":{\"overlay\":{\"id\":\"ac4fa4d6-7872-44c1-bc28-839ef056b6a7\",\"type\":\"BoxAnnotation\"},\"plot\":{\"id\":\"980f2358-47f8-419e-afbf-a4c177d6608a\",\"subtype\":\"Figure\",\"type\":\"Plot\"}},\"id\":\"a25415af-a9f9-4cf4-bcf5-155707637fe4\",\"type\":\"BoxZoomTool\"},{\"attributes\":{\"active_drag\":\"auto\",\"active_inspect\":\"auto\",\"active_scroll\":\"auto\",\"active_tap\":\"auto\",\"tools\":[{\"id\":\"d9dfaa3b-8210-485c-8262-b546443a4724\",\"type\":\"PanTool\"},{\"id\":\"2446c0b2-2fb7-4076-8b78-9fbcc96e74f5\",\"type\":\"WheelZoomTool\"},{\"id\":\"6b52e0cb-e435-4ddd-82c0-07c4f161c27d\",\"type\":\"BoxZoomTool\"},{\"id\":\"6a666585-0a60-4f11-b282-9e1cb9d009d4\",\"type\":\"SaveTool\"},{\"id\":\"03b7c119-8da4-4170-bf6d-b31ae59825f9\",\"type\":\"ResetTool\"},{\"id\":\"f0a6bf43-b303-4564-89cd-8ddd7ee8e324\",\"type\":\"HelpTool\"}]},\"id\":\"dd415366-1a20-4dfb-8291-95bc5a20d20f\",\"type\":\"Toolbar\"},{\"attributes\":{\"axis_label\":\"X_B\",\"formatter\":{\"id\":\"855582c0-c75f-4e8b-b108-88e26c795eee\",\"type\":\"BasicTickFormatter\"},\"plot\":{\"id\":\"980f2358-47f8-419e-afbf-a4c177d6608a\",\"subtype\":\"Figure\",\"type\":\"Plot\"},\"ticker\":{\"id\":\"2656785b-88b7-4893-a9a1-e5a00f6727f2\",\"type\":\"BasicTicker\"}},\"id\":\"a9485122-da2f-4de8-8ae0-8e3e1a27d0e3\",\"type\":\"LinearAxis\"},{\"attributes\":{\"axis_label\":\"X_B\",\"formatter\":{\"id\":\"6f55c378-a371-40dd-a111-81682adff1e7\",\"type\":\"BasicTickFormatter\"},\"plot\":{\"id\":\"83964058-dfbc-4496-aed3-978a644d844e\",\"subtype\":\"Figure\",\"type\":\"Plot\"},\"ticker\":{\"id\":\"ceed52e3-6c2d-44ec-a702-652eb5f07ac4\",\"type\":\"BasicTicker\"}},\"id\":\"2f660ae7-b4fc-4355-8027-a8601560e4ec\",\"type\":\"LinearAxis\"},{\"attributes\":{},\"id\":\"2656785b-88b7-4893-a9a1-e5a00f6727f2\",\"type\":\"BasicTicker\"},{\"attributes\":{\"line_color\":{\"value\":\"#1f77b4\"},\"line_width\":{\"value\":3},\"x\":{\"field\":\"x\"},\"y\":{\"field\":\"y\"}},\"id\":\"2a4e9117-8f9d-447f-83b5-4119ba9508cb\",\"type\":\"Line\"},{\"attributes\":{\"plot\":{\"id\":\"980f2358-47f8-419e-afbf-a4c177d6608a\",\"subtype\":\"Figure\",\"type\":\"Plot\"},\"ticker\":{\"id\":\"2656785b-88b7-4893-a9a1-e5a00f6727f2\",\"type\":\"BasicTicker\"}},\"id\":\"e61071ff-73cd-489d-b5ea-1a1af9c370ca\",\"type\":\"Grid\"},{\"attributes\":{},\"id\":\"6f55c378-a371-40dd-a111-81682adff1e7\",\"type\":\"BasicTickFormatter\"},{\"attributes\":{},\"id\":\"855582c0-c75f-4e8b-b108-88e26c795eee\",\"type\":\"BasicTickFormatter\"},{\"attributes\":{\"plot\":{\"id\":\"83964058-dfbc-4496-aed3-978a644d844e\",\"subtype\":\"Figure\",\"type\":\"Plot\"}},\"id\":\"2446c0b2-2fb7-4076-8b78-9fbcc96e74f5\",\"type\":\"WheelZoomTool\"},{\"attributes\":{},\"id\":\"ceed52e3-6c2d-44ec-a702-652eb5f07ac4\",\"type\":\"BasicTicker\"},{\"attributes\":{\"dimension\":1,\"plot\":{\"id\":\"83964058-dfbc-4496-aed3-978a644d844e\",\"subtype\":\"Figure\",\"type\":\"Plot\"},\"ticker\":{\"id\":\"a488eeba-e6ad-466f-a5d2-5feb4abf2f4f\",\"type\":\"BasicTicker\"}},\"id\":\"f8e6468a-049c-4b78-bc49-04d0bb4e7c5e\",\"type\":\"Grid\"},{\"attributes\":{\"plot\":{\"id\":\"980f2358-47f8-419e-afbf-a4c177d6608a\",\"subtype\":\"Figure\",\"type\":\"Plot\"}},\"id\":\"e6840377-42a4-4ea2-b1ef-47341f9118b0\",\"type\":\"ResetTool\"},{\"attributes\":{\"children\":[{\"id\":\"980f2358-47f8-419e-afbf-a4c177d6608a\",\"subtype\":\"Figure\",\"type\":\"Plot\"},{\"id\":\"83964058-dfbc-4496-aed3-978a644d844e\",\"subtype\":\"Figure\",\"type\":\"Plot\"}]},\"id\":\"6e0964b8-b967-4e44-8a5b-81c960b559c2\",\"type\":\"Column\"},{\"attributes\":{\"plot\":{\"id\":\"980f2358-47f8-419e-afbf-a4c177d6608a\",\"subtype\":\"Figure\",\"type\":\"Plot\"}},\"id\":\"ddccad84-0964-4791-8133-914a926b57fd\",\"type\":\"PanTool\"},{\"attributes\":{},\"id\":\"496727a1-107e-4f1b-8a57-730675b90eec\",\"type\":\"BasicTickFormatter\"},{\"attributes\":{\"plot\":{\"id\":\"83964058-dfbc-4496-aed3-978a644d844e\",\"subtype\":\"Figure\",\"type\":\"Plot\"},\"ticker\":{\"id\":\"ceed52e3-6c2d-44ec-a702-652eb5f07ac4\",\"type\":\"BasicTicker\"}},\"id\":\"6004d75e-9151-4614-8479-b05fa9e54f0a\",\"type\":\"Grid\"},{\"attributes\":{\"plot\":{\"id\":\"83964058-dfbc-4496-aed3-978a644d844e\",\"subtype\":\"Figure\",\"type\":\"Plot\"}},\"id\":\"6a666585-0a60-4f11-b282-9e1cb9d009d4\",\"type\":\"SaveTool\"},{\"attributes\":{\"dimension\":\"height\",\"line_color\":{\"value\":\"red\"},\"line_dash\":[6],\"line_width\":{\"value\":3},\"plot\":{\"id\":\"980f2358-47f8-419e-afbf-a4c177d6608a\",\"subtype\":\"Figure\",\"type\":\"Plot\"}},\"id\":\"fbe8235b-92f6-44ca-86c2-1bec032c9193\",\"type\":\"Span\"},{\"attributes\":{},\"id\":\"60d992d2-d9df-4559-b4bd-4d86986df84f\",\"type\":\"BasicTicker\"},{\"attributes\":{},\"id\":\"a488eeba-e6ad-466f-a5d2-5feb4abf2f4f\",\"type\":\"BasicTicker\"},{\"attributes\":{\"axis_label\":\"T\",\"formatter\":{\"id\":\"e1de03be-63dd-4898-ab1c-ea8f90a250a8\",\"type\":\"BasicTickFormatter\"},\"plot\":{\"id\":\"83964058-dfbc-4496-aed3-978a644d844e\",\"subtype\":\"Figure\",\"type\":\"Plot\"},\"ticker\":{\"id\":\"a488eeba-e6ad-466f-a5d2-5feb4abf2f4f\",\"type\":\"BasicTicker\"}},\"id\":\"42bc252c-306e-421f-a15f-27a5f4eb0a81\",\"type\":\"LinearAxis\"},{\"attributes\":{\"plot\":{\"id\":\"83964058-dfbc-4496-aed3-978a644d844e\",\"subtype\":\"Figure\",\"type\":\"Plot\"}},\"id\":\"d9dfaa3b-8210-485c-8262-b546443a4724\",\"type\":\"PanTool\"},{\"attributes\":{},\"id\":\"8f624a23-0dba-4a7f-9231-747a6a6f255f\",\"type\":\"LinearScale\"},{\"attributes\":{\"overlay\":{\"id\":\"563bc404-bfb6-4dbc-a4d9-0d1c5460ad75\",\"type\":\"BoxAnnotation\"},\"plot\":{\"id\":\"83964058-dfbc-4496-aed3-978a644d844e\",\"subtype\":\"Figure\",\"type\":\"Plot\"}},\"id\":\"6b52e0cb-e435-4ddd-82c0-07c4f161c27d\",\"type\":\"BoxZoomTool\"},{\"attributes\":{\"line_alpha\":{\"value\":0.1},\"line_color\":{\"value\":\"#1f77b4\"},\"line_width\":{\"value\":3},\"x\":{\"field\":\"x\"},\"y\":{\"field\":\"y\"}},\"id\":\"ac259870-4671-417d-ab30-e219eddab180\",\"type\":\"Line\"},{\"attributes\":{\"data_source\":{\"id\":\"c9ff1779-7943-4225-a18b-7e46188c0d82\",\"type\":\"ColumnDataSource\"},\"glyph\":{\"id\":\"2a4e9117-8f9d-447f-83b5-4119ba9508cb\",\"type\":\"Line\"},\"hover_glyph\":null,\"muted_glyph\":null,\"nonselection_glyph\":{\"id\":\"ac259870-4671-417d-ab30-e219eddab180\",\"type\":\"Line\"},\"selection_glyph\":null},\"id\":\"0b7f3243-f12f-4466-85e6-684ef6a25e31\",\"type\":\"GlyphRenderer\"},{\"attributes\":{\"plot\":{\"id\":\"83964058-dfbc-4496-aed3-978a644d844e\",\"subtype\":\"Figure\",\"type\":\"Plot\"}},\"id\":\"03b7c119-8da4-4170-bf6d-b31ae59825f9\",\"type\":\"ResetTool\"},{\"attributes\":{\"bottom_units\":\"screen\",\"fill_alpha\":{\"value\":0.5},\"fill_color\":{\"value\":\"lightgrey\"},\"left_units\":\"screen\",\"level\":\"overlay\",\"line_alpha\":{\"value\":1.0},\"line_color\":{\"value\":\"black\"},\"line_dash\":[4,4],\"line_width\":{\"value\":2},\"plot\":null,\"render_mode\":\"css\",\"right_units\":\"screen\",\"top_units\":\"screen\"},\"id\":\"563bc404-bfb6-4dbc-a4d9-0d1c5460ad75\",\"type\":\"BoxAnnotation\"},{\"attributes\":{},\"id\":\"e1de03be-63dd-4898-ab1c-ea8f90a250a8\",\"type\":\"BasicTickFormatter\"},{\"attributes\":{\"dimension\":\"height\",\"line_color\":{\"value\":\"red\"},\"line_dash\":[6],\"line_width\":{\"value\":3},\"plot\":{\"id\":\"83964058-dfbc-4496-aed3-978a644d844e\",\"subtype\":\"Figure\",\"type\":\"Plot\"}},\"id\":\"7f6d18d2-22fb-4cae-86d0-261d9206fbef\",\"type\":\"Span\"},{\"attributes\":{\"dimension\":\"height\",\"line_color\":{\"value\":\"red\"},\"line_dash\":[6],\"line_width\":{\"value\":3},\"plot\":{\"id\":\"980f2358-47f8-419e-afbf-a4c177d6608a\",\"subtype\":\"Figure\",\"type\":\"Plot\"}},\"id\":\"669b55f2-5e63-49df-b292-812701914037\",\"type\":\"Span\"},{\"attributes\":{},\"id\":\"c0de18b1-bfb7-4c7f-ba21-661c94194c8c\",\"type\":\"LinearScale\"},{\"attributes\":{\"plot\":{\"id\":\"83964058-dfbc-4496-aed3-978a644d844e\",\"subtype\":\"Figure\",\"type\":\"Plot\"}},\"id\":\"f0a6bf43-b303-4564-89cd-8ddd7ee8e324\",\"type\":\"HelpTool\"},{\"attributes\":{},\"id\":\"9f7948c6-585c-4f23-b731-a888a294360d\",\"type\":\"ToolEvents\"},{\"attributes\":{\"line_color\":{\"value\":\"red\"},\"line_dash\":[6],\"line_width\":{\"value\":3},\"location\":300,\"plot\":{\"id\":\"83964058-dfbc-4496-aed3-978a644d844e\",\"subtype\":\"Figure\",\"type\":\"Plot\"}},\"id\":\"60d03cd2-af68-44e9-be6c-14286f92a25a\",\"type\":\"Span\"},{\"attributes\":{\"plot\":{\"id\":\"980f2358-47f8-419e-afbf-a4c177d6608a\",\"subtype\":\"Figure\",\"type\":\"Plot\"}},\"id\":\"8cf84228-c02e-462d-b09a-78f99f6e94c2\",\"type\":\"SaveTool\"}],\"root_ids\":[\"6e0964b8-b967-4e44-8a5b-81c960b559c2\"]},\"title\":\"Bokeh Application\",\"version\":\"0.12.6\"}};\n",
       "            var render_items = [{\"docid\":\"3d542aa5-88c7-4444-b110-4e308f2b56a9\",\"elementid\":\"834f25b2-39dc-416f-a1a1-ede582c31867\",\"modelid\":\"6e0964b8-b967-4e44-8a5b-81c960b559c2\",\"notebook_comms_target\":\"3c026f7f-46fa-43a8-83a6-8f4f397e0627\"}];\n",
       "            \n",
       "            Bokeh.embed.embed_items(docs_json, render_items);\n",
       "          };\n",
       "          if (document.readyState != \"loading\") fn();\n",
       "          else document.addEventListener(\"DOMContentLoaded\", fn);\n",
       "        })();\n",
       "      },\n",
       "      function(Bokeh) {\n",
       "      }\n",
       "    ];\n",
       "  \n",
       "    function run_inline_js() {\n",
       "      \n",
       "      if ((window.Bokeh !== undefined) || (force === true)) {\n",
       "        for (var i = 0; i < inline_js.length; i++) {\n",
       "          inline_js[i](window.Bokeh);\n",
       "        }if (force === true) {\n",
       "          display_loaded();\n",
       "        }} else if (Date.now() < window._bokeh_timeout) {\n",
       "        setTimeout(run_inline_js, 100);\n",
       "      } else if (!window._bokeh_failed_load) {\n",
       "        console.log(\"Bokeh: BokehJS failed to load within specified timeout.\");\n",
       "        window._bokeh_failed_load = true;\n",
       "      } else if (force !== true) {\n",
       "        var cell = $(document.getElementById(\"834f25b2-39dc-416f-a1a1-ede582c31867\")).parents('.cell').data().cell;\n",
       "        cell.output_area.append_execute_result(NB_LOAD_WARNING)\n",
       "      }\n",
       "  \n",
       "    }\n",
       "  \n",
       "    if (window._bokeh_is_loading === 0) {\n",
       "      console.log(\"Bokeh: BokehJS loaded, going straight to plotting\");\n",
       "      run_inline_js();\n",
       "    } else {\n",
       "      load_libs(js_urls, function() {\n",
       "        console.log(\"Bokeh: BokehJS plotting callback run at\", now());\n",
       "        run_inline_js();\n",
       "      });\n",
       "    }\n",
       "  }(this));\n",
       "</script>"
      ]
     },
     "metadata": {},
     "output_type": "display_data"
    },
    {
     "data": {
      "application/vnd.jupyter.widget-view+json": {
       "model_id": "b4d40b6702e041a9973858445bb34c8f"
      }
     },
     "metadata": {},
     "output_type": "display_data"
    }
   ],
   "source": [
    "xb_plot = np.linspace(0, 1, 1000)  # discritized plotting domain\n",
    "\n",
    "p = figure(title=\"Free Energy, $G$\", plot_height=300, plot_width=600, x_range=(0,1))\n",
    "p.xaxis.axis_label = 'X_B'\n",
    "p.yaxis.axis_label = 'G'\n",
    "r = p.line(xb_plot, lambdify(xb, G.subs({T: 300, Hmix:0, ua: -2000, ub:-1000}), 'numpy')(xb_plot), line_width=3)\n",
    "s1 = Span(location=None, dimension='height', line_color='red', line_dash='dashed', line_width=3)\n",
    "s2 = Span(location=None, dimension='height', line_color='red', line_dash='dashed', line_width=3)\n",
    "p.add_layout(s1)\n",
    "p.add_layout(s2)\n",
    "\n",
    "phase_diag = figure(title=\"Phase diagram\", plot_height=300, plot_width=600, x_range=(0,1), y_range=(0,2000))\n",
    "phase_diag.xaxis.axis_label = 'X_B'\n",
    "phase_diag.yaxis.axis_label = 'T'\n",
    "xt = phase_diag.line(np.linspace(0,0,20000), np.tile(np.linspace(0,2000,10000), 2), line_width=3)\n",
    "ps1 = Span(location=None, dimension='height', line_color='red', line_dash='dashed', line_width=3)\n",
    "ps2 = Span(location=None, dimension='height', line_color='red', line_dash='dashed', line_width=3)\n",
    "hspan = Span(location=300, dimension='width', line_color='red', line_dash='dashed', line_width=3)\n",
    "phase_diag.add_layout(ps1)\n",
    "phase_diag.add_layout(ps2)\n",
    "phase_diag.add_layout(hspan)\n",
    "\n",
    "fig = layouts.Column(p, phase_diag)\n",
    "show(fig, notebook_handle=True)\n",
    "\n",
    "@interact(T=(0,2000, 10), Hmix=(-10000,20000, 200), ua=(-10000, 0, 100), ub=(-10000, 0, 100))\n",
    "def update(T=300, Hmix=0, ua=-2000, ub=-1000):\n",
    "    # we have to do a little wrangling to keep the labels nice.\n",
    "    # first alias the args with prefix underscores\n",
    "    _T, _Hmix, _ua, _ub = T, Hmix, ua, ub\n",
    "    # redefine as symbols for the substitution and update the curve plot\n",
    "    ua, ub, Hmix, T = symbols('ua ub Hmix T')\n",
    "    r.data_source.data['y'] = lambdify(xb, G.subs({T: _T, Hmix: _Hmix, ua: _ua, ub:_ub}), 'numpy')(xb_plot)\n",
    "    # create a partially substituted second derivative\n",
    "    p_d2G_dx2 = d2G_dx2.subs({Hmix: _Hmix, ua: _ua, ub:_ub})\n",
    "    # find the roots of the second derivative and plot those as spans\n",
    "    roots = solve(p_d2G_dx2.subs({T: _T}), xb) or [I]\n",
    "    # calculate the Spans\n",
    "    if all([root.is_real for root in roots]):\n",
    "        s1.location = float(roots[0])\n",
    "        s2.location = float(roots[1])\n",
    "        ps1.location = float(roots[0])\n",
    "        ps2.location = float(roots[1])\n",
    "    else:\n",
    "        s1.location = None\n",
    "        s2.location = None\n",
    "        ps1.location = None\n",
    "        ps2.location = None\n",
    "        \n",
    "    # calculate the miscibility gap, leaving T free.\n",
    "    hspan.location = _T\n",
    "    misc_roots = solve(p_d2G_dx2, xb)\n",
    "    # calculate the miscibility gap\n",
    "    misc_xs = np.ravel(lambdify(T, misc_roots)(np.linspace(0,2000,10000)))\n",
    "    if (misc_xs.size > 0) and (np.nanmin(misc_xs) >= 0.0):\n",
    "        xt.data_source.data['x'] = misc_xs\n",
    "    else:\n",
    "        xt.data_source.data['x'] = np.linspace(0,0,20000)\n",
    "\n",
    "    push_notebook()"
   ]
  },
  {
   "cell_type": "code",
   "execution_count": null,
   "metadata": {},
   "outputs": [],
   "source": []
  }
 ],
 "metadata": {
  "kernelspec": {
   "display_name": "Python 3",
   "language": "python",
   "name": "python3"
  },
  "language_info": {
   "codemirror_mode": {
    "name": "ipython",
    "version": 3
   },
   "file_extension": ".py",
   "mimetype": "text/x-python",
   "name": "python",
   "nbconvert_exporter": "python",
   "pygments_lexer": "ipython3",
   "version": "3.6.0"
  },
  "widgets": {
   "application/vnd.jupyter.widget-state+json": {
    "state": {
     "003417b755ce4a84bbf1638fe864d658": {
      "model_module": "jupyter-js-widgets",
      "model_module_version": "~2.1.4",
      "model_name": "IntSliderModel",
      "state": {
       "_model_module_version": "~2.1.4",
       "_view_module_version": "~2.1.4",
       "description": "ub",
       "layout": "IPY_MODEL_41079f24068742ae883bc8a01f148128",
       "max": 0,
       "min": -10000,
       "step": 100,
       "style": "IPY_MODEL_dcba911e78514a3eb86e118ff592ef2e",
       "value": -1000
      }
     },
     "013b036c76c748c2bc9a504fe5d9a5e2": {
      "model_module": "jupyter-js-widgets",
      "model_module_version": "~2.1.4",
      "model_name": "LayoutModel",
      "state": {
       "_model_module_version": "~2.1.4",
       "_view_module_version": "~2.1.4"
      }
     },
     "025b3110f1c440d38a81a55011bdc906": {
      "model_module": "jupyter-js-widgets",
      "model_module_version": "~2.1.4",
      "model_name": "IntSliderModel",
      "state": {
       "_model_module_version": "~2.1.4",
       "_view_module_version": "~2.1.4",
       "description": "ub",
       "layout": "IPY_MODEL_9d44e205e4314ae8a70d76e82b57a185",
       "max": 0,
       "min": -10000,
       "step": 100,
       "style": "IPY_MODEL_efee619d79274fa2a03830294f9496d8",
       "value": -1000
      }
     },
     "0301a7acab434362b3267319f8dee9cb": {
      "model_module": "jupyter-js-widgets",
      "model_module_version": "~2.1.4",
      "model_name": "IntSliderModel",
      "state": {
       "_model_module_version": "~2.1.4",
       "_view_module_version": "~2.1.4",
       "description": "Hmix",
       "layout": "IPY_MODEL_77358748bc4b435dbb8307096cc8f3cf",
       "max": 20000,
       "min": -10000,
       "step": 200,
       "style": "IPY_MODEL_6e20a22e81764e20aea02c7b97d5091c",
       "value": 10000
      }
     },
     "030a7ed7e18d4df089ec8b537e456b7f": {
      "model_module": "jupyter-js-widgets",
      "model_module_version": "~2.1.4",
      "model_name": "IntSliderModel",
      "state": {
       "_model_module_version": "~2.1.4",
       "_view_module_version": "~2.1.4",
       "description": "ua",
       "layout": "IPY_MODEL_703cf4a0faee4e7c9c3851b9837eeb2c",
       "max": 0,
       "min": -10000,
       "step": 100,
       "style": "IPY_MODEL_de71ffd41b58460ba96b176980e70d85",
       "value": -2000
      }
     },
     "0360c7bb728b43ab8a30574ac76b3d8c": {
      "model_module": "jupyter-js-widgets",
      "model_module_version": "~2.1.4",
      "model_name": "SliderStyleModel",
      "state": {
       "_model_module_version": "~2.1.4",
       "_view_module_version": "~2.1.4"
      }
     },
     "03aa797449954b6f9c222fc69449b031": {
      "model_module": "jupyter-js-widgets",
      "model_module_version": "~2.1.4",
      "model_name": "LayoutModel",
      "state": {
       "_model_module_version": "~2.1.4",
       "_view_module_version": "~2.1.4"
      }
     },
     "03fcc0e67ef54b639d290e3a64f90946": {
      "model_module": "jupyter-js-widgets",
      "model_module_version": "~2.1.4",
      "model_name": "IntSliderModel",
      "state": {
       "_model_module_version": "~2.1.4",
       "_view_module_version": "~2.1.4",
       "description": "ub",
       "layout": "IPY_MODEL_e19b4cc559ee48e280e2bfda96e49ef3",
       "max": 0,
       "min": -10000,
       "step": 100,
       "style": "IPY_MODEL_cfa1d0fe01564ee2804a7ac954330b3d",
       "value": -1000
      }
     },
     "04474f93305b46df8b4a11c029f1b27f": {
      "model_module": "jupyter-js-widgets",
      "model_module_version": "~2.1.4",
      "model_name": "OutputModel",
      "state": {
       "_dom_classes": [],
       "_model_module": "jupyter-js-widgets",
       "_model_module_version": "~2.1.4",
       "_view_module": "jupyter-js-widgets",
       "_view_module_version": "~2.1.4",
       "layout": "IPY_MODEL_c82f9aacbe3c45508e7346005d6c0854",
       "msg_throttle": 1
      }
     },
     "051f29ec857d448e876c47e938a8e623": {
      "model_module": "jupyter-js-widgets",
      "model_module_version": "~2.1.4",
      "model_name": "SliderStyleModel",
      "state": {
       "_model_module_version": "~2.1.4",
       "_view_module_version": "~2.1.4"
      }
     },
     "0575d31e168b482bb43770ffd5b161bc": {
      "model_module": "jupyter-js-widgets",
      "model_module_version": "~2.1.4",
      "model_name": "LayoutModel",
      "state": {
       "_model_module_version": "~2.1.4",
       "_view_module_version": "~2.1.4"
      }
     },
     "0645d2b6ac2c4d84adef27400216fddd": {
      "model_module": "jupyter-js-widgets",
      "model_module_version": "~2.1.4",
      "model_name": "LayoutModel",
      "state": {
       "_model_module_version": "~2.1.4",
       "_view_module_version": "~2.1.4"
      }
     },
     "0682e2da36034408972cdbe593acb7c9": {
      "model_module": "jupyter-js-widgets",
      "model_module_version": "~2.1.4",
      "model_name": "LayoutModel",
      "state": {
       "_model_module_version": "~2.1.4",
       "_view_module_version": "~2.1.4"
      }
     },
     "068f08b1f819473e9d2bd3a2a681b3a6": {
      "model_module": "jupyter-js-widgets",
      "model_module_version": "~2.1.4",
      "model_name": "SliderStyleModel",
      "state": {
       "_model_module_version": "~2.1.4",
       "_view_module_version": "~2.1.4"
      }
     },
     "069926be44c84e499735788c2da2c252": {
      "model_module": "jupyter-js-widgets",
      "model_module_version": "~2.1.4",
      "model_name": "LayoutModel",
      "state": {
       "_model_module_version": "~2.1.4",
       "_view_module_version": "~2.1.4"
      }
     },
     "06adb8c9b92045a3b43795fa1e3f110e": {
      "model_module": "jupyter-js-widgets",
      "model_module_version": "~2.1.4",
      "model_name": "SliderStyleModel",
      "state": {
       "_model_module_version": "~2.1.4",
       "_view_module_version": "~2.1.4"
      }
     },
     "070ef08ab501457b8e3b71ef8af03dc4": {
      "model_module": "jupyter-js-widgets",
      "model_module_version": "~2.1.4",
      "model_name": "LayoutModel",
      "state": {
       "_model_module_version": "~2.1.4",
       "_view_module_version": "~2.1.4"
      }
     },
     "07294839a93046ac9711d4b02983b13b": {
      "model_module": "jupyter-js-widgets",
      "model_module_version": "~2.1.4",
      "model_name": "SliderStyleModel",
      "state": {
       "_model_module_version": "~2.1.4",
       "_view_module_version": "~2.1.4"
      }
     },
     "09cc3600e7214892a57a69bb41f3e534": {
      "model_module": "jupyter-js-widgets",
      "model_module_version": "~2.1.4",
      "model_name": "SliderStyleModel",
      "state": {
       "_model_module_version": "~2.1.4",
       "_view_module_version": "~2.1.4"
      }
     },
     "0b3318735ab54ad09b86e482b10d0ff6": {
      "model_module": "jupyter-js-widgets",
      "model_module_version": "~2.1.4",
      "model_name": "LayoutModel",
      "state": {
       "_model_module_version": "~2.1.4",
       "_view_module_version": "~2.1.4"
      }
     },
     "0b9a1655a866414280aef748df7474ed": {
      "model_module": "jupyter-js-widgets",
      "model_module_version": "~2.1.4",
      "model_name": "SliderStyleModel",
      "state": {
       "_model_module_version": "~2.1.4",
       "_view_module_version": "~2.1.4"
      }
     },
     "0c814ddcc65d4c4099c597ae9f7847be": {
      "model_module": "jupyter-js-widgets",
      "model_module_version": "~2.1.4",
      "model_name": "VBoxModel",
      "state": {
       "_dom_classes": [
        "widget-interact"
       ],
       "_model_module_version": "~2.1.4",
       "_view_module_version": "~2.1.4",
       "children": [
        "IPY_MODEL_18c784e29cea42fe8420f0290379a234",
        "IPY_MODEL_c897f07945a44e01ac57aa996c94fbb0",
        "IPY_MODEL_8214541ca1c34c60bd4207ceb5ed2bff",
        "IPY_MODEL_75b057b93ff040a781c2a933d82af400",
        "IPY_MODEL_9776eeb1fd7446639407c5163b3d8ead"
       ],
       "layout": "IPY_MODEL_21240ce896504bcba61627f65a6dd7cc"
      }
     },
     "0d04b9e5c83d40e8b30d728bedaed2de": {
      "model_module": "jupyter-js-widgets",
      "model_module_version": "~2.1.4",
      "model_name": "IntSliderModel",
      "state": {
       "_model_module_version": "~2.1.4",
       "_view_module_version": "~2.1.4",
       "description": "T",
       "layout": "IPY_MODEL_0575d31e168b482bb43770ffd5b161bc",
       "max": 2000,
       "step": 10,
       "style": "IPY_MODEL_2c21fcbe7044416b83001ed4c54a5644",
       "value": 300
      }
     },
     "0dc9fac388de48129bce66569c82d6c2": {
      "model_module": "jupyter-js-widgets",
      "model_module_version": "~2.1.4",
      "model_name": "IntSliderModel",
      "state": {
       "_model_module_version": "~2.1.4",
       "_view_module_version": "~2.1.4",
       "description": "Hmix",
       "layout": "IPY_MODEL_6469f535b6b64cd98543559757991e6b",
       "max": 20000,
       "min": -10000,
       "step": 200,
       "style": "IPY_MODEL_da179ec0f99245f1a50ed7ab44652827"
      }
     },
     "0de0ce3d82ae439c890d28aac0162df7": {
      "model_module": "jupyter-js-widgets",
      "model_module_version": "~2.1.4",
      "model_name": "LayoutModel",
      "state": {
       "_model_module_version": "~2.1.4",
       "_view_module_version": "~2.1.4"
      }
     },
     "0df91cc22558414fa05a51a25beb88f3": {
      "model_module": "jupyter-js-widgets",
      "model_module_version": "~2.1.4",
      "model_name": "SliderStyleModel",
      "state": {
       "_model_module_version": "~2.1.4",
       "_view_module_version": "~2.1.4"
      }
     },
     "0e11291f64c84d9f959977c54bb5ba8a": {
      "model_module": "jupyter-js-widgets",
      "model_module_version": "~2.1.4",
      "model_name": "LayoutModel",
      "state": {
       "_model_module_version": "~2.1.4",
       "_view_module_version": "~2.1.4"
      }
     },
     "0f21c01b434d41a184d55c46baf2b623": {
      "model_module": "jupyter-js-widgets",
      "model_module_version": "~2.1.4",
      "model_name": "SliderStyleModel",
      "state": {
       "_model_module_version": "~2.1.4",
       "_view_module_version": "~2.1.4"
      }
     },
     "100c9ca2a0494d29972d4230b30c72f9": {
      "model_module": "jupyter-js-widgets",
      "model_module_version": "~2.1.4",
      "model_name": "LayoutModel",
      "state": {
       "_model_module_version": "~2.1.4",
       "_view_module_version": "~2.1.4"
      }
     },
     "1090c79842484601ab280a320d588907": {
      "model_module": "jupyter-js-widgets",
      "model_module_version": "~2.1.4",
      "model_name": "OutputModel",
      "state": {
       "_dom_classes": [],
       "_model_module": "jupyter-js-widgets",
       "_model_module_version": "~2.1.4",
       "_view_module": "jupyter-js-widgets",
       "_view_module_version": "~2.1.4",
       "layout": "IPY_MODEL_d595884d7d39426da750381858a60067",
       "msg_throttle": 1
      }
     },
     "114f8b5b851b4dd3b3407826a9ec2f3d": {
      "model_module": "jupyter-js-widgets",
      "model_module_version": "~2.1.4",
      "model_name": "SliderStyleModel",
      "state": {
       "_model_module_version": "~2.1.4",
       "_view_module_version": "~2.1.4"
      }
     },
     "116301a3528f487b85f6a3600615e3d9": {
      "model_module": "jupyter-js-widgets",
      "model_module_version": "~2.1.4",
      "model_name": "LayoutModel",
      "state": {
       "_model_module_version": "~2.1.4",
       "_view_module_version": "~2.1.4"
      }
     },
     "1169bdc108404df7b484b6f444174ce3": {
      "model_module": "jupyter-js-widgets",
      "model_module_version": "~2.1.4",
      "model_name": "SliderStyleModel",
      "state": {
       "_model_module_version": "~2.1.4",
       "_view_module_version": "~2.1.4"
      }
     },
     "1183cd8995d946d8995e4deabf3c6a85": {
      "model_module": "jupyter-js-widgets",
      "model_module_version": "~2.1.4",
      "model_name": "IntSliderModel",
      "state": {
       "_model_module_version": "~2.1.4",
       "_view_module_version": "~2.1.4",
       "description": "ua",
       "layout": "IPY_MODEL_3f431ca780c44213afdc337701e5f55a",
       "max": 0,
       "min": -10000,
       "step": 100,
       "style": "IPY_MODEL_2a07c01098fb477b9d7fa7af80368628",
       "value": -2000
      }
     },
     "123a89071fff42738b68ac3ab782336f": {
      "model_module": "jupyter-js-widgets",
      "model_module_version": "~2.1.4",
      "model_name": "IntSliderModel",
      "state": {
       "_model_module_version": "~2.1.4",
       "_view_module_version": "~2.1.4",
       "description": "ua",
       "layout": "IPY_MODEL_bd3eeb0f2577425cafc81052b3e9f68a",
       "max": 0,
       "min": -10000,
       "step": 100,
       "style": "IPY_MODEL_73d6ba6c8d3b4cfabab598792da0a1ea",
       "value": -2000
      }
     },
     "123b90df073740ab99b0fc3764fd1b93": {
      "model_module": "jupyter-js-widgets",
      "model_module_version": "~2.1.4",
      "model_name": "LayoutModel",
      "state": {
       "_model_module_version": "~2.1.4",
       "_view_module_version": "~2.1.4"
      }
     },
     "15ad301e3cf742b2a052d7eb45bdd829": {
      "model_module": "jupyter-js-widgets",
      "model_module_version": "~2.1.4",
      "model_name": "LayoutModel",
      "state": {
       "_model_module_version": "~2.1.4",
       "_view_module_version": "~2.1.4"
      }
     },
     "160285cea5d74661884c08d5857b7c65": {
      "model_module": "jupyter-js-widgets",
      "model_module_version": "~2.1.4",
      "model_name": "LayoutModel",
      "state": {
       "_model_module_version": "~2.1.4",
       "_view_module_version": "~2.1.4"
      }
     },
     "16c0efdf73224a56980562a4f704713f": {
      "model_module": "jupyter-js-widgets",
      "model_module_version": "~2.1.4",
      "model_name": "IntSliderModel",
      "state": {
       "_model_module_version": "~2.1.4",
       "_view_module_version": "~2.1.4",
       "description": "Hmix",
       "layout": "IPY_MODEL_790c95de4be1481491a38f911ccd8f83",
       "max": 20000,
       "min": -10000,
       "step": 200,
       "style": "IPY_MODEL_679b9dbb564e4f228a8d1e0da4d63153",
       "value": 6200
      }
     },
     "17bbba2619cf45e8a8c3380dc0afdaff": {
      "model_module": "jupyter-js-widgets",
      "model_module_version": "~2.1.4",
      "model_name": "SliderStyleModel",
      "state": {
       "_model_module_version": "~2.1.4",
       "_view_module_version": "~2.1.4"
      }
     },
     "17cd171bb33f438a8e3b694d4b233b2f": {
      "model_module": "jupyter-js-widgets",
      "model_module_version": "~2.1.4",
      "model_name": "OutputModel",
      "state": {
       "_dom_classes": [],
       "_model_module": "jupyter-js-widgets",
       "_model_module_version": "~2.1.4",
       "_view_module": "jupyter-js-widgets",
       "_view_module_version": "~2.1.4",
       "layout": "IPY_MODEL_116301a3528f487b85f6a3600615e3d9",
       "msg_throttle": 1
      }
     },
     "18012348365749839077b100aa4f7ae5": {
      "model_module": "jupyter-js-widgets",
      "model_module_version": "~2.1.4",
      "model_name": "LayoutModel",
      "state": {
       "_model_module_version": "~2.1.4",
       "_view_module_version": "~2.1.4"
      }
     },
     "1806ea76f4684657a5966cec1074f036": {
      "model_module": "jupyter-js-widgets",
      "model_module_version": "~2.1.4",
      "model_name": "OutputModel",
      "state": {
       "_dom_classes": [],
       "_model_module": "jupyter-js-widgets",
       "_model_module_version": "~2.1.4",
       "_view_module": "jupyter-js-widgets",
       "_view_module_version": "~2.1.4",
       "layout": "IPY_MODEL_100c9ca2a0494d29972d4230b30c72f9",
       "msg_throttle": 1
      }
     },
     "18080ca326fe499c8a4d75c1e41a4005": {
      "model_module": "jupyter-js-widgets",
      "model_module_version": "~2.1.4",
      "model_name": "LayoutModel",
      "state": {
       "_model_module_version": "~2.1.4",
       "_view_module_version": "~2.1.4"
      }
     },
     "18425804431743188159ab32724ffa5d": {
      "model_module": "jupyter-js-widgets",
      "model_module_version": "~2.1.4",
      "model_name": "LayoutModel",
      "state": {
       "_model_module_version": "~2.1.4",
       "_view_module_version": "~2.1.4"
      }
     },
     "187fb0eb83f748149235012d02792a36": {
      "model_module": "jupyter-js-widgets",
      "model_module_version": "~2.1.4",
      "model_name": "LayoutModel",
      "state": {
       "_model_module_version": "~2.1.4",
       "_view_module_version": "~2.1.4"
      }
     },
     "18c31ba2f59c475da86578a1ea9d54f6": {
      "model_module": "jupyter-js-widgets",
      "model_module_version": "~2.1.4",
      "model_name": "SliderStyleModel",
      "state": {
       "_model_module_version": "~2.1.4",
       "_view_module_version": "~2.1.4"
      }
     },
     "18c784e29cea42fe8420f0290379a234": {
      "model_module": "jupyter-js-widgets",
      "model_module_version": "~2.1.4",
      "model_name": "IntSliderModel",
      "state": {
       "_model_module_version": "~2.1.4",
       "_view_module_version": "~2.1.4",
       "description": "T",
       "layout": "IPY_MODEL_862d38b1e40b4df4a89ace433740db7c",
       "max": 2000,
       "step": 10,
       "style": "IPY_MODEL_1b32af1f626941a3947a9bd854e34625",
       "value": 300
      }
     },
     "195777ad87e545eb854b082caf2899e5": {
      "model_module": "jupyter-js-widgets",
      "model_module_version": "~2.1.4",
      "model_name": "LayoutModel",
      "state": {
       "_model_module_version": "~2.1.4",
       "_view_module_version": "~2.1.4"
      }
     },
     "198e34658ac2485099045b702cfc4156": {
      "model_module": "jupyter-js-widgets",
      "model_module_version": "~2.1.4",
      "model_name": "LayoutModel",
      "state": {
       "_model_module_version": "~2.1.4",
       "_view_module_version": "~2.1.4"
      }
     },
     "1a1a5d2d5fbf498b9a152ad35a244d6f": {
      "model_module": "jupyter-js-widgets",
      "model_module_version": "~2.1.4",
      "model_name": "VBoxModel",
      "state": {
       "_dom_classes": [
        "widget-interact"
       ],
       "_model_module_version": "~2.1.4",
       "_view_module_version": "~2.1.4",
       "children": [
        "IPY_MODEL_757d2d9a36054bf29a1e01f7627e5012",
        "IPY_MODEL_8422077b25464dd3b0346f0bf9a496b0",
        "IPY_MODEL_030a7ed7e18d4df089ec8b537e456b7f",
        "IPY_MODEL_2c34de350f1e49a38eacbb2014c269ce",
        "IPY_MODEL_2a877a1be3ca421d91c2a45b2ba4c2de"
       ],
       "layout": "IPY_MODEL_3c2ae04be2a3482ab4f63c633d75b7ec"
      }
     },
     "1a48e5f4c2334153bd5928a7a1fa53fc": {
      "model_module": "jupyter-js-widgets",
      "model_module_version": "~2.1.4",
      "model_name": "LayoutModel",
      "state": {
       "_model_module_version": "~2.1.4",
       "_view_module_version": "~2.1.4"
      }
     },
     "1a518c7d199943708c95dd55d190abe6": {
      "model_module": "jupyter-js-widgets",
      "model_module_version": "~2.1.4",
      "model_name": "LayoutModel",
      "state": {
       "_model_module_version": "~2.1.4",
       "_view_module_version": "~2.1.4"
      }
     },
     "1a9125b68876481f99738fe318d8aa50": {
      "model_module": "jupyter-js-widgets",
      "model_module_version": "~2.1.4",
      "model_name": "VBoxModel",
      "state": {
       "_dom_classes": [
        "widget-interact"
       ],
       "_model_module_version": "~2.1.4",
       "_view_module_version": "~2.1.4",
       "children": [
        "IPY_MODEL_9be188abe62d4daca0a3762097a44c8f",
        "IPY_MODEL_991645df71d14ac1990c5c6a46f83e6d",
        "IPY_MODEL_f1995ae7a7794edb9d6fa04d80095b85",
        "IPY_MODEL_025b3110f1c440d38a81a55011bdc906",
        "IPY_MODEL_04474f93305b46df8b4a11c029f1b27f"
       ],
       "layout": "IPY_MODEL_e11ddfcfb8374ad3814601c358a6c07e"
      }
     },
     "1aa112d20b83478993c1be43c227372c": {
      "model_module": "jupyter-js-widgets",
      "model_module_version": "~2.1.4",
      "model_name": "LayoutModel",
      "state": {
       "_model_module_version": "~2.1.4",
       "_view_module_version": "~2.1.4"
      }
     },
     "1b32af1f626941a3947a9bd854e34625": {
      "model_module": "jupyter-js-widgets",
      "model_module_version": "~2.1.4",
      "model_name": "SliderStyleModel",
      "state": {
       "_model_module_version": "~2.1.4",
       "_view_module_version": "~2.1.4"
      }
     },
     "1ba72df48fb44282881f7a0c9477698c": {
      "model_module": "jupyter-js-widgets",
      "model_module_version": "~2.1.4",
      "model_name": "LayoutModel",
      "state": {
       "_model_module_version": "~2.1.4",
       "_view_module_version": "~2.1.4"
      }
     },
     "1baff84130614eb3bdbdf79ff1dcdfe9": {
      "model_module": "jupyter-js-widgets",
      "model_module_version": "~2.1.4",
      "model_name": "IntSliderModel",
      "state": {
       "_model_module_version": "~2.1.4",
       "_view_module_version": "~2.1.4",
       "description": "ub",
       "layout": "IPY_MODEL_0e11291f64c84d9f959977c54bb5ba8a",
       "max": 0,
       "min": -10000,
       "step": 100,
       "style": "IPY_MODEL_1169bdc108404df7b484b6f444174ce3",
       "value": -1000
      }
     },
     "1cd5f5d9f8d646fc95d24ede0782ac26": {
      "model_module": "jupyter-js-widgets",
      "model_module_version": "~2.1.4",
      "model_name": "LayoutModel",
      "state": {
       "_model_module_version": "~2.1.4",
       "_view_module_version": "~2.1.4"
      }
     },
     "1dcd787a9dff485f89646867276b8411": {
      "model_module": "jupyter-js-widgets",
      "model_module_version": "~2.1.4",
      "model_name": "LayoutModel",
      "state": {
       "_model_module_version": "~2.1.4",
       "_view_module_version": "~2.1.4"
      }
     },
     "1e21255aadff420386a3caf939bdba31": {
      "model_module": "jupyter-js-widgets",
      "model_module_version": "~2.1.4",
      "model_name": "IntSliderModel",
      "state": {
       "_model_module_version": "~2.1.4",
       "_view_module_version": "~2.1.4",
       "description": "T",
       "layout": "IPY_MODEL_dd1994916bac4d30b81e6e4700793bc5",
       "max": 2000,
       "step": 10,
       "style": "IPY_MODEL_51759cf64b3247eea53b8a3a404ee1e8",
       "value": 300
      }
     },
     "1e7355da48b74e96be815bac43829c3a": {
      "model_module": "jupyter-js-widgets",
      "model_module_version": "~2.1.4",
      "model_name": "SliderStyleModel",
      "state": {
       "_model_module_version": "~2.1.4",
       "_view_module_version": "~2.1.4"
      }
     },
     "2010161574fb4d6e9f7fac9c23aba364": {
      "model_module": "jupyter-js-widgets",
      "model_module_version": "~2.1.4",
      "model_name": "LayoutModel",
      "state": {
       "_model_module_version": "~2.1.4",
       "_view_module_version": "~2.1.4"
      }
     },
     "204967aded2b43da9810ebfd1fe54bcc": {
      "model_module": "jupyter-js-widgets",
      "model_module_version": "~2.1.4",
      "model_name": "IntSliderModel",
      "state": {
       "_model_module_version": "~2.1.4",
       "_view_module_version": "~2.1.4",
       "description": "T",
       "layout": "IPY_MODEL_bff639eb5d00460a97aea4afc33d49e9",
       "max": 2000,
       "step": 10,
       "style": "IPY_MODEL_8477bb1b2e6740ab92ef328a36e49b02",
       "value": 300
      }
     },
     "20e657ffa6ee43fba9e07ab44001a4b6": {
      "model_module": "jupyter-js-widgets",
      "model_module_version": "~2.1.4",
      "model_name": "LayoutModel",
      "state": {
       "_model_module_version": "~2.1.4",
       "_view_module_version": "~2.1.4"
      }
     },
     "21240ce896504bcba61627f65a6dd7cc": {
      "model_module": "jupyter-js-widgets",
      "model_module_version": "~2.1.4",
      "model_name": "LayoutModel",
      "state": {
       "_model_module_version": "~2.1.4",
       "_view_module_version": "~2.1.4"
      }
     },
     "21f460fa23b6498cafdd8aa761aa480f": {
      "model_module": "jupyter-js-widgets",
      "model_module_version": "~2.1.4",
      "model_name": "LayoutModel",
      "state": {
       "_model_module_version": "~2.1.4",
       "_view_module_version": "~2.1.4"
      }
     },
     "2210f1694bfd45fd866765de8a6cb3a8": {
      "model_module": "jupyter-js-widgets",
      "model_module_version": "~2.1.4",
      "model_name": "SliderStyleModel",
      "state": {
       "_model_module_version": "~2.1.4",
       "_view_module_version": "~2.1.4"
      }
     },
     "2231467240f94f288d7488bd65a64cbb": {
      "model_module": "jupyter-js-widgets",
      "model_module_version": "~2.1.4",
      "model_name": "SliderStyleModel",
      "state": {
       "_model_module_version": "~2.1.4",
       "_view_module_version": "~2.1.4"
      }
     },
     "22975c89b54143d3a2b17366e53d3b1f": {
      "model_module": "jupyter-js-widgets",
      "model_module_version": "~2.1.4",
      "model_name": "LayoutModel",
      "state": {
       "_model_module_version": "~2.1.4",
       "_view_module_version": "~2.1.4"
      }
     },
     "231f2d9f82fb446c8f5ce395644ef4b6": {
      "model_module": "jupyter-js-widgets",
      "model_module_version": "~2.1.4",
      "model_name": "IntSliderModel",
      "state": {
       "_model_module_version": "~2.1.4",
       "_view_module_version": "~2.1.4",
       "description": "Hmix",
       "layout": "IPY_MODEL_4bdb32cd2533405583ccd5dfeb9db69f",
       "max": 20000,
       "min": -10000,
       "step": 200,
       "style": "IPY_MODEL_0b9a1655a866414280aef748df7474ed",
       "value": 16200
      }
     },
     "244af5f97eb04b6f8e661c16d35efde9": {
      "model_module": "jupyter-js-widgets",
      "model_module_version": "~2.1.4",
      "model_name": "SliderStyleModel",
      "state": {
       "_model_module_version": "~2.1.4",
       "_view_module_version": "~2.1.4"
      }
     },
     "253d9b28278b47fdb2bdab2db066e8e4": {
      "model_module": "jupyter-js-widgets",
      "model_module_version": "~2.1.4",
      "model_name": "VBoxModel",
      "state": {
       "_dom_classes": [
        "widget-interact"
       ],
       "_model_module_version": "~2.1.4",
       "_view_module_version": "~2.1.4",
       "children": [
        "IPY_MODEL_53bf6b3d07334e11aa1c88b73de40f11",
        "IPY_MODEL_b168b3793b42482482300f11b1f8bd62",
        "IPY_MODEL_80ca2d3392de4d1cad5ebc2ef629c037",
        "IPY_MODEL_003417b755ce4a84bbf1638fe864d658",
        "IPY_MODEL_a7042aea327a4dea868cdccd389e5f48"
       ],
       "layout": "IPY_MODEL_ac6d1e6bfb5d4899b525247bf431330a"
      }
     },
     "25a479be6fb942c9b80e66772727c369": {
      "model_module": "jupyter-js-widgets",
      "model_module_version": "~2.1.4",
      "model_name": "LayoutModel",
      "state": {
       "_model_module_version": "~2.1.4",
       "_view_module_version": "~2.1.4"
      }
     },
     "25c007648f7044e9bbc81db17c3edba3": {
      "model_module": "jupyter-js-widgets",
      "model_module_version": "~2.1.4",
      "model_name": "SliderStyleModel",
      "state": {
       "_model_module_version": "~2.1.4",
       "_view_module_version": "~2.1.4"
      }
     },
     "27270fd27a6049e79c01e0aabf6b9d44": {
      "model_module": "jupyter-js-widgets",
      "model_module_version": "~2.1.4",
      "model_name": "IntSliderModel",
      "state": {
       "_model_module_version": "~2.1.4",
       "_view_module_version": "~2.1.4",
       "description": "ua",
       "layout": "IPY_MODEL_ba1fd36066044e86af85d0eb5fa53b3b",
       "max": 0,
       "min": -10000,
       "step": 100,
       "style": "IPY_MODEL_542b8bc14eea49f6af66244b5e7f9116",
       "value": -2000
      }
     },
     "272a686647f1452588548626554c040a": {
      "model_module": "jupyter-js-widgets",
      "model_module_version": "~2.1.4",
      "model_name": "IntSliderModel",
      "state": {
       "_model_module_version": "~2.1.4",
       "_view_module_version": "~2.1.4",
       "description": "ub",
       "layout": "IPY_MODEL_9e74103d719a451ead23b11624cce5ab",
       "max": 0,
       "min": -10000,
       "step": 100,
       "style": "IPY_MODEL_3fecbcc4aada4116a096fd2559094d7a",
       "value": -1000
      }
     },
     "282d594e829d46768e2221082e282620": {
      "model_module": "jupyter-js-widgets",
      "model_module_version": "~2.1.4",
      "model_name": "VBoxModel",
      "state": {
       "_dom_classes": [
        "widget-interact"
       ],
       "_model_module_version": "~2.1.4",
       "_view_module_version": "~2.1.4",
       "children": [
        "IPY_MODEL_ee3bd0fc38f54283bb4f4e06f46bc679",
        "IPY_MODEL_848ab071d2fa4e00bfe222c4ad6da2ef",
        "IPY_MODEL_7230d84447b44a1ebb2a19c4559fcdc3",
        "IPY_MODEL_1baff84130614eb3bdbdf79ff1dcdfe9",
        "IPY_MODEL_448be9e0c32a49d8b5100cc7c6c800dc"
       ],
       "layout": "IPY_MODEL_c050eba33e3c4b10a38bc91cdd6d82ee"
      }
     },
     "2a07c01098fb477b9d7fa7af80368628": {
      "model_module": "jupyter-js-widgets",
      "model_module_version": "~2.1.4",
      "model_name": "SliderStyleModel",
      "state": {
       "_model_module_version": "~2.1.4",
       "_view_module_version": "~2.1.4"
      }
     },
     "2a1346806d0a4dc89d945b76539f590f": {
      "model_module": "jupyter-js-widgets",
      "model_module_version": "~2.1.4",
      "model_name": "LayoutModel",
      "state": {
       "_model_module_version": "~2.1.4",
       "_view_module_version": "~2.1.4"
      }
     },
     "2a877a1be3ca421d91c2a45b2ba4c2de": {
      "model_module": "jupyter-js-widgets",
      "model_module_version": "~2.1.4",
      "model_name": "OutputModel",
      "state": {
       "_dom_classes": [],
       "_model_module": "jupyter-js-widgets",
       "_model_module_version": "~2.1.4",
       "_view_module": "jupyter-js-widgets",
       "_view_module_version": "~2.1.4",
       "layout": "IPY_MODEL_1cd5f5d9f8d646fc95d24ede0782ac26",
       "msg_throttle": 1
      }
     },
     "2bbc081e4b3742afa94bc58bed02bfec": {
      "model_module": "jupyter-js-widgets",
      "model_module_version": "~2.1.4",
      "model_name": "IntSliderModel",
      "state": {
       "_model_module_version": "~2.1.4",
       "_view_module_version": "~2.1.4",
       "description": "Hmix",
       "layout": "IPY_MODEL_e58367a3f9984df2a7a062bbf46060d8",
       "max": 20000,
       "min": -10000,
       "step": 200,
       "style": "IPY_MODEL_92bbfaf6ac134ee49df00ff8566443de",
       "value": 11600
      }
     },
     "2c21fcbe7044416b83001ed4c54a5644": {
      "model_module": "jupyter-js-widgets",
      "model_module_version": "~2.1.4",
      "model_name": "SliderStyleModel",
      "state": {
       "_model_module_version": "~2.1.4",
       "_view_module_version": "~2.1.4"
      }
     },
     "2c34de350f1e49a38eacbb2014c269ce": {
      "model_module": "jupyter-js-widgets",
      "model_module_version": "~2.1.4",
      "model_name": "IntSliderModel",
      "state": {
       "_model_module_version": "~2.1.4",
       "_view_module_version": "~2.1.4",
       "description": "ub",
       "layout": "IPY_MODEL_6dc713d2cbbe4e6caaadfdaae6341a92",
       "max": 0,
       "min": -10000,
       "step": 100,
       "style": "IPY_MODEL_07294839a93046ac9711d4b02983b13b",
       "value": -1000
      }
     },
     "2c4c9c1437164ebebed35d4b9839d36c": {
      "model_module": "jupyter-js-widgets",
      "model_module_version": "~2.1.4",
      "model_name": "OutputModel",
      "state": {
       "_dom_classes": [],
       "_model_module": "jupyter-js-widgets",
       "_model_module_version": "~2.1.4",
       "_view_module": "jupyter-js-widgets",
       "_view_module_version": "~2.1.4",
       "layout": "IPY_MODEL_4d5129d1efcb4eaebd99d664b2d4534b",
       "msg_throttle": 1
      }
     },
     "2de10f12d4984f6788966045e36958c5": {
      "model_module": "jupyter-js-widgets",
      "model_module_version": "~2.1.4",
      "model_name": "IntSliderModel",
      "state": {
       "_model_module_version": "~2.1.4",
       "_view_module_version": "~2.1.4",
       "description": "ua",
       "layout": "IPY_MODEL_21f460fa23b6498cafdd8aa761aa480f",
       "max": 0,
       "min": -10000,
       "step": 100,
       "style": "IPY_MODEL_89e8b017558e425399446cdc77159d3a",
       "value": -2000
      }
     },
     "2ebd22c84e034c89b7613f7414e2122b": {
      "model_module": "jupyter-js-widgets",
      "model_module_version": "~2.1.4",
      "model_name": "LayoutModel",
      "state": {
       "_model_module_version": "~2.1.4",
       "_view_module_version": "~2.1.4"
      }
     },
     "30080d4fed9f4dada97fb21a61656691": {
      "model_module": "jupyter-js-widgets",
      "model_module_version": "~2.1.4",
      "model_name": "LayoutModel",
      "state": {
       "_model_module_version": "~2.1.4",
       "_view_module_version": "~2.1.4"
      }
     },
     "3020e2ef29bc4ed6ab022720cccfded8": {
      "model_module": "jupyter-js-widgets",
      "model_module_version": "~2.1.4",
      "model_name": "SliderStyleModel",
      "state": {
       "_model_module_version": "~2.1.4",
       "_view_module_version": "~2.1.4"
      }
     },
     "304f7dc88d1946ec8d767b331488b598": {
      "model_module": "jupyter-js-widgets",
      "model_module_version": "~2.1.4",
      "model_name": "LayoutModel",
      "state": {
       "_model_module_version": "~2.1.4",
       "_view_module_version": "~2.1.4"
      }
     },
     "3065b96215f5444fa258450a1eea9f42": {
      "model_module": "jupyter-js-widgets",
      "model_module_version": "~2.1.4",
      "model_name": "SliderStyleModel",
      "state": {
       "_model_module_version": "~2.1.4",
       "_view_module_version": "~2.1.4"
      }
     },
     "319d2d7ae8754ae687972f16a8b8e35b": {
      "model_module": "jupyter-js-widgets",
      "model_module_version": "~2.1.4",
      "model_name": "SliderStyleModel",
      "state": {
       "_model_module_version": "~2.1.4",
       "_view_module_version": "~2.1.4"
      }
     },
     "319fed832264479ea12b0508fc5cca2c": {
      "model_module": "jupyter-js-widgets",
      "model_module_version": "~2.1.4",
      "model_name": "VBoxModel",
      "state": {
       "_dom_classes": [
        "widget-interact"
       ],
       "_model_module_version": "~2.1.4",
       "_view_module_version": "~2.1.4",
       "children": [
        "IPY_MODEL_d9d18c3384864772ab49a326148ed20d",
        "IPY_MODEL_ac03d0d9e5fe456baa66287bc02b6d11",
        "IPY_MODEL_c14442d06f0c46bb8721292eaa5136de",
        "IPY_MODEL_c67b6d924ea6430db9a84008b37a8824",
        "IPY_MODEL_45341abaea164cca8170a2e3dffd25b2"
       ],
       "layout": "IPY_MODEL_7ac6d41dcd7440eab9f52de6aeb91891"
      }
     },
     "31bb533644154adf9a3304ce1a60dae5": {
      "model_module": "jupyter-js-widgets",
      "model_module_version": "~2.1.4",
      "model_name": "IntSliderModel",
      "state": {
       "_model_module_version": "~2.1.4",
       "_view_module_version": "~2.1.4",
       "description": "Hmix",
       "layout": "IPY_MODEL_18080ca326fe499c8a4d75c1e41a4005",
       "max": 20000,
       "min": -10000,
       "step": 200,
       "style": "IPY_MODEL_d5e96f09f4394e5480b04a5713b60baa",
       "value": 6400
      }
     },
     "31d9c9c7b1694d2db97063a51e726492": {
      "model_module": "jupyter-js-widgets",
      "model_module_version": "~2.1.4",
      "model_name": "LayoutModel",
      "state": {
       "_model_module_version": "~2.1.4",
       "_view_module_version": "~2.1.4"
      }
     },
     "32126f0a3bc74f63b375ec68f55e2d6c": {
      "model_module": "jupyter-js-widgets",
      "model_module_version": "~2.1.4",
      "model_name": "IntSliderModel",
      "state": {
       "_model_module_version": "~2.1.4",
       "_view_module_version": "~2.1.4",
       "description": "ua",
       "layout": "IPY_MODEL_ea4908dc91ad4b9180635dbab20952f9",
       "max": 0,
       "min": -10000,
       "step": 100,
       "style": "IPY_MODEL_25c007648f7044e9bbc81db17c3edba3",
       "value": -2000
      }
     },
     "326b44ccabef4df7844ab4796a7832c1": {
      "model_module": "jupyter-js-widgets",
      "model_module_version": "~2.1.4",
      "model_name": "IntSliderModel",
      "state": {
       "_model_module_version": "~2.1.4",
       "_view_module_version": "~2.1.4",
       "description": "ub",
       "layout": "IPY_MODEL_ea5bb2f386344a2782343ed8bd02f8a5",
       "max": 0,
       "min": -10000,
       "step": 100,
       "style": "IPY_MODEL_36bd1ddfdd8c4e2c8d5a0daf449bfe2b",
       "value": -1000
      }
     },
     "36bd1ddfdd8c4e2c8d5a0daf449bfe2b": {
      "model_module": "jupyter-js-widgets",
      "model_module_version": "~2.1.4",
      "model_name": "SliderStyleModel",
      "state": {
       "_model_module_version": "~2.1.4",
       "_view_module_version": "~2.1.4"
      }
     },
     "36f2acbb6df04fd7a20051d0ed68dafd": {
      "model_module": "jupyter-js-widgets",
      "model_module_version": "~2.1.4",
      "model_name": "IntSliderModel",
      "state": {
       "_model_module_version": "~2.1.4",
       "_view_module_version": "~2.1.4",
       "description": "ua",
       "layout": "IPY_MODEL_e2eee51e158a43c4b55efe355d1d4ce3",
       "max": 0,
       "min": -10000,
       "step": 100,
       "style": "IPY_MODEL_e324d9b4b91f4b3ab37a51859c53f2fd",
       "value": -2000
      }
     },
     "372a71e2cfe744a39523c7f1fab1ce09": {
      "model_module": "jupyter-js-widgets",
      "model_module_version": "~2.1.4",
      "model_name": "SliderStyleModel",
      "state": {
       "_model_module_version": "~2.1.4",
       "_view_module_version": "~2.1.4"
      }
     },
     "378a1622c7be41fb9343802b26be9ed7": {
      "model_module": "jupyter-js-widgets",
      "model_module_version": "~2.1.4",
      "model_name": "OutputModel",
      "state": {
       "_dom_classes": [],
       "_model_module": "jupyter-js-widgets",
       "_model_module_version": "~2.1.4",
       "_view_module": "jupyter-js-widgets",
       "_view_module_version": "~2.1.4",
       "layout": "IPY_MODEL_013b036c76c748c2bc9a504fe5d9a5e2",
       "msg_throttle": 1
      }
     },
     "39c2aab3187f47019c4a340482c754e6": {
      "model_module": "jupyter-js-widgets",
      "model_module_version": "~2.1.4",
      "model_name": "IntSliderModel",
      "state": {
       "_model_module_version": "~2.1.4",
       "_view_module_version": "~2.1.4",
       "description": "T",
       "layout": "IPY_MODEL_1a48e5f4c2334153bd5928a7a1fa53fc",
       "max": 2000,
       "step": 10,
       "style": "IPY_MODEL_068f08b1f819473e9d2bd3a2a681b3a6",
       "value": 300
      }
     },
     "3b093c99955b4b4a8c38f03b089a4e1e": {
      "model_module": "jupyter-js-widgets",
      "model_module_version": "~2.1.4",
      "model_name": "SliderStyleModel",
      "state": {
       "_model_module_version": "~2.1.4",
       "_view_module_version": "~2.1.4"
      }
     },
     "3b9397029d5f449fb065178af80f9723": {
      "model_module": "jupyter-js-widgets",
      "model_module_version": "~2.1.4",
      "model_name": "LayoutModel",
      "state": {
       "_model_module_version": "~2.1.4",
       "_view_module_version": "~2.1.4"
      }
     },
     "3c2ae04be2a3482ab4f63c633d75b7ec": {
      "model_module": "jupyter-js-widgets",
      "model_module_version": "~2.1.4",
      "model_name": "LayoutModel",
      "state": {
       "_model_module_version": "~2.1.4",
       "_view_module_version": "~2.1.4"
      }
     },
     "3c8945b1e19b49bf86167758d9daa817": {
      "model_module": "jupyter-js-widgets",
      "model_module_version": "~2.1.4",
      "model_name": "SliderStyleModel",
      "state": {
       "_model_module_version": "~2.1.4",
       "_view_module_version": "~2.1.4"
      }
     },
     "3cd428617e1946d9bf4226205a1965f7": {
      "model_module": "jupyter-js-widgets",
      "model_module_version": "~2.1.4",
      "model_name": "SliderStyleModel",
      "state": {
       "_model_module_version": "~2.1.4",
       "_view_module_version": "~2.1.4"
      }
     },
     "3d02b16e7be448e998beb9371a23eb70": {
      "model_module": "jupyter-js-widgets",
      "model_module_version": "~2.1.4",
      "model_name": "IntSliderModel",
      "state": {
       "_model_module_version": "~2.1.4",
       "_view_module_version": "~2.1.4",
       "description": "ua",
       "layout": "IPY_MODEL_6b73ec07f72046f6a30f8a7b2f80576c",
       "max": 0,
       "min": -10000,
       "step": 100,
       "style": "IPY_MODEL_9bb874d0f40e453f9dcdd1eec3ac40b5",
       "value": -2000
      }
     },
     "3f0079995cb44511a5d66ebbece98c74": {
      "model_module": "jupyter-js-widgets",
      "model_module_version": "~2.1.4",
      "model_name": "SliderStyleModel",
      "state": {
       "_model_module_version": "~2.1.4",
       "_view_module_version": "~2.1.4"
      }
     },
     "3f0a2bf02aca4be69f0136ad3e1c857d": {
      "model_module": "jupyter-js-widgets",
      "model_module_version": "~2.1.4",
      "model_name": "LayoutModel",
      "state": {
       "_model_module_version": "~2.1.4",
       "_view_module_version": "~2.1.4"
      }
     },
     "3f27910ac1064a6aa9747bef8e88992a": {
      "model_module": "jupyter-js-widgets",
      "model_module_version": "~2.1.4",
      "model_name": "SliderStyleModel",
      "state": {
       "_model_module_version": "~2.1.4",
       "_view_module_version": "~2.1.4"
      }
     },
     "3f431ca780c44213afdc337701e5f55a": {
      "model_module": "jupyter-js-widgets",
      "model_module_version": "~2.1.4",
      "model_name": "LayoutModel",
      "state": {
       "_model_module_version": "~2.1.4",
       "_view_module_version": "~2.1.4"
      }
     },
     "3fecbcc4aada4116a096fd2559094d7a": {
      "model_module": "jupyter-js-widgets",
      "model_module_version": "~2.1.4",
      "model_name": "SliderStyleModel",
      "state": {
       "_model_module_version": "~2.1.4",
       "_view_module_version": "~2.1.4"
      }
     },
     "40f8f8004fc24da9bacaa6da17d02cec": {
      "model_module": "jupyter-js-widgets",
      "model_module_version": "~2.1.4",
      "model_name": "LayoutModel",
      "state": {
       "_model_module_version": "~2.1.4",
       "_view_module_version": "~2.1.4"
      }
     },
     "41079f24068742ae883bc8a01f148128": {
      "model_module": "jupyter-js-widgets",
      "model_module_version": "~2.1.4",
      "model_name": "LayoutModel",
      "state": {
       "_model_module_version": "~2.1.4",
       "_view_module_version": "~2.1.4"
      }
     },
     "420e69db833d48f897ca237f59a80e44": {
      "model_module": "jupyter-js-widgets",
      "model_module_version": "~2.1.4",
      "model_name": "VBoxModel",
      "state": {
       "_dom_classes": [
        "widget-interact"
       ],
       "_model_module_version": "~2.1.4",
       "_view_module_version": "~2.1.4",
       "children": [
        "IPY_MODEL_c585c49c60ca462fac811ee789c88c99",
        "IPY_MODEL_16c0efdf73224a56980562a4f704713f",
        "IPY_MODEL_5113d5e2cd61482eb744e4edf8d5da5f",
        "IPY_MODEL_e1924c61118a41b9b9430767f6fff89c",
        "IPY_MODEL_5ada496b166c4129b59346039f0505b7"
       ],
       "layout": "IPY_MODEL_86ac3c7c228a4178ba3dcf768ffad12d"
      }
     },
     "448be9e0c32a49d8b5100cc7c6c800dc": {
      "model_module": "jupyter-js-widgets",
      "model_module_version": "~2.1.4",
      "model_name": "OutputModel",
      "state": {
       "_dom_classes": [],
       "_model_module": "jupyter-js-widgets",
       "_model_module_version": "~2.1.4",
       "_view_module": "jupyter-js-widgets",
       "_view_module_version": "~2.1.4",
       "layout": "IPY_MODEL_5854b0d05fd84bdbb33809abae16d182",
       "msg_throttle": 1
      }
     },
     "44ef87fac1b6413f88e276fd403b3616": {
      "model_module": "jupyter-js-widgets",
      "model_module_version": "~2.1.4",
      "model_name": "SliderStyleModel",
      "state": {
       "_model_module_version": "~2.1.4",
       "_view_module_version": "~2.1.4"
      }
     },
     "45341abaea164cca8170a2e3dffd25b2": {
      "model_module": "jupyter-js-widgets",
      "model_module_version": "~2.1.4",
      "model_name": "OutputModel",
      "state": {
       "_dom_classes": [],
       "_model_module": "jupyter-js-widgets",
       "_model_module_version": "~2.1.4",
       "_view_module": "jupyter-js-widgets",
       "_view_module_version": "~2.1.4",
       "layout": "IPY_MODEL_c2593134e7ba4c13ad8cbe52bc59349c",
       "msg_throttle": 1
      }
     },
     "47a1def86e404c6e8431b494aa0f5180": {
      "model_module": "jupyter-js-widgets",
      "model_module_version": "~2.1.4",
      "model_name": "SliderStyleModel",
      "state": {
       "_model_module_version": "~2.1.4",
       "_view_module_version": "~2.1.4"
      }
     },
     "48b35b7d303744e688cbc68f2240f072": {
      "model_module": "jupyter-js-widgets",
      "model_module_version": "~2.1.4",
      "model_name": "LayoutModel",
      "state": {
       "_model_module_version": "~2.1.4",
       "_view_module_version": "~2.1.4"
      }
     },
     "49aac4406bce4156a5956b271c9e2e01": {
      "model_module": "jupyter-js-widgets",
      "model_module_version": "~2.1.4",
      "model_name": "SliderStyleModel",
      "state": {
       "_model_module_version": "~2.1.4",
       "_view_module_version": "~2.1.4"
      }
     },
     "49adc82008cb4eca966957b9e4990128": {
      "model_module": "jupyter-js-widgets",
      "model_module_version": "~2.1.4",
      "model_name": "LayoutModel",
      "state": {
       "_model_module_version": "~2.1.4",
       "_view_module_version": "~2.1.4"
      }
     },
     "4b314551b3c74b699cfa1547234f2c93": {
      "model_module": "jupyter-js-widgets",
      "model_module_version": "~2.1.4",
      "model_name": "IntSliderModel",
      "state": {
       "_model_module_version": "~2.1.4",
       "_view_module_version": "~2.1.4",
       "description": "T",
       "layout": "IPY_MODEL_1ba72df48fb44282881f7a0c9477698c",
       "max": 2000,
       "step": 10,
       "style": "IPY_MODEL_6eb91e21d44e4beaa041cc43ef473ce7",
       "value": 300
      }
     },
     "4b6baa4ec7e14a51ba5ec9cdbe75eced": {
      "model_module": "jupyter-js-widgets",
      "model_module_version": "~2.1.4",
      "model_name": "IntSliderModel",
      "state": {
       "_model_module_version": "~2.1.4",
       "_view_module_version": "~2.1.4",
       "description": "Hmix",
       "layout": "IPY_MODEL_579e394bf2e2450f8e50e89698243f5a",
       "max": 20000,
       "min": -10000,
       "step": 200,
       "style": "IPY_MODEL_ff3fa1f9e81943cbbc5afda02f29ee11",
       "value": -2600
      }
     },
     "4bdb32cd2533405583ccd5dfeb9db69f": {
      "model_module": "jupyter-js-widgets",
      "model_module_version": "~2.1.4",
      "model_name": "LayoutModel",
      "state": {
       "_model_module_version": "~2.1.4",
       "_view_module_version": "~2.1.4"
      }
     },
     "4cdff3b7c8584cf6a2379f44b317b4ff": {
      "model_module": "jupyter-js-widgets",
      "model_module_version": "~2.1.4",
      "model_name": "SliderStyleModel",
      "state": {
       "_model_module_version": "~2.1.4",
       "_view_module_version": "~2.1.4"
      }
     },
     "4d5129d1efcb4eaebd99d664b2d4534b": {
      "model_module": "jupyter-js-widgets",
      "model_module_version": "~2.1.4",
      "model_name": "LayoutModel",
      "state": {
       "_model_module_version": "~2.1.4",
       "_view_module_version": "~2.1.4"
      }
     },
     "4e9d079d9f824553ae9871d39b2c3e8c": {
      "model_module": "jupyter-js-widgets",
      "model_module_version": "~2.1.4",
      "model_name": "IntSliderModel",
      "state": {
       "_model_module_version": "~2.1.4",
       "_view_module_version": "~2.1.4",
       "description": "Hmix",
       "layout": "IPY_MODEL_d10f8711d9d544508408a397f70caddf",
       "max": 20000,
       "min": -10000,
       "step": 200,
       "style": "IPY_MODEL_319d2d7ae8754ae687972f16a8b8e35b"
      }
     },
     "4ed20837cd014c89911dceae78e40ba7": {
      "model_module": "jupyter-js-widgets",
      "model_module_version": "~2.1.4",
      "model_name": "SliderStyleModel",
      "state": {
       "_model_module_version": "~2.1.4",
       "_view_module_version": "~2.1.4"
      }
     },
     "4f58ce1865984fc9a6c491dfabe9f8d9": {
      "model_module": "jupyter-js-widgets",
      "model_module_version": "~2.1.4",
      "model_name": "VBoxModel",
      "state": {
       "_dom_classes": [
        "widget-interact"
       ],
       "_model_module_version": "~2.1.4",
       "_view_module_version": "~2.1.4",
       "children": [
        "IPY_MODEL_ff622d86312c45abbc9d5a12ef4e8ed1",
        "IPY_MODEL_0dc9fac388de48129bce66569c82d6c2",
        "IPY_MODEL_e3dd09dc5a464c5194a7fcbe82b94377",
        "IPY_MODEL_ad3534713d544280b0c4db73a6893c72",
        "IPY_MODEL_17cd171bb33f438a8e3b694d4b233b2f"
       ],
       "layout": "IPY_MODEL_3b9397029d5f449fb065178af80f9723"
      }
     },
     "4fc71d22a295421bbf260dbb76d041d8": {
      "model_module": "jupyter-js-widgets",
      "model_module_version": "~2.1.4",
      "model_name": "SliderStyleModel",
      "state": {
       "_model_module_version": "~2.1.4",
       "_view_module_version": "~2.1.4"
      }
     },
     "50e55a5ce27045938456ba4fa716a19f": {
      "model_module": "jupyter-js-widgets",
      "model_module_version": "~2.1.4",
      "model_name": "SliderStyleModel",
      "state": {
       "_model_module_version": "~2.1.4",
       "_view_module_version": "~2.1.4"
      }
     },
     "5113d5e2cd61482eb744e4edf8d5da5f": {
      "model_module": "jupyter-js-widgets",
      "model_module_version": "~2.1.4",
      "model_name": "IntSliderModel",
      "state": {
       "_model_module_version": "~2.1.4",
       "_view_module_version": "~2.1.4",
       "description": "ua",
       "layout": "IPY_MODEL_e9ea3588f6b6455da018b4ca70329b17",
       "max": 0,
       "min": -10000,
       "step": 100,
       "style": "IPY_MODEL_9c28431c31a64ababf70cfa999da0d39",
       "value": -2000
      }
     },
     "51759cf64b3247eea53b8a3a404ee1e8": {
      "model_module": "jupyter-js-widgets",
      "model_module_version": "~2.1.4",
      "model_name": "SliderStyleModel",
      "state": {
       "_model_module_version": "~2.1.4",
       "_view_module_version": "~2.1.4"
      }
     },
     "5394a751370a441499758d73e472514c": {
      "model_module": "jupyter-js-widgets",
      "model_module_version": "~2.1.4",
      "model_name": "SliderStyleModel",
      "state": {
       "_model_module_version": "~2.1.4",
       "_view_module_version": "~2.1.4"
      }
     },
     "539f1eaf4b6e4851bc5e25984c8cae21": {
      "model_module": "jupyter-js-widgets",
      "model_module_version": "~2.1.4",
      "model_name": "OutputModel",
      "state": {
       "_dom_classes": [],
       "_model_module": "jupyter-js-widgets",
       "_model_module_version": "~2.1.4",
       "_view_module": "jupyter-js-widgets",
       "_view_module_version": "~2.1.4",
       "layout": "IPY_MODEL_0645d2b6ac2c4d84adef27400216fddd",
       "msg_throttle": 1
      }
     },
     "53bf6b3d07334e11aa1c88b73de40f11": {
      "model_module": "jupyter-js-widgets",
      "model_module_version": "~2.1.4",
      "model_name": "IntSliderModel",
      "state": {
       "_model_module_version": "~2.1.4",
       "_view_module_version": "~2.1.4",
       "description": "T",
       "layout": "IPY_MODEL_070ef08ab501457b8e3b71ef8af03dc4",
       "max": 2000,
       "step": 10,
       "style": "IPY_MODEL_3f0079995cb44511a5d66ebbece98c74",
       "value": 300
      }
     },
     "540a0876847a4a5c9900fc891669e35d": {
      "model_module": "jupyter-js-widgets",
      "model_module_version": "~2.1.4",
      "model_name": "SliderStyleModel",
      "state": {
       "_model_module_version": "~2.1.4",
       "_view_module_version": "~2.1.4"
      }
     },
     "542b8bc14eea49f6af66244b5e7f9116": {
      "model_module": "jupyter-js-widgets",
      "model_module_version": "~2.1.4",
      "model_name": "SliderStyleModel",
      "state": {
       "_model_module_version": "~2.1.4",
       "_view_module_version": "~2.1.4"
      }
     },
     "56b6a442f2b249469afe90a541924db1": {
      "model_module": "jupyter-js-widgets",
      "model_module_version": "~2.1.4",
      "model_name": "OutputModel",
      "state": {
       "_dom_classes": [],
       "_model_module": "jupyter-js-widgets",
       "_model_module_version": "~2.1.4",
       "_view_module": "jupyter-js-widgets",
       "_view_module_version": "~2.1.4",
       "layout": "IPY_MODEL_f03e4d98a70a48939707127396c2ce8d",
       "msg_throttle": 1
      }
     },
     "57061f433fd047459d27ef4ca33790b1": {
      "model_module": "jupyter-js-widgets",
      "model_module_version": "~2.1.4",
      "model_name": "LayoutModel",
      "state": {
       "_model_module_version": "~2.1.4",
       "_view_module_version": "~2.1.4"
      }
     },
     "576199b44f784cfd82876141c9e01317": {
      "model_module": "jupyter-js-widgets",
      "model_module_version": "~2.1.4",
      "model_name": "LayoutModel",
      "state": {
       "_model_module_version": "~2.1.4",
       "_view_module_version": "~2.1.4"
      }
     },
     "57838a3e956b4067922bc911525c5d9e": {
      "model_module": "jupyter-js-widgets",
      "model_module_version": "~2.1.4",
      "model_name": "IntSliderModel",
      "state": {
       "_model_module_version": "~2.1.4",
       "_view_module_version": "~2.1.4",
       "description": "T",
       "layout": "IPY_MODEL_ea1b7141d2d34a4e95743655afd11c4f",
       "max": 2000,
       "step": 10,
       "style": "IPY_MODEL_f5300e746f244aa7be4c2c55bc162fa2",
       "value": 300
      }
     },
     "579e394bf2e2450f8e50e89698243f5a": {
      "model_module": "jupyter-js-widgets",
      "model_module_version": "~2.1.4",
      "model_name": "LayoutModel",
      "state": {
       "_model_module_version": "~2.1.4",
       "_view_module_version": "~2.1.4"
      }
     },
     "5844658a90574b9793f4dca60b5f1522": {
      "model_module": "jupyter-js-widgets",
      "model_module_version": "~2.1.4",
      "model_name": "OutputModel",
      "state": {
       "_dom_classes": [],
       "_model_module": "jupyter-js-widgets",
       "_model_module_version": "~2.1.4",
       "_view_module": "jupyter-js-widgets",
       "_view_module_version": "~2.1.4",
       "layout": "IPY_MODEL_f8e989d911034cf7921599ba39e81c2b",
       "msg_throttle": 1
      }
     },
     "5854b0d05fd84bdbb33809abae16d182": {
      "model_module": "jupyter-js-widgets",
      "model_module_version": "~2.1.4",
      "model_name": "LayoutModel",
      "state": {
       "_model_module_version": "~2.1.4",
       "_view_module_version": "~2.1.4"
      }
     },
     "58bed175d8ad467cb571fa6a9366d1f8": {
      "model_module": "jupyter-js-widgets",
      "model_module_version": "~2.1.4",
      "model_name": "IntSliderModel",
      "state": {
       "_model_module_version": "~2.1.4",
       "_view_module_version": "~2.1.4",
       "description": "T",
       "layout": "IPY_MODEL_187fb0eb83f748149235012d02792a36",
       "max": 2000,
       "step": 10,
       "style": "IPY_MODEL_50e55a5ce27045938456ba4fa716a19f",
       "value": 300
      }
     },
     "5962a345743c4aa7a92bcb5bc009bd82": {
      "model_module": "jupyter-js-widgets",
      "model_module_version": "~2.1.4",
      "model_name": "SliderStyleModel",
      "state": {
       "_model_module_version": "~2.1.4",
       "_view_module_version": "~2.1.4"
      }
     },
     "59f857bf731c4608a261fc440d42e982": {
      "model_module": "jupyter-js-widgets",
      "model_module_version": "~2.1.4",
      "model_name": "IntSliderModel",
      "state": {
       "_model_module_version": "~2.1.4",
       "_view_module_version": "~2.1.4",
       "description": "Hmix",
       "layout": "IPY_MODEL_74baf6524cae48d1829873b87e028184",
       "max": 20000,
       "min": -10000,
       "step": 200,
       "style": "IPY_MODEL_da50e5a1cf9a47209ac813afcf1b3ff9",
       "value": 8800
      }
     },
     "5aa684b31dde4868b84a504dc5c16696": {
      "model_module": "jupyter-js-widgets",
      "model_module_version": "~2.1.4",
      "model_name": "LayoutModel",
      "state": {
       "_model_module_version": "~2.1.4",
       "_view_module_version": "~2.1.4"
      }
     },
     "5ada496b166c4129b59346039f0505b7": {
      "model_module": "jupyter-js-widgets",
      "model_module_version": "~2.1.4",
      "model_name": "OutputModel",
      "state": {
       "_dom_classes": [],
       "_model_module": "jupyter-js-widgets",
       "_model_module_version": "~2.1.4",
       "_view_module": "jupyter-js-widgets",
       "_view_module_version": "~2.1.4",
       "layout": "IPY_MODEL_a6246470af9d48288140ea803cf17cf2",
       "msg_throttle": 1
      }
     },
     "5b727cd2d44449e48441e74780179c93": {
      "model_module": "jupyter-js-widgets",
      "model_module_version": "~2.1.4",
      "model_name": "SliderStyleModel",
      "state": {
       "_model_module_version": "~2.1.4",
       "_view_module_version": "~2.1.4"
      }
     },
     "5b86a773f74d4c139d7135921507ce9e": {
      "model_module": "jupyter-js-widgets",
      "model_module_version": "~2.1.4",
      "model_name": "IntSliderModel",
      "state": {
       "_model_module_version": "~2.1.4",
       "_view_module_version": "~2.1.4",
       "description": "ua",
       "layout": "IPY_MODEL_b96791b0b16e4d7896e84ee7728d50f7",
       "max": 0,
       "min": -10000,
       "step": 100,
       "style": "IPY_MODEL_3cd428617e1946d9bf4226205a1965f7",
       "value": -2000
      }
     },
     "5ca98146773c4dc8a68868d0f0f3272a": {
      "model_module": "jupyter-js-widgets",
      "model_module_version": "~2.1.4",
      "model_name": "IntSliderModel",
      "state": {
       "_model_module_version": "~2.1.4",
       "_view_module_version": "~2.1.4",
       "description": "Hmix",
       "layout": "IPY_MODEL_25a479be6fb942c9b80e66772727c369",
       "max": 20000,
       "min": -10000,
       "step": 200,
       "style": "IPY_MODEL_b516c3b65d674737ae8feb1132cec207"
      }
     },
     "5da75f54f3334b559d3b9b68d9047cfb": {
      "model_module": "jupyter-js-widgets",
      "model_module_version": "~2.1.4",
      "model_name": "LayoutModel",
      "state": {
       "_model_module_version": "~2.1.4",
       "_view_module_version": "~2.1.4"
      }
     },
     "5df349a139d74a3cb03ff43cac5056f6": {
      "model_module": "jupyter-js-widgets",
      "model_module_version": "~2.1.4",
      "model_name": "SliderStyleModel",
      "state": {
       "_model_module_version": "~2.1.4",
       "_view_module_version": "~2.1.4"
      }
     },
     "5e43729c3fb94b618dcb80e272a16cb5": {
      "model_module": "jupyter-js-widgets",
      "model_module_version": "~2.1.4",
      "model_name": "OutputModel",
      "state": {
       "_dom_classes": [],
       "_model_module": "jupyter-js-widgets",
       "_model_module_version": "~2.1.4",
       "_view_module": "jupyter-js-widgets",
       "_view_module_version": "~2.1.4",
       "layout": "IPY_MODEL_15ad301e3cf742b2a052d7eb45bdd829",
       "msg_throttle": 1
      }
     },
     "6048514d92074479be90df9d6a6af8a1": {
      "model_module": "jupyter-js-widgets",
      "model_module_version": "~2.1.4",
      "model_name": "VBoxModel",
      "state": {
       "_dom_classes": [
        "widget-interact"
       ],
       "_model_module_version": "~2.1.4",
       "_view_module_version": "~2.1.4",
       "children": [
        "IPY_MODEL_1e21255aadff420386a3caf939bdba31",
        "IPY_MODEL_31bb533644154adf9a3304ce1a60dae5",
        "IPY_MODEL_a01cc2c1ace64170997a78a83d7251d8",
        "IPY_MODEL_e0287604373c449fa8877de01caa05dd",
        "IPY_MODEL_aa02f76131eb42b6a4b63ea072375d29"
       ],
       "layout": "IPY_MODEL_bf560025fba84c5f8839ec38a549453b"
      }
     },
     "60b9eff7cbe440a188b80d9f805c241f": {
      "model_module": "jupyter-js-widgets",
      "model_module_version": "~2.1.4",
      "model_name": "SliderStyleModel",
      "state": {
       "_model_module_version": "~2.1.4",
       "_view_module_version": "~2.1.4"
      }
     },
     "60dd2dc061254ede876c07224f608572": {
      "model_module": "jupyter-js-widgets",
      "model_module_version": "~2.1.4",
      "model_name": "LayoutModel",
      "state": {
       "_model_module_version": "~2.1.4",
       "_view_module_version": "~2.1.4"
      }
     },
     "63f6985192c449d5b0e86c58e88f9008": {
      "model_module": "jupyter-js-widgets",
      "model_module_version": "~2.1.4",
      "model_name": "IntSliderModel",
      "state": {
       "_model_module_version": "~2.1.4",
       "_view_module_version": "~2.1.4",
       "description": "T",
       "layout": "IPY_MODEL_8820659039ea4d7196901f6d5fb8983c",
       "max": 2000,
       "step": 10,
       "style": "IPY_MODEL_c445649ec2984aa6bfaab34aadfc218e",
       "value": 300
      }
     },
     "6469f535b6b64cd98543559757991e6b": {
      "model_module": "jupyter-js-widgets",
      "model_module_version": "~2.1.4",
      "model_name": "LayoutModel",
      "state": {
       "_model_module_version": "~2.1.4",
       "_view_module_version": "~2.1.4"
      }
     },
     "64f380b4e9fa403c829dc14010f62df3": {
      "model_module": "jupyter-js-widgets",
      "model_module_version": "~2.1.4",
      "model_name": "LayoutModel",
      "state": {
       "_model_module_version": "~2.1.4",
       "_view_module_version": "~2.1.4"
      }
     },
     "663d8576de7f481680b5541481f5c761": {
      "model_module": "jupyter-js-widgets",
      "model_module_version": "~2.1.4",
      "model_name": "VBoxModel",
      "state": {
       "_dom_classes": [
        "widget-interact"
       ],
       "_model_module_version": "~2.1.4",
       "_view_module_version": "~2.1.4",
       "children": [
        "IPY_MODEL_204967aded2b43da9810ebfd1fe54bcc",
        "IPY_MODEL_59f857bf731c4608a261fc440d42e982",
        "IPY_MODEL_36f2acbb6df04fd7a20051d0ed68dafd",
        "IPY_MODEL_de32ab1093f74b5c97ff2e86a1c5eb60",
        "IPY_MODEL_1806ea76f4684657a5966cec1074f036"
       ],
       "layout": "IPY_MODEL_576199b44f784cfd82876141c9e01317"
      }
     },
     "6776805990fd43d1bdcad150b9b20b6a": {
      "model_module": "jupyter-js-widgets",
      "model_module_version": "~2.1.4",
      "model_name": "SliderStyleModel",
      "state": {
       "_model_module_version": "~2.1.4",
       "_view_module_version": "~2.1.4"
      }
     },
     "67926a124a8c4c2793963b592d759b5b": {
      "model_module": "jupyter-js-widgets",
      "model_module_version": "~2.1.4",
      "model_name": "LayoutModel",
      "state": {
       "_model_module_version": "~2.1.4",
       "_view_module_version": "~2.1.4"
      }
     },
     "679b9dbb564e4f228a8d1e0da4d63153": {
      "model_module": "jupyter-js-widgets",
      "model_module_version": "~2.1.4",
      "model_name": "SliderStyleModel",
      "state": {
       "_model_module_version": "~2.1.4",
       "_view_module_version": "~2.1.4"
      }
     },
     "690d343dcaf64499bf49b30a0f1c28b9": {
      "model_module": "jupyter-js-widgets",
      "model_module_version": "~2.1.4",
      "model_name": "LayoutModel",
      "state": {
       "_model_module_version": "~2.1.4",
       "_view_module_version": "~2.1.4"
      }
     },
     "69a75b421d0c4bd5846b40c281b2278f": {
      "model_module": "jupyter-js-widgets",
      "model_module_version": "~2.1.4",
      "model_name": "OutputModel",
      "state": {
       "_dom_classes": [],
       "_model_module": "jupyter-js-widgets",
       "_model_module_version": "~2.1.4",
       "_view_module": "jupyter-js-widgets",
       "_view_module_version": "~2.1.4",
       "layout": "IPY_MODEL_978debad9a3340a7b119f775fcc6f05f",
       "msg_throttle": 1
      }
     },
     "6b73ec07f72046f6a30f8a7b2f80576c": {
      "model_module": "jupyter-js-widgets",
      "model_module_version": "~2.1.4",
      "model_name": "LayoutModel",
      "state": {
       "_model_module_version": "~2.1.4",
       "_view_module_version": "~2.1.4"
      }
     },
     "6ca8a854959b43c0a9fcd76d7c6ebe9a": {
      "model_module": "jupyter-js-widgets",
      "model_module_version": "~2.1.4",
      "model_name": "IntSliderModel",
      "state": {
       "_model_module_version": "~2.1.4",
       "_view_module_version": "~2.1.4",
       "description": "T",
       "layout": "IPY_MODEL_ba87e1b0712c418f9a7da90d19773c7b",
       "max": 2000,
       "step": 10,
       "style": "IPY_MODEL_cad2fe5c34494e4fa222472fbb23fa2a",
       "value": 300
      }
     },
     "6dc713d2cbbe4e6caaadfdaae6341a92": {
      "model_module": "jupyter-js-widgets",
      "model_module_version": "~2.1.4",
      "model_name": "LayoutModel",
      "state": {
       "_model_module_version": "~2.1.4",
       "_view_module_version": "~2.1.4"
      }
     },
     "6e20a22e81764e20aea02c7b97d5091c": {
      "model_module": "jupyter-js-widgets",
      "model_module_version": "~2.1.4",
      "model_name": "SliderStyleModel",
      "state": {
       "_model_module_version": "~2.1.4",
       "_view_module_version": "~2.1.4"
      }
     },
     "6eb91e21d44e4beaa041cc43ef473ce7": {
      "model_module": "jupyter-js-widgets",
      "model_module_version": "~2.1.4",
      "model_name": "SliderStyleModel",
      "state": {
       "_model_module_version": "~2.1.4",
       "_view_module_version": "~2.1.4"
      }
     },
     "6f3af795c9264a31a19e2572f16797b7": {
      "model_module": "jupyter-js-widgets",
      "model_module_version": "~2.1.4",
      "model_name": "OutputModel",
      "state": {
       "_dom_classes": [],
       "_model_module": "jupyter-js-widgets",
       "_model_module_version": "~2.1.4",
       "_view_module": "jupyter-js-widgets",
       "_view_module_version": "~2.1.4",
       "layout": "IPY_MODEL_b7de05e2a6f848b6baafa66bb7234177",
       "msg_throttle": 1
      }
     },
     "6fe0ea732f904ceaa39d5e0125441ac2": {
      "model_module": "jupyter-js-widgets",
      "model_module_version": "~2.1.4",
      "model_name": "VBoxModel",
      "state": {
       "_dom_classes": [
        "widget-interact"
       ],
       "_model_module_version": "~2.1.4",
       "_view_module_version": "~2.1.4",
       "children": [
        "IPY_MODEL_ac38ae3ec7a84f3e99504e3a7b30e96d",
        "IPY_MODEL_f8e6e348035a4dce8b9e4a46a5ac76a0",
        "IPY_MODEL_32126f0a3bc74f63b375ec68f55e2d6c",
        "IPY_MODEL_d61de403434548a9a1fad5c7709db81b",
        "IPY_MODEL_378a1622c7be41fb9343802b26be9ed7"
       ],
       "layout": "IPY_MODEL_30080d4fed9f4dada97fb21a61656691"
      }
     },
     "703cf4a0faee4e7c9c3851b9837eeb2c": {
      "model_module": "jupyter-js-widgets",
      "model_module_version": "~2.1.4",
      "model_name": "LayoutModel",
      "state": {
       "_model_module_version": "~2.1.4",
       "_view_module_version": "~2.1.4"
      }
     },
     "70ec842f089b490e9f9515e3ba73b6ce": {
      "model_module": "jupyter-js-widgets",
      "model_module_version": "~2.1.4",
      "model_name": "SliderStyleModel",
      "state": {
       "_model_module_version": "~2.1.4",
       "_view_module_version": "~2.1.4"
      }
     },
     "7230d84447b44a1ebb2a19c4559fcdc3": {
      "model_module": "jupyter-js-widgets",
      "model_module_version": "~2.1.4",
      "model_name": "IntSliderModel",
      "state": {
       "_model_module_version": "~2.1.4",
       "_view_module_version": "~2.1.4",
       "description": "ua",
       "layout": "IPY_MODEL_972158ed35ac432ba0326075eead8cc0",
       "max": 0,
       "min": -10000,
       "step": 100,
       "style": "IPY_MODEL_a88ac539c7db4fc89ed0aae6b614294b",
       "value": -2000
      }
     },
     "72acd58f7bf84c848c2f646fe3cd95cb": {
      "model_module": "jupyter-js-widgets",
      "model_module_version": "~2.1.4",
      "model_name": "IntSliderModel",
      "state": {
       "_model_module_version": "~2.1.4",
       "_view_module_version": "~2.1.4",
       "description": "T",
       "layout": "IPY_MODEL_ac8675d4ac90490ebfb1a88d93845033",
       "max": 2000,
       "step": 10,
       "style": "IPY_MODEL_b4a13ce78b254d4d8d5e663cbe331a11",
       "value": 300
      }
     },
     "73125b4efcb6492db47ff14db4f35a69": {
      "model_module": "jupyter-js-widgets",
      "model_module_version": "~2.1.4",
      "model_name": "IntSliderModel",
      "state": {
       "_model_module_version": "~2.1.4",
       "_view_module_version": "~2.1.4",
       "description": "ua",
       "layout": "IPY_MODEL_919c1167adaa401ab8f89bac17318769",
       "max": 0,
       "min": -10000,
       "step": 100,
       "style": "IPY_MODEL_b27f4d57509f49edba0889babd39d86e",
       "value": -2000
      }
     },
     "73d6ba6c8d3b4cfabab598792da0a1ea": {
      "model_module": "jupyter-js-widgets",
      "model_module_version": "~2.1.4",
      "model_name": "SliderStyleModel",
      "state": {
       "_model_module_version": "~2.1.4",
       "_view_module_version": "~2.1.4"
      }
     },
     "74baf6524cae48d1829873b87e028184": {
      "model_module": "jupyter-js-widgets",
      "model_module_version": "~2.1.4",
      "model_name": "LayoutModel",
      "state": {
       "_model_module_version": "~2.1.4",
       "_view_module_version": "~2.1.4"
      }
     },
     "7532bed24068479cba446ec76d5ed71d": {
      "model_module": "jupyter-js-widgets",
      "model_module_version": "~2.1.4",
      "model_name": "LayoutModel",
      "state": {
       "_model_module_version": "~2.1.4",
       "_view_module_version": "~2.1.4"
      }
     },
     "757d2d9a36054bf29a1e01f7627e5012": {
      "model_module": "jupyter-js-widgets",
      "model_module_version": "~2.1.4",
      "model_name": "IntSliderModel",
      "state": {
       "_model_module_version": "~2.1.4",
       "_view_module_version": "~2.1.4",
       "description": "T",
       "layout": "IPY_MODEL_123b90df073740ab99b0fc3764fd1b93",
       "max": 2000,
       "step": 10,
       "style": "IPY_MODEL_60b9eff7cbe440a188b80d9f805c241f",
       "value": 300
      }
     },
     "75b057b93ff040a781c2a933d82af400": {
      "model_module": "jupyter-js-widgets",
      "model_module_version": "~2.1.4",
      "model_name": "IntSliderModel",
      "state": {
       "_model_module_version": "~2.1.4",
       "_view_module_version": "~2.1.4",
       "description": "ub",
       "layout": "IPY_MODEL_0682e2da36034408972cdbe593acb7c9",
       "max": 0,
       "min": -10000,
       "step": 100,
       "style": "IPY_MODEL_5b727cd2d44449e48441e74780179c93",
       "value": -1000
      }
     },
     "761d600094d54d24bcb1ca14614fe0be": {
      "model_module": "jupyter-js-widgets",
      "model_module_version": "~2.1.4",
      "model_name": "SliderStyleModel",
      "state": {
       "_model_module_version": "~2.1.4",
       "_view_module_version": "~2.1.4"
      }
     },
     "76e1976ce40b4fbc8d7a86330c67938e": {
      "model_module": "jupyter-js-widgets",
      "model_module_version": "~2.1.4",
      "model_name": "SliderStyleModel",
      "state": {
       "_model_module_version": "~2.1.4",
       "_view_module_version": "~2.1.4"
      }
     },
     "77358748bc4b435dbb8307096cc8f3cf": {
      "model_module": "jupyter-js-widgets",
      "model_module_version": "~2.1.4",
      "model_name": "LayoutModel",
      "state": {
       "_model_module_version": "~2.1.4",
       "_view_module_version": "~2.1.4"
      }
     },
     "7798ea588496423cbe38033681ab7a8d": {
      "model_module": "jupyter-js-widgets",
      "model_module_version": "~2.1.4",
      "model_name": "LayoutModel",
      "state": {
       "_model_module_version": "~2.1.4",
       "_view_module_version": "~2.1.4"
      }
     },
     "790c95de4be1481491a38f911ccd8f83": {
      "model_module": "jupyter-js-widgets",
      "model_module_version": "~2.1.4",
      "model_name": "LayoutModel",
      "state": {
       "_model_module_version": "~2.1.4",
       "_view_module_version": "~2.1.4"
      }
     },
     "798a915df40b450db1731872cc8b2a08": {
      "model_module": "jupyter-js-widgets",
      "model_module_version": "~2.1.4",
      "model_name": "IntSliderModel",
      "state": {
       "_model_module_version": "~2.1.4",
       "_view_module_version": "~2.1.4",
       "description": "ub",
       "layout": "IPY_MODEL_8753f5b552954cb8a4c80b86fcd16d2d",
       "max": 0,
       "min": -10000,
       "step": 100,
       "style": "IPY_MODEL_4fc71d22a295421bbf260dbb76d041d8",
       "value": -1000
      }
     },
     "7ac6d41dcd7440eab9f52de6aeb91891": {
      "model_module": "jupyter-js-widgets",
      "model_module_version": "~2.1.4",
      "model_name": "LayoutModel",
      "state": {
       "_model_module_version": "~2.1.4",
       "_view_module_version": "~2.1.4"
      }
     },
     "7d34269932964bff82e7d10e479c2a74": {
      "model_module": "jupyter-js-widgets",
      "model_module_version": "~2.1.4",
      "model_name": "VBoxModel",
      "state": {
       "_dom_classes": [
        "widget-interact"
       ],
       "_model_module_version": "~2.1.4",
       "_view_module_version": "~2.1.4",
       "children": [
        "IPY_MODEL_72acd58f7bf84c848c2f646fe3cd95cb",
        "IPY_MODEL_4b6baa4ec7e14a51ba5ec9cdbe75eced",
        "IPY_MODEL_c0fe97bf8e0e4375b2d864b2265f86eb",
        "IPY_MODEL_798a915df40b450db1731872cc8b2a08",
        "IPY_MODEL_c3244d103dc943c1b8ca151fe26b709c"
       ],
       "layout": "IPY_MODEL_f0bd5694f198474fac5f7eed84c29b9a"
      }
     },
     "7e88b626277d45d8999003fa1c610f68": {
      "model_module": "jupyter-js-widgets",
      "model_module_version": "~2.1.4",
      "model_name": "SliderStyleModel",
      "state": {
       "_model_module_version": "~2.1.4",
       "_view_module_version": "~2.1.4"
      }
     },
     "7ed2a9f0eb8c465284a470db635034fb": {
      "model_module": "jupyter-js-widgets",
      "model_module_version": "~2.1.4",
      "model_name": "LayoutModel",
      "state": {
       "_model_module_version": "~2.1.4",
       "_view_module_version": "~2.1.4"
      }
     },
     "80ca2d3392de4d1cad5ebc2ef629c037": {
      "model_module": "jupyter-js-widgets",
      "model_module_version": "~2.1.4",
      "model_name": "IntSliderModel",
      "state": {
       "_model_module_version": "~2.1.4",
       "_view_module_version": "~2.1.4",
       "description": "ua",
       "layout": "IPY_MODEL_0b3318735ab54ad09b86e482b10d0ff6",
       "max": 0,
       "min": -10000,
       "step": 100,
       "style": "IPY_MODEL_051f29ec857d448e876c47e938a8e623",
       "value": -2000
      }
     },
     "80d5e7b675714feab805a620254046b9": {
      "model_module": "jupyter-js-widgets",
      "model_module_version": "~2.1.4",
      "model_name": "VBoxModel",
      "state": {
       "_dom_classes": [
        "widget-interact"
       ],
       "_model_module_version": "~2.1.4",
       "_view_module_version": "~2.1.4",
       "children": [
        "IPY_MODEL_39c2aab3187f47019c4a340482c754e6",
        "IPY_MODEL_0301a7acab434362b3267319f8dee9cb",
        "IPY_MODEL_97631cd93e6a4792bd116c88663cf10d",
        "IPY_MODEL_be0bdc945acc4ffb804e3b64a143a9e7",
        "IPY_MODEL_fdd1a765845e499490ce9912ae2c4e71"
       ],
       "layout": "IPY_MODEL_9c7a205a526c459e89b56d4fea97937d"
      }
     },
     "8214541ca1c34c60bd4207ceb5ed2bff": {
      "model_module": "jupyter-js-widgets",
      "model_module_version": "~2.1.4",
      "model_name": "IntSliderModel",
      "state": {
       "_model_module_version": "~2.1.4",
       "_view_module_version": "~2.1.4",
       "description": "ua",
       "layout": "IPY_MODEL_8752138513ac4c0d81749ccbad3abf36",
       "max": 0,
       "min": -10000,
       "step": 100,
       "style": "IPY_MODEL_4ed20837cd014c89911dceae78e40ba7",
       "value": -2000
      }
     },
     "8422077b25464dd3b0346f0bf9a496b0": {
      "model_module": "jupyter-js-widgets",
      "model_module_version": "~2.1.4",
      "model_name": "IntSliderModel",
      "state": {
       "_model_module_version": "~2.1.4",
       "_view_module_version": "~2.1.4",
       "description": "Hmix",
       "layout": "IPY_MODEL_a62e6a24cd6c4d60b4058d77b094bd3e",
       "max": 20000,
       "min": -10000,
       "step": 200,
       "style": "IPY_MODEL_b3781808e37147e9a86cfb6c505375dc",
       "value": 7600
      }
     },
     "84672bb4b34f4a149d047f64b894b3b6": {
      "model_module": "jupyter-js-widgets",
      "model_module_version": "~2.1.4",
      "model_name": "LayoutModel",
      "state": {
       "_model_module_version": "~2.1.4",
       "_view_module_version": "~2.1.4"
      }
     },
     "8477bb1b2e6740ab92ef328a36e49b02": {
      "model_module": "jupyter-js-widgets",
      "model_module_version": "~2.1.4",
      "model_name": "SliderStyleModel",
      "state": {
       "_model_module_version": "~2.1.4",
       "_view_module_version": "~2.1.4"
      }
     },
     "848ab071d2fa4e00bfe222c4ad6da2ef": {
      "model_module": "jupyter-js-widgets",
      "model_module_version": "~2.1.4",
      "model_name": "IntSliderModel",
      "state": {
       "_model_module_version": "~2.1.4",
       "_view_module_version": "~2.1.4",
       "description": "Hmix",
       "layout": "IPY_MODEL_67926a124a8c4c2793963b592d759b5b",
       "max": 20000,
       "min": -10000,
       "step": 200,
       "style": "IPY_MODEL_372a71e2cfe744a39523c7f1fab1ce09",
       "value": 13000
      }
     },
     "862d38b1e40b4df4a89ace433740db7c": {
      "model_module": "jupyter-js-widgets",
      "model_module_version": "~2.1.4",
      "model_name": "LayoutModel",
      "state": {
       "_model_module_version": "~2.1.4",
       "_view_module_version": "~2.1.4"
      }
     },
     "86ac3c7c228a4178ba3dcf768ffad12d": {
      "model_module": "jupyter-js-widgets",
      "model_module_version": "~2.1.4",
      "model_name": "LayoutModel",
      "state": {
       "_model_module_version": "~2.1.4",
       "_view_module_version": "~2.1.4"
      }
     },
     "874d0aa73c944fe78e88c24d31b3855e": {
      "model_module": "jupyter-js-widgets",
      "model_module_version": "~2.1.4",
      "model_name": "SliderStyleModel",
      "state": {
       "_model_module_version": "~2.1.4",
       "_view_module_version": "~2.1.4"
      }
     },
     "8752138513ac4c0d81749ccbad3abf36": {
      "model_module": "jupyter-js-widgets",
      "model_module_version": "~2.1.4",
      "model_name": "LayoutModel",
      "state": {
       "_model_module_version": "~2.1.4",
       "_view_module_version": "~2.1.4"
      }
     },
     "8753f5b552954cb8a4c80b86fcd16d2d": {
      "model_module": "jupyter-js-widgets",
      "model_module_version": "~2.1.4",
      "model_name": "LayoutModel",
      "state": {
       "_model_module_version": "~2.1.4",
       "_view_module_version": "~2.1.4"
      }
     },
     "8814b3f2226d4984b3a94348aff3630d": {
      "model_module": "jupyter-js-widgets",
      "model_module_version": "~2.1.4",
      "model_name": "IntSliderModel",
      "state": {
       "_model_module_version": "~2.1.4",
       "_view_module_version": "~2.1.4",
       "description": "T",
       "layout": "IPY_MODEL_1a518c7d199943708c95dd55d190abe6",
       "max": 2000,
       "step": 10,
       "style": "IPY_MODEL_761d600094d54d24bcb1ca14614fe0be",
       "value": 300
      }
     },
     "8820659039ea4d7196901f6d5fb8983c": {
      "model_module": "jupyter-js-widgets",
      "model_module_version": "~2.1.4",
      "model_name": "LayoutModel",
      "state": {
       "_model_module_version": "~2.1.4",
       "_view_module_version": "~2.1.4"
      }
     },
     "89e8b017558e425399446cdc77159d3a": {
      "model_module": "jupyter-js-widgets",
      "model_module_version": "~2.1.4",
      "model_name": "SliderStyleModel",
      "state": {
       "_model_module_version": "~2.1.4",
       "_view_module_version": "~2.1.4"
      }
     },
     "8f82cc4cffed4b7f9f2948219f639d0b": {
      "model_module": "jupyter-js-widgets",
      "model_module_version": "~2.1.4",
      "model_name": "VBoxModel",
      "state": {
       "_dom_classes": [
        "widget-interact"
       ],
       "_model_module_version": "~2.1.4",
       "_view_module_version": "~2.1.4",
       "children": [
        "IPY_MODEL_6ca8a854959b43c0a9fcd76d7c6ebe9a",
        "IPY_MODEL_c91c90798e25404ab06e301f722d1643",
        "IPY_MODEL_c152327f749b4b0d9292a544a15eedd8",
        "IPY_MODEL_c0c334036cac44dea4f13e026f8957fb",
        "IPY_MODEL_5e43729c3fb94b618dcb80e272a16cb5"
       ],
       "layout": "IPY_MODEL_22975c89b54143d3a2b17366e53d3b1f"
      }
     },
     "9116384449a9429bb6ef6e3c016bf8c0": {
      "model_module": "jupyter-js-widgets",
      "model_module_version": "~2.1.4",
      "model_name": "IntSliderModel",
      "state": {
       "_model_module_version": "~2.1.4",
       "_view_module_version": "~2.1.4",
       "description": "T",
       "layout": "IPY_MODEL_304f7dc88d1946ec8d767b331488b598",
       "max": 2000,
       "step": 10,
       "style": "IPY_MODEL_d931f6cf18be44cb9b6432adcbac1dfb",
       "value": 300
      }
     },
     "919c1167adaa401ab8f89bac17318769": {
      "model_module": "jupyter-js-widgets",
      "model_module_version": "~2.1.4",
      "model_name": "LayoutModel",
      "state": {
       "_model_module_version": "~2.1.4",
       "_view_module_version": "~2.1.4"
      }
     },
     "92bbfaf6ac134ee49df00ff8566443de": {
      "model_module": "jupyter-js-widgets",
      "model_module_version": "~2.1.4",
      "model_name": "SliderStyleModel",
      "state": {
       "_model_module_version": "~2.1.4",
       "_view_module_version": "~2.1.4"
      }
     },
     "93c7ab39c1df4dd7b6e4f24d63807824": {
      "model_module": "jupyter-js-widgets",
      "model_module_version": "~2.1.4",
      "model_name": "SliderStyleModel",
      "state": {
       "_model_module_version": "~2.1.4",
       "_view_module_version": "~2.1.4"
      }
     },
     "95830b1d7977478196c4795d66209e94": {
      "model_module": "jupyter-js-widgets",
      "model_module_version": "~2.1.4",
      "model_name": "SliderStyleModel",
      "state": {
       "_model_module_version": "~2.1.4",
       "_view_module_version": "~2.1.4"
      }
     },
     "96d47bfd0ea34148be8e986e5be69e47": {
      "model_module": "jupyter-js-widgets",
      "model_module_version": "~2.1.4",
      "model_name": "IntSliderModel",
      "state": {
       "_model_module_version": "~2.1.4",
       "_view_module_version": "~2.1.4",
       "description": "Hmix",
       "layout": "IPY_MODEL_20e657ffa6ee43fba9e07ab44001a4b6",
       "max": 20000,
       "min": -10000,
       "step": 200,
       "style": "IPY_MODEL_e31e6828938047de9272300b9e2b4613",
       "value": 4200
      }
     },
     "972158ed35ac432ba0326075eead8cc0": {
      "model_module": "jupyter-js-widgets",
      "model_module_version": "~2.1.4",
      "model_name": "LayoutModel",
      "state": {
       "_model_module_version": "~2.1.4",
       "_view_module_version": "~2.1.4"
      }
     },
     "97631cd93e6a4792bd116c88663cf10d": {
      "model_module": "jupyter-js-widgets",
      "model_module_version": "~2.1.4",
      "model_name": "IntSliderModel",
      "state": {
       "_model_module_version": "~2.1.4",
       "_view_module_version": "~2.1.4",
       "description": "ua",
       "layout": "IPY_MODEL_7532bed24068479cba446ec76d5ed71d",
       "max": 0,
       "min": -10000,
       "step": 100,
       "style": "IPY_MODEL_bfff2bab96ae48c29f9281126aefae8d",
       "value": -2000
      }
     },
     "9776eeb1fd7446639407c5163b3d8ead": {
      "model_module": "jupyter-js-widgets",
      "model_module_version": "~2.1.4",
      "model_name": "OutputModel",
      "state": {
       "_dom_classes": [],
       "_model_module": "jupyter-js-widgets",
       "_model_module_version": "~2.1.4",
       "_view_module": "jupyter-js-widgets",
       "_view_module_version": "~2.1.4",
       "layout": "IPY_MODEL_9b5a6df7af9c4e35a0e15a75a57bb597",
       "msg_throttle": 1
      }
     },
     "9779968a087d4e2eabdf2bb49b4fa30c": {
      "model_module": "jupyter-js-widgets",
      "model_module_version": "~2.1.4",
      "model_name": "LayoutModel",
      "state": {
       "_model_module_version": "~2.1.4",
       "_view_module_version": "~2.1.4"
      }
     },
     "978debad9a3340a7b119f775fcc6f05f": {
      "model_module": "jupyter-js-widgets",
      "model_module_version": "~2.1.4",
      "model_name": "LayoutModel",
      "state": {
       "_model_module_version": "~2.1.4",
       "_view_module_version": "~2.1.4"
      }
     },
     "987cbbb6e126499c813cefb8dc8a1654": {
      "model_module": "jupyter-js-widgets",
      "model_module_version": "~2.1.4",
      "model_name": "IntSliderModel",
      "state": {
       "_model_module_version": "~2.1.4",
       "_view_module_version": "~2.1.4",
       "description": "Hmix",
       "layout": "IPY_MODEL_9c36ede3daad4feb9e427aaab92172c1",
       "max": 20000,
       "min": -10000,
       "step": 200,
       "style": "IPY_MODEL_0f21c01b434d41a184d55c46baf2b623",
       "value": 7800
      }
     },
     "991645df71d14ac1990c5c6a46f83e6d": {
      "model_module": "jupyter-js-widgets",
      "model_module_version": "~2.1.4",
      "model_name": "IntSliderModel",
      "state": {
       "_model_module_version": "~2.1.4",
       "_view_module_version": "~2.1.4",
       "description": "Hmix",
       "layout": "IPY_MODEL_9d81226ae9184fe7a99aab3c5d2ad27c",
       "max": 20000,
       "min": -10000,
       "step": 200,
       "style": "IPY_MODEL_da8af694c5b64c21a2f41dcc7bafebce",
       "value": 12800
      }
     },
     "9940e1bda49c4c74a408a0402dfbd45d": {
      "model_module": "jupyter-js-widgets",
      "model_module_version": "~2.1.4",
      "model_name": "IntSliderModel",
      "state": {
       "_model_module_version": "~2.1.4",
       "_view_module_version": "~2.1.4",
       "description": "ub",
       "layout": "IPY_MODEL_690d343dcaf64499bf49b30a0f1c28b9",
       "max": 0,
       "min": -10000,
       "step": 100,
       "style": "IPY_MODEL_874d0aa73c944fe78e88c24d31b3855e",
       "value": -1000
      }
     },
     "9b5a6df7af9c4e35a0e15a75a57bb597": {
      "model_module": "jupyter-js-widgets",
      "model_module_version": "~2.1.4",
      "model_name": "LayoutModel",
      "state": {
       "_model_module_version": "~2.1.4",
       "_view_module_version": "~2.1.4"
      }
     },
     "9bb874d0f40e453f9dcdd1eec3ac40b5": {
      "model_module": "jupyter-js-widgets",
      "model_module_version": "~2.1.4",
      "model_name": "SliderStyleModel",
      "state": {
       "_model_module_version": "~2.1.4",
       "_view_module_version": "~2.1.4"
      }
     },
     "9be188abe62d4daca0a3762097a44c8f": {
      "model_module": "jupyter-js-widgets",
      "model_module_version": "~2.1.4",
      "model_name": "IntSliderModel",
      "state": {
       "_model_module_version": "~2.1.4",
       "_view_module_version": "~2.1.4",
       "description": "T",
       "layout": "IPY_MODEL_a3bf871769cb4c1eb8e8152d110e9a2a",
       "max": 2000,
       "step": 10,
       "style": "IPY_MODEL_c380bdd244bc46178b1e5d69daff75cb",
       "value": 300
      }
     },
     "9c28431c31a64ababf70cfa999da0d39": {
      "model_module": "jupyter-js-widgets",
      "model_module_version": "~2.1.4",
      "model_name": "SliderStyleModel",
      "state": {
       "_model_module_version": "~2.1.4",
       "_view_module_version": "~2.1.4"
      }
     },
     "9c2e629d4efb4dbabf1ccafa52ac1ea3": {
      "model_module": "jupyter-js-widgets",
      "model_module_version": "~2.1.4",
      "model_name": "LayoutModel",
      "state": {
       "_model_module_version": "~2.1.4",
       "_view_module_version": "~2.1.4"
      }
     },
     "9c36ede3daad4feb9e427aaab92172c1": {
      "model_module": "jupyter-js-widgets",
      "model_module_version": "~2.1.4",
      "model_name": "LayoutModel",
      "state": {
       "_model_module_version": "~2.1.4",
       "_view_module_version": "~2.1.4"
      }
     },
     "9c7a205a526c459e89b56d4fea97937d": {
      "model_module": "jupyter-js-widgets",
      "model_module_version": "~2.1.4",
      "model_name": "LayoutModel",
      "state": {
       "_model_module_version": "~2.1.4",
       "_view_module_version": "~2.1.4"
      }
     },
     "9d44e205e4314ae8a70d76e82b57a185": {
      "model_module": "jupyter-js-widgets",
      "model_module_version": "~2.1.4",
      "model_name": "LayoutModel",
      "state": {
       "_model_module_version": "~2.1.4",
       "_view_module_version": "~2.1.4"
      }
     },
     "9d66c172693449cd8d507bec07bfd016": {
      "model_module": "jupyter-js-widgets",
      "model_module_version": "~2.1.4",
      "model_name": "SliderStyleModel",
      "state": {
       "_model_module_version": "~2.1.4",
       "_view_module_version": "~2.1.4"
      }
     },
     "9d81226ae9184fe7a99aab3c5d2ad27c": {
      "model_module": "jupyter-js-widgets",
      "model_module_version": "~2.1.4",
      "model_name": "LayoutModel",
      "state": {
       "_model_module_version": "~2.1.4",
       "_view_module_version": "~2.1.4"
      }
     },
     "9e74103d719a451ead23b11624cce5ab": {
      "model_module": "jupyter-js-widgets",
      "model_module_version": "~2.1.4",
      "model_name": "LayoutModel",
      "state": {
       "_model_module_version": "~2.1.4",
       "_view_module_version": "~2.1.4"
      }
     },
     "9eb0063767194c3d867ce8ca8dc18b87": {
      "model_module": "jupyter-js-widgets",
      "model_module_version": "~2.1.4",
      "model_name": "LayoutModel",
      "state": {
       "_model_module_version": "~2.1.4",
       "_view_module_version": "~2.1.4"
      }
     },
     "9f8da3a59fd44bcaa33b778006ae2073": {
      "model_module": "jupyter-js-widgets",
      "model_module_version": "~2.1.4",
      "model_name": "LayoutModel",
      "state": {
       "_model_module_version": "~2.1.4",
       "_view_module_version": "~2.1.4"
      }
     },
     "a01cc2c1ace64170997a78a83d7251d8": {
      "model_module": "jupyter-js-widgets",
      "model_module_version": "~2.1.4",
      "model_name": "IntSliderModel",
      "state": {
       "_model_module_version": "~2.1.4",
       "_view_module_version": "~2.1.4",
       "description": "ua",
       "layout": "IPY_MODEL_c08c1da1bbc447a69cebff97e7ae69c4",
       "max": 0,
       "min": -10000,
       "step": 100,
       "style": "IPY_MODEL_95830b1d7977478196c4795d66209e94",
       "value": -2000
      }
     },
     "a1a1441fe0c04a4c9d9b95d08e0c7c8f": {
      "model_module": "jupyter-js-widgets",
      "model_module_version": "~2.1.4",
      "model_name": "VBoxModel",
      "state": {
       "_dom_classes": [
        "widget-interact"
       ],
       "_model_module_version": "~2.1.4",
       "_view_module_version": "~2.1.4",
       "children": [
        "IPY_MODEL_4b314551b3c74b699cfa1547234f2c93",
        "IPY_MODEL_987cbbb6e126499c813cefb8dc8a1654",
        "IPY_MODEL_1183cd8995d946d8995e4deabf3c6a85",
        "IPY_MODEL_a9ee26aa739e4b4b88f98d8868d7479c",
        "IPY_MODEL_56b6a442f2b249469afe90a541924db1"
       ],
       "layout": "IPY_MODEL_195777ad87e545eb854b082caf2899e5"
      }
     },
     "a2b91a89e6c9480aac5d2c5061218999": {
      "model_module": "jupyter-js-widgets",
      "model_module_version": "~2.1.4",
      "model_name": "IntSliderModel",
      "state": {
       "_model_module_version": "~2.1.4",
       "_view_module_version": "~2.1.4",
       "description": "ua",
       "layout": "IPY_MODEL_bbb6b7233c6a453da2f1cee1eabbf18e",
       "max": 0,
       "min": -10000,
       "step": 100,
       "style": "IPY_MODEL_d5e291f3f9f2483582fbe002bafa325e",
       "value": -2000
      }
     },
     "a2ba4f9d14334512b263fceb713dba25": {
      "model_module": "jupyter-js-widgets",
      "model_module_version": "~2.1.4",
      "model_name": "IntSliderModel",
      "state": {
       "_model_module_version": "~2.1.4",
       "_view_module_version": "~2.1.4",
       "description": "ub",
       "layout": "IPY_MODEL_160285cea5d74661884c08d5857b7c65",
       "max": 0,
       "min": -10000,
       "step": 100,
       "style": "IPY_MODEL_3f27910ac1064a6aa9747bef8e88992a",
       "value": -1000
      }
     },
     "a3bf871769cb4c1eb8e8152d110e9a2a": {
      "model_module": "jupyter-js-widgets",
      "model_module_version": "~2.1.4",
      "model_name": "LayoutModel",
      "state": {
       "_model_module_version": "~2.1.4",
       "_view_module_version": "~2.1.4"
      }
     },
     "a6246470af9d48288140ea803cf17cf2": {
      "model_module": "jupyter-js-widgets",
      "model_module_version": "~2.1.4",
      "model_name": "LayoutModel",
      "state": {
       "_model_module_version": "~2.1.4",
       "_view_module_version": "~2.1.4"
      }
     },
     "a62e6a24cd6c4d60b4058d77b094bd3e": {
      "model_module": "jupyter-js-widgets",
      "model_module_version": "~2.1.4",
      "model_name": "LayoutModel",
      "state": {
       "_model_module_version": "~2.1.4",
       "_view_module_version": "~2.1.4"
      }
     },
     "a6b4a41877c74acebe732ef34c0195a9": {
      "model_module": "jupyter-js-widgets",
      "model_module_version": "~2.1.4",
      "model_name": "IntSliderModel",
      "state": {
       "_model_module_version": "~2.1.4",
       "_view_module_version": "~2.1.4",
       "description": "Hmix",
       "layout": "IPY_MODEL_f29a7c840daa4407b3642a0dcab92dfd",
       "max": 20000,
       "min": -10000,
       "step": 200,
       "style": "IPY_MODEL_44ef87fac1b6413f88e276fd403b3616",
       "value": 5000
      }
     },
     "a7042aea327a4dea868cdccd389e5f48": {
      "model_module": "jupyter-js-widgets",
      "model_module_version": "~2.1.4",
      "model_name": "OutputModel",
      "state": {
       "_dom_classes": [],
       "_model_module": "jupyter-js-widgets",
       "_model_module_version": "~2.1.4",
       "_view_module": "jupyter-js-widgets",
       "_view_module_version": "~2.1.4",
       "layout": "IPY_MODEL_bf1c1a2335b5490186b933218d195e09",
       "msg_throttle": 1
      }
     },
     "a80cd5042d7741e4a6d5c18b2d123045": {
      "model_module": "jupyter-js-widgets",
      "model_module_version": "~2.1.4",
      "model_name": "IntSliderModel",
      "state": {
       "_model_module_version": "~2.1.4",
       "_view_module_version": "~2.1.4",
       "description": "Hmix",
       "layout": "IPY_MODEL_d3f01fc860674e7cb40f26f50f54755d",
       "max": 20000,
       "min": -10000,
       "step": 200,
       "style": "IPY_MODEL_ccd54ae6f5574d07a5c5af5c0a996008",
       "value": -3200
      }
     },
     "a88ac539c7db4fc89ed0aae6b614294b": {
      "model_module": "jupyter-js-widgets",
      "model_module_version": "~2.1.4",
      "model_name": "SliderStyleModel",
      "state": {
       "_model_module_version": "~2.1.4",
       "_view_module_version": "~2.1.4"
      }
     },
     "a8ba8d664ad44b02b566f945beaa4671": {
      "model_module": "jupyter-js-widgets",
      "model_module_version": "~2.1.4",
      "model_name": "LayoutModel",
      "state": {
       "_model_module_version": "~2.1.4",
       "_view_module_version": "~2.1.4"
      }
     },
     "a9ee26aa739e4b4b88f98d8868d7479c": {
      "model_module": "jupyter-js-widgets",
      "model_module_version": "~2.1.4",
      "model_name": "IntSliderModel",
      "state": {
       "_model_module_version": "~2.1.4",
       "_view_module_version": "~2.1.4",
       "description": "ub",
       "layout": "IPY_MODEL_a8ba8d664ad44b02b566f945beaa4671",
       "max": 0,
       "min": -10000,
       "step": 100,
       "style": "IPY_MODEL_93c7ab39c1df4dd7b6e4f24d63807824",
       "value": -1000
      }
     },
     "aa02f76131eb42b6a4b63ea072375d29": {
      "model_module": "jupyter-js-widgets",
      "model_module_version": "~2.1.4",
      "model_name": "OutputModel",
      "state": {
       "_dom_classes": [],
       "_model_module": "jupyter-js-widgets",
       "_model_module_version": "~2.1.4",
       "_view_module": "jupyter-js-widgets",
       "_view_module_version": "~2.1.4",
       "layout": "IPY_MODEL_c12afb5d37cb42448f8f46d43068e4ae",
       "msg_throttle": 1
      }
     },
     "ac03d0d9e5fe456baa66287bc02b6d11": {
      "model_module": "jupyter-js-widgets",
      "model_module_version": "~2.1.4",
      "model_name": "IntSliderModel",
      "state": {
       "_model_module_version": "~2.1.4",
       "_view_module_version": "~2.1.4",
       "description": "Hmix",
       "layout": "IPY_MODEL_40f8f8004fc24da9bacaa6da17d02cec",
       "max": 20000,
       "min": -10000,
       "step": 200,
       "style": "IPY_MODEL_49aac4406bce4156a5956b271c9e2e01",
       "value": 8600
      }
     },
     "ac38ae3ec7a84f3e99504e3a7b30e96d": {
      "model_module": "jupyter-js-widgets",
      "model_module_version": "~2.1.4",
      "model_name": "IntSliderModel",
      "state": {
       "_model_module_version": "~2.1.4",
       "_view_module_version": "~2.1.4",
       "description": "T",
       "layout": "IPY_MODEL_c4f993a468414d6298ff24ec8472f593",
       "max": 2000,
       "step": 10,
       "style": "IPY_MODEL_3b093c99955b4b4a8c38f03b089a4e1e",
       "value": 300
      }
     },
     "ac6d1e6bfb5d4899b525247bf431330a": {
      "model_module": "jupyter-js-widgets",
      "model_module_version": "~2.1.4",
      "model_name": "LayoutModel",
      "state": {
       "_model_module_version": "~2.1.4",
       "_view_module_version": "~2.1.4"
      }
     },
     "ac8675d4ac90490ebfb1a88d93845033": {
      "model_module": "jupyter-js-widgets",
      "model_module_version": "~2.1.4",
      "model_name": "LayoutModel",
      "state": {
       "_model_module_version": "~2.1.4",
       "_view_module_version": "~2.1.4"
      }
     },
     "acfb939f19fb473aac091aa1bd4df954": {
      "model_module": "jupyter-js-widgets",
      "model_module_version": "~2.1.4",
      "model_name": "LayoutModel",
      "state": {
       "_model_module_version": "~2.1.4",
       "_view_module_version": "~2.1.4"
      }
     },
     "ad3534713d544280b0c4db73a6893c72": {
      "model_module": "jupyter-js-widgets",
      "model_module_version": "~2.1.4",
      "model_name": "IntSliderModel",
      "state": {
       "_model_module_version": "~2.1.4",
       "_view_module_version": "~2.1.4",
       "description": "ub",
       "layout": "IPY_MODEL_5aa684b31dde4868b84a504dc5c16696",
       "max": 0,
       "min": -10000,
       "step": 100,
       "style": "IPY_MODEL_6776805990fd43d1bdcad150b9b20b6a",
       "value": -1000
      }
     },
     "ae3d42c03e1a4fb29e6e5741f8fd8b1f": {
      "model_module": "jupyter-js-widgets",
      "model_module_version": "~2.1.4",
      "model_name": "SliderStyleModel",
      "state": {
       "_model_module_version": "~2.1.4",
       "_view_module_version": "~2.1.4"
      }
     },
     "ae9aeb3c8d314311ba8e7ceee5977af1": {
      "model_module": "jupyter-js-widgets",
      "model_module_version": "~2.1.4",
      "model_name": "LayoutModel",
      "state": {
       "_model_module_version": "~2.1.4",
       "_view_module_version": "~2.1.4"
      }
     },
     "aef44077ccb546f291f0be9350a2c9b7": {
      "model_module": "jupyter-js-widgets",
      "model_module_version": "~2.1.4",
      "model_name": "OutputModel",
      "state": {
       "_dom_classes": [],
       "_model_module": "jupyter-js-widgets",
       "_model_module_version": "~2.1.4",
       "_view_module": "jupyter-js-widgets",
       "_view_module_version": "~2.1.4",
       "layout": "IPY_MODEL_069926be44c84e499735788c2da2c252",
       "msg_throttle": 1
      }
     },
     "b168b3793b42482482300f11b1f8bd62": {
      "model_module": "jupyter-js-widgets",
      "model_module_version": "~2.1.4",
      "model_name": "IntSliderModel",
      "state": {
       "_model_module_version": "~2.1.4",
       "_view_module_version": "~2.1.4",
       "description": "Hmix",
       "layout": "IPY_MODEL_fa59c636c51844119a4d5a11386cc1d8",
       "max": 20000,
       "min": -10000,
       "step": 200,
       "style": "IPY_MODEL_06adb8c9b92045a3b43795fa1e3f110e"
      }
     },
     "b27f4d57509f49edba0889babd39d86e": {
      "model_module": "jupyter-js-widgets",
      "model_module_version": "~2.1.4",
      "model_name": "SliderStyleModel",
      "state": {
       "_model_module_version": "~2.1.4",
       "_view_module_version": "~2.1.4"
      }
     },
     "b35ea29f5d3d4359a5ac5f33feb9c00b": {
      "model_module": "jupyter-js-widgets",
      "model_module_version": "~2.1.4",
      "model_name": "IntSliderModel",
      "state": {
       "_model_module_version": "~2.1.4",
       "_view_module_version": "~2.1.4",
       "description": "ub",
       "layout": "IPY_MODEL_1dcd787a9dff485f89646867276b8411",
       "max": 0,
       "min": -10000,
       "step": 100,
       "style": "IPY_MODEL_3c8945b1e19b49bf86167758d9daa817",
       "value": -1000
      }
     },
     "b3781808e37147e9a86cfb6c505375dc": {
      "model_module": "jupyter-js-widgets",
      "model_module_version": "~2.1.4",
      "model_name": "SliderStyleModel",
      "state": {
       "_model_module_version": "~2.1.4",
       "_view_module_version": "~2.1.4"
      }
     },
     "b47efa43c65e4708b6e2642624005857": {
      "model_module": "jupyter-js-widgets",
      "model_module_version": "~2.1.4",
      "model_name": "VBoxModel",
      "state": {
       "_dom_classes": [
        "widget-interact"
       ],
       "_model_module_version": "~2.1.4",
       "_view_module_version": "~2.1.4",
       "children": [
        "IPY_MODEL_63f6985192c449d5b0e86c58e88f9008",
        "IPY_MODEL_df4a799478914e45943b340b569f89b9",
        "IPY_MODEL_fb924fa5d13f4fbd9b4aed49dbaae62d",
        "IPY_MODEL_326b44ccabef4df7844ab4796a7832c1",
        "IPY_MODEL_be3dc7532e67468da55c99e2c9151ccd"
       ],
       "layout": "IPY_MODEL_48b35b7d303744e688cbc68f2240f072"
      }
     },
     "b4a13ce78b254d4d8d5e663cbe331a11": {
      "model_module": "jupyter-js-widgets",
      "model_module_version": "~2.1.4",
      "model_name": "SliderStyleModel",
      "state": {
       "_model_module_version": "~2.1.4",
       "_view_module_version": "~2.1.4"
      }
     },
     "b4d40b6702e041a9973858445bb34c8f": {
      "model_module": "jupyter-js-widgets",
      "model_module_version": "~2.1.4",
      "model_name": "VBoxModel",
      "state": {
       "_dom_classes": [
        "widget-interact"
       ],
       "_model_module_version": "~2.1.4",
       "_view_module_version": "~2.1.4",
       "children": [
        "IPY_MODEL_58bed175d8ad467cb571fa6a9366d1f8",
        "IPY_MODEL_a6b4a41877c74acebe732ef34c0195a9",
        "IPY_MODEL_2de10f12d4984f6788966045e36958c5",
        "IPY_MODEL_9940e1bda49c4c74a408a0402dfbd45d",
        "IPY_MODEL_f5c82977e00748448e4a71e9b7989a7b"
       ],
       "layout": "IPY_MODEL_9779968a087d4e2eabdf2bb49b4fa30c"
      }
     },
     "b516c3b65d674737ae8feb1132cec207": {
      "model_module": "jupyter-js-widgets",
      "model_module_version": "~2.1.4",
      "model_name": "SliderStyleModel",
      "state": {
       "_model_module_version": "~2.1.4",
       "_view_module_version": "~2.1.4"
      }
     },
     "b71ccd6ffdcb4fd39629d56e35f56161": {
      "model_module": "jupyter-js-widgets",
      "model_module_version": "~2.1.4",
      "model_name": "IntSliderModel",
      "state": {
       "_model_module_version": "~2.1.4",
       "_view_module_version": "~2.1.4",
       "description": "T",
       "layout": "IPY_MODEL_9f8da3a59fd44bcaa33b778006ae2073",
       "max": 2000,
       "step": 10,
       "style": "IPY_MODEL_47a1def86e404c6e8431b494aa0f5180",
       "value": 300
      }
     },
     "b7de05e2a6f848b6baafa66bb7234177": {
      "model_module": "jupyter-js-widgets",
      "model_module_version": "~2.1.4",
      "model_name": "LayoutModel",
      "state": {
       "_model_module_version": "~2.1.4",
       "_view_module_version": "~2.1.4"
      }
     },
     "b91ee9a2d99346c3b09a9b27aae68867": {
      "model_module": "jupyter-js-widgets",
      "model_module_version": "~2.1.4",
      "model_name": "LayoutModel",
      "state": {
       "_model_module_version": "~2.1.4",
       "_view_module_version": "~2.1.4"
      }
     },
     "b96791b0b16e4d7896e84ee7728d50f7": {
      "model_module": "jupyter-js-widgets",
      "model_module_version": "~2.1.4",
      "model_name": "LayoutModel",
      "state": {
       "_model_module_version": "~2.1.4",
       "_view_module_version": "~2.1.4"
      }
     },
     "b989615b6f8c4609b557a80c3960deac": {
      "model_module": "jupyter-js-widgets",
      "model_module_version": "~2.1.4",
      "model_name": "LayoutModel",
      "state": {
       "_model_module_version": "~2.1.4",
       "_view_module_version": "~2.1.4"
      }
     },
     "ba1fd36066044e86af85d0eb5fa53b3b": {
      "model_module": "jupyter-js-widgets",
      "model_module_version": "~2.1.4",
      "model_name": "LayoutModel",
      "state": {
       "_model_module_version": "~2.1.4",
       "_view_module_version": "~2.1.4"
      }
     },
     "ba87e1b0712c418f9a7da90d19773c7b": {
      "model_module": "jupyter-js-widgets",
      "model_module_version": "~2.1.4",
      "model_name": "LayoutModel",
      "state": {
       "_model_module_version": "~2.1.4",
       "_view_module_version": "~2.1.4"
      }
     },
     "bbb6b7233c6a453da2f1cee1eabbf18e": {
      "model_module": "jupyter-js-widgets",
      "model_module_version": "~2.1.4",
      "model_name": "LayoutModel",
      "state": {
       "_model_module_version": "~2.1.4",
       "_view_module_version": "~2.1.4"
      }
     },
     "bc31d80c36f845b29cd09ea2f8804645": {
      "model_module": "jupyter-js-widgets",
      "model_module_version": "~2.1.4",
      "model_name": "VBoxModel",
      "state": {
       "_dom_classes": [
        "widget-interact"
       ],
       "_model_module_version": "~2.1.4",
       "_view_module_version": "~2.1.4",
       "children": [
        "IPY_MODEL_e14d49396a2a44cc8eb91a54742d9a76",
        "IPY_MODEL_2bbc081e4b3742afa94bc58bed02bfec",
        "IPY_MODEL_123a89071fff42738b68ac3ab782336f",
        "IPY_MODEL_b35ea29f5d3d4359a5ac5f33feb9c00b",
        "IPY_MODEL_6f3af795c9264a31a19e2572f16797b7"
       ],
       "layout": "IPY_MODEL_1aa112d20b83478993c1be43c227372c"
      }
     },
     "bc721caa6626497b93095cef45811033": {
      "model_module": "jupyter-js-widgets",
      "model_module_version": "~2.1.4",
      "model_name": "LayoutModel",
      "state": {
       "_model_module_version": "~2.1.4",
       "_view_module_version": "~2.1.4"
      }
     },
     "bcd97978579b4623a522d83db7a5793a": {
      "model_module": "jupyter-js-widgets",
      "model_module_version": "~2.1.4",
      "model_name": "IntSliderModel",
      "state": {
       "_model_module_version": "~2.1.4",
       "_view_module_version": "~2.1.4",
       "description": "ua",
       "layout": "IPY_MODEL_2ebd22c84e034c89b7613f7414e2122b",
       "max": 0,
       "min": -10000,
       "step": 100,
       "style": "IPY_MODEL_3020e2ef29bc4ed6ab022720cccfded8",
       "value": -2000
      }
     },
     "bcf092e335d64329af450e5f8adfbb3f": {
      "model_module": "jupyter-js-widgets",
      "model_module_version": "~2.1.4",
      "model_name": "LayoutModel",
      "state": {
       "_model_module_version": "~2.1.4",
       "_view_module_version": "~2.1.4"
      }
     },
     "bd3eeb0f2577425cafc81052b3e9f68a": {
      "model_module": "jupyter-js-widgets",
      "model_module_version": "~2.1.4",
      "model_name": "LayoutModel",
      "state": {
       "_model_module_version": "~2.1.4",
       "_view_module_version": "~2.1.4"
      }
     },
     "be0bdc945acc4ffb804e3b64a143a9e7": {
      "model_module": "jupyter-js-widgets",
      "model_module_version": "~2.1.4",
      "model_name": "IntSliderModel",
      "state": {
       "_model_module_version": "~2.1.4",
       "_view_module_version": "~2.1.4",
       "description": "ub",
       "layout": "IPY_MODEL_f4cc766a5a4a4badab0a85934d8372d9",
       "max": 0,
       "min": -10000,
       "step": 100,
       "style": "IPY_MODEL_114f8b5b851b4dd3b3407826a9ec2f3d",
       "value": -1000
      }
     },
     "be11c926f1ca4f89bf03623d231708e2": {
      "model_module": "jupyter-js-widgets",
      "model_module_version": "~2.1.4",
      "model_name": "SliderStyleModel",
      "state": {
       "_model_module_version": "~2.1.4",
       "_view_module_version": "~2.1.4"
      }
     },
     "be3dc7532e67468da55c99e2c9151ccd": {
      "model_module": "jupyter-js-widgets",
      "model_module_version": "~2.1.4",
      "model_name": "OutputModel",
      "state": {
       "_dom_classes": [],
       "_model_module": "jupyter-js-widgets",
       "_model_module_version": "~2.1.4",
       "_view_module": "jupyter-js-widgets",
       "_view_module_version": "~2.1.4",
       "layout": "IPY_MODEL_ce80d5ab01944daab2ebcb6065cb42f2",
       "msg_throttle": 1
      }
     },
     "bf1c1a2335b5490186b933218d195e09": {
      "model_module": "jupyter-js-widgets",
      "model_module_version": "~2.1.4",
      "model_name": "LayoutModel",
      "state": {
       "_model_module_version": "~2.1.4",
       "_view_module_version": "~2.1.4"
      }
     },
     "bf560025fba84c5f8839ec38a549453b": {
      "model_module": "jupyter-js-widgets",
      "model_module_version": "~2.1.4",
      "model_name": "LayoutModel",
      "state": {
       "_model_module_version": "~2.1.4",
       "_view_module_version": "~2.1.4"
      }
     },
     "bff639eb5d00460a97aea4afc33d49e9": {
      "model_module": "jupyter-js-widgets",
      "model_module_version": "~2.1.4",
      "model_name": "LayoutModel",
      "state": {
       "_model_module_version": "~2.1.4",
       "_view_module_version": "~2.1.4"
      }
     },
     "bfff2bab96ae48c29f9281126aefae8d": {
      "model_module": "jupyter-js-widgets",
      "model_module_version": "~2.1.4",
      "model_name": "SliderStyleModel",
      "state": {
       "_model_module_version": "~2.1.4",
       "_view_module_version": "~2.1.4"
      }
     },
     "c050eba33e3c4b10a38bc91cdd6d82ee": {
      "model_module": "jupyter-js-widgets",
      "model_module_version": "~2.1.4",
      "model_name": "LayoutModel",
      "state": {
       "_model_module_version": "~2.1.4",
       "_view_module_version": "~2.1.4"
      }
     },
     "c08c1da1bbc447a69cebff97e7ae69c4": {
      "model_module": "jupyter-js-widgets",
      "model_module_version": "~2.1.4",
      "model_name": "LayoutModel",
      "state": {
       "_model_module_version": "~2.1.4",
       "_view_module_version": "~2.1.4"
      }
     },
     "c0c334036cac44dea4f13e026f8957fb": {
      "model_module": "jupyter-js-widgets",
      "model_module_version": "~2.1.4",
      "model_name": "IntSliderModel",
      "state": {
       "_model_module_version": "~2.1.4",
       "_view_module_version": "~2.1.4",
       "description": "ub",
       "layout": "IPY_MODEL_b91ee9a2d99346c3b09a9b27aae68867",
       "max": 0,
       "min": -10000,
       "step": 100,
       "style": "IPY_MODEL_ef0107ad2b594c5497de2d54f60f7004",
       "value": -1000
      }
     },
     "c0fe97bf8e0e4375b2d864b2265f86eb": {
      "model_module": "jupyter-js-widgets",
      "model_module_version": "~2.1.4",
      "model_name": "IntSliderModel",
      "state": {
       "_model_module_version": "~2.1.4",
       "_view_module_version": "~2.1.4",
       "description": "ua",
       "layout": "IPY_MODEL_bc721caa6626497b93095cef45811033",
       "max": 0,
       "min": -10000,
       "step": 100,
       "style": "IPY_MODEL_de5a84a765ab44b5bc6ee48b3245cd1e",
       "value": -2000
      }
     },
     "c12afb5d37cb42448f8f46d43068e4ae": {
      "model_module": "jupyter-js-widgets",
      "model_module_version": "~2.1.4",
      "model_name": "LayoutModel",
      "state": {
       "_model_module_version": "~2.1.4",
       "_view_module_version": "~2.1.4"
      }
     },
     "c14442d06f0c46bb8721292eaa5136de": {
      "model_module": "jupyter-js-widgets",
      "model_module_version": "~2.1.4",
      "model_name": "IntSliderModel",
      "state": {
       "_model_module_version": "~2.1.4",
       "_view_module_version": "~2.1.4",
       "description": "ua",
       "layout": "IPY_MODEL_f33cc2deda7f49e8b28fe48f3aa7e8ad",
       "max": 0,
       "min": -10000,
       "step": 100,
       "style": "IPY_MODEL_70ec842f089b490e9f9515e3ba73b6ce",
       "value": -2000
      }
     },
     "c152327f749b4b0d9292a544a15eedd8": {
      "model_module": "jupyter-js-widgets",
      "model_module_version": "~2.1.4",
      "model_name": "IntSliderModel",
      "state": {
       "_model_module_version": "~2.1.4",
       "_view_module_version": "~2.1.4",
       "description": "ua",
       "layout": "IPY_MODEL_18425804431743188159ab32724ffa5d",
       "max": 0,
       "min": -10000,
       "step": 100,
       "style": "IPY_MODEL_be11c926f1ca4f89bf03623d231708e2",
       "value": -2000
      }
     },
     "c1a096a265164df2aaa98d4b7fc88bd6": {
      "model_module": "jupyter-js-widgets",
      "model_module_version": "~2.1.4",
      "model_name": "LayoutModel",
      "state": {
       "_model_module_version": "~2.1.4",
       "_view_module_version": "~2.1.4"
      }
     },
     "c2593134e7ba4c13ad8cbe52bc59349c": {
      "model_module": "jupyter-js-widgets",
      "model_module_version": "~2.1.4",
      "model_name": "LayoutModel",
      "state": {
       "_model_module_version": "~2.1.4",
       "_view_module_version": "~2.1.4"
      }
     },
     "c3244d103dc943c1b8ca151fe26b709c": {
      "model_module": "jupyter-js-widgets",
      "model_module_version": "~2.1.4",
      "model_name": "OutputModel",
      "state": {
       "_dom_classes": [],
       "_model_module": "jupyter-js-widgets",
       "_model_module_version": "~2.1.4",
       "_view_module": "jupyter-js-widgets",
       "_view_module_version": "~2.1.4",
       "layout": "IPY_MODEL_84672bb4b34f4a149d047f64b894b3b6",
       "msg_throttle": 1
      }
     },
     "c380bdd244bc46178b1e5d69daff75cb": {
      "model_module": "jupyter-js-widgets",
      "model_module_version": "~2.1.4",
      "model_name": "SliderStyleModel",
      "state": {
       "_model_module_version": "~2.1.4",
       "_view_module_version": "~2.1.4"
      }
     },
     "c445649ec2984aa6bfaab34aadfc218e": {
      "model_module": "jupyter-js-widgets",
      "model_module_version": "~2.1.4",
      "model_name": "SliderStyleModel",
      "state": {
       "_model_module_version": "~2.1.4",
       "_view_module_version": "~2.1.4"
      }
     },
     "c4b6da451d8a477da87550e6c3029a68": {
      "model_module": "jupyter-js-widgets",
      "model_module_version": "~2.1.4",
      "model_name": "LayoutModel",
      "state": {
       "_model_module_version": "~2.1.4",
       "_view_module_version": "~2.1.4"
      }
     },
     "c4f993a468414d6298ff24ec8472f593": {
      "model_module": "jupyter-js-widgets",
      "model_module_version": "~2.1.4",
      "model_name": "LayoutModel",
      "state": {
       "_model_module_version": "~2.1.4",
       "_view_module_version": "~2.1.4"
      }
     },
     "c585c49c60ca462fac811ee789c88c99": {
      "model_module": "jupyter-js-widgets",
      "model_module_version": "~2.1.4",
      "model_name": "IntSliderModel",
      "state": {
       "_model_module_version": "~2.1.4",
       "_view_module_version": "~2.1.4",
       "description": "T",
       "layout": "IPY_MODEL_bcf092e335d64329af450e5f8adfbb3f",
       "max": 2000,
       "step": 10,
       "style": "IPY_MODEL_5394a751370a441499758d73e472514c",
       "value": 300
      }
     },
     "c645decf955a45f98388ec2b055cd079": {
      "model_module": "jupyter-js-widgets",
      "model_module_version": "~2.1.4",
      "model_name": "SliderStyleModel",
      "state": {
       "_model_module_version": "~2.1.4",
       "_view_module_version": "~2.1.4"
      }
     },
     "c67b6d924ea6430db9a84008b37a8824": {
      "model_module": "jupyter-js-widgets",
      "model_module_version": "~2.1.4",
      "model_name": "IntSliderModel",
      "state": {
       "_model_module_version": "~2.1.4",
       "_view_module_version": "~2.1.4",
       "description": "ub",
       "layout": "IPY_MODEL_0de0ce3d82ae439c890d28aac0162df7",
       "max": 0,
       "min": -10000,
       "step": 100,
       "style": "IPY_MODEL_1e7355da48b74e96be815bac43829c3a",
       "value": -1000
      }
     },
     "c815e3fe5e514879bd7c5cecfe7c5639": {
      "model_module": "jupyter-js-widgets",
      "model_module_version": "~2.1.4",
      "model_name": "SliderStyleModel",
      "state": {
       "_model_module_version": "~2.1.4",
       "_view_module_version": "~2.1.4"
      }
     },
     "c82f9aacbe3c45508e7346005d6c0854": {
      "model_module": "jupyter-js-widgets",
      "model_module_version": "~2.1.4",
      "model_name": "LayoutModel",
      "state": {
       "_model_module_version": "~2.1.4",
       "_view_module_version": "~2.1.4"
      }
     },
     "c897f07945a44e01ac57aa996c94fbb0": {
      "model_module": "jupyter-js-widgets",
      "model_module_version": "~2.1.4",
      "model_name": "IntSliderModel",
      "state": {
       "_model_module_version": "~2.1.4",
       "_view_module_version": "~2.1.4",
       "description": "Hmix",
       "layout": "IPY_MODEL_03aa797449954b6f9c222fc69449b031",
       "max": 20000,
       "min": -10000,
       "step": 200,
       "style": "IPY_MODEL_7e88b626277d45d8999003fa1c610f68"
      }
     },
     "c91c90798e25404ab06e301f722d1643": {
      "model_module": "jupyter-js-widgets",
      "model_module_version": "~2.1.4",
      "model_name": "IntSliderModel",
      "state": {
       "_model_module_version": "~2.1.4",
       "_view_module_version": "~2.1.4",
       "description": "Hmix",
       "layout": "IPY_MODEL_7798ea588496423cbe38033681ab7a8d",
       "max": 20000,
       "min": -10000,
       "step": 200,
       "style": "IPY_MODEL_c9b813a0af0541e990224684b3a0eb7a"
      }
     },
     "c9b813a0af0541e990224684b3a0eb7a": {
      "model_module": "jupyter-js-widgets",
      "model_module_version": "~2.1.4",
      "model_name": "SliderStyleModel",
      "state": {
       "_model_module_version": "~2.1.4",
       "_view_module_version": "~2.1.4"
      }
     },
     "cad2fe5c34494e4fa222472fbb23fa2a": {
      "model_module": "jupyter-js-widgets",
      "model_module_version": "~2.1.4",
      "model_name": "SliderStyleModel",
      "state": {
       "_model_module_version": "~2.1.4",
       "_view_module_version": "~2.1.4"
      }
     },
     "ccb87846c1b94481b08209a871abb793": {
      "model_module": "jupyter-js-widgets",
      "model_module_version": "~2.1.4",
      "model_name": "IntSliderModel",
      "state": {
       "_model_module_version": "~2.1.4",
       "_view_module_version": "~2.1.4",
       "description": "ub",
       "layout": "IPY_MODEL_64f380b4e9fa403c829dc14010f62df3",
       "max": 0,
       "min": -10000,
       "step": 100,
       "style": "IPY_MODEL_09cc3600e7214892a57a69bb41f3e534",
       "value": -1000
      }
     },
     "ccd54ae6f5574d07a5c5af5c0a996008": {
      "model_module": "jupyter-js-widgets",
      "model_module_version": "~2.1.4",
      "model_name": "SliderStyleModel",
      "state": {
       "_model_module_version": "~2.1.4",
       "_view_module_version": "~2.1.4"
      }
     },
     "ce80d5ab01944daab2ebcb6065cb42f2": {
      "model_module": "jupyter-js-widgets",
      "model_module_version": "~2.1.4",
      "model_name": "LayoutModel",
      "state": {
       "_model_module_version": "~2.1.4",
       "_view_module_version": "~2.1.4"
      }
     },
     "cf47aba4020d4dae92583430232f90b1": {
      "model_module": "jupyter-js-widgets",
      "model_module_version": "~2.1.4",
      "model_name": "VBoxModel",
      "state": {
       "_dom_classes": [
        "widget-interact"
       ],
       "_model_module_version": "~2.1.4",
       "_view_module_version": "~2.1.4",
       "children": [
        "IPY_MODEL_d5139f2b15e44414970b38f99b2a2639",
        "IPY_MODEL_231f2d9f82fb446c8f5ce395644ef4b6",
        "IPY_MODEL_bcd97978579b4623a522d83db7a5793a",
        "IPY_MODEL_ed217a2cdbaf451ea5bf08d7cc55fa56",
        "IPY_MODEL_1090c79842484601ab280a320d588907"
       ],
       "layout": "IPY_MODEL_31d9c9c7b1694d2db97063a51e726492"
      }
     },
     "cfa1d0fe01564ee2804a7ac954330b3d": {
      "model_module": "jupyter-js-widgets",
      "model_module_version": "~2.1.4",
      "model_name": "SliderStyleModel",
      "state": {
       "_model_module_version": "~2.1.4",
       "_view_module_version": "~2.1.4"
      }
     },
     "d10f8711d9d544508408a397f70caddf": {
      "model_module": "jupyter-js-widgets",
      "model_module_version": "~2.1.4",
      "model_name": "LayoutModel",
      "state": {
       "_model_module_version": "~2.1.4",
       "_view_module_version": "~2.1.4"
      }
     },
     "d3ce5d9d71574a18a097c4e6353006e1": {
      "model_module": "jupyter-js-widgets",
      "model_module_version": "~2.1.4",
      "model_name": "VBoxModel",
      "state": {
       "_dom_classes": [
        "widget-interact"
       ],
       "_model_module_version": "~2.1.4",
       "_view_module_version": "~2.1.4",
       "children": [
        "IPY_MODEL_8814b3f2226d4984b3a94348aff3630d",
        "IPY_MODEL_4e9d079d9f824553ae9871d39b2c3e8c",
        "IPY_MODEL_a2b91a89e6c9480aac5d2c5061218999",
        "IPY_MODEL_03fcc0e67ef54b639d290e3a64f90946",
        "IPY_MODEL_5844658a90574b9793f4dca60b5f1522"
       ],
       "layout": "IPY_MODEL_fc59379e5401440ebfaf974ace564969"
      }
     },
     "d3f01fc860674e7cb40f26f50f54755d": {
      "model_module": "jupyter-js-widgets",
      "model_module_version": "~2.1.4",
      "model_name": "LayoutModel",
      "state": {
       "_model_module_version": "~2.1.4",
       "_view_module_version": "~2.1.4"
      }
     },
     "d5139f2b15e44414970b38f99b2a2639": {
      "model_module": "jupyter-js-widgets",
      "model_module_version": "~2.1.4",
      "model_name": "IntSliderModel",
      "state": {
       "_model_module_version": "~2.1.4",
       "_view_module_version": "~2.1.4",
       "description": "T",
       "layout": "IPY_MODEL_c4b6da451d8a477da87550e6c3029a68",
       "max": 2000,
       "step": 10,
       "style": "IPY_MODEL_5df349a139d74a3cb03ff43cac5056f6",
       "value": 970
      }
     },
     "d595884d7d39426da750381858a60067": {
      "model_module": "jupyter-js-widgets",
      "model_module_version": "~2.1.4",
      "model_name": "LayoutModel",
      "state": {
       "_model_module_version": "~2.1.4",
       "_view_module_version": "~2.1.4"
      }
     },
     "d5e291f3f9f2483582fbe002bafa325e": {
      "model_module": "jupyter-js-widgets",
      "model_module_version": "~2.1.4",
      "model_name": "SliderStyleModel",
      "state": {
       "_model_module_version": "~2.1.4",
       "_view_module_version": "~2.1.4"
      }
     },
     "d5e96f09f4394e5480b04a5713b60baa": {
      "model_module": "jupyter-js-widgets",
      "model_module_version": "~2.1.4",
      "model_name": "SliderStyleModel",
      "state": {
       "_model_module_version": "~2.1.4",
       "_view_module_version": "~2.1.4"
      }
     },
     "d61de403434548a9a1fad5c7709db81b": {
      "model_module": "jupyter-js-widgets",
      "model_module_version": "~2.1.4",
      "model_name": "IntSliderModel",
      "state": {
       "_model_module_version": "~2.1.4",
       "_view_module_version": "~2.1.4",
       "description": "ub",
       "layout": "IPY_MODEL_18012348365749839077b100aa4f7ae5",
       "max": 0,
       "min": -10000,
       "step": 100,
       "style": "IPY_MODEL_9d66c172693449cd8d507bec07bfd016",
       "value": -1000
      }
     },
     "d931f6cf18be44cb9b6432adcbac1dfb": {
      "model_module": "jupyter-js-widgets",
      "model_module_version": "~2.1.4",
      "model_name": "SliderStyleModel",
      "state": {
       "_model_module_version": "~2.1.4",
       "_view_module_version": "~2.1.4"
      }
     },
     "d9d18c3384864772ab49a326148ed20d": {
      "model_module": "jupyter-js-widgets",
      "model_module_version": "~2.1.4",
      "model_name": "IntSliderModel",
      "state": {
       "_model_module_version": "~2.1.4",
       "_view_module_version": "~2.1.4",
       "description": "T",
       "layout": "IPY_MODEL_efab8a56a6d14bd0b915a422480986f1",
       "max": 2000,
       "step": 10,
       "style": "IPY_MODEL_4cdff3b7c8584cf6a2379f44b317b4ff",
       "value": 300
      }
     },
     "da179ec0f99245f1a50ed7ab44652827": {
      "model_module": "jupyter-js-widgets",
      "model_module_version": "~2.1.4",
      "model_name": "SliderStyleModel",
      "state": {
       "_model_module_version": "~2.1.4",
       "_view_module_version": "~2.1.4"
      }
     },
     "da341255943d470f9e10298fc4932e25": {
      "model_module": "jupyter-js-widgets",
      "model_module_version": "~2.1.4",
      "model_name": "LayoutModel",
      "state": {
       "_model_module_version": "~2.1.4",
       "_view_module_version": "~2.1.4"
      }
     },
     "da50e5a1cf9a47209ac813afcf1b3ff9": {
      "model_module": "jupyter-js-widgets",
      "model_module_version": "~2.1.4",
      "model_name": "SliderStyleModel",
      "state": {
       "_model_module_version": "~2.1.4",
       "_view_module_version": "~2.1.4"
      }
     },
     "da8af694c5b64c21a2f41dcc7bafebce": {
      "model_module": "jupyter-js-widgets",
      "model_module_version": "~2.1.4",
      "model_name": "SliderStyleModel",
      "state": {
       "_model_module_version": "~2.1.4",
       "_view_module_version": "~2.1.4"
      }
     },
     "db60591021db4f678aad5e91508460c8": {
      "model_module": "jupyter-js-widgets",
      "model_module_version": "~2.1.4",
      "model_name": "LayoutModel",
      "state": {
       "_model_module_version": "~2.1.4",
       "_view_module_version": "~2.1.4"
      }
     },
     "dcba911e78514a3eb86e118ff592ef2e": {
      "model_module": "jupyter-js-widgets",
      "model_module_version": "~2.1.4",
      "model_name": "SliderStyleModel",
      "state": {
       "_model_module_version": "~2.1.4",
       "_view_module_version": "~2.1.4"
      }
     },
     "dd1994916bac4d30b81e6e4700793bc5": {
      "model_module": "jupyter-js-widgets",
      "model_module_version": "~2.1.4",
      "model_name": "LayoutModel",
      "state": {
       "_model_module_version": "~2.1.4",
       "_view_module_version": "~2.1.4"
      }
     },
     "de32ab1093f74b5c97ff2e86a1c5eb60": {
      "model_module": "jupyter-js-widgets",
      "model_module_version": "~2.1.4",
      "model_name": "IntSliderModel",
      "state": {
       "_model_module_version": "~2.1.4",
       "_view_module_version": "~2.1.4",
       "description": "ub",
       "layout": "IPY_MODEL_5da75f54f3334b559d3b9b68d9047cfb",
       "max": 0,
       "min": -10000,
       "step": 100,
       "style": "IPY_MODEL_17bbba2619cf45e8a8c3380dc0afdaff",
       "value": -1000
      }
     },
     "de5a84a765ab44b5bc6ee48b3245cd1e": {
      "model_module": "jupyter-js-widgets",
      "model_module_version": "~2.1.4",
      "model_name": "SliderStyleModel",
      "state": {
       "_model_module_version": "~2.1.4",
       "_view_module_version": "~2.1.4"
      }
     },
     "de71ffd41b58460ba96b176980e70d85": {
      "model_module": "jupyter-js-widgets",
      "model_module_version": "~2.1.4",
      "model_name": "SliderStyleModel",
      "state": {
       "_model_module_version": "~2.1.4",
       "_view_module_version": "~2.1.4"
      }
     },
     "df4a799478914e45943b340b569f89b9": {
      "model_module": "jupyter-js-widgets",
      "model_module_version": "~2.1.4",
      "model_name": "IntSliderModel",
      "state": {
       "_model_module_version": "~2.1.4",
       "_view_module_version": "~2.1.4",
       "description": "Hmix",
       "layout": "IPY_MODEL_49adc82008cb4eca966957b9e4990128",
       "max": 20000,
       "min": -10000,
       "step": 200,
       "style": "IPY_MODEL_540a0876847a4a5c9900fc891669e35d",
       "value": 3400
      }
     },
     "df6bab7290484c1da5f3360950ba4dd6": {
      "model_module": "jupyter-js-widgets",
      "model_module_version": "~2.1.4",
      "model_name": "VBoxModel",
      "state": {
       "_dom_classes": [
        "widget-interact"
       ],
       "_model_module_version": "~2.1.4",
       "_view_module_version": "~2.1.4",
       "children": [
        "IPY_MODEL_9116384449a9429bb6ef6e3c016bf8c0",
        "IPY_MODEL_fa246e08819143658eda22fabb2f49d3",
        "IPY_MODEL_5b86a773f74d4c139d7135921507ce9e",
        "IPY_MODEL_a2ba4f9d14334512b263fceb713dba25",
        "IPY_MODEL_aef44077ccb546f291f0be9350a2c9b7"
       ],
       "layout": "IPY_MODEL_db60591021db4f678aad5e91508460c8"
      }
     },
     "e0256e3e00d74d1f8a18f547d481ebea": {
      "model_module": "jupyter-js-widgets",
      "model_module_version": "~2.1.4",
      "model_name": "LayoutModel",
      "state": {
       "_model_module_version": "~2.1.4",
       "_view_module_version": "~2.1.4"
      }
     },
     "e0287604373c449fa8877de01caa05dd": {
      "model_module": "jupyter-js-widgets",
      "model_module_version": "~2.1.4",
      "model_name": "IntSliderModel",
      "state": {
       "_model_module_version": "~2.1.4",
       "_view_module_version": "~2.1.4",
       "description": "ub",
       "layout": "IPY_MODEL_e0256e3e00d74d1f8a18f547d481ebea",
       "max": 0,
       "min": -10000,
       "step": 100,
       "style": "IPY_MODEL_76e1976ce40b4fbc8d7a86330c67938e",
       "value": -1000
      }
     },
     "e11ddfcfb8374ad3814601c358a6c07e": {
      "model_module": "jupyter-js-widgets",
      "model_module_version": "~2.1.4",
      "model_name": "LayoutModel",
      "state": {
       "_model_module_version": "~2.1.4",
       "_view_module_version": "~2.1.4"
      }
     },
     "e14d49396a2a44cc8eb91a54742d9a76": {
      "model_module": "jupyter-js-widgets",
      "model_module_version": "~2.1.4",
      "model_name": "IntSliderModel",
      "state": {
       "_model_module_version": "~2.1.4",
       "_view_module_version": "~2.1.4",
       "description": "T",
       "layout": "IPY_MODEL_60dd2dc061254ede876c07224f608572",
       "max": 2000,
       "step": 10,
       "style": "IPY_MODEL_244af5f97eb04b6f8e661c16d35efde9",
       "value": 300
      }
     },
     "e1924c61118a41b9b9430767f6fff89c": {
      "model_module": "jupyter-js-widgets",
      "model_module_version": "~2.1.4",
      "model_name": "IntSliderModel",
      "state": {
       "_model_module_version": "~2.1.4",
       "_view_module_version": "~2.1.4",
       "description": "ub",
       "layout": "IPY_MODEL_da341255943d470f9e10298fc4932e25",
       "max": 0,
       "min": -10000,
       "step": 100,
       "style": "IPY_MODEL_c815e3fe5e514879bd7c5cecfe7c5639",
       "value": -1000
      }
     },
     "e19b4cc559ee48e280e2bfda96e49ef3": {
      "model_module": "jupyter-js-widgets",
      "model_module_version": "~2.1.4",
      "model_name": "LayoutModel",
      "state": {
       "_model_module_version": "~2.1.4",
       "_view_module_version": "~2.1.4"
      }
     },
     "e2eee51e158a43c4b55efe355d1d4ce3": {
      "model_module": "jupyter-js-widgets",
      "model_module_version": "~2.1.4",
      "model_name": "LayoutModel",
      "state": {
       "_model_module_version": "~2.1.4",
       "_view_module_version": "~2.1.4"
      }
     },
     "e31e6828938047de9272300b9e2b4613": {
      "model_module": "jupyter-js-widgets",
      "model_module_version": "~2.1.4",
      "model_name": "SliderStyleModel",
      "state": {
       "_model_module_version": "~2.1.4",
       "_view_module_version": "~2.1.4"
      }
     },
     "e324d9b4b91f4b3ab37a51859c53f2fd": {
      "model_module": "jupyter-js-widgets",
      "model_module_version": "~2.1.4",
      "model_name": "SliderStyleModel",
      "state": {
       "_model_module_version": "~2.1.4",
       "_view_module_version": "~2.1.4"
      }
     },
     "e3dd09dc5a464c5194a7fcbe82b94377": {
      "model_module": "jupyter-js-widgets",
      "model_module_version": "~2.1.4",
      "model_name": "IntSliderModel",
      "state": {
       "_model_module_version": "~2.1.4",
       "_view_module_version": "~2.1.4",
       "description": "ua",
       "layout": "IPY_MODEL_7ed2a9f0eb8c465284a470db635034fb",
       "max": 0,
       "min": -10000,
       "step": 100,
       "style": "IPY_MODEL_c645decf955a45f98388ec2b055cd079",
       "value": -2000
      }
     },
     "e56ce495d8594feb9529ec815b8c8a59": {
      "model_module": "jupyter-js-widgets",
      "model_module_version": "~2.1.4",
      "model_name": "VBoxModel",
      "state": {
       "_dom_classes": [
        "widget-interact"
       ],
       "_model_module_version": "~2.1.4",
       "_view_module_version": "~2.1.4",
       "children": [
        "IPY_MODEL_b71ccd6ffdcb4fd39629d56e35f56161",
        "IPY_MODEL_5ca98146773c4dc8a68868d0f0f3272a",
        "IPY_MODEL_73125b4efcb6492db47ff14db4f35a69",
        "IPY_MODEL_ccb87846c1b94481b08209a871abb793",
        "IPY_MODEL_539f1eaf4b6e4851bc5e25984c8cae21"
       ],
       "layout": "IPY_MODEL_b989615b6f8c4609b557a80c3960deac"
      }
     },
     "e58367a3f9984df2a7a062bbf46060d8": {
      "model_module": "jupyter-js-widgets",
      "model_module_version": "~2.1.4",
      "model_name": "LayoutModel",
      "state": {
       "_model_module_version": "~2.1.4",
       "_view_module_version": "~2.1.4"
      }
     },
     "e5ebd4b3dc254cfd8aed6186fa05a702": {
      "model_module": "jupyter-js-widgets",
      "model_module_version": "~2.1.4",
      "model_name": "IntSliderModel",
      "state": {
       "_model_module_version": "~2.1.4",
       "_view_module_version": "~2.1.4",
       "description": "ub",
       "layout": "IPY_MODEL_eb29cf25537042fbbeee1fe23e4fa2bb",
       "max": 0,
       "min": -10000,
       "step": 100,
       "style": "IPY_MODEL_3065b96215f5444fa258450a1eea9f42",
       "value": -1000
      }
     },
     "e9ea3588f6b6455da018b4ca70329b17": {
      "model_module": "jupyter-js-widgets",
      "model_module_version": "~2.1.4",
      "model_name": "LayoutModel",
      "state": {
       "_model_module_version": "~2.1.4",
       "_view_module_version": "~2.1.4"
      }
     },
     "ea1b7141d2d34a4e95743655afd11c4f": {
      "model_module": "jupyter-js-widgets",
      "model_module_version": "~2.1.4",
      "model_name": "LayoutModel",
      "state": {
       "_model_module_version": "~2.1.4",
       "_view_module_version": "~2.1.4"
      }
     },
     "ea4908dc91ad4b9180635dbab20952f9": {
      "model_module": "jupyter-js-widgets",
      "model_module_version": "~2.1.4",
      "model_name": "LayoutModel",
      "state": {
       "_model_module_version": "~2.1.4",
       "_view_module_version": "~2.1.4"
      }
     },
     "ea5bb2f386344a2782343ed8bd02f8a5": {
      "model_module": "jupyter-js-widgets",
      "model_module_version": "~2.1.4",
      "model_name": "LayoutModel",
      "state": {
       "_model_module_version": "~2.1.4",
       "_view_module_version": "~2.1.4"
      }
     },
     "eb29cf25537042fbbeee1fe23e4fa2bb": {
      "model_module": "jupyter-js-widgets",
      "model_module_version": "~2.1.4",
      "model_name": "LayoutModel",
      "state": {
       "_model_module_version": "~2.1.4",
       "_view_module_version": "~2.1.4"
      }
     },
     "ed217a2cdbaf451ea5bf08d7cc55fa56": {
      "model_module": "jupyter-js-widgets",
      "model_module_version": "~2.1.4",
      "model_name": "IntSliderModel",
      "state": {
       "_model_module_version": "~2.1.4",
       "_view_module_version": "~2.1.4",
       "description": "ub",
       "layout": "IPY_MODEL_ae9aeb3c8d314311ba8e7ceee5977af1",
       "max": 0,
       "min": -10000,
       "step": 100,
       "style": "IPY_MODEL_0df91cc22558414fa05a51a25beb88f3",
       "value": -1000
      }
     },
     "ee3bd0fc38f54283bb4f4e06f46bc679": {
      "model_module": "jupyter-js-widgets",
      "model_module_version": "~2.1.4",
      "model_name": "IntSliderModel",
      "state": {
       "_model_module_version": "~2.1.4",
       "_view_module_version": "~2.1.4",
       "description": "T",
       "layout": "IPY_MODEL_2010161574fb4d6e9f7fac9c23aba364",
       "max": 2000,
       "step": 10,
       "style": "IPY_MODEL_2231467240f94f288d7488bd65a64cbb",
       "value": 300
      }
     },
     "ef0107ad2b594c5497de2d54f60f7004": {
      "model_module": "jupyter-js-widgets",
      "model_module_version": "~2.1.4",
      "model_name": "SliderStyleModel",
      "state": {
       "_model_module_version": "~2.1.4",
       "_view_module_version": "~2.1.4"
      }
     },
     "efa0c6d1f6974599b01d71157bca7c93": {
      "model_module": "jupyter-js-widgets",
      "model_module_version": "~2.1.4",
      "model_name": "VBoxModel",
      "state": {
       "_dom_classes": [
        "widget-interact"
       ],
       "_model_module_version": "~2.1.4",
       "_view_module_version": "~2.1.4",
       "children": [
        "IPY_MODEL_0d04b9e5c83d40e8b30d728bedaed2de",
        "IPY_MODEL_96d47bfd0ea34148be8e986e5be69e47",
        "IPY_MODEL_3d02b16e7be448e998beb9371a23eb70",
        "IPY_MODEL_e5ebd4b3dc254cfd8aed6186fa05a702",
        "IPY_MODEL_2c4c9c1437164ebebed35d4b9839d36c"
       ],
       "layout": "IPY_MODEL_198e34658ac2485099045b702cfc4156"
      }
     },
     "efab8a56a6d14bd0b915a422480986f1": {
      "model_module": "jupyter-js-widgets",
      "model_module_version": "~2.1.4",
      "model_name": "LayoutModel",
      "state": {
       "_model_module_version": "~2.1.4",
       "_view_module_version": "~2.1.4"
      }
     },
     "efee619d79274fa2a03830294f9496d8": {
      "model_module": "jupyter-js-widgets",
      "model_module_version": "~2.1.4",
      "model_name": "SliderStyleModel",
      "state": {
       "_model_module_version": "~2.1.4",
       "_view_module_version": "~2.1.4"
      }
     },
     "f03e4d98a70a48939707127396c2ce8d": {
      "model_module": "jupyter-js-widgets",
      "model_module_version": "~2.1.4",
      "model_name": "LayoutModel",
      "state": {
       "_model_module_version": "~2.1.4",
       "_view_module_version": "~2.1.4"
      }
     },
     "f0bd5694f198474fac5f7eed84c29b9a": {
      "model_module": "jupyter-js-widgets",
      "model_module_version": "~2.1.4",
      "model_name": "LayoutModel",
      "state": {
       "_model_module_version": "~2.1.4",
       "_view_module_version": "~2.1.4"
      }
     },
     "f1995ae7a7794edb9d6fa04d80095b85": {
      "model_module": "jupyter-js-widgets",
      "model_module_version": "~2.1.4",
      "model_name": "IntSliderModel",
      "state": {
       "_model_module_version": "~2.1.4",
       "_view_module_version": "~2.1.4",
       "description": "ua",
       "layout": "IPY_MODEL_3f0a2bf02aca4be69f0136ad3e1c857d",
       "max": 0,
       "min": -10000,
       "step": 100,
       "style": "IPY_MODEL_0360c7bb728b43ab8a30574ac76b3d8c",
       "value": -2000
      }
     },
     "f29a7c840daa4407b3642a0dcab92dfd": {
      "model_module": "jupyter-js-widgets",
      "model_module_version": "~2.1.4",
      "model_name": "LayoutModel",
      "state": {
       "_model_module_version": "~2.1.4",
       "_view_module_version": "~2.1.4"
      }
     },
     "f33cc2deda7f49e8b28fe48f3aa7e8ad": {
      "model_module": "jupyter-js-widgets",
      "model_module_version": "~2.1.4",
      "model_name": "LayoutModel",
      "state": {
       "_model_module_version": "~2.1.4",
       "_view_module_version": "~2.1.4"
      }
     },
     "f4cc766a5a4a4badab0a85934d8372d9": {
      "model_module": "jupyter-js-widgets",
      "model_module_version": "~2.1.4",
      "model_name": "LayoutModel",
      "state": {
       "_model_module_version": "~2.1.4",
       "_view_module_version": "~2.1.4"
      }
     },
     "f5300e746f244aa7be4c2c55bc162fa2": {
      "model_module": "jupyter-js-widgets",
      "model_module_version": "~2.1.4",
      "model_name": "SliderStyleModel",
      "state": {
       "_model_module_version": "~2.1.4",
       "_view_module_version": "~2.1.4"
      }
     },
     "f5c82977e00748448e4a71e9b7989a7b": {
      "model_module": "jupyter-js-widgets",
      "model_module_version": "~2.1.4",
      "model_name": "OutputModel",
      "state": {
       "_dom_classes": [],
       "_model_module": "jupyter-js-widgets",
       "_model_module_version": "~2.1.4",
       "_view_module": "jupyter-js-widgets",
       "_view_module_version": "~2.1.4",
       "layout": "IPY_MODEL_9c2e629d4efb4dbabf1ccafa52ac1ea3",
       "msg_throttle": 1
      }
     },
     "f8e6e348035a4dce8b9e4a46a5ac76a0": {
      "model_module": "jupyter-js-widgets",
      "model_module_version": "~2.1.4",
      "model_name": "IntSliderModel",
      "state": {
       "_model_module_version": "~2.1.4",
       "_view_module_version": "~2.1.4",
       "description": "Hmix",
       "layout": "IPY_MODEL_2a1346806d0a4dc89d945b76539f590f",
       "max": 20000,
       "min": -10000,
       "step": 200,
       "style": "IPY_MODEL_ae3d42c03e1a4fb29e6e5741f8fd8b1f"
      }
     },
     "f8e989d911034cf7921599ba39e81c2b": {
      "model_module": "jupyter-js-widgets",
      "model_module_version": "~2.1.4",
      "model_name": "LayoutModel",
      "state": {
       "_model_module_version": "~2.1.4",
       "_view_module_version": "~2.1.4"
      }
     },
     "fa246e08819143658eda22fabb2f49d3": {
      "model_module": "jupyter-js-widgets",
      "model_module_version": "~2.1.4",
      "model_name": "IntSliderModel",
      "state": {
       "_model_module_version": "~2.1.4",
       "_view_module_version": "~2.1.4",
       "description": "Hmix",
       "layout": "IPY_MODEL_acfb939f19fb473aac091aa1bd4df954",
       "max": 20000,
       "min": -10000,
       "step": 200,
       "style": "IPY_MODEL_18c31ba2f59c475da86578a1ea9d54f6"
      }
     },
     "fa59c636c51844119a4d5a11386cc1d8": {
      "model_module": "jupyter-js-widgets",
      "model_module_version": "~2.1.4",
      "model_name": "LayoutModel",
      "state": {
       "_model_module_version": "~2.1.4",
       "_view_module_version": "~2.1.4"
      }
     },
     "fb924fa5d13f4fbd9b4aed49dbaae62d": {
      "model_module": "jupyter-js-widgets",
      "model_module_version": "~2.1.4",
      "model_name": "IntSliderModel",
      "state": {
       "_model_module_version": "~2.1.4",
       "_view_module_version": "~2.1.4",
       "description": "ua",
       "layout": "IPY_MODEL_fcf3e0c1216f40ac847a822c3d90a016",
       "max": 0,
       "min": -10000,
       "step": 100,
       "style": "IPY_MODEL_5962a345743c4aa7a92bcb5bc009bd82",
       "value": -2000
      }
     },
     "fc59379e5401440ebfaf974ace564969": {
      "model_module": "jupyter-js-widgets",
      "model_module_version": "~2.1.4",
      "model_name": "LayoutModel",
      "state": {
       "_model_module_version": "~2.1.4",
       "_view_module_version": "~2.1.4"
      }
     },
     "fcf3e0c1216f40ac847a822c3d90a016": {
      "model_module": "jupyter-js-widgets",
      "model_module_version": "~2.1.4",
      "model_name": "LayoutModel",
      "state": {
       "_model_module_version": "~2.1.4",
       "_view_module_version": "~2.1.4"
      }
     },
     "fdd1a765845e499490ce9912ae2c4e71": {
      "model_module": "jupyter-js-widgets",
      "model_module_version": "~2.1.4",
      "model_name": "OutputModel",
      "state": {
       "_dom_classes": [],
       "_model_module": "jupyter-js-widgets",
       "_model_module_version": "~2.1.4",
       "_view_module": "jupyter-js-widgets",
       "_view_module_version": "~2.1.4",
       "layout": "IPY_MODEL_c1a096a265164df2aaa98d4b7fc88bd6",
       "msg_throttle": 1
      }
     },
     "fea14a1e2e694b469da47e8694c82f9f": {
      "model_module": "jupyter-js-widgets",
      "model_module_version": "~2.1.4",
      "model_name": "VBoxModel",
      "state": {
       "_dom_classes": [
        "widget-interact"
       ],
       "_model_module_version": "~2.1.4",
       "_view_module_version": "~2.1.4",
       "children": [
        "IPY_MODEL_57838a3e956b4067922bc911525c5d9e",
        "IPY_MODEL_a80cd5042d7741e4a6d5c18b2d123045",
        "IPY_MODEL_27270fd27a6049e79c01e0aabf6b9d44",
        "IPY_MODEL_272a686647f1452588548626554c040a",
        "IPY_MODEL_69a75b421d0c4bd5846b40c281b2278f"
       ],
       "layout": "IPY_MODEL_9eb0063767194c3d867ce8ca8dc18b87"
      }
     },
     "ff3fa1f9e81943cbbc5afda02f29ee11": {
      "model_module": "jupyter-js-widgets",
      "model_module_version": "~2.1.4",
      "model_name": "SliderStyleModel",
      "state": {
       "_model_module_version": "~2.1.4",
       "_view_module_version": "~2.1.4"
      }
     },
     "ff622d86312c45abbc9d5a12ef4e8ed1": {
      "model_module": "jupyter-js-widgets",
      "model_module_version": "~2.1.4",
      "model_name": "IntSliderModel",
      "state": {
       "_model_module_version": "~2.1.4",
       "_view_module_version": "~2.1.4",
       "description": "T",
       "layout": "IPY_MODEL_57061f433fd047459d27ef4ca33790b1",
       "max": 2000,
       "step": 10,
       "style": "IPY_MODEL_2210f1694bfd45fd866765de8a6cb3a8",
       "value": 300
      }
     }
    },
    "version_major": 1,
    "version_minor": 0
   }
  }
 },
 "nbformat": 4,
 "nbformat_minor": 1
}
