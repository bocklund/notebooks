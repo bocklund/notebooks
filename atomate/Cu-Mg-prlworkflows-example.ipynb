{
 "cells": [
  {
   "cell_type": "markdown",
   "metadata": {
    "deletable": true,
    "editable": true
   },
   "source": [
    "# Cu-Mg workflows\n",
    "\n",
    "## Goal: fully describe the Cu-Mg system with DFT calculations\n",
    "\n",
    "### Phases\n",
    "\n",
    "There are 5 phases in Cu-Mg that will be described with the following models\n",
    "\n",
    "Phase                               | Model\n",
    "-----                               | : ----\n",
    "$\\textrm{liquid}$ | $\\textrm{(Cu, Mg)}$ \n",
    "$\\textrm{fcc A1}$ | $\\textrm{(Cu, Mg)}$ \n",
    "$\\textrm{hcp A3}$ | $\\textrm{(Cu, Mg)}$\n",
    "$\\textrm{Cu}\\textrm{Mg}_2$ | $\\textrm{(Cu)}\\textrm{(Mg)}_2$\n",
    "$\\textrm{Laves C15}$ | $\\textrm{(Cu, Mg)}_2 \\textrm{(Cu, Mg)}$\n",
    "\n",
    "Four of these phases are solid phases that can be investigated with DFT.\n",
    "\n",
    "\n",
    "The others are modeled as mixing phases, and thus the mixing properties must be calculated.\n",
    "\n",
    "### Approach\n",
    "\n",
    "All compounds, solution endmembers and mixing structures will have their thermodynamic properties calculated via the Debye model.\n",
    "\n",
    "Currently, the contributions to the Debye model do not include the electronic contribution to the heat capacity.\n",
    "An electronic DOS can be calculated later and this contribution added.\n",
    "\n",
    "## General imports and setup\n",
    "\n",
    "### Configuration\n",
    "\n",
    "Before you start anything, you'll have to install `prlworkflows`.\n",
    "Right now there is no release version on PyPI or Anaconda, so you need to get clone and install it that way.\n",
    "Since this code simply adds structures to your LaunchPad, you can run this porition of prlworkflows and atomate on any computer, so long as you set up the databases as in the atomate installation instructions.\n",
    "\n",
    "Either way, I suggest using pip to install and doing the following in your terminal:\n",
    "\n",
    "1. `cd ~/work/atomate/codes`\n",
    "2. `git clone https://github.com/phasesresearchlab/prlworkflows`\n",
    "3. `cd prlworkflows`\n",
    "4. `pip install -e .`\n",
    "\n",
    "Finally, you need to do a little configuration on the system(s) you will be adding and running workflows from:\n",
    "\n",
    "1. Add `- prlworkflows` to the list of `ADD_USER_PACKAGES` in `$MY_ATOMATE_INSTALL/config/FW_CONFIG.yaml`\n",
    "2. Change the force convergence criteria in the drone analysis. If you fail to do this, relaxations that have some residual force will defuse the next Fireworks. If you don't have atomate installed as editiable from git, then you need to\n",
    "   \n",
    "   a. Go to your virtual environment directory `cd ~/work/atomate/atomate_env`\n",
    "   \n",
    "   b. `vi lib/python2.7/site-packages/atomate/vasp/drones.py`\n",
    "   \n",
    "   c. Find the `VaspDrone.set_analysis` method and change the default arguments from \n",
    "   ```python\n",
    "    def set_analysis(d, max_force_threshold=0.5, volume_change_threshold=0.2):\n",
    "   ```\n",
    "   to \n",
    "   ```python\n",
    "    def set_analysis(d, max_force_threshold=10, volume_change_threshold=0.2):\n",
    "   ```\n",
    "\n",
    "Now we can get to running the code.\n",
    "First, set up the LaunchPad using your own credentials:"
   ]
  },
  {
   "cell_type": "code",
   "execution_count": 24,
   "metadata": {
    "collapsed": false,
    "deletable": true,
    "editable": true
   },
   "outputs": [],
   "source": [
    "from fireworks import LaunchPad\n",
    "lpad = LaunchPad.auto_load()"
   ]
  },
  {
   "cell_type": "markdown",
   "metadata": {
    "deletable": true,
    "editable": true
   },
   "source": [
    "### Get your structures\n",
    "\n",
    "Three ways main ways you'll use to get structures\n",
    "\n",
    "#### 1. From the Materials Project via the MPRester API"
   ]
  },
  {
   "cell_type": "code",
   "execution_count": 3,
   "metadata": {
    "collapsed": true,
    "deletable": true,
    "editable": true
   },
   "outputs": [],
   "source": [
    "from pymatgen import MPRester\n",
    "with MPRester() as mpr: # provide an API key if you don't have on set up in your .pmgrc.yaml\n",
    "    structure = mpr.get_structure_by_material_id('mp-134')"
   ]
  },
  {
   "cell_type": "markdown",
   "metadata": {
    "deletable": true,
    "editable": true
   },
   "source": [
    "#### 2. From a POSCAR file"
   ]
  },
  {
   "cell_type": "code",
   "execution_count": null,
   "metadata": {
    "collapsed": true,
    "deletable": true,
    "editable": true
   },
   "outputs": [],
   "source": [
    "from pymatgen import Structure\n",
    "structure = Structure.from_file('POSCAR')"
   ]
  },
  {
   "cell_type": "markdown",
   "metadata": {
    "deletable": true,
    "editable": true
   },
   "source": [
    "#### 3. From an SQS in prlworkflows\n",
    "\n",
    "Until the SQS database is complete and queryable, these will have to be created 'by hand' from ATAT lattice.in type files.\n",
    "To get all of these,\n",
    "\n",
    "1. Download ATAT from https://www.brown.edu/Departments/Engineering/Labs/avdw/atat/\n",
    "2. Unzip the archive\n",
    "3. Go to the folder `atat/data/sqsdb`, there will be a list of structures and levels\n",
    "4. Pick the phase/level/structure that you want, then get the file path to the bestsqs.out file.\n",
    "5. Process the file with `lat_in_to_sqs` creating an AbstractSQS\n",
    "6. Make the AbstractSQS concrete with a sublattice model"
   ]
  },
  {
   "cell_type": "code",
   "execution_count": 2,
   "metadata": {
    "collapsed": true,
    "deletable": true,
    "editable": true
   },
   "outputs": [],
   "source": [
    "from prlworkflows.sqs_db import lat_in_to_sqs\n",
    "\n",
    "my_struct_best_sqs_path = '/Users/brandon/Downloads/atat/data/sqsdb/MGCU2_C15/sqsdb_lev=0_b=1_c=1/bestsqs.out'\n",
    "with open(my_struct_best_sqs_path) as fp:\n",
    "    lat_in_txt = fp.read()\n",
    "\n",
    "abstract_sqs = lat_in_to_sqs(lat_in_txt)\n",
    "structure = abstract_sqs.get_concrete_sqs([['Cu'], ['Cu']])\n",
    "    "
   ]
  },
  {
   "cell_type": "markdown",
   "metadata": {
    "deletable": true,
    "editable": true
   },
   "source": [
    "## Run the robust optimization \n",
    "\n",
    "The robust optimization will do a constrained optimization of your structures.\n",
    "\n",
    "There are typically three kinds of degrees of freedom we can control:\n",
    "\n",
    "- Unit cell volume\n",
    "- Unit cell shape (lattice vectors; length and angles of unit cell)\n",
    "- Ion positions\n",
    "\n",
    "If we fix any one of these degrees of freedom, we are doing a constrained relaxation, otherwise if all degrees of freedom are considered in a relaxation, it is called an unconstrained relaxation.\n",
    "\n",
    "Most stable structures that are already close to their minimum energy configuration are typically easy to perform unconstrained relaxations on. All of the structures in the Materials Project are this way.\n",
    "\n",
    "We would like to find the minimum energy configuration of our endmembers, SQS, and dilute mixing structures. However, many SQS, some endmembers, and some dilute mixing structures are unstable, and the minimum energy structures found in a unconstrtained optimization are not representative of the real structure and energy.\n",
    "\n",
    "Thus we have developed a series of constrained optimizations to find the lowest energy structure while maintaining the integrity of the structure. It is called the robust optimization workflow, which performs the following steps:\n",
    "\n",
    "1. Volume relaxations until the volume has converged\n",
    "2. An ionic position relaxation\n",
    "3. A shape and ionic position relaxation\n",
    "\n",
    "The minimum energy structure we will chose is the one that has gone the furthest in the series, but still maintained the symmetry within a tolerance. The volume relaxation always will, but the ionic positions and cell shape + ionic positions relaxations may result in broken structures.\n",
    "\n",
    "For now these are all run one after another and we have to find the structure that progressed the furthest 'by hand' in code. In the future we will modify the workflow to check that the structure has not broken after step 2 and 3 to find the constrained structure of minimal energy and preserved symmetry.\n",
    "\n",
    "Note: for now we only run VASP one time in step 2 and 3. It is possible that we would like to run a series of these relaxations as in step 1, to make sure that each relaxation type is fully converged w.r.t. itself, but there is currently no machinery for that. It would have to be implemented either in [custodian](https://github.com/materialsproject/custodian) like the volume relaxation, or it would need to be implemented by adding a detour Firework to do another relaxation if some criteria isn't met.\n",
    "\n",
    "### Formation robust optimization"
   ]
  },
  {
   "cell_type": "code",
   "execution_count": 51,
   "metadata": {
    "collapsed": false,
    "deletable": true,
    "editable": true
   },
   "outputs": [],
   "source": [
    "from prlworkflows.prl_workflows import get_wf_robust_optimization\n",
    "\n",
    "\n",
    "metadata = {\n",
    "    'phase': 'LAVES_C15',\n",
    "    'sublattice_model': {\n",
    "        # if you are using an SQS object, you can use these.\n",
    "        # otherwise you should set them by hand so you can query on them later\n",
    "        'configuration': structure.sublattice_configuration, # [['Cu'], ['Cu']]\n",
    "        'occupancies': structure.sublattice_occupancies, # [[1.0], [1.0]]\n",
    "        'site_ratios': structure.sublattice_site_ratios # [1, 2]\n",
    "    },\n",
    "    'output': 'HM_FORM' # To help filter things later. This is formation data, rather than mixing, because it's an endmembmer\n",
    "    }\n",
    "\n",
    "wf = get_wf_robust_optimization(structure, metadata=metadata, db_file='>>db_file<<', vasp_cmd='>>vasp_cmd<<')"
   ]
  },
  {
   "cell_type": "code",
   "execution_count": 52,
   "metadata": {
    "collapsed": false
   },
   "outputs": [
    {
     "name": "stdout",
     "output_type": "stream",
     "text": [
      "2017-10-17 08:01:22,430 INFO Added a workflow. id_map: {-9: 32, -8: 33, -7: 34}\n"
     ]
    },
    {
     "data": {
      "text/plain": [
       "{-9: 32, -8: 33, -7: 34}"
      ]
     },
     "execution_count": 52,
     "metadata": {},
     "output_type": "execute_result"
    }
   ],
   "source": [
    "lpad.add_wf(wf)"
   ]
  },
  {
   "cell_type": "markdown",
   "metadata": {},
   "source": [
    "### Mixing robust optimization"
   ]
  },
  {
   "cell_type": "code",
   "execution_count": 57,
   "metadata": {
    "collapsed": false
   },
   "outputs": [],
   "source": [
    "my_struct_best_sqs_path = '/Users/brandon/Downloads/atat/data/sqsdb/HCP_A3/sqsdb_lev=1_c=0.5,0.5/bestsqs.out'\n",
    "with open(my_struct_best_sqs_path) as fp:\n",
    "    lat_in_txt = fp.read()\n",
    "\n",
    "abstract_sqs = lat_in_to_sqs(lat_in_txt)\n",
    "structure_mixing = abstract_sqs.get_concrete_sqs([['Cu', 'Mg']])\n",
    "    "
   ]
  },
  {
   "cell_type": "code",
   "execution_count": 58,
   "metadata": {
    "collapsed": false
   },
   "outputs": [],
   "source": [
    "from prlworkflows.prl_workflows import get_wf_robust_optimization\n",
    "\n",
    "\n",
    "metadata = {\n",
    "    'phase': 'HCP_A3',\n",
    "    'sublattice_model': {\n",
    "        # if you are using an SQS object, you can use these.\n",
    "        # otherwise you should set them by hand so you can query on them later\n",
    "        'configuration': structure_mixing.sublattice_configuration, # [['Cu', 'Mg']]\n",
    "        'occupancies': structure_mixing.sublattice_occupancies, # [[0.5, 0.5]]\n",
    "        'site_ratios': structure_mixing.sublattice_site_ratios # [2]\n",
    "    },\n",
    "    'output': 'HM_MIX' # To help filter things later\n",
    "    }\n",
    "\n",
    "wf = get_wf_robust_optimization(structure_mixing, metadata=metadata, db_file='>>db_file<<', vasp_cmd='>>vasp_cmd<<')"
   ]
  },
  {
   "cell_type": "code",
   "execution_count": 59,
   "metadata": {
    "collapsed": false
   },
   "outputs": [
    {
     "name": "stdout",
     "output_type": "stream",
     "text": [
      "2017-10-17 08:18:55,944 INFO Added a workflow. id_map: {-12: 35, -11: 36, -10: 37}\n"
     ]
    },
    {
     "data": {
      "text/plain": [
       "{-12: 35, -11: 36, -10: 37}"
      ]
     },
     "execution_count": 59,
     "metadata": {},
     "output_type": "execute_result"
    }
   ],
   "source": [
    "lpad.add_wf(wf)"
   ]
  },
  {
   "cell_type": "markdown",
   "metadata": {},
   "source": [
    "## Finding the minimum energy structure\n",
    "\n",
    "Now that we've completed the robust calculations, we want to find the minimal energy strucure for each robust optimization.\n",
    "\n",
    "The general steps are: \n",
    "\n",
    "1. Load the database where calculation results are stored (`db.json`)\n",
    "2. Query for the structure\n",
    "3. Check if the cell shape changed significantly from relaxation step 2. If it did not change continue, otherwise the minimum energy structure is the volume relaxed structure from relaxation step 1.\n",
    "4. Check if the cell shape and ion positions changed significantly in relaxation step 3. If they did not change, the final structure is our minimum energy structure. If either changed, then our minimum energy structure is the cell shape relaxed (relaxation step 2) structure.\n",
    "\n"
   ]
  },
  {
   "cell_type": "code",
   "execution_count": 64,
   "metadata": {
    "collapsed": false
   },
   "outputs": [
    {
     "data": {
      "text/plain": [
       "{'_id': ObjectId('59e5f52fec66153506e7949c'),\n",
       " 'created_on': datetime.datetime(2017, 10, 17, 12, 18, 50, 215000),\n",
       " 'fw_states': {'35': 'WAITING', '36': 'WAITING', '37': 'RUNNING'},\n",
       " 'links': {'35': [], '36': [35], '37': [36]},\n",
       " 'metadata': {'output': 'HM_MIX',\n",
       "  'phase': 'HCP_A3',\n",
       "  'robust_optimization_version': 0.1,\n",
       "  'sublattice_model': {'configuration': [['Cu', 'Mg']],\n",
       "   'occupancies': [[0.5, 0.5]],\n",
       "   'site_ratios': [2]}},\n",
       " 'name': 'MgCu:structure optimization',\n",
       " 'nodes': [35, 36, 37],\n",
       " 'parent_links': {'35': [36], '36': [37]},\n",
       " 'state': 'RUNNING',\n",
       " 'updated_on': datetime.datetime(2017, 10, 17, 12, 19, 31, 31000)}"
      ]
     },
     "execution_count": 64,
     "metadata": {},
     "output_type": "execute_result"
    }
   ],
   "source": [
    "lpad.workflows.find_one({'metadata.phase': 'HCP_A3', 'metadata.robust_optimization_version': 0.1})"
   ]
  }
 ],
 "metadata": {
  "anaconda-cloud": {},
  "kernelspec": {
   "display_name": "Python 3",
   "language": "python",
   "name": "python3"
  },
  "language_info": {
   "codemirror_mode": {
    "name": "ipython",
    "version": 3
   },
   "file_extension": ".py",
   "mimetype": "text/x-python",
   "name": "python",
   "nbconvert_exporter": "python",
   "pygments_lexer": "ipython3",
   "version": "3.6.0"
  }
 },
 "nbformat": 4,
 "nbformat_minor": 1
}
