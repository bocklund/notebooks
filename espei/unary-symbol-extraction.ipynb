{
 "cells": [
  {
   "cell_type": "code",
   "execution_count": 1,
   "metadata": {},
   "outputs": [
    {
     "name": "stderr",
     "output_type": "stream",
     "text": [
      "/Users/brandon/anaconda3/envs/pycalphad/lib/python3.6/site-packages/xarray/core/formatting.py:16: FutureWarning: The pandas.tslib module is deprecated and will be removed in a future version.\n",
      "  from pandas.tslib import OutOfBoundsDatetime\n"
     ]
    }
   ],
   "source": [
    "from pycalphad import Database\n",
    "dbf = Database('Mg-piecewise-example.tdb')"
   ]
  },
  {
   "cell_type": "code",
   "execution_count": 2,
   "metadata": {},
   "outputs": [],
   "source": [
    "from sympy import Symbol\n",
    "from sympy.utilities import topological_sort\n",
    "from pycalphad import variables as v\n",
    "\n",
    "def extract_symbol_value(symbol):\n",
    "    \"\"\"Return the value of a Piecewise if it only has one expression\n",
    "    \"\"\"\n",
    "    # A Piecewise with a length of 2 has the expression over the range and then 0 otherwise.\n",
    "    # We want to return the expression in this case, otherwise the expression is a \"real\" Piecewise.\n",
    "    if len(symbol.args) == 2:\n",
    "        return symbol.args[0].expr\n",
    "    return symbol\n",
    "\n",
    "def sorted_symbols(symbols):\n",
    "    \"\"\"Takes a dictionary of {Symbol: Piecewise} and returns the topological sort replacement\n",
    "    \"\"\"\n",
    "    # Topological sorting requires the verticies and edges of the a graph of symbol dependencies.\n",
    "    verticies = list(symbols.keys())\n",
    "    edges = []\n",
    "    for vertex in verticies:\n",
    "        free_symbols = symbols[vertex].free_symbols\n",
    "        # Filter out the StateVariables.\n",
    "        # This will ensure P, T variables are not included in the graph because they can be variables in TDBs.\n",
    "        free_symbols = [symbol for symbol in free_symbols if not isinstance(symbol, v.StateVariable)]\n",
    "        # construct the edges (dependencies) of the symbols if there are any\n",
    "        if len(free_symbols):\n",
    "            edges.extend([(str(vertex), str(symbol)) for symbol in free_symbols])\n",
    "    return topological_sort((verticies, edges))\n",
    "\n",
    "def get_reduced_expression(dbf, symbol):\n",
    "    \"\"\"Return an expression for the passed symbol (as a string) reduced to only a function of state variables\n",
    "    \"\"\"\n",
    "    # To reduce an expression, we have to pass a list of substitions to the expression in the order\n",
    "    # we want to substitute them to get to having only StateVaribles as degrees of freedom.\n",
    "    # Topological sorting orders the replacements in the correct order.\n",
    "    topologically_sorted_symbols = sorted_symbols(dbf.symbols)\n",
    "    # Then we construct the values that we will replace each symbol with, deconstructing the\n",
    "    # symbols that are Piecewise, if necessary.\n",
    "    replacements = [(sym, extract_symbol_value(dbf.symbols[sym])) for sym in topologically_sorted_symbols]\n",
    "    return dbf.symbols[symbol].subs(replacements)        "
   ]
  },
  {
   "cell_type": "code",
   "execution_count": 3,
   "metadata": {},
   "outputs": [
    {
     "name": "stdout",
     "output_type": "stream",
     "text": [
      "['GFCCMg', 'GHSERMg', 'GLIQMg', 'GEINMg', 'GEINMgF', 'CMgF', 'BMgF', 'AMgF', 'GEINMgS', 'CMgS', 'BMgS', 'AMgS']\n"
     ]
    }
   ],
   "source": [
    "print(sorted_symbols(dbf.symbols))"
   ]
  },
  {
   "cell_type": "code",
   "execution_count": 4,
   "metadata": {},
   "outputs": [
    {
     "name": "stdout",
     "output_type": "stream",
     "text": [
      "Piecewise((0.0047195465*T**2 + 3.2404446864*T*log(exp(95.82831/T) - 1.0) + 21.6535319868*T*log(exp(247.8675/T) - 1.0) - 10652.1012810789, And(T < 36.71926, T >= 0.01)), (-1.53643054262276e-5*T**3 + 0.00810454205399037*T**2 - 0.124294531845816*T*log(T) + 3.2404446864*T*log(exp(95.82831/T) - 1.0) + 21.6535319868*T*log(exp(247.8675/T) - 1.0) + 0.385723396310737*T - 10653.6226154894, And(T < 143.18844, T >= 36.71926)), (-0.0050954035*T**2 + 1.765785080115*T*log(T) + 3.2404446864*T*log(exp(95.82831/T) - 1.0) + 21.6535319868*T*log(exp(247.8675/T) - 1.0) - 8.0518972866125*T - 10563.4100984519, And(T < 922.205302616508, T >= 143.18844)), (-34.3088*T*log(T) + 204.341485347575*T - 13775.4156328263 + 9.4687256586798e+27/T**9, And(T < 3000.0, T >= 922.205302616508)), (0, True))\n"
     ]
    }
   ],
   "source": [
    "print(get_reduced_expression(dbf, 'GHSERMg'))"
   ]
  },
  {
   "cell_type": "code",
   "execution_count": 5,
   "metadata": {},
   "outputs": [
    {
     "name": "stdout",
     "output_type": "stream",
     "text": [
      "Piecewise((-2.2050100179942e-6*T**3 - 4.63131660076452e-5*T**2 + 3.2404446864*T*log(exp(95.82831/T) - 1.0) + 21.6535319868*T*log(exp(247.8675/T) - 1.0) - 7.6943066168765*T - 2555.58510336379, And(T < 298.15, T >= 0.01)), (-8.0176e-20*T**7 - 1.393669e-6*T**3 + 0.0004858*T**2 - 26.1849782*T*log(T) + 134.838617*T - 165.096999676889 + 78950/T, And(T < 922.205302616508, T >= 298.15)), (-34.3088*T*log(T) + 195.324057*T - 5439.86911093575, And(T < 3000.0, T >= 922.205302616508)), (0, True))\n"
     ]
    }
   ],
   "source": [
    "print(get_reduced_expression(dbf, 'GLIQMg'))"
   ]
  },
  {
   "cell_type": "code",
   "execution_count": 6,
   "metadata": {},
   "outputs": [
    {
     "name": "stdout",
     "output_type": "stream",
     "text": [
      "Piecewise((-2.18283562784578e-6*T**3 - 6.21802726222479e-5*T**2 + 3.2404446864*T*log(exp(95.82831/T) - 1.0) + 21.6535319868*T*log(exp(247.8675/T) - 1.0) + 0.246565697987779*T - 8158.16393259455, And(T < 298.15, T >= 0.01)), (-1.393669e-6*T**3 + 0.0004858*T**2 - 26.1849782*T*log(T) + 142.775547*T - 5767.34 + 78950/T, And(T < 922.205302616508, T >= 298.15)), (-34.3088*T*log(T) + 203.816215*T - 11530.1836392866 + 1.038192e+28/T**9, And(T < 3000.0, T >= 922.205302616508)), (0, True))\n"
     ]
    }
   ],
   "source": [
    "print(get_reduced_expression(dbf, 'GFCCMg'))"
   ]
  },
  {
   "cell_type": "code",
   "execution_count": null,
   "metadata": {},
   "outputs": [],
   "source": []
  }
 ],
 "metadata": {
  "anaconda-cloud": {},
  "kernelspec": {
   "display_name": "Python [conda env:pycalphad]",
   "language": "python",
   "name": "conda-env-pycalphad-py"
  },
  "language_info": {
   "codemirror_mode": {
    "name": "ipython",
    "version": 3
   },
   "file_extension": ".py",
   "mimetype": "text/x-python",
   "name": "python",
   "nbconvert_exporter": "python",
   "pygments_lexer": "ipython3",
   "version": "3.6.1"
  }
 },
 "nbformat": 4,
 "nbformat_minor": 1
}
