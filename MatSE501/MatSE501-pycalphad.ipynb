{
 "cells": [
  {
   "cell_type": "markdown",
   "metadata": {
    "nbpresent": {
     "id": "b12e3cb9-0519-402d-8ebb-6aef55da68ce"
    }
   },
   "source": [
    "# Introduction to pycalphad\n",
    "### MatSE 501\n",
    "### Brandon Bocklund\n"
   ]
  },
  {
   "cell_type": "markdown",
   "metadata": {
    "nbpresent": {
     "id": "f5beb8f1-91bf-47df-a08b-f837c39bd743"
    }
   },
   "source": [
    "## Getting help\n",
    "\n",
    "* [pycalphad examples](https://github.com/pycalphad/pycalphad/tree/develop/examples)\n",
    "* [API documentation](https://pycalphad.org/docs/latest/api/modules.html)\n",
    "* For classwork: [bocklund@psu.edu](mailto:bocklund@psu.edu)\n"
   ]
  },
  {
   "cell_type": "markdown",
   "metadata": {
    "nbpresent": {
     "id": "5e4944eb-34cf-4235-ad5a-624eedae7ca8"
    }
   },
   "source": [
    "## Core concepts\n",
    "\n",
    "Any calculation in pycalphad requires you to define\n",
    "* A Database\n",
    "* The components to consider (including `'VA'` for vacancies)\n",
    "* The phases to consider\n",
    "* The conditions of the calculation\n"
   ]
  },
  {
   "cell_type": "markdown",
   "metadata": {
    "nbpresent": {
     "id": "5ef770c1-380b-40d1-8deb-870f554e0a9b"
    }
   },
   "source": [
    "### Defining a Database\n",
    "\n",
    "Most thermodynamic databases are stored as TDB files, which are widely supported in thermodynamic software.\n",
    "We'll load a Cr-Fe-Ni database to use here.\n",
    "\n",
    "To load a database from a file:"
   ]
  },
  {
   "cell_type": "code",
   "execution_count": 7,
   "metadata": {
    "nbpresent": {
     "id": "1d95cf61-a84a-4b06-b62f-36457e5c7d7e"
    }
   },
   "outputs": [],
   "source": [
    "from pycalphad import Database\n",
    "\n",
    "db = Database('Cr-Fe-Ni.tdb')"
   ]
  },
  {
   "cell_type": "markdown",
   "metadata": {
    "nbpresent": {
     "id": "9aa6ad98-3977-4ff3-beaa-8981b4116811"
    }
   },
   "source": [
    "Print the available elements:\n",
    "\n",
    "(Note that `'/-'` is the null species and is mostly included out of convention)"
   ]
  },
  {
   "cell_type": "code",
   "execution_count": 8,
   "metadata": {
    "nbpresent": {
     "id": "90c56580-b6f7-4e2c-ab85-33718726ca40"
    }
   },
   "outputs": [
    {
     "name": "stdout",
     "output_type": "stream",
     "text": [
      "{'FE', '/-', 'CR', 'NI', 'VA'}\n"
     ]
    }
   ],
   "source": [
    "print(db.elements)"
   ]
  },
  {
   "cell_type": "markdown",
   "metadata": {
    "nbpresent": {
     "id": "88bcd378-19c8-42f2-b8bd-8568de6ebbbe"
    }
   },
   "source": [
    "And phases:"
   ]
  },
  {
   "cell_type": "code",
   "execution_count": 9,
   "metadata": {
    "nbpresent": {
     "id": "964874d7-eb86-4429-a27a-5114d0a7afa6"
    }
   },
   "outputs": [
    {
     "name": "stdout",
     "output_type": "stream",
     "text": [
      "['LIQUID', 'BCC_A2', 'FCC_A1', 'HCP_A3', 'SIGMA']\n"
     ]
    }
   ],
   "source": [
    "print(list(db.phases.keys()))"
   ]
  },
  {
   "cell_type": "markdown",
   "metadata": {
    "nbpresent": {
     "id": "c5a5d0b6-0ac1-4668-a4b2-77bef497e3ac"
    }
   },
   "source": [
    "Note that not all phases can be defined for every calculation. When all of the sublattices do not have at least one of the defined component defined, that phase may not be included. The SIGMA phase has only Cr definedin the second sublattice, and thus cannot be used when Cr is not a component."
   ]
  },
  {
   "cell_type": "code",
   "execution_count": 14,
   "metadata": {
    "nbpresent": {
     "id": "ffad82de-520c-4992-8ee6-3e60a443c9be"
    }
   },
   "outputs": [
    {
     "name": "stdout",
     "output_type": "stream",
     "text": [
      "(frozenset({'NI', 'FE'}), frozenset({'CR'}), frozenset({'CR', 'NI', 'FE'}))\n"
     ]
    }
   ],
   "source": [
    "print(db.phases['SIGMA'].constituents)"
   ]
  },
  {
   "cell_type": "markdown",
   "metadata": {
    "nbpresent": {
     "id": "ffd5d60c-f9af-4baa-be32-a92bf4ae24a0"
    }
   },
   "source": [
    "### Conditions\n",
    "\n",
    "In any thermodynamic calculation, $c+2$ conditions must be defined for $c$ components.\n",
    "In pycalphad, we always calculate molar quantites, with the implicit condition that $n=1$, so all calculations must have $c+1$ conditions specified.\n",
    "\n",
    "Each condition, pressure, temperature and composition are accessed via by prepending the type with a `v`:\n",
    "\n",
    "* Pressure: `v.P` in Pacals. Usually (but not always) thermodyanmic databases do not consider pressure and thus you use standard pressure, 101325 Pa by convention.\n",
    "* Temperature: `v.T` in Kelvin.\n",
    "* Composition: `v.X('NI')` as a mole fraction.\n",
    "\n",
    "### Sample equilibrium calculation"
   ]
  },
  {
   "cell_type": "code",
   "execution_count": 37,
   "metadata": {
    "nbpresent": {
     "id": "da0d42bc-57d7-4d98-b45b-3d8dd8947f6a"
    }
   },
   "outputs": [
    {
     "name": "stderr",
     "output_type": "stream",
     "text": [
      "/Users/brandon/anaconda3/envs/pycalphad-release/lib/python3.6/site-packages/dask/async.py:13: UserWarning: `dask.async.get_sync` has been moved to `dask.local.get_sync`, please update your imports\n",
      "  warnings.warn(_msg.format('get_sync'))\n"
     ]
    }
   ],
   "source": [
    "from pycalphad import equilibrium\n",
    "from pycalphad import variables as v\n",
    "\n",
    "# Define components:\n",
    "# Note: must have the correct capitialization.\n",
    "# CALPHAD modelers usually use all-caps by convention.\n",
    "# Also not that we include VA. Always do this.\n",
    "components = ['CR', 'NI', 'VA'] \n",
    "\n",
    "# Define the phases:\n",
    "phases = ['LIQUID', 'BCC_A2', 'FCC_A1']\n",
    "\n",
    "# And the conditions:\n",
    "# We want to see which phases are presnt when 10% Cr is in Ni \n",
    "# This is a map of the variable to its value\n",
    "conditions = {\n",
    "    v.P: 101325,\n",
    "    v.T: 500,\n",
    "    v.X('CR'): 0.20\n",
    "        }\n",
    "\n",
    "# do the equlibrium calculation and store the result in the `eq` variable\n",
    "eq = equilibrium(db, components, phases, conditions)"
   ]
  },
  {
   "cell_type": "markdown",
   "metadata": {
    "nbpresent": {
     "id": "66b27618-b012-4ef5-830b-c37ab7dd9731"
    }
   },
   "source": [
    "If you got a warning in the above cell, that's ok.\n",
    "\n",
    "Now we will look at what pycalphad calculated in the `eq` object. It is an [xarray](http://xarray.pydata.org/en/stable/) dataset.\n",
    "\n",
    "xarray allows for the storage of values such as the stable phases, Gibbs energies, chemical potentials, as values over a grid of our conditions and phases given by the Gibbs phase rule.\n",
    "\n",
    "If you want to learn more about xarray Datasets, see the [xarray documentation](http://xarray.pydata.org/en/stable/).\n",
    "\n",
    "Below you can see the dimensions (the grid of conditions) and the data variables (things that we calculated as a function of the different dimensions). The coordinates are just things we can index over, for convience."
   ]
  },
  {
   "cell_type": "code",
   "execution_count": 38,
   "metadata": {
    "nbpresent": {
     "id": "b90ca63a-4aad-4afa-820f-ec94923ee800"
    }
   },
   "outputs": [
    {
     "name": "stdout",
     "output_type": "stream",
     "text": [
      "<xarray.Dataset>\n",
      "Dimensions:    (P: 1, T: 1, X_CR: 1, component: 2, internal_dof: 3, vertex: 2)\n",
      "Coordinates:\n",
      "  * P          (P) float64 1.013e+05\n",
      "  * T          (T) float64 500.0\n",
      "  * X_CR       (X_CR) float64 0.2\n",
      "  * vertex     (vertex) int64 0 1\n",
      "  * component  (component) <U2 'CR' 'NI'\n",
      "Dimensions without coordinates: internal_dof\n",
      "Data variables:\n",
      "    NP         (P, T, X_CR, vertex) float64 1.0 nan\n",
      "    GM         (P, T, X_CR) float64 -1.829e+04\n",
      "    MU         (P, T, X_CR, component) float64 -1.468e+04 -1.919e+04\n",
      "    X          (P, T, X_CR, vertex, component) float64 0.2 0.8 nan nan\n",
      "    Y          (P, T, X_CR, vertex, internal_dof) float64 0.2 0.8 1.0 0.1996 ...\n",
      "    Phase      (P, T, X_CR, vertex) <U6 'FCC_A1' ''\n",
      "Attributes:\n",
      "    engine:   pycalphad 0.5.2.post1\n",
      "    created:  2017-10-19T02:35:20.768811\n"
     ]
    }
   ],
   "source": [
    "print(eq)"
   ]
  },
  {
   "cell_type": "markdown",
   "metadata": {
    "nbpresent": {
     "id": "5be1d329-5e17-4d88-8349-05cb99f59aba"
    }
   },
   "source": [
    "You can see we calculated\n",
    "\n",
    "* NP: the phase fraction\n",
    "* GM: the molar Gibbs free energy\n",
    "* MU: the chemical potentials\n",
    "* X: The overall composition of each element in each phase (the *constitution*)\n",
    "* Y: The site fractions (compositions of each sublattice) in each phase\n",
    "* Phase: the name of the stable phase\n",
    "\n",
    "Let's look at the values for the phase that was stable:\n",
    "\n",
    "Note that the empty set of parenthesis means that there could have been a second phase there by Gibbs phase rule."
   ]
  },
  {
   "cell_type": "code",
   "execution_count": 39,
   "metadata": {
    "nbpresent": {
     "id": "8cb38144-0a5e-49d4-833d-c6ea2beab592"
    }
   },
   "outputs": [
    {
     "name": "stdout",
     "output_type": "stream",
     "text": [
      "['FCC_A1' '']\n"
     ]
    }
   ],
   "source": [
    "print(eq.Phase.values.squeeze())"
   ]
  },
  {
   "cell_type": "markdown",
   "metadata": {
    "nbpresent": {
     "id": "ba380f55-c2ae-4508-b6dc-e16162ff72de"
    }
   },
   "source": [
    "And now the chemical potentials in that phase where we select (`sel`) our temperature, pressure, and Cr compositions:"
   ]
  },
  {
   "cell_type": "code",
   "execution_count": 41,
   "metadata": {
    "nbpresent": {
     "id": "30e1beab-c436-4705-bec5-db621302718b"
    }
   },
   "outputs": [
    {
     "name": "stdout",
     "output_type": "stream",
     "text": [
      "<xarray.DataArray 'MU' (component: 2)>\n",
      "array([-14676.905267, -19190.751151])\n",
      "Coordinates:\n",
      "    P          float64 1.013e+05\n",
      "    T          float64 500.0\n",
      "    X_CR       float64 0.2\n",
      "  * component  (component) <U2 'CR' 'NI'\n"
     ]
    }
   ],
   "source": [
    "print(eq.MU.sel(T=500, P=101325, X_CR=0.20))"
   ]
  },
  {
   "cell_type": "markdown",
   "metadata": {
    "nbpresent": {
     "id": "808d36b8-e013-46bc-9550-61c8dd854416"
    }
   },
   "source": [
    "Where the values of the chemical potential for Cr is -14676 J/mol and -19190 J/mol for Ni, as seen in their alignment with the coordinates."
   ]
  },
  {
   "cell_type": "markdown",
   "metadata": {
    "nbpresent": {
     "id": "436bfbc5-05b5-41c1-bc5b-952343bead70"
    }
   },
   "source": [
    "## Free energy curves\n",
    "\n",
    "Now lets see if that chemical potential makes sense based on the free energy curves. The next section plots the free energy curves for all the phases we defined before.\n",
    "\n",
    "Note that we are using the `calculate` function, rather than `equilibrium`. \n",
    "\n",
    "`calculate` is slightly different than equilibrium in that it doesn't find the minimum energy, but rather samples all of the energies in the internal degrees of freedom. Hence, we do not have to specify any composition conditions and we specify temperature and pressure directly.\n",
    "\n",
    "We'll plot the line between the chemical potentials we just calculated in red."
   ]
  },
  {
   "cell_type": "code",
   "execution_count": 74,
   "metadata": {
    "nbpresent": {
     "id": "04ea2393-201e-4b82-906f-c7f12f03a04d"
    }
   },
   "outputs": [
    {
     "name": "stderr",
     "output_type": "stream",
     "text": [
      "/Users/brandon/anaconda3/envs/pycalphad-release/lib/python3.6/site-packages/pycalphad/core/utils.py:57: RuntimeWarning: divide by zero encountered in log\n",
      "  pts = -np.log(pts)\n",
      "/Users/brandon/anaconda3/envs/pycalphad-release/lib/python3.6/site-packages/pycalphad/core/utils.py:61: RuntimeWarning: invalid value encountered in true_divide\n",
      "  pts[:, cur_idx:end_idx] /= pts[:, cur_idx:end_idx].sum(axis=1)[:, None]\n"
     ]
    },
    {
     "data": {
      "text/plain": [
       "<matplotlib.legend.Legend at 0x1178d6390>"
      ]
     },
     "execution_count": 74,
     "metadata": {},
     "output_type": "execute_result"
    },
    {
     "data": {
      "image/png": "[encoded data removed]",
      "text/plain": [
       "<matplotlib.figure.Figure at 0x1147f4748>"
      ]
     },
     "metadata": {},
     "output_type": "display_data"
    }
   ],
   "source": [
    "%matplotlib inline\n",
    "from pycalphad import calculate\n",
    "from pycalphad.plot.utils import phase_legend\n",
    "import matplotlib.pyplot as plt\n",
    "import numpy as np\n",
    "\n",
    "legend_handles, colorlist = phase_legend(sorted(phases))\n",
    "\n",
    "fig = plt.figure()\n",
    "ax = fig.gca()\n",
    "ax.set_title('Cr-Ni 500K')\n",
    "ax.set_ylabel('GM')\n",
    "ax.set_xlabel('X(Cr)')\n",
    "for phase in phases:\n",
    "    result = calculate(db, components, phase, T=500, P=101325, output='GM')\n",
    "    ax.scatter(result.X.sel(component='CR'), result.GM,\n",
    "               marker='.', s=5, color=colorlist[phase.upper()])\n",
    "ax.set_xlim((0, 1))\n",
    "ax.plot([0, 1], [-19190, -14676], color='red', linewidth=3)\n",
    "ax.legend(handles=legend_handles, loc='center left', bbox_to_anchor=(1, 0.6))\n"
   ]
  },
  {
   "cell_type": "markdown",
   "metadata": {
    "nbpresent": {
     "id": "86d1b073-f588-4e07-aeee-e57f89e36258"
    }
   },
   "source": [
    "You can see that the line between the chemical potentials we calculated is indeed tangent to the Gibbs free energy of the FCC phase.\n",
    "\n",
    "Moving to higher temperature, we can see the same effect between two phases:"
   ]
  },
  {
   "cell_type": "code",
   "execution_count": 76,
   "metadata": {
    "nbpresent": {
     "id": "2116ea49-1900-4d6f-945d-4a08bc4b1e9c"
    }
   },
   "outputs": [
    {
     "name": "stderr",
     "output_type": "stream",
     "text": [
      "/Users/brandon/anaconda3/envs/pycalphad-release/lib/python3.6/site-packages/dask/async.py:13: UserWarning: `dask.async.get_sync` has been moved to `dask.local.get_sync`, please update your imports\n",
      "  warnings.warn(_msg.format('get_sync'))\n",
      "/Users/brandon/anaconda3/envs/pycalphad-release/lib/python3.6/site-packages/pycalphad/core/utils.py:57: RuntimeWarning: divide by zero encountered in log\n",
      "  pts = -np.log(pts)\n",
      "/Users/brandon/anaconda3/envs/pycalphad-release/lib/python3.6/site-packages/pycalphad/core/utils.py:61: RuntimeWarning: invalid value encountered in true_divide\n",
      "  pts[:, cur_idx:end_idx] /= pts[:, cur_idx:end_idx].sum(axis=1)[:, None]\n"
     ]
    },
    {
     "data": {
      "text/plain": [
       "<matplotlib.legend.Legend at 0x116792cf8>"
      ]
     },
     "execution_count": 76,
     "metadata": {},
     "output_type": "execute_result"
    },
    {
     "data": {
      "image/png": "[encoded data removed]",
      "text/plain": [
       "<matplotlib.figure.Figure at 0x117f49b38>"
      ]
     },
     "metadata": {},
     "output_type": "display_data"
    }
   ],
   "source": [
    "T = 1400\n",
    "\n",
    "# note that we can directly replace the variables with their values in the equilibrium function\n",
    "eq_2 = equilibrium(db, components, phases, {v.P: 101325, v.T: T, v.X('CR'): 0.80})\n",
    "\n",
    "\n",
    "fig = plt.figure()\n",
    "ax = fig.gca()\n",
    "ax.set_title('Cr-Ni {}K'.format(T))\n",
    "ax.set_ylabel('GM')\n",
    "ax.set_xlabel('X(Cr)')\n",
    "for phase in phases:\n",
    "    result = calculate(db, components, phase, T=T, P=101325, output='GM')\n",
    "    ax.scatter(result.X.sel(component='CR'), result.GM,\n",
    "               marker='.', s=5, color=colorlist[phase.upper()])\n",
    "ax.set_xlim((0, 1))\n",
    "# note that here we are indexing the chemical potentials by the selecting by *index* (isel)\n",
    "ax.plot([1, 0], eq_2.MU.isel(P=0, T=0, X_CR=0), color='red', linewidth=3)\n",
    "ax.legend(handles=legend_handles, loc='center left', bbox_to_anchor=(1, 0.6))\n"
   ]
  },
  {
   "cell_type": "markdown",
   "metadata": {
    "nbpresent": {
     "id": "212326ac-b4a3-4166-8aad-bb491f76c3d9"
    }
   },
   "source": [
    "##  Binary phase diagram\n",
    "\n",
    "The equilibria along these individual energy curves can be built up to make a whole phase diagram.\n",
    "\n",
    "Here we use `binplot` (binary plot) as a shortcut, which takes the same database, components, phases and conditions. However we would like our phase diagram to be over many temperatures and compositions, rather than a single point, so we have to express that in the conditions.\n",
    "\n",
    "We will redefine our conditions to have the same kinds of conditions, however now the values in the parenthesis determine the `(min, max, step)` of our phase diagram calculations:\n",
    "\n",
    "Note that this may take a minute or two. If you get a warning (in red), it is ok."
   ]
  },
  {
   "cell_type": "code",
   "execution_count": 73,
   "metadata": {
    "nbpresent": {
     "id": "571c071e-beeb-421c-992c-348cab372831"
    }
   },
   "outputs": [
    {
     "name": "stderr",
     "output_type": "stream",
     "text": [
      "/Users/brandon/anaconda3/envs/pycalphad-release/lib/python3.6/site-packages/dask/async.py:13: UserWarning: `dask.async.get_sync` has been moved to `dask.local.get_sync`, please update your imports\n",
      "  warnings.warn(_msg.format('get_sync'))\n"
     ]
    },
    {
     "data": {
      "text/plain": [
       "<matplotlib.axes._subplots.AxesSubplot at 0x1163130f0>"
      ]
     },
     "execution_count": 73,
     "metadata": {},
     "output_type": "execute_result"
    },
    {
     "data": {
      "image/png": "[encoded data removed]",
      "text/plain": [
       "<matplotlib.figure.Figure at 0x115ea8198>"
      ]
     },
     "metadata": {},
     "output_type": "display_data"
    }
   ],
   "source": [
    "from pycalphad import binplot\n",
    "\n",
    "conditions = {\n",
    "    v.P: 101325,\n",
    "    v.T: (1000, 2000, 10), # (min, max, step)\n",
    "    v.X('CR'): (0, 1, 0.05)\n",
    "        }\n",
    "\n",
    "binplot(db, components, phases, conditions)"
   ]
  },
  {
   "cell_type": "markdown",
   "metadata": {
    "nbpresent": {
     "id": "43f84911-7804-4411-a89f-08f16fd56369"
    }
   },
   "source": [
    "## Ternary (isothermal) phase diagram\n",
    "\n",
    "For higher order equilibrium and other calculations, the procedure is mostly the same.\n",
    "\n",
    "pycalphad can do equilibrium calculations of arbitrarily high-dimensioned systems (n-components, p-phases), but we are currently limited the visualizing in 2D. \n",
    "\n",
    "We can plot an isothermal Gibbs triangle phase diagram using `ternplot`, the ternary version of `binplot`."
   ]
  },
  {
   "cell_type": "code",
   "execution_count": 90,
   "metadata": {
    "nbpresent": {
     "id": "d6790838-f8ef-4452-a443-065de6b88635"
    }
   },
   "outputs": [
    {
     "name": "stderr",
     "output_type": "stream",
     "text": [
      "/Users/brandon/anaconda3/envs/pycalphad-release/lib/python3.6/site-packages/dask/async.py:13: UserWarning: `dask.async.get_sync` has been moved to `dask.local.get_sync`, please update your imports\n",
      "  warnings.warn(_msg.format('get_sync'))\n",
      "/Users/brandon/anaconda3/envs/pycalphad-release/lib/python3.6/site-packages/pycalphad/core/utils.py:57: RuntimeWarning: divide by zero encountered in log\n",
      "  pts = -np.log(pts)\n",
      "/Users/brandon/anaconda3/envs/pycalphad-release/lib/python3.6/site-packages/pycalphad/core/utils.py:61: RuntimeWarning: invalid value encountered in true_divide\n",
      "  pts[:, cur_idx:end_idx] /= pts[:, cur_idx:end_idx].sum(axis=1)[:, None]\n"
     ]
    },
    {
     "name": "stdout",
     "output_type": "stream",
     "text": [
      "Failed to converge: OrderedDict([('P', array(101325.0)), ('T', array(1700.0)), ('X_CR', array(0.07500000000000001)), ('X_NI', array(0.9))])\n"
     ]
    },
    {
     "data": {
      "text/plain": [
       "<matplotlib.axes._subplots.TriangularAxesSubplot at 0x11d38f1d0>"
      ]
     },
     "execution_count": 90,
     "metadata": {},
     "output_type": "execute_result"
    },
    {
     "data": {
      "image/png": "[encoded data removed]",
      "text/plain": [
       "<matplotlib.figure.Figure at 0x11e1bcb38>"
      ]
     },
     "metadata": {},
     "output_type": "display_data"
    }
   ],
   "source": [
    "from pycalphad import ternplot\n",
    "\n",
    "tern_comps = ['CR', 'FE', 'NI', 'VA']\n",
    "tern_phases = list(db.phases.keys())\n",
    "conditions = {\n",
    "    v.P: 101325,\n",
    "    v.T: 1700, # (min, max, step)\n",
    "    v.X('CR'): (0, 1, 0.025),\n",
    "    v.X('NI'): (0, 1, 0.025),\n",
    "        }\n",
    "\n",
    "ternplot(db, tern_comps, tern_phases, conditions)"
   ]
  },
  {
   "cell_type": "markdown",
   "metadata": {
    "nbpresent": {
     "id": "ae125be6-2366-48cc-9c0a-114196a5933b"
    }
   },
   "source": [
    "## More\n",
    "\n",
    "pycalphad can also be used to \n",
    "\n",
    "- calculate properties such as degree of ordering or mixing enthalpy as in the Gibbs energy above\n",
    "- calculate and visualize the equilibrium properties\n",
    "- develop custom models \n",
    "\n",
    "See [pycalphad.org](https://pycalphad.org) for some examples.\n"
   ]
  }
 ],
 "metadata": {
  "anaconda-cloud": {},
  "kernelspec": {
   "display_name": "Python [conda env:pycalphad-release]",
   "language": "python",
   "name": "conda-env-pycalphad-release-py"
  },
  "language_info": {
   "codemirror_mode": {
    "name": "ipython",
    "version": 3
   },
   "file_extension": ".py",
   "mimetype": "text/x-python",
   "name": "python",
   "nbconvert_exporter": "python",
   "pygments_lexer": "ipython3",
   "version": "3.6.2"
  },
  "nbpresent": {
   "slides": {
    "04605fdd-7a57-4d98-be2b-6414b6fce593": {
     "id": "04605fdd-7a57-4d98-be2b-6414b6fce593",
     "prev": "6387fc15-4952-4484-bbd0-9733cfe2ec74",
     "regions": {
      "35336043-297a-47a6-a5b4-16d4c8f8aa16": {
       "attrs": {
        "height": 0.8,
        "width": 0.8,
        "x": 0.1,
        "y": 0.1
       },
       "content": {
        "cell": "ffd5d60c-f9af-4baa-be32-a92bf4ae24a0",
        "part": "whole"
       },
       "id": "35336043-297a-47a6-a5b4-16d4c8f8aa16"
      }
     }
    },
    "18b37b88-a54b-48fc-8087-c3ccbf3600b0": {
     "id": "18b37b88-a54b-48fc-8087-c3ccbf3600b0",
     "prev": "f84955f2-4ce5-4093-b143-2b50174ef542",
     "regions": {
      "eb49ac3b-0f0d-4d0e-973c-132b3a466860": {
       "attrs": {
        "height": 0.8,
        "width": 0.8,
        "x": 0.1,
        "y": 0.1
       },
       "content": {
        "cell": "ae125be6-2366-48cc-9c0a-114196a5933b",
        "part": "whole"
       },
       "id": "eb49ac3b-0f0d-4d0e-973c-132b3a466860"
      }
     }
    },
    "1a793605-0151-4dd7-8d01-926f5b816c3b": {
     "id": "1a793605-0151-4dd7-8d01-926f5b816c3b",
     "prev": "1cd4ae14-f256-4776-8cca-549f0cf91bf2",
     "regions": {
      "e499a6e6-1475-496b-810b-38ab1e91653e": {
       "attrs": {
        "height": 0.8,
        "width": 0.8,
        "x": 0.1,
        "y": 0.1
       },
       "content": {
        "cell": "8cb38144-0a5e-49d4-833d-c6ea2beab592",
        "part": "whole"
       },
       "id": "e499a6e6-1475-496b-810b-38ab1e91653e"
      }
     }
    },
    "1cd4ae14-f256-4776-8cca-549f0cf91bf2": {
     "id": "1cd4ae14-f256-4776-8cca-549f0cf91bf2",
     "prev": "b4e39a51-429b-4b9f-8af1-5d20f175ddd2",
     "regions": {
      "a7f80525-08fb-4e82-9ae4-6c54f18bf658": {
       "attrs": {
        "height": 0.8,
        "width": 0.8,
        "x": 0.1,
        "y": 0.1
       },
       "content": {
        "cell": "5be1d329-5e17-4d88-8349-05cb99f59aba",
        "part": "whole"
       },
       "id": "a7f80525-08fb-4e82-9ae4-6c54f18bf658"
      }
     }
    },
    "2ff470f4-52bc-4386-8442-2cf21877dbdf": {
     "id": "2ff470f4-52bc-4386-8442-2cf21877dbdf",
     "prev": null,
     "regions": {
      "11062cdd-c5dc-44f5-b840-1bd4812cf66a": {
       "attrs": {
        "height": 0.8,
        "width": 0.8,
        "x": 0.1,
        "y": 0.1
       },
       "content": {
        "cell": "b12e3cb9-0519-402d-8ebb-6aef55da68ce",
        "part": "whole"
       },
       "id": "11062cdd-c5dc-44f5-b840-1bd4812cf66a"
      }
     }
    },
    "37019bfb-7cb9-41fd-bd7b-edb018653339": {
     "id": "37019bfb-7cb9-41fd-bd7b-edb018653339",
     "prev": "4ef10a4c-35e6-4d29-b1c4-a93958037cc0",
     "regions": {
      "6a5f3008-bc73-4dd4-bbb5-ed9e30c32d1f": {
       "attrs": {
        "height": 0.8,
        "width": 0.8,
        "x": 0.1,
        "y": 0.1
       },
       "content": {
        "cell": "43f84911-7804-4411-a89f-08f16fd56369",
        "part": "whole"
       },
       "id": "6a5f3008-bc73-4dd4-bbb5-ed9e30c32d1f"
      }
     }
    },
    "3b28a872-913b-406a-8f0f-873713ddcb3b": {
     "id": "3b28a872-913b-406a-8f0f-873713ddcb3b",
     "prev": "977faca8-3251-426e-98d8-d36d14a80563",
     "regions": {
      "9c093953-8b64-4bac-a79d-ea7957dcd102": {
       "attrs": {
        "height": 0.8,
        "width": 0.8,
        "x": 0.1,
        "y": 0.1
       },
       "content": {
        "cell": "212326ac-b4a3-4166-8aad-bb491f76c3d9",
        "part": "whole"
       },
       "id": "9c093953-8b64-4bac-a79d-ea7957dcd102"
      }
     }
    },
    "3e14d5da-f579-44f4-82cb-b4dbfaeb9b73": {
     "id": "3e14d5da-f579-44f4-82cb-b4dbfaeb9b73",
     "prev": "7b653831-8107-432c-85f8-8289dfdc43e0",
     "regions": {
      "2d1dd518-799d-40af-b174-19329c916a38": {
       "attrs": {
        "height": 0.8,
        "width": 0.8,
        "x": 0.1,
        "y": 0.1
       },
       "content": {
        "cell": "808d36b8-e013-46bc-9550-61c8dd854416",
        "part": "whole"
       },
       "id": "2d1dd518-799d-40af-b174-19329c916a38"
      }
     }
    },
    "4a7f9d0a-407e-4970-842f-77736ff8e68a": {
     "id": "4a7f9d0a-407e-4970-842f-77736ff8e68a",
     "prev": "1a793605-0151-4dd7-8d01-926f5b816c3b",
     "regions": {
      "21ddb2e5-6eec-4136-a8fc-8aca7119e311": {
       "attrs": {
        "height": 0.8,
        "width": 0.8,
        "x": 0.1,
        "y": 0.1
       },
       "content": {
        "cell": "ba380f55-c2ae-4508-b6dc-e16162ff72de",
        "part": "whole"
       },
       "id": "21ddb2e5-6eec-4136-a8fc-8aca7119e311"
      }
     }
    },
    "4ef10a4c-35e6-4d29-b1c4-a93958037cc0": {
     "id": "4ef10a4c-35e6-4d29-b1c4-a93958037cc0",
     "prev": "3b28a872-913b-406a-8f0f-873713ddcb3b",
     "regions": {
      "13b3e439-c2dc-4b83-9215-0d1e6401360a": {
       "attrs": {
        "height": 0.8,
        "width": 0.8,
        "x": 0.1,
        "y": 0.1
       },
       "content": {
        "cell": "571c071e-beeb-421c-992c-348cab372831",
        "part": "whole"
       },
       "id": "13b3e439-c2dc-4b83-9215-0d1e6401360a"
      }
     }
    },
    "5c8c76f8-89a8-4c90-b54f-d1531e7b2584": {
     "id": "5c8c76f8-89a8-4c90-b54f-d1531e7b2584",
     "prev": "c797f888-58cb-4543-bea2-189d6a1bd640",
     "regions": {
      "8374648a-6d89-439e-bfa9-52940e968b11": {
       "attrs": {
        "height": 0.8,
        "width": 0.8,
        "x": 0.1,
        "y": 0.1
       },
       "content": {
        "cell": "5ef770c1-380b-40d1-8deb-870f554e0a9b",
        "part": "whole"
       },
       "id": "8374648a-6d89-439e-bfa9-52940e968b11"
      }
     }
    },
    "5d192a77-3fdd-4fd4-bf14-cadbcc78231b": {
     "id": "5d192a77-3fdd-4fd4-bf14-cadbcc78231b",
     "prev": "2ff470f4-52bc-4386-8442-2cf21877dbdf",
     "regions": {
      "0e2b1504-3b78-4e9a-863d-391c4be15b57": {
       "attrs": {
        "height": 0.8,
        "width": 0.8,
        "x": 0.1,
        "y": 0.1
       },
       "content": {
        "cell": "f5beb8f1-91bf-47df-a08b-f837c39bd743",
        "part": "whole"
       },
       "id": "0e2b1504-3b78-4e9a-863d-391c4be15b57"
      }
     }
    },
    "6387fc15-4952-4484-bbd0-9733cfe2ec74": {
     "id": "6387fc15-4952-4484-bbd0-9733cfe2ec74",
     "prev": "685cd95d-64b8-4c34-90c2-4e3e23c9407e",
     "regions": {
      "abdc6f8d-31bf-41ea-8566-e864417b2efe": {
       "attrs": {
        "height": 0.8,
        "width": 0.8,
        "x": 0.1,
        "y": 0.1
       },
       "content": {
        "cell": "ffad82de-520c-4992-8ee6-3e60a443c9be",
        "part": "whole"
       },
       "id": "abdc6f8d-31bf-41ea-8566-e864417b2efe"
      }
     }
    },
    "685cd95d-64b8-4c34-90c2-4e3e23c9407e": {
     "id": "685cd95d-64b8-4c34-90c2-4e3e23c9407e",
     "prev": "c2003bbe-4242-4d8d-b0e3-6953068579c9",
     "regions": {
      "0aa8d564-d35a-4f75-819f-e93b94e8a6c6": {
       "attrs": {
        "height": 0.8,
        "width": 0.8,
        "x": 0.1,
        "y": 0.1
       },
       "content": {
        "cell": "c5a5d0b6-0ac1-4668-a4b2-77bef497e3ac",
        "part": "whole"
       },
       "id": "0aa8d564-d35a-4f75-819f-e93b94e8a6c6"
      }
     }
    },
    "69a8da26-7be5-4e27-a07f-b7ae8c22b95a": {
     "id": "69a8da26-7be5-4e27-a07f-b7ae8c22b95a",
     "prev": "94c3ce01-095e-4115-881a-0f602008776e",
     "regions": {
      "9021e6a0-b48f-44d4-af1c-a2238662399e": {
       "attrs": {
        "height": 0.8,
        "width": 0.8,
        "x": 0.1,
        "y": 0.1
       },
       "content": {
        "cell": "86d1b073-f588-4e07-aeee-e57f89e36258",
        "part": "whole"
       },
       "id": "9021e6a0-b48f-44d4-af1c-a2238662399e"
      }
     }
    },
    "7b653831-8107-432c-85f8-8289dfdc43e0": {
     "id": "7b653831-8107-432c-85f8-8289dfdc43e0",
     "prev": "4a7f9d0a-407e-4970-842f-77736ff8e68a",
     "regions": {
      "dcd016f1-2d32-4c8a-8a01-46f0961ec47d": {
       "attrs": {
        "height": 0.8,
        "width": 0.8,
        "x": 0.1,
        "y": 0.1
       },
       "content": {
        "cell": "30e1beab-c436-4705-bec5-db621302718b",
        "part": "whole"
       },
       "id": "dcd016f1-2d32-4c8a-8a01-46f0961ec47d"
      }
     }
    },
    "827f8aa9-df5a-4ada-8d43-b8bee8c66d0e": {
     "id": "827f8aa9-df5a-4ada-8d43-b8bee8c66d0e",
     "prev": "c48b7fac-ff6d-4856-8d21-3e1ca8525b81",
     "regions": {
      "db8f8e18-96b1-429f-b8ca-a25320846ade": {
       "attrs": {
        "height": 0.8,
        "width": 0.8,
        "x": 0.1,
        "y": 0.1
       },
       "content": {
        "cell": "88bcd378-19c8-42f2-b8bd-8568de6ebbbe",
        "part": "whole"
       },
       "id": "db8f8e18-96b1-429f-b8ca-a25320846ade"
      }
     }
    },
    "8ed3c09d-c72a-4807-baa0-d66faa01590c": {
     "id": "8ed3c09d-c72a-4807-baa0-d66faa01590c",
     "prev": "04605fdd-7a57-4d98-be2b-6414b6fce593",
     "regions": {
      "402842cf-0544-4340-a779-3b0db398f41f": {
       "attrs": {
        "height": 0.8,
        "width": 0.8,
        "x": 0.1,
        "y": 0.1
       },
       "content": {
        "cell": "da0d42bc-57d7-4d98-b45b-3d8dd8947f6a",
        "part": "whole"
       },
       "id": "402842cf-0544-4340-a779-3b0db398f41f"
      }
     }
    },
    "94c3ce01-095e-4115-881a-0f602008776e": {
     "id": "94c3ce01-095e-4115-881a-0f602008776e",
     "prev": "a8b45abb-4649-44a7-8ff4-51d819901f5e",
     "regions": {
      "8f52a956-0c37-46f7-95e8-b3ca712a55c4": {
       "attrs": {
        "height": 0.8,
        "width": 0.8,
        "x": 0.1,
        "y": 0.1
       },
       "content": {
        "cell": "04ea2393-201e-4b82-906f-c7f12f03a04d",
        "part": "whole"
       },
       "id": "8f52a956-0c37-46f7-95e8-b3ca712a55c4"
      }
     }
    },
    "977faca8-3251-426e-98d8-d36d14a80563": {
     "id": "977faca8-3251-426e-98d8-d36d14a80563",
     "prev": "69a8da26-7be5-4e27-a07f-b7ae8c22b95a",
     "regions": {
      "131d157c-06b4-492d-844e-8bd5bc3bf06c": {
       "attrs": {
        "height": 0.8,
        "width": 0.8,
        "x": 0.1,
        "y": 0.1
       },
       "content": {
        "cell": "2116ea49-1900-4d6f-945d-4a08bc4b1e9c",
        "part": "whole"
       },
       "id": "131d157c-06b4-492d-844e-8bd5bc3bf06c"
      }
     }
    },
    "a8b45abb-4649-44a7-8ff4-51d819901f5e": {
     "id": "a8b45abb-4649-44a7-8ff4-51d819901f5e",
     "prev": "3e14d5da-f579-44f4-82cb-b4dbfaeb9b73",
     "regions": {
      "34bb2b3d-77e2-4e1f-b904-739d29fa1368": {
       "attrs": {
        "height": 0.8,
        "width": 0.8,
        "x": 0.1,
        "y": 0.1
       },
       "content": {
        "cell": "436bfbc5-05b5-41c1-bc5b-952343bead70",
        "part": "whole"
       },
       "id": "34bb2b3d-77e2-4e1f-b904-739d29fa1368"
      }
     }
    },
    "b4e39a51-429b-4b9f-8af1-5d20f175ddd2": {
     "id": "b4e39a51-429b-4b9f-8af1-5d20f175ddd2",
     "prev": "8ed3c09d-c72a-4807-baa0-d66faa01590c",
     "regions": {
      "9f97e8d6-fc39-4954-95ed-8692e527096d": {
       "attrs": {
        "height": 0.8,
        "width": 0.8,
        "x": 0.1,
        "y": 0.1
       },
       "content": {
        "cell": "b90ca63a-4aad-4afa-820f-ec94923ee800",
        "part": "whole"
       },
       "id": "9f97e8d6-fc39-4954-95ed-8692e527096d"
      }
     }
    },
    "c2003bbe-4242-4d8d-b0e3-6953068579c9": {
     "id": "c2003bbe-4242-4d8d-b0e3-6953068579c9",
     "prev": "827f8aa9-df5a-4ada-8d43-b8bee8c66d0e",
     "regions": {
      "33362406-f96c-407e-b9a0-0508776c86c4": {
       "attrs": {
        "height": 0.8,
        "width": 0.8,
        "x": 0.1,
        "y": 0.1
       },
       "content": {
        "cell": "964874d7-eb86-4429-a27a-5114d0a7afa6",
        "part": "whole"
       },
       "id": "33362406-f96c-407e-b9a0-0508776c86c4"
      }
     }
    },
    "c48b7fac-ff6d-4856-8d21-3e1ca8525b81": {
     "id": "c48b7fac-ff6d-4856-8d21-3e1ca8525b81",
     "prev": "cd22109b-4a6a-4573-89b9-f8c7179a2b99",
     "regions": {
      "8a94d942-2158-46f9-9121-64145744865d": {
       "attrs": {
        "height": 0.8,
        "width": 0.8,
        "x": 0.1,
        "y": 0.1
       },
       "content": {
        "cell": "90c56580-b6f7-4e2c-ab85-33718726ca40",
        "part": "whole"
       },
       "id": "8a94d942-2158-46f9-9121-64145744865d"
      }
     }
    },
    "c797f888-58cb-4543-bea2-189d6a1bd640": {
     "id": "c797f888-58cb-4543-bea2-189d6a1bd640",
     "prev": "5d192a77-3fdd-4fd4-bf14-cadbcc78231b",
     "regions": {
      "abf09b69-f9fd-4ff0-b3ae-463d65d2bfa4": {
       "attrs": {
        "height": 0.8,
        "width": 0.8,
        "x": 0.1,
        "y": 0.1
       },
       "content": {
        "cell": "5e4944eb-34cf-4235-ad5a-624eedae7ca8",
        "part": "whole"
       },
       "id": "abf09b69-f9fd-4ff0-b3ae-463d65d2bfa4"
      }
     }
    },
    "cd22109b-4a6a-4573-89b9-f8c7179a2b99": {
     "id": "cd22109b-4a6a-4573-89b9-f8c7179a2b99",
     "prev": "cfdeca0d-766e-4908-ba01-91690762b62d",
     "regions": {
      "6192c991-44f5-436e-8ee8-22391c732d91": {
       "attrs": {
        "height": 0.8,
        "width": 0.8,
        "x": 0.1,
        "y": 0.1
       },
       "content": {
        "cell": "9aa6ad98-3977-4ff3-beaa-8981b4116811",
        "part": "whole"
       },
       "id": "6192c991-44f5-436e-8ee8-22391c732d91"
      }
     }
    },
    "cfdeca0d-766e-4908-ba01-91690762b62d": {
     "id": "cfdeca0d-766e-4908-ba01-91690762b62d",
     "prev": "5c8c76f8-89a8-4c90-b54f-d1531e7b2584",
     "regions": {
      "464787cf-7ea9-40df-a7fe-b717d2d2687b": {
       "attrs": {
        "height": 0.8,
        "width": 0.8,
        "x": 0.1,
        "y": 0.1
       },
       "content": {
        "cell": "1d95cf61-a84a-4b06-b62f-36457e5c7d7e",
        "part": "whole"
       },
       "id": "464787cf-7ea9-40df-a7fe-b717d2d2687b"
      }
     }
    },
    "f84955f2-4ce5-4093-b143-2b50174ef542": {
     "id": "f84955f2-4ce5-4093-b143-2b50174ef542",
     "prev": "37019bfb-7cb9-41fd-bd7b-edb018653339",
     "regions": {
      "efeb58d8-44a0-42ec-afc9-e0c112215ced": {
       "attrs": {
        "height": 0.8,
        "width": 0.8,
        "x": 0.1,
        "y": 0.1
       },
       "content": {
        "cell": "d6790838-f8ef-4452-a443-065de6b88635",
        "part": "whole"
       },
       "id": "efeb58d8-44a0-42ec-afc9-e0c112215ced"
      }
     }
    }
   },
   "themes": {}
  }
 },
 "nbformat": 4,
 "nbformat_minor": 1
}
