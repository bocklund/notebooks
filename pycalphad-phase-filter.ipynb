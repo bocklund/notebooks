{
 "cells": [
  {
   "cell_type": "markdown",
   "metadata": {},
   "source": [
    "# pycalphad phase filter\n",
    "\n",
    "Some sample code that removes phases that have sublattices with only inactive components from the phase list\n",
    "\n",
    "The database loaded is a Al-Co-Cr-Ni database. We have defined components that are only Al-Ni-Co (excluding Cr). The goal is to filter out phases that are invalid because they have sublattices that contain Cr"
   ]
  },
  {
   "cell_type": "code",
   "execution_count": 13,
   "metadata": {},
   "outputs": [],
   "source": [
    "from pycalphad import Database\n",
    "from pycalphad.tests.datasets import ALCOCRNI_TDB\n",
    "\n",
    "dbf = Database.from_string(ALCOCRNI_TDB, fmt='tdb')"
   ]
  },
  {
   "cell_type": "code",
   "execution_count": 14,
   "metadata": {},
   "outputs": [],
   "source": [
    "comps = ['AL', 'NI', 'CO', 'VA'] # missing CR\n",
    "phases = [phase for phase in dbf.phases.keys() if all(\n",
    "         len(set(comps).intersection(subl)) > 0 for subl in dbf.phases[phase].constituents)] "
   ]
  },
  {
   "cell_type": "code",
   "execution_count": 15,
   "metadata": {},
   "outputs": [
    {
     "name": "stdout",
     "output_type": "stream",
     "text": [
      "Phases included: ['BCC_B2', 'AL13CO4', 'AL3NI2', 'L12_FCC', 'AL9CO2', 'AL3CO', 'HCP_A3', 'AL3NI5', 'AL5CO2', 'LIQUID', 'AL3NI1', 'FCC_A1', 'BCC_A2']\n",
      "\n",
      "Phases excluded: {'AL8CR5_L', 'SIGMA_SGTE', 'AL9CR4_H', 'AL11CR2', 'ALCR2', 'AL8CR5_H', 'AL9CR4_L', 'AL4CR', 'AL13CR2'}\n"
     ]
    }
   ],
   "source": [
    "print('Phases included: {}\\n'.format(phases))\n",
    "print('Phases excluded: {}'.format(dbf.phases.keys()-set(phases)))"
   ]
  },
  {
   "cell_type": "code",
   "execution_count": 16,
   "metadata": {},
   "outputs": [
    {
     "name": "stdout",
     "output_type": "stream",
     "text": [
      "Constituents of excluded phases:\n",
      "AL8CR5_L  : (frozenset({'AL'}), frozenset({'CR'}))\n",
      "SIGMA_SGTE: (frozenset({'NI', 'AL', 'CO'}), frozenset({'NI', 'AL', 'CO', 'CR'}), frozenset({'CR'}))\n",
      "AL9CR4_H  : (frozenset({'AL'}), frozenset({'CR'}))\n",
      "AL11CR2   : (frozenset({'AL'}), frozenset({'AL'}), frozenset({'CR'}))\n",
      "ALCR2     : (frozenset({'AL'}), frozenset({'CR'}))\n",
      "AL8CR5_H  : (frozenset({'AL'}), frozenset({'CR'}))\n",
      "AL9CR4_L  : (frozenset({'AL'}), frozenset({'CR'}))\n",
      "AL4CR     : (frozenset({'AL'}), frozenset({'CR'}))\n",
      "AL13CR2   : (frozenset({'AL'}), frozenset({'CR'}))\n"
     ]
    }
   ],
   "source": [
    "print('Constituents of excluded phases:')\n",
    "for ph in dbf.phases.keys()-set(phases):\n",
    "    print('{:10}: {}'.format(ph, dbf.phases[ph].constituents))"
   ]
  }
 ],
 "metadata": {
  "kernelspec": {
   "display_name": "Python 3",
   "language": "python",
   "name": "python3"
  },
  "language_info": {
   "codemirror_mode": {
    "name": "ipython",
    "version": 3
   },
   "file_extension": ".py",
   "mimetype": "text/x-python",
   "name": "python",
   "nbconvert_exporter": "python",
   "pygments_lexer": "ipython3",
   "version": "3.5.2"
  }
 },
 "nbformat": 4,
 "nbformat_minor": 2
}
