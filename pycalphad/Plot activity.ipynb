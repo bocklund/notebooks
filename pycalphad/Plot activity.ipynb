{
 "cells": [
  {
   "cell_type": "markdown",
   "metadata": {},
   "source": [
    "# Calculate activity with pycalphad\n",
    "\n",
    "Set up the database"
   ]
  },
  {
   "cell_type": "code",
   "execution_count": 2,
   "metadata": {},
   "outputs": [
    {
     "name": "stderr",
     "output_type": "stream",
     "text": [
      "/Users/brandon/anaconda3/envs/pycalphad/lib/python3.6/site-packages/xarray/core/formatting.py:16: FutureWarning: The pandas.tslib module is deprecated and will be removed in a future version.\n",
      "  from pandas.tslib import OutOfBoundsDatetime\n"
     ]
    }
   ],
   "source": [
    "from pycalphad import Database, equilibrium, variables as v\n",
    "import numpy as np\n",
    "\n",
    "# Database from Zhou, C., Guo, C., Li, C. & Du, Z. Thermodynamic assessment of the phase equilibria and prediction of glass-forming ability of the Al–Cu–Zr system. J. Non. Cryst. Solids 461, 47–60 (2017).\n",
    "dbf = Database('Al-Cu-Zr_Zhou.TDB') \n",
    "\n",
    "comps = ['CU', 'ZR', 'VA']\n",
    "# There are lots of phases in Al-Cu-Zr, but we only want the ones that describe Cu-Zr.\n",
    "# Filter out the phases that don't have any of the comps in a sublattice\n",
    "phases = [phase for phase in dbf.phases.keys() \n",
    "          if all(len(set(comps).intersection(subl)) > 0 for subl in dbf.phases[phase].constituents)] "
   ]
  },
  {
   "cell_type": "markdown",
   "metadata": {},
   "source": [
    "## Activity data\n",
    "Activties are digtized from Fig 5 in Zaitsev, A. I., Zaitseva, N. E., Alexeeva, J. P., Dunaev, S. F. & Nechaev, Y. S. Thermodynamics and amorphization of the copper–zirconium alloys. Phys. Chem. Chem. Phys. 5, 4185–4196 (2003).\n",
    "\n",
    "The measurements at at 1623 K and the reference is the pure components at that temperatures."
   ]
  },
  {
   "cell_type": "code",
   "execution_count": 3,
   "metadata": {},
   "outputs": [],
   "source": [
    "temperature = 1623\n",
    "exp_acr_cu = [1.00000, 0.94445795, 0.8853034, 0.81050104, 0.76030916, 0.71867985, 0.6638515, 0.6107617, 0.5542213, 0.50262356, 0.44120756, 0.3798061, 0.32600257, 0.26583955, 0.20161846, 0.15157665, 0.119181104, 0.09424159, 0.066696145, 0.045932073, 0.044422694, 0.044210993, 0.04480312, 0.044530697, 0.02343831, 0]\n",
    "exp_x_zr = [0, 0.050927155, 0.10347285, 0.14980622, 0.18914688, 0.21043298, 0.24472165, 0.27006668, 0.30789167, 0.33137769, 0.36974367, 0.40512633, 0.44650444, 0.48860443, 0.53740174, 0.58942246, 0.62883025, 0.65987545, 0.70396316, 0.74770355, 0.7531053, 0.7965503, 0.8489486, 0.94833225, 0.97249275, 1.0]"
   ]
  },
  {
   "cell_type": "markdown",
   "metadata": {},
   "source": [
    "## Calculate the reference state\n",
    "\n",
    "You could also do this in the normal equilibrium calculation and select out the point you want (as long as it is in the calculation), but it might be clear to be more explicit."
   ]
  },
  {
   "cell_type": "code",
   "execution_count": 4,
   "metadata": {},
   "outputs": [],
   "source": [
    "ref_eq = equilibrium(dbf, comps, phases, {v.P: 101325, v.T: temperature, v.X('ZR'): 0})"
   ]
  },
  {
   "cell_type": "markdown",
   "metadata": {},
   "source": [
    "## Calculate the equilibria\n",
    "\n",
    "Do the calculation over the compoisition range"
   ]
  },
  {
   "cell_type": "code",
   "execution_count": 5,
   "metadata": {},
   "outputs": [],
   "source": [
    "eq = equilibrium(dbf, comps, phases, {v.P: 1013325, v.T: temperature, v.X('ZR'): (0, 1, 0.005)})"
   ]
  },
  {
   "cell_type": "markdown",
   "metadata": {},
   "source": [
    "## Get the chemical potentials\n",
    "\n",
    "We need to select the chemical potentials from the xarray"
   ]
  },
  {
   "cell_type": "code",
   "execution_count": 6,
   "metadata": {},
   "outputs": [],
   "source": [
    "chempot_ref = ref_eq.MU.sel(component='CU').squeeze()\n",
    "chempot = eq.MU.sel(component='CU').squeeze()"
   ]
  },
  {
   "cell_type": "markdown",
   "metadata": {},
   "source": [
    "# Calculate activity using\n",
    "\n",
    "$ \\mu_i = \\mu_i^0 + RT\\ln a_i$\n",
    "\n",
    "rearranged to \n",
    "\n",
    "$ a_i = \\exp \\left(\\frac{\\mu_i - \\mu_i^0}{RT}\\right) $"
   ]
  },
  {
   "cell_type": "code",
   "execution_count": 7,
   "metadata": {},
   "outputs": [],
   "source": [
    "acr_cu = np.exp((chempot - chempot_ref)/(8.315*temperature))"
   ]
  },
  {
   "cell_type": "markdown",
   "metadata": {},
   "source": [
    "# Plot the result"
   ]
  },
  {
   "cell_type": "code",
   "execution_count": 8,
   "metadata": {},
   "outputs": [
    {
     "data": {
      "text/plain": [
       "<matplotlib.text.Text at 0x1142565f8>"
      ]
     },
     "execution_count": 8,
     "metadata": {},
     "output_type": "execute_result"
    },
    {
     "data": {
      "image/png": "[encoded data removed]",
      "text/plain": [
       "<matplotlib.figure.Figure at 0x10cccd358>"
      ]
     },
     "metadata": {},
     "output_type": "display_data"
    }
   ],
   "source": [
    "%matplotlib inline\n",
    "import matplotlib.pyplot as plt\n",
    "plt.plot(eq.X.sel(component='ZR', vertex=0).squeeze(), acr_cu)\n",
    "plt.scatter(exp_x_zr, exp_acr_cu)\n",
    "plt.xlabel('X(ZR)')\n",
    "plt.ylabel('a(CU)')\n",
    "plt.title('Activity of Cu at 1673K')"
   ]
  },
  {
   "cell_type": "code",
   "execution_count": null,
   "metadata": {},
   "outputs": [],
   "source": []
  }
 ],
 "metadata": {
  "anaconda-cloud": {},
  "kernelspec": {
   "display_name": "Python [conda env:pycalphad]",
   "language": "python",
   "name": "conda-env-pycalphad-py"
  },
  "language_info": {
   "codemirror_mode": {
    "name": "ipython",
    "version": 3
   },
   "file_extension": ".py",
   "mimetype": "text/x-python",
   "name": "python",
   "nbconvert_exporter": "python",
   "pygments_lexer": "ipython3",
   "version": "3.6.1"
  }
 },
 "nbformat": 4,
 "nbformat_minor": 1
}
